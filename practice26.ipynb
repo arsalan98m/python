{
 "cells": [
  {
   "cell_type": "code",
   "execution_count": 1,
   "metadata": {},
   "outputs": [],
   "source": [
    "def addnum():\n",
    "    first_num = \"3\"\n",
    "    second_num = \"3\"\n",
    "    result = first_num + second_num\n",
    "    print(result)"
   ]
  },
  {
   "cell_type": "code",
   "execution_count": 3,
   "metadata": {},
   "outputs": [
    {
     "name": "stdout",
     "output_type": "stream",
     "text": [
      "33\n"
     ]
    }
   ],
   "source": [
    "addnum()"
   ]
  },
  {
   "cell_type": "code",
   "execution_count": 4,
   "metadata": {},
   "outputs": [],
   "source": [
    "def addnum():\n",
    "    first_num = 3\n",
    "    second_num = 3\n",
    "    result = first_num + second_num\n",
    "    print(result)"
   ]
  },
  {
   "cell_type": "code",
   "execution_count": 5,
   "metadata": {},
   "outputs": [
    {
     "name": "stdout",
     "output_type": "stream",
     "text": [
      "6\n"
     ]
    }
   ],
   "source": [
    "addnum()"
   ]
  },
  {
   "cell_type": "code",
   "execution_count": 6,
   "metadata": {},
   "outputs": [],
   "source": [
    "def addnum(first_num,second_num):\n",
    "    result = first_num + second_num\n",
    "    print(result)\n",
    "    "
   ]
  },
  {
   "cell_type": "code",
   "execution_count": 9,
   "metadata": {},
   "outputs": [
    {
     "name": "stdout",
     "output_type": "stream",
     "text": [
      "30\n"
     ]
    }
   ],
   "source": [
    "addnum(10, 20)"
   ]
  },
  {
   "cell_type": "code",
   "execution_count": 10,
   "metadata": {},
   "outputs": [],
   "source": [
    "def addnum(first_num,second_num):\n",
    "    result = first_num + second_num\n",
    "    print(result)\n",
    "\n",
    "firstnum = 2\n",
    "secondnum = 3\n",
    "\n"
   ]
  },
  {
   "cell_type": "code",
   "execution_count": 11,
   "metadata": {},
   "outputs": [
    {
     "name": "stdout",
     "output_type": "stream",
     "text": [
      "5\n"
     ]
    }
   ],
   "source": [
    "addnum(firstnum,secondnum)"
   ]
  },
  {
   "cell_type": "code",
   "execution_count": 12,
   "metadata": {},
   "outputs": [
    {
     "name": "stdout",
     "output_type": "stream",
     "text": [
      "5\n"
     ]
    }
   ],
   "source": [
    "def addnum(num1, num2):\n",
    "    result = num1 + num2\n",
    "    print(result)\n",
    "\n",
    "firstnum = 2\n",
    "secondnum = 3\n",
    "addnum(firstnum,secondnum)"
   ]
  },
  {
   "cell_type": "code",
   "execution_count": 13,
   "metadata": {},
   "outputs": [
    {
     "name": "stdout",
     "output_type": "stream",
     "text": [
      "7\n"
     ]
    }
   ],
   "source": [
    "firstnum = 4\n",
    "secondnum = 3\n",
    "\n",
    "def addnum(num1, num2):\n",
    "    result = num1 + num2\n",
    "    print(result)\n",
    "\n",
    "addnum(firstnum, secondnum)"
   ]
  },
  {
   "cell_type": "code",
   "execution_count": 16,
   "metadata": {},
   "outputs": [
    {
     "name": "stdout",
     "output_type": "stream",
     "text": [
      "12\n"
     ]
    }
   ],
   "source": [
    "def addnum(num1, num2):\n",
    "    result = num1 + num2\n",
    "    print(result)\n",
    "    \n",
    "addnum(num1 = 10, num2 = 2)"
   ]
  },
  {
   "cell_type": "code",
   "execution_count": 18,
   "metadata": {},
   "outputs": [
    {
     "name": "stdout",
     "output_type": "stream",
     "text": [
      "-4\n"
     ]
    }
   ],
   "source": [
    "first_num = 8\n",
    "second_num = 4\n",
    "\n",
    "def addnum(secondnum,firstnum):\n",
    "    result = firstnum - secondnum\n",
    "    print(result)\n",
    "\n",
    "addnum(first_num, second_num)"
   ]
  },
  {
   "cell_type": "code",
   "execution_count": 19,
   "metadata": {},
   "outputs": [
    {
     "name": "stdout",
     "output_type": "stream",
     "text": [
      "30\n"
     ]
    }
   ],
   "source": [
    "firstnum = 10\n",
    "\n",
    "def default_param(ten, twenty =20):\n",
    "    result = ten + twenty\n",
    "    print(result)\n",
    "\n",
    "default_param(firstnum)"
   ]
  },
  {
   "cell_type": "code",
   "execution_count": 22,
   "metadata": {},
   "outputs": [
    {
     "name": "stdout",
     "output_type": "stream",
     "text": [
      "SMIT Python Programming 3 months\n"
     ]
    }
   ],
   "source": [
    "i_name = \"SMIT\"\n",
    "\n",
    "def course_detail(inst_name,duration, lang=\"Python Programming\"):\n",
    "    print(inst_name + \" \" + lang + \" \" + duration)\n",
    "\n",
    "course_detail(i_name,duration=\"3 months\")"
   ]
  },
  {
   "cell_type": "code",
   "execution_count": 25,
   "metadata": {},
   "outputs": [
    {
     "name": "stdout",
     "output_type": "stream",
     "text": [
      "SMIT Java 3 months\n"
     ]
    }
   ],
   "source": [
    "course_detail(i_name,duration=\"3 months\",lang=\"Java\")"
   ]
  },
  {
   "cell_type": "code",
   "execution_count": 34,
   "metadata": {},
   "outputs": [
    {
     "ename": "SyntaxError",
     "evalue": "positional argument follows keyword argument (<ipython-input-34-b80b9bc02914>, line 7)",
     "output_type": "error",
     "traceback": [
      "\u001b[1;36m  File \u001b[1;32m\"<ipython-input-34-b80b9bc02914>\"\u001b[1;36m, line \u001b[1;32m7\u001b[0m\n\u001b[1;33m    func(name=\"Arsalan\", fname=\"Manzoor\", \"arsalan@gmail.com\",\"122331221\",\"Karachi\")\u001b[0m\n\u001b[1;37m                                         ^\u001b[0m\n\u001b[1;31mSyntaxError\u001b[0m\u001b[1;31m:\u001b[0m positional argument follows keyword argument\n"
     ]
    }
   ],
   "source": [
    "def func(name, fname, *params):\n",
    "    print(\"my name is \"+name+\" \" + fname)\n",
    "    \n",
    "    for param in params:\n",
    "        print(param)\n",
    "\n",
    "func(name=\"Arsalan\", fname=\"Manzoor\", \"arsalan@gmail.com\",\"122331221\",\"Karachi\")"
   ]
  },
  {
   "cell_type": "code",
   "execution_count": 35,
   "metadata": {},
   "outputs": [
    {
     "name": "stdout",
     "output_type": "stream",
     "text": [
      "my name is Arsalan Manzoor\n",
      "arsalan@gmail.com\n",
      "122331221\n",
      "Karachi\n"
     ]
    }
   ],
   "source": [
    "def func(name, fname, *params):\n",
    "    print(\"my name is \"+name+\" \" + fname)\n",
    "    \n",
    "    for param in params:\n",
    "        print(param)\n",
    "\n",
    "func(\"Arsalan\",\"Manzoor\", \"arsalan@gmail.com\",\"122331221\",\"Karachi\")"
   ]
  },
  {
   "cell_type": "code",
   "execution_count": null,
   "metadata": {},
   "outputs": [],
   "source": []
  }
 ],
 "metadata": {
  "kernelspec": {
   "display_name": "Python 3",
   "language": "python",
   "name": "python3"
  },
  "language_info": {
   "codemirror_mode": {
    "name": "ipython",
    "version": 3
   },
   "file_extension": ".py",
   "mimetype": "text/x-python",
   "name": "python",
   "nbconvert_exporter": "python",
   "pygments_lexer": "ipython3",
   "version": "3.7.3"
  }
 },
 "nbformat": 4,
 "nbformat_minor": 2
}
