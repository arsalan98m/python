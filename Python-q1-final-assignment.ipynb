{
 "cells": [
  {
   "cell_type": "markdown",
   "metadata": {},
   "source": [
    "**1. Calculate Area of a Circle**\n",
    "\n",
    "Write a Python program which accepts the radius of a circle from the user and compute the area."
   ]
  },
  {
   "cell_type": "code",
   "execution_count": 17,
   "metadata": {},
   "outputs": [
    {
     "name": "stdout",
     "output_type": "stream",
     "text": [
      "Enter radius of circle: 0.5\n",
      "Area of Cirlce with radius0.5 is 0.7853981635\n"
     ]
    }
   ],
   "source": [
    "radius = float(input(\"Enter radius of circle: \"))\n",
    "area = 3.141592654 * radius ** 2\n",
    "print(\"Area of Cirlce with radius\"+str(radius) +\" is \"+str(area))"
   ]
  },
  {
   "cell_type": "markdown",
   "metadata": {},
   "source": [
    "**2.\tCheck Number either positive, negative or zero**\n",
    "\n",
    "Write a Python program to check if a number is positive, negative or zero"
   ]
  },
  {
   "cell_type": "code",
   "execution_count": 21,
   "metadata": {},
   "outputs": [
    {
     "name": "stdout",
     "output_type": "stream",
     "text": [
      "Enter number: 0\n",
      "Number is Zero.\n"
     ]
    }
   ],
   "source": [
    "number = int(input(\"Enter number: \"))\n",
    "\n",
    "if number < 0:\n",
    "    print(\"Number is negative.\")\n",
    "elif number > 0:\n",
    "    print(\"Number is positive.\")\n",
    "elif number == 0:\n",
    "    print(\"Number is Zero.\")\n",
    "else:\n",
    "    print(\"Invalid Number.\")\n"
   ]
  },
  {
   "cell_type": "markdown",
   "metadata": {},
   "source": [
    "**3.\tDivisibility Check of two numbers**\n",
    "\n",
    "\n",
    "Write a Python program to check whether a number is completely divisible by another number. Accept two integer values form the user"
   ]
  },
  {
   "cell_type": "code",
   "execution_count": 24,
   "metadata": {},
   "outputs": [
    {
     "name": "stdout",
     "output_type": "stream",
     "text": [
      "Enter Numerator: 4\n",
      "Enter Denominator: 2\n",
      "4 is completely divisible by 2\n"
     ]
    }
   ],
   "source": [
    "numerator = int(input(\"Enter Numerator: \"))\n",
    "denominator = int(input(\"Enter Denominator: \"))\n",
    "\n",
    "if numerator % denominator == 0:\n",
    "    print(str(numerator)+ \" is completely divisible by \"+str(denominator))\n",
    "else:\n",
    "    print(str(numerator)+ \" is not completely divisible by \"+str(denominator))\n"
   ]
  },
  {
   "cell_type": "markdown",
   "metadata": {},
   "source": [
    "**4.\tDays Calculator**\n",
    "\n",
    "Write a Python program to calculate number of days between two dates"
   ]
  },
  {
   "cell_type": "code",
   "execution_count": 34,
   "metadata": {},
   "outputs": [
    {
     "name": "stdout",
     "output_type": "stream",
     "text": [
      "Enter a date in (dd/mm/yy): 12/11/2018\n",
      "Enter a date in (dd/mm/yy): 19/11/2019\n",
      "There are 372 days in between 12/11/2018 and 19/11/2019\n"
     ]
    }
   ],
   "source": [
    "from datetime import datetime\n",
    "date_format = \"%d/%m/%Y\"\n",
    "\n",
    "date_1 = input(\"Enter a date in (dd/mm/yy): \")\n",
    "date_2 = input(\"Enter a date in (dd/mm/yy): \")\n",
    "a = datetime.strptime(date_1,date_format)\n",
    "b = datetime.strptime(date_2,date_format)\n",
    "delta = b - a\n",
    "print(\"There are\",delta.days,\"days in between\",date_1,\"and\",date_2)"
   ]
  },
  {
   "cell_type": "markdown",
   "metadata": {},
   "source": [
    "**5.\tCalculate Volume of a sphere**\n",
    "\n",
    "Write a Python program to get the volume of a sphere, please take the radius as input from user"
   ]
  },
  {
   "cell_type": "code",
   "execution_count": 37,
   "metadata": {},
   "outputs": [
    {
     "name": "stdout",
     "output_type": "stream",
     "text": [
      "Enter radius of sphere: 1\n",
      "Volume of the sphere with Radius 1 is 4.189333333333333\n"
     ]
    }
   ],
   "source": [
    "radius_of_sphere = int(input(\"Enter radius of sphere: \"))\n",
    "volume_of_sphere = 4/3 * 3.142 * radius_of_sphere ** 3\n",
    "print(\"Volume of the sphere with Radius\",radius_of_sphere,\"is\",volume_of_sphere)"
   ]
  },
  {
   "cell_type": "markdown",
   "metadata": {},
   "source": [
    "**6.\tCopy string n times**\n",
    "\n",
    "Write a Python program to get a string which is n (non-negative integer) copies of a given string. "
   ]
  },
  {
   "cell_type": "code",
   "execution_count": 39,
   "metadata": {},
   "outputs": [
    {
     "name": "stdout",
     "output_type": "stream",
     "text": [
      "Enter String: hi\n",
      "How many copies of string you need: 10\n",
      "10 Copies of hi are hihihihihihihihihihi\n"
     ]
    }
   ],
   "source": [
    "string = input(\"Enter String: \")\n",
    "copies = int(input(\"How many copies of string you need: \"))\n",
    "print(str(copies) + \" Copies of \"+string+\" are \"+string * copies)"
   ]
  },
  {
   "cell_type": "markdown",
   "metadata": {},
   "source": [
    "**7.\tCheck if number is Even or Odd**\n",
    "\n",
    "Write a Python program to find whether a given number (accept from the user) is even or odd, print out an appropriate message to the user"
   ]
  },
  {
   "cell_type": "code",
   "execution_count": 43,
   "metadata": {},
   "outputs": [
    {
     "name": "stdout",
     "output_type": "stream",
     "text": [
      "Enter Number: 8\n",
      "8 is even\n"
     ]
    }
   ],
   "source": [
    "number = int(input(\"Enter Number: \"))\n",
    "\n",
    "if number % 2 == 0:\n",
    "    print(number,\"is even\")\n",
    "else:\n",
    "    print(number,\"is odd\")"
   ]
  },
  {
   "cell_type": "markdown",
   "metadata": {},
   "source": [
    "**8.\tVowel Tester**\n",
    "\n",
    "Write a Python program to test whether a passed letter is a vowel or not"
   ]
  },
  {
   "cell_type": "code",
   "execution_count": 5,
   "metadata": {},
   "outputs": [
    {
     "name": "stdout",
     "output_type": "stream",
     "text": [
      "Enter Letter: N\n",
      "Letter N is Not vowel.\n"
     ]
    }
   ],
   "source": [
    "letter = input(\"Enter Letter: \")\n",
    "c = letter.lower()\n",
    "if c == \"a\" or c == \"e\" or c == \"i\" or c == \"o\" or c == \"u\":\n",
    "    print(\"Letter\",letter,\"is vowel.\")\n",
    "else:\n",
    "    print(\"Letter\",letter,\"is Not vowel.\")"
   ]
  },
  {
   "cell_type": "markdown",
   "metadata": {},
   "source": [
    "**9.\tTriangle area**\n",
    "\n",
    "Write a Python program that will accept the base and height of a triangle and compute the area"
   ]
  },
  {
   "cell_type": "code",
   "execution_count": 8,
   "metadata": {},
   "outputs": [
    {
     "name": "stdout",
     "output_type": "stream",
     "text": [
      "Enter magnitude of triangle base10\n",
      "Enter magnitude of triangle height4\n",
      "Area of a Triangle with Height 4 and Base 10 is 20\n"
     ]
    }
   ],
   "source": [
    "t_base = int(input(\"Enter magnitude of triangle base\"))\n",
    "t_height = int(input(\"Enter magnitude of triangle height\"))\n",
    "area_of_triangle = t_base * t_height //2\n",
    "print(\"Area of a Triangle with Height\", t_height,\"and Base\",t_base,\"is\",area_of_triangle)"
   ]
  },
  {
   "cell_type": "markdown",
   "metadata": {},
   "source": [
    "**10.\tCalculate Interest**\n",
    "\n",
    "Write a Python program to compute the future value of a specified principal amount, rate of interest, and a number of years"
   ]
  },
  {
   "cell_type": "code",
   "execution_count": 14,
   "metadata": {},
   "outputs": [
    {
     "name": "stdout",
     "output_type": "stream",
     "text": [
      "Enter principle amount: 10000\n",
      "Enter rate of interest in %: 0.1\n",
      "Enter number of years of investment: 5\n",
      "After 5 years your principle amount 10000 over an interest of 0.1 % will be 16105.100000000006\n"
     ]
    }
   ],
   "source": [
    "p = int(input(\"Enter principle amount: \"))\n",
    "i = float(input(\"Enter rate of interest in %: \"))\n",
    "t = int(input(\"Enter number of years of investment: \"))\n",
    "r = p*((1+(i)) ** t)\n",
    "print(\"After\",t,\"years your principle amount\",p,\"over an interest of\",i,\"% will be\",r)"
   ]
  },
  {
   "cell_type": "markdown",
   "metadata": {},
   "source": [
    "**11.\tEuclidean distance**\n",
    "\n",
    "Write a Python program to compute the distance between the points (x1, y1) and (x2, y2)."
   ]
  },
  {
   "cell_type": "code",
   "execution_count": 22,
   "metadata": {},
   "outputs": [
    {
     "name": "stdout",
     "output_type": "stream",
     "text": [
      "Enter Co-ordinate for x1: 10\n",
      "Enter Co-ordinate for x2: 9\n",
      "Enter Co-ordinate for y1: 2\n",
      "Enter Co-ordinate for y2: 1\n",
      "Distance between Points (10, 9) and (2, 1) is 1.4142135623730951\n"
     ]
    }
   ],
   "source": [
    "import math\n",
    "x1 = int(input(\"Enter Co-ordinate for x1: \"))\n",
    "x2 = int(input(\"Enter Co-ordinate for x2: \"))\n",
    "y1 = int(input(\"Enter Co-ordinate for y1: \"))\n",
    "y2 = int(input(\"Enter Co-ordinate for y2: \"))\n",
    "\n",
    "distance = (x1 - x2)*(x1 - x2) + (y1 - y2)*(y1 - y2)\n",
    "e = math.sqrt(distance)\n",
    "print(\"Distance between Points\",(x1,x2),\"and\",(y1,y2),\"is\",e)"
   ]
  },
  {
   "cell_type": "markdown",
   "metadata": {},
   "source": [
    "**12.\tFeet to Centimeter Converter**\n",
    "\n",
    "Write a Python program to convert height in feet to centimetres."
   ]
  },
  {
   "cell_type": "code",
   "execution_count": 25,
   "metadata": {},
   "outputs": [
    {
     "name": "stdout",
     "output_type": "stream",
     "text": [
      "Enter Height in Feet: 5\n",
      "There are 152.4 Cm in 5 ft\n"
     ]
    }
   ],
   "source": [
    "height = int(input(\"Enter Height in Feet: \"))\n",
    "d = height * 30.48\n",
    "print(\"There are\",d,\"Cm in\",height,\"ft\")"
   ]
  },
  {
   "cell_type": "markdown",
   "metadata": {},
   "source": [
    "**13.\tBMI Calculator**\n",
    "\n",
    "Write a Python program to calculate body mass index"
   ]
  },
  {
   "cell_type": "code",
   "execution_count": 41,
   "metadata": {},
   "outputs": [
    {
     "name": "stdout",
     "output_type": "stream",
     "text": [
      "Enter Height in Cm: 180\n",
      "Enter Weight in kg: 75\n",
      "Your BMI is 23.148148148148145\n"
     ]
    }
   ],
   "source": [
    "h = int(input(\"Enter Height in Cm: \"))\n",
    "w = int(input(\"Enter Weight in kg: \"))\n",
    "\n",
    "bmi = (w / (h * 0.01) ** 2)\n",
    "print(\"Your BMI is\",bmi)"
   ]
  },
  {
   "cell_type": "markdown",
   "metadata": {},
   "source": [
    "**14.\tSum of n Positive Integers**\n",
    "\n",
    "Write a python program to sum of the first n positive integers"
   ]
  },
  {
   "cell_type": "code",
   "execution_count": 46,
   "metadata": {},
   "outputs": [
    {
     "name": "stdout",
     "output_type": "stream",
     "text": [
      "Enter a value of n: 4\n",
      "Sum of n Postive integers till 4 is 10\n"
     ]
    }
   ],
   "source": [
    "n = int(input(\"Enter a value of n: \"))\n",
    "total = n * (n+1)//2\n",
    "print(\"Sum of n Postive integers till\",n,\"is\",total)"
   ]
  },
  {
   "cell_type": "markdown",
   "metadata": {},
   "source": [
    "**15.\tDigits Sum of a Number**\n",
    "\n",
    "Write a Python program to calculate the sum of the digits in an integer"
   ]
  },
  {
   "cell_type": "code",
   "execution_count": 67,
   "metadata": {},
   "outputs": [
    {
     "name": "stdout",
     "output_type": "stream",
     "text": [
      "Enter a number: 1234\n",
      "Sum of 1+2+3+4 is 10\n"
     ]
    }
   ],
   "source": [
    "n = input(\"Enter a number: \")\n",
    "\n",
    "total = 0\n",
    "for number in n:\n",
    "    total += int(number)\n",
    "   \n",
    "\n",
    "print(\"Sum of\",'+'.join(n),\"is\",total)\n"
   ]
  },
  {
   "cell_type": "markdown",
   "metadata": {},
   "source": [
    "**16.\tDecimal to Binary Converter**\n",
    "\n",
    "Write a Python program to convert an decimal integer to binary\n"
   ]
  },
  {
   "cell_type": "code",
   "execution_count": 3,
   "metadata": {},
   "outputs": [
    {
     "name": "stdout",
     "output_type": "stream",
     "text": [
      "Enter Decimal number: 32\n",
      "Binary Representation of 32 is 100000\n"
     ]
    }
   ],
   "source": [
    "dec = int(input(\"Enter Decimal number: \"))\n",
    "binary = bin(dec)\n",
    "print(\"Binary Representation of\",dec,\"is\",binary[2:])"
   ]
  },
  {
   "cell_type": "markdown",
   "metadata": {},
   "source": [
    "**17.\tBinary to Decimal Converter**\n",
    "\n",
    "Write a Python program to convert an binary number to decimal number\n"
   ]
  },
  {
   "cell_type": "code",
   "execution_count": 12,
   "metadata": {},
   "outputs": [
    {
     "name": "stdout",
     "output_type": "stream",
     "text": [
      "Enter binary number: 1001\n",
      "Decimal Reperesentation of 1001 is:  9\n"
     ]
    }
   ],
   "source": [
    "binary = input(\"Enter binary number: \")\n",
    "dec = int(binary,2)\n",
    "print(\"Decimal Reperesentation of\",binary,\"is: \",dec)"
   ]
  },
  {
   "cell_type": "markdown",
   "metadata": {},
   "source": [
    "**18.\tVowel and Constant Conunter**\n",
    "\n",
    "Input a text and count the occurences of vowels and consonent\n"
   ]
  },
  {
   "cell_type": "code",
   "execution_count": 27,
   "metadata": {},
   "outputs": [
    {
     "name": "stdout",
     "output_type": "stream",
     "text": [
      "Enter text: QuickBrownFoxJumpsovertheDog\n",
      "Vowels:  9\n",
      "Consonent:  19\n"
     ]
    }
   ],
   "source": [
    "text = input(\"Enter text: \")\n",
    "text = text.lower()\n",
    "vowels = 0\n",
    "consonent = 0\n",
    "\n",
    "for elem in text:\n",
    "    if elem == \"a\" or elem == \"e\" or elem == \"i\" or elem == \"o\" or elem == \"u\":\n",
    "        vowels +=1\n",
    "    else:\n",
    "        consonent +=1\n",
    "\n",
    "print(\"Vowels: \",vowels)\n",
    "print(\"Consonent: \",consonent)"
   ]
  },
  {
   "cell_type": "markdown",
   "metadata": {},
   "source": [
    "**19.\tPalindrome Tester**\n",
    "\n",
    "write a program to check wheter given input is palindrome or not\n"
   ]
  },
  {
   "cell_type": "code",
   "execution_count": 31,
   "metadata": {},
   "outputs": [
    {
     "name": "stdout",
     "output_type": "stream",
     "text": [
      "Enter text: AHA\n",
      "Text AHA is palindrome\n"
     ]
    }
   ],
   "source": [
    "text_check = input(\"Enter text: \")\n",
    "\n",
    "reverse_text = text_check[::-1]\n",
    "\n",
    "if text_check == reverse_text:\n",
    "    print(\"Text\",text_check,\"is palindrome\")\n",
    "else:\n",
    "    print(\"Text \",text_check,\"is not palindrome\")\n"
   ]
  },
  {
   "cell_type": "markdown",
   "metadata": {},
   "source": [
    "**20.\tCount Aplhabets,Numbers and special characters**\n",
    "\n",
    "write a python program that accepts a string and calculate the number of digits and letters\n"
   ]
  },
  {
   "cell_type": "code",
   "execution_count": 64,
   "metadata": {},
   "outputs": [
    {
     "name": "stdout",
     "output_type": "stream",
     "text": [
      "Enter text: python 3.7\n",
      "Numbers:  2\n",
      "Alphabets:  6\n",
      "Special Characters:  1\n",
      "Spaces:  1\n"
     ]
    }
   ],
   "source": [
    "characters = input(\"Enter text: \")\n",
    "numbers = 0\n",
    "alphabets = 0\n",
    "special_characters = 0\n",
    "spaces = 0\n",
    "\n",
    "for elem in characters:\n",
    "    if elem.isalpha():\n",
    "        alphabets += 1\n",
    "    elif elem.isnumeric():\n",
    "        numbers +=1\n",
    "    elif elem.isspace():\n",
    "        spaces +=1\n",
    "    elif elem.isascii():\n",
    "        special_characters += 1\n",
    "\n",
    "print(\"Numbers: \",numbers)\n",
    "print(\"Alphabets: \",alphabets)\n",
    "print(\"Special Characters: \",special_characters)\n",
    "print(\"Spaces: \",spaces)\n"
   ]
  },
  {
   "cell_type": "markdown",
   "metadata": {},
   "source": [
    "**21.\tCount Aplhabets,Numbers and special characters**\n",
    "\n",
    "write a python program that accepts a string and calculate the number of digits and letters\n",
    "\n",
    "    *\n",
    "    **\n",
    "    ***\n",
    "    ****\n",
    "    *****\n",
    "    ****\n",
    "    ***\n",
    "    **\n",
    "    *"
   ]
  },
  {
   "cell_type": "code",
   "execution_count": 85,
   "metadata": {},
   "outputs": [
    {
     "name": "stdout",
     "output_type": "stream",
     "text": [
      " \n",
      "*  \n",
      "* *  \n",
      "* * *  \n",
      "* * * *  \n",
      "* * * * *  \n",
      "* * * *  \n",
      "* * *  \n",
      "* *  \n",
      "*  \n"
     ]
    }
   ],
   "source": [
    "for i in range(0,6):\n",
    "    for j in range(i):\n",
    "        print(\"*\",end=\" \")\n",
    "    print(\" \")\n",
    "for i in range(4,0,-1):\n",
    "    for j in range(i):\n",
    "        print(\"*\",end=\" \")\n",
    "    print(\" \")"
   ]
  },
  {
   "cell_type": "markdown",
   "metadata": {},
   "source": [
    "**22.\tCount Aplhabets,Numbers and special characters**\n",
    "\n",
    "write a python program that accepts a string and calculate the number of digits and letters\n",
    "\n",
    "    1\n",
    "    12\n",
    "    123\n",
    "    1234\n",
    "    12345\n",
    "    1234\n",
    "    123\n",
    "    12\n",
    "    1"
   ]
  },
  {
   "cell_type": "code",
   "execution_count": 113,
   "metadata": {},
   "outputs": [
    {
     "name": "stdout",
     "output_type": "stream",
     "text": [
      "1  \n",
      "1 2  \n",
      "1 2 3  \n",
      "1 2 3 4  \n",
      "1 2 3 4 5  \n",
      "1 2 3 4  \n",
      "1 2 3  \n",
      "1 2  \n",
      "1  \n"
     ]
    }
   ],
   "source": [
    "for i in range(1,6):\n",
    "    for j in range(1,i+1):\n",
    "        print(j,end=\" \")\n",
    "    print(\" \")\n",
    "for i in range(4,0,-1):\n",
    "    for j in range(1,i+1):\n",
    "        print(j,end=\" \")\n",
    "    print(\" \")"
   ]
  },
  {
   "cell_type": "markdown",
   "metadata": {},
   "source": [
    "**23. Write a python program to construct the following pattern**\n",
    "\n"
   ]
  },
  {
   "cell_type": "code",
   "execution_count": 120,
   "metadata": {},
   "outputs": [
    {
     "name": "stdout",
     "output_type": "stream",
     "text": [
      "1\n",
      "22\n",
      "333\n",
      "4444\n",
      "55555\n",
      "666666\n",
      "7777777\n",
      "88888888\n",
      "999999999\n"
     ]
    }
   ],
   "source": [
    "for i in range(1,10):\n",
    "    for j in range(i):\n",
    "        print(i,end=\"\")\n",
    "    print(\"\")"
   ]
  },
  {
   "cell_type": "code",
   "execution_count": null,
   "metadata": {},
   "outputs": [],
   "source": []
  }
 ],
 "metadata": {
  "kernelspec": {
   "display_name": "Python 3",
   "language": "python",
   "name": "python3"
  },
  "language_info": {
   "codemirror_mode": {
    "name": "ipython",
    "version": 3
   },
   "file_extension": ".py",
   "mimetype": "text/x-python",
   "name": "python",
   "nbconvert_exporter": "python",
   "pygments_lexer": "ipython3",
   "version": "3.7.3"
  }
 },
 "nbformat": 4,
 "nbformat_minor": 2
}
