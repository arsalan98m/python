{
 "cells": [
  {
   "cell_type": "code",
   "execution_count": 1,
   "metadata": {},
   "outputs": [],
   "source": [
    "import csv"
   ]
  },
  {
   "cell_type": "code",
   "execution_count": 4,
   "metadata": {},
   "outputs": [
    {
     "name": "stdout",
     "output_type": "stream",
     "text": [
      "['Year', 'Even', 'Winner']\n",
      "['1995', 'Best-Kept Lawn', 'None']\n",
      "['1999', 'Gobstones', 'Welch National']\n",
      "['2006', 'WordCup', 'Burkina Faso']\n"
     ]
    }
   ],
   "source": [
    "with open(\"data1.csv\") as file:\n",
    "    contents = csv.reader(file)\n",
    "    \n",
    "    for elem in contents:\n",
    "        print(elem)"
   ]
  },
  {
   "cell_type": "code",
   "execution_count": 14,
   "metadata": {},
   "outputs": [],
   "source": [
    "with open(\"data2.csv\", \"w\", newline=\"\") as file:\n",
    "    fileWriter = csv.writer(file)\n",
    "    fileWriter.writerow([\"2019\", \"Cricket World-Cup\",\"Eng\"])\n",
    "    \n",
    "    fileWriter.writerow([\"2011\", \"Fifa Word-Cup\",\"can\"])"
   ]
  },
  {
   "cell_type": "code",
   "execution_count": 17,
   "metadata": {},
   "outputs": [],
   "source": [
    "with open(\"data2.csv\", \"a\",newline=\"\") as file:\n",
    "    fileWriter = csv.writer(file)\n",
    "    fileWriter.writerow([\"2022\", \"CW2019\", \"ENG\"])\n",
    "    #fileWriter.writerow([\"2023\", \"CW2019\", \"ENG\"])"
   ]
  },
  {
   "cell_type": "code",
   "execution_count": 18,
   "metadata": {},
   "outputs": [
    {
     "name": "stdout",
     "output_type": "stream",
     "text": [
      "['Year', 'Even', 'Winner', '1995', 'Best-Kept Lawn', 'None', '1999', 'Gobstones', 'Welch National', '2006', 'World Cup', 'Burkina Faso']\n"
     ]
    }
   ],
   "source": [
    "with open(\"competitions.csv\", \"r\") as file:\n",
    "    content = csv.reader(file)\n",
    "    potter_competitions = []\n",
    "    for elem in content:\n",
    "        potter_competitions += elem\n",
    "print(potter_competitions)"
   ]
  },
  {
   "cell_type": "code",
   "execution_count": 19,
   "metadata": {},
   "outputs": [
    {
     "name": "stdout",
     "output_type": "stream",
     "text": [
      "Best-Kept Lawn\n"
     ]
    }
   ],
   "source": [
    "print(potter_competitions[4])"
   ]
  },
  {
   "cell_type": "code",
   "execution_count": 22,
   "metadata": {},
   "outputs": [
    {
     "name": "stdout",
     "output_type": "stream",
     "text": [
      "4\n"
     ]
    }
   ],
   "source": [
    "index_number_of_target = potter_competitions.index(\"Best-Kept Lawn\")\n",
    "print(index_number_of_target)"
   ]
  },
  {
   "cell_type": "code",
   "execution_count": 24,
   "metadata": {},
   "outputs": [
    {
     "name": "stdout",
     "output_type": "stream",
     "text": [
      "Enter the name of a competition: Best-Kept Lawn\n",
      "The winner was None\n"
     ]
    }
   ],
   "source": [
    "target = input(\"Enter the name of a competition: \")\n",
    "index_number_of_target = potter_competitions.index(target)\n",
    "index_number_of_winner = index_number_of_target + 1\n",
    "the_winner = potter_competitions[index_number_of_winner]\n",
    "print(\"The winner was \"+ the_winner)"
   ]
  },
  {
   "cell_type": "code",
   "execution_count": 29,
   "metadata": {},
   "outputs": [],
   "source": [
    "import csv\n",
    "with open(\"whatever.csv\", \"w\",newline=\"\") as f:\n",
    "    data_handler = csv.writer(f, delimiter=\",\")\n",
    "    data_handler.writerow(['Year', 'Event', 'Winner'])\n",
    "    data_handler.writerow(['2019', 'CW2019', 'None'])\n",
    "    data_handler.writerow(['2024', 'CW2024', 'Pata-Nahi'])\n",
    "    "
   ]
  },
  {
   "cell_type": "code",
   "execution_count": 30,
   "metadata": {},
   "outputs": [],
   "source": [
    "with open(\"whatever.csv\", \"a\", newline=\"\") as f:\n",
    "    data_handler = csv.writer(f, delimiter = \",\")\n",
    "    data_handler.writerow(['1995', 'CW', 'Hoga koi'])\n",
    "    data_handler.writerow(['2011', 'CW2011', 'Australia'])"
   ]
  },
  {
   "cell_type": "code",
   "execution_count": 36,
   "metadata": {},
   "outputs": [
    {
     "name": "stdout",
     "output_type": "stream",
     "text": [
      "['Potion', 'Effect', 'Telltale Property', 'Amortentia', 'Love', 'Steam', 'Confusing Concoction', 'Confusion', 'Nausea', 'Draught of Living Death', 'Sleep', 'Turns leaf to ashes', 'Draught of Peace', 'Comfort', 'None', 'Felix Felicis', 'Luck', 'Giddiness', 'Hiccoughing Potion', 'Stops hiccoughs', 'None', 'Pepperup Potion', 'Health', 'Steaming Ears', 'Polyjuice Potion', 'Shape shifting', 'Voice change', 'Skele-Gro', 'Bone growth', 'Disgusting taste', \"Sleekeazy's Hair Potion\", 'Hair straightener', 'None', 'Veritaserum', 'Truth-telling', 'None']\n"
     ]
    }
   ],
   "source": [
    "import csv\n",
    "with open(\"potions.csv\") as file:\n",
    "    contents = csv.reader(file)\n",
    "    empty_list = []\n",
    "    for elem in contents:\n",
    "        empty_list += elem\n",
    "    \n",
    "    print(empty_list)"
   ]
  }
 ],
 "metadata": {
  "kernelspec": {
   "display_name": "Python 3",
   "language": "python",
   "name": "python3"
  },
  "language_info": {
   "codemirror_mode": {
    "name": "ipython",
    "version": 3
   },
   "file_extension": ".py",
   "mimetype": "text/x-python",
   "name": "python",
   "nbconvert_exporter": "python",
   "pygments_lexer": "ipython3",
   "version": "3.7.3"
  }
 },
 "nbformat": 4,
 "nbformat_minor": 2
}
