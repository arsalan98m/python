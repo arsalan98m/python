{
 "cells": [
  {
   "cell_type": "code",
   "execution_count": 1,
   "metadata": {},
   "outputs": [
    {
     "name": "stdout",
     "output_type": "stream",
     "text": [
      "M\n",
      "I\n",
      "C\n",
      "H\n",
      "I\n",
      "G\n",
      "A\n",
      "N\n"
     ]
    }
   ],
   "source": [
    "my_str = 'MICHIGAN'\n",
    "for i in my_str:\n",
    "    print(i)"
   ]
  },
  {
   "cell_type": "code",
   "execution_count": 2,
   "metadata": {},
   "outputs": [
    {
     "name": "stdout",
     "output_type": "stream",
     "text": [
      "hello\n",
      "2\n",
      "4\n",
      "6.0\n",
      "7.5\n",
      "234352345\n",
      "the end\n",
      "\n",
      "99\n",
      "<class 'str'>\n",
      "<class 'int'>\n",
      "<class 'int'>\n",
      "<class 'float'>\n",
      "<class 'float'>\n",
      "<class 'int'>\n",
      "<class 'str'>\n",
      "<class 'str'>\n",
      "<class 'int'>\n"
     ]
    }
   ],
   "source": [
    "several_things = [\"hello\", 2, 4, 6.0,7.5,234352345, \"the end\", \"\",99]\n",
    "\n",
    "for data in several_things:\n",
    "    print(data)\n",
    "for data in several_things:\n",
    "    print(type(data))"
   ]
  },
  {
   "cell_type": "code",
   "execution_count": 3,
   "metadata": {},
   "outputs": [
    {
     "name": "stdout",
     "output_type": "stream",
     "text": [
      "5\n",
      "0\n",
      "8\n",
      "9\n",
      "13\n"
     ]
    }
   ],
   "source": [
    "str_list = [\"hello\", \"\",\"good bye\", \"wonderful\",\"i love python\"]\n",
    "\n",
    "for i in str_list:\n",
    "    print(len(i))"
   ]
  },
  {
   "cell_type": "code",
   "execution_count": 8,
   "metadata": {},
   "outputs": [
    {
     "name": "stdout",
     "output_type": "stream",
     "text": [
      "57\n"
     ]
    }
   ],
   "source": [
    "original_str = \"The quick brown rhino jumped over the extremely lazy fox.\"\n",
    "num_chars = 0\n",
    "\n",
    "for i in original_str:\n",
    "    num_chars += 1\n",
    "print(num_chars)"
   ]
  },
  {
   "cell_type": "code",
   "execution_count": 4,
   "metadata": {},
   "outputs": [
    {
     "name": "stdout",
     "output_type": "stream",
     "text": [
      "37\n"
     ]
    }
   ],
   "source": [
    "addition_str = \"2+5+10+20\"\n",
    "sum_val = 0\n",
    "\n",
    "for i in addition_str.split(\"+\"):\n",
    "    sum_val += int(i)\n",
    "print(sum_val)"
   ]
  },
  {
   "cell_type": "code",
   "execution_count": 5,
   "metadata": {},
   "outputs": [
    {
     "name": "stdout",
     "output_type": "stream",
     "text": [
      "92.30000000000001\n"
     ]
    }
   ],
   "source": [
    "week_temps_f = \"75.5,77.7,83.2,82.5,81,81.00,79.5,85.7\"\n",
    "avg_temp = 0.0\n",
    "\n",
    "for i in week_temps_f.split(\",\"):\n",
    "    avg_temp += float(i) / 7\n",
    "print(avg_temp)"
   ]
  },
  {
   "cell_type": "code",
   "execution_count": 6,
   "metadata": {},
   "outputs": [],
   "source": [
    "nums = range(68)"
   ]
  },
  {
   "cell_type": "code",
   "execution_count": 11,
   "metadata": {},
   "outputs": [
    {
     "name": "stdout",
     "output_type": "stream",
     "text": [
      "['The', 'quick', 'brown', 'rhino', 'jumped', 'over', 'the', 'extremely', 'lazy', 'fox']\n",
      "[3, 5, 5, 5, 6, 4, 3, 9, 4, 3]\n"
     ]
    }
   ],
   "source": [
    "original_str = \"The quick brown rhino jumped over the extremely lazy fox\"\n",
    "original_list = original_str.split()\n",
    "num_words_list = []\n",
    "for data in original_list:\n",
    "    num_words_list.append(len(data))\n",
    "print(original_list)\n",
    "print(num_words_list)"
   ]
  },
  {
   "cell_type": "code",
   "execution_count": 7,
   "metadata": {},
   "outputs": [
    {
     "name": "stdout",
     "output_type": "stream",
     "text": [
      "bbbbbbb\n"
     ]
    }
   ],
   "source": [
    "lett = ''\n",
    "for i in range(7):\n",
    "    lett += 'b'\n",
    "print(lett)"
   ]
  },
  {
   "cell_type": "code",
   "execution_count": null,
   "metadata": {},
   "outputs": [],
   "source": []
  }
 ],
 "metadata": {
  "kernelspec": {
   "display_name": "Python 3",
   "language": "python",
   "name": "python3"
  },
  "language_info": {
   "codemirror_mode": {
    "name": "ipython",
    "version": 3
   },
   "file_extension": ".py",
   "mimetype": "text/x-python",
   "name": "python",
   "nbconvert_exporter": "python",
   "pygments_lexer": "ipython3",
   "version": "3.7.3"
  }
 },
 "nbformat": 4,
 "nbformat_minor": 2
}
