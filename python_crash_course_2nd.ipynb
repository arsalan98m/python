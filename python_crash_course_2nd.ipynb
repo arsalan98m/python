{
 "cells": [
  {
   "cell_type": "code",
   "execution_count": 1,
   "metadata": {},
   "outputs": [],
   "source": [
    "alien_0 = {'color': 'green', 'points':5}"
   ]
  },
  {
   "cell_type": "code",
   "execution_count": 2,
   "metadata": {},
   "outputs": [
    {
     "name": "stdout",
     "output_type": "stream",
     "text": [
      "green\n",
      "5\n"
     ]
    }
   ],
   "source": [
    "print(alien_0['color'])\n",
    "print(alien_0['points'])"
   ]
  },
  {
   "cell_type": "code",
   "execution_count": 3,
   "metadata": {},
   "outputs": [
    {
     "data": {
      "text/plain": [
       "dict"
      ]
     },
     "execution_count": 3,
     "metadata": {},
     "output_type": "execute_result"
    }
   ],
   "source": [
    "type(alien_0)"
   ]
  },
  {
   "cell_type": "code",
   "execution_count": 4,
   "metadata": {},
   "outputs": [
    {
     "name": "stdout",
     "output_type": "stream",
     "text": [
      "You just earned 5 points!\n"
     ]
    }
   ],
   "source": [
    "new_points = alien_0['points']\n",
    "print(\"You just earned \"+str(new_points)+\" points!\")"
   ]
  },
  {
   "cell_type": "code",
   "execution_count": 5,
   "metadata": {},
   "outputs": [
    {
     "name": "stdout",
     "output_type": "stream",
     "text": [
      "{'color': 'green', 'points': 5, 'x_position': 0, 'y_position': 25}\n"
     ]
    }
   ],
   "source": [
    "alien_0['x_position'] = 0\n",
    "alien_0['y_position'] = 25\n",
    "print(alien_0)"
   ]
  },
  {
   "cell_type": "code",
   "execution_count": 6,
   "metadata": {},
   "outputs": [],
   "source": [
    "alien_0 = {}"
   ]
  },
  {
   "cell_type": "code",
   "execution_count": 7,
   "metadata": {},
   "outputs": [
    {
     "name": "stdout",
     "output_type": "stream",
     "text": [
      "{'color': 'green', 'points': 5}\n"
     ]
    }
   ],
   "source": [
    "alien_0['color'] = 'green'\n",
    "alien_0['points'] = 5\n",
    "print(alien_0)"
   ]
  },
  {
   "cell_type": "code",
   "execution_count": 8,
   "metadata": {},
   "outputs": [
    {
     "name": "stdout",
     "output_type": "stream",
     "text": [
      "The alien is green.\n",
      "The alien is now yellow.\n"
     ]
    }
   ],
   "source": [
    "alien_0 = {'color': 'green'}\n",
    "print(\"The alien is \"+alien_0['color']+\".\")\n",
    "\n",
    "alien_0['color'] = 'yellow'\n",
    "print(\"The alien is now \"+alien_0['color']+\".\")"
   ]
  },
  {
   "cell_type": "code",
   "execution_count": 9,
   "metadata": {},
   "outputs": [
    {
     "data": {
      "text/plain": [
       "{'color': 'yellow'}"
      ]
     },
     "execution_count": 9,
     "metadata": {},
     "output_type": "execute_result"
    }
   ],
   "source": [
    "alien_0"
   ]
  },
  {
   "cell_type": "code",
   "execution_count": 10,
   "metadata": {},
   "outputs": [
    {
     "name": "stdout",
     "output_type": "stream",
     "text": [
      "Original Position: 0\n",
      "New x-position: 2\n"
     ]
    }
   ],
   "source": [
    "alien_0 = {'x_position': 0, 'y_position': 25, 'speed': 'medium'}\n",
    "print(\"Original Position: \"+str(alien_0['x_position']))\n",
    "\n",
    "# move the alien to the right.\n",
    "# determine how far to move the alien based on its current speed.\n",
    "\n",
    "if alien_0['speed'] == 'slow':\n",
    "    x_increment = 1\n",
    "elif alien_0['speed'] == 'medium':\n",
    "    x_increment = 2\n",
    "else:\n",
    "    # This must be a fast alien\n",
    "    x_increment = 3\n",
    "\n",
    "alien_0['x_position'] = alien_0['x_position'] + x_increment\n",
    "print(\"New x-position: \"+str(alien_0['x_position']))"
   ]
  },
  {
   "cell_type": "code",
   "execution_count": 11,
   "metadata": {},
   "outputs": [
    {
     "name": "stdout",
     "output_type": "stream",
     "text": [
      "{'color': 'green', 'points': 5}\n",
      "{'color': 'green'}\n"
     ]
    }
   ],
   "source": [
    "alien_0 = {'color': 'green', 'points': 5}\n",
    "print(alien_0)\n",
    "\n",
    "del alien_0['points']\n",
    "print(alien_0)"
   ]
  },
  {
   "cell_type": "code",
   "execution_count": 12,
   "metadata": {},
   "outputs": [],
   "source": [
    "favorite_languages = {\n",
    "    'bilal': 'python',\n",
    "    'aslam' : 'c',\n",
    "    'adnan': 'ruby',\n",
    "    'kamran': 'python',\n",
    "}"
   ]
  },
  {
   "cell_type": "code",
   "execution_count": 13,
   "metadata": {},
   "outputs": [
    {
     "name": "stdout",
     "output_type": "stream",
     "text": [
      "Aslam's favorite language is C.\n"
     ]
    }
   ],
   "source": [
    "print(\"Aslam's favorite language is \" + \n",
    "      favorite_languages['aslam'].title()+\".\")"
   ]
  },
  {
   "cell_type": "code",
   "execution_count": 14,
   "metadata": {},
   "outputs": [
    {
     "name": "stdout",
     "output_type": "stream",
     "text": [
      "shahrukh\n",
      "khan\n",
      "44\n",
      "Mumbai\n"
     ]
    }
   ],
   "source": [
    "# Persons's dictionary\n",
    "\n",
    "person = {\n",
    "    'first name': 'shahrukh',\n",
    "    'last name': 'khan',\n",
    "    'age': 44,\n",
    "    'city' : 'Mumbai',\n",
    "}\n",
    "\n",
    "print(person['first name'])\n",
    "print(person['last name'])\n",
    "print(person['age'])\n",
    "print(person['city'])"
   ]
  },
  {
   "cell_type": "code",
   "execution_count": 15,
   "metadata": {},
   "outputs": [
    {
     "name": "stdout",
     "output_type": "stream",
     "text": [
      "Kashif's Favorite numbers is : 212\n",
      "Rana's Favorite numbers is : 33\n"
     ]
    }
   ],
   "source": [
    "# favorite numbers\n",
    "\n",
    "favorite_numbers = {\n",
    "    \"owais\": 212,\n",
    "    \"rana\": 33,\n",
    "    \"kashif\": 90,\n",
    "    'pooli': 100,\n",
    "    \"sami\": 1,\n",
    "}\n",
    "\n",
    "num = favorite_numbers['owais']\n",
    "print(\"Kashif's Favorite numbers is : \"+str(num))\n",
    "\n",
    "num = favorite_numbers['rana']\n",
    "print(\"Rana's Favorite numbers is : \"+str(num))"
   ]
  },
  {
   "cell_type": "code",
   "execution_count": 16,
   "metadata": {},
   "outputs": [
    {
     "name": "stdout",
     "output_type": "stream",
     "text": [
      "\n",
      "Str: String series of character\n",
      "\n",
      "Len: length of string\n",
      "\n",
      "Type: find type of object\n",
      "\n",
      "Bool: boolen value 0 or 1\n",
      "\n",
      "Print: function for printing value\n"
     ]
    }
   ],
   "source": [
    "programming_words = {\n",
    "    'str': \"String series of character\",\n",
    "    'len': \"length of string\",\n",
    "    'type': 'find type of object',\n",
    "    'bool': \"boolen value 0 or 1\",\n",
    "    'print': \"function for printing value\",\n",
    "}\n",
    "\n",
    "word = 'str'\n",
    "print(\"\\n\"+word.title() + \": \"+ programming_words[word])\n",
    "\n",
    "word = 'len'\n",
    "print(\"\\n\"+word.title()+ \": \"+programming_words[word])\n",
    "\n",
    "word = 'type'\n",
    "print(\"\\n\"+word.title()+ \": \"+programming_words[word])\n",
    "\n",
    "word = 'bool'\n",
    "print(\"\\n\"+word.title()+ \": \"+programming_words[word])\n",
    "\n",
    "word = 'print'\n",
    "print(\"\\n\"+word.title()+ \": \"+programming_words[word])"
   ]
  },
  {
   "cell_type": "code",
   "execution_count": 17,
   "metadata": {},
   "outputs": [],
   "source": [
    "user_0 = {\n",
    "    \"username\": \"abid1999\",\n",
    "    \"first name\": \"abid\",\n",
    "    \"last name\": \"qureshi\",\n",
    "}"
   ]
  },
  {
   "cell_type": "code",
   "execution_count": 18,
   "metadata": {},
   "outputs": [
    {
     "name": "stdout",
     "output_type": "stream",
     "text": [
      "\n",
      "Key:username\n",
      "Value:abid1999\n",
      "\n",
      "Key:first name\n",
      "Value:abid\n",
      "\n",
      "Key:last name\n",
      "Value:qureshi\n"
     ]
    }
   ],
   "source": [
    "for key,value in user_0.items():\n",
    "    print(\"\\nKey:\" + key)\n",
    "    print(\"Value:\" +value)"
   ]
  },
  {
   "cell_type": "code",
   "execution_count": 20,
   "metadata": {},
   "outputs": [
    {
     "data": {
      "text/plain": [
       "{'bilal': 'python', 'aslam': 'c', 'adnan': 'ruby', 'kamran': 'python'}"
      ]
     },
     "execution_count": 20,
     "metadata": {},
     "output_type": "execute_result"
    }
   ],
   "source": [
    "favorite_languages"
   ]
  },
  {
   "cell_type": "code",
   "execution_count": 21,
   "metadata": {},
   "outputs": [
    {
     "name": "stdout",
     "output_type": "stream",
     "text": [
      "Bilal's favorite language is Python.\n",
      "Aslam's favorite language is C.\n",
      "Adnan's favorite language is Ruby.\n",
      "Kamran's favorite language is Python.\n"
     ]
    }
   ],
   "source": [
    "for name, language in favorite_languages.items():\n",
    "    print(name.title()+ \"'s favorite language is \"+language.title()+\".\")"
   ]
  },
  {
   "cell_type": "code",
   "execution_count": 22,
   "metadata": {},
   "outputs": [
    {
     "name": "stdout",
     "output_type": "stream",
     "text": [
      "Bilal\n",
      "Aslam\n",
      "Adnan\n",
      "Kamran\n"
     ]
    }
   ],
   "source": [
    "for name in favorite_languages.keys():\n",
    "    print(name.title())"
   ]
  },
  {
   "cell_type": "code",
   "execution_count": 24,
   "metadata": {},
   "outputs": [
    {
     "name": "stdout",
     "output_type": "stream",
     "text": [
      "Bilal\n",
      "Aslam\n",
      "Hi Aslam, I see your favorite langugae is C!\n",
      "Adnan\n",
      "Hi Adnan, I see your favorite langugae is Ruby!\n",
      "Kamran\n"
     ]
    }
   ],
   "source": [
    "friends = [\"adnan\",\"aslam\"]\n",
    "\n",
    "for name in favorite_languages.keys():\n",
    "    print(name.title())\n",
    "    \n",
    "    if name in friends:\n",
    "        print(\"Hi \"+name.title()+\n",
    "              \", I see your favorite langugae is \"+favorite_languages[name].title()+\"!\")"
   ]
  },
  {
   "cell_type": "code",
   "execution_count": 25,
   "metadata": {},
   "outputs": [
    {
     "name": "stdout",
     "output_type": "stream",
     "text": [
      "Ahad, please take our poll!\n"
     ]
    }
   ],
   "source": [
    "if 'ahad' not in favorite_languages.keys():\n",
    "    print(\"Ahad, please take our poll!\")"
   ]
  },
  {
   "cell_type": "code",
   "execution_count": 26,
   "metadata": {},
   "outputs": [
    {
     "name": "stdout",
     "output_type": "stream",
     "text": [
      "Adnan, thank you for taking the poll!\n",
      "Aslam, thank you for taking the poll!\n",
      "Bilal, thank you for taking the poll!\n",
      "Kamran, thank you for taking the poll!\n"
     ]
    }
   ],
   "source": [
    "for name in sorted(favorite_languages.keys()):\n",
    "    print(name.title()+\", thank you for taking the poll!\")"
   ]
  },
  {
   "cell_type": "code",
   "execution_count": 29,
   "metadata": {},
   "outputs": [
    {
     "name": "stdout",
     "output_type": "stream",
     "text": [
      "The following langugaes have been mentioned:\n",
      "Python\n",
      "C\n",
      "Ruby\n",
      "Python\n"
     ]
    }
   ],
   "source": [
    "print(\"The following langugaes have been mentioned:\")\n",
    "for lang in favorite_languages.values():\n",
    "    print(lang.title())"
   ]
  },
  {
   "cell_type": "code",
   "execution_count": 32,
   "metadata": {},
   "outputs": [
    {
     "name": "stdout",
     "output_type": "stream",
     "text": [
      "The following langugaes have been mentioned:\n",
      "C\n",
      "Ruby\n",
      "Python\n"
     ]
    }
   ],
   "source": [
    "print(\"The following langugaes have been mentioned:\")\n",
    "for lang in set(favorite_languages.values()):\n",
    "    print(lang.title())"
   ]
  },
  {
   "cell_type": "code",
   "execution_count": 36,
   "metadata": {},
   "outputs": [
    {
     "name": "stdout",
     "output_type": "stream",
     "text": [
      "\n",
      "Str: String Series Of Character\n",
      "\n",
      "Len: Length Of String\n",
      "\n",
      "Type: Find Type Of Object\n",
      "\n",
      "Bool: Boolen Value 0 Or 1\n",
      "\n",
      "Print: Function For Printing Value\n",
      "\n",
      "List: Collection Of Items In Particular Order\n",
      "\n",
      "Float: Numerical Value In Decimal Point\n",
      "\n",
      "Comment: A Note In A Program That Python Interpreter Ignore\n",
      "\n",
      "Condition Test: Comparison Between Two Points\n",
      "\n",
      "Dictionary: A Collection Of Key-Value Pairs\n"
     ]
    }
   ],
   "source": [
    "programming_words = {\n",
    "    'str': \"String series of character\",\n",
    "    'len': \"length of string\",\n",
    "    'type': 'find type of object',\n",
    "    'bool': \"boolen value 0 or 1\",\n",
    "    'print': \"function for printing value\",\n",
    "    'list' : \"collection of items in particular order\",\n",
    "    'float': \"numerical value in decimal point\",\n",
    "    'comment': \"a note in a program that python interpreter ignore\",\n",
    "    \"condition test\": \"comparison between two points\",\n",
    "    \"dictionary\": \"a collection of key-value pairs\"\n",
    "}\n",
    "\n",
    "for word, defination in programming_words.items():\n",
    "    print(\"\\n\"+word.title()+\": \"+defination.title())"
   ]
  },
  {
   "cell_type": "code",
   "execution_count": 41,
   "metadata": {},
   "outputs": [
    {
     "name": "stdout",
     "output_type": "stream",
     "text": [
      "\n",
      "The Samur runs through Azarbaijan\n",
      "\n",
      "The Daugava runs through Latvia\n",
      "\n",
      "The Chenab runs through Pakistan\n",
      "\n",
      "The following rivers are included in this data set:\n",
      "\n",
      "samur\n",
      "\n",
      "daugava\n",
      "\n",
      "chenab\n",
      "\n",
      "The following countries are included in this data set:\n",
      "\n",
      "azarbaijan\n",
      "\n",
      "latvia\n",
      "\n",
      "pakistan\n"
     ]
    }
   ],
   "source": [
    "rivers = {\n",
    "    \"samur\": \"azarbaijan\",\n",
    "    \"daugava\": \"latvia\",\n",
    "    \"chenab\": \"pakistan\",\n",
    "}\n",
    "\n",
    "for river, country in rivers.items():\n",
    "    print(\"\\nThe \"+river.title()+\" runs through \"+country.title())\n",
    "\n",
    "print(\"\\nThe following rivers are included in this data set:\")\n",
    "for river in rivers.keys():\n",
    "    print(\"\\n\"+river)\n",
    "\n",
    "print(\"\\nThe following countries are included in this data set:\")\n",
    "for country in rivers.values():\n",
    "    print(\"\\n\"+country)"
   ]
  },
  {
   "cell_type": "code",
   "execution_count": 42,
   "metadata": {},
   "outputs": [
    {
     "data": {
      "text/plain": [
       "{'bilal': 'python', 'aslam': 'c', 'adnan': 'ruby', 'kamran': 'python'}"
      ]
     },
     "execution_count": 42,
     "metadata": {},
     "output_type": "execute_result"
    }
   ],
   "source": [
    "favorite_languages"
   ]
  },
  {
   "cell_type": "code",
   "execution_count": 46,
   "metadata": {},
   "outputs": [
    {
     "name": "stdout",
     "output_type": "stream",
     "text": [
      "Bilal 's favorite language is Python.\n",
      "Aslam 's favorite language is C.\n",
      "Adnan 's favorite language is Ruby.\n",
      "Kamran 's favorite language is Python.\n",
      "\n",
      "\n",
      "Thank you for taking the poll!Bilal\n",
      "Khatri, what's your favorite language?\n",
      "Billa, what's your favorite language?\n",
      "Nona, what's your favorite language?\n",
      "Akhtar, what's your favorite language?\n"
     ]
    }
   ],
   "source": [
    "for name, lang in favorite_languages.items():\n",
    "    print(name.title()+ \" 's favorite language is \"+\n",
    "         lang.title()+\".\")\n",
    "\n",
    "print(\"\\n\")\n",
    "\n",
    "coders = [\"bilal\", \"khatri\", \"billa\", \"nona\", \"akhtar\"]\n",
    "\n",
    "for coder in coders:\n",
    "    if coder in favorite_languages.keys():\n",
    "        print(\"Thank you for taking the poll!\"+coder.title())\n",
    "    else:\n",
    "        print(coder.title()+\", what's your favorite language?\")"
   ]
  },
  {
   "cell_type": "code",
   "execution_count": 47,
   "metadata": {},
   "outputs": [
    {
     "name": "stdout",
     "output_type": "stream",
     "text": [
      "{'color': 'green', 'points': 5}\n",
      "{'color': 'yellow', 'points': 10}\n",
      "{'color': 'red', 'points': 15}\n"
     ]
    }
   ],
   "source": [
    "alien_0 = {'color': 'green', 'points': 5}\n",
    "alien_1 = {'color': 'yellow', 'points': 10}\n",
    "alien_2 = {'color': 'red', 'points': 15}\n",
    "\n",
    "aliens = [alien_0, alien_1, alien_2]\n",
    "\n",
    "for alien in aliens:\n",
    "    print(alien)\n",
    "\n"
   ]
  },
  {
   "cell_type": "code",
   "execution_count": 48,
   "metadata": {},
   "outputs": [
    {
     "name": "stdout",
     "output_type": "stream",
     "text": [
      "{'color': 'green', 'points': 5, 'speed': 'slow'}\n",
      "{'color': 'green', 'points': 5, 'speed': 'slow'}\n",
      "{'color': 'green', 'points': 5, 'speed': 'slow'}\n",
      "{'color': 'green', 'points': 5, 'speed': 'slow'}\n",
      "{'color': 'green', 'points': 5, 'speed': 'slow'}\n",
      "...\n"
     ]
    }
   ],
   "source": [
    "# make an empty list for storing aliens\n",
    "aliens = []\n",
    "\n",
    "# Make 30 green aliens\n",
    "\n",
    "for alien_number in range(30):\n",
    "    new_alien = {'color': 'green', 'points': 5, 'speed': 'slow'}\n",
    "    aliens.append(new_alien)\n",
    "\n",
    "# show the first five aliens\n",
    "for alien in aliens[:5]:\n",
    "    print(alien)\n",
    "print(\"...\")"
   ]
  },
  {
   "cell_type": "code",
   "execution_count": 49,
   "metadata": {},
   "outputs": [
    {
     "name": "stdout",
     "output_type": "stream",
     "text": [
      "Total number of aliens: 30\n"
     ]
    }
   ],
   "source": [
    "# show how many aliens have been created\n",
    "print(\"Total number of aliens: \"+str(len(aliens)))"
   ]
  },
  {
   "cell_type": "code",
   "execution_count": 53,
   "metadata": {},
   "outputs": [],
   "source": [
    "for alien in aliens[0:3]:\n",
    "    if alien['color'] == 'green':\n",
    "        alien['color'] == 'yellow'\n",
    "        alien['speed'] == 'medium'\n",
    "        alien['points'] == 10"
   ]
  },
  {
   "cell_type": "code",
   "execution_count": 54,
   "metadata": {},
   "outputs": [
    {
     "name": "stdout",
     "output_type": "stream",
     "text": [
      "you ordered athick -crust pizza with following toppings:\n",
      "\tmushroom\n",
      "\textra cheese\n"
     ]
    }
   ],
   "source": [
    "# store information about a pizza being ordered.\n",
    "\n",
    "pizza = {\n",
    "    'crust': 'thick',\n",
    "    'toppings': ['mushroom', 'extra cheese']\n",
    "}\n",
    "\n",
    "# summarize the order.\n",
    "\n",
    "print(\"you ordered a\" +pizza['crust'] + \" -crust pizza \"+\n",
    "     \"with following toppings:\")\n",
    "\n",
    "for topping in pizza['toppings']:\n",
    "    print(\"\\t\"+topping)"
   ]
  },
  {
   "cell_type": "code",
   "execution_count": 59,
   "metadata": {},
   "outputs": [
    {
     "name": "stdout",
     "output_type": "stream",
     "text": [
      "\n",
      "Taha 's favorite languages are:\n",
      "\t Python\n",
      "\t Ruby\n",
      "\n",
      "Adil 's favorite languages are:\n",
      "\t C\n",
      "\n",
      "Jameel 's favorite languages are:\n",
      "\t Ruby\n",
      "\t Go\n",
      "\n",
      "Owais 's favorite languages are:\n",
      "\t Python\n",
      "\t Django\n"
     ]
    }
   ],
   "source": [
    "favorite_languages = {\n",
    "    'taha': ['python', 'ruby'],\n",
    "    'adil': ['c'],\n",
    "    'jameel': ['ruby', 'go'],\n",
    "    'owais' :['python', 'django'],\n",
    "}\n",
    "\n",
    "for name,lang in favorite_languages.items():\n",
    "    print(\"\\n\"+name.title()+\" 's favorite languages are:\")\n",
    "    for languag in lang:\n",
    "        \n",
    "        print(\"\\t \"+languag.title())"
   ]
  },
  {
   "cell_type": "code",
   "execution_count": 60,
   "metadata": {},
   "outputs": [
    {
     "name": "stdout",
     "output_type": "stream",
     "text": [
      "\n",
      "Username: Adil\n",
      "\tFull name: Adil Ahmed\n",
      "\tLocation: Karachi\n",
      "\n",
      "Username: Bilal\n",
      "\tFull name: Bilal Ahasan\n",
      "\tLocation: Dubai\n",
      "\n",
      "Username: Imran\n",
      "\tFull name: Imran Khan\n",
      "\tLocation: London\n"
     ]
    }
   ],
   "source": [
    "users = {\n",
    "    'adil': {\n",
    "        \"first name\": \"adil\",\n",
    "        \"last name\": \"ahmed\",\n",
    "        \"location\": \"karachi\"\n",
    "    },\n",
    "    'bilal': {\n",
    "        \"first name\": \"bilal\",\n",
    "        \"last name\": \"ahasan\",\n",
    "        \"location\": \"dubai\"\n",
    "    },\n",
    "    'imran': {\n",
    "        \"first name\": \"imran\",\n",
    "        \"last name\": \"khan\",\n",
    "        \"location\": \"london\"\n",
    "    },\n",
    "\n",
    "}\n",
    "\n",
    "for username, user_info in users.items():\n",
    "    print(\"\\nUsername: \"+username.title())\n",
    "    full_name = user_info['first name']+\" \"+ user_info['last name']\n",
    "    location = user_info['location']\n",
    "    print(\"\\tFull name: \"+full_name.title())\n",
    "    print(\"\\tLocation: \"+location.title())\n"
   ]
  },
  {
   "cell_type": "code",
   "execution_count": 65,
   "metadata": {},
   "outputs": [
    {
     "name": "stdout",
     "output_type": "stream",
     "text": [
      "Ahad Shaikh is 22 years old.\n",
      "Dilshad Tunio is 44 years old.\n"
     ]
    }
   ],
   "source": [
    "people_1 = {\n",
    "    \"first name\": \"ahad\",\n",
    "    \"last name\": \"shaikh\",\n",
    "    \"age\": 22,\n",
    "}\n",
    "\n",
    "people_2 = {\n",
    "    \"first name\": \"dilshad\",\n",
    "    \"last name\": \"tunio\",\n",
    "    \"age\": 44,\n",
    "}\n",
    "\n",
    "peoples = [people_1, people_2]\n",
    "\n",
    "for people in peoples:\n",
    "    name = people['first name'].title() +\" \"+people['last name'].title()\n",
    "    age = str(people['age'])\n",
    "    print(name + \" is \"+ age+ \" years old.\")\n",
    "    "
   ]
  },
  {
   "cell_type": "code",
   "execution_count": 90,
   "metadata": {},
   "outputs": [],
   "source": [
    "pets = []\n",
    "\n",
    "pet = {\n",
    "    'animal': 'python',\n",
    "    'name': 'bravo',\n",
    "    'owner': 'john',\n",
    "    'weight': 43,\n",
    "    'eats' : 'bugs',\n",
    "}\n",
    "\n",
    "pets.append(pet)\n",
    "\n",
    "pet = {\n",
    "    'animal': 'chicken',\n",
    "    'name': 'clarence',\n",
    "    'owner': 'tiffo',\n",
    "    'weight': 2,\n",
    "    'eats' : 'seeds',\n",
    "}\n",
    "\n",
    "pets.append(pet)\n",
    "\n",
    "pet = {\n",
    "    'animal': 'dog',\n",
    "    'name': 'chobo',\n",
    "    'owner': 'kaalia',\n",
    "    'weight': 37,\n",
    "    'eats' : 'shoes',\n",
    "}\n",
    "\n",
    "pets.append(pet)\n"
   ]
  },
  {
   "cell_type": "code",
   "execution_count": 92,
   "metadata": {},
   "outputs": [
    {
     "name": "stdout",
     "output_type": "stream",
     "text": [
      "Here's what I know about Bravo:\n",
      "\tanimal: python\n",
      "\tname: bravo\n",
      "\towner: john\n",
      "\tweight: 43\n",
      "\teats: bugs\n",
      "Here's what I know about Clarence:\n",
      "\tanimal: chicken\n",
      "\tname: clarence\n",
      "\towner: tiffo\n",
      "\tweight: 2\n",
      "\teats: seeds\n",
      "Here's what I know about Chobo:\n",
      "\tanimal: dog\n",
      "\tname: chobo\n",
      "\towner: kaalia\n",
      "\tweight: 37\n",
      "\teats: shoes\n"
     ]
    }
   ],
   "source": [
    "for pet in pets:\n",
    "    print(\"Here's what I know about \"+pet['name'].title()+\":\")\n",
    "    for key, value in pet.items():\n",
    "        print(\"\\t\"+key+\": \"+str(value))"
   ]
  },
  {
   "cell_type": "code",
   "execution_count": 2,
   "metadata": {},
   "outputs": [
    {
     "name": "stdout",
     "output_type": "stream",
     "text": [
      "\n",
      "Adil like the following places:\n",
      " - Kashmir\n",
      " - Azarbaijan\n",
      "\n",
      "Sultan like the following places:\n",
      " - Multan\n",
      " - Quetta\n",
      " - Larkana\n",
      "\n",
      "Owais like the following places:\n",
      " - Lahore\n",
      " - Peshawar\n"
     ]
    }
   ],
   "source": [
    "favorite_places = {\n",
    "    \"adil\": [\"kashmir\", \"azarbaijan\"],\n",
    "    \"sultan\": [\"multan\",\"quetta\", \"larkana\"],\n",
    "    \"owais\": [\"lahore\", \"peshawar\"],\n",
    "}\n",
    "\n",
    "for name, places in favorite_places.items():\n",
    "    print(\"\\n\"+name.title()+\" like the following places:\")\n",
    "    for place in places:\n",
    "        print(\" - \"+place.title())"
   ]
  },
  {
   "cell_type": "code",
   "execution_count": 5,
   "metadata": {},
   "outputs": [
    {
     "name": "stdout",
     "output_type": "stream",
     "text": [
      "\n",
      "Imran like the following numbers:\n",
      "\t12\n",
      "\t23\n",
      "\t10\n",
      "\t16\n",
      "\n",
      "Adnan like the following numbers:\n",
      "\t7\n",
      "\t12\n",
      "\t4\n",
      "\t5\n",
      "\n",
      "Jhangeer like the following numbers:\n",
      "\t1\n",
      "\t4\n",
      "\t0\n",
      "\t8\n",
      "\n",
      "Noman like the following numbers:\n",
      "\t32\n",
      "\t55\n",
      "\t6\n"
     ]
    }
   ],
   "source": [
    "favorite_numbers = {\n",
    "    \"imran\": [12, 23, 10, 16],\n",
    "    \"adnan\": [7, 12, 4, 5],\n",
    "    \"jhangeer\": [1, 4, 0, 8],\n",
    "    \"noman\": [32, 55, 6],\n",
    "}\n",
    "\n",
    "for name, numbers in favorite_numbers.items():\n",
    "    print(\"\\n\"+name.title()+\" like the following numbers:\")\n",
    "    for number in numbers:\n",
    "        print(\"\\t\"+str(number))"
   ]
  },
  {
   "cell_type": "code",
   "execution_count": 26,
   "metadata": {},
   "outputs": [
    {
     "name": "stdout",
     "output_type": "stream",
     "text": [
      "\n",
      "Karachi is in Pakistan.\n",
      "  It has population if about 1 crore.\n",
      "  Karachi Is The Biggest City Of Pakistan.\n",
      "\n",
      "Quetta is in Pakistan.\n",
      "  It has population if about 10 lac.\n",
      "  Quetta Is The Hub Of Pakistan.\n",
      "\n",
      "Lahore is in Pakistan.\n",
      "  It has population if about 10 lac.\n",
      "  Capital City Of Pakistan.\n"
     ]
    }
   ],
   "source": [
    "cities = {\n",
    "    \"karachi\":{\"country\": \"pakistan\",\n",
    "               \"population\": \"1 crore\",\n",
    "               \"fact\": \"karachi is the biggest city of pakistan\"},\n",
    "    \n",
    "     \"quetta\":{\"country\": \"pakistan\",\n",
    "               \"population\": \"10 lac\",\n",
    "               \"fact\": \"quetta is the hub of pakistan\"},\n",
    "   \n",
    "    \"lahore\":{\"country\": \"pakistan\",\n",
    "               \"population\": \"10 lac\",\n",
    "               \"fact\": \"capital city of pakistan\"},\n",
    "    \n",
    "}\n",
    "\n",
    "for city, city_info in cities.items():\n",
    "    country = city_info['country'].title()\n",
    "    population = city_info['population']\n",
    "    fact = city_info['fact'].title()\n",
    "    \n",
    "    print(\"\\n\"+city.title() + \" is in \"+country+\".\")\n",
    "    print(\"  \"+ \"It has population if about \"+ str(population)+\".\")\n",
    "    print(\"  \"+fact+\".\")\n",
    "    "
   ]
  },
  {
   "cell_type": "code",
   "execution_count": null,
   "metadata": {},
   "outputs": [],
   "source": []
  }
 ],
 "metadata": {
  "kernelspec": {
   "display_name": "Python 3",
   "language": "python",
   "name": "python3"
  },
  "language_info": {
   "codemirror_mode": {
    "name": "ipython",
    "version": 3
   },
   "file_extension": ".py",
   "mimetype": "text/x-python",
   "name": "python",
   "nbconvert_exporter": "python",
   "pygments_lexer": "ipython3",
   "version": "3.7.3"
  }
 },
 "nbformat": 4,
 "nbformat_minor": 2
}
