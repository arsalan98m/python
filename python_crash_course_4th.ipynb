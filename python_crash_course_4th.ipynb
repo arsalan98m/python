{
 "cells": [
  {
   "cell_type": "code",
   "execution_count": 1,
   "metadata": {},
   "outputs": [
    {
     "name": "stdout",
     "output_type": "stream",
     "text": [
      "hello\n"
     ]
    }
   ],
   "source": [
    "def greet_user():\n",
    "    \"\"\" Display a simple Something \"\"\"\n",
    "    print(\"hello\")\n",
    "    \n",
    "greet_user()"
   ]
  },
  {
   "cell_type": "code",
   "execution_count": 2,
   "metadata": {},
   "outputs": [
    {
     "name": "stdout",
     "output_type": "stream",
     "text": [
      "Hello, Arsalan!\n"
     ]
    }
   ],
   "source": [
    "def greet_user(username):\n",
    "    \"\"\" Display a simple something\"\"\"\n",
    "    print(\"Hello, \" +username.title() +\"!\")\n",
    "\n",
    "greet_user(\"arsalan\")"
   ]
  },
  {
   "cell_type": "code",
   "execution_count": 3,
   "metadata": {},
   "outputs": [
    {
     "name": "stdout",
     "output_type": "stream",
     "text": [
      "What you are learning about this chapter.\n"
     ]
    }
   ],
   "source": [
    "def display_message():\n",
    "    print(\"What you are learning about this chapter.\")\n",
    "\n",
    "display_message()"
   ]
  },
  {
   "cell_type": "code",
   "execution_count": 4,
   "metadata": {},
   "outputs": [
    {
     "name": "stdout",
     "output_type": "stream",
     "text": [
      "One of my favorite book is Smarty Way To Learn Python\n"
     ]
    }
   ],
   "source": [
    "def favorite_book(title):\n",
    "    print(\"One of my favorite book is \"+title.title())\n",
    "\n",
    "favorite_book(\"smarty way to learn python\")\n",
    "    "
   ]
  },
  {
   "cell_type": "code",
   "execution_count": 5,
   "metadata": {},
   "outputs": [
    {
     "name": "stdout",
     "output_type": "stream",
     "text": [
      "\n",
      "I have a hamster.\n",
      "My hamster 's is 'Harry.\n",
      "\n",
      "I have a dog.\n",
      "My dog 's is 'Willie.\n"
     ]
    }
   ],
   "source": [
    "def describe_pet(animal_type, pet_name):\n",
    "    print(\"\\nI have a \"+animal_type+\".\")\n",
    "    print(\"My \"+animal_type+\" 's is '\"+pet_name.title()+\".\")\n",
    "    \n",
    "describe_pet('hamster','harry')\n",
    "describe_pet('dog','willie')"
   ]
  },
  {
   "cell_type": "code",
   "execution_count": 6,
   "metadata": {},
   "outputs": [
    {
     "name": "stdout",
     "output_type": "stream",
     "text": [
      "\n",
      "I have a hamster.\n",
      "My hamster 's is 'Harry.\n"
     ]
    }
   ],
   "source": [
    "describe_pet(animal_type='hamster', pet_name='harry')"
   ]
  },
  {
   "cell_type": "code",
   "execution_count": 7,
   "metadata": {},
   "outputs": [
    {
     "name": "stdout",
     "output_type": "stream",
     "text": [
      "\n",
      "I have a hamster.\n",
      "My hamster 's is 'Harry.\n"
     ]
    }
   ],
   "source": [
    "describe_pet(pet_name='harry',animal_type='hamster')"
   ]
  },
  {
   "cell_type": "code",
   "execution_count": 8,
   "metadata": {},
   "outputs": [
    {
     "name": "stdout",
     "output_type": "stream",
     "text": [
      "\n",
      "I have a dog.\n",
      "My dog 's is 'Willie.\n"
     ]
    }
   ],
   "source": [
    "def describe_pet(pet_name,animal_type='dog'):\n",
    "    print(\"\\nI have a \"+animal_type+\".\")\n",
    "    print(\"My \"+animal_type+\" 's is '\"+pet_name.title()+\".\")\n",
    "    \n",
    "describe_pet(pet_name='willie')"
   ]
  },
  {
   "cell_type": "code",
   "execution_count": 9,
   "metadata": {},
   "outputs": [
    {
     "name": "stdout",
     "output_type": "stream",
     "text": [
      "\n",
      "I have a dog.\n",
      "My dog 's is 'Willie.\n"
     ]
    }
   ],
   "source": [
    "describe_pet(\"willie\")"
   ]
  },
  {
   "cell_type": "code",
   "execution_count": 10,
   "metadata": {},
   "outputs": [
    {
     "name": "stdout",
     "output_type": "stream",
     "text": [
      "\n",
      "I have a hamster.\n",
      "My hamster 's is 'Harry.\n"
     ]
    }
   ],
   "source": [
    "describe_pet(pet_name='harry',animal_type='hamster')"
   ]
  },
  {
   "cell_type": "code",
   "execution_count": 11,
   "metadata": {},
   "outputs": [
    {
     "name": "stdout",
     "output_type": "stream",
     "text": [
      "\n",
      "I have a hamster.\n",
      "My hamster 's is 'Harry.\n"
     ]
    }
   ],
   "source": [
    "describe_pet('harry','hamster')"
   ]
  },
  {
   "cell_type": "code",
   "execution_count": 12,
   "metadata": {},
   "outputs": [
    {
     "ename": "TypeError",
     "evalue": "describe_pet() missing 1 required positional argument: 'pet_name'",
     "output_type": "error",
     "traceback": [
      "\u001b[1;31m---------------------------------------------------------------------------\u001b[0m",
      "\u001b[1;31mTypeError\u001b[0m                                 Traceback (most recent call last)",
      "\u001b[1;32m<ipython-input-12-f95e5f55e3d1>\u001b[0m in \u001b[0;36m<module>\u001b[1;34m\u001b[0m\n\u001b[1;32m----> 1\u001b[1;33m \u001b[0mdescribe_pet\u001b[0m\u001b[1;33m(\u001b[0m\u001b[1;33m)\u001b[0m\u001b[1;33m\u001b[0m\u001b[1;33m\u001b[0m\u001b[0m\n\u001b[0m",
      "\u001b[1;31mTypeError\u001b[0m: describe_pet() missing 1 required positional argument: 'pet_name'"
     ]
    }
   ],
   "source": [
    "describe_pet()"
   ]
  },
  {
   "cell_type": "code",
   "execution_count": null,
   "metadata": {},
   "outputs": [],
   "source": [
    "def make_shirt(size, text_message):\n",
    "    print(\"I'm going to make \"+size+ \" t-shirt\")\n",
    "    print(\"It will say, \"+text_message)\n",
    "    "
   ]
  },
  {
   "cell_type": "code",
   "execution_count": null,
   "metadata": {},
   "outputs": [],
   "source": [
    "make_shirt(\"large\",'\"i love python\"')"
   ]
  },
  {
   "cell_type": "code",
   "execution_count": null,
   "metadata": {},
   "outputs": [],
   "source": [
    "make_shirt(text_message = '\"Readability counts\"', size=\"medium\")"
   ]
  },
  {
   "cell_type": "code",
   "execution_count": null,
   "metadata": {},
   "outputs": [],
   "source": [
    "def make_shirt( text_message='I love python',size=\"Large\"):\n",
    "    print(\"I'm going to make \"+size+ \" t-shirt\")\n",
    "    print('It will say, \"'+ text_message +'\"')"
   ]
  },
  {
   "cell_type": "code",
   "execution_count": null,
   "metadata": {},
   "outputs": [],
   "source": [
    "make_shirt()"
   ]
  },
  {
   "cell_type": "code",
   "execution_count": null,
   "metadata": {},
   "outputs": [],
   "source": [
    "def describe_city(city_name, country_name=\"Pakistan\"):\n",
    "    print(city_name + \" is in \"+country_name)\n",
    "    "
   ]
  },
  {
   "cell_type": "code",
   "execution_count": null,
   "metadata": {},
   "outputs": [],
   "source": [
    "describe_city(\"karachi\")\n",
    "describe_city(city_name=\"kandhar\", country_name=\"afghanistan\")\n",
    "describe_city(\"lahore\")"
   ]
  },
  {
   "cell_type": "code",
   "execution_count": null,
   "metadata": {},
   "outputs": [],
   "source": [
    "def get_formatted_name(first_name, last_name):\n",
    "    full_name = first_name+\" \"+last_name\n",
    "    return full_name.title()\n",
    "\n",
    "returned_value = get_formatted_name(\"arsalan\",\"manzoor\")\n",
    "print(returned_value)"
   ]
  },
  {
   "cell_type": "code",
   "execution_count": null,
   "metadata": {},
   "outputs": [],
   "source": [
    "print(get_formatted_name(\"rehan\",\"manzoor\"))"
   ]
  },
  {
   "cell_type": "code",
   "execution_count": null,
   "metadata": {},
   "outputs": [],
   "source": [
    "def get_formatted_name(first_name, middle_name, last_name):\n",
    "    full_name = first_name + ' '+middle_name+' '+last_name\n",
    "    return full_name.title()\n",
    "\n",
    "return_value = get_formatted_name(\"muhammad\",\"arsalan\",\"manzoor\")\n",
    "print(return_value)"
   ]
  },
  {
   "cell_type": "code",
   "execution_count": null,
   "metadata": {},
   "outputs": [],
   "source": [
    "def get_formatted_name(first_name, last_name, middle_name=\"\"):\n",
    "    if middle_name:\n",
    "        full_name = first_name+' '+middle_name+' '+last_name\n",
    "    else:\n",
    "        full_name = first_name + ' ' + last_name\n",
    "    return full_name.title()"
   ]
  },
  {
   "cell_type": "code",
   "execution_count": null,
   "metadata": {},
   "outputs": [],
   "source": [
    "ret_value = get_formatted_name(\"rehan\",\"manzoor\")\n",
    "print(ret_value)"
   ]
  },
  {
   "cell_type": "code",
   "execution_count": null,
   "metadata": {},
   "outputs": [],
   "source": [
    "ret_value = get_formatted_name(\"m\",\"manzoor\",middle_name=\"rehan\")\n",
    "print(ret_value)"
   ]
  },
  {
   "cell_type": "code",
   "execution_count": null,
   "metadata": {},
   "outputs": [],
   "source": [
    "def build_person(first_name, last_name):\n",
    "    person = {'first': first_name, 'last': last_name}\n",
    "    return person\n",
    "\n",
    "return_value = build_person('arsalan','manzoor')\n",
    "print(return_value)"
   ]
  },
  {
   "cell_type": "code",
   "execution_count": null,
   "metadata": {},
   "outputs": [],
   "source": [
    "return_value = build_person('rehan','manzoor')\n",
    "print(return_value)"
   ]
  },
  {
   "cell_type": "code",
   "execution_count": null,
   "metadata": {},
   "outputs": [],
   "source": [
    "def build_person(first_name, last_name,age=''):\n",
    "    person = {'first': first_name, 'last': last_name}\n",
    "    \n",
    "    if age:\n",
    "        person['age'] = age\n",
    "    return person\n",
    "\n",
    "return_value = build_person('rehan','manzoor',age = 8)\n",
    "print(return_value)"
   ]
  },
  {
   "cell_type": "code",
   "execution_count": null,
   "metadata": {},
   "outputs": [],
   "source": [
    "def get_formatted_name(first_name, last_name):\n",
    "    full_name = first_name +' '+ last_name\n",
    "    return full_name.title()\n",
    "\n",
    "# this is infinite loop\n",
    "\n",
    "while True:\n",
    "    \n",
    "    print(\"\\nPlease tell me your name:\")\n",
    "    print(\"(enter 'q' at any time to quit)\")\n",
    "    \n",
    "    f_name = input(\"First name: \")\n",
    "    if f_name == 'q':\n",
    "        break\n",
    "    \n",
    "    l_name = input(\"Last name: \")\n",
    "    if l_name == 'q':\n",
    "        break\n",
    "        \n",
    "    formatted_name = get_formatted_name(f_name, l_name)\n",
    "    print(\"\\nHello, \"+formatted_name+\"!\")"
   ]
  },
  {
   "cell_type": "code",
   "execution_count": null,
   "metadata": {},
   "outputs": [],
   "source": [
    "def city_country(city_name, country_name):\n",
    "    return (city_name.title()+\", \"+country_name.title())\n",
    "\n",
    "return_val = city_country(\"santiago\",\"chile\")\n",
    "print(return_val)"
   ]
  },
  {
   "cell_type": "code",
   "execution_count": null,
   "metadata": {},
   "outputs": [],
   "source": [
    "return_val = city_country(\"karachi\",\"pakistan\")\n",
    "print(return_val)"
   ]
  },
  {
   "cell_type": "code",
   "execution_count": null,
   "metadata": {},
   "outputs": [],
   "source": [
    "def make_album(artist_name, album_title):\n",
    "    albums = {\n",
    "        'artist': artist_name.title(),\n",
    "        'title':album_title.title()}\n",
    "    return albums\n",
    "\n",
    "return_album=make_album(\"metallica\", 'ride the lightning')\n",
    "print(return_album)\n",
    "\n",
    "return_album=make_album(\"beethoven\", 'ninth symphony')\n",
    "print(return_album)\n",
    "\n",
    "return_album=make_album(\"atif aslam\", 'doorie')\n",
    "print(return_album)"
   ]
  },
  {
   "cell_type": "code",
   "execution_count": null,
   "metadata": {},
   "outputs": [],
   "source": [
    "def make_album(artist_name, album_title, no_of_track=0):\n",
    "    albums = {\n",
    "        'artist': artist_name.title(),\n",
    "        'title':album_title.title()}\n",
    "    \n",
    "    if no_of_track:\n",
    "        albums['no of tracks'] = no_of_track\n",
    "    return albums\n",
    "\n",
    "return_album=make_album(\"beethoven\", 'ninth symphony')\n",
    "print(return_album)\n",
    "\n",
    "return_album=make_album(\"atif aslam\", 'doorie',no_of_track=8)\n",
    "print(return_album)"
   ]
  },
  {
   "cell_type": "code",
   "execution_count": null,
   "metadata": {},
   "outputs": [],
   "source": [
    "def make_album(artist_name, album_title, no_of_track=0):\n",
    "    albums = {\n",
    "        'artist': artist_name.title(),\n",
    "        'title':album_title.title()}\n",
    "    return albums\n",
    "\n",
    "print(\"Enter 'quit' at any time to stop.\")\n",
    "while True:\n",
    "    \n",
    "    album = input(\"\\nWhat album are you thinking of? \")\n",
    "    if album == 'quit':\n",
    "        break\n",
    "    artist = input(\"Who's the artist? \")\n",
    "    \n",
    "    \n",
    "    \n",
    "    return_album = make_album(artist, album)\n",
    "    print(return_album)"
   ]
  },
  {
   "cell_type": "raw",
   "metadata": {},
   "source": [
    "def greet_users(names):\n",
    "    for name in names:\n",
    "        msg = \"Hello, \"+name.title()+\"!\"\n",
    "        print(msg)\n",
    "        \n",
    "user_names = [\"bilal\", \"aslam\", \"imran\"]\n",
    "greet_users(user_names)"
   ]
  },
  {
   "cell_type": "code",
   "execution_count": 13,
   "metadata": {},
   "outputs": [
    {
     "name": "stdout",
     "output_type": "stream",
     "text": [
      "Printing model: real me\n",
      "Printing model: vivo\n",
      "Printing model: iphone case\n",
      "\n",
      "The following models have been printed:\n",
      "real me\n",
      "vivo\n",
      "iphone case\n"
     ]
    }
   ],
   "source": [
    "unprinted_designs = ['iphone case', 'vivo', 'real me']\n",
    "completed_models = []\n",
    "\n",
    "while unprinted_designs:\n",
    "    current_design = unprinted_designs.pop()\n",
    "    \n",
    "    print(\"Printing model: \"+current_design)\n",
    "    completed_models.append(current_design)\n",
    "\n",
    "print(\"\\nThe following models have been printed:\")\n",
    "for completed_model in completed_models:\n",
    "    print(completed_model)"
   ]
  },
  {
   "cell_type": "code",
   "execution_count": 14,
   "metadata": {},
   "outputs": [],
   "source": [
    "def print_models(unprinted_designs, completed_models):\n",
    "    \n",
    "    while unprinted_designs:\n",
    "        current_design = unprinted_designs.pop()\n",
    "        \n",
    "        print(\"Printing models: \"+current_design)\n",
    "        \n",
    "        completed_models.append(current_design)\n",
    "        \n",
    "def show_completed_models(completed_models):\n",
    "    print(\"\\nThe following models that were printed\")\n",
    "    for completed_model in completed_models:\n",
    "        print(completed_model)\n",
    "\n",
    "unprinted_designs = ['vivo case', 'infinix', 'oppo']\n",
    "completed_models = []\n",
    "\n"
   ]
  },
  {
   "cell_type": "code",
   "execution_count": 15,
   "metadata": {},
   "outputs": [
    {
     "name": "stdout",
     "output_type": "stream",
     "text": [
      "Printing models: oppo\n",
      "Printing models: infinix\n",
      "Printing models: vivo case\n"
     ]
    }
   ],
   "source": [
    "print_models(unprinted_designs, completed_models)"
   ]
  },
  {
   "cell_type": "code",
   "execution_count": 16,
   "metadata": {},
   "outputs": [
    {
     "name": "stdout",
     "output_type": "stream",
     "text": [
      "\n",
      "The following models that were printed\n",
      "oppo\n",
      "infinix\n",
      "vivo case\n"
     ]
    }
   ],
   "source": [
    "show_completed_models(completed_models)"
   ]
  },
  {
   "cell_type": "code",
   "execution_count": 17,
   "metadata": {},
   "outputs": [],
   "source": [
    "print_models(unprinted_designs[:],completed_models)"
   ]
  },
  {
   "cell_type": "code",
   "execution_count": 18,
   "metadata": {},
   "outputs": [
    {
     "name": "stdout",
     "output_type": "stream",
     "text": [
      "Abra Ka Dabra\n",
      "Khull Ja Simsim\n",
      "Aladdin\n"
     ]
    }
   ],
   "source": [
    "def show_magicians(magicians):\n",
    "    for magician in magicians:\n",
    "        print(magician.title())\n",
    "\n",
    "magicians = [\"abra ka dabra\", \"khull ja simsim\", \"aladdin\"]\n",
    "show_magicians(magicians)"
   ]
  },
  {
   "cell_type": "code",
   "execution_count": 25,
   "metadata": {},
   "outputs": [],
   "source": [
    "def make_great(magicians):\n",
    "    \n",
    "    great_magicians = []\n",
    "    \n",
    "    while magicians:\n",
    "        \n",
    "        magician = magicians.pop()\n",
    "        \n",
    "        great_magician = magician + ' the Great'\n",
    "        great_magicians.append(great_magician)\n",
    "        \n",
    "    for magician in great_magicians:\n",
    "        magicians.append(great_magician)\n",
    "    return magicians  \n",
    "    "
   ]
  },
  {
   "cell_type": "code",
   "execution_count": 26,
   "metadata": {},
   "outputs": [
    {
     "name": "stdout",
     "output_type": "stream",
     "text": [
      "Abra Ka Dabra\n",
      "Khull Ja Simsim\n",
      "Aladdin\n"
     ]
    }
   ],
   "source": [
    "magicians = [\"abra ka dabra\", \"khull ja simsim\", \"aladdin\"]\n",
    "show_magicians(magicians)"
   ]
  },
  {
   "cell_type": "code",
   "execution_count": 28,
   "metadata": {},
   "outputs": [
    {
     "name": "stdout",
     "output_type": "stream",
     "text": [
      "Abra Ka Dabra\n",
      "Khull Ja Simsim\n",
      "Aladdin\n",
      "\n",
      "\n",
      "Abra Ka Dabra The Great\n",
      "Abra Ka Dabra The Great\n",
      "Abra Ka Dabra The Great\n",
      "\n",
      "\n",
      "Abra Ka Dabra The Great\n",
      "Abra Ka Dabra The Great\n",
      "Abra Ka Dabra The Great\n"
     ]
    }
   ],
   "source": [
    "magicians = [\"abra ka dabra\", \"khull ja simsim\", \"aladdin\"]\n",
    "show_magicians(magicians)\n",
    "print(\"\\n\")\n",
    "make_great(magicians)\n",
    "show_magicians(magicians)\n",
    "\n",
    "\n",
    "print(\"\\n\")\n",
    "show_magicians(magicians)"
   ]
  },
  {
   "cell_type": "code",
   "execution_count": 32,
   "metadata": {},
   "outputs": [
    {
     "name": "stdout",
     "output_type": "stream",
     "text": [
      "Abra Ka Dabra\n",
      "Khull Ja Simsim\n",
      "Aladdin\n",
      "\n",
      "Great magicians:\n",
      "Abra Ka Dabra The Great\n",
      "Abra Ka Dabra The Great\n",
      "Abra Ka Dabra The Great\n",
      "\n",
      "Original Magicians:\n",
      "Abra Ka Dabra\n",
      "Khull Ja Simsim\n",
      "Aladdin\n"
     ]
    }
   ],
   "source": [
    "magicians = [\"abra ka dabra\", \"khull ja simsim\", \"aladdin\"]\n",
    "show_magicians(magicians)\n",
    "\n",
    "print(\"\\nGreat magicians:\")\n",
    "great_magicians = make_great(magicians[:])\n",
    "show_magicians(great_magicians)\n",
    "\n",
    "print(\"\\nOriginal Magicians:\")\n",
    "show_magicians(magicians)"
   ]
  },
  {
   "cell_type": "code",
   "execution_count": 45,
   "metadata": {},
   "outputs": [
    {
     "name": "stdout",
     "output_type": "stream",
     "text": [
      "\n",
      "Making a piiza with the following toppings:\n",
      "- Pepperoni\n",
      "\n",
      "Making a piiza with the following toppings:\n",
      "- Mushrooms\n",
      "- Naan Tikka\n",
      "- Chinyoti\n"
     ]
    }
   ],
   "source": [
    "def make_pizza(*toppings):\n",
    "    print(\"\\nMaking a piiza with the following toppings:\")\n",
    "    for topping in toppings:\n",
    "        print(\"- \"+topping.title())\n",
    "    \n",
    "make_pizza('pepperoni')\n",
    "make_pizza('mushrooms', 'naan tikka', 'chinyoti')"
   ]
  },
  {
   "cell_type": "code",
   "execution_count": 68,
   "metadata": {},
   "outputs": [],
   "source": [
    "def make_pizza(size, *toppings):\n",
    "    print(\"\\nMaking a \"+str(size)+\n",
    "         \"-inch pizza with the following toppings:\")\n",
    "    for topping in toppings:\n",
    "        print(\"- \"+topping)"
   ]
  },
  {
   "cell_type": "code",
   "execution_count": 69,
   "metadata": {},
   "outputs": [
    {
     "name": "stdout",
     "output_type": "stream",
     "text": [
      "\n",
      "Making a 16-inch pizza with the following toppings:\n",
      "- koyla\n",
      "\n",
      "Making a 25-inch pizza with the following toppings:\n",
      "- malaiboti\n",
      "- charsi\n"
     ]
    }
   ],
   "source": [
    "make_pizza(16,'koyla')\n",
    "make_pizza(25,'malaiboti','charsi')"
   ]
  },
  {
   "cell_type": "code",
   "execution_count": 52,
   "metadata": {},
   "outputs": [],
   "source": [
    "def build_profile(first, last, **user_info):\n",
    "    profile = {}\n",
    "    profile['first name'] = first\n",
    "    profile['last name'] = last\n",
    "    \n",
    "    for key,value in user_info.items():\n",
    "        profile[key] = value\n",
    "    return profile\n"
   ]
  },
  {
   "cell_type": "code",
   "execution_count": 53,
   "metadata": {},
   "outputs": [],
   "source": [
    "user_profile = build_profile('arsalan','manzoor',location ='karachi',gender='male')"
   ]
  },
  {
   "cell_type": "code",
   "execution_count": 54,
   "metadata": {},
   "outputs": [
    {
     "name": "stdout",
     "output_type": "stream",
     "text": [
      "{'first name': 'arsalan', 'last name': 'manzoor', 'location': 'karachi', 'gender': 'male'}\n"
     ]
    }
   ],
   "source": [
    "print(user_profile)"
   ]
  },
  {
   "cell_type": "code",
   "execution_count": 58,
   "metadata": {},
   "outputs": [
    {
     "name": "stdout",
     "output_type": "stream",
     "text": [
      "\n",
      "I'll make you a great sandwich:\n",
      "...adding roast beef to your sandwich\n",
      "...adding tikka boti to your sandwich\n",
      "...adding koyla karhai to your sandwich\n",
      "...adding nihari boti to your sandwich\n",
      "Your sandwich is ready!\n",
      "\n",
      "I'll make you a great sandwich:\n",
      "...adding chicken boti to your sandwich\n",
      "...adding sabzi to your sandwich\n",
      "...adding daal to your sandwich\n",
      "Your sandwich is ready!\n"
     ]
    }
   ],
   "source": [
    "def make_sandwich(*sandwich):\n",
    "    print(\"\\nI'll make you a great sandwich:\")\n",
    "    for item in sandwich:\n",
    "        print(\"...adding \"+item+\" to your sandwich\")\n",
    "    print(\"Your sandwich is ready!\")\n",
    "    \n",
    "    \n",
    "make_sandwich(\"roast beef\",\"tikka boti\",\"koyla karhai\",\"nihari boti\")\n",
    "make_sandwich(\"chicken boti\", \"sabzi\", \"daal\")"
   ]
  },
  {
   "cell_type": "code",
   "execution_count": 59,
   "metadata": {},
   "outputs": [
    {
     "name": "stdout",
     "output_type": "stream",
     "text": [
      "{'car maufacturer': 'honda', 'car model': 'accord', 'year': 1992, 'color': 'white', 'headlight': 'popup'}\n"
     ]
    }
   ],
   "source": [
    "def making_car(car_manufacture, car_model, **other_parts):\n",
    "    car = {}\n",
    "    car['car maufacturer'] = car_manufacture\n",
    "    car['car model'] = car_model\n",
    "    \n",
    "    for key, value in other_parts.items():\n",
    "        car[key] = value\n",
    "    \n",
    "    return car\n",
    "\n",
    "my_accord = making_car('honda', 'accord', year = 1992, color='white',headlight='popup')\n",
    "print(my_accord)"
   ]
  },
  {
   "cell_type": "code",
   "execution_count": 2,
   "metadata": {},
   "outputs": [],
   "source": [
    "import import_ipynb"
   ]
  },
  {
   "cell_type": "code",
   "execution_count": 3,
   "metadata": {},
   "outputs": [
    {
     "name": "stdout",
     "output_type": "stream",
     "text": [
      "importing Jupyter notebook from pizza.ipynb\n"
     ]
    }
   ],
   "source": [
    "import pizza as p"
   ]
  },
  {
   "cell_type": "code",
   "execution_count": 6,
   "metadata": {},
   "outputs": [],
   "source": [
    "from pizza import make_pizza as mp"
   ]
  },
  {
   "cell_type": "code",
   "execution_count": 7,
   "metadata": {},
   "outputs": [
    {
     "name": "stdout",
     "output_type": "stream",
     "text": [
      "\n",
      "Making a  20 -inch pizza with the following toppings:\n",
      "-  koyla karhai\n"
     ]
    }
   ],
   "source": [
    "make_pizza(20,'koyla karhai')"
   ]
  },
  {
   "cell_type": "code",
   "execution_count": 8,
   "metadata": {},
   "outputs": [
    {
     "name": "stdout",
     "output_type": "stream",
     "text": [
      "\n",
      "Making a  24 -inch pizza with the following toppings:\n",
      "-  pepproni\n",
      "-  daal\n"
     ]
    }
   ],
   "source": [
    "mp(24,\"pepproni\",'daal')"
   ]
  },
  {
   "cell_type": "code",
   "execution_count": 4,
   "metadata": {},
   "outputs": [
    {
     "name": "stdout",
     "output_type": "stream",
     "text": [
      "\n",
      "Making a  16 -inch pizza with the following toppings:\n",
      "-  pepperoni\n"
     ]
    }
   ],
   "source": [
    "p.make_pizza(16,'pepperoni')"
   ]
  },
  {
   "cell_type": "code",
   "execution_count": 5,
   "metadata": {},
   "outputs": [],
   "source": [
    "from pizza import *"
   ]
  },
  {
   "cell_type": "code",
   "execution_count": 6,
   "metadata": {},
   "outputs": [
    {
     "name": "stdout",
     "output_type": "stream",
     "text": [
      "\n",
      "Making a  12 -inch pizza with the following toppings:\n",
      "-  mushroom\n",
      "-  green peppers\n",
      "-  extra cheese\n"
     ]
    }
   ],
   "source": [
    "make_pizza(12,'mushroom','green peppers','extra cheese')"
   ]
  },
  {
   "cell_type": "code",
   "execution_count": null,
   "metadata": {},
   "outputs": [],
   "source": []
  }
 ],
 "metadata": {
  "kernelspec": {
   "display_name": "Python 3",
   "language": "python",
   "name": "python3"
  },
  "language_info": {
   "codemirror_mode": {
    "name": "ipython",
    "version": 3
   },
   "file_extension": ".py",
   "mimetype": "text/x-python",
   "name": "python",
   "nbconvert_exporter": "python",
   "pygments_lexer": "ipython3",
   "version": "3.7.3"
  }
 },
 "nbformat": 4,
 "nbformat_minor": 2
}
