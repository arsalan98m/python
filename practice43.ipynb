{
 "cells": [
  {
   "cell_type": "code",
   "execution_count": 28,
   "metadata": {},
   "outputs": [
    {
     "name": "stdout",
     "output_type": "stream",
     "text": [
      "The car name is audi. Model of car is A8 and car color is brown\n"
     ]
    }
   ],
   "source": [
    "# Inheritance\n",
    "class Car():\n",
    "    def __init__(self, name, model, color):\n",
    "        self.name = name\n",
    "        self.model = model\n",
    "        self.color = color\n",
    "    \n",
    "    def average(self, kilom):\n",
    "        print(\"{} kilometers per liter\".format(kilom))\n",
    "    \n",
    "    def tank(self):\n",
    "        print(\"yes\")\n",
    "        \n",
    "class Electric_car(Car):\n",
    "    def __init__(self, name, model, color):\n",
    "        super().__init__(name, model, color)\n",
    "    \n",
    "    def tank(self):\n",
    "        print(\"No\")\n",
    "    \n",
    "    def get_description(self):\n",
    "        print(\"The car name is {}. Model of car is {} and car color is {}\".format(self.name, self.model, self.color))\n",
    "    \n",
    "    \n",
    "car1 = Car(\"audi\",\"A3\",\"black\")\n",
    "new_car = Electric_car(\"audi\",\"A8\",\"brown\")\n",
    "new_car.get_description()\n",
    "new_car."
   ]
  },
  {
   "cell_type": "code",
   "execution_count": 42,
   "metadata": {},
   "outputs": [
    {
     "name": "stdout",
     "output_type": "stream",
     "text": [
      "audi\n",
      "13 kilometers per liter\n",
      "audi\n",
      "Mercedes\n"
     ]
    }
   ],
   "source": [
    "print(car1.name)\n",
    "car1.average(13)\n",
    "\n",
    "print(car1.name)\n",
    "car1.name =\"Mercedes\"\n",
    "print(car1.name)"
   ]
  },
  {
   "cell_type": "code",
   "execution_count": 25,
   "metadata": {},
   "outputs": [
    {
     "name": "stdout",
     "output_type": "stream",
     "text": [
      "yes\n"
     ]
    }
   ],
   "source": [
    "car1.tank()"
   ]
  },
  {
   "cell_type": "code",
   "execution_count": 29,
   "metadata": {},
   "outputs": [
    {
     "name": "stdout",
     "output_type": "stream",
     "text": [
      "No\n"
     ]
    }
   ],
   "source": [
    "new_car.tank()"
   ]
  },
  {
   "cell_type": "code",
   "execution_count": 48,
   "metadata": {},
   "outputs": [],
   "source": [
    "# encapsulation\n",
    "\n",
    "class NewCar():\n",
    "    def __init__(self):\n",
    "        self.__maxAverage = 30\n",
    "    \n",
    "    def average(self):\n",
    "        print(\"{} kilometers per liter\".format(self.__maxAverage))\n",
    "    \n",
    "    def updateAverage(self, updated_value):\n",
    "        self.__maxAverage = updated_value\n",
    "        "
   ]
  },
  {
   "cell_type": "code",
   "execution_count": 51,
   "metadata": {},
   "outputs": [
    {
     "name": "stdout",
     "output_type": "stream",
     "text": [
      "30 kilometers per liter\n",
      "30 kilometers per liter\n",
      "35 kilometers per liter\n"
     ]
    }
   ],
   "source": [
    "obj = NewCar()\n",
    "obj.average()\n",
    "\n",
    "obj.__maxAverage = 60\n",
    "\n",
    "obj.average()\n",
    "\n",
    "obj.updateAverage(35)\n",
    "obj.average()"
   ]
  },
  {
   "cell_type": "code",
   "execution_count": 62,
   "metadata": {},
   "outputs": [],
   "source": [
    "# Polymorphism\n",
    "\n",
    "class Pakistan():\n",
    "    def detail(self):\n",
    "        print(\"The capital of pakistan is Islamabad. Population Pakistan 20 crore\")\n",
    "        \n",
    "        \n",
    "class USA():\n",
    "    def detail(self):\n",
    "        print(\"The capital of USA is Washington DC. Population of USA 40 crore.\")\n",
    "        \n",
    "def description(country):\n",
    "    country.detail()"
   ]
  },
  {
   "cell_type": "code",
   "execution_count": 63,
   "metadata": {},
   "outputs": [
    {
     "name": "stdout",
     "output_type": "stream",
     "text": [
      "The capital of pakistan is Islamabad. Population Pakistan 20 crore\n",
      "The capital of USA is Washington DC. Population of USA 40 crore.\n"
     ]
    }
   ],
   "source": [
    "pak = Pakistan()\n",
    "usa = USA()\n",
    "description(pak)\n",
    "description(usa)"
   ]
  },
  {
   "cell_type": "code",
   "execution_count": 69,
   "metadata": {},
   "outputs": [
    {
     "name": "stdout",
     "output_type": "stream",
     "text": [
      "9\n"
     ]
    }
   ],
   "source": [
    "class OverloadingDemo():\n",
    "    def sum(self,a=None,b=None,c=None):\n",
    "        if a != None and b!=None and c != None:\n",
    "            print(a+b+c)\n",
    "        elif a != None and b != None:\n",
    "            print(a+b)\n",
    "        \n",
    "    #def sum(self,a,b,c):\n",
    "     #   print(a+b+c)\n",
    "        \n",
    "obj3 = OverloadingDemo()\n",
    "\n",
    "obj3.sum(2,4,3)\n"
   ]
  },
  {
   "cell_type": "code",
   "execution_count": 70,
   "metadata": {},
   "outputs": [
    {
     "name": "stdout",
     "output_type": "stream",
     "text": [
      "6\n"
     ]
    }
   ],
   "source": [
    "obj4 = OverloadingDemo()\n",
    "obj3.sum(3,3)"
   ]
  },
  {
   "cell_type": "code",
   "execution_count": null,
   "metadata": {},
   "outputs": [],
   "source": []
  }
 ],
 "metadata": {
  "kernelspec": {
   "display_name": "Python 3",
   "language": "python",
   "name": "python3"
  },
  "language_info": {
   "codemirror_mode": {
    "name": "ipython",
    "version": 3
   },
   "file_extension": ".py",
   "mimetype": "text/x-python",
   "name": "python",
   "nbconvert_exporter": "python",
   "pygments_lexer": "ipython3",
   "version": "3.7.3"
  }
 },
 "nbformat": 4,
 "nbformat_minor": 2
}
