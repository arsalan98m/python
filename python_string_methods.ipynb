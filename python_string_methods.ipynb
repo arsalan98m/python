{
 "cells": [
  {
   "cell_type": "markdown",
   "metadata": {},
   "source": [
    "#### capitalize()"
   ]
  },
  {
   "cell_type": "code",
   "execution_count": 4,
   "metadata": {},
   "outputs": [
    {
     "name": "stdout",
     "output_type": "stream",
     "text": [
      "this is my string\n",
      "This is my string\n"
     ]
    }
   ],
   "source": [
    "# return a string where the first character is uppercase\n",
    "text = \"this is my string\"\n",
    "print(text)\n",
    "print(text.capitalize()) "
   ]
  },
  {
   "cell_type": "markdown",
   "metadata": {},
   "source": [
    "#### casefold()"
   ]
  },
  {
   "cell_type": "code",
   "execution_count": 5,
   "metadata": {},
   "outputs": [
    {
     "name": "stdout",
     "output_type": "stream",
     "text": [
      "THIS is My String\n",
      "this is my string\n"
     ]
    }
   ],
   "source": [
    "# The casefold method returns a string where all the characters are lower case\n",
    "text = \"THIS is My String\"\n",
    "print(text)\n",
    "print(text.casefold())"
   ]
  },
  {
   "cell_type": "markdown",
   "metadata": {},
   "source": [
    "#### center()"
   ]
  },
  {
   "cell_type": "code",
   "execution_count": 6,
   "metadata": {},
   "outputs": [
    {
     "name": "stdout",
     "output_type": "stream",
     "text": [
      "hello word\n",
      "     hello word     \n"
     ]
    }
   ],
   "source": [
    "# The center() method will center align the string, using a specified \n",
    "# (space is default) as the fill character.\n",
    "text = \"hello word\"\n",
    "print(text)\n",
    "print(text.center(20))"
   ]
  },
  {
   "cell_type": "markdown",
   "metadata": {},
   "source": [
    "#### count()"
   ]
  },
  {
   "cell_type": "code",
   "execution_count": 7,
   "metadata": {},
   "outputs": [
    {
     "name": "stdout",
     "output_type": "stream",
     "text": [
      "2\n"
     ]
    }
   ],
   "source": [
    "# The count() method returns the number of times a specified value appears in the string.\n",
    "text = \"I love mango, mango are very sweet\"\n",
    "print(text.count(\"mango\"))"
   ]
  },
  {
   "cell_type": "markdown",
   "metadata": {},
   "source": [
    "#### encode()"
   ]
  },
  {
   "cell_type": "code",
   "execution_count": 11,
   "metadata": {},
   "outputs": [
    {
     "name": "stdout",
     "output_type": "stream",
     "text": [
      "b'pyth\\xc2\\xb0n'\n"
     ]
    }
   ],
   "source": [
    "# The encode() method encodes the string, using the specified encoding\n",
    "# if no encoding is specified, UTF-8 will be used\n",
    "string = \"pyth°n\"\n",
    "print(string.encode())"
   ]
  },
  {
   "cell_type": "markdown",
   "metadata": {},
   "source": [
    "#### endswith()"
   ]
  },
  {
   "cell_type": "code",
   "execution_count": 12,
   "metadata": {},
   "outputs": [
    {
     "name": "stdout",
     "output_type": "stream",
     "text": [
      "True\n"
     ]
    }
   ],
   "source": [
    "# The endswith method returns True if the string ends with the specified\n",
    "# value , otherwise False.\n",
    "string = \"this is my string.\"\n",
    "print(string.endswith(\".\"))\n"
   ]
  },
  {
   "cell_type": "markdown",
   "metadata": {},
   "source": [
    "#### expandtabs()"
   ]
  },
  {
   "cell_type": "code",
   "execution_count": 17,
   "metadata": {},
   "outputs": [
    {
     "name": "stdout",
     "output_type": "stream",
     "text": [
      "H         e         l         l         o\n"
     ]
    }
   ],
   "source": [
    "# The expandtabs() method sets the tab size to the specified number\n",
    "# of whitespaces\n",
    "\n",
    "string = \"H\\te\\tl\\tl\\to\"\n",
    "print(string.expandtabs(10))"
   ]
  },
  {
   "cell_type": "markdown",
   "metadata": {},
   "source": [
    "#### find()"
   ]
  },
  {
   "cell_type": "code",
   "execution_count": 19,
   "metadata": {},
   "outputs": [
    {
     "name": "stdout",
     "output_type": "stream",
     "text": [
      "9\n"
     ]
    }
   ],
   "source": [
    "# The find method finds the first occurence of the specified value and return its index no\n",
    "# The find methods return -1 if the value is not found.\n",
    "# The find method is almost the same as index method, the only differnce\n",
    "# is that the index() method raises an exception if the value is not found\n",
    "\n",
    "text = \"Hello, this is my string\"\n",
    "print(text.find(\"is\"))"
   ]
  },
  {
   "cell_type": "markdown",
   "metadata": {},
   "source": [
    "#### format()"
   ]
  },
  {
   "cell_type": "code",
   "execution_count": 21,
   "metadata": {},
   "outputs": [
    {
     "name": "stdout",
     "output_type": "stream",
     "text": [
      "My name is arsalan\n"
     ]
    }
   ],
   "source": [
    "# The format method formats the specifed value and insert them inside the\n",
    "# string's placeholder\n",
    "\n",
    "# The placholder is defined using curly brackets\n",
    "\n",
    "print(\"My name is {}\".format(\"arsalan\"))"
   ]
  },
  {
   "cell_type": "markdown",
   "metadata": {},
   "source": [
    "#### format_map()"
   ]
  },
  {
   "cell_type": "code",
   "execution_count": 40,
   "metadata": {},
   "outputs": [
    {
     "name": "stdout",
     "output_type": "stream",
     "text": [
      "my name is arsalan and my age is 23\n"
     ]
    }
   ],
   "source": [
    "# the format_map method returns a new string by concatenating the values\n",
    "# in the dictionary provided by user within specified positions.\n",
    "\n",
    "my_dict = {'name': 'arsalan', 'age': \"23\"}\n",
    "\n",
    "print(\"my name is {name} and my age is {age}\".format_map(my_dict))"
   ]
  },
  {
   "cell_type": "markdown",
   "metadata": {},
   "source": [
    "#### index()"
   ]
  },
  {
   "cell_type": "code",
   "execution_count": 42,
   "metadata": {},
   "outputs": [
    {
     "name": "stdout",
     "output_type": "stream",
     "text": [
      "9\n"
     ]
    }
   ],
   "source": [
    "# The index() method finds the first occurence of the specified value\n",
    "# The index() method raises an exception if the value is not found\n",
    "\n",
    "text = \"Hello, this is my string\"\n",
    "print(text.index(\"is\"))\n"
   ]
  },
  {
   "cell_type": "markdown",
   "metadata": {},
   "source": [
    "#### isalnum()"
   ]
  },
  {
   "cell_type": "code",
   "execution_count": 43,
   "metadata": {},
   "outputs": [
    {
     "name": "stdout",
     "output_type": "stream",
     "text": [
      "True\n"
     ]
    }
   ],
   "source": [
    "# This isalnum() method returns True if all the characters are alphanumeric\n",
    "# , meaning alphabet letter(a-z) and numbers (0-9)\n",
    "\n",
    "text = \"arsalan22\"\n",
    "print(text.isalnum())"
   ]
  },
  {
   "cell_type": "markdown",
   "metadata": {},
   "source": [
    "#### isalpha()"
   ]
  },
  {
   "cell_type": "code",
   "execution_count": 44,
   "metadata": {},
   "outputs": [
    {
     "name": "stdout",
     "output_type": "stream",
     "text": [
      "True\n"
     ]
    }
   ],
   "source": [
    "# The isalpha() method returns True if all the characters are alphabet\n",
    "# letters (a-z)\n",
    "text = \"hello\"\n",
    "print(text.isalpha())"
   ]
  },
  {
   "cell_type": "markdown",
   "metadata": {},
   "source": [
    "#### isdecimal()"
   ]
  },
  {
   "cell_type": "code",
   "execution_count": 48,
   "metadata": {},
   "outputs": [
    {
     "name": "stdout",
     "output_type": "stream",
     "text": [
      "False\n"
     ]
    }
   ],
   "source": [
    "# The isdecimal() method returns True if all the characters are decimal (0-9)\n",
    "\n",
    "string = \"2sad121212\"\n",
    "print(string.isdecimal())"
   ]
  },
  {
   "cell_type": "markdown",
   "metadata": {},
   "source": [
    "#### isdigit()"
   ]
  },
  {
   "cell_type": "code",
   "execution_count": 49,
   "metadata": {},
   "outputs": [
    {
     "name": "stdout",
     "output_type": "stream",
     "text": [
      "True\n"
     ]
    }
   ],
   "source": [
    "# The isdigit() method returns True if all the characters are digits, otherwise false\n",
    "\n",
    "string = \"88838\"\n",
    "print(string.isdigit())"
   ]
  },
  {
   "cell_type": "markdown",
   "metadata": {},
   "source": [
    "#### isidentifier()"
   ]
  },
  {
   "cell_type": "code",
   "execution_count": 54,
   "metadata": {},
   "outputs": [
    {
     "name": "stdout",
     "output_type": "stream",
     "text": [
      "True\n"
     ]
    }
   ],
   "source": [
    "# The isidentifier() method returns True if the string is a valid identifier, otherwise false\n",
    "\n",
    "# A string is considered a valid identifier it it only contains \n",
    "# alphanumeric letters (a-z) and (0-9), or underscore (_).\n",
    "# A valid identifier cannot start with a number or contain any spaces\n",
    "text = \"demo\"\n",
    "print(text.isidentifier())"
   ]
  },
  {
   "cell_type": "markdown",
   "metadata": {},
   "source": [
    "#### islower()"
   ]
  },
  {
   "cell_type": "code",
   "execution_count": 55,
   "metadata": {},
   "outputs": [
    {
     "name": "stdout",
     "output_type": "stream",
     "text": [
      "False\n"
     ]
    }
   ],
   "source": [
    "# The islower() methid returns true if all the characters are in lowercase\n",
    "text = \"Hello world\"\n",
    "print(text.islower())"
   ]
  },
  {
   "cell_type": "markdown",
   "metadata": {},
   "source": [
    "#### isnumeric()"
   ]
  },
  {
   "cell_type": "code",
   "execution_count": 56,
   "metadata": {},
   "outputs": [
    {
     "name": "stdout",
     "output_type": "stream",
     "text": [
      "True\n"
     ]
    }
   ],
   "source": [
    "# The isnumeirc method returns True if all the characters are numeric\n",
    "# (0-9) , otherwise false\n",
    "\n",
    "text = \"31313\"\n",
    "print(text.isnumeric())"
   ]
  },
  {
   "cell_type": "markdown",
   "metadata": {},
   "source": [
    "#### isprintable()"
   ]
  },
  {
   "cell_type": "code",
   "execution_count": 62,
   "metadata": {},
   "outputs": [
    {
     "name": "stdout",
     "output_type": "stream",
     "text": [
      "False\n"
     ]
    }
   ],
   "source": [
    "# The isprintable() method returns True if all the characters are printable,otherwise false\n",
    "\n",
    "text = \"Hello! Are you \\t\"\n",
    "print(text.isprintable())"
   ]
  },
  {
   "cell_type": "markdown",
   "metadata": {},
   "source": [
    "#### isspace()"
   ]
  },
  {
   "cell_type": "code",
   "execution_count": 68,
   "metadata": {},
   "outputs": [
    {
     "name": "stdout",
     "output_type": "stream",
     "text": [
      "True\n"
     ]
    }
   ],
   "source": [
    "# The isspace method return True if there are only whitespace characters\n",
    "# otherwise false\n",
    "\n",
    "text = \"   \"\n",
    "print(text.isspace())"
   ]
  },
  {
   "cell_type": "markdown",
   "metadata": {},
   "source": [
    "#### istitle()"
   ]
  },
  {
   "cell_type": "code",
   "execution_count": 70,
   "metadata": {},
   "outputs": [
    {
     "name": "stdout",
     "output_type": "stream",
     "text": [
      "False\n"
     ]
    }
   ],
   "source": [
    "# The istitle() method return true if all word in text are capitalize\n",
    "text = \"Hello world\"\n",
    "print(text.istitle())"
   ]
  },
  {
   "cell_type": "markdown",
   "metadata": {},
   "source": [
    "#### isupper()"
   ]
  },
  {
   "cell_type": "code",
   "execution_count": 71,
   "metadata": {},
   "outputs": [
    {
     "name": "stdout",
     "output_type": "stream",
     "text": [
      "True\n"
     ]
    }
   ],
   "source": [
    "# The isupper method return True if all the characters are in uppercase\n",
    "text = \"HELLO WORLD\"\n",
    "print(text.isupper())"
   ]
  },
  {
   "cell_type": "markdown",
   "metadata": {},
   "source": [
    "#### join()"
   ]
  },
  {
   "cell_type": "code",
   "execution_count": 77,
   "metadata": {},
   "outputs": [
    {
     "name": "stdout",
     "output_type": "stream",
     "text": [
      "H $ e $ l $ l $ o $   $ W $ o $ r $ l $ d\n"
     ]
    }
   ],
   "source": [
    "# The join() method takes all items in an iterable and joins them into one string\n",
    "\n",
    "print(\" $ \".join(\"Hello World\"))"
   ]
  },
  {
   "cell_type": "markdown",
   "metadata": {},
   "source": [
    "#### ljust()"
   ]
  },
  {
   "cell_type": "code",
   "execution_count": 79,
   "metadata": {},
   "outputs": [
    {
     "name": "stdout",
     "output_type": "stream",
     "text": [
      "mango                is my favorite fruit.\n"
     ]
    }
   ],
   "source": [
    "# The ljust() method will left align the string, using a specified character\n",
    "# (space is default) as the fill character\n",
    "\n",
    "text = \"mango\"\n",
    "x = text.ljust(20)\n",
    "\n",
    "print(x, \"is my favorite fruit.\")"
   ]
  },
  {
   "cell_type": "markdown",
   "metadata": {},
   "source": [
    "#### lower()"
   ]
  },
  {
   "cell_type": "code",
   "execution_count": 80,
   "metadata": {},
   "outputs": [
    {
     "name": "stdout",
     "output_type": "stream",
     "text": [
      "hello world\n"
     ]
    }
   ],
   "source": [
    "# The lower method convert the string to lowercase\n",
    "\n",
    "text = \"HELlo wORLD\"\n",
    "print(text.lower())"
   ]
  },
  {
   "cell_type": "markdown",
   "metadata": {},
   "source": [
    "#### lstrip()"
   ]
  },
  {
   "cell_type": "code",
   "execution_count": 81,
   "metadata": {},
   "outputs": [
    {
     "name": "stdout",
     "output_type": "stream",
     "text": [
      "Hello world\n"
     ]
    }
   ],
   "source": [
    "# The lstrip() method removes any leading characters (space is the default leading character to remove)\n",
    "\n",
    "text = \"   Hello world\"\n",
    "print(text.lstrip())"
   ]
  },
  {
   "cell_type": "markdown",
   "metadata": {},
   "source": [
    "#### partition()"
   ]
  },
  {
   "cell_type": "code",
   "execution_count": 89,
   "metadata": {},
   "outputs": [
    {
     "name": "stdout",
     "output_type": "stream",
     "text": [
      "('I could eat ', 'fruits', ' all day')\n"
     ]
    }
   ],
   "source": [
    "# The partition method searches for a specified string, and splits the\n",
    "# string into tuple containing three elements.\n",
    "\n",
    "# The first element containes the part before the specified string\n",
    "# The second element contains the string specified string\n",
    "# The third element contains the part after the string.\n",
    "\n",
    "text = \"I could eat fruits all day\"\n",
    "print(text.partition(\"fruits\"))"
   ]
  },
  {
   "cell_type": "markdown",
   "metadata": {},
   "source": [
    "#### replace()"
   ]
  },
  {
   "cell_type": "code",
   "execution_count": 90,
   "metadata": {},
   "outputs": [
    {
     "name": "stdout",
     "output_type": "stream",
     "text": [
      "i hate mango\n"
     ]
    }
   ],
   "source": [
    "# The replace method replaces a specified phrase with another specified phrase\n",
    "\n",
    "text = \"i like mango\"\n",
    "print(text.replace(\"like\", \"hate\"))\n"
   ]
  },
  {
   "cell_type": "markdown",
   "metadata": {},
   "source": [
    "#### rfind()"
   ]
  },
  {
   "cell_type": "code",
   "execution_count": 94,
   "metadata": {},
   "outputs": [
    {
     "name": "stdout",
     "output_type": "stream",
     "text": [
      "10\n"
     ]
    }
   ],
   "source": [
    "# The rfind method find the last occurrence of the specified value\n",
    "\n",
    "# The rfind method returns -1 if the value is not found.\n",
    "\n",
    "# The rfind method is almost same as the rindex() method\n",
    "\n",
    "text = \"hello world\"\n",
    "print(text.rfind(\"d\"))\n"
   ]
  },
  {
   "cell_type": "markdown",
   "metadata": {},
   "source": [
    "#### rindex()"
   ]
  },
  {
   "cell_type": "code",
   "execution_count": 97,
   "metadata": {},
   "outputs": [
    {
     "name": "stdout",
     "output_type": "stream",
     "text": [
      "10\n"
     ]
    }
   ],
   "source": [
    "# The rindex method finds the last occurrence of the specified value\n",
    "\n",
    "# the rindex method raises an exception if the value is not found\n",
    "\n",
    "# the rindex() method is almost the same as the rfind() method\n",
    "\n",
    "text = \"hello world\"\n",
    "print(text.rindex(\"d\"))"
   ]
  },
  {
   "cell_type": "markdown",
   "metadata": {},
   "source": [
    "#### rjust()"
   ]
  },
  {
   "cell_type": "code",
   "execution_count": 98,
   "metadata": {},
   "outputs": [
    {
     "name": "stdout",
     "output_type": "stream",
     "text": [
      "               mango is my favorite fruit.\n"
     ]
    }
   ],
   "source": [
    "# the rjust method will right align the string , using  a specified character\n",
    "# (space is default) as the fill character\n",
    "\n",
    "text = \"mango\"\n",
    "\n",
    "x = text.rjust(20)\n",
    "\n",
    "print(x, \"is my favorite fruit.\")"
   ]
  },
  {
   "cell_type": "markdown",
   "metadata": {},
   "source": [
    "#### rpartition()"
   ]
  },
  {
   "cell_type": "code",
   "execution_count": 99,
   "metadata": {},
   "outputs": [
    {
     "name": "stdout",
     "output_type": "stream",
     "text": [
      "('I could ', 'eat', ' fruits all day')\n"
     ]
    }
   ],
   "source": [
    "# The rpartition method searches for the last occurrence of a specified\n",
    "# string and splits the string into tuple \n",
    "\n",
    "text = \"I could eat fruits all day\"\n",
    "\n",
    "print(text.rpartition(\"eat\"))"
   ]
  },
  {
   "cell_type": "markdown",
   "metadata": {},
   "source": [
    "#### rsplit()"
   ]
  },
  {
   "cell_type": "code",
   "execution_count": 102,
   "metadata": {},
   "outputs": [
    {
     "name": "stdout",
     "output_type": "stream",
     "text": [
      "['apple', ' mango', ' cherry banana']\n"
     ]
    }
   ],
   "source": [
    "# The rsplit() method splits a string into list starting from the right\n",
    "\n",
    "text = \"apple, mango, cherry banana\"\n",
    "\n",
    "print(text.rsplit(\",\"))"
   ]
  },
  {
   "cell_type": "markdown",
   "metadata": {},
   "source": [
    "#### rstrip()"
   ]
  },
  {
   "cell_type": "code",
   "execution_count": 103,
   "metadata": {},
   "outputs": [
    {
     "name": "stdout",
     "output_type": "stream",
     "text": [
      "  Hello\n"
     ]
    }
   ],
   "source": [
    "# the rstrip() method removes any trailing characters (characters at the end a string)\n",
    "# space is default trailing characters to remove\n",
    "\n",
    "text = \"  Hello    \"\n",
    "print(text.rstrip())"
   ]
  },
  {
   "cell_type": "markdown",
   "metadata": {},
   "source": [
    "#### split()"
   ]
  },
  {
   "cell_type": "code",
   "execution_count": 108,
   "metadata": {},
   "outputs": [
    {
     "name": "stdout",
     "output_type": "stream",
     "text": [
      "['welcome', 'to', 'jungle']\n"
     ]
    }
   ],
   "source": [
    "# the split method splits a string into a list\n",
    "\n",
    "text = \"welcome to jungle\"\n",
    "print(text.split())"
   ]
  },
  {
   "cell_type": "markdown",
   "metadata": {},
   "source": [
    "#### splitlines()"
   ]
  },
  {
   "cell_type": "code",
   "execution_count": 109,
   "metadata": {},
   "outputs": [
    {
     "name": "stdout",
     "output_type": "stream",
     "text": [
      "['thank you for playing games', ' welcome to the jungle']\n"
     ]
    }
   ],
   "source": [
    "# the splitlines method splits a string into a list the splitting is done at line breaks\n",
    "\n",
    "text = \"thank you for playing games\\n welcome to the jungle\"\n",
    "print(text.splitlines())"
   ]
  },
  {
   "cell_type": "markdown",
   "metadata": {},
   "source": [
    "#### startswith()"
   ]
  },
  {
   "cell_type": "code",
   "execution_count": 112,
   "metadata": {},
   "outputs": [
    {
     "name": "stdout",
     "output_type": "stream",
     "text": [
      "True\n"
     ]
    }
   ],
   "source": [
    "# the startswith() method returns true if the string starts with specified value\n",
    "\n",
    "text = \"hello world\"\n",
    "print(text.startswith(\"hello\"))"
   ]
  },
  {
   "cell_type": "markdown",
   "metadata": {},
   "source": [
    "#### strip()"
   ]
  },
  {
   "cell_type": "code",
   "execution_count": 113,
   "metadata": {},
   "outputs": [
    {
     "name": "stdout",
     "output_type": "stream",
     "text": [
      "hello\n"
     ]
    }
   ],
   "source": [
    "# the strip() method removes any leading(space at the beginning) and trailing(space at end) space (space is default)\n",
    "\n",
    "text = \"  hello   \"\n",
    "print(text.strip())"
   ]
  },
  {
   "cell_type": "markdown",
   "metadata": {},
   "source": [
    "#### swapcase()"
   ]
  },
  {
   "cell_type": "code",
   "execution_count": 114,
   "metadata": {},
   "outputs": [
    {
     "name": "stdout",
     "output_type": "stream",
     "text": [
      "hELLO mY NAME iS ARSALAN\n"
     ]
    }
   ],
   "source": [
    "# THe swapcase() method returns a string where all the uppercase letter\n",
    "# lowercase letter vice versa\n",
    "\n",
    "text = \"Hello My name Is arsalan\"\n",
    "print(text.swapcase())"
   ]
  },
  {
   "cell_type": "markdown",
   "metadata": {},
   "source": [
    "#### title()"
   ]
  },
  {
   "cell_type": "code",
   "execution_count": 116,
   "metadata": {},
   "outputs": [
    {
     "name": "stdout",
     "output_type": "stream",
     "text": [
      "Hello My Name Is Arsalan\n"
     ]
    }
   ],
   "source": [
    "# The title method return the string first character in every word uppercase\n",
    "\n",
    "text = \"hello my name is arsalan\"\n",
    "print(text.title())"
   ]
  },
  {
   "cell_type": "markdown",
   "metadata": {},
   "source": [
    "#### upper()"
   ]
  },
  {
   "cell_type": "code",
   "execution_count": 117,
   "metadata": {},
   "outputs": [
    {
     "name": "stdout",
     "output_type": "stream",
     "text": [
      "HELLO WORLD\n"
     ]
    }
   ],
   "source": [
    "# The upper method return all string in uppercase\n",
    "\n",
    "text = \"heLLO World\"\n",
    "print(text.upper())"
   ]
  },
  {
   "cell_type": "markdown",
   "metadata": {},
   "source": [
    "#### zfill()"
   ]
  },
  {
   "cell_type": "code",
   "execution_count": 129,
   "metadata": {},
   "outputs": [
    {
     "name": "stdout",
     "output_type": "stream",
     "text": [
      "00020\n"
     ]
    }
   ],
   "source": [
    "# The zfill method adds zero (0) at the beginning of the string,\n",
    "# untill it reaches the specified length\n",
    "\n",
    "text = \"20\"\n",
    "print(text.zfill(5))"
   ]
  },
  {
   "cell_type": "code",
   "execution_count": null,
   "metadata": {},
   "outputs": [],
   "source": []
  }
 ],
 "metadata": {
  "kernelspec": {
   "display_name": "Python 3",
   "language": "python",
   "name": "python3"
  },
  "language_info": {
   "codemirror_mode": {
    "name": "ipython",
    "version": 3
   },
   "file_extension": ".py",
   "mimetype": "text/x-python",
   "name": "python",
   "nbconvert_exporter": "python",
   "pygments_lexer": "ipython3",
   "version": "3.7.7"
  }
 },
 "nbformat": 4,
 "nbformat_minor": 4
}
