{
 "cells": [
  {
   "cell_type": "code",
   "execution_count": 23,
   "metadata": {},
   "outputs": [
    {
     "name": "stdout",
     "output_type": "stream",
     "text": [
      "\n",
      "-----------------\n",
      "    Main Menu\n",
      "-----------------\n",
      "             \n",
      "1. Add Tasks\n",
      "2. View Tasks\n",
      "3. Delete Tasks\n",
      "4. Terminate App\n",
      "Enter Command: 9\n",
      "Wrong Input!!\n",
      "9\n"
     ]
    }
   ],
   "source": [
    "# Learning \n",
    "def addTask(taskDictionary):\n",
    "    taskIndex = len(taskDictionary) + 1\n",
    "    taskName = input(f\"Add Task # {taskIndex}: \")\n",
    "    taskDictionary.update({taskIndex: taskName})\n",
    "    \n",
    "\n",
    "def isInteger(userInput):\n",
    "    try:\n",
    "        int(userInput)\n",
    "        return True\n",
    "    except ValueError:\n",
    "        return False\n",
    "    \n",
    "def mainMenu(menu):\n",
    "    print(\"\"\"\n",
    "-----------------\n",
    "    Main Menu\n",
    "-----------------\n",
    "             \"\"\")\n",
    "    for menuKey, menuValue in menu.items():\n",
    "        print(f\"{menuKey}. {menuValue}\")\n",
    "    \n",
    "    userCommand = input(\"Enter Command: \")\n",
    "    return userCommand\n",
    "\n",
    "menu = {\n",
    "    1: \"Add Tasks\",\n",
    "    2: \"View Tasks\",\n",
    "    3: \"Delete Tasks\",\n",
    "    4: \"Terminate App\",\n",
    "}\n",
    "\n",
    "\n",
    "taskDictionary = {}\n",
    "\n",
    "while True:\n",
    "    userCommand = mainMenu(menu)\n",
    "    \n",
    "    if isInteger(userCommand) == True:\n",
    "        userCommand = int(userCommand)\n",
    "        if userCommand > 0 and userCommand <=4:\n",
    "            \n",
    "            #Add Task\n",
    "            if userCommand == 1:\n",
    "                addTask(taskDictionary)\n",
    "            \n",
    "        else:\n",
    "            print(\"Wrong Input!!\")\n",
    "    else:\n",
    "        print(\"Invalid Command\")\n",
    "    print(userCommand)\n",
    "    break"
   ]
  },
  {
   "cell_type": "code",
   "execution_count": null,
   "metadata": {},
   "outputs": [],
   "source": []
  }
 ],
 "metadata": {
  "kernelspec": {
   "display_name": "Python 3",
   "language": "python",
   "name": "python3"
  },
  "language_info": {
   "codemirror_mode": {
    "name": "ipython",
    "version": 3
   },
   "file_extension": ".py",
   "mimetype": "text/x-python",
   "name": "python",
   "nbconvert_exporter": "python",
   "pygments_lexer": "ipython3",
   "version": "3.7.3"
  }
 },
 "nbformat": 4,
 "nbformat_minor": 2
}
