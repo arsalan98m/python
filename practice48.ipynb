{
 "cells": [
  {
   "cell_type": "code",
   "execution_count": 5,
   "metadata": {},
   "outputs": [
    {
     "name": "stdout",
     "output_type": "stream",
     "text": [
      "arsalan manzoor 0312122121 077\n"
     ]
    }
   ],
   "source": [
    "l1 = [\"arsalan\",\"manzoor\",\"0312122121\",\"077\"]\n",
    "# all elements are stored with index number \n",
    "# 0 = name\n",
    "# 1 = father name\n",
    "# 2 = cell\n",
    "# 3 = id\n",
    "print(l1[0],l1[1],l1[2],l1[3])"
   ]
  },
  {
   "cell_type": "code",
   "execution_count": 6,
   "metadata": {},
   "outputs": [
    {
     "name": "stdout",
     "output_type": "stream",
     "text": [
      "arsalan manzoor 0312122121 077\n"
     ]
    }
   ],
   "source": [
    "print(*l1) # same as above"
   ]
  },
  {
   "cell_type": "code",
   "execution_count": 9,
   "metadata": {},
   "outputs": [
    {
     "data": {
      "text/plain": [
       "{'name': 'arsalan',\n",
       " 'fname': 'manzoor',\n",
       " 'cell': '0312122121',\n",
       " 'id': '077',\n",
       " 'age': 23}"
      ]
     },
     "execution_count": 9,
     "metadata": {},
     "output_type": "execute_result"
    }
   ],
   "source": [
    "obj1 = {\n",
    "    'name': 'arsalan',\n",
    "    'fname': 'manzoor',\n",
    "    'cell': '0312122121',\n",
    "    'id': '077',\n",
    "    'age': 23,\n",
    "}\n",
    "\n",
    "obj1"
   ]
  },
  {
   "cell_type": "code",
   "execution_count": 10,
   "metadata": {},
   "outputs": [
    {
     "ename": "KeyError",
     "evalue": "0",
     "output_type": "error",
     "traceback": [
      "\u001b[1;31m---------------------------------------------------------------------------\u001b[0m",
      "\u001b[1;31mKeyError\u001b[0m                                  Traceback (most recent call last)",
      "\u001b[1;32m<ipython-input-10-e1cb28d23d8f>\u001b[0m in \u001b[0;36m<module>\u001b[1;34m\u001b[0m\n\u001b[1;32m----> 1\u001b[1;33m \u001b[0mobj1\u001b[0m\u001b[1;33m[\u001b[0m\u001b[1;36m0\u001b[0m\u001b[1;33m]\u001b[0m\u001b[1;33m\u001b[0m\u001b[1;33m\u001b[0m\u001b[0m\n\u001b[0m",
      "\u001b[1;31mKeyError\u001b[0m: 0"
     ]
    }
   ],
   "source": [
    "obj1[0]"
   ]
  },
  {
   "cell_type": "code",
   "execution_count": 11,
   "metadata": {},
   "outputs": [
    {
     "data": {
      "text/plain": [
       "'arsalan'"
      ]
     },
     "execution_count": 11,
     "metadata": {},
     "output_type": "execute_result"
    }
   ],
   "source": [
    "obj1['name']"
   ]
  },
  {
   "cell_type": "code",
   "execution_count": 12,
   "metadata": {},
   "outputs": [
    {
     "data": {
      "text/plain": [
       "'manzoor'"
      ]
     },
     "execution_count": 12,
     "metadata": {},
     "output_type": "execute_result"
    }
   ],
   "source": [
    "obj1['fname']"
   ]
  },
  {
   "cell_type": "code",
   "execution_count": 13,
   "metadata": {},
   "outputs": [
    {
     "data": {
      "text/plain": [
       "'0312122121'"
      ]
     },
     "execution_count": 13,
     "metadata": {},
     "output_type": "execute_result"
    }
   ],
   "source": [
    "obj1['cell']"
   ]
  },
  {
   "cell_type": "code",
   "execution_count": 14,
   "metadata": {},
   "outputs": [
    {
     "data": {
      "text/plain": [
       "'0312122121'"
      ]
     },
     "execution_count": 14,
     "metadata": {},
     "output_type": "execute_result"
    }
   ],
   "source": [
    "obj1['cell']"
   ]
  },
  {
   "cell_type": "code",
   "execution_count": 14,
   "metadata": {},
   "outputs": [],
   "source": [
    "# element = key: value(pair)\n",
    "# key= string,intger,float\n",
    "\n",
    "obj1 = {\n",
    "    'name': 'arsalan',\n",
    "    'fname': 'manzoor',\n",
    "    'cell': '0312122121',\n",
    "    'id': '077',\n",
    "    'age': 23,\n",
    "     0 : 'pakistan zindabad'\n",
    "}"
   ]
  },
  {
   "cell_type": "code",
   "execution_count": 16,
   "metadata": {},
   "outputs": [
    {
     "data": {
      "text/plain": [
       "'pakistan zindabad'"
      ]
     },
     "execution_count": 16,
     "metadata": {},
     "output_type": "execute_result"
    }
   ],
   "source": [
    "obj1[0]"
   ]
  },
  {
   "cell_type": "code",
   "execution_count": 13,
   "metadata": {},
   "outputs": [
    {
     "ename": "TypeError",
     "evalue": "unhashable type: 'list'",
     "output_type": "error",
     "traceback": [
      "\u001b[1;31m---------------------------------------------------------------------------\u001b[0m",
      "\u001b[1;31mTypeError\u001b[0m                                 Traceback (most recent call last)",
      "\u001b[1;32m<ipython-input-13-9ce975ff2f03>\u001b[0m in \u001b[0;36m<module>\u001b[1;34m\u001b[0m\n\u001b[0;32m      6\u001b[0m     \u001b[1;34m'age'\u001b[0m\u001b[1;33m:\u001b[0m \u001b[1;36m23\u001b[0m\u001b[1;33m,\u001b[0m\u001b[1;33m\u001b[0m\u001b[1;33m\u001b[0m\u001b[0m\n\u001b[0;32m      7\u001b[0m      \u001b[1;36m0\u001b[0m \u001b[1;33m:\u001b[0m \u001b[1;34m'pakistan zindabad'\u001b[0m\u001b[1;33m,\u001b[0m\u001b[1;33m\u001b[0m\u001b[1;33m\u001b[0m\u001b[0m\n\u001b[1;32m----> 8\u001b[1;33m     \u001b[1;33m[\u001b[0m\u001b[1;34m'abc'\u001b[0m\u001b[1;33m]\u001b[0m\u001b[1;33m:\u001b[0m \u001b[1;34m'hello world'\u001b[0m\u001b[1;33m\u001b[0m\u001b[1;33m\u001b[0m\u001b[0m\n\u001b[0m\u001b[0;32m      9\u001b[0m }\n",
      "\u001b[1;31mTypeError\u001b[0m: unhashable type: 'list'"
     ]
    }
   ],
   "source": [
    "obj1 = {\n",
    "    'name': 'arsalan',\n",
    "    'fname': 'manzoor',\n",
    "    'cell': '0312122121',\n",
    "    'id': '077',\n",
    "    'age': 23,\n",
    "     0 : 'pakistan zindabad',\n",
    "    ['abc']: 'hello world'\n",
    "}"
   ]
  },
  {
   "cell_type": "code",
   "execution_count": 20,
   "metadata": {},
   "outputs": [],
   "source": [
    "obj1 = {\n",
    "    'name': 'arsalan',\n",
    "    'fname': 'manzoor',\n",
    "    'cell': '0312122121',\n",
    "    'id': '077',\n",
    "    'age': 23,\n",
    "     0 : 'pakistan zindabad',\n",
    "    ('abc'): 'hello world'\n",
    "}"
   ]
  },
  {
   "cell_type": "code",
   "execution_count": 21,
   "metadata": {},
   "outputs": [
    {
     "data": {
      "text/plain": [
       "'hello world'"
      ]
     },
     "execution_count": 21,
     "metadata": {},
     "output_type": "execute_result"
    }
   ],
   "source": [
    "obj1['abc']"
   ]
  },
  {
   "cell_type": "code",
   "execution_count": 22,
   "metadata": {},
   "outputs": [
    {
     "data": {
      "text/plain": [
       "dict_keys(['name', 'fname', 'cell', 'id', 'age', 0, 'abc'])"
      ]
     },
     "execution_count": 22,
     "metadata": {},
     "output_type": "execute_result"
    }
   ],
   "source": [
    "obj1.keys()"
   ]
  },
  {
   "cell_type": "code",
   "execution_count": 23,
   "metadata": {},
   "outputs": [
    {
     "data": {
      "text/plain": [
       "['a', 'b', 'c']"
      ]
     },
     "execution_count": 23,
     "metadata": {},
     "output_type": "execute_result"
    }
   ],
   "source": [
    "obj1 = {\n",
    "    'name': 'arsalan',\n",
    "    'fname': 'manzoor',\n",
    "    'cell': '0312122121',\n",
    "    'id': '077',\n",
    "    'age': 23,\n",
    "     0 : 'pakistan zindabad',\n",
    "    'abc': ['a', 'b', 'c']\n",
    "}\n",
    "\n",
    "obj1['abc']"
   ]
  },
  {
   "cell_type": "code",
   "execution_count": 24,
   "metadata": {},
   "outputs": [
    {
     "data": {
      "text/plain": [
       "'b'"
      ]
     },
     "execution_count": 24,
     "metadata": {},
     "output_type": "execute_result"
    }
   ],
   "source": [
    "obj1['abc'][1]"
   ]
  },
  {
   "cell_type": "code",
   "execution_count": 1,
   "metadata": {},
   "outputs": [],
   "source": [
    "def abc(name,fname,course):\n",
    "    print(name,fname,course)"
   ]
  },
  {
   "cell_type": "code",
   "execution_count": 2,
   "metadata": {},
   "outputs": [
    {
     "name": "stdout",
     "output_type": "stream",
     "text": [
      "Arsalan Manzoor A.I\n"
     ]
    }
   ],
   "source": [
    "abc('Arsalan','Manzoor','A.I')"
   ]
  },
  {
   "cell_type": "code",
   "execution_count": 3,
   "metadata": {},
   "outputs": [
    {
     "ename": "TypeError",
     "evalue": "abc() missing 1 required positional argument: 'course'",
     "output_type": "error",
     "traceback": [
      "\u001b[1;31m---------------------------------------------------------------------------\u001b[0m",
      "\u001b[1;31mTypeError\u001b[0m                                 Traceback (most recent call last)",
      "\u001b[1;32m<ipython-input-3-f726f3f90b2f>\u001b[0m in \u001b[0;36m<module>\u001b[1;34m\u001b[0m\n\u001b[1;32m----> 1\u001b[1;33m \u001b[0mabc\u001b[0m\u001b[1;33m(\u001b[0m\u001b[1;34m'Arsalan'\u001b[0m\u001b[1;33m,\u001b[0m\u001b[1;34m'Manzoor'\u001b[0m\u001b[1;33m)\u001b[0m\u001b[1;33m\u001b[0m\u001b[1;33m\u001b[0m\u001b[0m\n\u001b[0m",
      "\u001b[1;31mTypeError\u001b[0m: abc() missing 1 required positional argument: 'course'"
     ]
    }
   ],
   "source": [
    "abc('Arsalan','Manzoor')"
   ]
  },
  {
   "cell_type": "code",
   "execution_count": 5,
   "metadata": {},
   "outputs": [
    {
     "name": "stdout",
     "output_type": "stream",
     "text": [
      "arsalan manzoor WEB\n"
     ]
    }
   ],
   "source": [
    "abc(course= \"WEB\",fname='manzoor',name='arsalan')"
   ]
  },
  {
   "cell_type": "code",
   "execution_count": 8,
   "metadata": {},
   "outputs": [
    {
     "name": "stdout",
     "output_type": "stream",
     "text": [
      "arslan manzoor Ai\n"
     ]
    }
   ],
   "source": [
    "obj = {\n",
    "    'course': 'Ai',\n",
    "    'name': 'arslan',\n",
    "    'fname': 'manzoor',\n",
    "}\n",
    "\n",
    "abc(**obj)"
   ]
  },
  {
   "cell_type": "code",
   "execution_count": 11,
   "metadata": {},
   "outputs": [
    {
     "name": "stdout",
     "output_type": "stream",
     "text": [
      "140724656772032\n",
      "140724656772032\n"
     ]
    }
   ],
   "source": [
    "a = 5\n",
    "b = 5\n",
    "\n",
    "print(id(a))\n",
    "print(id(b))"
   ]
  },
  {
   "cell_type": "code",
   "execution_count": 15,
   "metadata": {},
   "outputs": [
    {
     "data": {
      "text/plain": [
       "{'name': 'arsalan',\n",
       " 'fname': 'manzoor',\n",
       " 'cell': '0312122121',\n",
       " 'id': '077',\n",
       " 'age': 23,\n",
       " 0: 'pakistan zindabad'}"
      ]
     },
     "execution_count": 15,
     "metadata": {},
     "output_type": "execute_result"
    }
   ],
   "source": [
    "obj1"
   ]
  },
  {
   "cell_type": "code",
   "execution_count": 17,
   "metadata": {},
   "outputs": [
    {
     "name": "stdout",
     "output_type": "stream",
     "text": [
      "2414532683672\n",
      "2414532683672\n"
     ]
    }
   ],
   "source": [
    "obj2 = obj1\n",
    "print(id(obj1))\n",
    "print(id(obj2))"
   ]
  },
  {
   "cell_type": "code",
   "execution_count": 18,
   "metadata": {},
   "outputs": [
    {
     "data": {
      "text/plain": [
       "{'name': 'arsalan',\n",
       " 'fname': 'manzoor',\n",
       " 'cell': '0312122121',\n",
       " 'id': '077',\n",
       " 'age': 23,\n",
       " 0: 'pakistan zindabad'}"
      ]
     },
     "execution_count": 18,
     "metadata": {},
     "output_type": "execute_result"
    }
   ],
   "source": [
    "a =obj1.copy()\n",
    "a"
   ]
  },
  {
   "cell_type": "code",
   "execution_count": 19,
   "metadata": {},
   "outputs": [
    {
     "data": {
      "text/plain": [
       "{'course': 'Ai', 'name': 'arslan', 'fname': 'manzoor'}"
      ]
     },
     "execution_count": 19,
     "metadata": {},
     "output_type": "execute_result"
    }
   ],
   "source": [
    "obj"
   ]
  },
  {
   "cell_type": "code",
   "execution_count": 20,
   "metadata": {},
   "outputs": [
    {
     "name": "stdout",
     "output_type": "stream",
     "text": [
      "2414532683672\n",
      "2414532971544\n"
     ]
    }
   ],
   "source": [
    "print(id(obj1))\n",
    "print(id(a))"
   ]
  },
  {
   "cell_type": "code",
   "execution_count": 21,
   "metadata": {},
   "outputs": [
    {
     "data": {
      "text/plain": [
       "{}"
      ]
     },
     "execution_count": 21,
     "metadata": {},
     "output_type": "execute_result"
    }
   ],
   "source": [
    "obj.clear()\n",
    "obj"
   ]
  },
  {
   "cell_type": "code",
   "execution_count": 22,
   "metadata": {},
   "outputs": [
    {
     "data": {
      "text/plain": [
       "{'name': None, 'fname': None, 'course': None, 'timing': None, 'address': None}"
      ]
     },
     "execution_count": 22,
     "metadata": {},
     "output_type": "execute_result"
    }
   ],
   "source": [
    "l1 = ['name','fname','course','timing','address']\n",
    "dict.fromkeys(l1)"
   ]
  },
  {
   "cell_type": "code",
   "execution_count": 24,
   "metadata": {},
   "outputs": [
    {
     "data": {
      "text/plain": [
       "{'name': 'abc',\n",
       " 'fname': 'abc',\n",
       " 'course': 'abc',\n",
       " 'timing': 'abc',\n",
       " 'address': 'abc'}"
      ]
     },
     "execution_count": 24,
     "metadata": {},
     "output_type": "execute_result"
    }
   ],
   "source": [
    "a1 =  dict.fromkeys(l1,'abc')\n",
    "a1"
   ]
  },
  {
   "cell_type": "code",
   "execution_count": 25,
   "metadata": {},
   "outputs": [
    {
     "ename": "KeyError",
     "evalue": "'cell'",
     "output_type": "error",
     "traceback": [
      "\u001b[1;31m---------------------------------------------------------------------------\u001b[0m",
      "\u001b[1;31mKeyError\u001b[0m                                  Traceback (most recent call last)",
      "\u001b[1;32m<ipython-input-25-6d336e275f75>\u001b[0m in \u001b[0;36m<module>\u001b[1;34m\u001b[0m\n\u001b[1;32m----> 1\u001b[1;33m \u001b[0ma1\u001b[0m\u001b[1;33m[\u001b[0m\u001b[1;34m'cell'\u001b[0m\u001b[1;33m]\u001b[0m\u001b[1;33m\u001b[0m\u001b[1;33m\u001b[0m\u001b[0m\n\u001b[0m",
      "\u001b[1;31mKeyError\u001b[0m: 'cell'"
     ]
    }
   ],
   "source": [
    "a1['cell']"
   ]
  },
  {
   "cell_type": "code",
   "execution_count": 26,
   "metadata": {},
   "outputs": [
    {
     "data": {
      "text/plain": [
       "'abc'"
      ]
     },
     "execution_count": 26,
     "metadata": {},
     "output_type": "execute_result"
    }
   ],
   "source": [
    "a1.get('name')"
   ]
  },
  {
   "cell_type": "code",
   "execution_count": 27,
   "metadata": {},
   "outputs": [],
   "source": [
    "a1.get('cell')"
   ]
  },
  {
   "cell_type": "code",
   "execution_count": 28,
   "metadata": {},
   "outputs": [
    {
     "data": {
      "text/plain": [
       "'Not valid'"
      ]
     },
     "execution_count": 28,
     "metadata": {},
     "output_type": "execute_result"
    }
   ],
   "source": [
    "a1.get('cell','Not valid')"
   ]
  },
  {
   "cell_type": "code",
   "execution_count": 29,
   "metadata": {},
   "outputs": [
    {
     "data": {
      "text/plain": [
       "dict_items([('name', 'abc'), ('fname', 'abc'), ('course', 'abc'), ('timing', 'abc'), ('address', 'abc')])"
      ]
     },
     "execution_count": 29,
     "metadata": {},
     "output_type": "execute_result"
    }
   ],
   "source": [
    "a1.items()"
   ]
  },
  {
   "cell_type": "code",
   "execution_count": 30,
   "metadata": {},
   "outputs": [],
   "source": [
    "a1.get('contactNumber')"
   ]
  },
  {
   "cell_type": "code",
   "execution_count": 31,
   "metadata": {},
   "outputs": [
    {
     "data": {
      "text/plain": [
       "dict_keys(['name', 'fname', 'course', 'timing', 'address'])"
      ]
     },
     "execution_count": 31,
     "metadata": {},
     "output_type": "execute_result"
    }
   ],
   "source": [
    "l1 = a1.keys()\n",
    "l1"
   ]
  },
  {
   "cell_type": "code",
   "execution_count": 32,
   "metadata": {},
   "outputs": [
    {
     "name": "stdout",
     "output_type": "stream",
     "text": [
      "True\n"
     ]
    }
   ],
   "source": [
    "names = ['arsalan','asif','hamza','konain']\n",
    "\n",
    "for name in names:\n",
    "    if name == 'asif':\n",
    "        print(True)"
   ]
  },
  {
   "cell_type": "code",
   "execution_count": 36,
   "metadata": {},
   "outputs": [
    {
     "data": {
      "text/plain": [
       "True"
      ]
     },
     "execution_count": 36,
     "metadata": {},
     "output_type": "execute_result"
    }
   ],
   "source": [
    "'arsalan' in names"
   ]
  },
  {
   "cell_type": "code",
   "execution_count": 37,
   "metadata": {},
   "outputs": [
    {
     "data": {
      "text/plain": [
       "False"
      ]
     },
     "execution_count": 37,
     "metadata": {},
     "output_type": "execute_result"
    }
   ],
   "source": [
    "'timing' in names"
   ]
  },
  {
   "cell_type": "code",
   "execution_count": 38,
   "metadata": {},
   "outputs": [
    {
     "data": {
      "text/plain": [
       "dict_keys(['name', 'fname', 'cell', 'id', 'age', 0])"
      ]
     },
     "execution_count": 38,
     "metadata": {},
     "output_type": "execute_result"
    }
   ],
   "source": [
    "obj1.keys()"
   ]
  },
  {
   "cell_type": "code",
   "execution_count": 39,
   "metadata": {},
   "outputs": [
    {
     "data": {
      "text/plain": [
       "dict_values(['arsalan', 'manzoor', '0312122121', '077', 23, 'pakistan zindabad'])"
      ]
     },
     "execution_count": 39,
     "metadata": {},
     "output_type": "execute_result"
    }
   ],
   "source": [
    "obj1.values()"
   ]
  },
  {
   "cell_type": "code",
   "execution_count": 40,
   "metadata": {},
   "outputs": [
    {
     "data": {
      "text/plain": [
       "dict_items([('name', 'arsalan'), ('fname', 'manzoor'), ('cell', '0312122121'), ('id', '077'), ('age', 23), (0, 'pakistan zindabad')])"
      ]
     },
     "execution_count": 40,
     "metadata": {},
     "output_type": "execute_result"
    }
   ],
   "source": [
    "obj1.items()"
   ]
  },
  {
   "cell_type": "code",
   "execution_count": 41,
   "metadata": {},
   "outputs": [],
   "source": [
    "a1 = {\n",
    "    0: 'A',\n",
    "    1: 'B',\n",
    "    3: 'C',\n",
    "    2: 'D',\n",
    "}"
   ]
  },
  {
   "cell_type": "code",
   "execution_count": 42,
   "metadata": {},
   "outputs": [
    {
     "data": {
      "text/plain": [
       "[0, 1, 2, 3]"
      ]
     },
     "execution_count": 42,
     "metadata": {},
     "output_type": "execute_result"
    }
   ],
   "source": [
    "sorted(a1)"
   ]
  },
  {
   "cell_type": "code",
   "execution_count": 43,
   "metadata": {},
   "outputs": [
    {
     "data": {
      "text/plain": [
       "{'name': 'arsalan',\n",
       " 'fname': 'manzoor',\n",
       " 'cell': '0312122121',\n",
       " 'id': '077',\n",
       " 'age': 23,\n",
       " 0: 'pakistan zindabad'}"
      ]
     },
     "execution_count": 43,
     "metadata": {},
     "output_type": "execute_result"
    }
   ],
   "source": [
    "obj1"
   ]
  },
  {
   "cell_type": "code",
   "execution_count": 44,
   "metadata": {},
   "outputs": [
    {
     "name": "stdout",
     "output_type": "stream",
     "text": [
      "name\n",
      "fname\n",
      "cell\n",
      "id\n",
      "age\n",
      "0\n"
     ]
    }
   ],
   "source": [
    "for e in obj1:\n",
    "    print(e)"
   ]
  },
  {
   "cell_type": "code",
   "execution_count": 46,
   "metadata": {},
   "outputs": [
    {
     "name": "stdout",
     "output_type": "stream",
     "text": [
      "name\n",
      "fname\n",
      "cell\n",
      "id\n",
      "age\n",
      "0\n"
     ]
    }
   ],
   "source": [
    "for k in obj1.keys():\n",
    "    print(k)"
   ]
  },
  {
   "cell_type": "code",
   "execution_count": 47,
   "metadata": {},
   "outputs": [
    {
     "name": "stdout",
     "output_type": "stream",
     "text": [
      "arsalan\n",
      "manzoor\n",
      "0312122121\n",
      "077\n",
      "23\n",
      "pakistan zindabad\n"
     ]
    }
   ],
   "source": [
    "for v in obj1.values():\n",
    "    print(v)"
   ]
  },
  {
   "cell_type": "code",
   "execution_count": 48,
   "metadata": {},
   "outputs": [],
   "source": [
    "a, b = [20, 25]"
   ]
  },
  {
   "cell_type": "code",
   "execution_count": 49,
   "metadata": {},
   "outputs": [
    {
     "name": "stdout",
     "output_type": "stream",
     "text": [
      "20\n"
     ]
    }
   ],
   "source": [
    "print(a)"
   ]
  },
  {
   "cell_type": "code",
   "execution_count": 50,
   "metadata": {},
   "outputs": [
    {
     "name": "stdout",
     "output_type": "stream",
     "text": [
      "25\n"
     ]
    }
   ],
   "source": [
    "print(b)"
   ]
  },
  {
   "cell_type": "code",
   "execution_count": 51,
   "metadata": {},
   "outputs": [
    {
     "name": "stdout",
     "output_type": "stream",
     "text": [
      "<class 'int'>\n"
     ]
    }
   ],
   "source": [
    "print(type(a))"
   ]
  },
  {
   "cell_type": "code",
   "execution_count": 52,
   "metadata": {},
   "outputs": [
    {
     "data": {
      "text/plain": [
       "'abc'"
      ]
     },
     "execution_count": 52,
     "metadata": {},
     "output_type": "execute_result"
    }
   ],
   "source": [
    "a, b, c = 20, 35, 'abc'\n",
    "c"
   ]
  },
  {
   "cell_type": "code",
   "execution_count": 53,
   "metadata": {},
   "outputs": [],
   "source": [
    "a, b, c = (10, 30, 'abc')"
   ]
  },
  {
   "cell_type": "code",
   "execution_count": 54,
   "metadata": {},
   "outputs": [
    {
     "data": {
      "text/plain": [
       "10"
      ]
     },
     "execution_count": 54,
     "metadata": {},
     "output_type": "execute_result"
    }
   ],
   "source": [
    "a"
   ]
  },
  {
   "cell_type": "code",
   "execution_count": 55,
   "metadata": {},
   "outputs": [
    {
     "data": {
      "text/plain": [
       "'abc'"
      ]
     },
     "execution_count": 55,
     "metadata": {},
     "output_type": "execute_result"
    }
   ],
   "source": [
    "c"
   ]
  },
  {
   "cell_type": "code",
   "execution_count": 56,
   "metadata": {},
   "outputs": [
    {
     "name": "stdout",
     "output_type": "stream",
     "text": [
      "Key =  name Value =  arsalan\n",
      "Key =  fname Value =  manzoor\n",
      "Key =  cell Value =  0312122121\n",
      "Key =  id Value =  077\n",
      "Key =  age Value =  23\n",
      "Key =  0 Value =  pakistan zindabad\n"
     ]
    }
   ],
   "source": [
    "for k, v in obj1.items():\n",
    "    print('Key = ',k, 'Value = ',v)"
   ]
  },
  {
   "cell_type": "code",
   "execution_count": 57,
   "metadata": {},
   "outputs": [
    {
     "data": {
      "text/plain": [
       "{'name': 'arsalan',\n",
       " 'fname': 'manzoor',\n",
       " 'cell': '0312122121',\n",
       " 'id': '077',\n",
       " 'age': 23,\n",
       " 0: 'pakistan zindabad'}"
      ]
     },
     "execution_count": 57,
     "metadata": {},
     "output_type": "execute_result"
    }
   ],
   "source": [
    "obj1"
   ]
  },
  {
   "cell_type": "code",
   "execution_count": 61,
   "metadata": {},
   "outputs": [],
   "source": [
    "pop_data = obj1.pop('name')"
   ]
  },
  {
   "cell_type": "code",
   "execution_count": 62,
   "metadata": {},
   "outputs": [
    {
     "data": {
      "text/plain": [
       "'arsalan'"
      ]
     },
     "execution_count": 62,
     "metadata": {},
     "output_type": "execute_result"
    }
   ],
   "source": [
    "pop_data"
   ]
  },
  {
   "cell_type": "code",
   "execution_count": 63,
   "metadata": {},
   "outputs": [
    {
     "data": {
      "text/plain": [
       "{'fname': 'manzoor',\n",
       " 'cell': '0312122121',\n",
       " 'id': '077',\n",
       " 'age': 23,\n",
       " 0: 'pakistan zindabad'}"
      ]
     },
     "execution_count": 63,
     "metadata": {},
     "output_type": "execute_result"
    }
   ],
   "source": [
    "obj1"
   ]
  },
  {
   "cell_type": "code",
   "execution_count": 64,
   "metadata": {},
   "outputs": [
    {
     "data": {
      "text/plain": [
       "(0, 'pakistan zindabad')"
      ]
     },
     "execution_count": 64,
     "metadata": {},
     "output_type": "execute_result"
    }
   ],
   "source": [
    "obj1.popitem()"
   ]
  },
  {
   "cell_type": "code",
   "execution_count": 65,
   "metadata": {},
   "outputs": [
    {
     "data": {
      "text/plain": [
       "('age', 23)"
      ]
     },
     "execution_count": 65,
     "metadata": {},
     "output_type": "execute_result"
    }
   ],
   "source": [
    "obj1.popitem()"
   ]
  },
  {
   "cell_type": "code",
   "execution_count": 66,
   "metadata": {},
   "outputs": [
    {
     "data": {
      "text/plain": [
       "{'fname': 'manzoor', 'cell': '0312122121', 'id': '077'}"
      ]
     },
     "execution_count": 66,
     "metadata": {},
     "output_type": "execute_result"
    }
   ],
   "source": [
    "obj1"
   ]
  },
  {
   "cell_type": "code",
   "execution_count": 69,
   "metadata": {},
   "outputs": [
    {
     "data": {
      "text/plain": [
       "{'fname': 'manzoor', 'cell': '0312122121', 'id': '077', 'xyz': 'pak'}"
      ]
     },
     "execution_count": 69,
     "metadata": {},
     "output_type": "execute_result"
    }
   ],
   "source": [
    "obj1.setdefault('xyz','pak')\n",
    "obj1"
   ]
  },
  {
   "cell_type": "code",
   "execution_count": 70,
   "metadata": {},
   "outputs": [
    {
     "data": {
      "text/plain": [
       "{'fname': 'manzoor',\n",
       " 'cell': '0312122121',\n",
       " 'id': '077',\n",
       " 'xyz': 'pak',\n",
       " 'a': 'A',\n",
       " 'b': 'B',\n",
       " 'name': 'Arsalan'}"
      ]
     },
     "execution_count": 70,
     "metadata": {},
     "output_type": "execute_result"
    }
   ],
   "source": [
    "a1 = {\n",
    "    'a': 'A',\n",
    "    'b': 'B',\n",
    "    'name': 'Arsalan'\n",
    "}\n",
    "\n",
    "obj1.update(a1)\n",
    "obj1"
   ]
  },
  {
   "cell_type": "code",
   "execution_count": 71,
   "metadata": {},
   "outputs": [],
   "source": [
    "obj1.update({'id': '989'})"
   ]
  },
  {
   "cell_type": "code",
   "execution_count": 72,
   "metadata": {},
   "outputs": [
    {
     "data": {
      "text/plain": [
       "{'fname': 'manzoor',\n",
       " 'cell': '0312122121',\n",
       " 'id': '989',\n",
       " 'xyz': 'pak',\n",
       " 'a': 'A',\n",
       " 'b': 'B',\n",
       " 'name': 'Arsalan'}"
      ]
     },
     "execution_count": 72,
     "metadata": {},
     "output_type": "execute_result"
    }
   ],
   "source": [
    "obj1"
   ]
  },
  {
   "cell_type": "code",
   "execution_count": 73,
   "metadata": {},
   "outputs": [
    {
     "data": {
      "text/plain": [
       "{'a', 'b', 'c'}"
      ]
     },
     "execution_count": 73,
     "metadata": {},
     "output_type": "execute_result"
    }
   ],
   "source": [
    "{'a','b','a','c','a'} # set"
   ]
  },
  {
   "cell_type": "code",
   "execution_count": 74,
   "metadata": {},
   "outputs": [
    {
     "data": {
      "text/plain": [
       "{}"
      ]
     },
     "execution_count": 74,
     "metadata": {},
     "output_type": "execute_result"
    }
   ],
   "source": [
    "a1 = {}\n",
    "a1"
   ]
  },
  {
   "cell_type": "code",
   "execution_count": 75,
   "metadata": {},
   "outputs": [
    {
     "data": {
      "text/plain": [
       "{'name': 'arsalan', 'fname': 'manzoor'}"
      ]
     },
     "execution_count": 75,
     "metadata": {},
     "output_type": "execute_result"
    }
   ],
   "source": [
    "a1['name'] = 'arsalan'\n",
    "a1['fname'] = 'manzoor'\n",
    "a1"
   ]
  },
  {
   "cell_type": "code",
   "execution_count": 1,
   "metadata": {},
   "outputs": [
    {
     "name": "stdout",
     "output_type": "stream",
     "text": [
      "\n",
      "Press 'x' for exit \n",
      "Enter your name: arslan\n",
      "Enter your Father's name: manzoor\n",
      "\n",
      "Press 'x' for exit \n",
      "Enter your name: bilal\n",
      "Enter your Father's name: ahmed\n",
      "\n",
      "Press 'x' for exit \n",
      "Enter your name: x\n",
      "Enter your Father's name: x\n"
     ]
    }
   ],
   "source": [
    "db = []\n",
    "\n",
    "while True:\n",
    "    print(\"\\nPress 'x' for exit \")\n",
    "    name = input(\"Enter your name: \")\n",
    "    fname = input(\"Enter your Father's name: \")\n",
    "    \n",
    "    r = {}\n",
    "    if name !='x' or fname != 'x':\n",
    "        r['name'] = name\n",
    "        r['fname'] = fname\n",
    "        db.append(r)\n",
    "    else:\n",
    "        break"
   ]
  },
  {
   "cell_type": "code",
   "execution_count": 2,
   "metadata": {},
   "outputs": [
    {
     "data": {
      "text/plain": [
       "[{'name': 'arslan', 'fname': 'manzoor'}, {'name': 'bilal', 'fname': 'ahmed'}]"
      ]
     },
     "execution_count": 2,
     "metadata": {},
     "output_type": "execute_result"
    }
   ],
   "source": [
    "db"
   ]
  },
  {
   "cell_type": "code",
   "execution_count": 3,
   "metadata": {},
   "outputs": [],
   "source": [
    "def info():\n",
    "    print(\"Saylani Welfare Trust\")\n",
    "    print(\"Bahadurabad\")\n",
    "    print(\"Karachi\")\n",
    "    print(\"A.I\")"
   ]
  },
  {
   "cell_type": "code",
   "execution_count": 4,
   "metadata": {},
   "outputs": [
    {
     "name": "stdout",
     "output_type": "stream",
     "text": [
      "Saylani Welfare Trust\n",
      "Bahadurabad\n",
      "Karachi\n",
      "A.I\n"
     ]
    }
   ],
   "source": [
    "info()"
   ]
  },
  {
   "cell_type": "code",
   "execution_count": 13,
   "metadata": {},
   "outputs": [],
   "source": [
    "def student (name,sid,fname):\n",
    "    abc = \"\"\"\n",
    "    Saylani Welfare Trus\n",
    "    Bahadurabd Krachi\n",
    "    Name: {}\n",
    "    Fname: {}\n",
    "    Roll no: {}\n",
    "    \"\"\".format(name,fname,sid)\n",
    "    return abc"
   ]
  },
  {
   "cell_type": "code",
   "execution_count": 14,
   "metadata": {},
   "outputs": [
    {
     "name": "stdout",
     "output_type": "stream",
     "text": [
      "\n",
      "    Saylani Welfare Trus\n",
      "    Bahadurabd Krachi\n",
      "    Name: ali\n",
      "    Fname: 007\n",
      "    Roll no: hamza\n",
      "    \n"
     ]
    }
   ],
   "source": [
    "print(student('ali','hamza','007'))"
   ]
  },
  {
   "cell_type": "code",
   "execution_count": 15,
   "metadata": {},
   "outputs": [
    {
     "name": "stdout",
     "output_type": "stream",
     "text": [
      "\n",
      "    Saylani Welfare Trus\n",
      "    Bahadurabd Krachi\n",
      "    Name: ali\n",
      "    Fname: hamza\n",
      "    Roll no: 007\n",
      "    \n"
     ]
    }
   ],
   "source": [
    "print(student(name='ali',fname='hamza',sid='007'))"
   ]
  },
  {
   "cell_type": "code",
   "execution_count": 16,
   "metadata": {},
   "outputs": [],
   "source": [
    "l1 = [{'name': 'ali','fname':'hamza','sid':1},\n",
    "     {'name': 'farooq','fname':'imran','sid':2},\n",
    "     {'name': 'junaid','fname':'iqbal','sid':3}]"
   ]
  },
  {
   "cell_type": "code",
   "execution_count": 17,
   "metadata": {},
   "outputs": [
    {
     "name": "stdout",
     "output_type": "stream",
     "text": [
      "\n",
      "    Saylani Welfare Trus\n",
      "    Bahadurabd Krachi\n",
      "    Name: ali\n",
      "    Fname: hamza\n",
      "    Roll no: 1\n",
      "    \n",
      "\n",
      "    Saylani Welfare Trus\n",
      "    Bahadurabd Krachi\n",
      "    Name: farooq\n",
      "    Fname: imran\n",
      "    Roll no: 2\n",
      "    \n",
      "\n",
      "    Saylani Welfare Trus\n",
      "    Bahadurabd Krachi\n",
      "    Name: junaid\n",
      "    Fname: iqbal\n",
      "    Roll no: 3\n",
      "    \n"
     ]
    }
   ],
   "source": [
    "for d in l1:\n",
    "    print(student(**d))"
   ]
  },
  {
   "cell_type": "code",
   "execution_count": 22,
   "metadata": {},
   "outputs": [
    {
     "name": "stdout",
     "output_type": "stream",
     "text": [
      "nameali\n",
      "sid1\n",
      "\n",
      "    Saylani Welfare Trus\n",
      "    Bahadurabd Krachi\n",
      "    Name: ali\n",
      "    Fname: hamza\n",
      "    Roll no: 1\n",
      "    \n",
      "Valid user\n"
     ]
    }
   ],
   "source": [
    "a1 = input('name')\n",
    "a2 = int(input('sid'))\n",
    "\n",
    "for d in l1:\n",
    "    if d['name'] == a1 and d['sid'] == a2:\n",
    "        print(student(**d))\n",
    "        print(\"Valid user\")\n",
    "        break\n",
    "    else:\n",
    "        print(\"Invalid user\")"
   ]
  },
  {
   "cell_type": "code",
   "execution_count": 23,
   "metadata": {},
   "outputs": [
    {
     "name": "stdout",
     "output_type": "stream",
     "text": [
      "\n",
      "    Saylani Welfare Trus\n",
      "    Bahadurabd Krachi\n",
      "    Name: abid\n",
      "    Fname: 3\n",
      "    Roll no: ali\n",
      "    \n"
     ]
    }
   ],
   "source": [
    "print(student('abid','ali',3)) # seq arguments"
   ]
  },
  {
   "cell_type": "code",
   "execution_count": 24,
   "metadata": {},
   "outputs": [
    {
     "name": "stdout",
     "output_type": "stream",
     "text": [
      "\n",
      "    Saylani Welfare Trus\n",
      "    Bahadurabd Krachi\n",
      "    Name: abid\n",
      "    Fname: ali\n",
      "    Roll no: 3\n",
      "    \n"
     ]
    }
   ],
   "source": [
    "print(student(name='abid',fname='ali',sid=3)) # keyword arguments"
   ]
  },
  {
   "cell_type": "code",
   "execution_count": 25,
   "metadata": {},
   "outputs": [
    {
     "name": "stdout",
     "output_type": "stream",
     "text": [
      "\n",
      "    Saylani Welfare Trus\n",
      "    Bahadurabd Krachi\n",
      "    Name: qasim\n",
      "    Fname: 7\n",
      "    Roll no: aslam\n",
      "    \n"
     ]
    }
   ],
   "source": [
    "l1 = ['qasim','aslam',7]\n",
    "print(student(*l1))"
   ]
  },
  {
   "cell_type": "code",
   "execution_count": 26,
   "metadata": {},
   "outputs": [
    {
     "name": "stdout",
     "output_type": "stream",
     "text": [
      "\n",
      "    Saylani Welfare Trus\n",
      "    Bahadurabd Krachi\n",
      "    Name: ali\n",
      "    Fname: hamza\n",
      "    Roll no: 1\n",
      "    \n"
     ]
    }
   ],
   "source": [
    "l2 = {'name': 'ali','fname':'hamza','sid':1}\n",
    "print(student(**l2))"
   ]
  },
  {
   "cell_type": "code",
   "execution_count": 29,
   "metadata": {},
   "outputs": [
    {
     "name": "stdout",
     "output_type": "stream",
     "text": [
      "1\n",
      "8\n",
      "18\n",
      "20\n"
     ]
    }
   ],
   "source": [
    "def abc(a=0,b=0,c=0):\n",
    "    return a+b+c\n",
    "\n",
    "print(abc(1))\n",
    "print(abc(1,7))\n",
    "print(abc(1,8,9))\n",
    "print(abc(c=20))"
   ]
  },
  {
   "cell_type": "code",
   "execution_count": 30,
   "metadata": {},
   "outputs": [
    {
     "ename": "TypeError",
     "evalue": "abc() takes from 0 to 3 positional arguments but 7 were given",
     "output_type": "error",
     "traceback": [
      "\u001b[1;31m---------------------------------------------------------------------------\u001b[0m",
      "\u001b[1;31mTypeError\u001b[0m                                 Traceback (most recent call last)",
      "\u001b[1;32m<ipython-input-30-65bcd561930c>\u001b[0m in \u001b[0;36m<module>\u001b[1;34m\u001b[0m\n\u001b[1;32m----> 1\u001b[1;33m \u001b[0mabc\u001b[0m\u001b[1;33m(\u001b[0m\u001b[1;36m1\u001b[0m\u001b[1;33m,\u001b[0m\u001b[1;36m8\u001b[0m\u001b[1;33m,\u001b[0m\u001b[1;36m9\u001b[0m\u001b[1;33m,\u001b[0m\u001b[1;36m0\u001b[0m\u001b[1;33m,\u001b[0m\u001b[1;36m20\u001b[0m\u001b[1;33m,\u001b[0m\u001b[1;36m78\u001b[0m\u001b[1;33m,\u001b[0m\u001b[1;36m89\u001b[0m\u001b[1;33m)\u001b[0m\u001b[1;33m\u001b[0m\u001b[1;33m\u001b[0m\u001b[0m\n\u001b[0m",
      "\u001b[1;31mTypeError\u001b[0m: abc() takes from 0 to 3 positional arguments but 7 were given"
     ]
    }
   ],
   "source": [
    "abc(1,8,9,0,20,78,89)"
   ]
  },
  {
   "cell_type": "code",
   "execution_count": 31,
   "metadata": {},
   "outputs": [],
   "source": [
    "def abc(*a):\n",
    "    return sum(a)"
   ]
  },
  {
   "cell_type": "code",
   "execution_count": 32,
   "metadata": {},
   "outputs": [
    {
     "name": "stdout",
     "output_type": "stream",
     "text": [
      "25\n",
      "1\n",
      "24\n"
     ]
    }
   ],
   "source": [
    "print(abc(1,2,3,9,10))\n",
    "print(abc(1))\n",
    "print(abc(2,4,8,10))"
   ]
  },
  {
   "cell_type": "code",
   "execution_count": 33,
   "metadata": {},
   "outputs": [],
   "source": [
    "def abc(name,fname,*a):\n",
    "    print(\"user: \",name)\n",
    "    print(\"fname\",fname)\n",
    "    print(sum(a))"
   ]
  },
  {
   "cell_type": "code",
   "execution_count": 34,
   "metadata": {},
   "outputs": [
    {
     "name": "stdout",
     "output_type": "stream",
     "text": [
      "user:  arsalan\n",
      "fname manzoor\n",
      "31\n"
     ]
    }
   ],
   "source": [
    "abc(\"arsalan\",\"manzoor\",21,2,2,2,2,2)"
   ]
  },
  {
   "cell_type": "code",
   "execution_count": 35,
   "metadata": {},
   "outputs": [
    {
     "name": "stdout",
     "output_type": "stream",
     "text": [
      "{'name': 'arslan', 'fname': 'manzoor'}\n",
      "None\n",
      "{'a': 'aa', 'b': 'cc'}\n",
      "None\n"
     ]
    }
   ],
   "source": [
    "def abc(**d):\n",
    "    print(d)\n",
    "\n",
    "print(abc(name='arslan',fname='manzoor'))\n",
    "print(abc(a='aa',b='cc'))"
   ]
  },
  {
   "cell_type": "code",
   "execution_count": 86,
   "metadata": {},
   "outputs": [],
   "source": [
    "data = [{'name':'Mehran','fname':'Kamal','pass':True},\n",
    "       {'name':'Ali','fname':'Kamal','pass':True},\n",
    "       {'name':'Azhar','fname':'Kamal','pass':True},\n",
    "       {'name':'Irfan','fname':'Kamal','pass':False},\n",
    "       {'name':'Aslam','fname':'Kamal','pass':False}]\n",
    "\n"
   ]
  },
  {
   "cell_type": "code",
   "execution_count": 92,
   "metadata": {},
   "outputs": [],
   "source": [
    "pass_students = []\n",
    "fail_students = []\n",
    "i = 0\n",
    "\n",
    "for elem in data:\n",
    "   \n",
    "    if elem['pass'] == True:\n",
    "        pass_students.append(data[i])\n",
    "    else:\n",
    "        fail_students.append(data[i])\n",
    "    i +=1"
   ]
  },
  {
   "cell_type": "code",
   "execution_count": 93,
   "metadata": {},
   "outputs": [
    {
     "data": {
      "text/plain": [
       "[{'name': 'Mehran', 'fname': 'Kamal', 'pass': True},\n",
       " {'name': 'Ali', 'fname': 'Kamal', 'pass': True},\n",
       " {'name': 'Azhar', 'fname': 'Kamal', 'pass': True},\n",
       " {'name': 'Irfan', 'fname': 'Kamal', 'pass': False},\n",
       " {'name': 'Aslam', 'fname': 'Kamal', 'pass': False}]"
      ]
     },
     "execution_count": 93,
     "metadata": {},
     "output_type": "execute_result"
    }
   ],
   "source": [
    "data"
   ]
  },
  {
   "cell_type": "code",
   "execution_count": 94,
   "metadata": {},
   "outputs": [
    {
     "data": {
      "text/plain": [
       "[{'name': 'Mehran', 'fname': 'Kamal', 'pass': True},\n",
       " {'name': 'Ali', 'fname': 'Kamal', 'pass': True},\n",
       " {'name': 'Azhar', 'fname': 'Kamal', 'pass': True}]"
      ]
     },
     "execution_count": 94,
     "metadata": {},
     "output_type": "execute_result"
    }
   ],
   "source": [
    "registered"
   ]
  },
  {
   "cell_type": "code",
   "execution_count": 95,
   "metadata": {},
   "outputs": [
    {
     "data": {
      "text/plain": [
       "[{'name': 'Irfan', 'fname': 'Kamal', 'pass': False},\n",
       " {'name': 'Aslam', 'fname': 'Kamal', 'pass': False}]"
      ]
     },
     "execution_count": 95,
     "metadata": {},
     "output_type": "execute_result"
    }
   ],
   "source": [
    "fail_students"
   ]
  },
  {
   "cell_type": "code",
   "execution_count": 101,
   "metadata": {},
   "outputs": [
    {
     "name": "stdout",
     "output_type": "stream",
     "text": [
      "Registered Students:\n",
      "Mehran\n",
      "Kamal\n",
      "Parring status:  True\n",
      "\n",
      "\n",
      "Ali\n",
      "Kamal\n",
      "Parring status:  True\n",
      "\n",
      "\n",
      "Azhar\n",
      "Kamal\n",
      "Parring status:  True\n",
      "\n",
      "\n"
     ]
    }
   ],
   "source": [
    "print(\"Registered Students:\")\n",
    "for i in registered:\n",
    "    print(i['name'])\n",
    "    print(i['fname'])\n",
    "    print(\"Parring status: \",i['pass'])\n",
    "    print(\"\\n\")"
   ]
  },
  {
   "cell_type": "code",
   "execution_count": null,
   "metadata": {},
   "outputs": [],
   "source": []
  }
 ],
 "metadata": {
  "kernelspec": {
   "display_name": "Python 3",
   "language": "python",
   "name": "python3"
  },
  "language_info": {
   "codemirror_mode": {
    "name": "ipython",
    "version": 3
   },
   "file_extension": ".py",
   "mimetype": "text/x-python",
   "name": "python",
   "nbconvert_exporter": "python",
   "pygments_lexer": "ipython3",
   "version": "3.7.3"
  }
 },
 "nbformat": 4,
 "nbformat_minor": 2
}
