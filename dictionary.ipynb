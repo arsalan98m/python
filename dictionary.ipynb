{
 "cells": [
  {
   "cell_type": "code",
   "execution_count": 10,
   "metadata": {},
   "outputs": [],
   "source": [
    "customer_1 = {\"first name\": \"arsalan\", \"last name\": \"manzoor\", \n",
    "              \"address\": \"bufferzone karachi\"}"
   ]
  },
  {
   "cell_type": "code",
   "execution_count": 11,
   "metadata": {},
   "outputs": [
    {
     "name": "stdout",
     "output_type": "stream",
     "text": [
      "bufferzone karachi\n"
     ]
    }
   ],
   "source": [
    "address_of_customer = customer_1[\"address\"]\n",
    "print(address_of_customer)"
   ]
  },
  {
   "cell_type": "code",
   "execution_count": 12,
   "metadata": {},
   "outputs": [
    {
     "data": {
      "text/plain": [
       "3"
      ]
     },
     "execution_count": 12,
     "metadata": {},
     "output_type": "execute_result"
    }
   ],
   "source": [
    "len(customer_1)"
   ]
  },
  {
   "cell_type": "code",
   "execution_count": 13,
   "metadata": {},
   "outputs": [],
   "source": [
    "customer_1[\"email\"] = \"arsalan@gmail.com\""
   ]
  },
  {
   "cell_type": "code",
   "execution_count": 14,
   "metadata": {},
   "outputs": [
    {
     "data": {
      "text/plain": [
       "{'first name': 'arsalan',\n",
       " 'last name': 'manzoor',\n",
       " 'address': 'bufferzone karachi',\n",
       " 'email': 'arsalan@gmail.com'}"
      ]
     },
     "execution_count": 14,
     "metadata": {},
     "output_type": "execute_result"
    }
   ],
   "source": [
    "customer_1"
   ]
  },
  {
   "cell_type": "code",
   "execution_count": 16,
   "metadata": {},
   "outputs": [
    {
     "data": {
      "text/plain": [
       "'arsalan'"
      ]
     },
     "execution_count": 16,
     "metadata": {},
     "output_type": "execute_result"
    }
   ],
   "source": [
    "customer_1[\"first name\"]"
   ]
  },
  {
   "cell_type": "code",
   "execution_count": 17,
   "metadata": {},
   "outputs": [
    {
     "data": {
      "text/plain": [
       "'manzoor'"
      ]
     },
     "execution_count": 17,
     "metadata": {},
     "output_type": "execute_result"
    }
   ],
   "source": [
    "customer_1[\"last name\"]"
   ]
  },
  {
   "cell_type": "code",
   "execution_count": 24,
   "metadata": {},
   "outputs": [],
   "source": [
    "newDic = {1: \"AHMED\", 2: \"IMRAN\"}"
   ]
  },
  {
   "cell_type": "code",
   "execution_count": 25,
   "metadata": {},
   "outputs": [
    {
     "data": {
      "text/plain": [
       "'AHMED'"
      ]
     },
     "execution_count": 25,
     "metadata": {},
     "output_type": "execute_result"
    }
   ],
   "source": [
    "newDic[1]"
   ]
  },
  {
   "cell_type": "code",
   "execution_count": 26,
   "metadata": {},
   "outputs": [
    {
     "data": {
      "text/plain": [
       "'IMRAN'"
      ]
     },
     "execution_count": 26,
     "metadata": {},
     "output_type": "execute_result"
    }
   ],
   "source": [
    "newDic[2]"
   ]
  },
  {
   "cell_type": "code",
   "execution_count": 27,
   "metadata": {},
   "outputs": [],
   "source": [
    "del newDic[1]"
   ]
  },
  {
   "cell_type": "code",
   "execution_count": 28,
   "metadata": {},
   "outputs": [
    {
     "data": {
      "text/plain": [
       "{2: 'IMRAN'}"
      ]
     },
     "execution_count": 28,
     "metadata": {},
     "output_type": "execute_result"
    }
   ],
   "source": [
    "newDic"
   ]
  },
  {
   "cell_type": "code",
   "execution_count": 29,
   "metadata": {},
   "outputs": [],
   "source": [
    "myDic = {\"name\": \"arsalan\", \"age\": 22, \"gendre\": \"male\",\"email\": \"abc@gmail.com\"}"
   ]
  },
  {
   "cell_type": "code",
   "execution_count": 30,
   "metadata": {},
   "outputs": [
    {
     "data": {
      "text/plain": [
       "{'name': 'arsalan', 'age': 22, 'gendre': 'male', 'email': 'abc@gmail.com'}"
      ]
     },
     "execution_count": 30,
     "metadata": {},
     "output_type": "execute_result"
    }
   ],
   "source": [
    "myDic"
   ]
  },
  {
   "cell_type": "code",
   "execution_count": 32,
   "metadata": {},
   "outputs": [],
   "source": [
    "myDic[\"email\"] = \"arsalan@gmail.com\""
   ]
  },
  {
   "cell_type": "code",
   "execution_count": 33,
   "metadata": {},
   "outputs": [
    {
     "data": {
      "text/plain": [
       "{'name': 'arsalan', 'age': 22, 'gendre': 'male', 'email': 'arsalan@gmail.com'}"
      ]
     },
     "execution_count": 33,
     "metadata": {},
     "output_type": "execute_result"
    }
   ],
   "source": [
    "myDic"
   ]
  },
  {
   "cell_type": "code",
   "execution_count": 34,
   "metadata": {},
   "outputs": [],
   "source": [
    "aDic = {1:100 ,2:200, 3:300, 4:400 , 1:10000 }"
   ]
  },
  {
   "cell_type": "code",
   "execution_count": 35,
   "metadata": {},
   "outputs": [
    {
     "data": {
      "text/plain": [
       "{1: 10000, 2: 200, 3: 300, 4: 400}"
      ]
     },
     "execution_count": 35,
     "metadata": {},
     "output_type": "execute_result"
    }
   ],
   "source": [
    "aDic"
   ]
  },
  {
   "cell_type": "code",
   "execution_count": 36,
   "metadata": {},
   "outputs": [
    {
     "data": {
      "text/plain": [
       "True"
      ]
     },
     "execution_count": 36,
     "metadata": {},
     "output_type": "execute_result"
    }
   ],
   "source": [
    "1 in aDic"
   ]
  },
  {
   "cell_type": "code",
   "execution_count": 39,
   "metadata": {},
   "outputs": [
    {
     "data": {
      "text/plain": [
       "True"
      ]
     },
     "execution_count": 39,
     "metadata": {},
     "output_type": "execute_result"
    }
   ],
   "source": [
    "\"age\" in myDic"
   ]
  },
  {
   "cell_type": "code",
   "execution_count": 40,
   "metadata": {},
   "outputs": [
    {
     "name": "stdout",
     "output_type": "stream",
     "text": [
      "24.0\n"
     ]
    }
   ],
   "source": [
    "sumDic = {\n",
    "    1: 9.0,\n",
    "    2: 10.0,\n",
    "    3: 5.0\n",
    "}\n",
    "\n",
    "print(sumDic[1]+sumDic[2]+sumDic[3])"
   ]
  },
  {
   "cell_type": "code",
   "execution_count": 41,
   "metadata": {},
   "outputs": [],
   "source": [
    "newDic = {}"
   ]
  },
  {
   "cell_type": "code",
   "execution_count": 42,
   "metadata": {},
   "outputs": [],
   "source": [
    "newDic[1] = \"faisal\"\n"
   ]
  },
  {
   "cell_type": "code",
   "execution_count": 43,
   "metadata": {},
   "outputs": [
    {
     "data": {
      "text/plain": [
       "{1: 'faisal'}"
      ]
     },
     "execution_count": 43,
     "metadata": {},
     "output_type": "execute_result"
    }
   ],
   "source": [
    "newDic"
   ]
  },
  {
   "cell_type": "code",
   "execution_count": 44,
   "metadata": {},
   "outputs": [],
   "source": [
    "newDic[2] = \"noman\"\n",
    "newDic[3] = \"jawwad\""
   ]
  },
  {
   "cell_type": "code",
   "execution_count": 45,
   "metadata": {},
   "outputs": [
    {
     "data": {
      "text/plain": [
       "{1: 'faisal', 2: 'noman', 3: 'jawwad'}"
      ]
     },
     "execution_count": 45,
     "metadata": {},
     "output_type": "execute_result"
    }
   ],
   "source": [
    "newDic"
   ]
  },
  {
   "cell_type": "code",
   "execution_count": 46,
   "metadata": {},
   "outputs": [
    {
     "data": {
      "text/plain": [
       "{'name': 'arsalan', 'age': 22, 'gendre': 'male', 'email': 'arsalan@gmail.com'}"
      ]
     },
     "execution_count": 46,
     "metadata": {},
     "output_type": "execute_result"
    }
   ],
   "source": [
    "myDic"
   ]
  },
  {
   "cell_type": "code",
   "execution_count": 47,
   "metadata": {},
   "outputs": [],
   "source": [
    "student_1 = {\n",
    "    \"Name\": \"Arsalan\",\n",
    "    \"Class\": \"AI\",\n",
    "    \"Age\" : 22,\n",
    "    \"Program\": \"PIAIC\"\n",
    "}"
   ]
  },
  {
   "cell_type": "code",
   "execution_count": 48,
   "metadata": {},
   "outputs": [
    {
     "name": "stdout",
     "output_type": "stream",
     "text": [
      "Arsalan\n",
      "AI\n",
      "22\n",
      "PIAIC\n"
     ]
    }
   ],
   "source": [
    "for value in student_1.values():\n",
    "    print(value)"
   ]
  },
  {
   "cell_type": "code",
   "execution_count": 49,
   "metadata": {},
   "outputs": [
    {
     "name": "stdout",
     "output_type": "stream",
     "text": [
      "Name\n",
      "Class\n",
      "Age\n",
      "Program\n"
     ]
    }
   ],
   "source": [
    "for key in student_1.keys():\n",
    "    print(key)"
   ]
  },
  {
   "cell_type": "code",
   "execution_count": 53,
   "metadata": {},
   "outputs": [
    {
     "name": "stdout",
     "output_type": "stream",
     "text": [
      "Name is Arsalan\n",
      "Class is AI\n",
      "Age is 22\n",
      "Program is PIAIC\n"
     ]
    }
   ],
   "source": [
    "for key,value in student_1.items():\n",
    "    print(f\"{key} is {value}\")"
   ]
  },
  {
   "cell_type": "code",
   "execution_count": 1,
   "metadata": {},
   "outputs": [],
   "source": [
    "customer_ids = [101, 102, 103]"
   ]
  },
  {
   "cell_type": "code",
   "execution_count": 2,
   "metadata": {},
   "outputs": [],
   "source": [
    "customers = [{\n",
    "    \"customer id\": 0,\n",
    "    \"first name\": \"arsalan\",\n",
    "    \"last name\" : \"manzoor\",\n",
    "    \"gender\"    : \"male\",\n",
    "},\n",
    "{\n",
    "    \"customer id\": 1,\n",
    "    \"first name\": \"rizwan\",\n",
    "    \"last name\" : \"akhtar\",\n",
    "    \"gender\"    : \"male\",       \n",
    "},\n",
    "{\n",
    "    \"customer id\": 2,\n",
    "    \"first name\": \"umair\",\n",
    "    \"last name\" : \"idress\",\n",
    "    \"gender\"    : \"male\",\n",
    "\n",
    "}]"
   ]
  },
  {
   "cell_type": "code",
   "execution_count": 3,
   "metadata": {},
   "outputs": [
    {
     "data": {
      "text/plain": [
       "{'customer id': 1,\n",
       " 'first name': 'rizwan',\n",
       " 'last name': 'akhtar',\n",
       " 'gender': 'male'}"
      ]
     },
     "execution_count": 3,
     "metadata": {},
     "output_type": "execute_result"
    }
   ],
   "source": [
    "customers[1]"
   ]
  },
  {
   "cell_type": "code",
   "execution_count": 5,
   "metadata": {},
   "outputs": [
    {
     "data": {
      "text/plain": [
       "'akhtar'"
      ]
     },
     "execution_count": 5,
     "metadata": {},
     "output_type": "execute_result"
    }
   ],
   "source": [
    "customers[1][\"last name\"]"
   ]
  },
  {
   "cell_type": "code",
   "execution_count": 6,
   "metadata": {},
   "outputs": [
    {
     "data": {
      "text/plain": [
       "3"
      ]
     },
     "execution_count": 6,
     "metadata": {},
     "output_type": "execute_result"
    }
   ],
   "source": [
    "len(customers)"
   ]
  },
  {
   "cell_type": "code",
   "execution_count": 7,
   "metadata": {},
   "outputs": [],
   "source": [
    "customer_29876 = {\n",
    "    \"first name\": \"ahmed\",\n",
    "    \"last name\": \"faraz\",\n",
    "    \"address\": \"baloch colony\",\n",
    "    \"discount\" : [\"standard\", \"volume\", \"loyalty\"],\n",
    "}"
   ]
  },
  {
   "cell_type": "code",
   "execution_count": 8,
   "metadata": {},
   "outputs": [],
   "source": [
    "if \"brother-in-law\" in customer_29876[\"discount\"]:\n",
    "    discount_amount = .30\n",
    "elif \"loyalty\" in customer_29876[\"discount\"]:\n",
    "    discount_amount = .15\n",
    "elif \"volume\" in customer_29876[\"discount\"]:\n",
    "    discount_amount = .10\n",
    "elif \"standard\" in customer_29876[\"discount\"]:\n",
    "    discount_amount = .05"
   ]
  },
  {
   "cell_type": "code",
   "execution_count": 1,
   "metadata": {},
   "outputs": [
    {
     "ename": "NameError",
     "evalue": "name 'discount_amount' is not defined",
     "output_type": "error",
     "traceback": [
      "\u001b[0;31m---------------------------------------------------------------------------\u001b[0m",
      "\u001b[0;31mNameError\u001b[0m                                 Traceback (most recent call last)",
      "\u001b[0;32m<ipython-input-1-bd8efd1a6440>\u001b[0m in \u001b[0;36m<module>\u001b[0;34m\u001b[0m\n\u001b[0;32m----> 1\u001b[0;31m \u001b[0mprint\u001b[0m\u001b[0;34m(\u001b[0m\u001b[0mdiscount_amount\u001b[0m\u001b[0;34m)\u001b[0m\u001b[0;34m\u001b[0m\u001b[0;34m\u001b[0m\u001b[0m\n\u001b[0m",
      "\u001b[0;31mNameError\u001b[0m: name 'discount_amount' is not defined"
     ]
    }
   ],
   "source": [
    "print(discount_amount)"
   ]
  },
  {
   "cell_type": "code",
   "execution_count": 10,
   "metadata": {},
   "outputs": [],
   "source": [
    "customers = {\n",
    "    0: {\n",
    "\n",
    "    \"first name\": \"arsalan\",\n",
    "    \"last name\" : \"manzoor\",\n",
    "    \"gender\"    : \"male\",\n",
    "},\n",
    "    1: {\n",
    "    \n",
    "    \"first name\": \"rizwan\",\n",
    "    \"last name\" : \"akhtar\",\n",
    "    \"gender\"    : \"male\",       \n",
    "},\n",
    "    2: {\n",
    "    \n",
    "    \"first name\": \"umair\",\n",
    "    \"last name\" : \"idress\",\n",
    "    \"gender\"    : \"male\",\n",
    "\n",
    "}\n",
    "}"
   ]
  },
  {
   "cell_type": "code",
   "execution_count": 11,
   "metadata": {},
   "outputs": [
    {
     "name": "stdout",
     "output_type": "stream",
     "text": [
      "{'first name': 'rizwan', 'last name': 'akhtar', 'gender': 'male'}\n"
     ]
    }
   ],
   "source": [
    "print(customers[1])"
   ]
  },
  {
   "cell_type": "code",
   "execution_count": 12,
   "metadata": {},
   "outputs": [
    {
     "name": "stdout",
     "output_type": "stream",
     "text": [
      "akhtar\n"
     ]
    }
   ],
   "source": [
    "print(customers[1][\"last name\"])"
   ]
  },
  {
   "cell_type": "code",
   "execution_count": 2,
   "metadata": {},
   "outputs": [
    {
     "name": "stdout",
     "output_type": "stream",
     "text": [
      "///\n"
     ]
    }
   ],
   "source": [
    "print(\"///\")"
   ]
  },
  {
   "cell_type": "code",
   "execution_count": 3,
   "metadata": {},
   "outputs": [],
   "source": [
    "student_1 = {\n",
    "    \"name\": \"talha\",\n",
    "    \"last name\": \"ahmed\",\n",
    "    \"roll no\" : 22,\n",
    "}"
   ]
  },
  {
   "cell_type": "code",
   "execution_count": 5,
   "metadata": {},
   "outputs": [],
   "source": [
    "student_ids = [101, 102, 103]"
   ]
  },
  {
   "cell_type": "code",
   "execution_count": 6,
   "metadata": {},
   "outputs": [],
   "source": [
    "students = [\n",
    "    {\n",
    "        \"student id\": 0,\n",
    "        \"first name\": \"ammar\",\n",
    "        \"last name\": \"shaikh\",\n",
    "        \"address\": \"north karachi\",\n",
    "    },\n",
    "    {\n",
    "        \"student id\": 1,\n",
    "        \"first name\": \"daniyal\",\n",
    "        \"last name\": \"ahmed\",\n",
    "        \"address\": \"clifton\",\n",
    "        \n",
    "    },\n",
    "    {\n",
    "        \"student id\": 2,\n",
    "        \"first name\": \"imran\",\n",
    "        \"last name\": \"ali\",\n",
    "        \"address\": \"bufferzone\",\n",
    "    }\n",
    "]"
   ]
  },
  {
   "cell_type": "code",
   "execution_count": 7,
   "metadata": {},
   "outputs": [],
   "source": [
    "dictionary_to_look_in = students[1]"
   ]
  },
  {
   "cell_type": "code",
   "execution_count": 8,
   "metadata": {},
   "outputs": [],
   "source": [
    "student_address = dictionary_to_look_in[\"address\"]"
   ]
  },
  {
   "cell_type": "code",
   "execution_count": 9,
   "metadata": {},
   "outputs": [
    {
     "data": {
      "text/plain": [
       "'clifton'"
      ]
     },
     "execution_count": 9,
     "metadata": {},
     "output_type": "execute_result"
    }
   ],
   "source": [
    "student_address\n"
   ]
  },
  {
   "cell_type": "code",
   "execution_count": 11,
   "metadata": {},
   "outputs": [
    {
     "data": {
      "text/plain": [
       "'daniyal'"
      ]
     },
     "execution_count": 11,
     "metadata": {},
     "output_type": "execute_result"
    }
   ],
   "source": [
    "student_name = dictionary_to_look_in[\"first name\"]\n",
    "student_name"
   ]
  },
  {
   "cell_type": "code",
   "execution_count": 14,
   "metadata": {},
   "outputs": [
    {
     "name": "stdout",
     "output_type": "stream",
     "text": [
      "3\n"
     ]
    }
   ],
   "source": [
    "counting_of_students_list = len(students)\n",
    "print(counting_of_students_list)"
   ]
  },
  {
   "cell_type": "code",
   "execution_count": 21,
   "metadata": {},
   "outputs": [],
   "source": [
    "new_first_name = \"afroz\"\n",
    "new_last_name = \"ahmed\"\n",
    "new_address = \"baloch colony\""
   ]
  },
  {
   "cell_type": "code",
   "execution_count": 22,
   "metadata": {},
   "outputs": [],
   "source": [
    "new_student = {\n",
    "    \"student id\": len(students),\n",
    "    \"first name\": new_first_name,\n",
    "    \"last name\": new_last_name,\n",
    "    \"address\" :new_address,\n",
    "}"
   ]
  },
  {
   "cell_type": "code",
   "execution_count": 23,
   "metadata": {},
   "outputs": [],
   "source": [
    "students.append(new_student)"
   ]
  },
  {
   "cell_type": "code",
   "execution_count": 24,
   "metadata": {},
   "outputs": [
    {
     "name": "stdout",
     "output_type": "stream",
     "text": [
      "[{'student id': 0, 'first name': 'ammar', 'last name': 'shaikh', 'address': 'north karachi'}, {'student id': 1, 'first name': 'daniyal', 'last name': 'ahmed', 'address': 'clifton'}, {'student id': 2, 'first name': 'imran', 'last name': 'ali', 'address': 'bufferzone'}, {'student id': 3, 'first name': 'afroz', 'last name': 'ahmed', 'address': 'baloch colony'}, {'student id': 4, 'first name': 'afroz', 'last name': 'ahmed', 'address': 'baloch colony'}]\n"
     ]
    }
   ],
   "source": [
    "print(students)"
   ]
  },
  {
   "cell_type": "code",
   "execution_count": 2,
   "metadata": {},
   "outputs": [],
   "source": [
    "employees = {\n",
    "   0: {\n",
    "        \n",
    "        \"first name\": \"junaid\",\n",
    "        \"last name\": \"haroon\",\n",
    "        \"address\": \"hussainabad\",\n",
    "    },\n",
    "    1: {\n",
    "        \n",
    "        \"first name\": \"imran\",\n",
    "        \"last name\": \"ali\",\n",
    "        \"address\": \"bufferzone\",\n",
    "    },\n",
    "    2: {\n",
    "        \n",
    "        \"first name\": \"sattar\",\n",
    "        \"last name\": \"ghaffar\",\n",
    "        \"address\": \"larkana\",\n",
    "    }\n",
    "}\n"
   ]
  },
  {
   "cell_type": "code",
   "execution_count": 3,
   "metadata": {},
   "outputs": [
    {
     "name": "stdout",
     "output_type": "stream",
     "text": [
      "{0: {'first name': 'junaid', 'last name': 'haroon', 'address': 'hussainabad'}, 1: {'first name': 'imran', 'last name': 'ali', 'address': 'bufferzone'}, 2: {'first name': 'sattar', 'last name': 'ghaffar', 'address': 'larkana'}}\n"
     ]
    }
   ],
   "source": [
    "print(employees)"
   ]
  },
  {
   "cell_type": "code",
   "execution_count": 4,
   "metadata": {},
   "outputs": [
    {
     "name": "stdout",
     "output_type": "stream",
     "text": [
      "bufferzone\n"
     ]
    }
   ],
   "source": [
    "print(employees[1][\"address\"])"
   ]
  },
  {
   "cell_type": "code",
   "execution_count": 6,
   "metadata": {},
   "outputs": [
    {
     "name": "stdout",
     "output_type": "stream",
     "text": [
      "sattar\n"
     ]
    }
   ],
   "source": [
    "print(employees[2][\"first name\"])"
   ]
  },
  {
   "cell_type": "code",
   "execution_count": null,
   "metadata": {},
   "outputs": [],
   "source": []
  }
 ],
 "metadata": {
  "kernelspec": {
   "display_name": "Python 3",
   "language": "python",
   "name": "python3"
  },
  "language_info": {
   "codemirror_mode": {
    "name": "ipython",
    "version": 3
   },
   "file_extension": ".py",
   "mimetype": "text/x-python",
   "name": "python",
   "nbconvert_exporter": "python",
   "pygments_lexer": "ipython3",
   "version": "3.7.3"
  }
 },
 "nbformat": 4,
 "nbformat_minor": 2
}
