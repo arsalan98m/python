{
 "cells": [
  {
   "cell_type": "code",
   "execution_count": 2,
   "metadata": {},
   "outputs": [
    {
     "name": "stdout",
     "output_type": "stream",
     "text": [
      "Enter your age?12\n",
      "you are not allowed to ride\n"
     ]
    }
   ],
   "source": [
    "age = int(input(\"Enter your age?\"))\n",
    "if age > 18:\n",
    "    print(\"You are allowed to ride\")\n",
    "else:\n",
    "    print(\"you are not allowed to ride\")"
   ]
  },
  {
   "cell_type": "code",
   "execution_count": 3,
   "metadata": {},
   "outputs": [
    {
     "name": "stdout",
     "output_type": "stream",
     "text": [
      "your answer is wrong\n"
     ]
    }
   ],
   "source": [
    "x = 10;\n",
    "y = 12;\n",
    "a = 30;\n",
    "b = 10;\n",
    "\n",
    "if x + y == a - b:\n",
    "    print(\"your answer is correct\")\n",
    "else:\n",
    "    print(\"your answer is wrong\")"
   ]
  },
  {
   "cell_type": "code",
   "execution_count": 5,
   "metadata": {},
   "outputs": [
    {
     "name": "stdout",
     "output_type": "stream",
     "text": [
      "your answer is correct\n"
     ]
    }
   ],
   "source": [
    "x = 10;\n",
    "y = 12; # 22 \n",
    "a = 30;\n",
    "b = 10; # 20\n",
    "\n",
    "if x + y != a - b:\n",
    "    print(\"your answer is correct\")\n",
    "else:\n",
    "    print(\"your answer is wrong\")"
   ]
  },
  {
   "cell_type": "code",
   "execution_count": null,
   "metadata": {},
   "outputs": [],
   "source": []
  }
 ],
 "metadata": {
  "kernelspec": {
   "display_name": "Python 3",
   "language": "python",
   "name": "python3"
  },
  "language_info": {
   "codemirror_mode": {
    "name": "ipython",
    "version": 3
   },
   "file_extension": ".py",
   "mimetype": "text/x-python",
   "name": "python",
   "nbconvert_exporter": "python",
   "pygments_lexer": "ipython3",
   "version": "3.7.3"
  }
 },
 "nbformat": 4,
 "nbformat_minor": 2
}
