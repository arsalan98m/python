{
 "cells": [
  {
   "cell_type": "code",
   "execution_count": 1,
   "metadata": {},
   "outputs": [],
   "source": [
    "def add():\n",
    "    print(10+2)"
   ]
  },
  {
   "cell_type": "code",
   "execution_count": 2,
   "metadata": {},
   "outputs": [
    {
     "name": "stdout",
     "output_type": "stream",
     "text": [
      "12\n"
     ]
    }
   ],
   "source": [
    "add()"
   ]
  },
  {
   "cell_type": "code",
   "execution_count": 3,
   "metadata": {},
   "outputs": [
    {
     "name": "stdout",
     "output_type": "stream",
     "text": [
      "12\n"
     ]
    }
   ],
   "source": [
    "add()"
   ]
  },
  {
   "cell_type": "code",
   "execution_count": 6,
   "metadata": {},
   "outputs": [],
   "source": [
    "def add_numbers():\n",
    "    first_number = 2\n",
    "    second_number = 3\n",
    "    total = first_number+second_number\n",
    "    print(total)"
   ]
  },
  {
   "cell_type": "code",
   "execution_count": 7,
   "metadata": {},
   "outputs": [
    {
     "name": "stdout",
     "output_type": "stream",
     "text": [
      "5\n"
     ]
    }
   ],
   "source": [
    "add_numbers()"
   ]
  },
  {
   "cell_type": "code",
   "execution_count": 9,
   "metadata": {},
   "outputs": [],
   "source": [
    "def add_numbers(first_number, second_number):\n",
    "    total = first_number + second_number\n",
    "    print(total)"
   ]
  },
  {
   "cell_type": "code",
   "execution_count": 10,
   "metadata": {},
   "outputs": [
    {
     "name": "stdout",
     "output_type": "stream",
     "text": [
      "30\n"
     ]
    }
   ],
   "source": [
    "add_numbers(10, 20)"
   ]
  },
  {
   "cell_type": "code",
   "execution_count": 1,
   "metadata": {},
   "outputs": [
    {
     "name": "stdout",
     "output_type": "stream",
     "text": [
      "the tax is 3.0\n"
     ]
    }
   ],
   "source": [
    "sales_total = 100\n",
    "tax_rate = .03\n",
    "\n",
    "def calc_tax(tot, rate):\n",
    "  tax = tot* rate\n",
    "  tax_as_string = str(tax)\n",
    "  print(\"the tax is \"+ tax_as_string)\n",
    "  \n",
    "\n",
    "calc_tax(sales_total, tax_rate)"
   ]
  },
  {
   "cell_type": "code",
   "execution_count": 7,
   "metadata": {},
   "outputs": [
    {
     "name": "stdout",
     "output_type": "stream",
     "text": [
      "Enter a color to check: green\n"
     ]
    }
   ],
   "source": [
    "#color = input(\"Enter a color\")\n",
    "#primary_colors = (\"yellow\", \"red\", \"blue\")\n",
    "\n",
    "\n",
    "def check_color(primary_colors, color_to_check):\n",
    "  for a_primary in primary_colors:\n",
    "    if color_to_check == a_primary:\n",
    "      print(\"It's a primary color.\")\n",
    "      break\n",
    "color_entered = input(\"Enter a color to check: \")\n",
    "primary_colors = (\"yellow\", \"red\", \"blue\")\n",
    "check_color(primary_colors, color_entered)"
   ]
  },
  {
   "cell_type": "code",
   "execution_count": 11,
   "metadata": {},
   "outputs": [
    {
     "name": "stdout",
     "output_type": "stream",
     "text": [
      "Caliban\n"
     ]
    }
   ],
   "source": [
    "# First code the function call on line 12.\n",
    "# Then come back and code the function starting on line 4.\n",
    "# The function will take two or three lines, depending on how you approach it.\n",
    "def get_name(dictionary, list_name, index_number):\n",
    "  target = (dictionary[list_name][index_number])\n",
    "  print(target)\n",
    "\n",
    "\n",
    "members = {\n",
    "  \"adults\": [\"Ditmar\", \"Salvador\", \"Punya\"],\n",
    "  \"children\": [\"Caliban\", \"Eustis\", \"Ali\"],\n",
    "}\n",
    "# First code the function call on line 12.\n",
    "get_name(dictionary = members, list_name = \"children\", index_number = 0)"
   ]
  },
  {
   "cell_type": "code",
   "execution_count": 8,
   "metadata": {},
   "outputs": [],
   "source": [
    "def fullName(first, middle, last):\n",
    "    print(first + middle + last)"
   ]
  },
  {
   "cell_type": "code",
   "execution_count": 9,
   "metadata": {},
   "outputs": [
    {
     "name": "stdout",
     "output_type": "stream",
     "text": [
      "jamalahmedkhan\n"
     ]
    }
   ],
   "source": [
    "fullName(\"jamal\",\"ahmed\",\"khan\")"
   ]
  },
  {
   "cell_type": "code",
   "execution_count": 10,
   "metadata": {},
   "outputs": [
    {
     "name": "stdout",
     "output_type": "stream",
     "text": [
      "alihussainkhan\n"
     ]
    }
   ],
   "source": [
    "fullName(middle=\"hussain\", last=\"khan\", first=\"ali\")"
   ]
  },
  {
   "cell_type": "code",
   "execution_count": 6,
   "metadata": {},
   "outputs": [],
   "source": [
    "def pizza_order(size, flavour, *toppings):#deals with arbitary arguments\n",
    "    print(f\"your order for pizza of size {size} and flavour {flavour} and toppings {toppings} is ready\")"
   ]
  },
  {
   "cell_type": "code",
   "execution_count": 5,
   "metadata": {},
   "outputs": [
    {
     "name": "stdout",
     "output_type": "stream",
     "text": [
      "your order for pizza of size 12 and flavour chickenTikka and toppings ('Olives', 'Fruits') is ready\n"
     ]
    }
   ],
   "source": [
    "pizza_order(12, \"chickenTikka\",\"Olives\",\"Fruits\")"
   ]
  },
  {
   "cell_type": "code",
   "execution_count": 14,
   "metadata": {},
   "outputs": [],
   "source": [
    "def add(value1, value2):\n",
    "    \n",
    "    answer = value1 + value2\n",
    "    \n",
    "    return answer, \"hello python\""
   ]
  },
  {
   "cell_type": "code",
   "execution_count": 15,
   "metadata": {},
   "outputs": [
    {
     "data": {
      "text/plain": [
       "(12, 'hello python')"
      ]
     },
     "execution_count": 15,
     "metadata": {},
     "output_type": "execute_result"
    }
   ],
   "source": [
    "result =  add(2,10)\n",
    "result"
   ]
  },
  {
   "cell_type": "code",
   "execution_count": 16,
   "metadata": {},
   "outputs": [],
   "source": [
    "def add(a,b):\n",
    "    return a+b\n",
    "\n",
    "def sub(b,a):\n",
    "    return a-b\n",
    "\n",
    "result = add(2,3) + sub(2,3)"
   ]
  },
  {
   "cell_type": "code",
   "execution_count": 17,
   "metadata": {},
   "outputs": [
    {
     "data": {
      "text/plain": [
       "6"
      ]
     },
     "execution_count": 17,
     "metadata": {},
     "output_type": "execute_result"
    }
   ],
   "source": [
    "result"
   ]
  },
  {
   "cell_type": "code",
   "execution_count": 19,
   "metadata": {},
   "outputs": [],
   "source": [
    "def beHappy():\n",
    "    name = \"mr.A\"\n",
    "    print(f\"{name} is very happy today\")"
   ]
  },
  {
   "cell_type": "code",
   "execution_count": 20,
   "metadata": {},
   "outputs": [
    {
     "name": "stdout",
     "output_type": "stream",
     "text": [
      "mr.A is very happy today\n"
     ]
    }
   ],
   "source": [
    "beHappy()"
   ]
  },
  {
   "cell_type": "code",
   "execution_count": 21,
   "metadata": {},
   "outputs": [],
   "source": [
    "anotherName = \"mr. B\"\n",
    "\n",
    "def sad():\n",
    "    print(f\"{anotherName} is very sad today\")"
   ]
  },
  {
   "cell_type": "code",
   "execution_count": 22,
   "metadata": {},
   "outputs": [
    {
     "name": "stdout",
     "output_type": "stream",
     "text": [
      "mr. B is very sad today\n"
     ]
    }
   ],
   "source": [
    "sad()"
   ]
  },
  {
   "cell_type": "code",
   "execution_count": 23,
   "metadata": {},
   "outputs": [
    {
     "name": "stdout",
     "output_type": "stream",
     "text": [
      "mr. B\n"
     ]
    }
   ],
   "source": [
    "print(anotherName)"
   ]
  },
  {
   "cell_type": "code",
   "execution_count": 24,
   "metadata": {},
   "outputs": [],
   "source": [
    "def commisionCalc(sales):\n",
    "    if sales>100:\n",
    "        return sales*100\n",
    "    elif sales>50:\n",
    "        return sales*50\n",
    "    elif sales>20:\n",
    "        return sales*20\n",
    "    else:\n",
    "        return 0\n",
    "    \n",
    "\n",
    "def salaryCalc(basic,sales):\n",
    "    grossSalary = basic + commisionCalc(sales)\n",
    "    \n",
    "    print(f\"your gross salary is {grossSalary}\")\n",
    "    "
   ]
  },
  {
   "cell_type": "code",
   "execution_count": 25,
   "metadata": {},
   "outputs": [
    {
     "name": "stdout",
     "output_type": "stream",
     "text": [
      "your gross salary is 65000\n"
     ]
    }
   ],
   "source": [
    "salaryCalc(50000,150)"
   ]
  },
  {
   "cell_type": "code",
   "execution_count": null,
   "metadata": {},
   "outputs": [],
   "source": []
  }
 ],
 "metadata": {
  "kernelspec": {
   "display_name": "Python 3",
   "language": "python",
   "name": "python3"
  },
  "language_info": {
   "codemirror_mode": {
    "name": "ipython",
    "version": 3
   },
   "file_extension": ".py",
   "mimetype": "text/x-python",
   "name": "python",
   "nbconvert_exporter": "python",
   "pygments_lexer": "ipython3",
   "version": "3.7.3"
  }
 },
 "nbformat": 4,
 "nbformat_minor": 2
}
