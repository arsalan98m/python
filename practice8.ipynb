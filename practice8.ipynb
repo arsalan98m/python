{
 "cells": [
  {
   "cell_type": "code",
   "execution_count": 1,
   "metadata": {},
   "outputs": [
    {
     "name": "stdout",
     "output_type": "stream",
     "text": [
      "The itsy bitsy spider\n",
      "climbed up the waterspout.\n",
      "\n",
      "Down came the rain\n",
      "and washed the spider out.\n"
     ]
    }
   ],
   "source": [
    "print(\"The itsy bitsy spider\\nclimbed up the waterspout.\")\n",
    "print()\n",
    "print(\"Down came the rain\\nand washed the spider out.\")"
   ]
  },
  {
   "cell_type": "code",
   "execution_count": 5,
   "metadata": {},
   "outputs": [
    {
     "name": "stdout",
     "output_type": "stream",
     "text": [
      "\\\\\n"
     ]
    }
   ],
   "source": [
    "print(\"\\\\\\\\\")"
   ]
  },
  {
   "cell_type": "code",
   "execution_count": 9,
   "metadata": {},
   "outputs": [
    {
     "name": "stdout",
     "output_type": "stream",
     "text": [
      "The itsy bitsy spider climed up the waterspout.\n"
     ]
    }
   ],
   "source": [
    "print(\"The itsy bitsy spider\",\"climed up\", \"the waterspout.\")"
   ]
  },
  {
   "cell_type": "code",
   "execution_count": 10,
   "metadata": {},
   "outputs": [
    {
     "name": "stdout",
     "output_type": "stream",
     "text": [
      "My name is Arsalan\n"
     ]
    }
   ],
   "source": [
    "print(\"My name is\",\"Arsalan\")"
   ]
  },
  {
   "cell_type": "code",
   "execution_count": 11,
   "metadata": {},
   "outputs": [
    {
     "name": "stdout",
     "output_type": "stream",
     "text": [
      "Monty python\n"
     ]
    }
   ],
   "source": [
    "print(\"Monty python\")"
   ]
  },
  {
   "cell_type": "code",
   "execution_count": 13,
   "metadata": {},
   "outputs": [
    {
     "name": "stdout",
     "output_type": "stream",
     "text": [
      "My name is Arsalan. Monty python\n"
     ]
    }
   ],
   "source": [
    "print(\"My name is\",\"Arsalan.\", end=\" \")\n",
    "print(\"Monty python\")"
   ]
  },
  {
   "cell_type": "code",
   "execution_count": 15,
   "metadata": {},
   "outputs": [
    {
     "name": "stdout",
     "output_type": "stream",
     "text": [
      "My name is Monty python\n"
     ]
    }
   ],
   "source": [
    "print(\"My name is \", end=\"\")\n",
    "print(\"Monty python\")"
   ]
  },
  {
   "cell_type": "code",
   "execution_count": 16,
   "metadata": {},
   "outputs": [
    {
     "name": "stdout",
     "output_type": "stream",
     "text": [
      "My-name-is-Monty-python.\n"
     ]
    }
   ],
   "source": [
    "print(\"My\",\"name\",\"is\",\"Monty\",\"python.\",sep=\"-\")"
   ]
  },
  {
   "cell_type": "markdown",
   "metadata": {},
   "source": [
    "# Modify the first line of code, using 'sep' and 'end' keyword to match the expected output\n",
    "    Programming***Essentials***in...Python"
   ]
  },
  {
   "cell_type": "code",
   "execution_count": 26,
   "metadata": {},
   "outputs": [
    {
     "name": "stdout",
     "output_type": "stream",
     "text": [
      "Programming***Essentials***in...Python\n"
     ]
    }
   ],
   "source": [
    "print(\"Programming\",\"Essentials\",\"in\",sep=\"***\",end=\"...\")\n",
    "print(\"Python\")"
   ]
  },
  {
   "cell_type": "code",
   "execution_count": 50,
   "metadata": {},
   "outputs": [
    {
     "name": "stdout",
     "output_type": "stream",
     "text": [
      "original version:\n",
      "      *\n",
      "    *   *\n",
      "  *       *\n",
      " *          *\n",
      "***        ***\n",
      "  *        *\n",
      "  *        *\n",
      "  *        *\n",
      "  **********\n",
      "with fewer 'print()' invocations:\n",
      "    *\n",
      "   * *\n",
      "  *   *\n",
      " *     *\n",
      "***   ***\n",
      "  *   *\n",
      "  *   *\n",
      "  *****\n",
      "Higher:\n",
      "         *\n",
      "        * *\n",
      "       *   *\n",
      "      *     *\n",
      "     *       *\n",
      "    *         *\n",
      "   *           *\n",
      "  *             *\n",
      " ******     ******\n",
      "      *     *\n",
      "      *     *\n",
      "      *     *\n",
      "      *     *\n",
      "      *     *\n",
      "      *     *\n",
      "      *******\n",
      "doubled:\n",
      "        *                       *               \n",
      "       * *                     * *              \n",
      "      *   *                   *   *             \n",
      "     *     *                 *     *            \n",
      "    *       *               *       *           \n",
      "   *         *             *         *          \n",
      "  *           *           *           *         \n",
      " *****     *****         *****     *****        \n",
      "     *     *                 *     *            \n",
      "     *     *                 *     *            \n",
      "     *     *                 *     *            \n",
      "     *     *                 *     *            \n",
      "     *     *                 *     *            \n",
      "     *     *                 *     *            \n",
      "     *******                 *******            \n"
     ]
    }
   ],
   "source": [
    "##########################\n",
    "print(\"original version:\")\n",
    "##########################\n",
    "\n",
    "print(\"      *\")\n",
    "print(\"    *   *\")\n",
    "print(\"  *       *\")\n",
    "print(\" *          *\")\n",
    "print(\"***        ***\")\n",
    "print(\"  *        *\")\n",
    "print(\"  *        *\")\n",
    "print(\"  *        *\")\n",
    "print(\"  **********\")\n",
    "\n",
    "\n",
    "\n",
    "##########################################\n",
    "print(\"with fewer 'print()' invocations:\")\n",
    "##########################################\n",
    "print(\"    *\\n   * *\\n  *   *\\n *     *\\n***   ***\")\n",
    "print(\"  *   *\\n  *   *\\n  *****\")\n",
    "\n",
    "\n",
    "####################\n",
    "print(\"Higher:\")\n",
    "####################\n",
    "\n",
    "print(\"         *\")\n",
    "print(\"        * *\")\n",
    "print(\"       *   *\")\n",
    "print(\"      *     *\")\n",
    "print(\"     *       *\")\n",
    "print(\"    *         *\")\n",
    "print(\"   *           *\")\n",
    "print(\"  *             *\")\n",
    "print(\" ******     ******\")\n",
    "print(\"      *     *\")\n",
    "print(\"      *     *\")\n",
    "print(\"      *     *\")\n",
    "print(\"      *     *\")\n",
    "print(\"      *     *\")\n",
    "print(\"      *     *\")\n",
    "print(\"      *******\")\n",
    "\n",
    "###########################\n",
    "print(\"doubled:\")\n",
    "###########################\n",
    "\n",
    "print(\"        *               \"*2)\n",
    "print(\"       * *              \"*2)\n",
    "print(\"      *   *             \"*2)\n",
    "print(\"     *     *            \"*2)\n",
    "print(\"    *       *           \"*2)\n",
    "print(\"   *         *          \"*2)\n",
    "print(\"  *           *         \"*2)\n",
    "print(\" *****     *****        \"*2)\n",
    "print(\"     *     *            \"*2)\n",
    "print(\"     *     *            \"*2)\n",
    "print(\"     *     *            \"*2)\n",
    "print(\"     *     *            \"*2)\n",
    "print(\"     *     *            \"*2)\n",
    "print(\"     *     *            \"*2)\n",
    "print(\"     *******            \"*2)\n",
    "\n"
   ]
  },
  {
   "cell_type": "code",
   "execution_count": 51,
   "metadata": {},
   "outputs": [
    {
     "name": "stdout",
     "output_type": "stream",
     "text": [
      "H-E-L-L-O\n"
     ]
    }
   ],
   "source": [
    "print(\"H\",\"E\",\"L\",\"L\",\"O\",sep=\"-\")"
   ]
  },
  {
   "cell_type": "code",
   "execution_count": 52,
   "metadata": {},
   "outputs": [
    {
     "name": "stdout",
     "output_type": "stream",
     "text": [
      "83\n",
      "83\n"
     ]
    }
   ],
   "source": [
    "#ocatal to decimal conversion#\n",
    "print(0o123)\n",
    "print(0O123)"
   ]
  },
  {
   "cell_type": "code",
   "execution_count": 53,
   "metadata": {},
   "outputs": [
    {
     "name": "stdout",
     "output_type": "stream",
     "text": [
      "291\n",
      "291\n"
     ]
    }
   ],
   "source": [
    "#HEXA TO DEC Conversion\n",
    "print(0X123)\n",
    "print(0x123)"
   ]
  },
  {
   "cell_type": "code",
   "execution_count": 59,
   "metadata": {},
   "outputs": [
    {
     "name": "stdout",
     "output_type": "stream",
     "text": [
      "300000000.0\n"
     ]
    }
   ],
   "source": [
    "# e is an exponent three times 10 to the power of 8\n",
    "print(3e8)"
   ]
  },
  {
   "cell_type": "code",
   "execution_count": 62,
   "metadata": {},
   "outputs": [
    {
     "data": {
      "text/plain": [
       "6.62607e-34"
      ]
     },
     "execution_count": 62,
     "metadata": {},
     "output_type": "execute_result"
    }
   ],
   "source": [
    "6.62607E-34"
   ]
  },
  {
   "cell_type": "code",
   "execution_count": 65,
   "metadata": {},
   "outputs": [
    {
     "data": {
      "text/plain": [
       "1e-22"
      ]
     },
     "execution_count": 65,
     "metadata": {},
     "output_type": "execute_result"
    }
   ],
   "source": [
    "1e-22"
   ]
  },
  {
   "cell_type": "code",
   "execution_count": 66,
   "metadata": {},
   "outputs": [
    {
     "name": "stdout",
     "output_type": "stream",
     "text": [
      "I'm Monty Python\n"
     ]
    }
   ],
   "source": [
    "print(\"I'm Monty Python\")"
   ]
  },
  {
   "cell_type": "code",
   "execution_count": 67,
   "metadata": {},
   "outputs": [
    {
     "name": "stdout",
     "output_type": "stream",
     "text": [
      "I'm Monty Python\n"
     ]
    }
   ],
   "source": [
    "print('I\\'m Monty Python')"
   ]
  },
  {
   "cell_type": "code",
   "execution_count": 70,
   "metadata": {},
   "outputs": [
    {
     "name": "stdout",
     "output_type": "stream",
     "text": [
      "\"I'm\"\n",
      "\n",
      "\"\"learning\"\"\n",
      "\n",
      "\"\"\"Python\"\"\"\n"
     ]
    }
   ],
   "source": [
    "print('\"I\\'m\"\\n')\n",
    "print('\"\"learning\"\"\\n')\n",
    "print('\"\"\"Python\"\"\"')"
   ]
  },
  {
   "cell_type": "code",
   "execution_count": 77,
   "metadata": {},
   "outputs": [
    {
     "name": "stdout",
     "output_type": "stream",
     "text": [
      "8\n",
      "8.0\n",
      "8.0\n",
      "8.0\n"
     ]
    }
   ],
   "source": [
    "print(2 ** 3)\n",
    "print(2 ** 3.)\n",
    "print(2. **  3)\n",
    "print(2. **  3.)"
   ]
  },
  {
   "cell_type": "code",
   "execution_count": 78,
   "metadata": {},
   "outputs": [
    {
     "name": "stdout",
     "output_type": "stream",
     "text": [
      "6\n",
      "6.0\n",
      "6.0\n",
      "6.0\n"
     ]
    }
   ],
   "source": [
    "print(2*3)\n",
    "print(2*3.)\n",
    "print(2.*3)\n",
    "print(2.*3.)"
   ]
  },
  {
   "cell_type": "code",
   "execution_count": 83,
   "metadata": {},
   "outputs": [
    {
     "name": "stdout",
     "output_type": "stream",
     "text": [
      "2.0\n",
      "2.0\n",
      "2.0\n",
      "2.0\n"
     ]
    }
   ],
   "source": [
    "print(6/3)\n",
    "print(6/3.)\n",
    "print(6./3)\n",
    "print(6./3.)"
   ]
  },
  {
   "cell_type": "code",
   "execution_count": 84,
   "metadata": {},
   "outputs": [
    {
     "name": "stdout",
     "output_type": "stream",
     "text": [
      "2\n",
      "2.0\n",
      "2.0\n",
      "2.0\n"
     ]
    }
   ],
   "source": [
    "print(6//3)\n",
    "print(6//3.)\n",
    "print(6.//3)\n",
    "print(6.//3.)"
   ]
  },
  {
   "cell_type": "code",
   "execution_count": 85,
   "metadata": {},
   "outputs": [
    {
     "name": "stdout",
     "output_type": "stream",
     "text": [
      "1\n",
      "1.0\n"
     ]
    }
   ],
   "source": [
    "print(6//4)\n",
    "print(6.//4)"
   ]
  },
  {
   "cell_type": "code",
   "execution_count": 86,
   "metadata": {},
   "outputs": [
    {
     "name": "stdout",
     "output_type": "stream",
     "text": [
      "-2\n",
      "-2.0\n"
     ]
    }
   ],
   "source": [
    "print(-6//4)\n",
    "print(6.//-4)"
   ]
  },
  {
   "cell_type": "code",
   "execution_count": 87,
   "metadata": {},
   "outputs": [
    {
     "name": "stdout",
     "output_type": "stream",
     "text": [
      "3.0\n"
     ]
    }
   ],
   "source": [
    "print(12%4.5)"
   ]
  },
  {
   "cell_type": "code",
   "execution_count": 90,
   "metadata": {},
   "outputs": [
    {
     "ename": "ZeroDivisionError",
     "evalue": "division by zero",
     "output_type": "error",
     "traceback": [
      "\u001b[1;31m---------------------------------------------------------------------------\u001b[0m",
      "\u001b[1;31mZeroDivisionError\u001b[0m                         Traceback (most recent call last)",
      "\u001b[1;32m<ipython-input-90-1babb3b33639>\u001b[0m in \u001b[0;36m<module>\u001b[1;34m\u001b[0m\n\u001b[1;32m----> 1\u001b[1;33m \u001b[0mprint\u001b[0m\u001b[1;33m(\u001b[0m\u001b[1;36m0\u001b[0m\u001b[1;33m/\u001b[0m\u001b[1;36m0\u001b[0m\u001b[1;33m)\u001b[0m\u001b[1;33m\u001b[0m\u001b[1;33m\u001b[0m\u001b[0m\n\u001b[0m",
      "\u001b[1;31mZeroDivisionError\u001b[0m: division by zero"
     ]
    }
   ],
   "source": [
    "print(0/0)"
   ]
  },
  {
   "cell_type": "code",
   "execution_count": 91,
   "metadata": {},
   "outputs": [
    {
     "name": "stdout",
     "output_type": "stream",
     "text": [
      "0\n"
     ]
    }
   ],
   "source": [
    "print(-4+4)"
   ]
  },
  {
   "cell_type": "code",
   "execution_count": 92,
   "metadata": {},
   "outputs": [
    {
     "name": "stdout",
     "output_type": "stream",
     "text": [
      "4.0\n"
     ]
    }
   ],
   "source": [
    "print(-4.+8)"
   ]
  },
  {
   "cell_type": "code",
   "execution_count": 93,
   "metadata": {},
   "outputs": [
    {
     "name": "stdout",
     "output_type": "stream",
     "text": [
      "2\n"
     ]
    }
   ],
   "source": [
    "print(+2)"
   ]
  },
  {
   "cell_type": "code",
   "execution_count": 94,
   "metadata": {},
   "outputs": [
    {
     "name": "stdout",
     "output_type": "stream",
     "text": [
      "-2\n"
     ]
    }
   ],
   "source": [
    "print(-2)"
   ]
  },
  {
   "cell_type": "code",
   "execution_count": 95,
   "metadata": {},
   "outputs": [
    {
     "name": "stdout",
     "output_type": "stream",
     "text": [
      "256\n"
     ]
    }
   ],
   "source": [
    "print(2 ** 2 **3)"
   ]
  },
  {
   "cell_type": "code",
   "execution_count": 96,
   "metadata": {},
   "outputs": [
    {
     "name": "stdout",
     "output_type": "stream",
     "text": [
      "1\n"
     ]
    }
   ],
   "source": [
    "print(2*3%5)"
   ]
  },
  {
   "cell_type": "code",
   "execution_count": 97,
   "metadata": {},
   "outputs": [
    {
     "name": "stdout",
     "output_type": "stream",
     "text": [
      "6\n"
     ]
    }
   ],
   "source": [
    "print(3%5*2)"
   ]
  },
  {
   "cell_type": "code",
   "execution_count": 98,
   "metadata": {},
   "outputs": [
    {
     "data": {
      "text/plain": [
       "12"
      ]
     },
     "execution_count": 98,
     "metadata": {},
     "output_type": "execute_result"
    }
   ],
   "source": [
    "25%13"
   ]
  },
  {
   "cell_type": "code",
   "execution_count": 99,
   "metadata": {},
   "outputs": [
    {
     "data": {
      "text/plain": [
       "60"
      ]
     },
     "execution_count": 99,
     "metadata": {},
     "output_type": "execute_result"
    }
   ],
   "source": [
    "5*12 160"
   ]
  },
  {
   "cell_type": "code",
   "execution_count": 102,
   "metadata": {},
   "outputs": [
    {
     "data": {
      "text/plain": [
       "6.153846153846154"
      ]
     },
     "execution_count": 102,
     "metadata": {},
     "output_type": "execute_result"
    }
   ],
   "source": [
    "160/26 3"
   ]
  },
  {
   "cell_type": "code",
   "execution_count": 105,
   "metadata": {},
   "outputs": [
    {
     "name": "stdout",
     "output_type": "stream",
     "text": [
      "10.0\n"
     ]
    }
   ],
   "source": [
    "print((5*((25 % 13)+ 100)/ (2 * 13))//2)"
   ]
  },
  {
   "cell_type": "code",
   "execution_count": 121,
   "metadata": {},
   "outputs": [
    {
     "name": "stdout",
     "output_type": "stream",
     "text": [
      "John Apple =  3 Marry Apples =  5 Adam Apples =  6\n",
      "Total no of Apples are =  14\n"
     ]
    }
   ],
   "source": [
    "#once upon a time in Appleland ,john had three apples ,marry had five apples and\n",
    "#adam had six apples. create variable and store values and finnallt create new \n",
    "# varianle totalApples  and store the values and print them.\n",
    "john = 3\n",
    "marry = 5\n",
    "adam = 6\n",
    "\n",
    "print(\"John Apple = \",john,\"Marry Apples = \",marry,\"Adam Apples = \", adam)\n",
    "\n",
    "total_Apples = john + marry + adam\n",
    "\n",
    "print(\"Total no of Apples are = \",total_Apples)"
   ]
  },
  {
   "cell_type": "markdown",
   "metadata": {},
   "source": [
    "# Miles to Kilometer and Kilometers to Miles converter"
   ]
  },
  {
   "cell_type": "code",
   "execution_count": 133,
   "metadata": {},
   "outputs": [
    {
     "name": "stdout",
     "output_type": "stream",
     "text": [
      "7.38  miles is  11.88 Kilometers\n",
      "12.25  kilometers is  7.61 miles\n"
     ]
    }
   ],
   "source": [
    "kilometers = 12.25\n",
    "miles = 7.38\n",
    "\n",
    "miles_to_kilometers = miles * 1.61\n",
    "kilometers_to_miles = kilometers / 1.61\n",
    "\n",
    "print(miles, \" miles is \", round(miles_to_kilometers,2),\"Kilometers\")\n",
    "print(kilometers, \" kilometers is \",round(kilometers_to_miles,2),\"miles\")"
   ]
  },
  {
   "cell_type": "code",
   "execution_count": 128,
   "metadata": {},
   "outputs": [
    {
     "data": {
      "text/plain": [
       "1.9"
      ]
     },
     "execution_count": 128,
     "metadata": {},
     "output_type": "execute_result"
    }
   ],
   "source": [
    "round()"
   ]
  },
  {
   "cell_type": "code",
   "execution_count": 136,
   "metadata": {},
   "outputs": [
    {
     "name": "stdout",
     "output_type": "stream",
     "text": [
      "y =  -9.0\n"
     ]
    }
   ],
   "source": [
    "x = -1\n",
    "x = float(x)\n",
    "\n",
    "y = 3 * x** 3 - 2 * x ** 2 + 3 * x -1\n",
    "print(\"y = \",y)"
   ]
  },
  {
   "cell_type": "code",
   "execution_count": 137,
   "metadata": {},
   "outputs": [
    {
     "name": "stdout",
     "output_type": "stream",
     "text": [
      "Enter a number:2\n",
      "2 to the power of 2 is 4.0\n"
     ]
    }
   ],
   "source": [
    "anything = input(\"Enter a number:\")\n",
    "something = int(anything) ** 2.0\n",
    "print(anything,\"to the power of 2 is\",something)"
   ]
  },
  {
   "cell_type": "code",
   "execution_count": 139,
   "metadata": {},
   "outputs": [
    {
     "name": "stdout",
     "output_type": "stream",
     "text": [
      "Enter value for x:1\n",
      "y = 0.6000000000000001\n"
     ]
    }
   ],
   "source": [
    "x = float(input(\"Enter value for x:\"))\n",
    "y = 1/(x + 1 / (x + 1/(x + 1 / x)))\n",
    "print(\"y =\",y)"
   ]
  },
  {
   "cell_type": "code",
   "execution_count": 143,
   "metadata": {},
   "outputs": [
    {
     "name": "stdout",
     "output_type": "stream",
     "text": [
      "Starting time (hours):12\n",
      "Starting time (minutes):17\n",
      "Even duration (minutes):59\n",
      "13:16\n"
     ]
    }
   ],
   "source": [
    "# your task is to prepare a simple code able to evaluate the end time of a \n",
    "# period of time, given as a number of minutes(it could be arbitrarily large.)\n",
    "#The start time is given as of hour(0..23) amd minutes (0..59) the result has to \n",
    "# br printed\n",
    "# for example if an event start at 12:17 and last 59 minutes, it will end 13:16\n",
    "\n",
    "hour = int(input(\"Starting time (hours):\"))\n",
    "mins = int(input(\"Starting time (minutes):\"))\n",
    "dura = int(input(\"Even duration (minutes):\"))\n",
    "\n",
    "mins = mins + dura # find a total of all minutes\n",
    "hour = hour + mins // 60# find a number of hours hidden in minutes and update the hour\n",
    "mins = mins % 60 # correct minutes to fall in the (0..59) range\n",
    "hour = hour % 24\n",
    "print(hour,\":\",mins,sep=\"\")"
   ]
  },
  {
   "cell_type": "code",
   "execution_count": null,
   "metadata": {},
   "outputs": [],
   "source": []
  }
 ],
 "metadata": {
  "kernelspec": {
   "display_name": "Python 3",
   "language": "python",
   "name": "python3"
  },
  "language_info": {
   "codemirror_mode": {
    "name": "ipython",
    "version": 3
   },
   "file_extension": ".py",
   "mimetype": "text/x-python",
   "name": "python",
   "nbconvert_exporter": "python",
   "pygments_lexer": "ipython3",
   "version": "3.7.3"
  }
 },
 "nbformat": 4,
 "nbformat_minor": 2
}
