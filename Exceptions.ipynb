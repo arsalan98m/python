{
 "cells": [
  {
   "cell_type": "code",
   "execution_count": 3,
   "metadata": {},
   "outputs": [
    {
     "name": "stdout",
     "output_type": "stream",
     "text": [
      "Enter your value 1:1\n",
      "Enter your value 2:e\n",
      "Exception handled >> invalid literal for int() with base 10: 'e'\n",
      "always runs\n"
     ]
    }
   ],
   "source": [
    "try:\n",
    "    value1 = int(input(\"Enter your value 1:\"))\n",
    "    value2 = int(input(\"Enter your value 2:\"))\n",
    "    ans = value1 + value2\n",
    "\n",
    "except Exception as e:\n",
    "    print(f\"Exception handled >> {(e)}\")\n",
    "else:\n",
    "    print(ans)\n",
    "finally:\n",
    "    print(\"always runs\")\n",
    "    "
   ]
  },
  {
   "cell_type": "code",
   "execution_count": null,
   "metadata": {},
   "outputs": [],
   "source": []
  }
 ],
 "metadata": {
  "kernelspec": {
   "display_name": "Python 3",
   "language": "python",
   "name": "python3"
  },
  "language_info": {
   "codemirror_mode": {
    "name": "ipython",
    "version": 3
   },
   "file_extension": ".py",
   "mimetype": "text/x-python",
   "name": "python",
   "nbconvert_exporter": "python",
   "pygments_lexer": "ipython3",
   "version": "3.7.3"
  }
 },
 "nbformat": 4,
 "nbformat_minor": 2
}
