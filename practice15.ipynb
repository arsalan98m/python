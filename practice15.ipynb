{
 "cells": [
  {
   "cell_type": "code",
   "execution_count": 6,
   "metadata": {},
   "outputs": [],
   "source": [
    "cleanest_cities = [\"karachi\", \"lahore\", \"islamabad\", \"multan\", \"kpk\"]\n",
    "city_to_check = \"lahore\""
   ]
  },
  {
   "cell_type": "code",
   "execution_count": 7,
   "metadata": {},
   "outputs": [
    {
     "name": "stdout",
     "output_type": "stream",
     "text": [
      "It's one of the cleanest cities.\n"
     ]
    }
   ],
   "source": [
    "for a_clean_city in cleanest_cities:\n",
    "    if city_to_check == a_clean_city:\n",
    "        print(\"It's one of the cleanest cities.\")"
   ]
  },
  {
   "cell_type": "code",
   "execution_count": 11,
   "metadata": {},
   "outputs": [
    {
     "name": "stdout",
     "output_type": "stream",
     "text": [
      "It's one of the cleanest cities.\n"
     ]
    }
   ],
   "source": [
    "# if python finds a match, there's no point in continuing the loop. so you stop\n",
    "# the loop by adding 'break' statement\n",
    "\n",
    "cleanest_cities = [\"karachi\", \"lahore\", \"islamabad\", \"multan\", \"lahore\"]\n",
    "city_to_check = \"lahore\"\n",
    "\n",
    "for a_clean_city in cleanest_cities:\n",
    "    if city_to_check == a_clean_city:\n",
    "        print(\"It's one of the cleanest cities.\")\n",
    "        break\n",
    "        "
   ]
  },
  {
   "cell_type": "code",
   "execution_count": 13,
   "metadata": {},
   "outputs": [
    {
     "name": "stdout",
     "output_type": "stream",
     "text": [
      "['BlueRay Zzz', 'BlueRay Burp', 'BlueRay Dogbone', 'BlueRay Droop', 'Upchuck Zzz', 'Upchuck Burp', 'Upchuck Dogbone', 'Upchuck Droop', 'Lojack Zzz', 'Lojack Burp', 'Lojack Dogbone', 'Lojack Droop', 'Gizmo Zzz', 'Gizmo Burp', 'Gizmo Dogbone', 'Gizmo Droop', 'Do-Rag Zzz', 'Do-Rag Burp', 'Do-Rag Dogbone', 'Do-Rag Droop']\n"
     ]
    }
   ],
   "source": [
    "                    # Nested for statement #\n",
    "    \n",
    "first_names = [\"BlueRay\", \"Upchuck\", \"Lojack\", \"Gizmo\", \"Do-Rag\"]\n",
    "\n",
    "last_names = [\"Zzz\", \"Burp\", \"Dogbone\", \"Droop\"]\n",
    "\n",
    "full_names = []\n",
    "\n",
    "for a_first_name in first_names:\n",
    "    for a_last_name in last_names:\n",
    "        full_names.append(a_first_name + \" \" + a_last_name)\n",
    "        \n",
    "print(full_names)"
   ]
  },
  {
   "cell_type": "code",
   "execution_count": 14,
   "metadata": {},
   "outputs": [
    {
     "name": "stdout",
     "output_type": "stream",
     "text": [
      "BlueRay Zzz\n",
      "BlueRay Burp\n",
      "BlueRay Dogbone\n",
      "BlueRay Droop\n",
      "Upchuck Zzz\n",
      "Upchuck Burp\n",
      "Upchuck Dogbone\n",
      "Upchuck Droop\n",
      "Lojack Zzz\n",
      "Lojack Burp\n",
      "Lojack Dogbone\n",
      "Lojack Droop\n",
      "Gizmo Zzz\n",
      "Gizmo Burp\n",
      "Gizmo Dogbone\n",
      "Gizmo Droop\n",
      "Do-Rag Zzz\n",
      "Do-Rag Burp\n",
      "Do-Rag Dogbone\n",
      "Do-Rag Droop\n"
     ]
    }
   ],
   "source": [
    "for f_name in full_names:\n",
    "    print(f_name)\n"
   ]
  },
  {
   "cell_type": "code",
   "execution_count": 15,
   "metadata": {},
   "outputs": [
    {
     "data": {
      "text/plain": [
       "'400040004000400040004000400040004000400040004000'"
      ]
     },
     "execution_count": 15,
     "metadata": {},
     "output_type": "execute_result"
    }
   ],
   "source": [
    "\"4000\" * 12"
   ]
  },
  {
   "cell_type": "code",
   "execution_count": 16,
   "metadata": {},
   "outputs": [
    {
     "ename": "TypeError",
     "evalue": "can't multiply sequence by non-int of type 'str'",
     "output_type": "error",
     "traceback": [
      "\u001b[1;31m---------------------------------------------------------------------------\u001b[0m",
      "\u001b[1;31mTypeError\u001b[0m                                 Traceback (most recent call last)",
      "\u001b[1;32m<ipython-input-16-ce8a16d11aa6>\u001b[0m in \u001b[0;36m<module>\u001b[1;34m\u001b[0m\n\u001b[1;32m----> 1\u001b[1;33m \u001b[1;34m\"400\"\u001b[0m \u001b[1;33m*\u001b[0m \u001b[1;34m\"12\"\u001b[0m\u001b[1;33m\u001b[0m\u001b[1;33m\u001b[0m\u001b[0m\n\u001b[0m",
      "\u001b[1;31mTypeError\u001b[0m: can't multiply sequence by non-int of type 'str'"
     ]
    }
   ],
   "source": [
    "\"400\" * \"12\""
   ]
  },
  {
   "cell_type": "code",
   "execution_count": 20,
   "metadata": {},
   "outputs": [
    {
     "name": "stdout",
     "output_type": "stream",
     "text": [
      "Enter the name of the city:karachi\n",
      "It's one of the cleanest cities😎.\n"
     ]
    }
   ],
   "source": [
    "#🎉🎉\n",
    "cleanest_cities = [\"karachi\", \"lahore\", \"islamabad\", \"multan\", \"lahore\"]\n",
    "#👀👀\n",
    "city_to_check = input(\"Enter the name of the city:\")\n",
    "\n",
    "for a_clean_city in cleanest_cities:\n",
    "    if city_to_check == a_clean_city:\n",
    "        print(\"It's one of the cleanest cities😎.\")\n",
    "        break"
   ]
  },
  {
   "cell_type": "code",
   "execution_count": 5,
   "metadata": {},
   "outputs": [
    {
     "name": "stdout",
     "output_type": "stream",
     "text": [
      "Enter the name of the city:multan\n",
      "It's one of the cleanest cities😎.\n",
      "Great news! Multan is one of the cleanest cities.\n"
     ]
    }
   ],
   "source": [
    "#🎉🎉\n",
    "cleanest_cities = [\"karachi\", \"lahore\", \"islamabad\", \"multan\", \"lahore\"]\n",
    "#👀👀\n",
    "city_to_check = input(\"Enter the name of the city:\")\n",
    "\n",
    "city_to_check = city_to_check.lower()\n",
    "\n",
    "for a_clean_city in cleanest_cities:\n",
    "    if city_to_check == a_clean_city:\n",
    "        print(\"It's one of the cleanest cities😎.\")\n",
    "        break\n",
    "print(\"Great news! \"+city_to_check.title() + \" is one of the cleanest cities.\")"
   ]
  },
  {
   "cell_type": "code",
   "execution_count": 8,
   "metadata": {},
   "outputs": [
    {
     "name": "stdout",
     "output_type": "stream",
     "text": [
      "It's a match.\n"
     ]
    }
   ],
   "source": [
    "chosen_letter = \"b\"\n",
    "letter_list = [\"a\", \"b\", \"c\", \"d\", \"e\", \"f\"]\n",
    "for a_letter in letter_list:\n",
    "    if a_letter == chosen_letter:\n",
    "        print(\"It's a match.\")"
   ]
  },
  {
   "cell_type": "code",
   "execution_count": 14,
   "metadata": {},
   "outputs": [
    {
     "name": "stdout",
     "output_type": "stream",
     "text": [
      "14\n"
     ]
    }
   ],
   "source": [
    "outer_loop_total = 0 #1+1+1\n",
    "inner_loop_total = 0 #4+4 + 1 + 1 + 1\n",
    "\n",
    "countries = [\"Albania\", \"Morocco\", \"Brazil\", \"Denmark\"]\n",
    "\n",
    "capitals = [\"Tel Aviv\", \"Abuja\", \"Brasília\", \"Islamabad\"]\n",
    "\n",
    "for country_to_check in countries:\n",
    "    outer_loop_total += 1\n",
    "    for city_to_check in capitals:\n",
    "        inner_loop_total += 1\n",
    "        if country_to_check == \"Brazil\" and city_to_check == \"Brasília\":\n",
    "            print(outer_loop_total + inner_loop_total)  "
   ]
  },
  {
   "cell_type": "code",
   "execution_count": null,
   "metadata": {},
   "outputs": [],
   "source": []
  }
 ],
 "metadata": {
  "kernelspec": {
   "display_name": "Python 3",
   "language": "python",
   "name": "python3"
  },
  "language_info": {
   "codemirror_mode": {
    "name": "ipython",
    "version": 3
   },
   "file_extension": ".py",
   "mimetype": "text/x-python",
   "name": "python",
   "nbconvert_exporter": "python",
   "pygments_lexer": "ipython3",
   "version": "3.7.3"
  }
 },
 "nbformat": 4,
 "nbformat_minor": 2
}
