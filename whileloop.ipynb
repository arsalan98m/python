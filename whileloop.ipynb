{
 "cells": [
  {
   "cell_type": "code",
   "execution_count": 3,
   "metadata": {},
   "outputs": [
    {
     "name": "stdout",
     "output_type": "stream",
     "text": [
      "0 This is while loop running\n",
      "1 This is while loop running\n",
      "2 This is while loop running\n",
      "3 This is while loop running\n",
      "4 This is while loop running\n",
      "5 This is while loop running\n",
      "6 This is while loop running\n",
      "7 This is while loop running\n",
      "8 This is while loop running\n",
      "9 This is while loop running\n"
     ]
    }
   ],
   "source": [
    "a = 0\n",
    "\n",
    "while a < 10:\n",
    "    print(a, \"This is while loop running\")\n",
    "    \n",
    "    a+=1"
   ]
  },
  {
   "cell_type": "code",
   "execution_count": 7,
   "metadata": {},
   "outputs": [
    {
     "name": "stdout",
     "output_type": "stream",
     "text": [
      "0 This is for loop running\n",
      "1 This is for loop running\n",
      "2 This is for loop running\n",
      "3 This is for loop running\n",
      "4 This is for loop running\n",
      "5 This is for loop running\n",
      "6 This is for loop running\n",
      "7 This is for loop running\n",
      "8 This is for loop running\n",
      "9 This is for loop running\n"
     ]
    }
   ],
   "source": [
    "for num in range(10):\n",
    "    print(num, \"This is for loop running\")"
   ]
  },
  {
   "cell_type": "code",
   "execution_count": 9,
   "metadata": {},
   "outputs": [
    {
     "name": "stdout",
     "output_type": "stream",
     "text": [
      "Enter your favourite foods:dal\n",
      "Enter your favourite foods:biryani\n",
      "Enter your favourite foods:Q\n"
     ]
    },
    {
     "data": {
      "text/plain": [
       "['dal', 'biryani']"
      ]
     },
     "execution_count": 9,
     "metadata": {},
     "output_type": "execute_result"
    }
   ],
   "source": [
    "flag = True\n",
    "\n",
    "favFoods = []\n",
    "\n",
    "while flag:\n",
    "    userinput = input(\"Enter your favourite foods:\")\n",
    "    if userinput == \"Q\":\n",
    "        flag = False\n",
    "    else:\n",
    "        favFoods.append(userinput)\n",
    "favFoods        "
   ]
  },
  {
   "cell_type": "code",
   "execution_count": null,
   "metadata": {},
   "outputs": [],
   "source": []
  }
 ],
 "metadata": {
  "kernelspec": {
   "display_name": "Python 3",
   "language": "python",
   "name": "python3"
  },
  "language_info": {
   "codemirror_mode": {
    "name": "ipython",
    "version": 3
   },
   "file_extension": ".py",
   "mimetype": "text/x-python",
   "name": "python",
   "nbconvert_exporter": "python",
   "pygments_lexer": "ipython3",
   "version": "3.7.3"
  }
 },
 "nbformat": 4,
 "nbformat_minor": 2
}
