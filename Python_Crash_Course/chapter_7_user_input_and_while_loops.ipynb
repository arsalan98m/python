{
 "cells": [
  {
   "cell_type": "markdown",
   "metadata": {},
   "source": [
    "## How the input() Function Works"
   ]
  },
  {
   "cell_type": "code",
   "execution_count": 1,
   "metadata": {},
   "outputs": [],
   "source": [
    "# The input() function pauses your program and waits for the user to enter\n",
    "# some text. Once Python receives the user’s input, it stores it in a variable to\n",
    "# make it convenient for you to work with."
   ]
  },
  {
   "cell_type": "code",
   "execution_count": 2,
   "metadata": {},
   "outputs": [],
   "source": [
    "# For example, the following program asks the user to enter some text,\n",
    "# then displays that message back to the user:"
   ]
  },
  {
   "cell_type": "code",
   "execution_count": 3,
   "metadata": {},
   "outputs": [
    {
     "name": "stdout",
     "output_type": "stream",
     "text": [
      "Tell me something, and I will repeat it back to you: hello\n",
      "hello\n"
     ]
    }
   ],
   "source": [
    "message = input(\"Tell me something, and I will repeat it back to you: \")\n",
    "print(message)"
   ]
  },
  {
   "cell_type": "markdown",
   "metadata": {},
   "source": [
    "### Writing Clear Prompts"
   ]
  },
  {
   "cell_type": "code",
   "execution_count": 4,
   "metadata": {},
   "outputs": [
    {
     "name": "stdout",
     "output_type": "stream",
     "text": [
      "Please enter your name: arsalan\n",
      "Hello, arsalan!\n"
     ]
    }
   ],
   "source": [
    "name = input(\"Please enter your name: \")\n",
    "print(\"Hello, \"+name+\"!\")"
   ]
  },
  {
   "cell_type": "code",
   "execution_count": 6,
   "metadata": {},
   "outputs": [],
   "source": [
    "# Sometimes you’ll want to write a prompt that’s longer than one line. For\n",
    "# example, you might want to tell the user why you’re asking for certain input. \n",
    "\n",
    "# You can store your prompt in a variable and pass that variable to the input()\n",
    "# function. This allows you to build your prompt over several lines, then write\n",
    "# a clean input() statement."
   ]
  },
  {
   "cell_type": "code",
   "execution_count": 8,
   "metadata": {},
   "outputs": [
    {
     "name": "stdout",
     "output_type": "stream",
     "text": [
      "If you tell us who you are, we can personalize the messae you see.\n",
      "What is your first name? arsalan\n",
      "\n",
      "Hello, arsalan!\n"
     ]
    }
   ],
   "source": [
    "prompt = \"If you tell us who you are, we can personalize the messae you see.\"\n",
    "prompt += \"\\nWhat is your first name? \"\n",
    "\n",
    "name = input(prompt)\n",
    "print(\"\\nHello, \"+name+\"!\")"
   ]
  },
  {
   "cell_type": "code",
   "execution_count": 9,
   "metadata": {},
   "outputs": [],
   "source": [
    "# This example shows one way to build a multi-line string. The first line\n",
    "# stores the first part of the message in the variable prompt. In the second line,\n",
    "# the operator += takes the string that was stored in prompt and adds the new\n",
    "# string onto the end."
   ]
  },
  {
   "cell_type": "markdown",
   "metadata": {},
   "source": [
    "### Using int() to Accept Numerical Input"
   ]
  },
  {
   "cell_type": "code",
   "execution_count": 10,
   "metadata": {},
   "outputs": [
    {
     "name": "stdout",
     "output_type": "stream",
     "text": [
      "How old are you? 21\n"
     ]
    }
   ],
   "source": [
    "age = input(\"How old are you? \")"
   ]
  },
  {
   "cell_type": "code",
   "execution_count": 11,
   "metadata": {},
   "outputs": [
    {
     "data": {
      "text/plain": [
       "'21'"
      ]
     },
     "execution_count": 11,
     "metadata": {},
     "output_type": "execute_result"
    }
   ],
   "source": [
    "age"
   ]
  },
  {
   "cell_type": "code",
   "execution_count": 12,
   "metadata": {},
   "outputs": [],
   "source": [
    "# The user enters the number 21, but when we ask Python for the value of\n",
    "# age, it returns '21', the string representation of the numerical value entered.\n",
    "# We know Python interpreted the input as a string because the number is now\n",
    "# enclosed in quotes. If all you want to do is print the input, this works well. But\n",
    "# if you try to use the input as a number, you’ll get an error:"
   ]
  },
  {
   "cell_type": "code",
   "execution_count": 13,
   "metadata": {},
   "outputs": [
    {
     "name": "stdout",
     "output_type": "stream",
     "text": [
      "How old are you? 21\n"
     ]
    }
   ],
   "source": [
    "age = input(\"How old are you? \")"
   ]
  },
  {
   "cell_type": "code",
   "execution_count": 14,
   "metadata": {},
   "outputs": [
    {
     "ename": "TypeError",
     "evalue": "'>=' not supported between instances of 'str' and 'int'",
     "output_type": "error",
     "traceback": [
      "\u001b[0;31m---------------------------------------------------------------------------\u001b[0m",
      "\u001b[0;31mTypeError\u001b[0m                                 Traceback (most recent call last)",
      "\u001b[0;32m<ipython-input-14-4ce6028355cc>\u001b[0m in \u001b[0;36m<module>\u001b[0;34m\u001b[0m\n\u001b[0;32m----> 1\u001b[0;31m \u001b[0mage\u001b[0m \u001b[0;34m>=\u001b[0m \u001b[0;36m18\u001b[0m\u001b[0;34m\u001b[0m\u001b[0;34m\u001b[0m\u001b[0m\n\u001b[0m",
      "\u001b[0;31mTypeError\u001b[0m: '>=' not supported between instances of 'str' and 'int'"
     ]
    }
   ],
   "source": [
    "age >= 18"
   ]
  },
  {
   "cell_type": "code",
   "execution_count": 15,
   "metadata": {},
   "outputs": [],
   "source": [
    "# We can resolve this issue by using the int() function, which tells\n",
    "# Python to treat the input as a numerical value. The int() function converts a string representation of a number to a numerical representation,\n",
    "# as shown here:"
   ]
  },
  {
   "cell_type": "code",
   "execution_count": 16,
   "metadata": {},
   "outputs": [
    {
     "name": "stdout",
     "output_type": "stream",
     "text": [
      "How old are you? 21\n"
     ]
    }
   ],
   "source": [
    "age = input(\"How old are you? \")\n",
    "age = int(age)\n"
   ]
  },
  {
   "cell_type": "code",
   "execution_count": 17,
   "metadata": {},
   "outputs": [
    {
     "data": {
      "text/plain": [
       "True"
      ]
     },
     "execution_count": 17,
     "metadata": {},
     "output_type": "execute_result"
    }
   ],
   "source": [
    "age >= 18"
   ]
  },
  {
   "cell_type": "code",
   "execution_count": 19,
   "metadata": {},
   "outputs": [
    {
     "name": "stdout",
     "output_type": "stream",
     "text": [
      "How tall are you, in inches? 2\n",
      "\n",
      "You'll be able to ride when you're a little order.\n"
     ]
    }
   ],
   "source": [
    "height = input(\"How tall are you, in inches? \")\n",
    "height = int(height)\n",
    "\n",
    "if height>=36:\n",
    "    print(\"\\nYou're tall enough to ride!\")\n",
    "else:\n",
    "    print(\"\\nYou'll be able to ride when you're a little order.\")"
   ]
  },
  {
   "cell_type": "code",
   "execution_count": 20,
   "metadata": {},
   "outputs": [],
   "source": [
    "# When you use numerical input to do calculations and comparisons,\n",
    "# be sure to convert the input value to a numerical representation first."
   ]
  },
  {
   "cell_type": "markdown",
   "metadata": {},
   "source": [
    "### The Modulo Operator"
   ]
  },
  {
   "cell_type": "code",
   "execution_count": 22,
   "metadata": {},
   "outputs": [],
   "source": [
    "# A useful tool for working with numerical information is the modulo operator (%),\n",
    "# which divides one number by another number and returns the remainder:"
   ]
  },
  {
   "cell_type": "code",
   "execution_count": 23,
   "metadata": {},
   "outputs": [
    {
     "data": {
      "text/plain": [
       "1"
      ]
     },
     "execution_count": 23,
     "metadata": {},
     "output_type": "execute_result"
    }
   ],
   "source": [
    "4 % 3"
   ]
  },
  {
   "cell_type": "code",
   "execution_count": 24,
   "metadata": {},
   "outputs": [
    {
     "data": {
      "text/plain": [
       "2"
      ]
     },
     "execution_count": 24,
     "metadata": {},
     "output_type": "execute_result"
    }
   ],
   "source": [
    "5 % 3"
   ]
  },
  {
   "cell_type": "code",
   "execution_count": 25,
   "metadata": {},
   "outputs": [
    {
     "data": {
      "text/plain": [
       "0"
      ]
     },
     "execution_count": 25,
     "metadata": {},
     "output_type": "execute_result"
    }
   ],
   "source": [
    "6 % 3"
   ]
  },
  {
   "cell_type": "code",
   "execution_count": 26,
   "metadata": {},
   "outputs": [
    {
     "data": {
      "text/plain": [
       "1"
      ]
     },
     "execution_count": 26,
     "metadata": {},
     "output_type": "execute_result"
    }
   ],
   "source": [
    "7 % 3"
   ]
  },
  {
   "cell_type": "code",
   "execution_count": 27,
   "metadata": {},
   "outputs": [],
   "source": [
    "# The modulo operator doesn’t tell you how many times one number fits\n",
    "# into another; it just tells you what the remainder is."
   ]
  },
  {
   "cell_type": "code",
   "execution_count": 28,
   "metadata": {},
   "outputs": [],
   "source": [
    "# When one number is divisible by another number, the remainder is 0,\n",
    "# so the modulo operator always returns 0. You can use this fact to determine\n",
    "# if a number is even or odd:"
   ]
  },
  {
   "cell_type": "code",
   "execution_count": 30,
   "metadata": {},
   "outputs": [
    {
     "name": "stdout",
     "output_type": "stream",
     "text": [
      "Enter a number, and I'll tell you if it's even or odd: 2\n",
      "\n",
      "The number 2 is even.\n"
     ]
    }
   ],
   "source": [
    "number = input(\"Enter a number, and I'll tell you if it's even or odd: \")\n",
    "number = int(number)\n",
    "\n",
    "if number % 2 == 0:\n",
    "    print(\"\\nThe number \"+str(number)+ \" is even.\")\n",
    "else:\n",
    "    print(\"\\nThe number \"+str(number)+ \" is odd.\")"
   ]
  },
  {
   "cell_type": "code",
   "execution_count": 31,
   "metadata": {},
   "outputs": [],
   "source": [
    "# Even numbers are always divisible by two, so if the modulo of a number\n",
    "# and two is zero (here, if number % 2 == 0) the number is even. Otherwise,\n",
    "# it’s odd."
   ]
  },
  {
   "cell_type": "markdown",
   "metadata": {},
   "source": [
    "## Exercise: 1"
   ]
  },
  {
   "cell_type": "markdown",
   "metadata": {},
   "source": [
    "**7-1. Rental Car:** Write a program that asks the user what kind of rental car they\n",
    "would like. Print a message about that car, such as “Let me see if I can find you\n",
    "a Subaru.”"
   ]
  },
  {
   "cell_type": "code",
   "execution_count": 33,
   "metadata": {},
   "outputs": [
    {
     "name": "stdout",
     "output_type": "stream",
     "text": [
      "What kind of car would you like? honda\n",
      "Let me see if I can find you a Honda\n"
     ]
    }
   ],
   "source": [
    "car = input(\"What kind of car would you like? \")\n",
    "print(\"Let me see if I can find you a \"+car.title())"
   ]
  },
  {
   "cell_type": "markdown",
   "metadata": {},
   "source": [
    "**7-2. Restaurant Seating:** Write a program that asks the user how many people\n",
    "are in their dinner group. If the answer is more than eight, print a message saying they’ll have to wait for a table. Otherwise, report that their table is ready."
   ]
  },
  {
   "cell_type": "code",
   "execution_count": 35,
   "metadata": {},
   "outputs": [
    {
     "name": "stdout",
     "output_type": "stream",
     "text": [
      "How many people are in your dinner party tonight?10\n",
      "Im sorry, you'll have to wait for a table.\n"
     ]
    }
   ],
   "source": [
    "restaurant_table = int(input(\"How many people are in your dinner party tonight?\"))\n",
    "\n",
    "if restaurant_table > 8:\n",
    "    print(\"Im sorry, you'll have to wait for a table.\")\n",
    "else:\n",
    "    print(\"your table is ready.\")"
   ]
  },
  {
   "cell_type": "markdown",
   "metadata": {},
   "source": [
    "**7-3. Multiples of Ten:** Ask the user for a number, and then report whether the\n",
    "number is a multiple of 10 or not."
   ]
  },
  {
   "cell_type": "code",
   "execution_count": 36,
   "metadata": {},
   "outputs": [
    {
     "name": "stdout",
     "output_type": "stream",
     "text": [
      "Give me a number, please: 23\n",
      "23 is not multiple of 10\n"
     ]
    }
   ],
   "source": [
    "number = int(input(\"Give me a number, please: \"))\n",
    "\n",
    "if number % 10 == 0:\n",
    "    print(str(number) + \" is multiple of 10\")\n",
    "else:\n",
    "    print(str(number) + \" is not multiple of 10\")"
   ]
  },
  {
   "cell_type": "markdown",
   "metadata": {},
   "source": [
    "## Introducing while Loops"
   ]
  },
  {
   "cell_type": "code",
   "execution_count": 37,
   "metadata": {},
   "outputs": [],
   "source": [
    "# The for loop takes a collection of items and executes a block of code once\n",
    "# for each item in the collection. In contrast, the while loop runs as long as,\n",
    "# or while, a certain condition is true. "
   ]
  },
  {
   "cell_type": "markdown",
   "metadata": {},
   "source": [
    "### The while Loop in Action"
   ]
  },
  {
   "cell_type": "code",
   "execution_count": 38,
   "metadata": {},
   "outputs": [
    {
     "name": "stdout",
     "output_type": "stream",
     "text": [
      "1\n",
      "2\n",
      "3\n",
      "4\n",
      "5\n"
     ]
    }
   ],
   "source": [
    "current_number = 1\n",
    "\n",
    "while current_number <= 5:\n",
    "    print(current_number)\n",
    "    current_number += 1"
   ]
  },
  {
   "cell_type": "markdown",
   "metadata": {},
   "source": [
    "### Letting the User Choose When to Quit"
   ]
  },
  {
   "cell_type": "code",
   "execution_count": 39,
   "metadata": {},
   "outputs": [],
   "source": [
    "# We’ll define a quit value and then\n",
    "# keep the program running as long as the user has not entered the quit value:"
   ]
  },
  {
   "cell_type": "code",
   "execution_count": 45,
   "metadata": {},
   "outputs": [
    {
     "name": "stdout",
     "output_type": "stream",
     "text": [
      "\n",
      "Tell me something, and I will repeat it back to you:\n",
      "Enter 'quit' to end the program.hello \n",
      "hello \n",
      "\n",
      "Tell me something, and I will repeat it back to you:\n",
      "Enter 'quit' to end the program.again hello\n",
      "again hello\n",
      "\n",
      "Tell me something, and I will repeat it back to you:\n",
      "Enter 'quit' to end the program.quit\n"
     ]
    }
   ],
   "source": [
    "prompt = \"\\nTell me something, and I will repeat it back to you:\"\n",
    "prompt += \"\\nEnter 'quit' to end the program.\"\n",
    "\n",
    "message = \"\"\n",
    "\n",
    "while message != 'quit':\n",
    "    message = input(prompt)\n",
    "    \n",
    "    if message != 'quit':\n",
    "        print(message)"
   ]
  },
  {
   "cell_type": "markdown",
   "metadata": {},
   "source": [
    "### Using a Flag"
   ]
  },
  {
   "cell_type": "code",
   "execution_count": 46,
   "metadata": {},
   "outputs": [
    {
     "name": "stdout",
     "output_type": "stream",
     "text": [
      "\n",
      "Tell me something, and I will repeat it back to you:\n",
      "Enter 'quit' to end the program.hello\n",
      "hello\n",
      "\n",
      "Tell me something, and I will repeat it back to you:\n",
      "Enter 'quit' to end the program.hello everyone\n",
      "hello everyone\n",
      "\n",
      "Tell me something, and I will repeat it back to you:\n",
      "Enter 'quit' to end the program.quit\n"
     ]
    }
   ],
   "source": [
    "active =True\n",
    "while active:\n",
    "    message = input(prompt)\n",
    "    \n",
    "    if message == 'quit':\n",
    "        active = False\n",
    "    else:\n",
    "        print(message)"
   ]
  },
  {
   "cell_type": "markdown",
   "metadata": {},
   "source": [
    "### Using break to Exit a Loop"
   ]
  },
  {
   "cell_type": "code",
   "execution_count": 47,
   "metadata": {},
   "outputs": [],
   "source": [
    "# To exit a while loop immediately without running any remaining code in the\n",
    "# loop, regardless of the results of any conditional test, use the break statement.\n",
    "# The break statement directs the flow of your program; you can use it to control which lines of code are executed and which aren’t, so the program only\n",
    "# executes code that you want it to, when you want it to. "
   ]
  },
  {
   "cell_type": "code",
   "execution_count": 48,
   "metadata": {},
   "outputs": [
    {
     "name": "stdout",
     "output_type": "stream",
     "text": [
      "\n",
      "Please enter the name of a city you have visited:\n",
      "(Enter 'quit' when you are finished.) karachi\n",
      "I'd love to go to Karachi!\n",
      "\n",
      "Please enter the name of a city you have visited:\n",
      "(Enter 'quit' when you are finished.) lahore\n",
      "I'd love to go to Lahore!\n",
      "\n",
      "Please enter the name of a city you have visited:\n",
      "(Enter 'quit' when you are finished.) quit\n"
     ]
    }
   ],
   "source": [
    "prompt = \"\\nPlease enter the name of a city you have visited:\"\n",
    "prompt += \"\\n(Enter 'quit' when you are finished.) \"\n",
    "\n",
    "while True:\n",
    "    city = input(prompt)\n",
    "    \n",
    "    if city == 'quit':\n",
    "        break\n",
    "    else:\n",
    "        print(\"I'd love to go to \"+city.title() + \"!\")"
   ]
  },
  {
   "cell_type": "code",
   "execution_count": 49,
   "metadata": {},
   "outputs": [],
   "source": [
    "# You can use the break statement in any of Python’s loops. For example, you could use\n",
    "# break to quit a for loop that’s working through a list or a dictionary."
   ]
  },
  {
   "cell_type": "markdown",
   "metadata": {},
   "source": [
    "### Using continue in a Loop"
   ]
  },
  {
   "cell_type": "code",
   "execution_count": 50,
   "metadata": {},
   "outputs": [],
   "source": [
    "# Rather than breaking out of a loop entirely without executing the rest of its\n",
    "# code, you can use the continue statement to return to the beginning of the\n",
    "# loop based on the result of a conditional test. For example, consider a loop\n",
    "# that counts from 1 to 10 but prints only the odd numbers in that range:"
   ]
  },
  {
   "cell_type": "code",
   "execution_count": 53,
   "metadata": {},
   "outputs": [
    {
     "name": "stdout",
     "output_type": "stream",
     "text": [
      "1\n",
      "3\n",
      "5\n",
      "7\n",
      "9\n"
     ]
    }
   ],
   "source": [
    "current_number = 0\n",
    "\n",
    "while current_number < 10:\n",
    "    current_number +=1\n",
    "    if current_number % 2 == 0:\n",
    "        continue\n",
    "    print(current_number)"
   ]
  },
  {
   "cell_type": "code",
   "execution_count": 54,
   "metadata": {},
   "outputs": [],
   "source": [
    "# First we set current_number to 0. Because it’s less than 10, Python\n",
    "# enters the while loop. Once inside the loop, we increment the count by 1\n",
    "# at u, so current_number is 1. The if statement then checks the modulo of\n",
    "# current_number and 2. If the modulo is 0 (which means current_number is\n",
    "# divisible by 2), the continue statement tells Python to ignore the rest of\n",
    "# the loop and return to the beginning. If the current number is not divisible by 2, the rest of the loop is executed and Python prints the current\n",
    "# number:"
   ]
  },
  {
   "cell_type": "markdown",
   "metadata": {},
   "source": [
    "### Avoiding Infinite Loops"
   ]
  },
  {
   "cell_type": "code",
   "execution_count": 55,
   "metadata": {},
   "outputs": [],
   "source": [
    "# Every while loop needs a way to stop running so it won’t continue to run forever. For example, this counting loop should count from 1 to 5:"
   ]
  },
  {
   "cell_type": "code",
   "execution_count": 56,
   "metadata": {},
   "outputs": [
    {
     "name": "stdout",
     "output_type": "stream",
     "text": [
      "1\n",
      "2\n",
      "3\n",
      "4\n",
      "5\n"
     ]
    }
   ],
   "source": [
    "x = 1\n",
    "\n",
    "while x <= 5:\n",
    "    print(x)\n",
    "    x += 1"
   ]
  },
  {
   "cell_type": "code",
   "execution_count": 57,
   "metadata": {},
   "outputs": [],
   "source": [
    "# But if you accidentally omit the line x += 1 (as shown next), the loop\n",
    "# will run forever:"
   ]
  },
  {
   "cell_type": "code",
   "execution_count": null,
   "metadata": {},
   "outputs": [],
   "source": [
    "# This loop runs forever!\n",
    "x = 1\n",
    "while x <= 5:\n",
    "     print(x)"
   ]
  },
  {
   "cell_type": "code",
   "execution_count": 58,
   "metadata": {},
   "outputs": [],
   "source": [
    "# Now the value of x will start at 1 but never change. As a result, the conditional test x <= 5 will always evaluate to True and the while loop will run\n",
    "# forever, printing a series of 1s, like this:"
   ]
  },
  {
   "cell_type": "markdown",
   "metadata": {},
   "source": [
    "### Exercise: 2"
   ]
  },
  {
   "cell_type": "markdown",
   "metadata": {},
   "source": [
    "**7-4. Pizza Toppings:** Write a loop that prompts the user to enter a series of\n",
    "pizza toppings until they enter a 'quit' value. As they enter each topping,\n",
    "print a message saying you’ll add that topping to their pizza."
   ]
  },
  {
   "cell_type": "code",
   "execution_count": 60,
   "metadata": {},
   "outputs": [
    {
     "name": "stdout",
     "output_type": "stream",
     "text": [
      "What topping would you like on your pizza? pepperoni\n",
      "\n",
      "I'll add pepperoni to your pizza\n",
      "What topping would you like on your pizza? sausage\n",
      "\n",
      "I'll add sausage to your pizza\n",
      "What topping would you like on your pizza? quit\n"
     ]
    }
   ],
   "source": [
    "prompt = \"What topping would you like on your pizza? \"\n",
    "\n",
    "while True:\n",
    "    pizza_toppings = input(prompt)\n",
    "    \n",
    "    if pizza_toppings != 'quit':\n",
    "        print(\"\\nI'll add \"+pizza_toppings +\" to your pizza\")\n",
    "    else:\n",
    "        break"
   ]
  },
  {
   "cell_type": "markdown",
   "metadata": {},
   "source": [
    "**7-5. Movie Tickets:** A movie theater charges different ticket prices depending on\n",
    "a person’s age. If a person is under the age of 3, the ticket is free; if they are\n",
    "between 3 and 12, the ticket is $10; and if they are over age 12, the ticket is\n",
    "$15. Write a loop in which you ask users their age, and then tell them the cost\n",
    "of their movie ticket."
   ]
  },
  {
   "cell_type": "code",
   "execution_count": 64,
   "metadata": {},
   "outputs": [
    {
     "name": "stdout",
     "output_type": "stream",
     "text": [
      "How old are you?\n",
      "Enter 'quit' when you are finished. 1\n",
      "your ticket is free\n",
      "How old are you?\n",
      "Enter 'quit' when you are finished. 2\n",
      "your ticket is free\n",
      "How old are you?\n",
      "Enter 'quit' when you are finished. quit\n"
     ]
    }
   ],
   "source": [
    "prompt = \"How old are you?\"\n",
    "prompt += \"\\nEnter 'quit' when you are finished. \"\n",
    "\n",
    "while True:\n",
    "    person_age = input(prompt)\n",
    "    \n",
    "    if person_age == 'quit':\n",
    "        break\n",
    "    \n",
    "    person_age = int(person_age)\n",
    "    if person_age < 3:\n",
    "        print(\"your ticket is free\")\n",
    "    elif person_age > 3 and person_age <= 13:\n",
    "        print(\"your ticker is $10.\")\n",
    "    else:\n",
    "        print(\"your ticker is $15.\")"
   ]
  },
  {
   "cell_type": "markdown",
   "metadata": {},
   "source": [
    "## Using a while Loop with Lists and Dictionaries"
   ]
  },
  {
   "cell_type": "code",
   "execution_count": 65,
   "metadata": {},
   "outputs": [],
   "source": [
    "# So far, we’ve worked with only one piece of user information at a time. We\n",
    "# received the user’s input and then printed the input or a response to it.\n",
    "# The next time through the while loop, we’d receive another input value\n",
    "# and respond to that. But to keep track of many users and pieces of information, we’ll need to use lists and dictionaries with our while loops."
   ]
  },
  {
   "cell_type": "code",
   "execution_count": 66,
   "metadata": {},
   "outputs": [],
   "source": [
    "# A for loop is effective for looping through a list, but you shouldn’t modify\n",
    "# a list inside a for loop because Python will have trouble keeping track of the\n",
    "# items in the list. To modify a list as you work through it, use a while loop.\n",
    "# Using while loops with lists and dictionaries allows you to collect, store, and\n",
    "# organize lots of input to examine and report on later. "
   ]
  },
  {
   "cell_type": "markdown",
   "metadata": {},
   "source": [
    "## Moving Items from One List to Another"
   ]
  },
  {
   "cell_type": "code",
   "execution_count": 67,
   "metadata": {},
   "outputs": [],
   "source": [
    "# Consider a list of newly registered but unverified users of a website. After\n",
    "# we verify these users, how can we move them to a separate list of confirmed\n",
    "# users? One way would be to use a while loop to pull users from the list of\n",
    "# unconfirmed users as we verify them and then add them to a separate list of\n",
    "# confirmed users. Here’s what that code might look like:"
   ]
  },
  {
   "cell_type": "code",
   "execution_count": 68,
   "metadata": {},
   "outputs": [
    {
     "name": "stdout",
     "output_type": "stream",
     "text": [
      "Verifying user: Tahir\n",
      "Verifying user: Bilal\n",
      "Verifying user: Abid\n"
     ]
    }
   ],
   "source": [
    "# Start with users that need to be verified,\n",
    "\n",
    "# and an empty list to hold confirmed users.\n",
    "\n",
    "unconfirmed_users = ['abid', 'bilal', 'tahir']\n",
    "confirmed_users = []\n",
    "\n",
    "# Verify each user until there are no more unconfirmed users.\n",
    "# Move each verified user into the list of confirmed users.\n",
    "\n",
    "\n",
    "while unconfirmed_users:\n",
    "    current_user = unconfirmed_users.pop()\n",
    "    \n",
    "    print(\"Verifying user: \"+current_user.title())\n",
    "    confirmed_users.append(current_user)"
   ]
  },
  {
   "cell_type": "code",
   "execution_count": 69,
   "metadata": {},
   "outputs": [
    {
     "name": "stdout",
     "output_type": "stream",
     "text": [
      "\n",
      "THe following users have been confirmed:\n",
      "Tahir\n",
      "Bilal\n",
      "Abid\n"
     ]
    }
   ],
   "source": [
    "# Display all confirmed users.\n",
    "\n",
    "print(\"\\nTHe following users have been confirmed:\")\n",
    "for confirmed_user in confirmed_users:\n",
    "    print(confirmed_user.title())"
   ]
  },
  {
   "cell_type": "markdown",
   "metadata": {},
   "source": [
    "### Removing All Instances of Specific Values from a List"
   ]
  },
  {
   "cell_type": "code",
   "execution_count": 70,
   "metadata": {},
   "outputs": [],
   "source": [
    "# In Chapter 3 we used remove() to remove a specific value from a list. The\n",
    "# remove() function worked because the value we were interested in appeared\n",
    "# only once in the list. But what if you want to remove all instances of a value\n",
    "# from a list?\n",
    "\n",
    "\n",
    "# Say you have a list of pets with the value 'cat' repeated several times. To\n",
    "# remove all instances of that value, you can run a while loop until 'cat' is no\n",
    "# longer in the list, as shown here:"
   ]
  },
  {
   "cell_type": "code",
   "execution_count": 71,
   "metadata": {},
   "outputs": [
    {
     "name": "stdout",
     "output_type": "stream",
     "text": [
      "['dog', 'cat', 'dog', 'goldfish', 'cat', 'rabbit', 'cat']\n",
      "['dog', 'dog', 'goldfish', 'rabbit']\n"
     ]
    }
   ],
   "source": [
    "pets =  ['dog', 'cat', 'dog', 'goldfish', 'cat', 'rabbit', 'cat']\n",
    "\n",
    "print(pets)\n",
    "\n",
    "while 'cat' in pets:\n",
    "    pets.remove('cat')\n",
    "    \n",
    "print(pets)"
   ]
  },
  {
   "cell_type": "code",
   "execution_count": 72,
   "metadata": {},
   "outputs": [],
   "source": [
    "# We start with a list containing multiple instances of 'cat'. After printing\n",
    "# the list, Python enters the while loop because it finds the value 'cat' in the list \n",
    "# at least once. Once inside the loop, Python removes the first instance of 'cat',\n",
    "# returns to the while line, and then reenters the loop when it finds that 'cat' is\n",
    "# still in the list. It removes each instance of 'cat' until the value is no longer in\n",
    "# the list, at which point Python exits the loop and prints the list again:"
   ]
  },
  {
   "cell_type": "markdown",
   "metadata": {},
   "source": [
    "## Filling a Dictionary with User Input"
   ]
  },
  {
   "cell_type": "code",
   "execution_count": 73,
   "metadata": {},
   "outputs": [],
   "source": [
    "# You can prompt for as much input as you need in each pass through a while\n",
    "# loop. Let’s make a polling program in which each pass through the loop\n",
    "# prompts for the participant’s name and response. We’ll store the data we\n",
    "# gather in a dictionary, because we want to connect each response with a\n",
    "# particular user:"
   ]
  },
  {
   "cell_type": "code",
   "execution_count": 2,
   "metadata": {},
   "outputs": [
    {
     "name": "stdout",
     "output_type": "stream",
     "text": [
      "\n",
      "Whats your name? arsalan\n",
      "Which mountain would you like to climb someday? k2\n",
      "Would you like to let another person respond? (yes/no) no\n",
      "\n",
      "---- Poll results ----\n",
      "arsalan would like to climb k2.\n"
     ]
    }
   ],
   "source": [
    "responses ={}\n",
    "\n",
    "# set a flag to indicate that polling is acitve\n",
    "polling_active = True\n",
    "\n",
    "while polling_active:\n",
    "    #prompt for the persons's name and response.\n",
    "    name = input(\"\\nWhats your name? \")\n",
    "    response = input(\"Which mountain would you like to climb someday? \")\n",
    "    \n",
    "    \n",
    "    # store the response in the dictionary\n",
    "    \n",
    "    responses[name] = response\n",
    "    \n",
    "    # find out if anyone else is going to take the poll.\n",
    "    \n",
    "    repeat = input(\"Would you like to let another person respond? (yes/no) \")\n",
    "    \n",
    "    if repeat == 'no':\n",
    "        polling_active = False\n",
    "  \n",
    "\n",
    "# polling is complete show the result\n",
    "print(\"\\n---- Poll results ----\")\n",
    "for name, response in responses.items():\n",
    "    print(name + \" would like to climb \"+response+ \".\")"
   ]
  },
  {
   "cell_type": "markdown",
   "metadata": {},
   "source": [
    "### Exercise: 3"
   ]
  },
  {
   "cell_type": "markdown",
   "metadata": {},
   "source": [
    "**7-8. Deli:** Make a list called sandwich_orders and fill it with the names of various sandwiches. Then make an empty list called finished_sandwiches. Loop\n",
    "through the list of sandwich orders and print a message for each order, such\n",
    "as I made your tuna sandwich. As each sandwich is made, move it to the list\n",
    "of finished sandwiches. After all the sandwiches have been made, print a\n",
    "message listing each sandwich that was made."
   ]
  },
  {
   "cell_type": "code",
   "execution_count": 6,
   "metadata": {},
   "outputs": [
    {
     "name": "stdout",
     "output_type": "stream",
     "text": [
      "I'm working on your roast beef sandwich\n",
      "I'm working on your turkey sandwich\n",
      "I'm working on your grilled cheese sandwich\n",
      "I'm working on your veggie sandwich\n",
      "\n",
      "\n",
      "I made a roast beef sandwich\n",
      "I made a turkey sandwich\n",
      "I made a grilled cheese sandwich\n",
      "I made a veggie sandwich\n"
     ]
    }
   ],
   "source": [
    "sandwich_orders = ['veggie', 'grilled cheese', 'turkey', 'roast beef']\n",
    "finished_sandwiches = []\n",
    "\n",
    "while sandwich_orders:\n",
    "    working_sandwich = sandwich_orders.pop()\n",
    "    print(\"I'm working on your \"+working_sandwich + \" sandwich\")\n",
    "    \n",
    "    finished_sandwiches.append(working_sandwich)\n",
    "print(\"\\n\")    \n",
    "for sandwich in finished_sandwiches:\n",
    "    print(\"I made a \"+ sandwich+ \" sandwich\")"
   ]
  },
  {
   "cell_type": "markdown",
   "metadata": {},
   "source": [
    "**7-9. No Pastrami:** Using the list sandwich_orders from Exercise 7-8, make sure\n",
    "the sandwich 'pastrami' appears in the list at least three times. Add code\n",
    "near the beginning of your program to print a message saying the deli has\n",
    "run out of pastrami, and then use a while loop to remove all occurrences of\n",
    "'pastrami' from sandwich_orders. Make sure no pastrami sandwiches end up\n",
    "in finished_sandwiches."
   ]
  },
  {
   "cell_type": "code",
   "execution_count": 8,
   "metadata": {},
   "outputs": [
    {
     "name": "stdout",
     "output_type": "stream",
     "text": [
      "I'm sorry, we're all out of pastrami today.\n",
      "\n",
      "\n",
      "I'm working on your roast beef sandwich\n",
      "I'm working on your turkey sandwich\n",
      "I'm working on your grilled cheese sandwich\n",
      "I'm working on your veggie sandwich\n",
      "\n",
      "\n",
      "I made a roast beef sandwich\n",
      "I made a turkey sandwich\n",
      "I made a grilled cheese sandwich\n",
      "I made a veggie sandwich\n"
     ]
    }
   ],
   "source": [
    "sandwich_orders = [\n",
    "    'pastrami', 'veggie', 'grilled cheese', 'pastrami',\n",
    "    'turkey', 'roast beef', 'pastrami']\n",
    "finished_sandwiches = []\n",
    "\n",
    "print(\"I'm sorry, we're all out of pastrami today.\")\n",
    "\n",
    "while 'pastrami' in sandwich_orders:\n",
    "    sandwich_orders.remove('pastrami')\n",
    "    \n",
    "print(\"\\n\")\n",
    "\n",
    "while sandwich_orders:\n",
    "    working_sandwich = sandwich_orders.pop()\n",
    "    print(\"I'm working on your \"+working_sandwich + \" sandwich\")\n",
    "    \n",
    "    finished_sandwiches.append(working_sandwich)\n",
    "print(\"\\n\")    \n",
    "for sandwich in finished_sandwiches:\n",
    "    print(\"I made a \"+ sandwich+ \" sandwich\")\n"
   ]
  },
  {
   "cell_type": "markdown",
   "metadata": {},
   "source": [
    "**7-10. Dream Vacation:** Write a program that polls users about their dream\n",
    "vacation. Write a prompt similar to If you could visit one place in the world,\n",
    "where would you go? Include a block of code that prints the results of the poll."
   ]
  },
  {
   "cell_type": "code",
   "execution_count": 10,
   "metadata": {},
   "outputs": [
    {
     "name": "stdout",
     "output_type": "stream",
     "text": [
      "\n",
      "What's your name? arsalan\n",
      "If you could visit one place in the world, where would it be? k2\n",
      "\n",
      "Would you like to let someone else respond? (yes/no) no\n",
      "\n",
      "----- Results -----\n",
      "Arsalan would like to visit K2.\n"
     ]
    }
   ],
   "source": [
    "name_prompt = \"\\nWhat's your name? \"\n",
    "place_prompt = \"If you could visit one place in the world, where would it be? \"\n",
    "continue_prompt = \"\\nWould you like to let someone else respond? (yes/no) \"\n",
    "\n",
    "responses = {}\n",
    "\n",
    "while True:\n",
    "    \n",
    "    name = input(name_prompt)\n",
    "    place = input(place_prompt)\n",
    "    \n",
    "    responses[name] = place\n",
    "    \n",
    "    repeat  = input(continue_prompt)\n",
    "    \n",
    "    if repeat != 'yes':\n",
    "        break\n",
    "        \n",
    "print(\"\\n----- Results -----\")\n",
    "\n",
    "for name, place in responses.items():\n",
    "    print(name.title() + \" would like to visit \"+place.title()+\".\")"
   ]
  },
  {
   "cell_type": "code",
   "execution_count": null,
   "metadata": {},
   "outputs": [],
   "source": []
  }
 ],
 "metadata": {
  "kernelspec": {
   "display_name": "Python 3",
   "language": "python",
   "name": "python3"
  },
  "language_info": {
   "codemirror_mode": {
    "name": "ipython",
    "version": 3
   },
   "file_extension": ".py",
   "mimetype": "text/x-python",
   "name": "python",
   "nbconvert_exporter": "python",
   "pygments_lexer": "ipython3",
   "version": "3.7.6"
  }
 },
 "nbformat": 4,
 "nbformat_minor": 4
}
