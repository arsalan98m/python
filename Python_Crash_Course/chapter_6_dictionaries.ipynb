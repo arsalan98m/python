{
 "cells": [
  {
   "cell_type": "markdown",
   "metadata": {},
   "source": [
    "## A Simple Dictionary"
   ]
  },
  {
   "cell_type": "code",
   "execution_count": 3,
   "metadata": {},
   "outputs": [],
   "source": [
    "# Consider a game featuring aliens that can have different colors and point\n",
    "# values. This simple dictionary stores information about a particular alien:"
   ]
  },
  {
   "cell_type": "code",
   "execution_count": 1,
   "metadata": {},
   "outputs": [],
   "source": [
    "alien_0 = {'color': 'green', 'points': 5}"
   ]
  },
  {
   "cell_type": "code",
   "execution_count": 2,
   "metadata": {},
   "outputs": [
    {
     "name": "stdout",
     "output_type": "stream",
     "text": [
      "green\n",
      "5\n"
     ]
    }
   ],
   "source": [
    "print(alien_0['color'])\n",
    "print(alien_0['points'])"
   ]
  },
  {
   "cell_type": "markdown",
   "metadata": {},
   "source": [
    "## Working with Dictionaries"
   ]
  },
  {
   "cell_type": "code",
   "execution_count": 4,
   "metadata": {},
   "outputs": [],
   "source": [
    "# A dictionary in Python is a collection of key-value pairs. Each key is connected\n",
    "# to a value, and you can use a key to access the value associated with that key.\n",
    "# A key’s value can be a number, a string, a list, or even another dictionary.\n",
    "# In fact, you can use any object that you can create in Python as a value in a\n",
    "# dictionary.\n",
    "\n",
    "\n",
    "# In Python, a dictionary is wrapped in braces, {}, with a series of\n",
    "# keyvalue pairs inside the braces, as shown in the earlier example:"
   ]
  },
  {
   "cell_type": "code",
   "execution_count": 5,
   "metadata": {},
   "outputs": [],
   "source": [
    "alien_0 = {'color': 'green', 'points': 5}"
   ]
  },
  {
   "cell_type": "code",
   "execution_count": 6,
   "metadata": {},
   "outputs": [],
   "source": [
    "# Now you can access either the color or the point value of alien_0. If a\n",
    "# player shoots down this alien, you can look up how many points they should\n",
    "# earn using code like this:"
   ]
  },
  {
   "cell_type": "code",
   "execution_count": 7,
   "metadata": {},
   "outputs": [
    {
     "name": "stdout",
     "output_type": "stream",
     "text": [
      "You just earned 5 points!\n"
     ]
    }
   ],
   "source": [
    "new_points = alien_0['points']\n",
    "print(\"You just earned \"+str(new_points) + \" points!\")"
   ]
  },
  {
   "cell_type": "markdown",
   "metadata": {},
   "source": [
    "## Adding New Key-Value Pairs"
   ]
  },
  {
   "cell_type": "code",
   "execution_count": 8,
   "metadata": {},
   "outputs": [],
   "source": [
    "# Dictionaries are dynamic structures, and you can add new key-value pairs\n",
    "# to a dictionary at any time. For example, to add a new key-value pair, you\n",
    "# would give the name of the dictionary followed by the new key in square\n",
    "# brackets along with the new value."
   ]
  },
  {
   "cell_type": "code",
   "execution_count": 9,
   "metadata": {},
   "outputs": [
    {
     "data": {
      "text/plain": [
       "{'color': 'green', 'points': 5}"
      ]
     },
     "execution_count": 9,
     "metadata": {},
     "output_type": "execute_result"
    }
   ],
   "source": [
    "alien_0"
   ]
  },
  {
   "cell_type": "code",
   "execution_count": 10,
   "metadata": {},
   "outputs": [],
   "source": [
    "alien_0['x_position'] = 0\n",
    "alien_0['y_position'] = 25"
   ]
  },
  {
   "cell_type": "code",
   "execution_count": 11,
   "metadata": {},
   "outputs": [
    {
     "data": {
      "text/plain": [
       "{'color': 'green', 'points': 5, 'x_position': 0, 'y_position': 25}"
      ]
     },
     "execution_count": 11,
     "metadata": {},
     "output_type": "execute_result"
    }
   ],
   "source": [
    "alien_0"
   ]
  },
  {
   "cell_type": "markdown",
   "metadata": {},
   "source": [
    "## Starting with an Empty Dictionary"
   ]
  },
  {
   "cell_type": "code",
   "execution_count": 12,
   "metadata": {},
   "outputs": [],
   "source": [
    "# It’s sometimes convenient, or even necessary, to start with an empty dictionary and then add each new item to it. To start filling an empty dictionary,\n",
    "# define a dictionary with an empty set of braces and then add each key-value\n",
    "# pair on its own line. For example, here’s how to build the alien_0 dictionary\n",
    "# using this approach:"
   ]
  },
  {
   "cell_type": "code",
   "execution_count": 13,
   "metadata": {},
   "outputs": [],
   "source": [
    "alien_0 = {}"
   ]
  },
  {
   "cell_type": "code",
   "execution_count": 14,
   "metadata": {},
   "outputs": [],
   "source": [
    "alien_0['color'] = 'green'"
   ]
  },
  {
   "cell_type": "code",
   "execution_count": 15,
   "metadata": {},
   "outputs": [
    {
     "data": {
      "text/plain": [
       "{'color': 'green'}"
      ]
     },
     "execution_count": 15,
     "metadata": {},
     "output_type": "execute_result"
    }
   ],
   "source": [
    "alien_0"
   ]
  },
  {
   "cell_type": "code",
   "execution_count": 16,
   "metadata": {},
   "outputs": [],
   "source": [
    "alien_0['points'] = 5"
   ]
  },
  {
   "cell_type": "code",
   "execution_count": 17,
   "metadata": {},
   "outputs": [
    {
     "name": "stdout",
     "output_type": "stream",
     "text": [
      "{'color': 'green', 'points': 5}\n"
     ]
    }
   ],
   "source": [
    "print(alien_0)"
   ]
  },
  {
   "cell_type": "markdown",
   "metadata": {},
   "source": [
    "## Modifying Values in a Dictionary "
   ]
  },
  {
   "cell_type": "code",
   "execution_count": 18,
   "metadata": {},
   "outputs": [],
   "source": [
    "# To modify a value in a dictionary, give the name of the dictionary with the\n",
    "# key in square brackets and then the new value you want associated with\n",
    "# that key. For example, consider an alien that changes from green to yellow\n",
    "# as a game progresses:"
   ]
  },
  {
   "cell_type": "code",
   "execution_count": 19,
   "metadata": {},
   "outputs": [
    {
     "name": "stdout",
     "output_type": "stream",
     "text": [
      "The alien is green.\n"
     ]
    }
   ],
   "source": [
    "alien_0 = {'color': 'green'}\n",
    "print(\"The alien is \" + alien_0['color']+\".\")"
   ]
  },
  {
   "cell_type": "code",
   "execution_count": 20,
   "metadata": {},
   "outputs": [
    {
     "name": "stdout",
     "output_type": "stream",
     "text": [
      "The alien is now yellow.\n"
     ]
    }
   ],
   "source": [
    "alien_0['color'] = 'yellow'\n",
    "print(\"The alien is now \" + alien_0['color']+\".\")"
   ]
  },
  {
   "cell_type": "code",
   "execution_count": 21,
   "metadata": {},
   "outputs": [],
   "source": [
    "# For a more interesting example, let’s track the position of an alien that\n",
    "# can move at different speeds. We’ll store a value representing the alien’s\n",
    "# current speed and then use it to determine how far to the right the alien\n",
    "# should move:"
   ]
  },
  {
   "cell_type": "code",
   "execution_count": 22,
   "metadata": {},
   "outputs": [
    {
     "name": "stdout",
     "output_type": "stream",
     "text": [
      "New x-position: 2\n"
     ]
    }
   ],
   "source": [
    "alien_0 = {'x_position': 0, 'y_position': 25, 'speed': 'medium'}\n",
    "\n",
    "# Move the alien to the right\n",
    "# Determine how far to move the alien based on its current speed.\n",
    "\n",
    "if alien_0['speed'] == 'slow':\n",
    "    x_increment = 1\n",
    "elif alien_0['speed'] == 'medium':\n",
    "    x_increment = 2\n",
    "else:\n",
    "    # This must be a fast alien.\n",
    "    x_increment = 3\n",
    "    \n",
    "# The new position is the old position plus the increment\n",
    "alien_0['x_position'] = alien_0['x_position'] + x_increment\n",
    "\n",
    "print(\"New x-position: \"+str(alien_0['x_position']))"
   ]
  },
  {
   "cell_type": "markdown",
   "metadata": {},
   "source": [
    "## Removing Key-Value Pairs"
   ]
  },
  {
   "cell_type": "code",
   "execution_count": 24,
   "metadata": {},
   "outputs": [],
   "source": [
    "# When you no longer need a piece of information that’s stored in a dictionary, you can use the del statement to completely remove a key-value pair.\n",
    "# All del needs is the name of the dictionary and the key that you want to\n",
    "# remove.\n",
    "\n",
    "\n",
    "# For example, let’s remove the key 'points' from the alien_0 dictionary\n",
    "# along with its value:"
   ]
  },
  {
   "cell_type": "code",
   "execution_count": 25,
   "metadata": {},
   "outputs": [
    {
     "name": "stdout",
     "output_type": "stream",
     "text": [
      "{'color': 'green', 'points': 5}\n"
     ]
    }
   ],
   "source": [
    "alien_0 = {'color': 'green', 'points': 5}\n",
    "print(alien_0)"
   ]
  },
  {
   "cell_type": "code",
   "execution_count": 26,
   "metadata": {},
   "outputs": [
    {
     "name": "stdout",
     "output_type": "stream",
     "text": [
      "{'color': 'green'}\n"
     ]
    }
   ],
   "source": [
    "del alien_0['points']\n",
    "print(alien_0)"
   ]
  },
  {
   "cell_type": "code",
   "execution_count": 27,
   "metadata": {},
   "outputs": [],
   "source": [
    "# Note: Be aware that the deleted key-value pair is removed permanently. "
   ]
  },
  {
   "cell_type": "markdown",
   "metadata": {},
   "source": [
    "## A Dictionary of Similar Objects"
   ]
  },
  {
   "cell_type": "code",
   "execution_count": 31,
   "metadata": {},
   "outputs": [],
   "source": [
    "# The previous example involved storing different kinds of information about\n",
    "# one object, an alien in a game. You can also use a dictionary to store one\n",
    "# kind of information about many objects. For example, say you want to poll a \n",
    "# Dictionaries 101\n",
    "# number of people and ask them what their favorite programming languag"
   ]
  },
  {
   "cell_type": "code",
   "execution_count": 29,
   "metadata": {},
   "outputs": [],
   "source": [
    "favorite_languages = {\n",
    "    'jen': 'python',\n",
    "    'sarah': 'c',\n",
    "    'edward': 'ruby',\n",
    "    'phil': 'python',\n",
    "}"
   ]
  },
  {
   "cell_type": "code",
   "execution_count": 30,
   "metadata": {},
   "outputs": [
    {
     "name": "stdout",
     "output_type": "stream",
     "text": [
      "Sarah's favorite langugae is C.\n"
     ]
    }
   ],
   "source": [
    "print(\"Sarah's favorite langugae is \"+ favorite_languages['sarah'].title()+ \".\")"
   ]
  },
  {
   "cell_type": "markdown",
   "metadata": {},
   "source": [
    "### Exercise: 1"
   ]
  },
  {
   "cell_type": "markdown",
   "metadata": {},
   "source": [
    "**6-1. Person:** Use a dictionary to store information about a person you know.\n",
    "Store their first name, last name, age, and the city in which they live. You\n",
    "should have keys such as first_name, last_name, age, and city. Print each\n",
    "piece of information stored in your dictionary."
   ]
  },
  {
   "cell_type": "code",
   "execution_count": 32,
   "metadata": {},
   "outputs": [],
   "source": [
    "person = {\n",
    "    'first_name': 'abid',\n",
    "    'last_name': 'shaka',\n",
    "    'age': 21,\n",
    "    'city': 'karachi',\n",
    "}"
   ]
  },
  {
   "cell_type": "code",
   "execution_count": 34,
   "metadata": {},
   "outputs": [
    {
     "name": "stdout",
     "output_type": "stream",
     "text": [
      "abid\n",
      "shaka\n",
      "21\n",
      "karachi\n"
     ]
    }
   ],
   "source": [
    "print(person['first_name'])\n",
    "print(person['last_name'])\n",
    "print(person['age'])\n",
    "print(person['city'])"
   ]
  },
  {
   "cell_type": "markdown",
   "metadata": {},
   "source": [
    "**6-2. Favorite Numbers:** Use a dictionary to store people’s favorite numbers.\n",
    "Think of five names, and use them as keys in your dictionary. Think of a favorite\n",
    "number for each person, and store each as a value in your dictionary. Print\n",
    "each person’s name and their favorite number. For even more fun, poll a few\n",
    "friends and get some actual data for your program."
   ]
  },
  {
   "cell_type": "code",
   "execution_count": 35,
   "metadata": {},
   "outputs": [],
   "source": [
    "favorite_numbers = {\n",
    "    'salman': 3,\n",
    "    'jhangeer': 44,\n",
    "    'nasir': 9,\n",
    "    'imran': 10,\n",
    "    'bilal': 54,\n",
    "}"
   ]
  },
  {
   "cell_type": "code",
   "execution_count": 41,
   "metadata": {},
   "outputs": [
    {
     "name": "stdout",
     "output_type": "stream",
     "text": [
      "Salman's favorite number is 3\n",
      "Jhangeer's favorite number is 44\n",
      "Nasir's favorite number is 9\n",
      "Imran's favorite number is 10\n",
      "Bilal's favorite number is 54\n"
     ]
    }
   ],
   "source": [
    "print(f\"Salman's favorite number is {favorite_numbers['salman']}\")\n",
    "print(f\"Jhangeer's favorite number is {favorite_numbers['jhangeer']}\")\n",
    "print(f\"Nasir's favorite number is {favorite_numbers['nasir']}\")\n",
    "print(f\"Imran's favorite number is {favorite_numbers['imran']}\")\n",
    "print(f\"Bilal's favorite number is {favorite_numbers['bilal']}\")"
   ]
  },
  {
   "cell_type": "markdown",
   "metadata": {},
   "source": [
    "**6-3. Glossary:** A Python dictionary can be used to model an actual dictionary.\n",
    "However, to avoid confusion, let’s call it a glossary.\n",
    "\n",
    "\n",
    "- Think of five programming words you’ve learned about in the previous chapters. Use these words as the keys in your glossary, and store their meanings as values.\n",
    "\n",
    "\n",
    "- Print each word and its meaning as neatly formatted output. You might print the word followed by a colon and then its meaning, or print the word on one line and then print its meaning indented on a second line. Use the newline character (\\n) to insert a blank line between each word-meaning pair in your output."
   ]
  },
  {
   "cell_type": "code",
   "execution_count": 42,
   "metadata": {},
   "outputs": [],
   "source": [
    "glossary = {\n",
    "    'string': 'series of characters',\n",
    "    'list': 'collection of items',\n",
    "    'comment': 'note in a program that the python interpreter ignores',\n",
    "    'len': 'check length of items',\n",
    "    'type': 'check data type of items',\n",
    "}"
   ]
  },
  {
   "cell_type": "code",
   "execution_count": 46,
   "metadata": {},
   "outputs": [
    {
     "name": "stdout",
     "output_type": "stream",
     "text": [
      "String: Series Of Characters\n",
      "\n",
      "\n",
      "List: Collection Of Items\n",
      "\n",
      "\n",
      "Comment: Note In A Program That The Python Interpreter Ignores\n",
      "\n",
      "\n",
      "len: Check Length Of Items\n",
      "\n",
      "\n",
      "type: Check Data Type Of Items\n"
     ]
    }
   ],
   "source": [
    "print(f\"String: {glossary['string'].title()}\")\n",
    "print(\"\\n\")\n",
    "print(f\"List: {glossary['list'].title()}\")\n",
    "print(\"\\n\")\n",
    "print(f\"Comment: {glossary['comment'].title()}\")\n",
    "print(\"\\n\")\n",
    "print(f\"len: {glossary['len'].title()}\")\n",
    "print(\"\\n\")\n",
    "print(f\"type: {glossary['type'].title()}\")"
   ]
  },
  {
   "cell_type": "markdown",
   "metadata": {},
   "source": [
    "## Looping Through a Dictionary"
   ]
  },
  {
   "cell_type": "code",
   "execution_count": 47,
   "metadata": {},
   "outputs": [],
   "source": [
    "# A single Python dictionary can contain just a few key-value pairs or millions\n",
    "# of pairs. Because a dictionary can contain large amounts of data, Python lets\n",
    "# you loop through a dictionary. Dictionaries can be used to store information\n",
    "# in a variety of ways; therefore, several different ways exist to loop through\n",
    "# them. You can loop through all of a dictionary’s key-value pairs, through its\n",
    "# keys, or through its values."
   ]
  },
  {
   "cell_type": "markdown",
   "metadata": {},
   "source": [
    "### Looping Through All Key-Value Pairs"
   ]
  },
  {
   "cell_type": "code",
   "execution_count": 48,
   "metadata": {},
   "outputs": [],
   "source": [
    "# Before we explore the different approaches to looping, let’s consider a\n",
    "# new dictionary designed to store information about a user on a website.\n",
    "# The following dictionary would store one person’s username, first name,\n",
    "# and last name:"
   ]
  },
  {
   "cell_type": "code",
   "execution_count": 49,
   "metadata": {},
   "outputs": [],
   "source": [
    "user_0 = {\n",
    "    'username': 'efermi',\n",
    "    'first': 'enrico',\n",
    "    'last': 'fermi',\n",
    "}"
   ]
  },
  {
   "cell_type": "code",
   "execution_count": 50,
   "metadata": {},
   "outputs": [
    {
     "name": "stdout",
     "output_type": "stream",
     "text": [
      "\n",
      "Key: username\n",
      "Value: efermi\n",
      "\n",
      "Key: first\n",
      "Value: enrico\n",
      "\n",
      "Key: last\n",
      "Value: fermi\n"
     ]
    }
   ],
   "source": [
    "for key,value in user_0.items():\n",
    "    print(\"\\nKey: \"+key)\n",
    "    print(\"Value: \"+value)"
   ]
  },
  {
   "cell_type": "code",
   "execution_count": 51,
   "metadata": {},
   "outputs": [
    {
     "name": "stdout",
     "output_type": "stream",
     "text": [
      "Jen's favorite language is Python\n",
      "Sarah's favorite language is C\n",
      "Edward's favorite language is Ruby\n",
      "Phil's favorite language is Python\n"
     ]
    }
   ],
   "source": [
    "favorite_languages = {\n",
    "    'jen': 'python',\n",
    "    'sarah': 'c',\n",
    "    'edward': 'ruby',\n",
    "    'phil': 'python',\n",
    "}\n",
    "\n",
    "for name, language in favorite_languages.items():\n",
    "    print(name.title() + \"'s favorite language is \" + language.title())"
   ]
  },
  {
   "cell_type": "markdown",
   "metadata": {},
   "source": [
    "### Looping Through All the Keys in a Dictionary"
   ]
  },
  {
   "cell_type": "code",
   "execution_count": 52,
   "metadata": {},
   "outputs": [],
   "source": [
    "# The keys() method is useful when you don’t need to work with all of the\n",
    "# values in a dictionary. Let’s loop through the favorite_languages dictionary\n",
    "# and print the names of everyone who took the poll:"
   ]
  },
  {
   "cell_type": "code",
   "execution_count": 53,
   "metadata": {},
   "outputs": [
    {
     "name": "stdout",
     "output_type": "stream",
     "text": [
      "Jen\n",
      "Sarah\n",
      "Edward\n",
      "Phil\n"
     ]
    }
   ],
   "source": [
    "favorite_languages = {\n",
    "    'jen': 'python',\n",
    "    'sarah': 'c',\n",
    "    'edward': 'ruby',\n",
    "    'phil': 'python',\n",
    "}\n",
    "\n",
    "\n",
    "for name in favorite_languages.keys():\n",
    "    print(name.title())"
   ]
  },
  {
   "cell_type": "code",
   "execution_count": 54,
   "metadata": {},
   "outputs": [
    {
     "name": "stdout",
     "output_type": "stream",
     "text": [
      "Jen\n",
      "Sarah\n",
      "Edward\n",
      "Phil\n"
     ]
    }
   ],
   "source": [
    "# this code is same as \n",
    "for name in favorite_languages:\n",
    "    print(name.title())"
   ]
  },
  {
   "cell_type": "code",
   "execution_count": 56,
   "metadata": {},
   "outputs": [
    {
     "name": "stdout",
     "output_type": "stream",
     "text": [
      "Jen\n",
      "Sarah\n",
      " Hi Sarah, I see your favorite language is C!\n",
      "Edward\n",
      "Phil\n",
      " Hi Phil, I see your favorite language is Python!\n"
     ]
    }
   ],
   "source": [
    "friends = ['phil', 'sarah']\n",
    "\n",
    "for name in favorite_languages.keys():\n",
    "    print(name.title())\n",
    "    \n",
    "    if name in friends:\n",
    "        print(\" Hi \"+name.title()+ \", I see your favorite language is \" +\n",
    "                     favorite_languages[name].title()+ \"!\")"
   ]
  },
  {
   "cell_type": "code",
   "execution_count": 57,
   "metadata": {},
   "outputs": [
    {
     "name": "stdout",
     "output_type": "stream",
     "text": [
      "Erin, please take our poll!\n"
     ]
    }
   ],
   "source": [
    "favorite_languages = {\n",
    "    'jen': 'python',\n",
    "    'sarah': 'c',\n",
    "    'edward': 'ruby',\n",
    "    'phil': 'python',\n",
    "}\n",
    "\n",
    "if 'erin' not in favorite_languages.keys():\n",
    "    print(\"Erin, please take our poll!\")"
   ]
  },
  {
   "cell_type": "markdown",
   "metadata": {},
   "source": [
    "### Looping Through a Dictionary’s Keys in Order"
   ]
  },
  {
   "cell_type": "code",
   "execution_count": 59,
   "metadata": {},
   "outputs": [
    {
     "name": "stdout",
     "output_type": "stream",
     "text": [
      "Edward, thank you for taking the poll.\n",
      "Jen, thank you for taking the poll.\n",
      "Phil, thank you for taking the poll.\n",
      "Sarah, thank you for taking the poll.\n"
     ]
    }
   ],
   "source": [
    "favorite_languages = {\n",
    "    'jen': 'python',\n",
    "    'sarah': 'c',\n",
    "    'edward': 'ruby',\n",
    "    'phil': 'python',\n",
    "}\n",
    "\n",
    "for name in sorted(favorite_languages.keys()):\n",
    "    print(name.title() + \", thank you for taking the poll.\")"
   ]
  },
  {
   "cell_type": "markdown",
   "metadata": {},
   "source": [
    "### Looping Through All Values in a Dictionary"
   ]
  },
  {
   "cell_type": "code",
   "execution_count": 60,
   "metadata": {},
   "outputs": [],
   "source": [
    "# If you are primarily interested in the values that a dictionary contains,\n",
    "# you can use the values() method to return a list of values without any keys.\n",
    "# For example, say we simply want a list of all languages chosen in our programming language poll without the name of the person who chose each\n",
    "# language:"
   ]
  },
  {
   "cell_type": "code",
   "execution_count": 62,
   "metadata": {},
   "outputs": [
    {
     "name": "stdout",
     "output_type": "stream",
     "text": [
      "The following languages have been mentioned:\n",
      "Python\n",
      "C\n",
      "Ruby\n",
      "Python\n"
     ]
    }
   ],
   "source": [
    "favorite_languages = {\n",
    "    'jen': 'python',\n",
    "    'sarah': 'c',\n",
    "    'edward': 'ruby',\n",
    "    'phil': 'python',\n",
    "}\n",
    "\n",
    "print(\"The following languages have been mentioned:\")\n",
    "for language in favorite_languages.values():\n",
    "    print(language.title())"
   ]
  },
  {
   "cell_type": "code",
   "execution_count": 63,
   "metadata": {},
   "outputs": [],
   "source": [
    "# This approach pulls all the values from the dictionary without checking\n",
    "# for repeats. That might work fine with a small number of values, but in a\n",
    "# poll with a large number of respondents, this would result in a very repetitive list. To see each language chosen without repetition, we can use a set.\n",
    "# A set is similar to a list except that each item in the set must be unique:"
   ]
  },
  {
   "cell_type": "code",
   "execution_count": 64,
   "metadata": {},
   "outputs": [
    {
     "name": "stdout",
     "output_type": "stream",
     "text": [
      "The following languages have been mentioned:\n",
      "C\n",
      "Ruby\n",
      "Python\n"
     ]
    }
   ],
   "source": [
    "favorite_languages = {\n",
    "    'jen': 'python',\n",
    "    'sarah': 'c',\n",
    "    'edward': 'ruby',\n",
    "    'phil': 'python',\n",
    "}\n",
    "\n",
    "print(\"The following languages have been mentioned:\")\n",
    "for language in set(favorite_languages.values()):\n",
    "    print(language.title())"
   ]
  },
  {
   "cell_type": "code",
   "execution_count": 65,
   "metadata": {},
   "outputs": [],
   "source": [
    "# When you wrap set() around a list that contains duplicate items, Python\n",
    "# identifies the unique items in the list and builds a set from those items."
   ]
  },
  {
   "cell_type": "markdown",
   "metadata": {},
   "source": [
    "## Exercise: 2"
   ]
  },
  {
   "cell_type": "markdown",
   "metadata": {},
   "source": [
    "**6-4. Glossary 2:** Now that you know how to loop through a dictionary, clean\n",
    "up the code from Exercise 6-3 (page 102) by replacing your series of print\n",
    "statements with a loop that runs through the dictionary’s keys and values.\n",
    "When you’re sure that your loop works, add five more Python terms to your\n",
    "glossary. When you run your program again, these new words and meanings\n",
    "should automatically be included in the output."
   ]
  },
  {
   "cell_type": "code",
   "execution_count": 66,
   "metadata": {},
   "outputs": [],
   "source": [
    "glossary_2 = {\n",
    "    'string': 'series of characters',\n",
    "    'list': 'collection of items',\n",
    "    'comment': 'note in a program that the python interpreter ignores',\n",
    "    'len': 'check length of items',\n",
    "    'type': 'check data type of items',\n",
    "    'float': 'a numerical value with a decimal point',\n",
    "    'key': 'the first item in a key-value pair in a dictionary',\n",
    "    'boolean': 'an expression that evaluates to True or False',\n",
    "    'dictionary': 'a collection of key-value pairs',\n",
    "    'loop': 'work through a collection of items, one at a time',\n",
    "}"
   ]
  },
  {
   "cell_type": "code",
   "execution_count": 69,
   "metadata": {},
   "outputs": [
    {
     "name": "stdout",
     "output_type": "stream",
     "text": [
      "\n",
      " String : Series Of Characters\n",
      "\n",
      " List : Collection Of Items\n",
      "\n",
      " Comment : Note In A Program That The Python Interpreter Ignores\n",
      "\n",
      " Len : Check Length Of Items\n",
      "\n",
      " Type : Check Data Type Of Items\n",
      "\n",
      " Float : A Numerical Value With A Decimal Point\n",
      "\n",
      " Key : The First Item In A Key-Value Pair In A Dictionary\n",
      "\n",
      " Boolean : An Expression That Evaluates To True Or False\n",
      "\n",
      " Dictionary : A Collection Of Key-Value Pairs\n",
      "\n",
      " Loop : Work Through A Collection Of Items, One At A Time\n"
     ]
    }
   ],
   "source": [
    "for name, des in glossary_2.items():\n",
    "    print(f\"\\n {name.title()} : {des.title()}\")"
   ]
  },
  {
   "cell_type": "markdown",
   "metadata": {},
   "source": [
    "**6-5. Rivers:** Make a dictionary containing three major rivers and the country\n",
    "each river runs through. One key-value pair might be 'nile': 'egypt'.\n",
    "\n",
    "\n",
    "- Use a loop to print a sentence about each river, such as The Nile runs through Egypt.\n",
    "\n",
    "\n",
    "- Use a loop to print the name of each river included in the dictionary.\n",
    "\n",
    "\n",
    "- Use a loop to print the name of each country included in the dictionary"
   ]
  },
  {
   "cell_type": "code",
   "execution_count": 70,
   "metadata": {},
   "outputs": [],
   "source": [
    "rivers = {\n",
    "    'indus': 'pakistan',\n",
    "    'mississippi': 'usa',\n",
    "    'yangtze': 'china'\n",
    "}"
   ]
  },
  {
   "cell_type": "code",
   "execution_count": 71,
   "metadata": {},
   "outputs": [
    {
     "name": "stdout",
     "output_type": "stream",
     "text": [
      "\n",
      "The Indus runs through Pakistan\n",
      "\n",
      "The Mississippi runs through Usa\n",
      "\n",
      "The Yangtze runs through China\n"
     ]
    }
   ],
   "source": [
    "for river, country in rivers.items():\n",
    "    print(f\"\\nThe {river.title()} runs through {country.title()}\")"
   ]
  },
  {
   "cell_type": "code",
   "execution_count": 73,
   "metadata": {},
   "outputs": [
    {
     "name": "stdout",
     "output_type": "stream",
     "text": [
      "The following rivers are included in this data set:\n",
      "- Indus\n",
      "- Mississippi\n",
      "- Yangtze\n"
     ]
    }
   ],
   "source": [
    "print(\"The following rivers are included in this data set:\")\n",
    "for river in rivers.keys():\n",
    "    print(\"- \"+river.title())"
   ]
  },
  {
   "cell_type": "code",
   "execution_count": 74,
   "metadata": {},
   "outputs": [
    {
     "name": "stdout",
     "output_type": "stream",
     "text": [
      "The following countries are included in this data set:\n",
      "- Pakistan\n",
      "- Usa\n",
      "- China\n"
     ]
    }
   ],
   "source": [
    "print(\"The following countries are included in this data set:\")\n",
    "for country in rivers.values():\n",
    "    print(\"- \"+country.title())"
   ]
  },
  {
   "cell_type": "markdown",
   "metadata": {},
   "source": [
    "**6-6. Polling:** Use the code in favorite_languages.py (page 104).\n",
    "\n",
    "\n",
    "- Make a list of people who should take the favorite languages poll. Include some names that are already in the dictionary and some that are not.\n",
    "\n",
    "\n",
    "- Loop through the list of people who should take the poll. If they have already taken the poll, print a message thanking them for responding. If they have not yet taken the poll, print a message inviting them to take the poll."
   ]
  },
  {
   "cell_type": "code",
   "execution_count": 81,
   "metadata": {},
   "outputs": [],
   "source": [
    "favorite_languages = {\n",
    "    'jen': 'python',\n",
    "    'sarah': 'c',\n",
    "    'edward': 'ruby',\n",
    "    'phil': 'python',\n",
    "    \n",
    "}"
   ]
  },
  {
   "cell_type": "code",
   "execution_count": 82,
   "metadata": {},
   "outputs": [
    {
     "name": "stdout",
     "output_type": "stream",
     "text": [
      "Jen's favorite langugae is Python\n",
      "Sarah's favorite langugae is C\n",
      "Edward's favorite langugae is Ruby\n",
      "Phil's favorite langugae is Python\n"
     ]
    }
   ],
   "source": [
    "for name, language in favorite_languages.items():\n",
    "    print(f\"{name.title()}'s favorite langugae is {language.title()}\")"
   ]
  },
  {
   "cell_type": "code",
   "execution_count": 85,
   "metadata": {},
   "outputs": [
    {
     "name": "stdout",
     "output_type": "stream",
     "text": [
      "Thank you for taking the poll, Jen\n",
      "Abid, what's your favorite programming language?\n",
      "Bilal, what's your favorite programming language?\n",
      "Thank you for taking the poll, Edward\n"
     ]
    }
   ],
   "source": [
    "programmers = ['jen', 'abid', 'bilal','edward']\n",
    "\n",
    "for programmer in programmers:\n",
    "    if programmer in favorite_languages.keys():\n",
    "        print(f\"Thank you for taking the poll, {programmer.title()}\")\n",
    "    else:\n",
    "        print(f\"{programmer.title()}, what's your favorite programming language?\")"
   ]
  },
  {
   "cell_type": "markdown",
   "metadata": {},
   "source": [
    "## Nesting"
   ]
  },
  {
   "cell_type": "code",
   "execution_count": 86,
   "metadata": {},
   "outputs": [],
   "source": [
    "# Sometimes you’ll want to store a set of dictionaries in a list or a list of\n",
    "# items as a value in a dictionary. This is called nesting. You can nest a set\n",
    "# of dictionaries inside a list, a list of items inside a dictionary, or even a\n",
    "# dictionary inside another dictionary. Nesting is a powerful feature, as the\n",
    "# following examples will demonstrate"
   ]
  },
  {
   "cell_type": "code",
   "execution_count": 87,
   "metadata": {},
   "outputs": [
    {
     "name": "stdout",
     "output_type": "stream",
     "text": [
      "{'color': 'green', 'points': 5}\n",
      "{'color': 'yellow', 'points': 10}\n",
      "{'color': 'green', 'points': 15}\n"
     ]
    }
   ],
   "source": [
    "alien_0 = {'color': 'green', 'points': 5}\n",
    "alien_1 = {'color': 'yellow', 'points': 10}\n",
    "alien_2 = {'color': 'green', 'points': 15}\n",
    "\n",
    "\n",
    "aliens = [alien_0, alien_1, alien_2]\n",
    "\n",
    "for alien in aliens:\n",
    "    print(alien)\n"
   ]
  },
  {
   "cell_type": "code",
   "execution_count": 88,
   "metadata": {},
   "outputs": [],
   "source": [
    "# A more realistic example would involve more than three aliens with\n",
    "# code that automatically generates each alien. In the following example we\n",
    "# use range() to create a fleet of 30 aliens:"
   ]
  },
  {
   "cell_type": "code",
   "execution_count": 89,
   "metadata": {},
   "outputs": [],
   "source": [
    "# Make an empty list for storing aliens.\n",
    "\n",
    "aliens = []\n",
    "\n",
    "# Make 30 green aliens\n",
    "for alien_number in range(30):\n",
    "    new_alien = {'color': 'green', 'points': 5, 'speed': 'slow'}\n",
    "    aliens.append(new_alien)"
   ]
  },
  {
   "cell_type": "code",
   "execution_count": 90,
   "metadata": {},
   "outputs": [
    {
     "name": "stdout",
     "output_type": "stream",
     "text": [
      "{'color': 'green', 'points': 5, 'speed': 'slow'}\n",
      "{'color': 'green', 'points': 5, 'speed': 'slow'}\n",
      "{'color': 'green', 'points': 5, 'speed': 'slow'}\n",
      "{'color': 'green', 'points': 5, 'speed': 'slow'}\n",
      "{'color': 'green', 'points': 5, 'speed': 'slow'}\n",
      "...\n"
     ]
    }
   ],
   "source": [
    "# show the first 5 aliens:\n",
    "for alien in aliens[:5]:\n",
    "    print(alien)\n",
    "print(\"...\")"
   ]
  },
  {
   "cell_type": "code",
   "execution_count": 91,
   "metadata": {},
   "outputs": [
    {
     "name": "stdout",
     "output_type": "stream",
     "text": [
      "Total number of aliens: 30\n"
     ]
    }
   ],
   "source": [
    "# show how many aliens have been created\n",
    "print(\"Total number of aliens: \"+str(len(aliens)))"
   ]
  },
  {
   "cell_type": "code",
   "execution_count": 92,
   "metadata": {},
   "outputs": [],
   "source": [
    "# These aliens all have the same characteristics, but Python considers each\n",
    "# one a separate object, which allows us to modify each alien individually.\n",
    "# How might you work with a set of aliens like this? Imagine that one\n",
    "# aspect of a game has some aliens changing color and moving faster as the\n",
    "# game progresses. When it’s time to change colors, we can use a for loop and\n",
    "# an if statement to change the color of aliens. For example, to change the\n",
    "# first three aliens to yellow, medium-speed aliens worth 10 points each, we\n",
    "# could do this:"
   ]
  },
  {
   "cell_type": "code",
   "execution_count": 93,
   "metadata": {},
   "outputs": [],
   "source": [
    "for alien in aliens[0:3]:\n",
    "    if alien['color'] == 'green':\n",
    "        alien['color'] = 'yellow'\n",
    "        alien['speed'] = 'medium'\n",
    "        alien['points'] = 10"
   ]
  },
  {
   "cell_type": "code",
   "execution_count": 95,
   "metadata": {},
   "outputs": [
    {
     "data": {
      "text/plain": [
       "[{'color': 'yellow', 'points': 10, 'speed': 'medium'},\n",
       " {'color': 'yellow', 'points': 10, 'speed': 'medium'},\n",
       " {'color': 'yellow', 'points': 10, 'speed': 'medium'}]"
      ]
     },
     "execution_count": 95,
     "metadata": {},
     "output_type": "execute_result"
    }
   ],
   "source": [
    "aliens[:3]"
   ]
  },
  {
   "cell_type": "markdown",
   "metadata": {},
   "source": [
    "### A List in a Dictionary"
   ]
  },
  {
   "cell_type": "code",
   "execution_count": 96,
   "metadata": {},
   "outputs": [],
   "source": [
    "# Rather than putting a dictionary inside a list, it’s sometimes useful to put\n",
    "# a list inside a dictionary. For example, consider how you might describe a\n",
    "# pizza that someone is ordering. If you were to use only a list, all you could\n",
    "# really store is a list of the pizza’s toppings. With a dictionary, a list of toppings can be just one aspect of the pizza you’re describing."
   ]
  },
  {
   "cell_type": "code",
   "execution_count": 97,
   "metadata": {},
   "outputs": [],
   "source": [
    "# Store information about a pizza being ordered.\n",
    "pizza = {\n",
    "    'crust': 'thick',\n",
    "    'toppings': ['mushrooms', 'extra cheese'],\n",
    "}"
   ]
  },
  {
   "cell_type": "code",
   "execution_count": 99,
   "metadata": {},
   "outputs": [
    {
     "name": "stdout",
     "output_type": "stream",
     "text": [
      "You ordered a thick -crust pizza with the following toppings\n",
      "\tmushrooms\n",
      "\textra cheese\n"
     ]
    }
   ],
   "source": [
    "# Summarize the order.\n",
    "print(\"You ordered a \"+pizza['crust'] + \" -crust pizza\"+\n",
    "     \" with the following toppings\")\n",
    "\n",
    "for topping in pizza['toppings']:\n",
    "    print(\"\\t\"+topping)"
   ]
  },
  {
   "cell_type": "code",
   "execution_count": 119,
   "metadata": {},
   "outputs": [
    {
     "name": "stdout",
     "output_type": "stream",
     "text": [
      "\n",
      "Jen's favorite languages are:\n",
      "\tPython\n",
      "\tRuby\n",
      "Sarah favorite language is c\n",
      "\n",
      "Edward's favorite languages are:\n",
      "\tRuby\n",
      "\tGo\n",
      "\n",
      "Phil's favorite languages are:\n",
      "\tPython\n",
      "\tHaskell\n"
     ]
    }
   ],
   "source": [
    "favorite_languages = {\n",
    "    'jen': ['python', 'ruby'],\n",
    "    'sarah': ['c'],\n",
    "    'edward': ['ruby', 'go'],\n",
    "    'phil': ['python', 'haskell'],\n",
    "}\n",
    "\n",
    "\n",
    "for name , languages in favorite_languages.items():\n",
    "    \n",
    "    if len(languages) > 1:\n",
    "        print(\"\\n\"+name.title()+ \"'s favorite languages are:\")\n",
    "        for language in languages:\n",
    "            print(\"\\t\"+language.title())\n",
    "    else:\n",
    "        print(f\"{name.title()} favorite language is {languages[0]}\")"
   ]
  },
  {
   "cell_type": "markdown",
   "metadata": {},
   "source": [
    "### A Dictionary in a Dictionary"
   ]
  },
  {
   "cell_type": "code",
   "execution_count": 120,
   "metadata": {},
   "outputs": [],
   "source": [
    "# You can nest a dictionary inside another dictionary, but your code can get\n",
    "# complicated quickly when you do. For example, if you have several users\n",
    "# for a website, each with a unique username, you can use the usernames as\n",
    "# the keys in a dictionary. You can then store information about each user by\n",
    "# using a dictionary as the value associated with their username. In the following listing, we store three pieces of information about each user: their\n",
    "# first name, last name, and location. We’ll access this information by looping\n",
    "# through the usernames and the dictionary of information associated with\n",
    "# each username:"
   ]
  },
  {
   "cell_type": "code",
   "execution_count": 122,
   "metadata": {},
   "outputs": [
    {
     "name": "stdout",
     "output_type": "stream",
     "text": [
      "\n",
      "Username: aeinstein\n",
      "\tFull name: Albert Einstein\n",
      "\tLocation: Princeton\n",
      "\n",
      "Username: mcurie\n",
      "\tFull name: Marie Curie\n",
      "\tLocation: Paris\n"
     ]
    }
   ],
   "source": [
    "users = {\n",
    "    'aeinstein': {\n",
    "        'first': 'albert',\n",
    "        'last': 'einstein',\n",
    "        'location': 'princeton',\n",
    "    },\n",
    "    \n",
    "    'mcurie': {\n",
    "        'first': 'marie',\n",
    "        'last': 'curie',\n",
    "        'location': 'paris',\n",
    "    }\n",
    "}\n",
    "\n",
    "\n",
    "for username, user_info in users.items():\n",
    "    print(\"\\nUsername: \"+username)\n",
    "    full_name = user_info['first'] + \" \" + user_info['last']\n",
    "    location = user_info['location']\n",
    "    \n",
    "    print(\"\\tFull name: \"+full_name.title())\n",
    "    print(\"\\tLocation: \"+location.title())"
   ]
  },
  {
   "cell_type": "markdown",
   "metadata": {},
   "source": [
    "## Exercise 3"
   ]
  },
  {
   "cell_type": "markdown",
   "metadata": {},
   "source": [
    "**6-7. People:** Start with the program you wrote for Exercise 6-1 (page 102).\n",
    "Make two new dictionaries representing different people, and store all three\n",
    "dictionaries in a list called people. Loop through your list of people. As you\n",
    "loop through the list, print everything you know about each person."
   ]
  },
  {
   "cell_type": "code",
   "execution_count": 124,
   "metadata": {},
   "outputs": [],
   "source": [
    "person_1 = {\n",
    "    'first_name': 'abid',\n",
    "    'last_name': 'shaka',\n",
    "    'age': 21,\n",
    "    'city': 'karachi',\n",
    "}\n",
    "\n",
    "person_2 = {\n",
    "    'first_name': 'taha',\n",
    "    'last_name': 'jillani',\n",
    "    'age': 18,\n",
    "    'city': 'karachi',\n",
    "}\n",
    "\n",
    "person_3 = {\n",
    "    'first_name': 'imran',\n",
    "    'last_name': 'khan',\n",
    "    'age': 40,\n",
    "    'city': 'lahore',\n",
    "}\n",
    "\n",
    "people = [person_1, person_2, person_3]"
   ]
  },
  {
   "cell_type": "code",
   "execution_count": 126,
   "metadata": {},
   "outputs": [
    {
     "name": "stdout",
     "output_type": "stream",
     "text": [
      "Abid Shaka, of Karachi is 21 years old.\n",
      "Taha Jillani, of Karachi is 18 years old.\n",
      "Imran Khan, of Lahore is 40 years old.\n"
     ]
    }
   ],
   "source": [
    "for person in people:\n",
    "    name = person['first_name'].title() + \" \" + person['last_name'].title()\n",
    "    age = str(person['age'])\n",
    "    city = person['city'].title()\n",
    "    \n",
    "    print(f\"{name}, of {city} is {age} years old.\")"
   ]
  },
  {
   "cell_type": "markdown",
   "metadata": {},
   "source": [
    "**6-8. Pets:** Make several dictionaries, where the name of each dictionary is the\n",
    "name of a pet. In each dictionary, include the kind of animal and the owner’s\n",
    "name. Store these dictionaries in a list called pets. Next, loop through your list\n",
    "and as you do print everything you know about each pet."
   ]
  },
  {
   "cell_type": "code",
   "execution_count": 127,
   "metadata": {},
   "outputs": [],
   "source": [
    "pet_1 = {\n",
    "    'animal type': 'python',\n",
    "    'name': 'jhon',\n",
    "    'owner': 'guido',\n",
    "    'weight': 43,\n",
    "    'eats': 'bugs'\n",
    "}\n",
    "\n",
    "pet_2 = {\n",
    "    'animal type': 'chicken',\n",
    "    'name': 'clarence',\n",
    "    'owner': 'tiffany',\n",
    "    'weight': 2,\n",
    "    'eats': 'seeds'\n",
    "}\n",
    "\n",
    "pet_3 = {\n",
    "    'animal type': 'dog',\n",
    "    'name': 'peso',\n",
    "    'owner': 'eric',\n",
    "    'weight': 37,\n",
    "    'eats': 'shoes'\n",
    "}\n",
    "\n",
    "pets = [pet_1, pet_2, pet_3]\n"
   ]
  },
  {
   "cell_type": "code",
   "execution_count": 132,
   "metadata": {},
   "outputs": [
    {
     "name": "stdout",
     "output_type": "stream",
     "text": [
      "\n",
      "Here's what I know about Jhon:\n",
      "\tanimal type: python\n",
      "\tname: jhon\n",
      "\towner: guido\n",
      "\tweight: 43\n",
      "\teats: bugs\n",
      "\n",
      "Here's what I know about Clarence:\n",
      "\tanimal type: chicken\n",
      "\tname: clarence\n",
      "\towner: tiffany\n",
      "\tweight: 2\n",
      "\teats: seeds\n",
      "\n",
      "Here's what I know about Peso:\n",
      "\tanimal type: dog\n",
      "\tname: peso\n",
      "\towner: eric\n",
      "\tweight: 37\n",
      "\teats: shoes\n"
     ]
    }
   ],
   "source": [
    "for animal in pets:\n",
    "    name = animal['name']\n",
    "    print(\"\\nHere's what I know about \"+name.title()+\":\")\n",
    "    for key, value in animal.items():\n",
    "        print(\"\\t\"+key + \": \"+str(value))"
   ]
  },
  {
   "cell_type": "markdown",
   "metadata": {},
   "source": [
    "**6-9. Favorite Places:** Make a dictionary called favorite_places. Think of three\n",
    "names to use as keys in the dictionary, and store one to three favorite places\n",
    "for each person. To make this exercise a bit more interesting, ask some friends\n",
    "to name a few of their favorite places. Loop throug"
   ]
  },
  {
   "cell_type": "code",
   "execution_count": 136,
   "metadata": {},
   "outputs": [
    {
     "name": "stdout",
     "output_type": "stream",
     "text": [
      "\n",
      "Imran likes the following places:\n",
      "- Naran Kaghan\n",
      "- Lahore\n",
      "- Multan\n",
      "\n",
      "Bilal likes the following places:\n",
      "- Quetta\n",
      "- Peshawar\n",
      "\n",
      "Sultan likes the following places:\n",
      "- Kashmir\n",
      "- Gilgit\n",
      "- Punjab\n",
      "- Larkana\n"
     ]
    }
   ],
   "source": [
    "favorite_places = {\n",
    "    'imran': ['naran kaghan', 'lahore', 'multan'],\n",
    "    'bilal': ['quetta', 'peshawar'],\n",
    "    'sultan': ['kashmir', 'gilgit', 'punjab', 'larkana']\n",
    "}\n",
    "\n",
    "for name, places in favorite_places.items():\n",
    "    print(f\"\\n{name.title()} likes the following places:\")\n",
    "    for place in places:\n",
    "        print(f\"- {place.title()}\")"
   ]
  },
  {
   "cell_type": "markdown",
   "metadata": {},
   "source": [
    "**6-10. Favorite Numbers:** Modify your program from Exercise 6-2 (page 102) so\n",
    "each person can have more than one favorite number. Then print each person’s\n",
    "name along with their favorite numbers"
   ]
  },
  {
   "cell_type": "code",
   "execution_count": 139,
   "metadata": {},
   "outputs": [
    {
     "name": "stdout",
     "output_type": "stream",
     "text": [
      "\n",
      "Salman likes the following numbers:\n",
      "  3\n",
      "  11\n",
      "\n",
      "Jhangeer likes the following numbers:\n",
      "  44\n",
      "  21\n",
      "  90\n",
      "  0\n",
      "\n",
      "Nasir likes the following numbers:\n",
      "  9\n",
      "  1\n",
      "  34\n",
      "\n",
      "Imran likes the following numbers:\n",
      "  10\n",
      "  22\n",
      "\n",
      "Bilal likes the following numbers:\n",
      "  54\n",
      "  77\n",
      "  51\n"
     ]
    }
   ],
   "source": [
    "favorite_numbers = {\n",
    "    'salman': [3,11],\n",
    "    'jhangeer': [44,21,90,0],\n",
    "    'nasir': [9,1,34],\n",
    "    'imran': [10,22],\n",
    "    'bilal': [54, 77, 51],\n",
    "}\n",
    "\n",
    "for name, numbers in favorite_numbers.items():\n",
    "    print(f\"\\n{name.title()} likes the following numbers:\")\n",
    "    for number in numbers:\n",
    "        print(f\"  {number}\")\n",
    "\n"
   ]
  },
  {
   "cell_type": "markdown",
   "metadata": {},
   "source": [
    "**6-11. Cities:** Make a dictionary called cities. Use the names of three cities as\n",
    "keys in your dictionary. Create a dictionary of information about each city and\n",
    "include the country that the city is in, its approximate population, and one fact\n",
    "about that city. The keys for each city’s dictionary should be something like\n",
    "country, population, and fact. Print the name of each city and all of the information you have stored about it."
   ]
  },
  {
   "cell_type": "code",
   "execution_count": 140,
   "metadata": {},
   "outputs": [],
   "source": [
    "cities = {\n",
    "    \"karachi\":{\n",
    "        \"country\": \"pakistan\",\n",
    "        \"population\": \"1 crore\",\n",
    "        \n",
    "    },\n",
    "    \"lahore\": {\n",
    "        \"country\": \"pakistan\",\n",
    "        \"population\": \"2 crore\",\n",
    "    },\n",
    "    \"quetta\": {\n",
    "        \"country\": \"pakistan\",\n",
    "        \"population\": \"50 lakh\",\n",
    "    },\n",
    "}"
   ]
  },
  {
   "cell_type": "code",
   "execution_count": 154,
   "metadata": {},
   "outputs": [
    {
     "name": "stdout",
     "output_type": "stream",
     "text": [
      "\n",
      "Karachi is in Pakistan.\n",
      "   It has a population of about 1 crore\n",
      "\n",
      "Lahore is in Pakistan.\n",
      "   It has a population of about 2 crore\n",
      "\n",
      "Quetta is in Pakistan.\n",
      "   It has a population of about 50 lakh\n"
     ]
    }
   ],
   "source": [
    "for city, city_info in cities.items():\n",
    "    country = city_info[\"country\"].title()\n",
    "    population = city_info[\"population\"]\n",
    "    \n",
    "    print(\"\\n\"+city.title() + \" is in \" + country + \".\")\n",
    "    print(\"   It has a population of about \" + population)"
   ]
  },
  {
   "cell_type": "code",
   "execution_count": null,
   "metadata": {},
   "outputs": [],
   "source": []
  }
 ],
 "metadata": {
  "kernelspec": {
   "display_name": "Python 3",
   "language": "python",
   "name": "python3"
  },
  "language_info": {
   "codemirror_mode": {
    "name": "ipython",
    "version": 3
   },
   "file_extension": ".py",
   "mimetype": "text/x-python",
   "name": "python",
   "nbconvert_exporter": "python",
   "pygments_lexer": "ipython3",
   "version": "3.7.6"
  }
 },
 "nbformat": 4,
 "nbformat_minor": 4
}
