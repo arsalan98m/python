{
 "cells": [
  {
   "cell_type": "code",
   "execution_count": 1,
   "metadata": {},
   "outputs": [],
   "source": [
    "# List allow you to store sets of information in one place, whether\n",
    "# you have just a few items or millions of items.\n",
    "\n",
    "# A list is a collection of items in a particular order. you can make\n",
    "# a list that includes the letters of the alphabet, the digits from\n",
    "# 0-9, or the names os all the people in your family, you can put\n",
    "# anythng you want into a list and the items in your list don't have to\n",
    "# be related in any particular way.Because a list usually contains more\n",
    "# tahn one element it's good idea to make the name of your list plural\n",
    "# such as letters, digits or names\n",
    "\n",
    "\n",
    "# In pyhton, square bracker ([]) indicate a list and indvidual elements\n",
    "# in the list are seperated by commas."
   ]
  },
  {
   "cell_type": "code",
   "execution_count": 2,
   "metadata": {},
   "outputs": [
    {
     "name": "stdout",
     "output_type": "stream",
     "text": [
      "['trek', 'cannodale', 'redline', 'specialized']\n"
     ]
    }
   ],
   "source": [
    "bicycles = ['trek', 'cannodale', 'redline', 'specialized']\n",
    "print(bicycles)"
   ]
  },
  {
   "cell_type": "markdown",
   "metadata": {},
   "source": [
    "#### Accessing Elements in a list"
   ]
  },
  {
   "cell_type": "code",
   "execution_count": 7,
   "metadata": {},
   "outputs": [],
   "source": [
    "# lists are ordered collectios, so an can access any element in a list\n",
    "# by telling python the position, or index of the item.\n",
    "\n",
    "# to access an element write the name of list followd by index of the \n",
    "# item enclosed in square brakets\n",
    "\n",
    "# index position starts at 0"
   ]
  },
  {
   "cell_type": "code",
   "execution_count": 4,
   "metadata": {},
   "outputs": [
    {
     "name": "stdout",
     "output_type": "stream",
     "text": [
      "trek\n"
     ]
    }
   ],
   "source": [
    "print(bicycles[0])"
   ]
  },
  {
   "cell_type": "code",
   "execution_count": 6,
   "metadata": {},
   "outputs": [
    {
     "name": "stdout",
     "output_type": "stream",
     "text": [
      "Trek\n"
     ]
    }
   ],
   "source": [
    "# you can also use this format\n",
    "print(bicycles[0].title())"
   ]
  },
  {
   "cell_type": "code",
   "execution_count": 8,
   "metadata": {},
   "outputs": [
    {
     "name": "stdout",
     "output_type": "stream",
     "text": [
      "cannodale\n",
      "specialized\n"
     ]
    }
   ],
   "source": [
    "print(bicycles[1])\n",
    "print(bicycles[3])"
   ]
  },
  {
   "cell_type": "code",
   "execution_count": 9,
   "metadata": {},
   "outputs": [],
   "source": [
    "# python has a special syntax for accessing the last element in a list.\n",
    "# by asking for them at index -1, python always returns the last item\n",
    "# in the list"
   ]
  },
  {
   "cell_type": "code",
   "execution_count": 10,
   "metadata": {},
   "outputs": [
    {
     "name": "stdout",
     "output_type": "stream",
     "text": [
      "specialized\n"
     ]
    }
   ],
   "source": [
    "print(bicycles[-1])"
   ]
  },
  {
   "cell_type": "markdown",
   "metadata": {},
   "source": [
    "#### Using Individual Values from a List"
   ]
  },
  {
   "cell_type": "code",
   "execution_count": 11,
   "metadata": {},
   "outputs": [],
   "source": [
    "# you can use concatenation to create a message based on value from a list"
   ]
  },
  {
   "cell_type": "code",
   "execution_count": 13,
   "metadata": {},
   "outputs": [
    {
     "name": "stdout",
     "output_type": "stream",
     "text": [
      "My first bicycle was a Trek.\n"
     ]
    }
   ],
   "source": [
    "message = \"My first bicycle was a \"+ bicycles[0].title()+\".\"\n",
    "print(message)"
   ]
  },
  {
   "cell_type": "markdown",
   "metadata": {},
   "source": [
    "#### Exercise: 1"
   ]
  },
  {
   "cell_type": "markdown",
   "metadata": {},
   "source": [
    "**3-1. Names:** Store the names of a few of your friends in a list called names. Print\n",
    "each person’s name by accessing each element in the list, one at a time"
   ]
  },
  {
   "cell_type": "code",
   "execution_count": 14,
   "metadata": {},
   "outputs": [],
   "source": [
    "friends_name = ['fahad', 'talha', 'shahrukh', 'sahil']"
   ]
  },
  {
   "cell_type": "code",
   "execution_count": 17,
   "metadata": {},
   "outputs": [
    {
     "name": "stdout",
     "output_type": "stream",
     "text": [
      "talha\n"
     ]
    }
   ],
   "source": [
    "print(friends_name[1])"
   ]
  },
  {
   "cell_type": "markdown",
   "metadata": {},
   "source": [
    "**3-2. Greetings:** Start with the list you used in Exercise 3-1, but instead of just\n",
    "printing each person’s name, print a message to them. The text of each message should be the same, but each message should be personalized with the\n",
    "person’s name."
   ]
  },
  {
   "cell_type": "code",
   "execution_count": 18,
   "metadata": {},
   "outputs": [
    {
     "name": "stdout",
     "output_type": "stream",
     "text": [
      "Hello, Fahad\n",
      "Hello, Talha\n",
      "Hello, Shahrukh\n"
     ]
    }
   ],
   "source": [
    "message = \"Hello, \"+friends_name[0].title()\n",
    "print(message)\n",
    "\n",
    "message = \"Hello, \"+friends_name[1].title()\n",
    "print(message)\n",
    "\n",
    "message = \"Hello, \"+friends_name[2].title()\n",
    "print(message)"
   ]
  },
  {
   "cell_type": "markdown",
   "metadata": {},
   "source": [
    "**3-3. Your Own List:** Think of your favorite mode of transportation, such as a\n",
    "motorcycle or a car, and make a list that stores several examples. Use your list\n",
    "to print a series of statements about these items, such as “I would like to own a\n",
    "Honda motorcycle.”"
   ]
  },
  {
   "cell_type": "code",
   "execution_count": 19,
   "metadata": {},
   "outputs": [],
   "source": [
    "cars = ['honda', 'toyota', 'bmw']"
   ]
  },
  {
   "cell_type": "code",
   "execution_count": 21,
   "metadata": {},
   "outputs": [
    {
     "name": "stdout",
     "output_type": "stream",
     "text": [
      "I would like to own a Honda car.\n",
      "I would like to own a Toyota car.\n",
      "I would like to own a Bmw car.\n"
     ]
    }
   ],
   "source": [
    "message = \"I would like to own a \"+cars[0].title() +\" car.\"\n",
    "print(message)\n",
    "\n",
    "\n",
    "message = \"I would like to own a \"+cars[1].title() + \" car.\"\n",
    "print(message)\n",
    "\n",
    "message = \"I would like to own a \"+cars[2].title() + \" car.\"\n",
    "print(message)\n"
   ]
  },
  {
   "cell_type": "markdown",
   "metadata": {},
   "source": [
    "#### Changing, Adding, and Removing Elements"
   ]
  },
  {
   "cell_type": "code",
   "execution_count": 22,
   "metadata": {},
   "outputs": [],
   "source": [
    "# The syntax for modifying an element is similar to the syntax for accessing\n",
    "# an element in a list. To change an element, use the name of the list followed\n",
    "# by the index of the element you want to change, and then provide the new\n",
    "# value you want that item to have."
   ]
  },
  {
   "cell_type": "code",
   "execution_count": 23,
   "metadata": {},
   "outputs": [
    {
     "name": "stdout",
     "output_type": "stream",
     "text": [
      "['honda', 'yamaha', 'suzuki']\n"
     ]
    }
   ],
   "source": [
    "motorcycles = ['honda', 'yamaha', 'suzuki']\n",
    "print(motorcycles)"
   ]
  },
  {
   "cell_type": "code",
   "execution_count": 24,
   "metadata": {},
   "outputs": [
    {
     "name": "stdout",
     "output_type": "stream",
     "text": [
      "['ducati', 'yamaha', 'suzuki']\n"
     ]
    }
   ],
   "source": [
    "motorcycles[0] = 'ducati'\n",
    "print(motorcycles)"
   ]
  },
  {
   "cell_type": "markdown",
   "metadata": {},
   "source": [
    "#### Adding elements to a List\n",
    "##### Appending elements to the End of a List"
   ]
  },
  {
   "cell_type": "code",
   "execution_count": 25,
   "metadata": {},
   "outputs": [],
   "source": [
    "# The simplest way to add a new element to list is to append the items\n",
    "# to the list. When we append item to a list, the new element is added\n",
    "# to the end of the list."
   ]
  },
  {
   "cell_type": "code",
   "execution_count": 26,
   "metadata": {},
   "outputs": [],
   "source": [
    "motorcycles.append(\"kawasaki\")"
   ]
  },
  {
   "cell_type": "markdown",
   "metadata": {},
   "source": [
    "print(motorcycles)"
   ]
  },
  {
   "cell_type": "code",
   "execution_count": 28,
   "metadata": {},
   "outputs": [],
   "source": [
    "# The append() method makes it easy to build lists dynamically. For\n",
    "# example, you can start with an empty list and then add items to the list\n",
    "# using a series of append() statements. Using an empty list,\n",
    "# let’s add the elements 'honda', 'yamaha', and 'suzuki' to the list:"
   ]
  },
  {
   "cell_type": "code",
   "execution_count": 29,
   "metadata": {},
   "outputs": [],
   "source": [
    "motorcycles = []"
   ]
  },
  {
   "cell_type": "code",
   "execution_count": 30,
   "metadata": {},
   "outputs": [],
   "source": [
    "motorcycles.append(\"honda\")\n",
    "motorcycles.append(\"yamaha\")\n",
    "motorcycles.append(\"suzuki\")"
   ]
  },
  {
   "cell_type": "code",
   "execution_count": 31,
   "metadata": {},
   "outputs": [
    {
     "name": "stdout",
     "output_type": "stream",
     "text": [
      "['honda', 'yamaha', 'suzuki']\n"
     ]
    }
   ],
   "source": [
    "print(motorcycles)"
   ]
  },
  {
   "cell_type": "markdown",
   "metadata": {},
   "source": [
    "#### Inserting Elements into a List"
   ]
  },
  {
   "cell_type": "code",
   "execution_count": 32,
   "metadata": {},
   "outputs": [],
   "source": [
    "# You can add a new element at any position in your list by using the\n",
    "# insert() method. You do this by specifying the index of the new element\n",
    "# and the value of the new item."
   ]
  },
  {
   "cell_type": "code",
   "execution_count": 33,
   "metadata": {},
   "outputs": [
    {
     "name": "stdout",
     "output_type": "stream",
     "text": [
      "['honda', 'yamaha', 'suzuki']\n"
     ]
    }
   ],
   "source": [
    "print(motorcycles)"
   ]
  },
  {
   "cell_type": "code",
   "execution_count": 34,
   "metadata": {},
   "outputs": [],
   "source": [
    "motorcycles.insert(0, 'ducati')"
   ]
  },
  {
   "cell_type": "code",
   "execution_count": 35,
   "metadata": {},
   "outputs": [
    {
     "name": "stdout",
     "output_type": "stream",
     "text": [
      "['ducati', 'honda', 'yamaha', 'suzuki']\n"
     ]
    }
   ],
   "source": [
    "print(motorcycles)"
   ]
  },
  {
   "cell_type": "markdown",
   "metadata": {},
   "source": [
    "#### Removing Elements from a List"
   ]
  },
  {
   "cell_type": "markdown",
   "metadata": {},
   "source": [
    "#### Removing an Item Using the del statement"
   ]
  },
  {
   "cell_type": "code",
   "execution_count": 36,
   "metadata": {},
   "outputs": [],
   "source": [
    "# If you know the position of the item you want to remove from a list,\n",
    "# you can use del statement."
   ]
  },
  {
   "cell_type": "code",
   "execution_count": 37,
   "metadata": {},
   "outputs": [
    {
     "data": {
      "text/plain": [
       "['ducati', 'honda', 'yamaha', 'suzuki']"
      ]
     },
     "execution_count": 37,
     "metadata": {},
     "output_type": "execute_result"
    }
   ],
   "source": [
    "motorcycles"
   ]
  },
  {
   "cell_type": "code",
   "execution_count": 38,
   "metadata": {},
   "outputs": [
    {
     "name": "stdout",
     "output_type": "stream",
     "text": [
      "['honda', 'yamaha', 'suzuki']\n"
     ]
    }
   ],
   "source": [
    "del motorcycles[0]\n",
    "print(motorcycles)"
   ]
  },
  {
   "cell_type": "code",
   "execution_count": 39,
   "metadata": {},
   "outputs": [],
   "source": [
    "# You can remove an item from any position in a list using the del statement if you know its index. For example, here’s how to remove the second\n",
    "# item, 'yamaha', in the list:"
   ]
  },
  {
   "cell_type": "code",
   "execution_count": 40,
   "metadata": {},
   "outputs": [
    {
     "name": "stdout",
     "output_type": "stream",
     "text": [
      "['honda', 'suzuki']\n"
     ]
    }
   ],
   "source": [
    "del motorcycles[1]\n",
    "print(motorcycles)"
   ]
  },
  {
   "cell_type": "markdown",
   "metadata": {},
   "source": [
    "#### Removing an Item Using pop() Method"
   ]
  },
  {
   "cell_type": "code",
   "execution_count": 49,
   "metadata": {},
   "outputs": [],
   "source": [
    "# Sometimes you’ll want to use the value of an item after you remove it from a list. \n",
    "\n",
    "# For example In a web application, you might want to remove a user from a list\n",
    "# of active members and then add that user to a list of inactive members\n",
    "\n",
    "\n",
    "# The pop() method removes the last item in a list, but it lets you work\n",
    "# with that item after removing it. The term pop comes from thinking of a\n",
    "# list as a stack of items and popping one item off the top of the stack. In\n",
    "# this analogy, the top of a stack corresponds to the end of a list.\n",
    "\n",
    "# Remember that each time you use pop(), the item you work with is no\n",
    "# longer stored in the list"
   ]
  },
  {
   "cell_type": "code",
   "execution_count": 44,
   "metadata": {},
   "outputs": [
    {
     "name": "stdout",
     "output_type": "stream",
     "text": [
      "['honda', 'yamaha', 'suzuki']\n"
     ]
    }
   ],
   "source": [
    "motorcycles = ['honda', 'yamaha', 'suzuki']\n",
    "print(motorcycles)"
   ]
  },
  {
   "cell_type": "code",
   "execution_count": 45,
   "metadata": {},
   "outputs": [
    {
     "name": "stdout",
     "output_type": "stream",
     "text": [
      "['honda', 'yamaha']\n",
      "suzuki\n"
     ]
    }
   ],
   "source": [
    "popped_motorcycle = motorcycles.pop()\n",
    "print(motorcycles)\n",
    "print(popped_motorcycle)"
   ]
  },
  {
   "cell_type": "code",
   "execution_count": 46,
   "metadata": {},
   "outputs": [
    {
     "name": "stdout",
     "output_type": "stream",
     "text": [
      "The last motorcycle I owned was a Suzuki.\n"
     ]
    }
   ],
   "source": [
    "motorcycles = ['honda', 'yamaha', 'suzuki']\n",
    "\n",
    "last_owned = motorcycles.pop()\n",
    "\n",
    "print(\"The last motorcycle I owned was a \"+last_owned.title()+\".\")"
   ]
  },
  {
   "cell_type": "markdown",
   "metadata": {},
   "source": [
    "#### Popping items from any position in a List"
   ]
  },
  {
   "cell_type": "code",
   "execution_count": 47,
   "metadata": {},
   "outputs": [],
   "source": [
    "# You can actually use pop() to remove an item in a list at any position by\n",
    "# including the index of the item you want to remove in parentheses."
   ]
  },
  {
   "cell_type": "code",
   "execution_count": 48,
   "metadata": {},
   "outputs": [
    {
     "name": "stdout",
     "output_type": "stream",
     "text": [
      "The first motorcycle I owned was a Honda.\n"
     ]
    }
   ],
   "source": [
    "first_owned = motorcycles.pop(0)\n",
    "print(\"The first motorcycle I owned was a \"+ first_owned.title()+\".\")"
   ]
  },
  {
   "cell_type": "markdown",
   "metadata": {},
   "source": [
    "#### Removing an Item by Value"
   ]
  },
  {
   "cell_type": "code",
   "execution_count": 50,
   "metadata": {},
   "outputs": [],
   "source": [
    "# Sometimes you won’t know the position of the value you want to remove\n",
    "# from a list. If you only know the value of the item you want to remove, you\n",
    "# can use the remove() method.\n",
    "\n",
    "# For example, let’s say we want to remove the value 'ducati' from the list of\n",
    "# motorcycles. "
   ]
  },
  {
   "cell_type": "code",
   "execution_count": 51,
   "metadata": {},
   "outputs": [
    {
     "name": "stdout",
     "output_type": "stream",
     "text": [
      "['honda', 'yamaha', 'suzuki', 'ducati']\n"
     ]
    }
   ],
   "source": [
    "motorcycles = ['honda', 'yamaha', 'suzuki', 'ducati']\n",
    "print(motorcycles)"
   ]
  },
  {
   "cell_type": "code",
   "execution_count": 52,
   "metadata": {},
   "outputs": [
    {
     "name": "stdout",
     "output_type": "stream",
     "text": [
      "['honda', 'yamaha', 'suzuki']\n"
     ]
    }
   ],
   "source": [
    "motorcycles.remove('ducati')\n",
    "print(motorcycles)"
   ]
  },
  {
   "cell_type": "code",
   "execution_count": 53,
   "metadata": {},
   "outputs": [],
   "source": [
    "# You can also use the remove() method to work with a value that’s being\n",
    "# removed from a list. Let’s remove the value 'ducati' and print a reason for\n",
    "# removing it from the list:"
   ]
  },
  {
   "cell_type": "code",
   "execution_count": 54,
   "metadata": {},
   "outputs": [
    {
     "name": "stdout",
     "output_type": "stream",
     "text": [
      "['honda', 'yamaha', 'suzuki', 'ducati']\n"
     ]
    }
   ],
   "source": [
    "motorcycles = ['honda', 'yamaha', 'suzuki', 'ducati']\n",
    "print(motorcycles)"
   ]
  },
  {
   "cell_type": "code",
   "execution_count": 56,
   "metadata": {},
   "outputs": [
    {
     "name": "stdout",
     "output_type": "stream",
     "text": [
      "['honda', 'yamaha', 'suzuki']\n",
      "\n",
      "A Ducati is too expensive for me.\n"
     ]
    }
   ],
   "source": [
    "too_expensive = 'ducati'\n",
    "motorcycles.remove(too_expensive)\n",
    "print(motorcycles)\n",
    "print(\"\\nA \"+too_expensive.title() + \" is too expensive for me.\")"
   ]
  },
  {
   "cell_type": "code",
   "execution_count": 57,
   "metadata": {},
   "outputs": [],
   "source": [
    "# The remove() method deletes only the first occurrence of the value you specify. If there’s\n",
    "# a possibility the value appears more than once in the list, you’ll need to use a loop to\n",
    "# determine if all occurrences of the value have been removed. You’ll learn how to do\n",
    "# this in Chapter 7."
   ]
  },
  {
   "cell_type": "markdown",
   "metadata": {},
   "source": [
    "#### Exercise: 2"
   ]
  },
  {
   "cell_type": "markdown",
   "metadata": {},
   "source": [
    "**3-4. Guest List:** If you could invite anyone, living or deceased, to dinner, who\n",
    "would you invite? Make a list that includes at least three people you’d like to\n",
    "invite to dinner. Then use your list to print a message to each person, inviting\n",
    "them to dinner"
   ]
  },
  {
   "cell_type": "code",
   "execution_count": 30,
   "metadata": {},
   "outputs": [],
   "source": [
    "guest_list = ['taha', 'chussi', 'fahad']"
   ]
  },
  {
   "cell_type": "code",
   "execution_count": 31,
   "metadata": {},
   "outputs": [
    {
     "name": "stdout",
     "output_type": "stream",
     "text": [
      "Taha, please come to dinner.\n",
      "Chussi, please come to dinner.\n",
      "Fahad, please come to dinner.\n"
     ]
    }
   ],
   "source": [
    "guest_1 = guest_list[0].title()\n",
    "print(guest_1 + \", please come to dinner.\")\n",
    "\n",
    "guest_2 = guest_list[1].title()\n",
    "print(guest_2 + \", please come to dinner.\")\n",
    "\n",
    "guest_3 = guest_list[2].title()\n",
    "print(guest_3 + \", please come to dinner.\")\n",
    "\n"
   ]
  },
  {
   "cell_type": "markdown",
   "metadata": {},
   "source": [
    "**3-5. Changing Guest List:** You just heard that one of your guests can’t make the\n",
    "dinner, so you need to send out a new set of invitations. You’ll have to think of\n",
    "someone else to invite.\n",
    "\n",
    " - Start with your program from Exercise 3-4. Add a print statement at the end of your program stating the name of the guest who can’t make it.\n",
    " \n",
    " \n",
    " - Modify your list, replacing the name of the guest who can’t make it with the name of the new person you are inviting.\n",
    " \n",
    " \n",
    " - Print a second set of invitation messages, one for each person who is still in your list\n",
    "\n",
    "\n"
   ]
  },
  {
   "cell_type": "code",
   "execution_count": 32,
   "metadata": {},
   "outputs": [
    {
     "name": "stdout",
     "output_type": "stream",
     "text": [
      "Taha, please come to dinner.\n",
      "Chussi, please come to dinner.\n",
      "Fahad, please come to dinner.\n",
      "\n",
      "Sorry, Chussi can't make it to dinner.\n",
      "Invitaion again:\n",
      "\n",
      "Taha, please come to dinner.\n",
      "Bilal, please come to dinner.\n",
      "Fahad, please come to dinner.\n"
     ]
    }
   ],
   "source": [
    "# Invite some guests to dinner\n",
    "\n",
    "guest_1 = guest_list[0].title()\n",
    "print(guest_1 + \", please come to dinner.\")\n",
    "\n",
    "guest_2 = guest_list[1].title()\n",
    "print(guest_2 + \", please come to dinner.\")\n",
    "\n",
    "guest_3 = guest_list[2].title()\n",
    "print(guest_3 + \", please come to dinner.\")\n",
    "\n",
    "print(\"\\nSorry, \"+guest_2+ \" can't make it to dinner.\")\n",
    "\n",
    "# chussi can't make it ! Let's invire bilal instead\n",
    "del(guest_list[1])\n",
    "guest_list.insert(1, \"bilal\")\n",
    "\n",
    "# printing the invitation again\n",
    "print(\"Invitaion again:\")\n",
    "\n",
    "guest_1 = guest_list[0].title()\n",
    "print(\"\\n\"+guest_1 + \", please come to dinner.\")\n",
    "\n",
    "guest_2 = guest_list[1].title()\n",
    "print(guest_2 + \", please come to dinner.\")\n",
    "\n",
    "guest_3 = guest_list[2].title()\n",
    "print(guest_3 + \", please come to dinner.\")\n"
   ]
  },
  {
   "cell_type": "markdown",
   "metadata": {},
   "source": [
    "**3-6. More Guests:** You just found a bigger dinner table, so now more space is\n",
    "available. Think of three more guests to invite to dinner.\n",
    "\n",
    "- Start with your program from Exercise 3-4 or Exercise 3-5. Add a print statement to the end of your program informing people that you found a bigger dinner table.\n",
    "\n",
    "\n",
    "- Use insert() to add one new guest to the beginning of your list\n",
    "\n",
    "\n",
    "- Use insert() to add one new guest to the middle of your list.\n",
    "\n",
    "\n",
    "- Use append() to add one new guest to the end of your list.\n",
    "\n",
    "\n",
    "- Print a new set of invitation messages, one for each person in your list."
   ]
  },
  {
   "cell_type": "code",
   "execution_count": 33,
   "metadata": {},
   "outputs": [
    {
     "name": "stdout",
     "output_type": "stream",
     "text": [
      "We got a bigger table!\n"
     ]
    }
   ],
   "source": [
    "print(\"We got a bigger table!\")"
   ]
  },
  {
   "cell_type": "code",
   "execution_count": 34,
   "metadata": {},
   "outputs": [],
   "source": [
    "# Adding one new guest to the beginning of list\n",
    "guest_list.insert(0, \"saad\")"
   ]
  },
  {
   "cell_type": "code",
   "execution_count": 35,
   "metadata": {},
   "outputs": [],
   "source": [
    "# Adding one new guest to the middle of list\n",
    "guest_list.insert(2, \"abid\")"
   ]
  },
  {
   "cell_type": "code",
   "execution_count": 36,
   "metadata": {},
   "outputs": [],
   "source": [
    "# Addding another guest at end of list\n",
    "guest_list.append(\"faizan\")"
   ]
  },
  {
   "cell_type": "code",
   "execution_count": 37,
   "metadata": {},
   "outputs": [
    {
     "name": "stdout",
     "output_type": "stream",
     "text": [
      "\n",
      "Saad, please come to dinner.\n",
      "Taha, please come to dinner.\n",
      "Abid, please come to dinner.\n",
      "Bilal, please come to dinner.\n",
      "Fahad, please come to dinner.\n",
      "Faizan, please come to dinner.\n"
     ]
    }
   ],
   "source": [
    "# printing new set of invitaion table\n",
    "\n",
    "guest_1 = guest_list[0].title()\n",
    "print(\"\\n\"+guest_1 + \", please come to dinner.\")\n",
    "\n",
    "guest_2 = guest_list[1].title()\n",
    "print(guest_2 + \", please come to dinner.\")\n",
    "\n",
    "guest_3 = guest_list[2].title()\n",
    "print(guest_3 + \", please come to dinner.\")\n",
    "\n",
    "guest_4 = guest_list[3].title()\n",
    "print(guest_4 + \", please come to dinner.\")\n",
    "\n",
    "guest_5 = guest_list[4].title()\n",
    "print(guest_5 + \", please come to dinner.\")\n",
    "\n",
    "\n",
    "guest_6 = guest_list[5].title()\n",
    "print(guest_6 + \", please come to dinner.\")\n"
   ]
  },
  {
   "cell_type": "markdown",
   "metadata": {},
   "source": [
    "**3-7. Shrinking Guest List:** You just found out that your new dinner table won’t\n",
    "arrive in time for the dinner, and you have space for only two guests\n",
    "\n",
    "\n",
    "- Start with your program from Exercise 3-6. Add a new line that prints a message saying that you can invite only two people for dinner\n",
    "\n",
    "\n",
    "- Use pop() to remove guests from your list one at a time until only two names remain in your list. Each time you pop a name from your list, print a message to that person letting them know you’re sorry you can’t invite them to dinner.\n",
    "\n",
    "\n",
    "- Print a message to each of the two people still on your list, letting them know they’re still invited.\n",
    "\n",
    "\n",
    "- Use del to remove the last two names from your list, so you have an empty list. Print your list to make sure you actually have an empty list at the end of your program."
   ]
  },
  {
   "cell_type": "code",
   "execution_count": 38,
   "metadata": {},
   "outputs": [
    {
     "name": "stdout",
     "output_type": "stream",
     "text": [
      "Sorry, we can only invite two people to dinner.\n"
     ]
    }
   ],
   "source": [
    "# printing a message\n",
    "print(\"Sorry, we can only invite two people to dinner.\")"
   ]
  },
  {
   "cell_type": "code",
   "execution_count": 39,
   "metadata": {},
   "outputs": [
    {
     "name": "stdout",
     "output_type": "stream",
     "text": [
      "Sorry, faizan we can only invire two people to dinner.\n",
      "Sorry, fahad we can only invire two people to dinner.\n",
      "Sorry, bilal we can only invire two people to dinner.\n",
      "Sorry, abid we can only invire two people to dinner.\n"
     ]
    }
   ],
   "source": [
    "# using pop to removing guests from list one at a time until only rwo names remain\n",
    "guest_1 = guest_list.pop()\n",
    "print(\"Sorry, \"+guest_1 + \" we can only invire two people to dinner.\")\n",
    "\n",
    "guest_2 = guest_list.pop()\n",
    "print(\"Sorry, \"+guest_2 + \" we can only invire two people to dinner.\")\n",
    "\n",
    "guest_3 = guest_list.pop()\n",
    "print(\"Sorry, \"+guest_3 + \" we can only invire two people to dinner.\")\n",
    "\n",
    "guest_4 = guest_list.pop()\n",
    "print(\"Sorry, \"+guest_4 + \" we can only invire two people to dinner.\")"
   ]
  },
  {
   "cell_type": "code",
   "execution_count": 40,
   "metadata": {},
   "outputs": [
    {
     "name": "stdout",
     "output_type": "stream",
     "text": [
      "Saad, please come to dinner.\n",
      "Taha, please come to dinner.\n"
     ]
    }
   ],
   "source": [
    "# print a message to each of the two people still in our list\n",
    "\n",
    "guest_1 = guest_list[0].title()\n",
    "print(guest_1 + \", please come to dinner.\")\n",
    "\n",
    "guest_2 = guest_list[1].title()\n",
    "print(guest_2 + \", please come to dinner.\")\n"
   ]
  },
  {
   "cell_type": "code",
   "execution_count": 41,
   "metadata": {},
   "outputs": [],
   "source": [
    "# using del to remove the last two names of our list\n",
    "del guest_list[0]\n",
    "del guest_list[0]"
   ]
  },
  {
   "cell_type": "code",
   "execution_count": 42,
   "metadata": {},
   "outputs": [
    {
     "data": {
      "text/plain": [
       "[]"
      ]
     },
     "execution_count": 42,
     "metadata": {},
     "output_type": "execute_result"
    }
   ],
   "source": [
    "guest_list"
   ]
  },
  {
   "cell_type": "markdown",
   "metadata": {},
   "source": [
    "#### Organizing a List"
   ]
  },
  {
   "cell_type": "code",
   "execution_count": 43,
   "metadata": {},
   "outputs": [],
   "source": [
    "# Sorting a List Permanently with the sort() Method"
   ]
  },
  {
   "cell_type": "code",
   "execution_count": 45,
   "metadata": {},
   "outputs": [],
   "source": [
    "# Python's sort method makes it relatively easy to sort a list.\n",
    "# Imagine we have a list of cars and want to change the order of\n",
    "# the list to store them alphabetically"
   ]
  },
  {
   "cell_type": "code",
   "execution_count": 46,
   "metadata": {},
   "outputs": [
    {
     "name": "stdout",
     "output_type": "stream",
     "text": [
      "['bmw', 'audi', 'toyota', 'subaru']\n"
     ]
    }
   ],
   "source": [
    "cars = ['bmw', 'audi', 'toyota', 'subaru']\n",
    "print(cars)"
   ]
  },
  {
   "cell_type": "code",
   "execution_count": 47,
   "metadata": {},
   "outputs": [],
   "source": [
    "cars.sort()"
   ]
  },
  {
   "cell_type": "code",
   "execution_count": 48,
   "metadata": {},
   "outputs": [
    {
     "name": "stdout",
     "output_type": "stream",
     "text": [
      "['audi', 'bmw', 'subaru', 'toyota']\n"
     ]
    }
   ],
   "source": [
    "print(cars)"
   ]
  },
  {
   "cell_type": "code",
   "execution_count": 49,
   "metadata": {},
   "outputs": [],
   "source": [
    "# you can also sort this list in reverse alphabetical order by passing\n",
    "# the argument reverse=True to the sort() method. The following example\n",
    "# sorts the list of cars in reverse alphabetical order:"
   ]
  },
  {
   "cell_type": "code",
   "execution_count": 50,
   "metadata": {},
   "outputs": [
    {
     "name": "stdout",
     "output_type": "stream",
     "text": [
      "['toyota', 'subaru', 'bmw', 'audi']\n"
     ]
    }
   ],
   "source": [
    "cars.sort(reverse=True)\n",
    "print(cars)"
   ]
  },
  {
   "cell_type": "markdown",
   "metadata": {},
   "source": [
    "#### Sorting a List Temporarily with the sorted() Function"
   ]
  },
  {
   "cell_type": "code",
   "execution_count": 51,
   "metadata": {},
   "outputs": [],
   "source": [
    "# To maintain the original order of a list but present it in a sorted order, you\n",
    "# can use the sorted() function. The sorted() function lets you display your list\n",
    "# in a particular order but doesn’t affect the actual order of the list.\n",
    "# Let’s try this function on the list of cars."
   ]
  },
  {
   "cell_type": "code",
   "execution_count": 52,
   "metadata": {},
   "outputs": [
    {
     "name": "stdout",
     "output_type": "stream",
     "text": [
      "Here is the original list: \n",
      "['bmw', 'audi', 'toyota', 'subaru']\n",
      "\n",
      "Here is the sorted list:\n",
      "['audi', 'bmw', 'subaru', 'toyota']\n",
      "\n",
      "Here is the original list again:\n",
      "['bmw', 'audi', 'toyota', 'subaru']\n"
     ]
    }
   ],
   "source": [
    "cars = ['bmw', 'audi', 'toyota', 'subaru']\n",
    "\n",
    "print(\"Here is the original list: \")\n",
    "print(cars)\n",
    "\n",
    "print(\"\\nHere is the sorted list:\")\n",
    "print(sorted(cars))\n",
    "\n",
    "print(\"\\nHere is the original list again:\")\n",
    "print(cars)"
   ]
  },
  {
   "cell_type": "code",
   "execution_count": 53,
   "metadata": {},
   "outputs": [
    {
     "name": "stdout",
     "output_type": "stream",
     "text": [
      "['bmw', 'audi', 'toyota', 'subaru']\n",
      "['subaru', 'toyota', 'audi', 'bmw']\n"
     ]
    }
   ],
   "source": [
    "# Printing a list in reverse order\n",
    "print(cars)\n",
    "\n",
    "cars.reverse()\n",
    "print(cars)"
   ]
  },
  {
   "cell_type": "code",
   "execution_count": 54,
   "metadata": {},
   "outputs": [],
   "source": [
    "# Notice that reverse() doesn't sort backward alphabetically; it simply\n",
    "# reverse the order of the list"
   ]
  },
  {
   "cell_type": "code",
   "execution_count": 55,
   "metadata": {},
   "outputs": [],
   "source": [
    "# The reverse() method changes the order of a list permanently, but you\n",
    "# can revert the original order anytime by applying reverse() to the same\n",
    "# list a second time."
   ]
  },
  {
   "cell_type": "markdown",
   "metadata": {},
   "source": [
    "#### Finding the length of a List"
   ]
  },
  {
   "cell_type": "code",
   "execution_count": 56,
   "metadata": {},
   "outputs": [],
   "source": [
    "# You can quickly find the length of a list by using the len() function. The list\n",
    "# in this example has four items, so its length is 4:"
   ]
  },
  {
   "cell_type": "code",
   "execution_count": 57,
   "metadata": {},
   "outputs": [
    {
     "data": {
      "text/plain": [
       "4"
      ]
     },
     "execution_count": 57,
     "metadata": {},
     "output_type": "execute_result"
    }
   ],
   "source": [
    "cars = ['bmw', 'audi', 'toyota', 'subaru']\n",
    "len(cars)"
   ]
  },
  {
   "cell_type": "code",
   "execution_count": 58,
   "metadata": {},
   "outputs": [],
   "source": [
    "# e Python counts the items in a list starting with one, so you shouldn’t run into any offby-one errors when determining the length of a list."
   ]
  },
  {
   "cell_type": "markdown",
   "metadata": {},
   "source": [
    "#### Exercise: 3"
   ]
  },
  {
   "cell_type": "markdown",
   "metadata": {},
   "source": [
    "**3-8. Seeing the World:** Think of at least five places in the world you’d like to\n",
    "visit.\n",
    "\n",
    "- Store the locations in a list. Make sure the list is not in alphabetical order.\n",
    "\n",
    "\n",
    "- Print your list in its original order. Don’t worry about printing the list neatly, just print it as a raw Python list\n",
    "\n",
    "\n",
    "- Use sorted() to print your list in alphabetical order without modifying the actual list.\n",
    "\n",
    "\n",
    "- Show that your list is still in its original order by printing it.\n",
    "\n",
    "\n",
    "- Use sorted() to print your list in reverse alphabetical order without changing the order of the original list.\n",
    "\n",
    "- Show that your list is still in its original order by printing it again\n",
    "\n",
    "\n",
    "- Use reverse() to change the order of your list. Print the list to show that its order has changed.\n",
    "\n",
    "\n",
    "- Use reverse() to change the order of your list again. Print the list to show it’s back to its original order.\n",
    "\n",
    "\n",
    "- Use sort() to change your list so it’s stored in alphabetical order. Print the list to show that its order has been changed. \n",
    "\n",
    "\n",
    "- Use sort() to change your list so it’s stored in reverse alphabetical order. Print the list to show that its order has changed."
   ]
  },
  {
   "cell_type": "code",
   "execution_count": 59,
   "metadata": {},
   "outputs": [],
   "source": [
    "# storing the locations in a list\n",
    "places_to_visit = ['saudia arabia', 'turkey', 'oman', 'malaysia', 'hong kong']"
   ]
  },
  {
   "cell_type": "code",
   "execution_count": 62,
   "metadata": {},
   "outputs": [
    {
     "name": "stdout",
     "output_type": "stream",
     "text": [
      "Original Order:\n",
      "\n",
      "['saudia arabia', 'turkey', 'oman', 'malaysia', 'hong kong']\n"
     ]
    }
   ],
   "source": [
    "# original order\n",
    "print(\"Original Order:\\n\")\n",
    "print(places_to_visit)"
   ]
  },
  {
   "cell_type": "code",
   "execution_count": 63,
   "metadata": {},
   "outputs": [
    {
     "name": "stdout",
     "output_type": "stream",
     "text": [
      "Alphabetical order: \n",
      "\n",
      "['hong kong', 'malaysia', 'oman', 'saudia arabia', 'turkey']\n"
     ]
    }
   ],
   "source": [
    "# using sorted to print alphabetical order\n",
    "print(\"Alphabetical order: \\n\")\n",
    "print(sorted(places_to_visit))"
   ]
  },
  {
   "cell_type": "code",
   "execution_count": 65,
   "metadata": {},
   "outputs": [
    {
     "name": "stdout",
     "output_type": "stream",
     "text": [
      "Original order: \n",
      "\n",
      "['saudia arabia', 'turkey', 'oman', 'malaysia', 'hong kong']\n"
     ]
    }
   ],
   "source": [
    "# original order\n",
    "print(\"Original order: \\n\")\n",
    "print(places_to_visit)"
   ]
  },
  {
   "cell_type": "code",
   "execution_count": 67,
   "metadata": {},
   "outputs": [
    {
     "name": "stdout",
     "output_type": "stream",
     "text": [
      "Reverse alphabetical: \n",
      "\n",
      "['turkey', 'saudia arabia', 'oman', 'malaysia', 'hong kong']\n"
     ]
    }
   ],
   "source": [
    "# Use sorted() to print your list in reverse alphabetical order \n",
    "print(\"Reverse alphabetical: \\n\")\n",
    "print(sorted(places_to_visit, reverse=True))"
   ]
  },
  {
   "cell_type": "code",
   "execution_count": 68,
   "metadata": {},
   "outputs": [
    {
     "name": "stdout",
     "output_type": "stream",
     "text": [
      "Original Order: \n",
      "\n",
      "['saudia arabia', 'turkey', 'oman', 'malaysia', 'hong kong']\n"
     ]
    }
   ],
   "source": [
    "# printing again original order\n",
    "print(\"Original Order: \\n\")\n",
    "print(places_to_visit)"
   ]
  },
  {
   "cell_type": "code",
   "execution_count": 69,
   "metadata": {},
   "outputs": [
    {
     "name": "stdout",
     "output_type": "stream",
     "text": [
      "Reversed: \n",
      "\n",
      "['hong kong', 'malaysia', 'oman', 'turkey', 'saudia arabia']\n"
     ]
    }
   ],
   "source": [
    "# reversed\n",
    "print(\"Reversed: \\n\")\n",
    "places_to_visit.reverse()\n",
    "print(places_to_visit)"
   ]
  },
  {
   "cell_type": "code",
   "execution_count": 70,
   "metadata": {},
   "outputs": [
    {
     "name": "stdout",
     "output_type": "stream",
     "text": [
      "Reversed again: \n",
      "\n",
      "['saudia arabia', 'turkey', 'oman', 'malaysia', 'hong kong']\n"
     ]
    }
   ],
   "source": [
    "# reversed again\n",
    "print(\"Reversed again: \\n\")\n",
    "places_to_visit.reverse()\n",
    "print(places_to_visit)"
   ]
  },
  {
   "cell_type": "code",
   "execution_count": 71,
   "metadata": {},
   "outputs": [
    {
     "name": "stdout",
     "output_type": "stream",
     "text": [
      "Sort Method: \n",
      "\n",
      "['hong kong', 'malaysia', 'oman', 'saudia arabia', 'turkey']\n"
     ]
    }
   ],
   "source": [
    "# using sort()\n",
    "print(\"Sort Method: \\n\")\n",
    "places_to_visit.sort()\n",
    "print(places_to_visit)"
   ]
  },
  {
   "cell_type": "code",
   "execution_count": 72,
   "metadata": {},
   "outputs": [
    {
     "name": "stdout",
     "output_type": "stream",
     "text": [
      "sort method with reverse:\n",
      "\n",
      "['turkey', 'saudia arabia', 'oman', 'malaysia', 'hong kong']\n"
     ]
    }
   ],
   "source": [
    "# using sort() to change reverse\n",
    "print(\"sort method with reverse:\\n\")\n",
    "places_to_visit.sort(reverse=True)\n",
    "print(places_to_visit)"
   ]
  },
  {
   "cell_type": "markdown",
   "metadata": {},
   "source": [
    "**3-9. Dinner Guests:** Working with one of the programs from Exercises 3-4\n",
    "through 3-7 (page 46), use len() to print a message indicating the number\n",
    "of people you are inviting to dinner."
   ]
  },
  {
   "cell_type": "code",
   "execution_count": 78,
   "metadata": {},
   "outputs": [
    {
     "name": "stdout",
     "output_type": "stream",
     "text": [
      "0\n"
     ]
    }
   ],
   "source": [
    "print(len(guest_list))"
   ]
  },
  {
   "cell_type": "code",
   "execution_count": null,
   "metadata": {},
   "outputs": [],
   "source": []
  }
 ],
 "metadata": {
  "kernelspec": {
   "display_name": "Python 3",
   "language": "python",
   "name": "python3"
  },
  "language_info": {
   "codemirror_mode": {
    "name": "ipython",
    "version": 3
   },
   "file_extension": ".py",
   "mimetype": "text/x-python",
   "name": "python",
   "nbconvert_exporter": "python",
   "pygments_lexer": "ipython3",
   "version": "3.7.6"
  }
 },
 "nbformat": 4,
 "nbformat_minor": 4
}
