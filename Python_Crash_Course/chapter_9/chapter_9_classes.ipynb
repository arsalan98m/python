{
 "cells": [
  {
   "cell_type": "code",
   "execution_count": 1,
   "metadata": {},
   "outputs": [],
   "source": [
    "# Object-oriented programming is one of the\n",
    "# most effective approaches to writing soft-\n",
    "# ware. In object-oriented programming you\n",
    "# write classes that represent real-world things\n",
    "# and situations, and you create objects based on these\n",
    "# classes. When you write a class, you define the general\n",
    "# behavior that a whole category of objects can have"
   ]
  },
  {
   "cell_type": "markdown",
   "metadata": {},
   "source": [
    "## Creating and Using a Class"
   ]
  },
  {
   "cell_type": "code",
   "execution_count": 2,
   "metadata": {},
   "outputs": [],
   "source": [
    "# Creating the Dog Class"
   ]
  },
  {
   "cell_type": "code",
   "execution_count": 3,
   "metadata": {},
   "outputs": [],
   "source": [
    "# Each instance created from the Dog class will store a name and an age , and\n",
    "# we’ll give each dog the ability to sit() and roll_over() :"
   ]
  },
  {
   "cell_type": "code",
   "execution_count": 15,
   "metadata": {},
   "outputs": [],
   "source": [
    "class Dog():\n",
    "    def __init__(self,name,age):\n",
    "        self.name = name\n",
    "        self.age = age\n",
    "    \n",
    "    def sit(self):\n",
    "        print(self.name.title() +\" is now sitting.\")\n",
    "    def roll_over(self):\n",
    "        print(self.name.title() + \" rolled over!\")"
   ]
  },
  {
   "cell_type": "markdown",
   "metadata": {},
   "source": [
    "### Making an Instance from a Class"
   ]
  },
  {
   "cell_type": "code",
   "execution_count": 16,
   "metadata": {},
   "outputs": [],
   "source": [
    "# Think of a class as a set of instructions for how to make an instance. The\n",
    "# class Dog is a set of instructions that tells Python how to make individual\n",
    "# instances representing specific dogs"
   ]
  },
  {
   "cell_type": "code",
   "execution_count": 17,
   "metadata": {},
   "outputs": [
    {
     "name": "stdout",
     "output_type": "stream",
     "text": [
      "My dog's name is Willie\n",
      "My dog is 6 years old.\n"
     ]
    }
   ],
   "source": [
    "# Let’s make an instance representing a specific dog:\n",
    "\n",
    "my_dog = Dog('willie', 6)\n",
    "\n",
    "print(\"My dog's name is \"+ my_dog.name.title())\n",
    "print(\"My dog is \"+str(my_dog.age) + \" years old.\")"
   ]
  },
  {
   "cell_type": "code",
   "execution_count": 18,
   "metadata": {},
   "outputs": [],
   "source": [
    "# Accessing Attributes\n",
    "# To access the attributes of an instance, you use dot notation."
   ]
  },
  {
   "cell_type": "code",
   "execution_count": 19,
   "metadata": {},
   "outputs": [
    {
     "data": {
      "text/plain": [
       "'willie'"
      ]
     },
     "execution_count": 19,
     "metadata": {},
     "output_type": "execute_result"
    }
   ],
   "source": [
    "my_dog.name"
   ]
  },
  {
   "cell_type": "code",
   "execution_count": 20,
   "metadata": {},
   "outputs": [],
   "source": [
    "# Calling Methods\n",
    "# After we create an instance from the class Dog , we can use dot notation to\n",
    "# call any method defined in Dog . Let’s make our dog sit and roll over:"
   ]
  },
  {
   "cell_type": "code",
   "execution_count": 21,
   "metadata": {},
   "outputs": [
    {
     "name": "stdout",
     "output_type": "stream",
     "text": [
      "Willie is now sitting.\n"
     ]
    }
   ],
   "source": [
    "my_dog.sit()"
   ]
  },
  {
   "cell_type": "code",
   "execution_count": 22,
   "metadata": {},
   "outputs": [
    {
     "name": "stdout",
     "output_type": "stream",
     "text": [
      "Willie rolled over!\n"
     ]
    }
   ],
   "source": [
    "my_dog.roll_over()"
   ]
  },
  {
   "cell_type": "code",
   "execution_count": 24,
   "metadata": {},
   "outputs": [],
   "source": [
    "# Creating Multiple Instances\n",
    "\n",
    "# You can create as many instances from a class as you need. Let’s create a\n",
    "# second dog called your_dog :"
   ]
  },
  {
   "cell_type": "code",
   "execution_count": 25,
   "metadata": {},
   "outputs": [],
   "source": [
    "my_dog = Dog('willie', 6)\n",
    "your_dog = Dog('lucy', 3)"
   ]
  },
  {
   "cell_type": "code",
   "execution_count": 26,
   "metadata": {},
   "outputs": [
    {
     "name": "stdout",
     "output_type": "stream",
     "text": [
      "My dog's name is Willie.\n",
      "My dog is 6 years old.\n",
      "Willie is now sitting.\n",
      "\n",
      "Your dog's name is Lucy.\n",
      "Your dog is 3 years old.\n",
      "Lucy is now sitting.\n"
     ]
    }
   ],
   "source": [
    "print(\"My dog's name is \" + my_dog.name.title() + \".\")\n",
    "print(\"My dog is \" + str(my_dog.age) + \" years old.\")\n",
    "my_dog.sit()\n",
    "\n",
    "\n",
    "print(\"\\nYour dog's name is \" + your_dog.name.title() + \".\")\n",
    "print(\"Your dog is \" + str(your_dog.age) + \" years old.\")\n",
    "your_dog.sit()"
   ]
  },
  {
   "cell_type": "markdown",
   "metadata": {},
   "source": [
    "### Exercise: 1"
   ]
  },
  {
   "cell_type": "markdown",
   "metadata": {},
   "source": [
    "**9-1.** Restaurant: Make a class called Restaurant . The __init__() method for\n",
    "Restaurant should store two attributes: a restaurant_name and a cuisine_type .\n",
    "Make a method called describe_restaurant() that prints these two pieces of\n",
    "information, and a method called open_restaurant() that prints a message indi-\n",
    "cating that the restaurant is open.\n",
    "Make an instance called restaurant from your class. Print the two attri-\n",
    "butes individually, and then call both methods"
   ]
  },
  {
   "cell_type": "code",
   "execution_count": 48,
   "metadata": {},
   "outputs": [],
   "source": [
    "class Restaurant():\n",
    "    def __init__(self,restaurant_name, cuisine_type):\n",
    "        self.restaurant_name = restaurant_name\n",
    "        self.cuisine_type = cuisine_type\n",
    "    \n",
    "    def describe_restaurants(self):\n",
    "        print(self.restaurant_name+ \" is serves wonderful \"+self.cuisine_type)\n",
    "    def open_restaurants(self):\n",
    "        print(self.restaurant_name +\" is open. come in!\")"
   ]
  },
  {
   "cell_type": "code",
   "execution_count": 49,
   "metadata": {},
   "outputs": [],
   "source": [
    "my_restaurant = Restaurant('mazeedar', 'nihari')"
   ]
  },
  {
   "cell_type": "code",
   "execution_count": 50,
   "metadata": {},
   "outputs": [
    {
     "data": {
      "text/plain": [
       "'mazeedar'"
      ]
     },
     "execution_count": 50,
     "metadata": {},
     "output_type": "execute_result"
    }
   ],
   "source": [
    "my_restaurant.restaurant_name"
   ]
  },
  {
   "cell_type": "code",
   "execution_count": 51,
   "metadata": {},
   "outputs": [
    {
     "data": {
      "text/plain": [
       "'nihari'"
      ]
     },
     "execution_count": 51,
     "metadata": {},
     "output_type": "execute_result"
    }
   ],
   "source": [
    "my_restaurant.cuisine_type"
   ]
  },
  {
   "cell_type": "code",
   "execution_count": 52,
   "metadata": {},
   "outputs": [
    {
     "name": "stdout",
     "output_type": "stream",
     "text": [
      "mazeedar is serves wonderful nihari\n"
     ]
    }
   ],
   "source": [
    "my_restaurant.describe_restaurants()"
   ]
  },
  {
   "cell_type": "code",
   "execution_count": 53,
   "metadata": {},
   "outputs": [
    {
     "name": "stdout",
     "output_type": "stream",
     "text": [
      "mazeedar is open. come in!\n"
     ]
    }
   ],
   "source": [
    "my_restaurant.open_restaurants()"
   ]
  },
  {
   "cell_type": "markdown",
   "metadata": {},
   "source": [
    "**9-2.** Three Restaurants: Start with your class from Exercise 9-1. Create three\n",
    "different instances from the class, and call describe_restaurant() for each\n",
    "instance."
   ]
  },
  {
   "cell_type": "code",
   "execution_count": 54,
   "metadata": {},
   "outputs": [
    {
     "name": "stdout",
     "output_type": "stream",
     "text": [
      "karachi haleem is serves wonderful haleem\n",
      "jawaird nihari is serves wonderful nihari\n",
      "mazedaar foods is serves wonderful biryani\n"
     ]
    }
   ],
   "source": [
    "restaurant_1 = Restaurant('karachi haleem' ,'haleem')\n",
    "restaurant_1.describe_restaurants()\n",
    "\n",
    "restaurant_2 = Restaurant('jawaird nihari', 'nihari')\n",
    "restaurant_2.describe_restaurants()\n",
    "\n",
    "restaurant_3 = Restaurant('mazedaar foods', 'biryani')\n",
    "restaurant_3.describe_restaurants()"
   ]
  },
  {
   "cell_type": "markdown",
   "metadata": {},
   "source": [
    "**9-3.** Users: Make a class called User . Create two attributes called first_name\n",
    "and last_name , and then create several other attributes that are typically stored\n",
    "in a user profile. Make a method called describe_user() that prints a summary\n",
    "of the user’s information. Make another method called greet_user() that prints\n",
    "a personalized greeting to the user.\n",
    "Create several instances representing different users, and call both methods\n",
    "for each user."
   ]
  },
  {
   "cell_type": "code",
   "execution_count": 61,
   "metadata": {},
   "outputs": [],
   "source": [
    "class User():\n",
    "    def __init__(self,first_name,last_name,username,location):\n",
    "        self.first_name = first_name\n",
    "        self.last_name = last_name\n",
    "        self.username = username\n",
    "        self.location = location\n",
    "        \n",
    "    def describe_user(self):\n",
    "        print(\"\\n\"+ self.first_name.title()+\" \"+self.last_name.title())\n",
    "        print(\" Username: \"+self.username)\n",
    "        print(\" Location: \"+self.location)\n",
    "    def greet_user(self):\n",
    "        print(\"\\nHello, \"+self.username+\" !\")\n",
    "        "
   ]
  },
  {
   "cell_type": "code",
   "execution_count": 62,
   "metadata": {},
   "outputs": [
    {
     "name": "stdout",
     "output_type": "stream",
     "text": [
      "\n",
      "Arsalan Manzoor\n",
      " Username: arsalan11\n",
      " Location: karachi\n",
      "\n",
      "Hello, arsalan11 !\n"
     ]
    }
   ],
   "source": [
    "user_1 = User('arsalan','manzoor','arsalan11','karachi')\n",
    "user_1.describe_user()\n",
    "user_1.greet_user()"
   ]
  },
  {
   "cell_type": "code",
   "execution_count": 63,
   "metadata": {},
   "outputs": [
    {
     "name": "stdout",
     "output_type": "stream",
     "text": [
      "\n",
      "Abid Khan\n",
      " Username: abid90\n",
      " Location: lahore\n",
      "\n",
      "Hello, abid90 !\n"
     ]
    }
   ],
   "source": [
    "user_2 = User('abid','khan','abid90','lahore')\n",
    "user_2.describe_user()\n",
    "user_2.greet_user()"
   ]
  },
  {
   "cell_type": "markdown",
   "metadata": {},
   "source": [
    "## Working with Classes and Instances"
   ]
  },
  {
   "cell_type": "code",
   "execution_count": 2,
   "metadata": {},
   "outputs": [],
   "source": [
    "# You can use classes to represent many real-world situations. Once you write\n",
    "# a class, you’ll spend most of your time working with instances created from\n",
    "# that class. One of the first tasks you’ll want to do is modify the attributes\n",
    "# associated with a particular instance. You can modify the attributes of an\n",
    "# instance directly or write methods that update attributes in specific ways."
   ]
  },
  {
   "cell_type": "markdown",
   "metadata": {},
   "source": [
    "### The Car Class"
   ]
  },
  {
   "cell_type": "code",
   "execution_count": 4,
   "metadata": {},
   "outputs": [],
   "source": [
    "class Car():\n",
    "    def __init__(self,make,model,year):\n",
    "        self.make = make\n",
    "        self.model = model\n",
    "        self.year = year\n",
    "    \n",
    "    def get_descriptive_name(self):\n",
    "        log_name = str(self.year) + ' ' + self.make + ' ' + self.model\n",
    "        return log_name.title()"
   ]
  },
  {
   "cell_type": "code",
   "execution_count": 5,
   "metadata": {},
   "outputs": [
    {
     "name": "stdout",
     "output_type": "stream",
     "text": [
      "2016 Audi A4\n"
     ]
    }
   ],
   "source": [
    "my_new_car = Car('audi', 'a4', 2016)\n",
    "print(my_new_car.get_descriptive_name())"
   ]
  },
  {
   "cell_type": "markdown",
   "metadata": {},
   "source": [
    "### Setting a Default Value for an Attribute"
   ]
  },
  {
   "cell_type": "code",
   "execution_count": 7,
   "metadata": {},
   "outputs": [],
   "source": [
    "# Every attribute in a class needs an initial value, even if that value is 0 or an\n",
    "# empty string. In some cases, such as when setting a default value, it makes\n",
    "# sense to specify this initial value in the body of the __init__() method; if\n",
    "# you do this for an attribute, you don’t have to include a parameter for that\n",
    "# attribute.\n",
    "\n",
    "\n",
    "# Let’s add an attribute called odometer_reading that always starts with a\n",
    "# value of 0. We’ll also add a method read_odometer() that helps us read each\n",
    "# car’s odometer:"
   ]
  },
  {
   "cell_type": "code",
   "execution_count": 8,
   "metadata": {},
   "outputs": [],
   "source": [
    "class Car():\n",
    "    def __init__(self,make,model,year):\n",
    "        self.make = make\n",
    "        self.model = model\n",
    "        self.year = year\n",
    "        self.odometer_reading = 0\n",
    "    \n",
    "    def get_descriptive_name(self):\n",
    "        log_name = str(self.year) + ' ' + self.make + ' ' + self.model\n",
    "        return log_name.title()\n",
    "    \n",
    "    def read_odometer(self):\n",
    "        print(\"This car has \"+str(self.odometer_reading) + \" miles on it.\")"
   ]
  },
  {
   "cell_type": "code",
   "execution_count": 9,
   "metadata": {},
   "outputs": [
    {
     "name": "stdout",
     "output_type": "stream",
     "text": [
      "2016 Audi A4\n",
      "This car has 0 miles on it.\n"
     ]
    }
   ],
   "source": [
    "my_new_car = Car('audi', 'a4', 2016)\n",
    "print(my_new_car.get_descriptive_name())\n",
    "my_new_car.read_odometer()"
   ]
  },
  {
   "cell_type": "markdown",
   "metadata": {},
   "source": [
    "### Modifying Attribute Values"
   ]
  },
  {
   "cell_type": "code",
   "execution_count": 10,
   "metadata": {},
   "outputs": [],
   "source": [
    "# You can change an attribute’s value in three ways: you can change the value\n",
    "# directly through an instance, set the value through a method, or increment\n",
    "# the value (add a certain amount to it) through a method. Let’s look at each\n",
    "# of these approaches."
   ]
  },
  {
   "cell_type": "markdown",
   "metadata": {},
   "source": [
    "### Modifying an Attribute’s Value Directly"
   ]
  },
  {
   "cell_type": "code",
   "execution_count": 11,
   "metadata": {},
   "outputs": [],
   "source": [
    "# The simplest way to modify the value of an attribute is to access the attribute directly through an instance. Here we set the odometer reading to 23\n",
    "# directly:"
   ]
  },
  {
   "cell_type": "code",
   "execution_count": 12,
   "metadata": {},
   "outputs": [
    {
     "name": "stdout",
     "output_type": "stream",
     "text": [
      "This car has 23 miles on it.\n"
     ]
    }
   ],
   "source": [
    "my_new_car.odometer_reading = 23\n",
    "my_new_car.read_odometer()"
   ]
  },
  {
   "cell_type": "code",
   "execution_count": 13,
   "metadata": {},
   "outputs": [],
   "source": [
    "# Sometimes you’ll want to access attributes directly like this, but other\n",
    "# times you’ll want to write a method that updates the value for you."
   ]
  },
  {
   "cell_type": "markdown",
   "metadata": {},
   "source": [
    "### Modifying an Attribute’s Value Through a Method"
   ]
  },
  {
   "cell_type": "code",
   "execution_count": 15,
   "metadata": {},
   "outputs": [],
   "source": [
    "# It can be helpful to have methods that update certain attributes for you.\n",
    "# Instead of accessing the attribute directly, you pass the new value to a\n",
    "# method that handles the updating internally\n",
    "\n",
    "# Here’s an example showing a method called update_odometer():"
   ]
  },
  {
   "cell_type": "code",
   "execution_count": 26,
   "metadata": {},
   "outputs": [],
   "source": [
    "class Car():\n",
    "    def __init__(self,make,model,year):\n",
    "        self.make = make\n",
    "        self.model = model\n",
    "        self.year = year\n",
    "        self.odometer_reading = 0\n",
    "    \n",
    "    def get_descriptive_name(self):\n",
    "        log_name = str(self.year) + ' ' + self.make + ' ' + self.model\n",
    "        return log_name.title()\n",
    "    \n",
    "    def update_odometer(self,new_reading):\n",
    "        if new_reading >= self.odometer_reading:\n",
    "            self.odometer_reading = new_reading\n",
    "        else:\n",
    "            print(\"You can't roll back an odometer!\")\n",
    "    \n",
    "    def read_odometer(self):\n",
    "        print(\"This car has \"+str(self.odometer_reading) + \" miles on it.\")"
   ]
  },
  {
   "cell_type": "code",
   "execution_count": 27,
   "metadata": {},
   "outputs": [
    {
     "name": "stdout",
     "output_type": "stream",
     "text": [
      "This car has 40 miles on it.\n"
     ]
    }
   ],
   "source": [
    "my_new_car = Car('audi', 'a4', 2016)\n",
    "my_new_car.update_odometer(40)\n",
    "my_new_car.read_odometer()"
   ]
  },
  {
   "cell_type": "code",
   "execution_count": 29,
   "metadata": {},
   "outputs": [
    {
     "name": "stdout",
     "output_type": "stream",
     "text": [
      "You can't roll back an odometer!\n",
      "This car has 40 miles on it.\n"
     ]
    }
   ],
   "source": [
    "my_new_car.update_odometer(31)\n",
    "my_new_car.read_odometer()"
   ]
  },
  {
   "cell_type": "markdown",
   "metadata": {},
   "source": [
    "### Incrementing an Attributes's value through a method"
   ]
  },
  {
   "cell_type": "code",
   "execution_count": 2,
   "metadata": {},
   "outputs": [],
   "source": [
    "# Sometimes you’ll want to increment an attribute’s value by a certain\n",
    "# amount rather than set an entirely new value. Say we buy a used car and\n",
    "# put 100 miles on it between the time we buy it and the time we register it.\n",
    "# Here’s a method that allows us to pass this incremental amount and add\n",
    "# that value to the odometer reading:"
   ]
  },
  {
   "cell_type": "code",
   "execution_count": 11,
   "metadata": {},
   "outputs": [],
   "source": [
    "class Car():\n",
    "    def __init__(self,make,model,year):\n",
    "        self.make = make\n",
    "        self.model = model\n",
    "        self.year = year\n",
    "        self.odometer_reading = 0\n",
    "    \n",
    "    def get_descriptive_name(self):\n",
    "        log_name = str(self.year) + ' ' + self.make + ' ' + self.model\n",
    "        return log_name.title()\n",
    "    \n",
    "    def update_odometer(self,new_reading):\n",
    "        if new_reading >= self.odometer_reading:\n",
    "            self.odometer_reading = new_reading\n",
    "        else:\n",
    "            print(\"You can't roll back an odometer!\")\n",
    "    def increment_odometer(self,increment_reading):\n",
    "        self.odometer_reading += increment_reading\n",
    "    \n",
    "    def read_odometer(self):\n",
    "        print(\"This car has \"+str(self.odometer_reading) + \" miles on it.\")"
   ]
  },
  {
   "cell_type": "code",
   "execution_count": 12,
   "metadata": {},
   "outputs": [
    {
     "name": "stdout",
     "output_type": "stream",
     "text": [
      "2013 Subaru Outback\n"
     ]
    }
   ],
   "source": [
    "my_used_car = Car('subaru', 'outback', 2013)\n",
    "print(my_used_car.get_descriptive_name())"
   ]
  },
  {
   "cell_type": "code",
   "execution_count": 13,
   "metadata": {},
   "outputs": [
    {
     "name": "stdout",
     "output_type": "stream",
     "text": [
      "This car has 23500 miles on it.\n"
     ]
    }
   ],
   "source": [
    "my_used_car.update_odometer(23500)\n",
    "my_used_car.read_odometer()"
   ]
  },
  {
   "cell_type": "code",
   "execution_count": 14,
   "metadata": {},
   "outputs": [
    {
     "name": "stdout",
     "output_type": "stream",
     "text": [
      "This car has 23600 miles on it.\n"
     ]
    }
   ],
   "source": [
    "my_used_car.increment_odometer(100)\n",
    "my_used_car.read_odometer()"
   ]
  },
  {
   "cell_type": "markdown",
   "metadata": {},
   "source": [
    "### Exercise # 2"
   ]
  },
  {
   "cell_type": "markdown",
   "metadata": {},
   "source": [
    "**9-4.** Number Served: Start with your program from Exercise 9-1 (page 166).\n",
    "Add an attribute called number_served with a default value of 0. Create an\n",
    "instance called restaurant from this class. Print the number of customers the\n",
    "restaurant has served, and then change this value and print it again.\n",
    "\n",
    "\n",
    "Add a method called set_number_served() that lets you set the number\n",
    "of customers that have been served. Call this method with a new number and\n",
    "print the value again.\n",
    "\n",
    "\n",
    "Add a method called increment_number_served() that lets you increment\n",
    "the number of customers who’ve been served. Call this method with any number you like that could represent how many customers were served in, say, a\n",
    "day of business."
   ]
  },
  {
   "cell_type": "code",
   "execution_count": 1,
   "metadata": {},
   "outputs": [],
   "source": [
    "class Restaurant():\n",
    "    def __init__(self,restaurant_name, cuisine_type):\n",
    "        self.restaurant_name = restaurant_name\n",
    "        self.cuisine_type = cuisine_type\n",
    "        self.number_served = 0\n",
    "    \n",
    "    def describe_restaurants(self):\n",
    "        print(self.restaurant_name+ \" is serves wonderful \"+self.cuisine_type)\n",
    "    def open_restaurants(self):\n",
    "        print(self.restaurant_name +\" is open. come in!\")\n",
    "    def set_number_served(self,new_number):\n",
    "        self.number_served = new_number\n",
    "    def increment_served(self, increment_number):\n",
    "        self.number_served += increment_number\n",
    "    def describe_number_served(self):\n",
    "        print(\"Number of customers served: \"+str(self.number_served))\n",
    "        "
   ]
  },
  {
   "cell_type": "code",
   "execution_count": 32,
   "metadata": {},
   "outputs": [],
   "source": [
    "my_restaurant = Restaurant('mazeedar', 'nihari')"
   ]
  },
  {
   "cell_type": "code",
   "execution_count": 33,
   "metadata": {},
   "outputs": [
    {
     "data": {
      "text/plain": [
       "0"
      ]
     },
     "execution_count": 33,
     "metadata": {},
     "output_type": "execute_result"
    }
   ],
   "source": [
    "my_restaurant.number_served"
   ]
  },
  {
   "cell_type": "code",
   "execution_count": 34,
   "metadata": {},
   "outputs": [],
   "source": [
    "my_restaurant.number_served = 10"
   ]
  },
  {
   "cell_type": "code",
   "execution_count": 35,
   "metadata": {},
   "outputs": [
    {
     "name": "stdout",
     "output_type": "stream",
     "text": [
      "Number of customers served: 10\n"
     ]
    }
   ],
   "source": [
    "my_restaurant.describe_number_served()"
   ]
  },
  {
   "cell_type": "code",
   "execution_count": 36,
   "metadata": {},
   "outputs": [],
   "source": [
    "my_restaurant.set_number_served(20)"
   ]
  },
  {
   "cell_type": "code",
   "execution_count": 37,
   "metadata": {},
   "outputs": [
    {
     "name": "stdout",
     "output_type": "stream",
     "text": [
      "Number of customers served: 20\n"
     ]
    }
   ],
   "source": [
    "my_restaurant.describe_number_served()"
   ]
  },
  {
   "cell_type": "code",
   "execution_count": 38,
   "metadata": {},
   "outputs": [
    {
     "name": "stdout",
     "output_type": "stream",
     "text": [
      "Number of customers served: 22\n"
     ]
    }
   ],
   "source": [
    "my_restaurant.increment_served(2)\n",
    "my_restaurant.describe_number_served()"
   ]
  },
  {
   "cell_type": "markdown",
   "metadata": {},
   "source": [
    "**9-5.** Login Attempts: Add an attribute called login_attempts to your User\n",
    "class from Exercise 9-3 (page 166). Write a method called increment_\n",
    "login_attempts() that increments the value of login_attempts by 1. Write\n",
    "another method called reset_login_attempts() that resets the value of login_\n",
    "attempts to 0.\n",
    "\n",
    "\n",
    "Make an instance of the User class and call increment_login_attempts()\n",
    "several times. Print the value of login_attempts to make sure it was incremented\n",
    "properly, and then call reset_login_attempts(). Print login_attempts again to\n",
    "make sure it was reset to 0."
   ]
  },
  {
   "cell_type": "code",
   "execution_count": 39,
   "metadata": {},
   "outputs": [],
   "source": [
    "class User():\n",
    "    def __init__(self,first_name,last_name,username,location):\n",
    "        self.first_name = first_name\n",
    "        self.last_name = last_name\n",
    "        self.username = username\n",
    "        self.location = location\n",
    "        self.login_attempts = 0\n",
    "        \n",
    "    def describe_user(self):\n",
    "        print(\"\\n\"+ self.first_name.title()+\" \"+self.last_name.title())\n",
    "        print(\" Username: \"+self.username)\n",
    "        print(\" Location: \"+self.location)\n",
    "    def greet_user(self):\n",
    "        print(\"\\nHello, \"+self.username+\" !\")\n",
    "    \n",
    "    def increment_login_attempts(self):\n",
    "        self.login_attempts += 1\n",
    "    \n",
    "    def reset_login_attempts(self):\n",
    "        self.login_attempts = 0"
   ]
  },
  {
   "cell_type": "code",
   "execution_count": 40,
   "metadata": {},
   "outputs": [
    {
     "name": "stdout",
     "output_type": "stream",
     "text": [
      "\n",
      "Arsalan Manzoor\n",
      " Username: arsalan11\n",
      " Location: karachi\n",
      "\n",
      "Hello, arsalan11 !\n"
     ]
    }
   ],
   "source": [
    "user_1 = User('arsalan','manzoor','arsalan11','karachi')\n",
    "user_1.describe_user()\n",
    "user_1.greet_user()"
   ]
  },
  {
   "cell_type": "code",
   "execution_count": 43,
   "metadata": {},
   "outputs": [],
   "source": [
    "user_1.increment_login_attempts()"
   ]
  },
  {
   "cell_type": "code",
   "execution_count": 44,
   "metadata": {},
   "outputs": [
    {
     "data": {
      "text/plain": [
       "2"
      ]
     },
     "execution_count": 44,
     "metadata": {},
     "output_type": "execute_result"
    }
   ],
   "source": [
    "user_1.login_attempts"
   ]
  },
  {
   "cell_type": "code",
   "execution_count": 46,
   "metadata": {},
   "outputs": [],
   "source": [
    "user_1.reset_login_attempts()"
   ]
  },
  {
   "cell_type": "code",
   "execution_count": 47,
   "metadata": {},
   "outputs": [
    {
     "data": {
      "text/plain": [
       "0"
      ]
     },
     "execution_count": 47,
     "metadata": {},
     "output_type": "execute_result"
    }
   ],
   "source": [
    "user_1.login_attempts"
   ]
  },
  {
   "cell_type": "markdown",
   "metadata": {},
   "source": [
    "## Inheritance"
   ]
  },
  {
   "cell_type": "code",
   "execution_count": 48,
   "metadata": {},
   "outputs": [],
   "source": [
    "# You don’t always have to start from scratch when writing a class. If the class\n",
    "# you’re writing is a specialized version of another class you wrote, you can\n",
    "# use inheritance. When one class inherits from another, it automatically takes\n",
    "# on all the attributes and methods of the first class. The original class is\n",
    "# called the parent class, and the new class is the child class. The child class\n",
    "# inherits every attribute and method from its parent class but is also free to\n",
    "# define new attributes and methods of its own."
   ]
  },
  {
   "cell_type": "markdown",
   "metadata": {},
   "source": [
    "#### The __init__() Method for a Child Class"
   ]
  },
  {
   "cell_type": "code",
   "execution_count": 50,
   "metadata": {},
   "outputs": [],
   "source": [
    "# The first task Python has when creating an instance from a child class is to\n",
    "# assign values to all attributes in the parent class. To do this, the __init__()\n",
    "# method for a child class needs help from its parent class.\n",
    "\n",
    "\n",
    "# As an example, let’s model an electric car. An electric car is just a specific kind of car, so we can base our new ElectricCar class on the Car class\n",
    "# we wrote earlier. Then we’ll only have to write code for the attributes and\n",
    "# behavior specific to electric cars\n",
    "\n",
    "\n",
    "# Let’s start by making a simple version of the ElectricCar class, which\n",
    "# does everything the Car class does:"
   ]
  },
  {
   "cell_type": "code",
   "execution_count": 51,
   "metadata": {},
   "outputs": [],
   "source": [
    "class Car():\n",
    "    def __init__(self,make,model,year):\n",
    "        self.make = make\n",
    "        self.model = model\n",
    "        self.year = year\n",
    "        self.odometer_reading = 0\n",
    "    \n",
    "    def get_descriptive_name(self):\n",
    "        log_name = str(self.year) + ' ' + self.make + ' ' + self.model\n",
    "        return log_name.title()\n",
    "    \n",
    "    def update_odometer(self,new_reading):\n",
    "        if new_reading >= self.odometer_reading:\n",
    "            self.odometer_reading = new_reading\n",
    "        else:\n",
    "            print(\"You can't roll back an odometer!\")\n",
    "    def increment_odometer(self,increment_reading):\n",
    "        self.odometer_reading += increment_reading\n",
    "    \n",
    "    def read_odometer(self):\n",
    "        print(\"This car has \"+str(self.odometer_reading) + \" miles on it.\")"
   ]
  },
  {
   "cell_type": "code",
   "execution_count": 52,
   "metadata": {},
   "outputs": [],
   "source": [
    "class ElectricCar(Car):\n",
    "    def __init__(self,make,model,year):\n",
    "        super().__init__(make,model,year) # initialize attributes of parent class\n",
    "        "
   ]
  },
  {
   "cell_type": "code",
   "execution_count": 53,
   "metadata": {},
   "outputs": [],
   "source": [
    "my_tesla = ElectricCar('tesla', 'model s', 2016)"
   ]
  },
  {
   "cell_type": "code",
   "execution_count": 54,
   "metadata": {},
   "outputs": [
    {
     "name": "stdout",
     "output_type": "stream",
     "text": [
      "2016 Tesla Model S\n"
     ]
    }
   ],
   "source": [
    "print(my_tesla.get_descriptive_name())"
   ]
  },
  {
   "cell_type": "markdown",
   "metadata": {},
   "source": [
    "### Defining Attributes and Methods for the Child Class"
   ]
  },
  {
   "cell_type": "code",
   "execution_count": 55,
   "metadata": {},
   "outputs": [],
   "source": [
    "# Once you have a child class that inherits from a parent class, you can add\n",
    "# any new attributes and methods necessary to differentiate the child class\n",
    "# from the parent class\n",
    "\n",
    "\n",
    "# Let’s add an attribute that’s specific to electric cars (a battery, for\n",
    "# example) and a method to report on this attribute. We’ll store the battery\n",
    "# size and write a method that prints a description of the battery:"
   ]
  },
  {
   "cell_type": "code",
   "execution_count": 57,
   "metadata": {},
   "outputs": [],
   "source": [
    "class ElectricCar(Car):\n",
    "    def __init__(self,make,model,year):\n",
    "        super().__init__(make,model,year) # initialize attributes of parent class\n",
    "        self.battery_size = 70\n",
    "    \n",
    "    def describe_battery(self):\n",
    "        print(\"The car has a \"+str(self.battery_size) + \" -kWh battery.\")\n",
    "        "
   ]
  },
  {
   "cell_type": "code",
   "execution_count": 60,
   "metadata": {},
   "outputs": [
    {
     "name": "stdout",
     "output_type": "stream",
     "text": [
      "2016 Tesla Model S\n",
      "The car has a 70 -kWh battery.\n"
     ]
    }
   ],
   "source": [
    "my_tesla = ElectricCar('tesla', 'model s',2016)\n",
    "print(my_tesla.get_descriptive_name())\n",
    "my_tesla.describe_battery()"
   ]
  },
  {
   "cell_type": "markdown",
   "metadata": {},
   "source": [
    "### Overriding Methods from the Parent Class"
   ]
  },
  {
   "cell_type": "code",
   "execution_count": 61,
   "metadata": {},
   "outputs": [],
   "source": [
    "# You can override any method from the parent class that doesn’t fit what\n",
    "# you’re trying to model with the child class. To do this, you define a method\n",
    "# in the child class with the same name as the method you want to override\n",
    "# in the parent class. Python will disregard the parent class method and only\n",
    "# pay attention to the method you define in the child class.\n",
    "\n",
    "# Say the class Car had a method called fill_gas_tank(). This method is\n",
    "# meaningless for an all-electric vehicle, so you might want to override this\n",
    "# method. Here’s one way to do that:\n"
   ]
  },
  {
   "cell_type": "code",
   "execution_count": 62,
   "metadata": {},
   "outputs": [],
   "source": [
    "# def ElectricCar(Car):\n",
    "#  --snip--\n",
    "#  def fill_gas_tank():\n",
    "#  \"\"\"Electric cars don't have gas tanks.\"\"\"\n",
    "#  print(\"This car doesn't need a gas tank!\")"
   ]
  },
  {
   "cell_type": "code",
   "execution_count": 63,
   "metadata": {},
   "outputs": [],
   "source": [
    "# Now if someone tries to call fill_gas_tank() with an electric car, Python\n",
    "# will ignore the method fill_gas_tank() in Car and run this code instead. When\n",
    "# you use inheritance, you can make your child classes retain what you need\n",
    "# and override anything you don’t need from the parent class."
   ]
  },
  {
   "cell_type": "markdown",
   "metadata": {},
   "source": [
    "#### Instances as Attributes"
   ]
  },
  {
   "cell_type": "code",
   "execution_count": 64,
   "metadata": {},
   "outputs": [],
   "source": [
    "# When modeling something from the real world in code, you may find that\n",
    "# you’re adding more and more detail to a class. You’ll find that you have a\n",
    "# growing list of attributes and methods and that your files are becoming\n",
    "# lengthy. In these situations, you might recognize that part of one class can\n",
    "# be written as a separate class. You can break your large class into smaller\n",
    "# classes that work together"
   ]
  },
  {
   "cell_type": "code",
   "execution_count": 65,
   "metadata": {},
   "outputs": [],
   "source": [
    "# For example, if we continue adding detail to the ElectricCar class, we\n",
    "# might notice that we’re adding many attributes and methods specific to\n",
    "# the car’s battery. When we see this happening, we can stop and move those\n",
    "# attributes and methods to a separate class called Battery. Then we can use a\n",
    "# Battery instance as an attribute in the ElectricCar class:"
   ]
  },
  {
   "cell_type": "code",
   "execution_count": 71,
   "metadata": {},
   "outputs": [],
   "source": [
    "class Battery():\n",
    "    def __init__(self,battery_size=70):\n",
    "        self.battery_size = battery_size\n",
    "    def describe_battery(self):\n",
    "        print(\"This cas has a \"+str(self.battery_size) + \"-kWh battery.\" )\n",
    "    \n",
    "    def get_range(self):\n",
    "        if self.battery_size == 70:\n",
    "            range = 240\n",
    "        elif self.battery_size == 85:\n",
    "            range = 270\n",
    "        \n",
    "        message = \"This car can go approximately \"+str(range)\n",
    "        message += \" miles on a full charge.\"\n",
    "        print(message)\n",
    "    \n",
    "class ElectricCar(Car):\n",
    "    def __init__(self,make,model,year):\n",
    "        super().__init__(make,model,year) # initialize attributes of parent class\n",
    "        self.battery = Battery()\n",
    "        "
   ]
  },
  {
   "cell_type": "code",
   "execution_count": 72,
   "metadata": {},
   "outputs": [
    {
     "name": "stdout",
     "output_type": "stream",
     "text": [
      "2016 Tesla Model S\n"
     ]
    }
   ],
   "source": [
    "my_tesla = ElectricCar('tesla', 'model s',2016)\n",
    "print(my_tesla.get_descriptive_name())"
   ]
  },
  {
   "cell_type": "code",
   "execution_count": 73,
   "metadata": {},
   "outputs": [
    {
     "name": "stdout",
     "output_type": "stream",
     "text": [
      "This cas has a 70-kWh battery.\n"
     ]
    }
   ],
   "source": [
    "my_tesla.battery.describe_battery()"
   ]
  },
  {
   "cell_type": "code",
   "execution_count": 74,
   "metadata": {},
   "outputs": [
    {
     "name": "stdout",
     "output_type": "stream",
     "text": [
      "This car can go approximately 240 miles on a full charge.\n"
     ]
    }
   ],
   "source": [
    "my_tesla.battery.get_range()"
   ]
  },
  {
   "cell_type": "markdown",
   "metadata": {},
   "source": [
    "### Exercise # 3"
   ]
  },
  {
   "cell_type": "markdown",
   "metadata": {},
   "source": [
    "**9-6.** Ice Cream Stand: An ice cream stand is a specific kind of restaurant. Write\n",
    "a class called IceCreamStand that inherits from the Restaurant class you wrote\n",
    "in Exercise 9-1 (page 166) or Exercise 9-4 (page 171). Either version of\n",
    "the class will work; just pick the one you like better. Add an attribute called\n",
    "flavors that stores a list of ice cream flavors. Write a method that displays\n",
    "these flavors. Create an instance of IceCreamStand, and call this method."
   ]
  },
  {
   "cell_type": "code",
   "execution_count": 63,
   "metadata": {},
   "outputs": [],
   "source": [
    "class Restaurant():\n",
    "    def __init__(self,restaurant_name, cuisine_type):\n",
    "        self.restaurant_name = restaurant_name\n",
    "        self.cuisine_type = cuisine_type\n",
    "        self.number_served = 0\n",
    "    \n",
    "    def describe_restaurants(self):\n",
    "        print(self.restaurant_name+ \" is serves wonderful \"+self.cuisine_type)\n",
    "    def open_restaurants(self):\n",
    "        print(self.restaurant_name +\" is open. come in!\")\n",
    "    def set_number_served(self,new_number):\n",
    "        self.number_served = new_number\n",
    "    def increment_served(self, increment_number):\n",
    "        self.number_served += increment_number\n",
    "    def describe_number_served(self):\n",
    "        print(\"Number of customers served: \"+str(self.number_served))\n",
    "        "
   ]
  },
  {
   "cell_type": "code",
   "execution_count": 91,
   "metadata": {},
   "outputs": [],
   "source": [
    "class IceCreamStand(Restaurant):\n",
    "    def __init__(self,restaurant_name,cuisine_type):\n",
    "        super().__init__(restaurant_name,cuisine_type) # initialize attributes of parent class\n",
    "        self.flavours = []\n",
    "    \n",
    "    def describe_flavours(self):\n",
    "        print(\"\\nThe \"+self.restaurant_name+\" offer wonderful ice creams\")\n",
    "            \n",
    "        for flavour in self.flavours:\n",
    "            print(\"- \"+flavour.title())\n",
    "        "
   ]
  },
  {
   "cell_type": "code",
   "execution_count": 92,
   "metadata": {},
   "outputs": [],
   "source": [
    "my_restaurant1 = IceCreamStand(\"Karachi ice cream\",\"ice cream\")"
   ]
  },
  {
   "cell_type": "code",
   "execution_count": 93,
   "metadata": {},
   "outputs": [],
   "source": [
    "my_restaurant1.flavours = ['vanilla', 'chocolate']"
   ]
  },
  {
   "cell_type": "code",
   "execution_count": 94,
   "metadata": {},
   "outputs": [
    {
     "name": "stdout",
     "output_type": "stream",
     "text": [
      "\n",
      "The Karachi ice cream offer wonderful ice creams\n",
      "- Vanilla\n",
      "- Chocolate\n"
     ]
    }
   ],
   "source": [
    "my_restaurant1.describe_flavours()"
   ]
  },
  {
   "cell_type": "markdown",
   "metadata": {},
   "source": [
    "**9-7.** Admin: An administrator is a special kind of user. Write a class called\n",
    "Admin that inherits from the User class you wrote in Exercise 9-3 (page 166)\n",
    "or Exercise 9-5 (page 171). Add an attribute, privileges, that stores a list\n",
    "of strings like \"can add post\", \"can delete post\", \"can ban user\", and so on.\n",
    "Write a method called show_privileges() that lists the administrator’s set of\n",
    "privileges. Create an instance of Admin, and call your method."
   ]
  },
  {
   "cell_type": "code",
   "execution_count": 133,
   "metadata": {},
   "outputs": [],
   "source": [
    "class User():\n",
    "    def __init__(self,first_name,last_name,username,location):\n",
    "        self.first_name = first_name\n",
    "        self.last_name = last_name\n",
    "        self.username = username\n",
    "        self.location = location\n",
    "        self.login_attempts = 0\n",
    "        \n",
    "    def describe_user(self):\n",
    "        print(\"\\n\"+ self.first_name.title()+\" \"+self.last_name.title())\n",
    "        print(\" Username: \"+self.username)\n",
    "        print(\" Location: \"+self.location)\n",
    "    def greet_user(self):\n",
    "        print(\"\\nHello, \"+self.username+\" !\")\n",
    "    \n",
    "    def increment_login_attempts(self):\n",
    "        self.login_attempts += 1\n",
    "    \n",
    "    def reset_login_attempts(self):\n",
    "        self.login_attempts = 0"
   ]
  },
  {
   "cell_type": "code",
   "execution_count": 112,
   "metadata": {},
   "outputs": [],
   "source": [
    "class Admin(User):\n",
    "    def __init__(self,first_name,last_name,username,location):\n",
    "        super().__init__(first_name,last_name,username,location)\n",
    "        self.privileges = []\n",
    "        \n",
    "    def show_privileges(self):\n",
    "        print(\"\\nThe administrator privileges are:\")\n",
    "        for privilege in self.privileges:\n",
    "            print(\"- \"+privilege.title())"
   ]
  },
  {
   "cell_type": "code",
   "execution_count": 113,
   "metadata": {},
   "outputs": [],
   "source": [
    "arsalan = Admin(\"arsalan\", \"manzoor\", \"arsalan90m\", \"karachi\")"
   ]
  },
  {
   "cell_type": "code",
   "execution_count": 114,
   "metadata": {},
   "outputs": [],
   "source": [
    "arsalan.privileges = [\"can add post\", \"can delete post\", \"can ban users\"]"
   ]
  },
  {
   "cell_type": "code",
   "execution_count": 115,
   "metadata": {},
   "outputs": [
    {
     "name": "stdout",
     "output_type": "stream",
     "text": [
      "\n",
      "Arsalan Manzoor\n",
      " Username: arsalan90m\n",
      " Location: karachi\n",
      "\n",
      "The administrator privileges are:\n",
      "- Can Add Post\n",
      "- Can Delete Post\n",
      "- Can Ban Users\n"
     ]
    }
   ],
   "source": [
    "arsalan.describe_user()\n",
    "arsalan.show_privileges()"
   ]
  },
  {
   "cell_type": "markdown",
   "metadata": {},
   "source": [
    "**9-8. Privileges:** Write a separate Privileges class. The class should have one\n",
    "attribute, privileges, that stores a list of strings as described in Exercise 9-7.\n",
    "Move the show_privileges() method to this class. Make a Privileges instance\n",
    "as an attribute in the Admin class. Create a new instance of Admin and use your\n",
    "method to show its privileges."
   ]
  },
  {
   "cell_type": "code",
   "execution_count": 194,
   "metadata": {},
   "outputs": [],
   "source": [
    "class Privileges():\n",
    "    def __init__(self,privileges=[]):\n",
    "        self.privileges = privileges\n",
    "        \n",
    "    def show_privileges(self):\n",
    "        print(\"\\nThe administrator privileges are:\")\n",
    "        for privilege in self.privileges:\n",
    "            print(\"- \"+privilege.title())\n",
    "        \n",
    "\n",
    "class Admin(User):\n",
    "    def __init__(self,first_name,last_name,username,location):\n",
    "        super().__init__(first_name,last_name,username,location)\n",
    "        self.privileges = Privileges()"
   ]
  },
  {
   "cell_type": "code",
   "execution_count": 195,
   "metadata": {},
   "outputs": [],
   "source": [
    "a = Admin(\"abid\", \"shaka\", \"abid_shaka\",\"lyari\")"
   ]
  },
  {
   "cell_type": "code",
   "execution_count": 196,
   "metadata": {},
   "outputs": [],
   "source": [
    "a.privileges.privileges = ['can add users', 'can delete users']"
   ]
  },
  {
   "cell_type": "code",
   "execution_count": 197,
   "metadata": {},
   "outputs": [
    {
     "name": "stdout",
     "output_type": "stream",
     "text": [
      "\n",
      "The administrator privileges are:\n",
      "- Can Add Users\n",
      "- Can Delete Users\n"
     ]
    }
   ],
   "source": [
    "a.privileges.show_privileges()"
   ]
  },
  {
   "cell_type": "markdown",
   "metadata": {},
   "source": [
    "**9-9.** Battery Upgrade: Use the final version of electric_car.py from this section.\n",
    "Add a method to the Battery class called upgrade_battery(). This method\n",
    "should check the battery size and set the capacity to 85 if it isn’t already.\n",
    "Make an electric car with a default battery size, call get_range() once, and\n",
    "then call get_range() a second time after upgrading the battery. You should\n",
    "see an increase in the car’s range."
   ]
  },
  {
   "cell_type": "code",
   "execution_count": 198,
   "metadata": {},
   "outputs": [],
   "source": [
    "class Car():\n",
    "    def __init__(self,make,model,year):\n",
    "        self.make = make\n",
    "        self.model = model\n",
    "        self.year = year\n",
    "        self.odometer_reading = 0\n",
    "    \n",
    "    def get_descriptive_name(self):\n",
    "        log_name = str(self.year) + ' ' + self.make + ' ' + self.model\n",
    "        return log_name.title()\n",
    "    \n",
    "    def update_odometer(self,new_reading):\n",
    "        if new_reading >= self.odometer_reading:\n",
    "            self.odometer_reading = new_reading\n",
    "        else:\n",
    "            print(\"You can't roll back an odometer!\")\n",
    "    def increment_odometer(self,increment_reading):\n",
    "        self.odometer_reading += increment_reading\n",
    "    \n",
    "    def read_odometer(self):\n",
    "        print(\"This car has \"+str(self.odometer_reading) + \" miles on it.\")"
   ]
  },
  {
   "cell_type": "code",
   "execution_count": 199,
   "metadata": {},
   "outputs": [],
   "source": [
    "class Battery():\n",
    "    def __init__(self,battery_size=70):\n",
    "        self.battery_size = battery_size\n",
    "    def describe_battery(self):\n",
    "        print(\"This cas has a \"+str(self.battery_size) + \"-kWh battery.\" )\n",
    "    \n",
    "    def get_range(self):\n",
    "        if self.battery_size == 70:\n",
    "            range = 240\n",
    "        elif self.battery_size == 85:\n",
    "            range = 270\n",
    "        \n",
    "        message = \"This car can go approximately \"+str(range)\n",
    "        message += \" miles on a full charge.\"\n",
    "        print(message)\n",
    "        \n",
    "    def upgrade_battery(self):\n",
    "        if self.battery_size == 60:\n",
    "            self.battery_size = 85\n",
    "            print(\"Upgraded the battery to 85 kWh\")\n",
    "        else:\n",
    "            print(\"Battery is already upgraded\")\n",
    "        \n",
    "    \n",
    "class ElectricCar(Car):\n",
    "    def __init__(self,make,model,year):\n",
    "        super().__init__(make,model,year) # initialize attributes of parent class\n",
    "        self.battery = Battery()\n",
    "        "
   ]
  },
  {
   "cell_type": "code",
   "execution_count": 201,
   "metadata": {},
   "outputs": [
    {
     "name": "stdout",
     "output_type": "stream",
     "text": [
      "This cas has a 70-kWh battery.\n"
     ]
    }
   ],
   "source": [
    "my_car = ElectricCar(\"tesla\", \"model s\", 2016)\n",
    "my_car.battery.describe_battery()"
   ]
  },
  {
   "cell_type": "code",
   "execution_count": 203,
   "metadata": {},
   "outputs": [
    {
     "name": "stdout",
     "output_type": "stream",
     "text": [
      "Battery is already upgraded\n",
      "This cas has a 70-kWh battery.\n"
     ]
    }
   ],
   "source": [
    "my_car.battery.upgrade_battery()\n",
    "my_car.battery.describe_battery()"
   ]
  },
  {
   "cell_type": "code",
   "execution_count": 208,
   "metadata": {},
   "outputs": [],
   "source": [
    "my_car.battery.battery_size = 60"
   ]
  },
  {
   "cell_type": "code",
   "execution_count": 209,
   "metadata": {},
   "outputs": [
    {
     "name": "stdout",
     "output_type": "stream",
     "text": [
      "Upgraded the battery to 85 kWh\n",
      "This cas has a 85-kWh battery.\n"
     ]
    }
   ],
   "source": [
    "my_car.battery.upgrade_battery()\n",
    "my_car.battery.describe_battery()"
   ]
  },
  {
   "cell_type": "markdown",
   "metadata": {},
   "source": [
    "### Importing Classes"
   ]
  },
  {
   "cell_type": "code",
   "execution_count": 4,
   "metadata": {},
   "outputs": [],
   "source": [
    "# The import statement at u tells Python to open the car module and\n",
    "# import the class Car. Now we can use the Car class as if it were defined in\n",
    "# this file. The output is the same as we saw earlier:\n",
    "\n",
    "from car import Car"
   ]
  },
  {
   "cell_type": "code",
   "execution_count": 5,
   "metadata": {},
   "outputs": [
    {
     "name": "stdout",
     "output_type": "stream",
     "text": [
      "2016 Audi A4\n"
     ]
    }
   ],
   "source": [
    "my_new_car = Car('audi', 'a4', 2016)\n",
    "print(my_new_car.get_descriptive_name())"
   ]
  },
  {
   "cell_type": "code",
   "execution_count": 6,
   "metadata": {},
   "outputs": [
    {
     "name": "stdout",
     "output_type": "stream",
     "text": [
      "This car has 23 miles on it.\n"
     ]
    }
   ],
   "source": [
    "my_new_car.odometer_reading = 23\n",
    "my_new_car.read_odometer()"
   ]
  },
  {
   "cell_type": "markdown",
   "metadata": {},
   "source": [
    "### Storing Multiple Classes in a Module"
   ]
  },
  {
   "cell_type": "code",
   "execution_count": 8,
   "metadata": {},
   "outputs": [],
   "source": [
    "# You can store as many classes as you need in a single module, although\n",
    "# each class in a module should be related somehow. The classes Battery and\n",
    "# ElectricCar both help represent cars, so let’s add them to the module car.py:"
   ]
  },
  {
   "cell_type": "code",
   "execution_count": 1,
   "metadata": {},
   "outputs": [],
   "source": [
    "from car import ElectricCar"
   ]
  },
  {
   "cell_type": "code",
   "execution_count": 2,
   "metadata": {},
   "outputs": [],
   "source": [
    "my_tesla = ElectricCar('tesla', 'model s', 2016)"
   ]
  },
  {
   "cell_type": "code",
   "execution_count": 3,
   "metadata": {},
   "outputs": [
    {
     "data": {
      "text/plain": [
       "'2016 Tesla Model S'"
      ]
     },
     "execution_count": 3,
     "metadata": {},
     "output_type": "execute_result"
    }
   ],
   "source": [
    "my_tesla.get_descriptive_name()"
   ]
  },
  {
   "cell_type": "code",
   "execution_count": 5,
   "metadata": {},
   "outputs": [
    {
     "name": "stdout",
     "output_type": "stream",
     "text": [
      "This cas has a 70-kWh battery.\n"
     ]
    }
   ],
   "source": [
    "my_tesla.battery.describe_battery()"
   ]
  },
  {
   "cell_type": "code",
   "execution_count": 6,
   "metadata": {},
   "outputs": [
    {
     "name": "stdout",
     "output_type": "stream",
     "text": [
      "This car can go approximately 240 miles on a full charge.\n"
     ]
    }
   ],
   "source": [
    "my_tesla.battery.get_range()"
   ]
  },
  {
   "cell_type": "markdown",
   "metadata": {},
   "source": [
    "### Importing Multiple Classes from a Module"
   ]
  },
  {
   "cell_type": "code",
   "execution_count": 11,
   "metadata": {},
   "outputs": [],
   "source": [
    "# You import multiple classes from a module by separating each class\n",
    "# with a comma\n",
    "\n",
    "\n",
    "from car import Car,ElectricCar"
   ]
  },
  {
   "cell_type": "code",
   "execution_count": 9,
   "metadata": {},
   "outputs": [
    {
     "name": "stdout",
     "output_type": "stream",
     "text": [
      "2016 Volkswagen Beetle\n"
     ]
    }
   ],
   "source": [
    "my_beetle = Car('volkswagen', 'beetle', 2016)\n",
    "print(my_beetle.get_descriptive_name())"
   ]
  },
  {
   "cell_type": "code",
   "execution_count": 10,
   "metadata": {},
   "outputs": [
    {
     "name": "stdout",
     "output_type": "stream",
     "text": [
      "2016 Tesla Roadster\n"
     ]
    }
   ],
   "source": [
    "my_tesla = ElectricCar('tesla', 'roadster',2016)\n",
    "print(my_tesla.get_descriptive_name())"
   ]
  },
  {
   "cell_type": "markdown",
   "metadata": {},
   "source": [
    "### Importing an Entire Module"
   ]
  },
  {
   "cell_type": "code",
   "execution_count": 16,
   "metadata": {},
   "outputs": [],
   "source": [
    "# At u we import the entire car module. We then access the classes we\n",
    "# need through the module_name.class_name syntax.\n",
    "\n",
    "import car"
   ]
  },
  {
   "cell_type": "code",
   "execution_count": 13,
   "metadata": {},
   "outputs": [
    {
     "name": "stdout",
     "output_type": "stream",
     "text": [
      "2016 Volkswagen Beetle\n"
     ]
    }
   ],
   "source": [
    "my_beetle = car.Car('volkswagen', 'beetle', 2016)\n",
    "print(my_beetle.get_descriptive_name())"
   ]
  },
  {
   "cell_type": "code",
   "execution_count": 15,
   "metadata": {},
   "outputs": [
    {
     "name": "stdout",
     "output_type": "stream",
     "text": [
      "2016 Tesla Roadster\n"
     ]
    }
   ],
   "source": [
    "my_tesla = car.ElectricCar('tesla', 'roadster',2016)\n",
    "print(my_tesla.get_descriptive_name())"
   ]
  },
  {
   "cell_type": "markdown",
   "metadata": {},
   "source": [
    "### Importing All Classes from a Module"
   ]
  },
  {
   "cell_type": "code",
   "execution_count": 17,
   "metadata": {},
   "outputs": [],
   "source": [
    "# You can import every class from a module using the following syntax:\n",
    "\n",
    "# from module_name import *"
   ]
  },
  {
   "cell_type": "code",
   "execution_count": 18,
   "metadata": {},
   "outputs": [],
   "source": [
    "# This method is not recommended for two reasons. First, it’s helpful\n",
    "# to be able to read the import statements at the top of a file and get a clear\n",
    "# sense of which classes a program uses. With this approach it’s unclear which\n",
    "# classes you’re using from the module. This approach can also lead to confusion with names in the file. If you accidentally import a class with the same\n",
    "# name as something else in your program file, you can create errors that are\n",
    "# hard to diagnose. I show this here because even though it’s not a recommended approach, you’re likely to see it in other people’s code."
   ]
  },
  {
   "cell_type": "markdown",
   "metadata": {},
   "source": [
    "### Importing a Module into a Module"
   ]
  },
  {
   "cell_type": "code",
   "execution_count": 1,
   "metadata": {},
   "outputs": [],
   "source": [
    "# Sometimes you’ll want to spread out your classes over several modules\n",
    "# to keep any one file from growing too large and avoid storing unrelated\n",
    "# classes in the same module. When you store your classes in several modules,\n",
    "# you may find that a class in one module depends on a class in another module. When this happens, you can import the required class into the first\n",
    "# module"
   ]
  },
  {
   "cell_type": "code",
   "execution_count": 2,
   "metadata": {},
   "outputs": [],
   "source": [
    "# For example, let’s store the Car class in one module and the ElectricCar\n",
    "# and Battery classes in a separate module. We’ll make a new module called\n",
    "# electric_car.py—replacing the electric_car.py file we created earlier—and copy\n",
    "# just the Battery and ElectricCar classes into this file:"
   ]
  },
  {
   "cell_type": "code",
   "execution_count": 3,
   "metadata": {},
   "outputs": [],
   "source": [
    "# Now we can import from each module separately and create whatever\n",
    "# kind of car we need:"
   ]
  },
  {
   "cell_type": "code",
   "execution_count": 7,
   "metadata": {},
   "outputs": [],
   "source": [
    "from car1 import Car\n",
    "from electric_car import ElectricCar"
   ]
  },
  {
   "cell_type": "code",
   "execution_count": 8,
   "metadata": {},
   "outputs": [
    {
     "name": "stdout",
     "output_type": "stream",
     "text": [
      "2016 Volkswagen Beetle\n",
      "2016 Tesla Roadster\n"
     ]
    }
   ],
   "source": [
    "my_beetle = Car('volkswagen', 'beetle', 2016)\n",
    "print(my_beetle.get_descriptive_name())\n",
    "\n",
    "\n",
    "my_tesla = ElectricCar('tesla', 'roadster', 2016)\n",
    "print(my_tesla.get_descriptive_name())"
   ]
  },
  {
   "cell_type": "markdown",
   "metadata": {},
   "source": [
    "### The Python Standard Library"
   ]
  },
  {
   "cell_type": "code",
   "execution_count": 10,
   "metadata": {},
   "outputs": [],
   "source": [
    "# The Python standard library is a set of modules included with every Python\n",
    "# installation. Now that you have a basic understanding of how classes work,\n",
    "# you can start to use modules like these that other programmers have written. You can use any function or class in the standard library by including\n",
    "# a simple import statement at the top of your file. Let’s look at one class,\n",
    "# OrderedDict, from the module collections."
   ]
  },
  {
   "cell_type": "code",
   "execution_count": 11,
   "metadata": {},
   "outputs": [],
   "source": [
    "# Dictionaries allow you to connect pieces of information, but they don’t\n",
    "# keep track of the order in which you add key-value pairs. If you’re creating\n",
    "# a dictionary and want to keep track of the order in which key-value pairs\n",
    "# are added, you can use the OrderedDict class from the collections module.\n",
    "# Instances of the OrderedDict class behave almost exactly like dictionaries\n",
    "# except they keep track of the order in which key-value pairs are added."
   ]
  },
  {
   "cell_type": "code",
   "execution_count": 13,
   "metadata": {},
   "outputs": [
    {
     "name": "stdout",
     "output_type": "stream",
     "text": [
      "Jen's favorite language is Python.\n",
      "Sarah's favorite language is C.\n",
      "Edward's favorite language is Ruby.\n",
      "Phil's favorite language is Python.\n"
     ]
    }
   ],
   "source": [
    "from collections import OrderedDict\n",
    "\n",
    "favorite_languages = OrderedDict()\n",
    "\n",
    "favorite_languages['jen'] = 'python'\n",
    "favorite_languages['sarah'] = 'c'\n",
    "favorite_languages['edward'] = 'ruby'\n",
    "favorite_languages['phil'] = 'python'\n",
    "for name, language in favorite_languages.items():\n",
    " print(name.title() + \"'s favorite language is \" +\n",
    " language.title() + \".\")"
   ]
  },
  {
   "cell_type": "code",
   "execution_count": 14,
   "metadata": {},
   "outputs": [],
   "source": [
    "# Dice"
   ]
  },
  {
   "cell_type": "code",
   "execution_count": 21,
   "metadata": {},
   "outputs": [],
   "source": [
    "from random import randint\n",
    "x = randint(1,6)"
   ]
  },
  {
   "cell_type": "code",
   "execution_count": 22,
   "metadata": {},
   "outputs": [
    {
     "data": {
      "text/plain": [
       "1"
      ]
     },
     "execution_count": 22,
     "metadata": {},
     "output_type": "execute_result"
    }
   ],
   "source": [
    "x"
   ]
  },
  {
   "cell_type": "code",
   "execution_count": 26,
   "metadata": {},
   "outputs": [],
   "source": [
    "class Die():\n",
    "    def __init__(self, sides=6):\n",
    "        self.sides = sides\n",
    "    \n",
    "    def roll_die(self):\n",
    "        return randint(1, self.sides)\n",
    "\n"
   ]
  },
  {
   "cell_type": "code",
   "execution_count": 27,
   "metadata": {},
   "outputs": [
    {
     "name": "stdout",
     "output_type": "stream",
     "text": [
      "[6, 5, 2, 3, 2, 5, 3, 5, 2, 6]\n"
     ]
    }
   ],
   "source": [
    "d6 = Die()\n",
    "\n",
    "results = []\n",
    "\n",
    "for roll_num in range(10):\n",
    "    results.append(d6.roll_die())\n",
    "\n",
    "print(results)"
   ]
  },
  {
   "cell_type": "code",
   "execution_count": 29,
   "metadata": {},
   "outputs": [
    {
     "name": "stdout",
     "output_type": "stream",
     "text": [
      "[8, 3, 5, 6, 4, 1, 6, 5, 4, 5]\n"
     ]
    }
   ],
   "source": [
    "d10 = Die(sides=10)\n",
    "\n",
    "results = []\n",
    "\n",
    "for roll_num in range(10):\n",
    "    results.append(d10.roll_die())\n",
    "\n",
    "print(results)"
   ]
  },
  {
   "cell_type": "code",
   "execution_count": null,
   "metadata": {},
   "outputs": [],
   "source": []
  }
 ],
 "metadata": {
  "kernelspec": {
   "display_name": "Python 3",
   "language": "python",
   "name": "python3"
  },
  "language_info": {
   "codemirror_mode": {
    "name": "ipython",
    "version": 3
   },
   "file_extension": ".py",
   "mimetype": "text/x-python",
   "name": "python",
   "nbconvert_exporter": "python",
   "pygments_lexer": "ipython3",
   "version": "3.7.6"
  }
 },
 "nbformat": 4,
 "nbformat_minor": 4
}
