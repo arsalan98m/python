{
 "cells": [
  {
   "cell_type": "code",
   "execution_count": 1,
   "metadata": {},
   "outputs": [],
   "source": [
    "# Object-oriented programming is one of the\n",
    "# most effective approaches to writing soft-\n",
    "# ware. In object-oriented programming you\n",
    "# write classes that represent real-world things\n",
    "# and situations, and you create objects based on these\n",
    "# classes. When you write a class, you define the general\n",
    "# behavior that a whole category of objects can have"
   ]
  },
  {
   "cell_type": "markdown",
   "metadata": {},
   "source": [
    "## Creating and Using a Class"
   ]
  },
  {
   "cell_type": "code",
   "execution_count": 2,
   "metadata": {},
   "outputs": [],
   "source": [
    "# Creating the Dog Class"
   ]
  },
  {
   "cell_type": "code",
   "execution_count": 3,
   "metadata": {},
   "outputs": [],
   "source": [
    "# Each instance created from the Dog class will store a name and an age , and\n",
    "# we’ll give each dog the ability to sit() and roll_over() :"
   ]
  },
  {
   "cell_type": "code",
   "execution_count": 15,
   "metadata": {},
   "outputs": [],
   "source": [
    "class Dog():\n",
    "    def __init__(self,name,age):\n",
    "        self.name = name\n",
    "        self.age = age\n",
    "    \n",
    "    def sit(self):\n",
    "        print(self.name.title() +\" is now sitting.\")\n",
    "    def roll_over(self):\n",
    "        print(self.name.title() + \" rolled over!\")"
   ]
  },
  {
   "cell_type": "markdown",
   "metadata": {},
   "source": [
    "### Making an Instance from a Class"
   ]
  },
  {
   "cell_type": "code",
   "execution_count": 16,
   "metadata": {},
   "outputs": [],
   "source": [
    "# Think of a class as a set of instructions for how to make an instance. The\n",
    "# class Dog is a set of instructions that tells Python how to make individual\n",
    "# instances representing specific dogs"
   ]
  },
  {
   "cell_type": "code",
   "execution_count": 17,
   "metadata": {},
   "outputs": [
    {
     "name": "stdout",
     "output_type": "stream",
     "text": [
      "My dog's name is Willie\n",
      "My dog is 6 years old.\n"
     ]
    }
   ],
   "source": [
    "# Let’s make an instance representing a specific dog:\n",
    "\n",
    "my_dog = Dog('willie', 6)\n",
    "\n",
    "print(\"My dog's name is \"+ my_dog.name.title())\n",
    "print(\"My dog is \"+str(my_dog.age) + \" years old.\")"
   ]
  },
  {
   "cell_type": "code",
   "execution_count": 18,
   "metadata": {},
   "outputs": [],
   "source": [
    "# Accessing Attributes\n",
    "# To access the attributes of an instance, you use dot notation."
   ]
  },
  {
   "cell_type": "code",
   "execution_count": 19,
   "metadata": {},
   "outputs": [
    {
     "data": {
      "text/plain": [
       "'willie'"
      ]
     },
     "execution_count": 19,
     "metadata": {},
     "output_type": "execute_result"
    }
   ],
   "source": [
    "my_dog.name"
   ]
  },
  {
   "cell_type": "code",
   "execution_count": 20,
   "metadata": {},
   "outputs": [],
   "source": [
    "# Calling Methods\n",
    "# After we create an instance from the class Dog , we can use dot notation to\n",
    "# call any method defined in Dog . Let’s make our dog sit and roll over:"
   ]
  },
  {
   "cell_type": "code",
   "execution_count": 21,
   "metadata": {},
   "outputs": [
    {
     "name": "stdout",
     "output_type": "stream",
     "text": [
      "Willie is now sitting.\n"
     ]
    }
   ],
   "source": [
    "my_dog.sit()"
   ]
  },
  {
   "cell_type": "code",
   "execution_count": 22,
   "metadata": {},
   "outputs": [
    {
     "name": "stdout",
     "output_type": "stream",
     "text": [
      "Willie rolled over!\n"
     ]
    }
   ],
   "source": [
    "my_dog.roll_over()"
   ]
  },
  {
   "cell_type": "code",
   "execution_count": 24,
   "metadata": {},
   "outputs": [],
   "source": [
    "# Creating Multiple Instances\n",
    "\n",
    "# You can create as many instances from a class as you need. Let’s create a\n",
    "# second dog called your_dog :"
   ]
  },
  {
   "cell_type": "code",
   "execution_count": 25,
   "metadata": {},
   "outputs": [],
   "source": [
    "my_dog = Dog('willie', 6)\n",
    "your_dog = Dog('lucy', 3)"
   ]
  },
  {
   "cell_type": "code",
   "execution_count": 26,
   "metadata": {},
   "outputs": [
    {
     "name": "stdout",
     "output_type": "stream",
     "text": [
      "My dog's name is Willie.\n",
      "My dog is 6 years old.\n",
      "Willie is now sitting.\n",
      "\n",
      "Your dog's name is Lucy.\n",
      "Your dog is 3 years old.\n",
      "Lucy is now sitting.\n"
     ]
    }
   ],
   "source": [
    "print(\"My dog's name is \" + my_dog.name.title() + \".\")\n",
    "print(\"My dog is \" + str(my_dog.age) + \" years old.\")\n",
    "my_dog.sit()\n",
    "\n",
    "\n",
    "print(\"\\nYour dog's name is \" + your_dog.name.title() + \".\")\n",
    "print(\"Your dog is \" + str(your_dog.age) + \" years old.\")\n",
    "your_dog.sit()"
   ]
  },
  {
   "cell_type": "markdown",
   "metadata": {},
   "source": [
    "### Exercise: 1"
   ]
  },
  {
   "cell_type": "markdown",
   "metadata": {},
   "source": [
    "**9-1.** Restaurant: Make a class called Restaurant . The __init__() method for\n",
    "Restaurant should store two attributes: a restaurant_name and a cuisine_type .\n",
    "Make a method called describe_restaurant() that prints these two pieces of\n",
    "information, and a method called open_restaurant() that prints a message indi-\n",
    "cating that the restaurant is open.\n",
    "Make an instance called restaurant from your class. Print the two attri-\n",
    "butes individually, and then call both methods"
   ]
  },
  {
   "cell_type": "code",
   "execution_count": 48,
   "metadata": {},
   "outputs": [],
   "source": [
    "class Restaurant():\n",
    "    def __init__(self,restaurant_name, cuisine_type):\n",
    "        self.restaurant_name = restaurant_name\n",
    "        self.cuisine_type = cuisine_type\n",
    "    \n",
    "    def describe_restaurants(self):\n",
    "        print(self.restaurant_name+ \" is serves wonderful \"+self.cuisine_type)\n",
    "    def open_restaurants(self):\n",
    "        print(self.restaurant_name +\" is open. come in!\")"
   ]
  },
  {
   "cell_type": "code",
   "execution_count": 49,
   "metadata": {},
   "outputs": [],
   "source": [
    "my_restaurant = Restaurant('mazeedar', 'nihari')"
   ]
  },
  {
   "cell_type": "code",
   "execution_count": 50,
   "metadata": {},
   "outputs": [
    {
     "data": {
      "text/plain": [
       "'mazeedar'"
      ]
     },
     "execution_count": 50,
     "metadata": {},
     "output_type": "execute_result"
    }
   ],
   "source": [
    "my_restaurant.restaurant_name"
   ]
  },
  {
   "cell_type": "code",
   "execution_count": 51,
   "metadata": {},
   "outputs": [
    {
     "data": {
      "text/plain": [
       "'nihari'"
      ]
     },
     "execution_count": 51,
     "metadata": {},
     "output_type": "execute_result"
    }
   ],
   "source": [
    "my_restaurant.cuisine_type"
   ]
  },
  {
   "cell_type": "code",
   "execution_count": 52,
   "metadata": {},
   "outputs": [
    {
     "name": "stdout",
     "output_type": "stream",
     "text": [
      "mazeedar is serves wonderful nihari\n"
     ]
    }
   ],
   "source": [
    "my_restaurant.describe_restaurants()"
   ]
  },
  {
   "cell_type": "code",
   "execution_count": 53,
   "metadata": {},
   "outputs": [
    {
     "name": "stdout",
     "output_type": "stream",
     "text": [
      "mazeedar is open. come in!\n"
     ]
    }
   ],
   "source": [
    "my_restaurant.open_restaurants()"
   ]
  },
  {
   "cell_type": "markdown",
   "metadata": {},
   "source": [
    "**9-2.** Three Restaurants: Start with your class from Exercise 9-1. Create three\n",
    "different instances from the class, and call describe_restaurant() for each\n",
    "instance."
   ]
  },
  {
   "cell_type": "code",
   "execution_count": 54,
   "metadata": {},
   "outputs": [
    {
     "name": "stdout",
     "output_type": "stream",
     "text": [
      "karachi haleem is serves wonderful haleem\n",
      "jawaird nihari is serves wonderful nihari\n",
      "mazedaar foods is serves wonderful biryani\n"
     ]
    }
   ],
   "source": [
    "restaurant_1 = Restaurant('karachi haleem' ,'haleem')\n",
    "restaurant_1.describe_restaurants()\n",
    "\n",
    "restaurant_2 = Restaurant('jawaird nihari', 'nihari')\n",
    "restaurant_2.describe_restaurants()\n",
    "\n",
    "restaurant_3 = Restaurant('mazedaar foods', 'biryani')\n",
    "restaurant_3.describe_restaurants()"
   ]
  },
  {
   "cell_type": "markdown",
   "metadata": {},
   "source": [
    "**9-3.** Users: Make a class called User . Create two attributes called first_name\n",
    "and last_name , and then create several other attributes that are typically stored\n",
    "in a user profile. Make a method called describe_user() that prints a summary\n",
    "of the user’s information. Make another method called greet_user() that prints\n",
    "a personalized greeting to the user.\n",
    "Create several instances representing different users, and call both methods\n",
    "for each user."
   ]
  },
  {
   "cell_type": "code",
   "execution_count": 61,
   "metadata": {},
   "outputs": [],
   "source": [
    "class User():\n",
    "    def __init__(self,first_name,last_name,username,location):\n",
    "        self.first_name = first_name\n",
    "        self.last_name = last_name\n",
    "        self.username = username\n",
    "        self.location = location\n",
    "        \n",
    "    def describe_user(self):\n",
    "        print(\"\\n\"+ self.first_name.title()+\" \"+self.last_name.title())\n",
    "        print(\" Username: \"+self.username)\n",
    "        print(\" Location: \"+self.location)\n",
    "    def greet_user(self):\n",
    "        print(\"\\nHello, \"+self.username+\" !\")\n",
    "        "
   ]
  },
  {
   "cell_type": "code",
   "execution_count": 62,
   "metadata": {},
   "outputs": [
    {
     "name": "stdout",
     "output_type": "stream",
     "text": [
      "\n",
      "Arsalan Manzoor\n",
      " Username: arsalan11\n",
      " Location: karachi\n",
      "\n",
      "Hello, arsalan11 !\n"
     ]
    }
   ],
   "source": [
    "user_1 = User('arsalan','manzoor','arsalan11','karachi')\n",
    "user_1.describe_user()\n",
    "user_1.greet_user()"
   ]
  },
  {
   "cell_type": "code",
   "execution_count": 63,
   "metadata": {},
   "outputs": [
    {
     "name": "stdout",
     "output_type": "stream",
     "text": [
      "\n",
      "Abid Khan\n",
      " Username: abid90\n",
      " Location: lahore\n",
      "\n",
      "Hello, abid90 !\n"
     ]
    }
   ],
   "source": [
    "user_2 = User('abid','khan','abid90','lahore')\n",
    "user_2.describe_user()\n",
    "user_2.greet_user()"
   ]
  },
  {
   "cell_type": "code",
   "execution_count": null,
   "metadata": {},
   "outputs": [],
   "source": []
  }
 ],
 "metadata": {
  "kernelspec": {
   "display_name": "Python 3",
   "language": "python",
   "name": "python3"
  },
  "language_info": {
   "codemirror_mode": {
    "name": "ipython",
    "version": 3
   },
   "file_extension": ".py",
   "mimetype": "text/x-python",
   "name": "python",
   "nbconvert_exporter": "python",
   "pygments_lexer": "ipython3",
   "version": "3.7.6"
  }
 },
 "nbformat": 4,
 "nbformat_minor": 4
}
