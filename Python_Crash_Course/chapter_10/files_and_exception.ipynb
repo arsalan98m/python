{
 "cells": [
  {
   "cell_type": "code",
   "execution_count": 1,
   "metadata": {},
   "outputs": [],
   "source": [
    "# In this  chapter You’ll learn to handle errors so your programs don’t crash when they\n",
    "# encounter unexpected situations. You’ll learn about exceptions, which are\n",
    "# special objects Python creates to manage errors that arise while a program\n",
    "# is running. You’ll also learn about the json module, which allows you to save\n",
    "# user data so it isn’t lost when your program stops running."
   ]
  },
  {
   "cell_type": "markdown",
   "metadata": {},
   "source": [
    "### Reading from a File"
   ]
  },
  {
   "cell_type": "code",
   "execution_count": 2,
   "metadata": {},
   "outputs": [],
   "source": [
    "# An incredible amount of data is available in text files. Text files can contain weather data, traffic data, socioeconomic data, literary works, and\n",
    "# more. Reading from a file is particularly useful in data analysis applications, but it’s also applicable to any situation in which you want to analyze or modify information stored in a file. For example, you can write a\n",
    "# program that reads in the contents of a text file and rewrites the file with\n",
    "# formatting that allows a browser to display it.\n",
    "# When you want to work with the information in a text file, the first step\n",
    "# is to read the file into memory. You can read the entire contents of a file, or\n",
    "# you can work through the file one line at a time."
   ]
  },
  {
   "cell_type": "code",
   "execution_count": 2,
   "metadata": {},
   "outputs": [
    {
     "name": "stdout",
     "output_type": "stream",
     "text": [
      "3.1415926535\n",
      " 8979323846\n",
      " 2643383279\n"
     ]
    }
   ],
   "source": [
    "# The first line of this program has a lot going on. Let’s start by looking\n",
    "# at the open() function. To do any work with a file, even just printing its contents, you first need to open the file to access it. The open() function needs\n",
    "# one argument: the name of the file you want to open. Python looks for this\n",
    "# file in the directory where the program that’s currently being executed is\n",
    "# stored. \n",
    "\n",
    "with open('pi_digits.txt') as file_object:\n",
    "    contents = file_object.read()\n",
    "    print(contents)"
   ]
  },
  {
   "cell_type": "code",
   "execution_count": 3,
   "metadata": {},
   "outputs": [
    {
     "name": "stdout",
     "output_type": "stream",
     "text": [
      "3.1415926535\n",
      " 8979323846\n",
      " 2643383279\n"
     ]
    }
   ],
   "source": [
    "# The only difference between this output and the original file is the\n",
    "# extra blank line at the end of the output. The blank line appears because\n",
    "# read() returns an empty string when it reaches the end of the file; this empty\n",
    "# string shows up as a blank line. If you want to remove the extra blank line,\n",
    "# you can use rstrip() in the print statement:\n",
    "\n",
    "\n",
    "with open('pi_digits.txt') as file_object:\n",
    "    contents = file_object.read()\n",
    "    print(contents.rstrip())\n",
    "\n"
   ]
  },
  {
   "cell_type": "markdown",
   "metadata": {},
   "source": [
    "### Reading Line by Line"
   ]
  },
  {
   "cell_type": "code",
   "execution_count": 4,
   "metadata": {},
   "outputs": [],
   "source": [
    "# When you’re reading a file, you’ll often want to examine each line of the file.\n",
    "# You might be looking for certain information in the file, or you might want to\n",
    "# modify the text in the file in some way. For example, you might want to read\n",
    "# through a file of weather data and work with any line that includes the word\n",
    "# sunny in the description of that day’s weather. In a news report, you might\n",
    "# look for any line with the tag <headline> and rewrite that line with a specific\n",
    "# kind of formatting.\n",
    "# You can use a for loop on the file object to examine each line from a\n",
    "# file one at a time:"
   ]
  },
  {
   "cell_type": "code",
   "execution_count": 7,
   "metadata": {},
   "outputs": [
    {
     "name": "stdout",
     "output_type": "stream",
     "text": [
      "3.1415926535\n",
      "\n",
      " 8979323846\n",
      "\n",
      " 2643383279\n"
     ]
    }
   ],
   "source": [
    "file_name= 'pi_digits.txt'\n",
    "\n",
    "with open(file_name) as file_object:\n",
    "    for line in file_object:\n",
    "        print(line)"
   ]
  },
  {
   "cell_type": "code",
   "execution_count": 8,
   "metadata": {},
   "outputs": [],
   "source": [
    "# These blank lines appear because an invisible newline character is\n",
    "# at the end of each line in the text file. The print statement adds its own\n",
    "# newline each time we call it, so we end up with two newline characters at\n",
    "# the end of each line: one from the file and one from the print statement.\n",
    "# Using rstrip() on each line in the print statement eliminates these extra\n",
    "# blank lines:"
   ]
  },
  {
   "cell_type": "code",
   "execution_count": 9,
   "metadata": {},
   "outputs": [
    {
     "name": "stdout",
     "output_type": "stream",
     "text": [
      "3.1415926535\n",
      " 8979323846\n",
      " 2643383279\n"
     ]
    }
   ],
   "source": [
    "file_name= 'pi_digits.txt'\n",
    "\n",
    "with open(file_name) as file_object:\n",
    "    for line in file_object:\n",
    "        print(line.rstrip())"
   ]
  },
  {
   "cell_type": "markdown",
   "metadata": {},
   "source": [
    "### Making a List of Lines from a File"
   ]
  },
  {
   "cell_type": "code",
   "execution_count": 10,
   "metadata": {},
   "outputs": [],
   "source": [
    "# When you use with, the file object returned by open() is only available inside\n",
    "# the with block that contains it. If you want to retain access to a file’s contents\n",
    "# outside the with block, you can store the file’s lines in a list inside the block\n",
    "# and then work with that list. You can process parts of the file immediately\n",
    "# and postpone some processing for later in the program"
   ]
  },
  {
   "cell_type": "code",
   "execution_count": 11,
   "metadata": {},
   "outputs": [
    {
     "name": "stdout",
     "output_type": "stream",
     "text": [
      "['3.1415926535\\n', ' 8979323846\\n', ' 2643383279']\n"
     ]
    }
   ],
   "source": [
    "# The following example stores the lines of pi_digits.txt in a list inside the\n",
    "# with block and then prints the lines outside the with block:\n",
    "\n",
    "file_name = \"pi_digits.txt\"\n",
    "\n",
    "with open(file_name) as file_object:\n",
    "    lines = file_object.readlines()\n",
    "    print(lines)"
   ]
  },
  {
   "cell_type": "code",
   "execution_count": 12,
   "metadata": {},
   "outputs": [
    {
     "name": "stdout",
     "output_type": "stream",
     "text": [
      "['3.1415926535\\n', ' 8979323846\\n', ' 2643383279']\n",
      "3.1415926535\n",
      "\n",
      " 8979323846\n",
      "\n",
      " 2643383279\n"
     ]
    }
   ],
   "source": [
    "file_name = \"pi_digits.txt\"\n",
    "\n",
    "with open(file_name) as file_object:\n",
    "    lines = file_object.readlines()\n",
    "    print(lines)\n",
    "\n",
    "for line in lines:\n",
    "    print(line)"
   ]
  },
  {
   "cell_type": "markdown",
   "metadata": {},
   "source": [
    "### Working with a File’s Contents"
   ]
  },
  {
   "cell_type": "code",
   "execution_count": 13,
   "metadata": {},
   "outputs": [],
   "source": [
    "# After you’ve read a file into memory, you can do whatever you want with\n",
    "# that data, so let’s briefly explore the digits of pi. First, we’ll attempt to build\n",
    "# a single string containing all the digits in the file with no whitespace in it:"
   ]
  },
  {
   "cell_type": "code",
   "execution_count": 17,
   "metadata": {},
   "outputs": [
    {
     "name": "stdout",
     "output_type": "stream",
     "text": [
      "3.141592653589793238462643383279\n",
      "32\n"
     ]
    }
   ],
   "source": [
    "file_name = \"pi_digits.txt\"\n",
    "\n",
    "with open(file_name) as file_object:\n",
    "    lines = file_object.readlines()\n",
    "    \n",
    "    \n",
    "pi_string = ''\n",
    "\n",
    "# The variable pi_string contains the whitespace that was on the left side\n",
    "# of the digits in each line, but we can get rid of that by using strip() instead\n",
    "# of rstrip():\n",
    "\n",
    "for line in lines:\n",
    "    pi_string += line.strip()\n",
    "    \n",
    "print(pi_string)\n",
    "print(len(pi_string))"
   ]
  },
  {
   "cell_type": "code",
   "execution_count": 18,
   "metadata": {},
   "outputs": [],
   "source": [
    "# e When Python reads from a text file, it interprets all text in the file as a string. If you\n",
    "# read in a number and want to work with that value in a numerical context, you’ll\n",
    "# have to convert it to an integer using the int() function or convert it to a float using\n",
    "# the float() function."
   ]
  },
  {
   "cell_type": "markdown",
   "metadata": {},
   "source": [
    "### Large Files: One Million Digits"
   ]
  },
  {
   "cell_type": "code",
   "execution_count": 19,
   "metadata": {},
   "outputs": [],
   "source": [
    "# So far we’ve focused on analyzing a text file that contains only three lines,\n",
    "# but the code in these examples would work just as well on much larger\n",
    "# files. If we start with a text file that contains pi to 1,000,000 decimal places\n",
    "# instead of just 30, we can create a single string containing all these digits.\n",
    "# We don’t need to change our program at all except to pass it a different file.\n",
    "# We’ll also print just the first 50 decimal places, so we don’t have to watch a\n",
    "# million digits scroll by in the terminal:"
   ]
  },
  {
   "cell_type": "code",
   "execution_count": 20,
   "metadata": {},
   "outputs": [
    {
     "name": "stdout",
     "output_type": "stream",
     "text": [
      "3.1415926535897932384626433832793.141592653589793238....\n",
      "512\n"
     ]
    }
   ],
   "source": [
    "file_name = \"pi_million_digits.txt\"\n",
    "\n",
    "\n",
    "with open(file_name) as file_object:\n",
    "    lines = file_object.readlines()\n",
    "    \n",
    "pi_string = \"\"\n",
    "\n",
    "for line in lines:\n",
    "    pi_string += line.strip()\n",
    "    \n",
    "print(pi_string[:52] +\"....\")\n",
    "print(len(pi_string))"
   ]
  },
  {
   "cell_type": "code",
   "execution_count": 21,
   "metadata": {},
   "outputs": [],
   "source": [
    "# Python has no inherent limit to how much data you can work with; you\n",
    "# can work with as much data as your system’s memory can handle"
   ]
  },
  {
   "cell_type": "markdown",
   "metadata": {},
   "source": [
    "### Is Your Birthday Contained in Pi?"
   ]
  },
  {
   "cell_type": "code",
   "execution_count": 22,
   "metadata": {},
   "outputs": [],
   "source": [
    "# I’ve always been curious to know if my birthday appears anywhere in the\n",
    "# digits of pi. Let’s use the program we just wrote to find out if someone’s\n",
    "# birthday appears anywhere in the first million digits of pi. We can do this\n",
    "# by expressing each birthday as a string of digits and seeing if that string\n",
    "# appears anywhere in pi_string:"
   ]
  },
  {
   "cell_type": "code",
   "execution_count": 23,
   "metadata": {},
   "outputs": [
    {
     "name": "stdout",
     "output_type": "stream",
     "text": [
      "Enter your birthday, in the for mmddyy: 111598\n",
      "Your birthday appears in the first million digits of pi!\n"
     ]
    }
   ],
   "source": [
    "file_name = \"pi_million_digits.txt\"\n",
    "\n",
    "\n",
    "with open(file_name) as file_object:\n",
    "    lines = file_object.readlines()\n",
    "    \n",
    "pi_string = \"\"\n",
    "\n",
    "for line in lines:\n",
    "    pi_string += line.rstrip()\n",
    "    \n",
    "birthday = input(\"Enter your birthday, in the for mmddyy: \")\n",
    "\n",
    "if birthday in pi_string:\n",
    "    print(\"Your birthday appears in the first million digits of pi!\")\n",
    "else:\n",
    "    print(\"Your birthday does not appear in the first million digits of pi.\")\n"
   ]
  },
  {
   "cell_type": "markdown",
   "metadata": {},
   "source": [
    "### Exercise # 1"
   ]
  },
  {
   "cell_type": "markdown",
   "metadata": {},
   "source": [
    "**10-1.** Learning Python: Open a blank file in your text editor and write a few\n",
    "lines summarizing what you’ve learned about Python so far. Start each line\n",
    "with the phrase In Python you can.... Save the file as learning_python.txt in the\n",
    "same directory as your exercises from this chapter. Write a program that reads\n",
    "the file and prints what you wrote three times. Print the contents once by reading in the entire file, once by looping over the file object, and once by storing\n",
    "the lines in a list and then working with them outside the with block."
   ]
  },
  {
   "cell_type": "code",
   "execution_count": 1,
   "metadata": {},
   "outputs": [
    {
     "name": "stdout",
     "output_type": "stream",
     "text": [
      "Python is very friendly programming language\n",
      "Python zindabad yeehhhhhh\n",
      "Python syntax is very simple\n"
     ]
    }
   ],
   "source": [
    "# Reading in the entire files\n",
    "\n",
    "file_name = \"learning_python.txt\"\n",
    "\n",
    "with open(file_name) as file_obj:\n",
    "    contents = file_obj.read()\n",
    "    print(contents)\n",
    "    "
   ]
  },
  {
   "cell_type": "code",
   "execution_count": 6,
   "metadata": {},
   "outputs": [
    {
     "name": "stdout",
     "output_type": "stream",
     "text": [
      "Python is very friendly programming language\n",
      "Python zindabad yeehhhhhh\n",
      "Python syntax is very simple\n"
     ]
    }
   ],
   "source": [
    "# Looping over the lines\n",
    "\n",
    "file_name = \"learning_python.txt\"\n",
    "\n",
    "with open(file_name) as file_obj:\n",
    "    for content in file_obj:\n",
    "        print(content.strip())"
   ]
  },
  {
   "cell_type": "code",
   "execution_count": 7,
   "metadata": {},
   "outputs": [
    {
     "name": "stdout",
     "output_type": "stream",
     "text": [
      "Python is very friendly programming language\n",
      "Python zindabad yeehhhhhh\n",
      "Python syntax is very simple\n"
     ]
    }
   ],
   "source": [
    "# Storing the lines in a list\n",
    "\n",
    "file_name = \"learning_python.txt\"\n",
    "\n",
    "with open(file_name) as file_obj:\n",
    "    lines = file_obj.readlines()\n",
    "    \n",
    "for line in lines:\n",
    "    print(line.strip())\n",
    "    "
   ]
  },
  {
   "cell_type": "markdown",
   "metadata": {},
   "source": [
    "**10-2.** Learning C: You can use the replace() method to replace any word in a\n",
    "string with a different word. Here’s a quick example showing how to replace\n",
    "'dog' with 'cat' in a sentence:"
   ]
  },
  {
   "cell_type": "code",
   "execution_count": 8,
   "metadata": {},
   "outputs": [
    {
     "data": {
      "text/plain": [
       "'I really like cats'"
      ]
     },
     "execution_count": 8,
     "metadata": {},
     "output_type": "execute_result"
    }
   ],
   "source": [
    "message = \"I really like dogs\"\n",
    "message.replace(\"dog\", \"cat\") ## this does't change permanently we can store it another variable"
   ]
  },
  {
   "cell_type": "code",
   "execution_count": 9,
   "metadata": {},
   "outputs": [
    {
     "data": {
      "text/plain": [
       "'I really like dogs'"
      ]
     },
     "execution_count": 9,
     "metadata": {},
     "output_type": "execute_result"
    }
   ],
   "source": [
    "message"
   ]
  },
  {
   "cell_type": "code",
   "execution_count": 24,
   "metadata": {},
   "outputs": [
    {
     "name": "stdout",
     "output_type": "stream",
     "text": [
      "C is very friendly programming language\n",
      "C zindabad yeehhhhhh\n",
      "C syntax is very simple\n"
     ]
    }
   ],
   "source": [
    "file_name = \"learning_python.txt\"\n",
    "\n",
    "with open(file_name) as file_obj:\n",
    "    lines = file_obj.readlines()\n",
    "    \n",
    "for line in lines:\n",
    "    line = line.strip()\n",
    "    print(line.replace(\"Python\", \"C\"))"
   ]
  },
  {
   "cell_type": "markdown",
   "metadata": {},
   "source": [
    "### Writing to a File"
   ]
  },
  {
   "cell_type": "code",
   "execution_count": 10,
   "metadata": {},
   "outputs": [],
   "source": [
    "# One of the simplest ways to save data is to write it to a file. When you write\n",
    "# text to a file, the output will still be available after you close the terminal\n",
    "# containing your program’s output. You can examine output after a program\n",
    "# finishes running, and you can share the output files with others as well. You\n",
    "# can also write programs that read the text back into memory and work with\n",
    "# it again later."
   ]
  },
  {
   "cell_type": "markdown",
   "metadata": {},
   "source": [
    "#### Writing to an Empty File"
   ]
  },
  {
   "cell_type": "code",
   "execution_count": 11,
   "metadata": {},
   "outputs": [],
   "source": [
    "# To write text to a file, you need to call open() with a second argument telling\n",
    "# Python that you want to write to the file. To see how this works, let’s write a\n",
    "# simple message and store it in a file instead of printing it to the screen:"
   ]
  },
  {
   "cell_type": "code",
   "execution_count": 12,
   "metadata": {},
   "outputs": [],
   "source": [
    "\n",
    "# The call to open() in this example has two arguments u. The first argument is still the name of the file we want to open. The second argument, 'w',\n",
    "# tells Python that we want to open the file in write mode. You can open a file \n",
    "# in read mode ('r'), write mode ('w'), append mode ('a'), or a mode that allows\n",
    "# you to read and write to the file ('r+'). If you omit the mode argument,\n",
    "# Python opens the file in read-only mode by default\n",
    "\n",
    "file_name = \"programming.txt\"\n",
    "\n",
    "with open(file_name, \"w\") as file_object:\n",
    "    file_object.write(\"I love programming\")"
   ]
  },
  {
   "cell_type": "code",
   "execution_count": 13,
   "metadata": {},
   "outputs": [],
   "source": [
    "# The open() function automatically creates the file you’re writing to if it\n",
    "# doesn’t already exist. However, be careful opening a file in write mode ('w')\n",
    "# because if the file does exist, Python will erase the file before returning the\n",
    "# file object"
   ]
  },
  {
   "cell_type": "code",
   "execution_count": 14,
   "metadata": {},
   "outputs": [],
   "source": [
    "# Python can only write strings to a text file. If you want to store numerical data in a\n",
    "# text file, you’ll have to convert the data to string format first using the str() function"
   ]
  },
  {
   "cell_type": "markdown",
   "metadata": {},
   "source": [
    "### Writing Multiple Lines"
   ]
  },
  {
   "cell_type": "code",
   "execution_count": 15,
   "metadata": {},
   "outputs": [],
   "source": [
    "# The write() function doesn’t add any newlines to the text you write. So if\n",
    "# you write more than one line without including newline characters, your\n",
    "# file may not look the way you want it to:"
   ]
  },
  {
   "cell_type": "code",
   "execution_count": 16,
   "metadata": {},
   "outputs": [],
   "source": [
    "file_name = \"programming.txt\"\n",
    "\n",
    "with open(file_name, \"w\") as file_object:\n",
    "    file_object.write(\"I love programming\")\n",
    "    file_object.write(\"I love creating new games.\")"
   ]
  },
  {
   "cell_type": "code",
   "execution_count": 17,
   "metadata": {},
   "outputs": [],
   "source": [
    "# If you open programming.txt, you’ll see the two lines squished together:"
   ]
  },
  {
   "cell_type": "code",
   "execution_count": 19,
   "metadata": {},
   "outputs": [],
   "source": [
    "# Including newlines in your write() statements makes each string appear\n",
    "# on its own line:\n",
    "\n",
    "file_name = \"programming.txt\"\n",
    "\n",
    "with open(file_name, \"w\") as file_object:\n",
    "    file_object.write(\"I love programming\\n\")\n",
    "    file_object.write(\"I love creating new games.\\n\")\n",
    "    \n",
    "# You can also use spaces, tab characters, and blank lines to format your\n",
    "# output, just as you’ve been doing with terminal-based output."
   ]
  },
  {
   "cell_type": "markdown",
   "metadata": {},
   "source": [
    "### Appending to a File"
   ]
  },
  {
   "cell_type": "code",
   "execution_count": 20,
   "metadata": {},
   "outputs": [],
   "source": [
    "# If you want to add content to a file instead of writing over existing content,\n",
    "# you can open the file in append mode. When you open a file in append mode,\n",
    "# Python doesn’t erase the file before returning the file object. Any lines you\n",
    "# write to the file will be added at the end of the file. If the file doesn’t exist\n",
    "# yet, Python will create an empty file for you. "
   ]
  },
  {
   "cell_type": "code",
   "execution_count": 21,
   "metadata": {},
   "outputs": [],
   "source": [
    "file_name = \"programming.txt\"\n",
    "\n",
    "with open(file_name, \"a\") as file_object:\n",
    "    file_object.write(\"I also love finding meadning in large datasets.\\n\")\n",
    "    file_object.write(\"I love creating apps that can run in a browser.\\n\")"
   ]
  },
  {
   "cell_type": "markdown",
   "metadata": {},
   "source": [
    "### Exercise # 2"
   ]
  },
  {
   "cell_type": "markdown",
   "metadata": {},
   "source": [
    "**10-3.** Guest:\n",
    "\n",
    "Write a program that prompts the user for their name. When they\n",
    "respond, write their name to a file called guest.txt."
   ]
  },
  {
   "cell_type": "code",
   "execution_count": 23,
   "metadata": {},
   "outputs": [
    {
     "name": "stdout",
     "output_type": "stream",
     "text": [
      "What is your namearsalan\n"
     ]
    }
   ],
   "source": [
    "\n",
    "\n",
    "file_name = \"guest.txt\"\n",
    "\n",
    "with open(file_name, \"w\") as file_object:\n",
    "    file_object.write(input(\"What is your name\"))"
   ]
  },
  {
   "cell_type": "markdown",
   "metadata": {},
   "source": [
    "**10-4.** Guest Book:\n",
    "\n",
    "Write a while loop that prompts users for their name. When\n",
    "they enter their name, print a greeting to the screen and add a line recording\n",
    "their visit in a file called guest_book.txt. Make sure each entry appears on a\n",
    "new line in the file."
   ]
  },
  {
   "cell_type": "code",
   "execution_count": 26,
   "metadata": {},
   "outputs": [
    {
     "name": "stdout",
     "output_type": "stream",
     "text": [
      "\n",
      "Enter your name (for quit prss q): arsalan\n",
      "Hi arsalan  yo've been added to the guest book\n",
      "\n",
      "Enter your name (for quit prss q): manzoor\n",
      "Hi manzoor  yo've been added to the guest book\n",
      "\n",
      "Enter your name (for quit prss q): bilal\n",
      "Hi bilal  yo've been added to the guest book\n",
      "\n",
      "Enter your name (for quit prss q): tahir\n",
      "Hi tahir  yo've been added to the guest book\n",
      "\n",
      "Enter your name (for quit prss q): q\n"
     ]
    }
   ],
   "source": [
    "file_name = \"guest_book.txt\"\n",
    "while True:\n",
    "    user = input(\"\\nEnter your name (for quit prss q): \")\n",
    "    \n",
    "    if user == \"q\":\n",
    "        break\n",
    "    \n",
    "    with open(file_name, \"a\") as file_object:\n",
    "        file_object.write(user+\"\\n\")\n",
    "        print(\"Hi\", user, \" yo've been added to the guest book\")\n",
    "    \n",
    "    "
   ]
  },
  {
   "cell_type": "markdown",
   "metadata": {},
   "source": [
    "**10-5.** Programming Poll:\n",
    "\n",
    "Write a while loop that asks people why they like\n",
    "programming. Each time someone enters a reason, add their reason to a file\n",
    "that stores all the responses."
   ]
  },
  {
   "cell_type": "code",
   "execution_count": 10,
   "metadata": {},
   "outputs": [
    {
     "name": "stdout",
     "output_type": "stream",
     "text": [
      "\n",
      "Why you like programming enter reason (for quit prss q): python is friendly programming langugae\n",
      "\n",
      "Why you like programming enter reason (for quit prss q): python is top programming langugae\n",
      "\n",
      "Why you like programming enter reason (for quit prss q): q\n",
      "['python is friendly programming langugae\\n', 'python is top programming langugae\\n']\n",
      "python is friendly programming langugae\n",
      "python is top programming langugae\n"
     ]
    }
   ],
   "source": [
    "file_name = \"reasons.txt\"\n",
    "while True:\n",
    "    reason = input(\"\\nWhy you like programming enter reason (for quit prss q): \")\n",
    "    \n",
    "    if reason == \"q\":\n",
    "        break\n",
    "    \n",
    "    with open(file_name, \"a\") as file_object:\n",
    "        file_object.write(reason+\"\\n\")\n",
    "        \n",
    "with open(file_name) as file_read:\n",
    "    contents = file_read.readlines()\n",
    "    print(contents)\n",
    "for content in contents:\n",
    "     print(content.strip())\n",
    "    \n",
    "    "
   ]
  },
  {
   "cell_type": "markdown",
   "metadata": {},
   "source": [
    "## Exceptions"
   ]
  },
  {
   "cell_type": "code",
   "execution_count": 11,
   "metadata": {},
   "outputs": [],
   "source": [
    "# Python uses special objects called exceptions to manage errors that arise during a program’s execution. Whenever an error occurs that makes Python\n",
    "# unsure what to do next, it creates an exception object. If you write code\n",
    "# that handles the exception, the program will continue running. If you don’t\n",
    "# handle the exception, the program will halt and show a traceback, which\n",
    "# includes a report of the exception that was raised"
   ]
  },
  {
   "cell_type": "code",
   "execution_count": 12,
   "metadata": {},
   "outputs": [],
   "source": [
    "# Exceptions are handled with try-except blocks. A try-except block asks\n",
    "# Python to do something, but it also tells Python what to do if an exception is raised. When you use try-except blocks, your programs will continue\n",
    "# running even if things start to go wrong. Instead of tracebacks, which can\n",
    "# be confusing for users to read, users will see friendly error messages that\n",
    "# you write."
   ]
  },
  {
   "cell_type": "markdown",
   "metadata": {},
   "source": [
    "### Handling the ZeroDivisionError Exception"
   ]
  },
  {
   "cell_type": "code",
   "execution_count": 13,
   "metadata": {},
   "outputs": [],
   "source": [
    "# Let’s look at a simple error that causes Python to raise an exception. You\n",
    "# probably know that it’s impossible to divide a number by zero, but let’s ask\n",
    "# Python to do it anyway:"
   ]
  },
  {
   "cell_type": "code",
   "execution_count": 14,
   "metadata": {},
   "outputs": [
    {
     "ename": "ZeroDivisionError",
     "evalue": "division by zero",
     "output_type": "error",
     "traceback": [
      "\u001b[0;31m---------------------------------------------------------------------------\u001b[0m",
      "\u001b[0;31mZeroDivisionError\u001b[0m                         Traceback (most recent call last)",
      "\u001b[0;32m<ipython-input-14-fad870a50e27>\u001b[0m in \u001b[0;36m<module>\u001b[0;34m\u001b[0m\n\u001b[0;32m----> 1\u001b[0;31m \u001b[0mprint\u001b[0m\u001b[0;34m(\u001b[0m\u001b[0;36m5\u001b[0m\u001b[0;34m/\u001b[0m\u001b[0;36m0\u001b[0m\u001b[0;34m)\u001b[0m\u001b[0;34m\u001b[0m\u001b[0;34m\u001b[0m\u001b[0m\n\u001b[0m",
      "\u001b[0;31mZeroDivisionError\u001b[0m: division by zero"
     ]
    }
   ],
   "source": [
    "print(5/0)"
   ]
  },
  {
   "cell_type": "markdown",
   "metadata": {},
   "source": [
    "### Using try-except Blocks"
   ]
  },
  {
   "cell_type": "code",
   "execution_count": 15,
   "metadata": {},
   "outputs": [],
   "source": [
    "# When you think an error may occur, you can write a try-except block to\n",
    "# handle the exception that might be raised. You tell Python to try running\n",
    "# some code, and you tell it what to do if the code results in a particular kind\n",
    "# of exception."
   ]
  },
  {
   "cell_type": "code",
   "execution_count": 16,
   "metadata": {},
   "outputs": [
    {
     "name": "stdout",
     "output_type": "stream",
     "text": [
      "You can't divide by zero!\n"
     ]
    }
   ],
   "source": [
    "try:\n",
    "    print(5/0)\n",
    "except ZeroDivisionError:\n",
    "    print(\"You can't divide by zero!\")"
   ]
  },
  {
   "cell_type": "markdown",
   "metadata": {},
   "source": [
    "### Using Exceptions to Prevent Crashes"
   ]
  },
  {
   "cell_type": "code",
   "execution_count": 17,
   "metadata": {},
   "outputs": [
    {
     "name": "stdout",
     "output_type": "stream",
     "text": [
      "Give me two numbers, and I'll divide them.\n",
      "Enter 'q' to quit.\n",
      "\n",
      "First number: 10\n",
      "\n",
      "Second number: 2\n",
      "5.0\n",
      "\n",
      "First number: 5/5\n",
      "\n",
      "Second number: 5/0\n"
     ]
    },
    {
     "ename": "ValueError",
     "evalue": "invalid literal for int() with base 10: '5/5'",
     "output_type": "error",
     "traceback": [
      "\u001b[0;31m---------------------------------------------------------------------------\u001b[0m",
      "\u001b[0;31mValueError\u001b[0m                                Traceback (most recent call last)",
      "\u001b[0;32m<ipython-input-17-50e2c3609b25>\u001b[0m in \u001b[0;36m<module>\u001b[0;34m\u001b[0m\n\u001b[1;32m     12\u001b[0m         \u001b[0;32mbreak\u001b[0m\u001b[0;34m\u001b[0m\u001b[0;34m\u001b[0m\u001b[0m\n\u001b[1;32m     13\u001b[0m \u001b[0;34m\u001b[0m\u001b[0m\n\u001b[0;32m---> 14\u001b[0;31m     \u001b[0manswer\u001b[0m \u001b[0;34m=\u001b[0m \u001b[0mint\u001b[0m\u001b[0;34m(\u001b[0m\u001b[0mfirst_number\u001b[0m\u001b[0;34m)\u001b[0m \u001b[0;34m/\u001b[0m \u001b[0mint\u001b[0m\u001b[0;34m(\u001b[0m\u001b[0msecond_number\u001b[0m\u001b[0;34m)\u001b[0m\u001b[0;34m\u001b[0m\u001b[0;34m\u001b[0m\u001b[0m\n\u001b[0m\u001b[1;32m     15\u001b[0m     \u001b[0mprint\u001b[0m\u001b[0;34m(\u001b[0m\u001b[0manswer\u001b[0m\u001b[0;34m)\u001b[0m\u001b[0;34m\u001b[0m\u001b[0;34m\u001b[0m\u001b[0m\n",
      "\u001b[0;31mValueError\u001b[0m: invalid literal for int() with base 10: '5/5'"
     ]
    }
   ],
   "source": [
    "print(\"Give me two numbers, and I'll divide them.\")\n",
    "print(\"Enter 'q' to quit.\")\n",
    "\n",
    "\n",
    "while True:\n",
    "    first_number = input(\"\\nFirst number: \")\n",
    "    if first_number == 'q':\n",
    "        break\n",
    "    \n",
    "    second_number = input(\"\\nSecond number: \")\n",
    "    if second_number == 'q':\n",
    "        break\n",
    "\n",
    "    answer = int(first_number) / int(second_number)\n",
    "    print(answer)"
   ]
  },
  {
   "cell_type": "markdown",
   "metadata": {},
   "source": [
    "### The else Block"
   ]
  },
  {
   "cell_type": "code",
   "execution_count": 18,
   "metadata": {},
   "outputs": [
    {
     "name": "stdout",
     "output_type": "stream",
     "text": [
      "Give me two numbers, and I'll divide them.\n",
      "Enter 'q' to quit.\n",
      "\n",
      "First number: 5\n",
      "\n",
      "Second number: 5\n",
      "1.0\n",
      "\n",
      "First number: 5\n",
      "\n",
      "Second number: 0\n",
      "You can't divide by 0!\n",
      "\n",
      "First number: q\n"
     ]
    }
   ],
   "source": [
    "print(\"Give me two numbers, and I'll divide them.\")\n",
    "print(\"Enter 'q' to quit.\")\n",
    "\n",
    "\n",
    "while True:\n",
    "    first_number = input(\"\\nFirst number: \")\n",
    "    if first_number == 'q':\n",
    "        break\n",
    "    \n",
    "    second_number = input(\"\\nSecond number: \")\n",
    "    if second_number == 'q':\n",
    "        break\n",
    "    try:\n",
    "        answer = int(first_number) / int(second_number)\n",
    "    except ZeroDivisionError:\n",
    "        print(\"You can't divide by 0!\")\n",
    "    else:\n",
    "        print(answer)"
   ]
  },
  {
   "cell_type": "markdown",
   "metadata": {},
   "source": [
    "### Handling the FileNotFoundError Exception"
   ]
  },
  {
   "cell_type": "code",
   "execution_count": 19,
   "metadata": {},
   "outputs": [],
   "source": [
    "# One common issue when working with files is handling missing files. The\n",
    "# file you’re looking for might be in a different location, the filename may\n",
    "# be misspelled, or the file may not exist at all. You can handle all of these\n",
    "# situations in a straightforward way with a try-except block.\n",
    "\n",
    "\n",
    "# Let’s try to read a file that doesn’t exist. The following program tries\n",
    "# to read in the contents of Alice in Wonderland, but I haven’t saved the file\n",
    "# alice.txt in the same directory as alice.py:"
   ]
  },
  {
   "cell_type": "code",
   "execution_count": 20,
   "metadata": {},
   "outputs": [
    {
     "ename": "FileNotFoundError",
     "evalue": "[Errno 2] No such file or directory: 'alice.txt'",
     "output_type": "error",
     "traceback": [
      "\u001b[0;31m---------------------------------------------------------------------------\u001b[0m",
      "\u001b[0;31mFileNotFoundError\u001b[0m                         Traceback (most recent call last)",
      "\u001b[0;32m<ipython-input-20-c61a9bd205cf>\u001b[0m in \u001b[0;36m<module>\u001b[0;34m\u001b[0m\n\u001b[1;32m      1\u001b[0m \u001b[0mfile_name\u001b[0m \u001b[0;34m=\u001b[0m \u001b[0;34m'alice.txt'\u001b[0m\u001b[0;34m\u001b[0m\u001b[0;34m\u001b[0m\u001b[0m\n\u001b[1;32m      2\u001b[0m \u001b[0;34m\u001b[0m\u001b[0m\n\u001b[0;32m----> 3\u001b[0;31m \u001b[0;32mwith\u001b[0m \u001b[0mopen\u001b[0m\u001b[0;34m(\u001b[0m\u001b[0mfile_name\u001b[0m\u001b[0;34m)\u001b[0m \u001b[0;32mas\u001b[0m \u001b[0mf_obj\u001b[0m\u001b[0;34m:\u001b[0m\u001b[0;34m\u001b[0m\u001b[0;34m\u001b[0m\u001b[0m\n\u001b[0m\u001b[1;32m      4\u001b[0m     \u001b[0mcontents\u001b[0m \u001b[0;34m=\u001b[0m \u001b[0mf_obj\u001b[0m\u001b[0;34m.\u001b[0m\u001b[0mread\u001b[0m\u001b[0;34m(\u001b[0m\u001b[0;34m)\u001b[0m\u001b[0;34m\u001b[0m\u001b[0;34m\u001b[0m\u001b[0m\n",
      "\u001b[0;31mFileNotFoundError\u001b[0m: [Errno 2] No such file or directory: 'alice.txt'"
     ]
    }
   ],
   "source": [
    "file_name = 'alice.txt'\n",
    "\n",
    "with open(file_name) as f_obj:\n",
    "    contents = f_obj.read()"
   ]
  },
  {
   "cell_type": "code",
   "execution_count": 22,
   "metadata": {},
   "outputs": [
    {
     "name": "stdout",
     "output_type": "stream",
     "text": [
      "Sorry, the file alice.txt is not found.\n"
     ]
    }
   ],
   "source": [
    "file_name = 'alice.txt'\n",
    "\n",
    "try:\n",
    "    with open(file_name) as f_obj:\n",
    "        contents = f_obj.read()\n",
    "except FileNotFoundError:\n",
    "    print(\"Sorry, the file \" +file_name + \" is not found.\")"
   ]
  },
  {
   "cell_type": "markdown",
   "metadata": {},
   "source": [
    "### Analyzing Text"
   ]
  },
  {
   "cell_type": "code",
   "execution_count": 23,
   "metadata": {},
   "outputs": [
    {
     "data": {
      "text/plain": [
       "['Alice', 'in', 'Wonderland']"
      ]
     },
     "execution_count": 23,
     "metadata": {},
     "output_type": "execute_result"
    }
   ],
   "source": [
    "title = \"Alice in Wonderland\"\n",
    "title.split()"
   ]
  },
  {
   "cell_type": "code",
   "execution_count": 25,
   "metadata": {},
   "outputs": [
    {
     "name": "stdout",
     "output_type": "stream",
     "text": [
      "The file alice.txt has about 3 words.\n"
     ]
    }
   ],
   "source": [
    "file_name = 'alice.txt'\n",
    "\n",
    "try:\n",
    "    with open(file_name) as f_obj:\n",
    "        contents = f_obj.read()\n",
    "except FileNotFoundError:\n",
    "    print(\"Sorry, the file \" +file_name + \" is not found.\")\n",
    "else:\n",
    "    # Count the approximate number of words in the file.\n",
    "    words = contents.split()\n",
    "    num_words = len(words)\n",
    "    print(\"The file \"+file_name + \" has about \" + str(num_words) + \" words.\")"
   ]
  },
  {
   "cell_type": "markdown",
   "metadata": {},
   "source": [
    "### Working with Multiple Files"
   ]
  },
  {
   "cell_type": "code",
   "execution_count": 10,
   "metadata": {},
   "outputs": [],
   "source": [
    "def count_words(file_name):\n",
    "    try:\n",
    "        with open(file_name) as f_obj:\n",
    "            contents = f_obj.read()\n",
    "    except FileNotFoundError:\n",
    "        print(\"Sorry, the file \" +file_name + \" is not found.\")\n",
    "    else:\n",
    "        # Count the approximate number of words in the file.\n",
    "        words = contents.split()\n",
    "        num_words = len(words)\n",
    "        print(\"The file \"+file_name + \" has about \" + str(num_words) + \" words.\")\n",
    "\n",
    "# filename = \"alice.txt\"\n",
    "# count_words(filename)"
   ]
  },
  {
   "cell_type": "code",
   "execution_count": 11,
   "metadata": {},
   "outputs": [],
   "source": [
    "# Now we can write a simple loop to count the words in any text we want\n",
    "# to analyze. We do this by storing the names of the files we want to analyze\n",
    "# in a list, and then we call count_words() for each file in the list. We’ll try to\n",
    "# count the words for Alice in Wonderland, Siddhartha, Moby Dick, and Little\n",
    "# Women, which are all available in the public domain. I’ve intentionally left\n",
    "# siddhartha.txt out of the directory containing word_count.py, so we can see\n",
    "# how well our program handles a missing file:"
   ]
  },
  {
   "cell_type": "code",
   "execution_count": 12,
   "metadata": {},
   "outputs": [
    {
     "name": "stdout",
     "output_type": "stream",
     "text": [
      "alice.txt\n",
      "The file alice.txt has about 3 words.\n",
      "guest.txt\n",
      "The file guest.txt has about 1 words.\n"
     ]
    }
   ],
   "source": [
    "filenames = [\"alice.txt\", \"guest.txt\"]\n",
    "for filename in filenames:\n",
    "    print(filename)\n",
    "    count_words(filename)"
   ]
  },
  {
   "cell_type": "markdown",
   "metadata": {},
   "source": [
    "### Failing Silently"
   ]
  },
  {
   "cell_type": "code",
   "execution_count": 1,
   "metadata": {},
   "outputs": [],
   "source": [
    "# In the previous example, we informed our users that one of the files\n",
    "# was unavailable. But you don’t need to report every exception you catch.\n",
    "# Sometimes you’ll want the program to fail silently when an exception occurs\n",
    "# and continue on as if nothing happened. To make a program fail silently, you\n",
    "# write a try block as usual, but you explicitly tell Python to do nothing in the\n",
    "# except block. Python has a pass statement that tells it to do nothing in a block:"
   ]
  },
  {
   "cell_type": "code",
   "execution_count": 2,
   "metadata": {},
   "outputs": [],
   "source": [
    "def count_words(file_name):\n",
    "    try:\n",
    "        with open(file_name) as f_obj:\n",
    "            contents = f_obj.read()\n",
    "    except FileNotFoundError:\n",
    "        pass\n",
    "    else:\n",
    "        # Count the approximate number of words in the file.\n",
    "        words = contents.split()\n",
    "        num_words = len(words)\n",
    "        print(\"The file \"+file_name + \" has about \" + str(num_words) + \" words.\")"
   ]
  },
  {
   "cell_type": "code",
   "execution_count": 4,
   "metadata": {},
   "outputs": [
    {
     "name": "stdout",
     "output_type": "stream",
     "text": [
      "The file alice.txt has about 3 words.\n",
      "The file guest.txt has about 1 words.\n"
     ]
    }
   ],
   "source": [
    "filenames = [\"alice.txt\", \"guest.txt\",\"abc.txt\"]\n",
    "for filename in filenames:\n",
    "   \n",
    "    count_words(filename)"
   ]
  },
  {
   "cell_type": "code",
   "execution_count": 5,
   "metadata": {},
   "outputs": [],
   "source": [
    "# The only difference between this listing and the previous one is the\n",
    "# pass statement at u. Now when a FileNotFoundError is raised, the code in\n",
    "# the except block runs, but nothing happens. No traceback is produced,\n",
    "# and there’s no output in response to the error that was raised. Users see\n",
    "# the word counts for each file that exists, but they don’t see any indication\n",
    "# that a file was not found:"
   ]
  },
  {
   "cell_type": "markdown",
   "metadata": {},
   "source": [
    "### Exercise 3"
   ]
  },
  {
   "cell_type": "markdown",
   "metadata": {},
   "source": [
    "**10-6.** Addition: One common problem when prompting for numerical input\n",
    "occurs when people provide text instead of numbers. When you try to convert\n",
    "the input to an int, you’ll get a TypeError. Write a program that prompts for\n",
    "two numbers. Add them together and print the result. Catch the TypeError if\n",
    "either input value is not a number, and print a friendly error message. Test your\n",
    "program by entering two numbers and then by entering some text instead of a\n",
    "number."
   ]
  },
  {
   "cell_type": "code",
   "execution_count": 11,
   "metadata": {},
   "outputs": [
    {
     "name": "stdout",
     "output_type": "stream",
     "text": [
      "Enter first number: a\n",
      "Please type appropraite number\n"
     ]
    }
   ],
   "source": [
    "\n",
    "\n",
    "try:\n",
    "    num_1 = int(input(\"Enter first number: \"))\n",
    "    num_2 = int(input(\"Enter second number: \"))\n",
    "    addition = num_1+num_2\n",
    "except ValueError:\n",
    "    print(\"Please type appropraite number\")\n",
    "else:\n",
    "    print(addition)"
   ]
  },
  {
   "cell_type": "markdown",
   "metadata": {},
   "source": [
    "**10-7.** Addition Calculator: Wrap your code from Exercise 10-6 in a while loop\n",
    "so the user can continue entering numbers even if they make a mistake and\n",
    "enter text instead of a number"
   ]
  },
  {
   "cell_type": "code",
   "execution_count": 12,
   "metadata": {},
   "outputs": [
    {
     "name": "stdout",
     "output_type": "stream",
     "text": [
      "If you want to quit press q\n",
      "Enter first number: a\n",
      "Please type appropraite number\n",
      "Enter first number: 1\n",
      "Enter second number: 2\n",
      "3\n",
      "Enter first number: q\n"
     ]
    }
   ],
   "source": [
    "print(\"If you want to quit press q\")\n",
    "\n",
    "while True:\n",
    "    try:\n",
    "        num_1 = input(\"Enter first number: \")\n",
    "        if num_1 == 'q':\n",
    "            break\n",
    "        \n",
    "        num_1 = int(num_1)\n",
    "        \n",
    "        num_2 = input(\"Enter second number: \")\n",
    "        if num_2 == 'q':\n",
    "            break\n",
    "        \n",
    "        num_2 = int(num_2)\n",
    "        \n",
    "        addition = num_1+num_2\n",
    "    except ValueError:\n",
    "        print(\"Please type appropraite number\")\n",
    "    else:\n",
    "        print(addition)"
   ]
  },
  {
   "cell_type": "markdown",
   "metadata": {},
   "source": [
    "**10-8.** Cats and Dogs: Make two files, cats.txt and dogs.txt. Store at least three\n",
    "names of cats in the first file and three names of dogs in the second file. Write\n",
    "a program that tries to read these files and print the contents of the file to the\n",
    "screen. Wrap your code in a try-except block to catch the FileNotFound error,\n",
    "and print a friendly message if a file is missing. Move one of the files to a different location on your system, and make sure the code in the except block\n",
    "executes properly"
   ]
  },
  {
   "cell_type": "code",
   "execution_count": 4,
   "metadata": {},
   "outputs": [
    {
     "name": "stdout",
     "output_type": "stream",
     "text": [
      "\n",
      "Reading the file: cats.txt\n",
      "billi\n",
      "cat\n",
      "champu\n",
      "\n",
      "Reading the file: dogs.txt\n",
      "dog\n",
      "tommy\n",
      "sheeru\n",
      "\n",
      "Reading the file: abc.txt\n",
      "abc.txt not found.\n"
     ]
    }
   ],
   "source": [
    "filenames = ['cats.txt', 'dogs.txt','abc.txt']\n",
    "\n",
    "for filename in filenames:\n",
    "    print(\"\\nReading the file: \"+filename)\n",
    "    \n",
    "    try:\n",
    "        with open(filename) as fileobject:\n",
    "            contents = fileobject.read()\n",
    "    except FileNotFoundError:\n",
    "        print(filename + \" not found.\")\n",
    "    else:\n",
    "        print(contents)"
   ]
  },
  {
   "cell_type": "markdown",
   "metadata": {},
   "source": [
    "**10-9. Silent Cats and Dogs:** Modify your except block in Exercise 10-8 to fail\n",
    "silently if either file is missing."
   ]
  },
  {
   "cell_type": "code",
   "execution_count": 5,
   "metadata": {},
   "outputs": [
    {
     "name": "stdout",
     "output_type": "stream",
     "text": [
      "\n",
      "Reading the file: cats.txt\n",
      "billi\n",
      "cat\n",
      "champu\n",
      "\n",
      "Reading the file: dogs.txt\n",
      "dog\n",
      "tommy\n",
      "sheeru\n",
      "\n",
      "Reading the file: abc.txt\n"
     ]
    }
   ],
   "source": [
    "filenames = ['cats.txt', 'dogs.txt','abc.txt']\n",
    "\n",
    "for filename in filenames:\n",
    "    print(\"\\nReading the file: \"+filename)\n",
    "    \n",
    "    try:\n",
    "        with open(filename) as fileobject:\n",
    "            contents = fileobject.read()\n",
    "    except FileNotFoundError:\n",
    "        pass\n",
    "    else:\n",
    "        print(contents)"
   ]
  },
  {
   "cell_type": "markdown",
   "metadata": {},
   "source": [
    "**10-10. Common Words:** Visit Project Gutenberg (http://gutenberg.org/ )\n",
    "and find a few texts you’d like to analyze. Download the text files for these\n",
    "works, or copy the raw text from your browser into a text file on your\n",
    "computer.\n",
    "You can use the count() method to find out how many times a word or\n",
    "phrase appears in a string. For example, the following code counts the number\n",
    "of times 'row' appears in a string:"
   ]
  },
  {
   "cell_type": "code",
   "execution_count": 6,
   "metadata": {},
   "outputs": [
    {
     "data": {
      "text/plain": [
       "2"
      ]
     },
     "execution_count": 6,
     "metadata": {},
     "output_type": "execute_result"
    }
   ],
   "source": [
    "line = \"Row, row, row your boat\"\n",
    "line.count('row')"
   ]
  },
  {
   "cell_type": "code",
   "execution_count": 7,
   "metadata": {},
   "outputs": [
    {
     "data": {
      "text/plain": [
       "3"
      ]
     },
     "execution_count": 7,
     "metadata": {},
     "output_type": "execute_result"
    }
   ],
   "source": [
    "line.lower().count('row')"
   ]
  },
  {
   "cell_type": "markdown",
   "metadata": {},
   "source": [
    "### Storing Data"
   ]
  },
  {
   "cell_type": "code",
   "execution_count": 8,
   "metadata": {},
   "outputs": [],
   "source": [
    "# Many of your programs will ask users to input certain kinds of information.\n",
    "# You might allow users to store preferences in a game or provide data for a\n",
    "# visualization. Whatever the focus of your program is, you’ll store the\n",
    "# information users provide in data structures such as lists and dictionaries. When\n",
    "# users close a program, you’ll almost always want to save the information\n",
    "# they entered. A simple way to do this involves storing your data using the\n",
    "# json module."
   ]
  },
  {
   "cell_type": "code",
   "execution_count": 9,
   "metadata": {},
   "outputs": [],
   "source": [
    "# The json module allows you to dump simple Python data structures into a\n",
    "# file and load the data from that file the next time the program runs. You can\n",
    "# also use json to share data between different Python programs. Even better,\n",
    "# the JSON data format is not specific to Python, so you can share data you\n",
    "# store in the JSON format with people who work in many other programming\n",
    "# languages. It’s a useful and portable format, and it’s easy to learn."
   ]
  },
  {
   "cell_type": "code",
   "execution_count": 10,
   "metadata": {},
   "outputs": [],
   "source": [
    "# The JSON (JavaScript Object Notation) format was originally developed for JavaScript.\n",
    "# However, it has since become a common format used by many languages, including\n",
    "# Python."
   ]
  },
  {
   "cell_type": "markdown",
   "metadata": {},
   "source": [
    "### Using json.dump() and json.load()"
   ]
  },
  {
   "cell_type": "code",
   "execution_count": 11,
   "metadata": {},
   "outputs": [],
   "source": [
    "# Let’s write a short program that stores a set of numbers and another program that reads these numbers back into memory. The first program will\n",
    "# use json.dump() to store the set of numbers, and the second program will use\n",
    "# json.load().\n",
    "\n",
    "\n",
    "# The json.dump() function takes two arguments: a piece of data to\n",
    "# store and a file object it can use to store the data. Here’s how you can use\n",
    "# json.dump() to store a list of numbers:\n",
    "\n",
    "\n",
    "\n",
    "import json\n",
    "\n",
    "numbers = [2, 3, 5, 7, 11, 13]\n",
    "\n",
    "filename = 'numbers.json'\n",
    "\n",
    "with open(filename, 'w') as f_obj:\n",
    "    json.dump(numbers, f_obj)"
   ]
  },
  {
   "cell_type": "code",
   "execution_count": 12,
   "metadata": {},
   "outputs": [],
   "source": [
    "# Now we’ll write a program that uses json.load() to read the list back into\n",
    "# memory:"
   ]
  },
  {
   "cell_type": "code",
   "execution_count": 14,
   "metadata": {},
   "outputs": [
    {
     "name": "stdout",
     "output_type": "stream",
     "text": [
      "[2, 3, 5, 7, 11, 13]\n"
     ]
    }
   ],
   "source": [
    "import json\n",
    "\n",
    "filename ='numbers.json'\n",
    "\n",
    "with open(filename) as f_obj:\n",
    "    numbers = json.load(f_obj)\n",
    "print(numbers)"
   ]
  },
  {
   "cell_type": "markdown",
   "metadata": {},
   "source": [
    "### Saving and Reading User-Generated Data"
   ]
  },
  {
   "cell_type": "code",
   "execution_count": 15,
   "metadata": {},
   "outputs": [],
   "source": [
    "# Saving data with json is useful when you’re working with user-generated\n",
    "# data, because if you don’t store your user’s information somehow, you’ll\n",
    "# lose it when the program stops running. Let’s look at an example where we\n",
    "# prompt the user for their name the first time they run a program and then\n",
    "# remember their name when they run the program again.\n",
    "# Let’s start by storing the user’s name:"
   ]
  },
  {
   "cell_type": "code",
   "execution_count": 16,
   "metadata": {},
   "outputs": [
    {
     "name": "stdout",
     "output_type": "stream",
     "text": [
      "What is your name? arsalan\n",
      "We'll remeber you when you come back, arsalan!\n"
     ]
    }
   ],
   "source": [
    "import json\n",
    "\n",
    "username = input(\"What is your name? \")\n",
    "\n",
    "filename = 'username.json'\n",
    "\n",
    "with open(filename, 'w') as f_obj:\n",
    "    json.dump(username, f_obj)\n",
    "    print(\"We'll remeber you when you come back, \"+username+\"!\")"
   ]
  },
  {
   "cell_type": "code",
   "execution_count": 17,
   "metadata": {},
   "outputs": [],
   "source": [
    "# Now let’s write a new program that greets a user whose name has\n",
    "# already been stored:"
   ]
  },
  {
   "cell_type": "code",
   "execution_count": 18,
   "metadata": {},
   "outputs": [
    {
     "name": "stdout",
     "output_type": "stream",
     "text": [
      "Welcome back, arsalan!\n"
     ]
    }
   ],
   "source": [
    "import json\n",
    "\n",
    "filename = 'username.json'\n",
    "\n",
    "with open(filename) as f_obj:\n",
    "    username = json.load(f_obj)\n",
    "    print(\"Welcome back, \"+username+\"!\")"
   ]
  },
  {
   "cell_type": "code",
   "execution_count": 19,
   "metadata": {},
   "outputs": [],
   "source": [
    "# We need to combine these two programs into one file. When someone\n",
    "# runs remember_me.py, we want to retrieve their username from memory if\n",
    "# possible; therefore, we’ll start with a try block that attempts to recover the\n",
    "# username. If the file username.json doesn’t exist, we’ll have the except block\n",
    "# prompt for a username and store it in username.json for next time:"
   ]
  },
  {
   "cell_type": "code",
   "execution_count": null,
   "metadata": {},
   "outputs": [],
   "source": [
    "import json\n",
    "\n",
    "filename = \"username.json\"\n",
    "\n",
    "try:\n",
    "    with open(filename) as f_obj:\n",
    "        username = json.load(f_obj)\n",
    "except FileNotFoundError:\n",
    "    username = input(\"What is your name? \")\n",
    "    with open(filename, 'w') as f_obj:\n",
    "        json.dump(username, f_obj)\n",
    "        print(\"We'll remeber when you come back, \"+username+\"!\")\n",
    "else:\n",
    "    print(\"Welcome back, \"+username+\"!\")"
   ]
  },
  {
   "cell_type": "markdown",
   "metadata": {},
   "source": [
    "## Refactoring"
   ]
  },
  {
   "cell_type": "code",
   "execution_count": 1,
   "metadata": {},
   "outputs": [],
   "source": [
    "# Often, you’ll come to a point where your code will work, but you’ll\n",
    "# recognize that you could improve the code by breaking it up into a series\n",
    "# of functions that have specific jobs. This process is called refactoring. Refactoring\n",
    "# makes your code cleaner, easier to understand, and easier to extend.\n",
    "# We can refactor remember_me.py by moving the bulk of its logic into one\n",
    "# or more functions. The focus of remember_me.py is on greeting the user, so\n",
    "# let’s move all of our existing code into a function called greet_user():"
   ]
  },
  {
   "cell_type": "code",
   "execution_count": 2,
   "metadata": {},
   "outputs": [
    {
     "name": "stdout",
     "output_type": "stream",
     "text": [
      "Welcome back, arsalan!\n"
     ]
    }
   ],
   "source": [
    "import json\n",
    "\n",
    "def greet_user():\n",
    "    \n",
    "    filename = \"username.json\"\n",
    "    try:\n",
    "        with open(filename) as f_obj:\n",
    "            username = json.load(f_obj)\n",
    "    except FileNotFoundError:\n",
    "        username = input(\"What is your name? \")\n",
    "        with open(filename, 'w') as f_obj:\n",
    "            json.dump(username, f_obj)\n",
    "            print(\"We'll remeber when you come back, \"+username+\"!\")\n",
    "    else:\n",
    "        print(\"Welcome back, \"+username+\"!\")\n",
    "        \n",
    "        \n",
    "greet_user()"
   ]
  },
  {
   "cell_type": "code",
   "execution_count": 3,
   "metadata": {},
   "outputs": [],
   "source": [
    "# Let’s refactor greet_user() so it’s not doing so many different tasks.\n",
    "# We’ll start by moving the code for retrieving a stored username to a separate function:"
   ]
  },
  {
   "cell_type": "code",
   "execution_count": 8,
   "metadata": {},
   "outputs": [],
   "source": [
    "import json\n",
    "\n",
    "def get_stored_username():\n",
    "    filename = \"username.json\"\n",
    "    \n",
    "    try:\n",
    "        with open(filename) as f_obj:\n",
    "            username = json.load(f_obj)\n",
    "    except FileNotFoundError:\n",
    "        return None\n",
    "    else:\n",
    "        return username\n",
    "\n",
    "def greet_user():\n",
    "    username = get_stored_username()\n",
    "    \n",
    "    if username:\n",
    "        print(\"Welcome back, \"+username+\"!\")\n",
    "    else:\n",
    "        username = input(\"What is your name?\")\n",
    "        filename = \"username.json\"\n",
    "        with open(filename, \"w\") as f_obj:\n",
    "            json.dump(username, f_obj)\n",
    "            print(\"We'll remeber when you come back, \"+username+\"!\")"
   ]
  },
  {
   "cell_type": "code",
   "execution_count": 9,
   "metadata": {},
   "outputs": [
    {
     "name": "stdout",
     "output_type": "stream",
     "text": [
      "Welcome back, arsalan!\n"
     ]
    }
   ],
   "source": [
    "greet_user()"
   ]
  },
  {
   "cell_type": "code",
   "execution_count": 10,
   "metadata": {},
   "outputs": [],
   "source": [
    "# We should factor one more block of code out of greet_user(). If the\n",
    "# username doesn’t exist, we should move the code that prompts for a\n",
    "# new username to a function dedicated to that purpose:"
   ]
  },
  {
   "cell_type": "code",
   "execution_count": 17,
   "metadata": {},
   "outputs": [],
   "source": [
    "import json\n",
    "\n",
    "def get_stored_username():\n",
    "    filename = \"username.json\"\n",
    "    \n",
    "    try:\n",
    "        with open(filename) as f_obj:\n",
    "            username = json.load(f_obj)\n",
    "    except FileNotFoundError:\n",
    "        return None\n",
    "    else:\n",
    "        return username\n",
    "\n",
    "    \n",
    "def get_new_username():\n",
    "    username = input(\"what is your name?\")\n",
    "    filename = 'username.json'\n",
    "    with open(filename, \"w\") as f_obj:\n",
    "        json.dump(username,f_obj)\n",
    "    return username\n",
    "\n",
    "\n",
    "def greet_user():\n",
    "    username = get_stored_username()\n",
    "    \n",
    "    if username:\n",
    "        print(\"Welcome back, \"+username+\"!\")\n",
    "    else:\n",
    "        username = get_new_username()\n",
    "        print(\"We'll remeber when you come back, \"+username+\"!\")"
   ]
  },
  {
   "cell_type": "code",
   "execution_count": 12,
   "metadata": {},
   "outputs": [
    {
     "name": "stdout",
     "output_type": "stream",
     "text": [
      "Welcome back, arsalan!\n"
     ]
    }
   ],
   "source": [
    "greet_user()"
   ]
  },
  {
   "cell_type": "code",
   "execution_count": null,
   "metadata": {},
   "outputs": [],
   "source": [
    "# Each function in this final version of remember_me.py has a single, clear\n",
    "# purpose. We call greet_user(), and that function prints an appropriate message: it either welcomes back an existing user or greets a new user. It does\n",
    "# this by calling get_stored_username(), which is responsible only for retrieving\n",
    "# a stored username if one exists. Finally, greet_user() calls get_new_username()\n",
    "# if necessary, which is responsible only for getting a new username and storing it. This compartmentalization of work is an essential part of writing\n",
    "# clear code that will be easy to maintain and extend."
   ]
  },
  {
   "cell_type": "markdown",
   "metadata": {},
   "source": [
    "### Exercise # 4"
   ]
  },
  {
   "cell_type": "markdown",
   "metadata": {},
   "source": [
    "**10-11. Favorite Number:** Write a program that prompts for the user’s favorite\n",
    "number. Use json.dump() to store this number in a file. Write a separate program that reads in this value and prints the message, “I know your favorite\n",
    "number! It’s _____.”"
   ]
  },
  {
   "cell_type": "code",
   "execution_count": 8,
   "metadata": {},
   "outputs": [
    {
     "name": "stdout",
     "output_type": "stream",
     "text": [
      "Enter yout favorite number: 2\n"
     ]
    }
   ],
   "source": [
    "import json\n",
    "\n",
    "favourite_number = int(input(\"Enter yout favorite number: \"))\n",
    "file = \"favoritenumber.json\"\n",
    "with open(file, \"w\") as f_obj:\n",
    "    json.dump(favourite_number, f_obj)"
   ]
  },
  {
   "cell_type": "code",
   "execution_count": 9,
   "metadata": {},
   "outputs": [
    {
     "name": "stdout",
     "output_type": "stream",
     "text": [
      "I know your favorite number! It's 2\n"
     ]
    }
   ],
   "source": [
    "import json \n",
    "\n",
    "file = \"favoritenumber.json\"\n",
    "\n",
    "with open(file) as f_obj:\n",
    "    content = json.load(f_obj)\n",
    "    print(\"I know your favorite number! It's \" +str(content))\n",
    "    "
   ]
  },
  {
   "cell_type": "markdown",
   "metadata": {},
   "source": [
    "**10-12. Favorite Number Remembered:** Combine the two programs from\n",
    "Exercise 10-11 into one file. If the number is already stored, report the favorite\n",
    "number to the user. If not, prompt for the user’s favorite number and store it in a\n",
    "file. Run the program twice to see that it works."
   ]
  },
  {
   "cell_type": "code",
   "execution_count": 10,
   "metadata": {},
   "outputs": [
    {
     "name": "stdout",
     "output_type": "stream",
     "text": [
      "I know your favorite number! It's 2\n"
     ]
    }
   ],
   "source": [
    "import json\n",
    "file = \"favoritenumber.json\"\n",
    "\n",
    "try:\n",
    "    with open(file) as f_obj:\n",
    "        content = json.load(f_obj)\n",
    "except FileNotFoundError:\n",
    "    with open(file, w) as f_obj:\n",
    "        json.dump(input(\"Enter your favorite number\"),f_obj)\n",
    "else:\n",
    "    print(\"I know your favorite number! It's \" +str(content))\n",
    "    "
   ]
  },
  {
   "cell_type": "markdown",
   "metadata": {},
   "source": [
    "**10-13.** Verify User: The final listing for remember_me.py assumes either that the\n",
    "user has already entered their username or that the program is running for the\n",
    "first time. We should modify it in case the current user is not the person who\n",
    "last used the program.\n",
    "Before printing a welcome back message in greet_user(), ask the user if\n",
    "this is the correct username. If it’s not, call get_new_username() to get the correct\n",
    "username."
   ]
  },
  {
   "cell_type": "code",
   "execution_count": 22,
   "metadata": {},
   "outputs": [],
   "source": [
    "import json\n",
    "\n",
    "def get_stored_username():\n",
    "    filename = \"username.json\"\n",
    "    \n",
    "    try:\n",
    "        with open(filename) as f_obj:\n",
    "            username = json.load(f_obj)\n",
    "    except FileNotFoundError:\n",
    "        return None\n",
    "    else:\n",
    "        return username\n",
    "\n",
    "    \n",
    "def get_new_username():\n",
    "    username = input(\"what is your name?\")\n",
    "    filename = 'username.json'\n",
    "    with open(filename, \"w\") as f_obj:\n",
    "        json.dump(username,f_obj)\n",
    "    return username\n",
    "\n",
    "\n",
    "def greet_user():\n",
    "    username = get_stored_username()\n",
    "    \n",
    "    if username:\n",
    "        correct = input(\"Are you \"+username+\" ? (y/n): \")\n",
    "        if correct == 'y':\n",
    "            print(\"Welcome back, \"+username+\"!\")\n",
    "        else:\n",
    "            username = get_new_username()\n",
    "            print(\"We'll remeber when you come back, \"+username+\"!\")\n",
    "    else:\n",
    "        username = get_new_username()\n",
    "        print(\"We'll remeber when you come back, \"+username+\"!\")"
   ]
  },
  {
   "cell_type": "code",
   "execution_count": 23,
   "metadata": {},
   "outputs": [
    {
     "name": "stdout",
     "output_type": "stream",
     "text": [
      "Are you abid ? (y/n): n\n",
      "what is your name?owais\n",
      "We'll remeber when you come back, owais!\n"
     ]
    }
   ],
   "source": [
    "greet_user()"
   ]
  },
  {
   "cell_type": "code",
   "execution_count": null,
   "metadata": {},
   "outputs": [],
   "source": []
  }
 ],
 "metadata": {
  "kernelspec": {
   "display_name": "Python 3",
   "language": "python",
   "name": "python3"
  },
  "language_info": {
   "codemirror_mode": {
    "name": "ipython",
    "version": 3
   },
   "file_extension": ".py",
   "mimetype": "text/x-python",
   "name": "python",
   "nbconvert_exporter": "python",
   "pygments_lexer": "ipython3",
   "version": "3.7.6"
  }
 },
 "nbformat": 4,
 "nbformat_minor": 4
}
