{
 "cells": [
  {
   "cell_type": "code",
   "execution_count": 1,
   "metadata": {},
   "outputs": [],
   "source": [
    "# In this chapter you’ll learn to write\n",
    "# functions, which are named blocks of code\n",
    "# that are designed to do one specific job.\n",
    "# When you want to perform a particular task\n",
    "# that you’ve defined in a function, you call the name\n",
    "# of the function responsible for it. If you need to\n",
    "# perform that task multiple times throughout your program, you don’t\n",
    "# need to type all the code for the same task again and again; you just call\n",
    "# the function dedicated to handling that task, and the call tells Python to\n",
    "# run the code inside the function."
   ]
  },
  {
   "cell_type": "code",
   "execution_count": 2,
   "metadata": {},
   "outputs": [],
   "source": [
    "#  You’ll find that using functions makes\n",
    "# your programs easier to write, read, test, and fix."
   ]
  },
  {
   "cell_type": "code",
   "execution_count": 3,
   "metadata": {},
   "outputs": [],
   "source": [
    "#  Finally, you’ll learn to store functions in separate files\n",
    "# called modules to help organize your main program files."
   ]
  },
  {
   "cell_type": "markdown",
   "metadata": {},
   "source": [
    "## Defining a Function"
   ]
  },
  {
   "cell_type": "code",
   "execution_count": 4,
   "metadata": {},
   "outputs": [],
   "source": [
    "# Here’s a simple function named greet_user() that prints a greeting:\n",
    "\n",
    "def greet_user():\n",
    "    \"\"\"Display a simple greeting\"\"\"\n",
    "    print(\"Hello!\")"
   ]
  },
  {
   "cell_type": "code",
   "execution_count": 5,
   "metadata": {},
   "outputs": [
    {
     "name": "stdout",
     "output_type": "stream",
     "text": [
      "Hello!\n"
     ]
    }
   ],
   "source": [
    "greet_user()"
   ]
  },
  {
   "cell_type": "markdown",
   "metadata": {},
   "source": [
    "## Passing Information to a Function\n"
   ]
  },
  {
   "cell_type": "code",
   "execution_count": 6,
   "metadata": {},
   "outputs": [],
   "source": [
    "def greet_user(username):\n",
    "    \"\"\"Display a simple greeting\"\"\"\n",
    "    print(\"Hello, \"+username.title())\n",
    "    "
   ]
  },
  {
   "cell_type": "code",
   "execution_count": 7,
   "metadata": {},
   "outputs": [
    {
     "name": "stdout",
     "output_type": "stream",
     "text": [
      "Hello, Arsalan\n"
     ]
    }
   ],
   "source": [
    "greet_user(\"arsalan\")"
   ]
  },
  {
   "cell_type": "markdown",
   "metadata": {},
   "source": [
    "## Passing Arguments"
   ]
  },
  {
   "cell_type": "code",
   "execution_count": 8,
   "metadata": {},
   "outputs": [],
   "source": [
    "# Because a function definition can have multiple parameters, a function call\n",
    "# may need multiple arguments. You can pass arguments to your functions\n",
    "# in a number of ways. You can use positional arguments, which need to be in \n",
    "# 136 Chapter 8\n",
    "# the same order the parameters were written; keyword arguments, where each\n",
    "# argument consists of a variable name and a value; and lists and dictionaries\n",
    "# of values. Let’s look at each of these in turn."
   ]
  },
  {
   "cell_type": "markdown",
   "metadata": {},
   "source": [
    "### Positional Arguments\n"
   ]
  },
  {
   "cell_type": "code",
   "execution_count": 9,
   "metadata": {},
   "outputs": [],
   "source": [
    "# When you call a function, Python must match each argument in the function call with a parameter in the function definition. The simplest way to\n",
    "# do this is based on the order of the arguments provided. Values matched\n",
    "# up this way are called positional arguments."
   ]
  },
  {
   "cell_type": "code",
   "execution_count": 10,
   "metadata": {},
   "outputs": [],
   "source": [
    "def describe_pet(animal_type, pet_name):\n",
    "    print(\"\\nI have a \"+animal_type+\".\")\n",
    "    print(\"My \"+animal_type + \"'s name is \"+pet_name.title()+\".\")"
   ]
  },
  {
   "cell_type": "code",
   "execution_count": 11,
   "metadata": {},
   "outputs": [
    {
     "name": "stdout",
     "output_type": "stream",
     "text": [
      "\n",
      "I have a hamster.\n",
      "My hamster's name is Harry.\n"
     ]
    }
   ],
   "source": [
    "describe_pet('hamster', 'harry')"
   ]
  },
  {
   "cell_type": "markdown",
   "metadata": {},
   "source": [
    "### Multiple Function Calls\n"
   ]
  },
  {
   "cell_type": "code",
   "execution_count": 12,
   "metadata": {},
   "outputs": [],
   "source": [
    "# You can call a function as many times as needed. Describing a second, different pet requires just one more call to describe_pet():"
   ]
  },
  {
   "cell_type": "code",
   "execution_count": 13,
   "metadata": {},
   "outputs": [
    {
     "name": "stdout",
     "output_type": "stream",
     "text": [
      "\n",
      "I have a dog.\n",
      "My dog's name is Whillie.\n"
     ]
    }
   ],
   "source": [
    "describe_pet('dog', 'whillie')"
   ]
  },
  {
   "cell_type": "markdown",
   "metadata": {},
   "source": [
    "### Order Matters in Positional Arguments\n"
   ]
  },
  {
   "cell_type": "code",
   "execution_count": 14,
   "metadata": {},
   "outputs": [],
   "source": [
    "# You can get unexpected results if you mix up the order of the arguments in\n",
    "# a function call when using positional arguments:"
   ]
  },
  {
   "cell_type": "code",
   "execution_count": 16,
   "metadata": {},
   "outputs": [
    {
     "name": "stdout",
     "output_type": "stream",
     "text": [
      "\n",
      "I have a harry.\n",
      "My harry's name is Hamster.\n"
     ]
    }
   ],
   "source": [
    "# In this function call we list the name first and the type of animal second.\n",
    "# Because the argument 'harry' is listed first this time, that value is stored in\n",
    "# the parameter animal_type. Likewise, 'hamster' is stored in pet_name. Now we\n",
    "# have a “harry” named “Hamster”:\n",
    "\n",
    "describe_pet('harry', 'hamster')\n"
   ]
  },
  {
   "cell_type": "markdown",
   "metadata": {},
   "source": [
    "## Keyword Arguments\n"
   ]
  },
  {
   "cell_type": "code",
   "execution_count": 17,
   "metadata": {},
   "outputs": [],
   "source": [
    "# A keyword argument is a name-value pair that you pass to a function. You\n",
    "# directly associate the name and the value within the argument, so when you\n",
    "# pass the argument to the function, there’s no confusion (you won’t end up \n",
    "\n",
    "# with a harry named Hamster). Keyword arguments free you from having\n",
    "# to worry about correctly ordering your arguments in the function call, and\n",
    "# they clarify the role of each value in the function call.\n",
    "# Let’s rewrite pets.py using keyword arguments to call describe_pet():"
   ]
  },
  {
   "cell_type": "code",
   "execution_count": 18,
   "metadata": {},
   "outputs": [
    {
     "name": "stdout",
     "output_type": "stream",
     "text": [
      "\n",
      "I have a hamster.\n",
      "My hamster's name is Harry.\n"
     ]
    }
   ],
   "source": [
    "describe_pet(animal_type=\"hamster\", pet_name=\"harry\")"
   ]
  },
  {
   "cell_type": "code",
   "execution_count": 19,
   "metadata": {},
   "outputs": [],
   "source": [
    "# The function describe_pet() hasn’t changed. But when we call the function, we explicitly tell Python which parameter each argument should be\n",
    "# matched with. When Python reads the function call, it knows to store the\n",
    "# argument 'hamster' in the parameter animal_type and the argument 'harry'\n",
    "# in pet_name. The output correctly shows that we have a hamster named\n",
    "# Harry"
   ]
  },
  {
   "cell_type": "code",
   "execution_count": 20,
   "metadata": {},
   "outputs": [],
   "source": [
    "# The order of keyword arguments doesn’t matter because Python\n",
    "# knows where each value should go. The following two function calls are\n",
    "# equivalent:"
   ]
  },
  {
   "cell_type": "code",
   "execution_count": 21,
   "metadata": {},
   "outputs": [
    {
     "name": "stdout",
     "output_type": "stream",
     "text": [
      "\n",
      "I have a hamster.\n",
      "My hamster's name is Harry.\n",
      "\n",
      "I have a hamster.\n",
      "My hamster's name is Harry.\n"
     ]
    }
   ],
   "source": [
    "describe_pet(animal_type=\"hamster\", pet_name=\"harry\")\n",
    "describe_pet(pet_name=\"harry\", animal_type=\"hamster\")"
   ]
  },
  {
   "cell_type": "code",
   "execution_count": 22,
   "metadata": {},
   "outputs": [],
   "source": [
    "# When you use keyword arguments, be sure to use the exact names of the parameters in\n",
    "# the function’s definition."
   ]
  },
  {
   "cell_type": "markdown",
   "metadata": {},
   "source": [
    "## Default Values\n"
   ]
  },
  {
   "cell_type": "code",
   "execution_count": 23,
   "metadata": {},
   "outputs": [],
   "source": [
    "# When writing a function, you can define a default value for each parameter.\n",
    "# If an argument for a parameter is provided in the function call, Python uses\n",
    "# the argument value. If not, it uses the parameter’s default value. So when\n",
    "# you define a default value for a parameter, you can exclude the corresponding argument you’d usually write in the function call. Using default values\n",
    "# can simplify your function calls and clarify the ways in which your functions\n",
    "# are typically used."
   ]
  },
  {
   "cell_type": "code",
   "execution_count": 24,
   "metadata": {},
   "outputs": [],
   "source": [
    "# For example, if you notice that most of the calls to describe_pet() are\n",
    "# being used to describe dogs, you can set the default value of animal_type to\n",
    "# 'dog'. Now anyone calling describe_pet() for a dog can omit that information:"
   ]
  },
  {
   "cell_type": "code",
   "execution_count": 25,
   "metadata": {},
   "outputs": [],
   "source": [
    "def describe_pet(pet_name, animal_type='dog'):\n",
    "    print(\"\\nI have a \"+animal_type)\n",
    "    print(\"My \"+animal_type+\" 's name is \"+pet_name.title()+\".\")"
   ]
  },
  {
   "cell_type": "code",
   "execution_count": 26,
   "metadata": {},
   "outputs": [
    {
     "name": "stdout",
     "output_type": "stream",
     "text": [
      "\n",
      "I have a dog\n",
      "My dog 's name is Willie.\n"
     ]
    }
   ],
   "source": [
    "describe_pet(pet_name='willie')"
   ]
  },
  {
   "cell_type": "code",
   "execution_count": 27,
   "metadata": {},
   "outputs": [],
   "source": [
    "# We changed the definition of describe_pet() to include a default value,\n",
    "# 'dog', for animal_type. Now when the function is called with no animal_type\n",
    "# specified, Python knows to use the value 'dog' for this parameter:"
   ]
  },
  {
   "cell_type": "code",
   "execution_count": 28,
   "metadata": {},
   "outputs": [],
   "source": [
    "# Note that the order of the parameters in the function definition had\n",
    "# to be changed. Because the default value makes it unnecessary to specify a\n",
    "# type of animal as an argument, the only argument left in the function call\n",
    "# is the pet’s name. Python still interprets this as a positional argument, so if\n",
    "# the function is called with just a pet’s name, that argument will match up\n",
    "# with the first parameter listed in the function’s definition. This is the reason the first parameter needs to be pet_name."
   ]
  },
  {
   "cell_type": "code",
   "execution_count": 30,
   "metadata": {},
   "outputs": [
    {
     "name": "stdout",
     "output_type": "stream",
     "text": [
      "\n",
      "I have a dog\n",
      "My dog 's name is Willie.\n"
     ]
    }
   ],
   "source": [
    "describe_pet('willie')\n",
    "\n",
    "# This function call would have the same output as the previous example.\n",
    "# The only argument provided is 'willie', so it is matched up with the first\n",
    "# parameter in the definition, pet_name. Because no "
   ]
  },
  {
   "cell_type": "code",
   "execution_count": 32,
   "metadata": {},
   "outputs": [
    {
     "name": "stdout",
     "output_type": "stream",
     "text": [
      "\n",
      "I have a hamster\n",
      "My hamster 's name is Harry.\n"
     ]
    }
   ],
   "source": [
    "# To describe an animal other than a dog, you could use a function call\n",
    "# like this:\n",
    "\n",
    "describe_pet(pet_name='harry', animal_type='hamster')\n",
    "\n",
    "# Because an explicit argument for animal_type is provided, Python will\n",
    "# ignore the parameter’s default value"
   ]
  },
  {
   "cell_type": "markdown",
   "metadata": {},
   "source": [
    "### Equivalent Function Calls\n"
   ]
  },
  {
   "cell_type": "code",
   "execution_count": 33,
   "metadata": {},
   "outputs": [],
   "source": [
    "# Because positional arguments, keyword arguments, and default values can\n",
    "# all be used together, often you’ll have several equivalent ways to call a function. Consider the following definition for describe_pets() with one default\n",
    "# value provided:\n",
    "\n",
    "# def describe_pet(pet_name, animal_type='dog'):\n",
    "\n",
    "\n",
    "# With this definition, an argument always needs to be provided for\n",
    "# pet_name, and this value can be provided using the positional or keyword \n",
    "\n",
    "# format. If the animal being described is not a dog, an argument for\n",
    "# animal_type must be included in the call, and this argument can also be\n",
    "# specified using the positional or keyword format.\n",
    "\n"
   ]
  },
  {
   "cell_type": "code",
   "execution_count": 34,
   "metadata": {},
   "outputs": [],
   "source": [
    "# All of the following calls would work for this function:\n"
   ]
  },
  {
   "cell_type": "code",
   "execution_count": 35,
   "metadata": {},
   "outputs": [
    {
     "name": "stdout",
     "output_type": "stream",
     "text": [
      "\n",
      "I have a dog\n",
      "My dog 's name is Willie.\n"
     ]
    }
   ],
   "source": [
    "# A dog named Willie.\n",
    "\n",
    "describe_pet('willie')"
   ]
  },
  {
   "cell_type": "code",
   "execution_count": 36,
   "metadata": {},
   "outputs": [
    {
     "name": "stdout",
     "output_type": "stream",
     "text": [
      "\n",
      "I have a dog\n",
      "My dog 's name is Willie.\n"
     ]
    }
   ],
   "source": [
    "describe_pet(pet_name='willie')"
   ]
  },
  {
   "cell_type": "code",
   "execution_count": 37,
   "metadata": {},
   "outputs": [
    {
     "name": "stdout",
     "output_type": "stream",
     "text": [
      "\n",
      "I have a hamster\n",
      "My hamster 's name is Harry.\n"
     ]
    }
   ],
   "source": [
    "# A hamster names Harry.\n",
    "\n",
    "describe_pet('harry', 'hamster')"
   ]
  },
  {
   "cell_type": "code",
   "execution_count": 38,
   "metadata": {},
   "outputs": [
    {
     "name": "stdout",
     "output_type": "stream",
     "text": [
      "\n",
      "I have a hamster\n",
      "My hamster 's name is Harry.\n"
     ]
    }
   ],
   "source": [
    "describe_pet(pet_name='harry', animal_type='hamster')"
   ]
  },
  {
   "cell_type": "code",
   "execution_count": 39,
   "metadata": {},
   "outputs": [
    {
     "name": "stdout",
     "output_type": "stream",
     "text": [
      "\n",
      "I have a hamster\n",
      "My hamster 's name is Harry.\n"
     ]
    }
   ],
   "source": [
    "describe_pet(animal_type='hamster', pet_name='harry')"
   ]
  },
  {
   "cell_type": "code",
   "execution_count": 40,
   "metadata": {},
   "outputs": [],
   "source": [
    "# Each of these function calls would have the same output as the previous\n",
    "# examples."
   ]
  },
  {
   "cell_type": "code",
   "execution_count": 41,
   "metadata": {},
   "outputs": [],
   "source": [
    "# It doesn’t really matter which calling style you use. As long as your function calls\n",
    "# produce the output you want, just use the style you find easiest to understand."
   ]
  },
  {
   "cell_type": "markdown",
   "metadata": {},
   "source": [
    "### Avoiding Argument Errors\n"
   ]
  },
  {
   "cell_type": "code",
   "execution_count": 42,
   "metadata": {},
   "outputs": [],
   "source": [
    "# When you start to use functions, don’t be surprised if you encounter errors\n",
    "# about unmatched arguments. Unmatched arguments occur when you\n",
    "# provide fewer or more arguments than a function needs to do its work.\n",
    "# For example, here’s what happens if we try to call describe_pet() with no\n",
    "# arguments:\n",
    "\n",
    "def describe_pet(animal_type, pet_name):\n",
    "    \"\"\"Display information about a pet.\"\"\"\n",
    "    print(\"\\nI have a \" + animal_type + \".\")\n",
    "    print(\"My \" + animal_type + \"'s name is \" + pet_name.title() + \".\")"
   ]
  },
  {
   "cell_type": "code",
   "execution_count": 44,
   "metadata": {},
   "outputs": [
    {
     "ename": "TypeError",
     "evalue": "describe_pet() missing 2 required positional arguments: 'animal_type' and 'pet_name'",
     "output_type": "error",
     "traceback": [
      "\u001b[1;31m---------------------------------------------------------------------------\u001b[0m",
      "\u001b[1;31mTypeError\u001b[0m                                 Traceback (most recent call last)",
      "\u001b[1;32m<ipython-input-44-4b9e44db25ac>\u001b[0m in \u001b[0;36m<module>\u001b[1;34m\u001b[0m\n\u001b[1;32m----> 1\u001b[1;33m \u001b[0mdescribe_pet\u001b[0m\u001b[1;33m(\u001b[0m\u001b[1;33m)\u001b[0m\u001b[1;33m\u001b[0m\u001b[1;33m\u001b[0m\u001b[0m\n\u001b[0m\u001b[0;32m      2\u001b[0m \u001b[1;33m\u001b[0m\u001b[0m\n\u001b[0;32m      3\u001b[0m \u001b[1;31m# Python recognizes that some information is missing from the function\u001b[0m\u001b[1;33m\u001b[0m\u001b[1;33m\u001b[0m\u001b[1;33m\u001b[0m\u001b[0m\n\u001b[0;32m      4\u001b[0m \u001b[1;31m# call, and the traceback tells us that:\u001b[0m\u001b[1;33m\u001b[0m\u001b[1;33m\u001b[0m\u001b[1;33m\u001b[0m\u001b[0m\n",
      "\u001b[1;31mTypeError\u001b[0m: describe_pet() missing 2 required positional arguments: 'animal_type' and 'pet_name'"
     ]
    }
   ],
   "source": [
    "describe_pet()\n",
    "\n",
    "# Python recognizes that some information is missing from the function\n",
    "# call, and the traceback tells us that:"
   ]
  },
  {
   "cell_type": "code",
   "execution_count": null,
   "metadata": {},
   "outputs": [],
   "source": []
  }
 ],
 "metadata": {
  "kernelspec": {
   "display_name": "Python 3",
   "language": "python",
   "name": "python3"
  },
  "language_info": {
   "codemirror_mode": {
    "name": "ipython",
    "version": 3
   },
   "file_extension": ".py",
   "mimetype": "text/x-python",
   "name": "python",
   "nbconvert_exporter": "python",
   "pygments_lexer": "ipython3",
   "version": "3.7.3"
  }
 },
 "nbformat": 4,
 "nbformat_minor": 2
}
