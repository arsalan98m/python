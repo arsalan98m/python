{
 "cells": [
  {
   "cell_type": "markdown",
   "metadata": {},
   "source": [
    "### Chapter:  1 -  print"
   ]
  },
  {
   "cell_type": "code",
   "execution_count": 4,
   "metadata": {},
   "outputs": [],
   "source": [
    "# print is a function\n",
    "# print tells the program to display words or numbers on the screen."
   ]
  },
  {
   "cell_type": "code",
   "execution_count": 2,
   "metadata": {},
   "outputs": [
    {
     "name": "stdout",
     "output_type": "stream",
     "text": [
      "Hello, world!\n"
     ]
    }
   ],
   "source": [
    "print(\"Hello, world!\")"
   ]
  },
  {
   "cell_type": "code",
   "execution_count": 3,
   "metadata": {},
   "outputs": [],
   "source": [
    "# Print() --> Error"
   ]
  },
  {
   "cell_type": "code",
   "execution_count": 11,
   "metadata": {},
   "outputs": [
    {
     "name": "stdout",
     "output_type": "stream",
     "text": [
      "1000\n"
     ]
    }
   ],
   "source": [
    "print(1000) # integer"
   ]
  },
  {
   "cell_type": "code",
   "execution_count": 7,
   "metadata": {},
   "outputs": [
    {
     "name": "stdout",
     "output_type": "stream",
     "text": [
      "123 456\n"
     ]
    }
   ],
   "source": [
    "# ek sy ziyada values bhi print main di ja sakti hai\n",
    "print(123,456)"
   ]
  },
  {
   "cell_type": "code",
   "execution_count": 12,
   "metadata": {},
   "outputs": [
    {
     "name": "stdout",
     "output_type": "stream",
     "text": [
      "123 12.3\n"
     ]
    }
   ],
   "source": [
    "print(123,12.3) # integer and floating point"
   ]
  },
  {
   "cell_type": "code",
   "execution_count": 13,
   "metadata": {},
   "outputs": [
    {
     "name": "stdout",
     "output_type": "stream",
     "text": [
      "python\n"
     ]
    }
   ],
   "source": [
    "print(\"python\") # string"
   ]
  },
  {
   "cell_type": "code",
   "execution_count": 15,
   "metadata": {},
   "outputs": [
    {
     "name": "stdout",
     "output_type": "stream",
     "text": [
      "12\n"
     ]
    }
   ],
   "source": [
    "# quotation ky andar jo bhi data likhy gy woh data string data kehlata hai\n",
    "print(\"12\")"
   ]
  },
  {
   "cell_type": "code",
   "execution_count": 17,
   "metadata": {},
   "outputs": [
    {
     "name": "stdout",
     "output_type": "stream",
     "text": [
      "123pakistan\n"
     ]
    }
   ],
   "source": [
    "print(\"123pakistan\") # alphanumeric data"
   ]
  },
  {
   "cell_type": "code",
   "execution_count": 18,
   "metadata": {},
   "outputs": [
    {
     "name": "stdout",
     "output_type": "stream",
     "text": [
      "\n"
     ]
    }
   ],
   "source": [
    "# bracket ky pass mouse hover kary tu waha jo docstring hai \n",
    "# woh function ka signature kehlata hai\n",
    "print()"
   ]
  },
  {
   "cell_type": "code",
   "execution_count": 21,
   "metadata": {},
   "outputs": [
    {
     "name": "stdout",
     "output_type": "stream",
     "text": [
      "pakistan python piaic\n"
     ]
    }
   ],
   "source": [
    "# seperator ki waja sy ek value dosri value sy separate hai\n",
    "# default separator is space\n",
    "print(\"pakistan\", \"python\", \"piaic\")"
   ]
  },
  {
   "cell_type": "code",
   "execution_count": 24,
   "metadata": {},
   "outputs": [
    {
     "name": "stdout",
     "output_type": "stream",
     "text": [
      "pakistan $$$ python $$$ piaic\n"
     ]
    }
   ],
   "source": [
    "print(\"pakistan\", \"python\", \"piaic\", sep=\" $$$ \")"
   ]
  },
  {
   "cell_type": "code",
   "execution_count": 27,
   "metadata": {},
   "outputs": [
    {
     "name": "stdout",
     "output_type": "stream",
     "text": [
      "hello world1\n",
      "hello world2\n",
      "hello world3\n"
     ]
    }
   ],
   "source": [
    "# end default value is new line\n",
    "# \\n -- Escape character\n",
    "\n",
    "print(\"hello world1\")\n",
    "print(\"hello world2\")\n",
    "print(\"hello world3\")"
   ]
  },
  {
   "cell_type": "code",
   "execution_count": 30,
   "metadata": {},
   "outputs": [
    {
     "name": "stdout",
     "output_type": "stream",
     "text": [
      "hello world1 -- hello world2 -- hello world3\n"
     ]
    }
   ],
   "source": [
    "print(\"hello world1\", end=\" -- \")\n",
    "print(\"hello world2\", end=\" -- \")\n",
    "print(\"hello world3\")"
   ]
  },
  {
   "cell_type": "code",
   "execution_count": 31,
   "metadata": {},
   "outputs": [
    {
     "name": "stdout",
     "output_type": "stream",
     "text": [
      "hello world1\thello world2\thello world3\n"
     ]
    }
   ],
   "source": [
    "print(\"hello world1\", end=\"\\t\")\n",
    "print(\"hello world2\", end=\"\\t\")\n",
    "print(\"hello world3\")"
   ]
  },
  {
   "cell_type": "markdown",
   "metadata": {},
   "source": [
    "### Escape Charachters"
   ]
  },
  {
   "cell_type": "code",
   "execution_count": 4,
   "metadata": {},
   "outputs": [
    {
     "name": "stdout",
     "output_type": "stream",
     "text": [
      "It's alright\n"
     ]
    }
   ],
   "source": [
    "# \\' -- (single quote) \n",
    "print('It\\'s alright')"
   ]
  },
  {
   "cell_type": "code",
   "execution_count": 6,
   "metadata": {},
   "outputs": [
    {
     "name": "stdout",
     "output_type": "stream",
     "text": [
      "This will insert one \\ (backslash)\n"
     ]
    }
   ],
   "source": [
    "# \\\\ -- (backslash)\n",
    "print(\"This will insert one \\\\ (backslash)\")"
   ]
  },
  {
   "cell_type": "code",
   "execution_count": 8,
   "metadata": {},
   "outputs": [
    {
     "name": "stdout",
     "output_type": "stream",
     "text": [
      "Hello \n",
      "World\n"
     ]
    }
   ],
   "source": [
    "# \\n -- (newline)\n",
    "print(\"Hello \\nWorld\")"
   ]
  },
  {
   "cell_type": "code",
   "execution_count": 14,
   "metadata": {},
   "outputs": [
    {
     "name": "stdout",
     "output_type": "stream",
     "text": [
      "Hello \r",
      "World\n"
     ]
    }
   ],
   "source": [
    "# \\r -- (carriage return) 616\n",
    "# Carriage return means to return to the beginning of the current line without advancing downward\n",
    "print(\"Hello \\rWorld\")"
   ]
  },
  {
   "cell_type": "code",
   "execution_count": 15,
   "metadata": {},
   "outputs": [
    {
     "name": "stdout",
     "output_type": "stream",
     "text": [
      "Hello \t World\n"
     ]
    }
   ],
   "source": [
    "# \\t -- (tab)\n",
    "print(\"Hello \\t World\")"
   ]
  },
  {
   "cell_type": "code",
   "execution_count": 17,
   "metadata": {},
   "outputs": [
    {
     "name": "stdout",
     "output_type": "stream",
     "text": [
      "Hello \bWorld\n"
     ]
    }
   ],
   "source": [
    "# \\b -- (backspace) This example erases one character (backspace):\n",
    "print(\"Hello \\bWorld\")"
   ]
  },
  {
   "cell_type": "code",
   "execution_count": 19,
   "metadata": {},
   "outputs": [
    {
     "name": "stdout",
     "output_type": "stream",
     "text": [
      "Hello \n",
      "ewline World\n"
     ]
    }
   ],
   "source": [
    "print(\"Hello \\newline World\")"
   ]
  },
  {
   "cell_type": "code",
   "execution_count": 20,
   "metadata": {},
   "outputs": [
    {
     "name": "stdout",
     "output_type": "stream",
     "text": [
      "It\"s alright\n"
     ]
    }
   ],
   "source": [
    "# \\\" -- (Double quote)\n",
    "\n",
    "print(\"It\\\"s alright\")"
   ]
  },
  {
   "cell_type": "markdown",
   "metadata": {},
   "source": [
    "### Chapter 2: Variables for Strings"
   ]
  },
  {
   "cell_type": "code",
   "execution_count": 2,
   "metadata": {},
   "outputs": [],
   "source": [
    "# A variable is something that holds a vale that may change\n",
    "\n",
    "# In simple terms, a variable is just box that you can put stuff in\n",
    "\n",
    "# you can use variables to store all kinds of stuff, but for now we are\n",
    "# just going to look at storing strings in variables \n",
    "\n",
    "# (aik aisa placeholder jisky andar hum koi value store karwa saky)\n",
    "# (or jo value hum ny store karwai hai woh bad main change bhi ho saky)"
   ]
  },
  {
   "cell_type": "code",
   "execution_count": 15,
   "metadata": {},
   "outputs": [],
   "source": [
    "# --- \"String\" (charachter of sequence)\n",
    "# --- 10 (int number)\n",
    "# --- 10.5 (floating pint number)"
   ]
  },
  {
   "cell_type": "code",
   "execution_count": 9,
   "metadata": {},
   "outputs": [
    {
     "name": "stdout",
     "output_type": "stream",
     "text": [
      "arsalan\n"
     ]
    }
   ],
   "source": [
    "name = \"arsalan\"\n",
    "\n",
    "# name is variable name(identifier)\n",
    "# = assignment operator\n",
    "# \"arsalan\" value (string value)\n",
    "\n",
    "print(name)"
   ]
  },
  {
   "cell_type": "code",
   "execution_count": 29,
   "metadata": {},
   "outputs": [
    {
     "name": "stdout",
     "output_type": "stream",
     "text": [
      "abc\n"
     ]
    }
   ],
   "source": [
    "name = \"abc\"\n",
    "\n",
    "# (nayee value assign karengy tu purani value override hojayegi)\n",
    "\n",
    "print(name)"
   ]
  },
  {
   "cell_type": "code",
   "execution_count": 64,
   "metadata": {},
   "outputs": [],
   "source": [
    "# variable rules:\n",
    "\n",
    "# variables are never enclosed in quotes\n",
    "# it is not a keyword that has special meaning like -- print\n",
    "# variables cant't have spaces in them\n",
    "# variable name can't start with a number\n",
    "\n",
    "# by convention python uses snake case variable naming\n",
    "# like what_is_your_name = \"arsalan\""
   ]
  },
  {
   "cell_type": "code",
   "execution_count": 14,
   "metadata": {},
   "outputs": [
    {
     "name": "stdout",
     "output_type": "stream",
     "text": [
      "manzoor\n"
     ]
    }
   ],
   "source": [
    "last_name = \"manzoor\"\n",
    "print(last_name)"
   ]
  },
  {
   "cell_type": "code",
   "execution_count": 30,
   "metadata": {},
   "outputs": [
    {
     "name": "stdout",
     "output_type": "stream",
     "text": [
      "karachi\n",
      "<class 'str'>\n"
     ]
    }
   ],
   "source": [
    "city = \"karachi\"\n",
    "print(city)\n",
    "print(type(city))"
   ]
  },
  {
   "cell_type": "markdown",
   "metadata": {},
   "source": [
    "### Chapter 3: Variable for numbers"
   ]
  },
  {
   "cell_type": "code",
   "execution_count": 16,
   "metadata": {},
   "outputs": [],
   "source": [
    "# A string isn't the only thing you can assign to a variable. you can also assign a number"
   ]
  },
  {
   "cell_type": "code",
   "execution_count": 17,
   "metadata": {},
   "outputs": [],
   "source": [
    "a = 10"
   ]
  },
  {
   "cell_type": "code",
   "execution_count": 18,
   "metadata": {},
   "outputs": [
    {
     "name": "stdout",
     "output_type": "stream",
     "text": [
      "10\n"
     ]
    }
   ],
   "source": [
    "print(a)"
   ]
  },
  {
   "cell_type": "code",
   "execution_count": 25,
   "metadata": {},
   "outputs": [
    {
     "name": "stdout",
     "output_type": "stream",
     "text": [
      "10.6\n"
     ]
    }
   ],
   "source": [
    "a = 10.6\n",
    "print(a)"
   ]
  },
  {
   "cell_type": "code",
   "execution_count": 27,
   "metadata": {},
   "outputs": [
    {
     "name": "stdout",
     "output_type": "stream",
     "text": [
      "<class 'float'>\n"
     ]
    }
   ],
   "source": [
    "# int a = 12\n",
    "#(python main jab value ati hai toh woh apny sath apni type lykar ati hai)\n",
    "# datatype ka masla python main nhi ata\n",
    "# jab bhi hum value dalengy woh value apni type khud hi variable ko bata dygi\n",
    "print(type(a))"
   ]
  },
  {
   "cell_type": "code",
   "execution_count": 28,
   "metadata": {},
   "outputs": [
    {
     "data": {
      "text/plain": [
       "int"
      ]
     },
     "execution_count": 28,
     "metadata": {},
     "output_type": "execute_result"
    }
   ],
   "source": [
    "a = 5\n",
    "type(a)"
   ]
  },
  {
   "cell_type": "code",
   "execution_count": 31,
   "metadata": {},
   "outputs": [
    {
     "name": "stdout",
     "output_type": "stream",
     "text": [
      "175\n"
     ]
    }
   ],
   "source": [
    "# a number is not enclosed in quotes unlike string\n",
    "# if you enclose a number in quotation marks it's a string\n",
    "\n",
    "weight = 150\n",
    "print(weight + 25)"
   ]
  },
  {
   "cell_type": "code",
   "execution_count": 33,
   "metadata": {},
   "outputs": [
    {
     "name": "stdout",
     "output_type": "stream",
     "text": [
      "30\n"
     ]
    }
   ],
   "source": [
    "num1 = 23\n",
    "num2 = num1 + 7\n",
    "\n",
    "print(num2)"
   ]
  },
  {
   "cell_type": "code",
   "execution_count": 35,
   "metadata": {},
   "outputs": [
    {
     "name": "stdout",
     "output_type": "stream",
     "text": [
      "12\n"
     ]
    }
   ],
   "source": [
    "# python can also do calculation\n",
    "num_1 = 2\n",
    "num_2 = 10\n",
    "total = num_1 + num_2\n",
    "print(total)"
   ]
  },
  {
   "cell_type": "code",
   "execution_count": 36,
   "metadata": {},
   "outputs": [
    {
     "name": "stdout",
     "output_type": "stream",
     "text": [
      "100\n"
     ]
    }
   ],
   "source": [
    "# a variable can be used in calculating its own new value\n",
    "num = 90\n",
    "num = num + 10\n",
    "print(num)"
   ]
  },
  {
   "cell_type": "code",
   "execution_count": 39,
   "metadata": {},
   "outputs": [],
   "source": [
    "# if you enclose a number in quotaion mark\n",
    "num = \"23\"\n",
    "# new_num = num + 7\n",
    "\n",
    "# it won't work, because python can't sum a string and a number"
   ]
  },
  {
   "cell_type": "markdown",
   "metadata": {},
   "source": [
    "### Chapter 4: Math Expressions"
   ]
  },
  {
   "cell_type": "code",
   "execution_count": 41,
   "metadata": {},
   "outputs": [],
   "source": [
    "# Familiar operators are:\n",
    "# addition +\n",
    "# subtraction -\n",
    "# multiplication *\n",
    "# division /"
   ]
  },
  {
   "cell_type": "code",
   "execution_count": 45,
   "metadata": {},
   "outputs": [
    {
     "name": "stdout",
     "output_type": "stream",
     "text": [
      "68\n",
      "5\n",
      "25\n",
      "0.3333333333333333\n"
     ]
    }
   ],
   "source": [
    "print(23+45)\n",
    "print(10-5)\n",
    "print(5*5)\n",
    "print(5/15)"
   ]
  },
  {
   "cell_type": "code",
   "execution_count": 43,
   "metadata": {},
   "outputs": [
    {
     "name": "stdout",
     "output_type": "stream",
     "text": [
      "57\n"
     ]
    }
   ],
   "source": [
    "a = 23\n",
    "b = 34\n",
    "c = a+b\n",
    "print(c)"
   ]
  },
  {
   "cell_type": "code",
   "execution_count": 47,
   "metadata": {},
   "outputs": [
    {
     "name": "stdout",
     "output_type": "stream",
     "text": [
      "-89.5\n"
     ]
    }
   ],
   "source": [
    "# kisi bhi expression main agar ek bhi value float main hogi tu result float type main ayega\n",
    "value_1 = 100\n",
    "value_2 = 10.5\n",
    "total = value_2 - value_1\n",
    "print(total)"
   ]
  },
  {
   "cell_type": "code",
   "execution_count": 52,
   "metadata": {},
   "outputs": [
    {
     "name": "stdout",
     "output_type": "stream",
     "text": [
      "200\n"
     ]
    }
   ],
   "source": [
    "value_1 = 100\n",
    "value_2 = 100\n",
    "sum = value_1 + value_2\n",
    "print(sum)"
   ]
  },
  {
   "cell_type": "code",
   "execution_count": 53,
   "metadata": {},
   "outputs": [
    {
     "name": "stdout",
     "output_type": "stream",
     "text": [
      "10000\n"
     ]
    }
   ],
   "source": [
    "value_1 = 100\n",
    "value_2 = 100\n",
    "mult = value_1 * value_2\n",
    "print(mult)"
   ]
  },
  {
   "cell_type": "code",
   "execution_count": 61,
   "metadata": {},
   "outputs": [
    {
     "name": "stdout",
     "output_type": "stream",
     "text": [
      "0.5\n"
     ]
    }
   ],
   "source": [
    "# do integer value divide ho rahi hain tu sum floating point main araha hai\n",
    "# iski waja yeh hai k pyhton by default floating point division kehlati hai\n",
    "\n",
    "value_1 = 100\n",
    "value_2 = 200\n",
    "div = value_1 / value_2\n",
    "print(div)"
   ]
  },
  {
   "cell_type": "code",
   "execution_count": 60,
   "metadata": {},
   "outputs": [
    {
     "name": "stdout",
     "output_type": "stream",
     "text": [
      "0\n"
     ]
    }
   ],
   "source": [
    "# agar integer main answer chahiyeh tu ek aur division ka operator use \n",
    "# karengy woh //\n",
    "\n",
    "value_1 = 100\n",
    "value_2 = 200\n",
    "div = value_1 // value_2  # integer division\n",
    "# 0.5 # -- it cut down the decimal part\n",
    "\n",
    "print(div)\n"
   ]
  },
  {
   "cell_type": "markdown",
   "metadata": {},
   "source": [
    "### Chapter 5: Variables Names Legal and Illegal"
   ]
  },
  {
   "cell_type": "code",
   "execution_count": 65,
   "metadata": {},
   "outputs": [],
   "source": [
    "# I already learned four rules about naming a variable\n",
    "\n",
    "# 1. You can't enclose it in quotation marks.\n",
    "# 2. You can't have any space in it\n",
    "# 3. It can't be a number or begin with a number\n",
    "# 4. It can't be any of python's reseved words also known as keywords\n",
    "# the special words act as programming instructions, like print"
   ]
  },
  {
   "cell_type": "code",
   "execution_count": 66,
   "metadata": {},
   "outputs": [],
   "source": [
    "# Here are the rest of rules for naming variables:\n",
    "\n",
    "# 1. A varable name can contain only lowercase letters,uppercase letters\n",
    "# numbers not starting, and underscores\n",
    "\n",
    "# 2. Capital letters are fine but be careful variable names are case sensitive\n",
    "# A rose with a lowercase r is not a Rose with an uppercase\n",
    "\n",
    "# 3. Python's governing body recommends breaking up multi-word variables\n",
    "# with underscores. It'll make them more readable\n",
    "# Examples:\n",
    "\n",
    "# user_response\n",
    "# user_response_time\n",
    "# user_response_time_limit"
   ]
  },
  {
   "cell_type": "markdown",
   "metadata": {},
   "source": [
    "### Chapter 6: Math Expression Unfamiliar operators"
   ]
  },
  {
   "cell_type": "code",
   "execution_count": 68,
   "metadata": {},
   "outputs": [],
   "source": [
    "# % modulo operator -- it divides one number by another, but doesn't\n",
    "# give you the result of the division. It gives you the reminder after\n",
    "# the first number is divided by the second number."
   ]
  },
  {
   "cell_type": "code",
   "execution_count": 69,
   "metadata": {},
   "outputs": [
    {
     "name": "stdout",
     "output_type": "stream",
     "text": [
      "1\n"
     ]
    }
   ],
   "source": [
    "whats_left_over = 10 % 3\n",
    "print(whats_left_over)"
   ]
  },
  {
   "cell_type": "code",
   "execution_count": 70,
   "metadata": {},
   "outputs": [],
   "source": [
    "# if one number divides evenly into another, the modulo statement assigns\n",
    "# 0 to the variable"
   ]
  },
  {
   "cell_type": "code",
   "execution_count": 71,
   "metadata": {},
   "outputs": [
    {
     "name": "stdout",
     "output_type": "stream",
     "text": [
      "0\n"
     ]
    }
   ],
   "source": [
    "whats_left_over = 9 % 3\n",
    "print(whats_left_over)"
   ]
  },
  {
   "cell_type": "code",
   "execution_count": 74,
   "metadata": {},
   "outputs": [
    {
     "name": "stdout",
     "output_type": "stream",
     "text": [
      "10\n"
     ]
    }
   ],
   "source": [
    "# Here is second operator\n",
    "# suppose you want to increase the of variable by 1 you could write\n",
    "\n",
    "num = 10\n",
    "print(num)"
   ]
  },
  {
   "cell_type": "code",
   "execution_count": 73,
   "metadata": {},
   "outputs": [
    {
     "name": "stdout",
     "output_type": "stream",
     "text": [
      "11\n"
     ]
    }
   ],
   "source": [
    "num = num + 1\n",
    "print(num)"
   ]
  },
  {
   "cell_type": "code",
   "execution_count": 75,
   "metadata": {},
   "outputs": [
    {
     "name": "stdout",
     "output_type": "stream",
     "text": [
      "11\n"
     ]
    }
   ],
   "source": [
    "# this is shorthand way of doing the same thing\n",
    "num += 1\n",
    "print(num)"
   ]
  },
  {
   "cell_type": "code",
   "execution_count": 76,
   "metadata": {},
   "outputs": [
    {
     "name": "stdout",
     "output_type": "stream",
     "text": [
      "10\n"
     ]
    }
   ],
   "source": [
    "num = 10\n",
    "print(num)"
   ]
  },
  {
   "cell_type": "code",
   "execution_count": 77,
   "metadata": {},
   "outputs": [
    {
     "name": "stdout",
     "output_type": "stream",
     "text": [
      "20\n"
     ]
    }
   ],
   "source": [
    "num += 10\n",
    "print(num)"
   ]
  },
  {
   "cell_type": "code",
   "execution_count": 78,
   "metadata": {},
   "outputs": [
    {
     "name": "stdout",
     "output_type": "stream",
     "text": [
      "10\n"
     ]
    }
   ],
   "source": [
    "# you can use the same kind of shorthand for other operators, too.\n",
    "# In the following code num is winds up of value 10.\n",
    "\n",
    "num = 12\n",
    "num -= 2\n",
    "print(num)"
   ]
  },
  {
   "cell_type": "code",
   "execution_count": 79,
   "metadata": {},
   "outputs": [
    {
     "name": "stdout",
     "output_type": "stream",
     "text": [
      "36\n"
     ]
    }
   ],
   "source": [
    "# In the following code num is winds up with a value of 36\n",
    "num = 12\n",
    "num *= 3\n",
    "print(num)"
   ]
  },
  {
   "cell_type": "code",
   "execution_count": 80,
   "metadata": {},
   "outputs": [
    {
     "name": "stdout",
     "output_type": "stream",
     "text": [
      "15\n"
     ]
    }
   ],
   "source": [
    "# Don't forget that you can always use a variable instead of number.\n",
    "# In the following code num wids up with a value of 15\n",
    "num = 12\n",
    "amount_to_increment = 3\n",
    "num += amount_to_increment\n",
    "print(num)"
   ]
  },
  {
   "cell_type": "markdown",
   "metadata": {},
   "source": [
    "### Operators"
   ]
  },
  {
   "cell_type": "code",
   "execution_count": null,
   "metadata": {},
   "outputs": [],
   "source": [
    "# Total Operators are:\n",
    "\n",
    "+, - , * /, %, // ,** # Mathematics\n",
    "\n",
    "=, += ,-= ,*=, /=, %= # Assign operator\n",
    "\n",
    "==, >, <, >=, <=, != # Logical operator\n",
    "\n",
    "and, or # Combine logic checking"
   ]
  },
  {
   "cell_type": "markdown",
   "metadata": {},
   "source": [
    "### Chapter 7: Math Expressions Eliminationg ambiguity"
   ]
  },
  {
   "cell_type": "code",
   "execution_count": 81,
   "metadata": {},
   "outputs": [],
   "source": [
    "# Comples arithmeric operation can pose a problem, one that student\n",
    "# face in high school algebra. Look at this example"
   ]
  },
  {
   "cell_type": "code",
   "execution_count": 82,
   "metadata": {},
   "outputs": [
    {
     "name": "stdout",
     "output_type": "stream",
     "text": [
      "13\n"
     ]
    }
   ],
   "source": [
    "total_cost = 1+3*4\n",
    "print(total_cost)"
   ]
  },
  {
   "cell_type": "code",
   "execution_count": 83,
   "metadata": {},
   "outputs": [],
   "source": [
    "# In python, as in algebra, the ambiguity is cleard by precedense rules."
   ]
  },
  {
   "cell_type": "code",
   "execution_count": 99,
   "metadata": {},
   "outputs": [
    {
     "data": {
      "text/plain": [
       "17.6"
      ]
     },
     "execution_count": 99,
     "metadata": {},
     "output_type": "execute_result"
    }
   ],
   "source": [
    "2 + 6 * 8 / 5 + (2*3)"
   ]
  },
  {
   "cell_type": "markdown",
   "metadata": {},
   "source": [
    "Pedmas\n",
    "2 + 6 * 8 / 5 + (2 * 3)\n",
    "2 + 6 * 8 / 5 + 6\n",
    "2 + 48 / 5 + 6\n",
    "2 + 9.5 + 6\n",
    "2 + 15.6\n",
    "17.6"
   ]
  },
  {
   "cell_type": "code",
   "execution_count": 86,
   "metadata": {},
   "outputs": [],
   "source": [
    "# Pedmas \n",
    "\n",
    "# parenthesis ()\n",
    "# exponent **\n",
    "# multiplication *\n",
    "# division /\n",
    "# addition +\n",
    "# subtraction -"
   ]
  },
  {
   "cell_type": "code",
   "execution_count": 87,
   "metadata": {},
   "outputs": [],
   "source": [
    "# You can finess the issue by using parenthesis to eliminate ambiguity.\n",
    "# parentheses override all the other precedense rules.They force\n",
    "# python to complete operations enclosed by parentheses before completing\n",
    "# any other operations"
   ]
  },
  {
   "cell_type": "code",
   "execution_count": 88,
   "metadata": {},
   "outputs": [],
   "source": [
    "# In this statement parentheses tell python to first multiply 3 by 4\n",
    "# then add 1. the result: 13"
   ]
  },
  {
   "cell_type": "code",
   "execution_count": 89,
   "metadata": {},
   "outputs": [
    {
     "name": "stdout",
     "output_type": "stream",
     "text": [
      "13\n"
     ]
    }
   ],
   "source": [
    "total_cost = 1 + (3*4)\n",
    "print(total_cost)"
   ]
  },
  {
   "cell_type": "code",
   "execution_count": 90,
   "metadata": {},
   "outputs": [],
   "source": [
    "# If i move parentheses, the arithmetic is done in a different order.\n",
    "# In this next statement, the placement of the parenthes tells python\n",
    "# to first add 1 and 3, then multiply 4. the result: 16\n"
   ]
  },
  {
   "cell_type": "code",
   "execution_count": 91,
   "metadata": {},
   "outputs": [
    {
     "name": "stdout",
     "output_type": "stream",
     "text": [
      "16\n"
     ]
    }
   ],
   "source": [
    "total_cost = (1+3) * 4\n",
    "print(total_cost)"
   ]
  },
  {
   "cell_type": "code",
   "execution_count": 95,
   "metadata": {},
   "outputs": [
    {
     "name": "stdout",
     "output_type": "stream",
     "text": [
      "34\n"
     ]
    }
   ],
   "source": [
    "# another example\n",
    "result_of_computation = (2*4) * 4 + 2\n",
    "print(result_of_computation)"
   ]
  },
  {
   "cell_type": "code",
   "execution_count": 97,
   "metadata": {},
   "outputs": [
    {
     "name": "stdout",
     "output_type": "stream",
     "text": [
      "34\n"
     ]
    }
   ],
   "source": [
    "result_of_computation=((2*4) * 4) + 2\n",
    "print(result_of_computation)"
   ]
  },
  {
   "cell_type": "code",
   "execution_count": 98,
   "metadata": {},
   "outputs": [
    {
     "name": "stdout",
     "output_type": "stream",
     "text": [
      "16\n"
     ]
    }
   ],
   "source": [
    "result_of_computation = (2*4) + (4*2)\n",
    "print(result_of_computation)"
   ]
  },
  {
   "cell_type": "markdown",
   "metadata": {},
   "source": [
    "### Chapter: 8 Concatenating text strings"
   ]
  },
  {
   "cell_type": "code",
   "execution_count": 106,
   "metadata": {},
   "outputs": [],
   "source": [
    "# in string + is not addition but it is concateneation"
   ]
  },
  {
   "cell_type": "code",
   "execution_count": 104,
   "metadata": {},
   "outputs": [
    {
     "name": "stdout",
     "output_type": "stream",
     "text": [
      "arsalan manzoor\n"
     ]
    }
   ],
   "source": [
    "# Suppose you wanted to break the greeting into two parts, and\n",
    "# assign each part a separate variable, like this:\n",
    "\n",
    "first_name = \"arsalan\"\n",
    "last_name = \"manzoor\"\n",
    "\n",
    "# you tell python to combine the two strings this way:\n",
    "# It's callled concatenation, all it takes is a plus sign\n",
    "\n",
    "full_name = first_name + \" \" + last_name\n",
    "print(full_name)"
   ]
  },
  {
   "cell_type": "code",
   "execution_count": 105,
   "metadata": {},
   "outputs": [
    {
     "name": "stdout",
     "output_type": "stream",
     "text": [
      "arsalan manzoor\n"
     ]
    }
   ],
   "source": [
    "first_name = \"arsalan\"\n",
    "separators = \" \"\n",
    "last_name = \"manzoor\"\n",
    "full_name = first_name + separators + last_name\n",
    "print(full_name)"
   ]
  },
  {
   "cell_type": "code",
   "execution_count": 108,
   "metadata": {},
   "outputs": [
    {
     "name": "stdout",
     "output_type": "stream",
     "text": [
      "arsalan manzoor\n"
     ]
    }
   ],
   "source": [
    "print(first_name + separators + last_name)"
   ]
  },
  {
   "cell_type": "code",
   "execution_count": 109,
   "metadata": {},
   "outputs": [
    {
     "name": "stdout",
     "output_type": "stream",
     "text": [
      "Hello arsalan\n"
     ]
    }
   ],
   "source": [
    "print(\"Hello \"+ first_name)"
   ]
  },
  {
   "cell_type": "code",
   "execution_count": 111,
   "metadata": {},
   "outputs": [
    {
     "name": "stdout",
     "output_type": "stream",
     "text": [
      "The sum of 2 plus 2 is :  4\n"
     ]
    }
   ],
   "source": [
    "# you can use the plus sign to sum numbers, and you can use it to\n",
    "# concatenate strings but you can't use the plus sign to combine \n",
    "# strings and numbers\n",
    "\n",
    "print(\"The sum of 2 plus 2 is : \" +\" 4\")"
   ]
  },
  {
   "cell_type": "code",
   "execution_count": null,
   "metadata": {},
   "outputs": [],
   "source": []
  }
 ],
 "metadata": {
  "kernelspec": {
   "display_name": "Python 3",
   "language": "python",
   "name": "python3"
  },
  "language_info": {
   "codemirror_mode": {
    "name": "ipython",
    "version": 3
   },
   "file_extension": ".py",
   "mimetype": "text/x-python",
   "name": "python",
   "nbconvert_exporter": "python",
   "pygments_lexer": "ipython3",
   "version": "3.7.7"
  }
 },
 "nbformat": 4,
 "nbformat_minor": 4
}
