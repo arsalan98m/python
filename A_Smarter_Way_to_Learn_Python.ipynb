{
 "cells": [
  {
   "cell_type": "markdown",
   "metadata": {},
   "source": [
    "### Chapter:  1 -  print"
   ]
  },
  {
   "cell_type": "code",
   "execution_count": 9,
   "metadata": {},
   "outputs": [],
   "source": [
    "# print is a function\n",
    "# print tells the program to display words or numbers on the screen."
   ]
  },
  {
   "cell_type": "code",
   "execution_count": 10,
   "metadata": {},
   "outputs": [
    {
     "name": "stdout",
     "output_type": "stream",
     "text": [
      "Hello, world!\n"
     ]
    }
   ],
   "source": [
    "print(\"Hello, world!\")"
   ]
  },
  {
   "cell_type": "code",
   "execution_count": 11,
   "metadata": {},
   "outputs": [],
   "source": [
    "# Print() --> Error"
   ]
  },
  {
   "cell_type": "code",
   "execution_count": 12,
   "metadata": {},
   "outputs": [
    {
     "name": "stdout",
     "output_type": "stream",
     "text": [
      "1000\n"
     ]
    }
   ],
   "source": [
    "print(1000) # integer"
   ]
  },
  {
   "cell_type": "code",
   "execution_count": 13,
   "metadata": {},
   "outputs": [
    {
     "name": "stdout",
     "output_type": "stream",
     "text": [
      "123 456\n"
     ]
    }
   ],
   "source": [
    "# ek sy ziyada values bhi print main di ja sakti hai\n",
    "print(123,456)"
   ]
  },
  {
   "cell_type": "code",
   "execution_count": 14,
   "metadata": {},
   "outputs": [
    {
     "name": "stdout",
     "output_type": "stream",
     "text": [
      "123 12.3\n"
     ]
    }
   ],
   "source": [
    "print(123,12.3) # integer and floating point"
   ]
  },
  {
   "cell_type": "code",
   "execution_count": 15,
   "metadata": {},
   "outputs": [
    {
     "name": "stdout",
     "output_type": "stream",
     "text": [
      "python\n"
     ]
    }
   ],
   "source": [
    "print(\"python\") # string"
   ]
  },
  {
   "cell_type": "code",
   "execution_count": 16,
   "metadata": {},
   "outputs": [
    {
     "name": "stdout",
     "output_type": "stream",
     "text": [
      "12\n"
     ]
    }
   ],
   "source": [
    "# quotation ky andar jo bhi data likhy gy woh data string data kehlata hai\n",
    "print(\"12\")"
   ]
  },
  {
   "cell_type": "code",
   "execution_count": 17,
   "metadata": {},
   "outputs": [
    {
     "name": "stdout",
     "output_type": "stream",
     "text": [
      "123pakistan\n"
     ]
    }
   ],
   "source": [
    "print(\"123pakistan\") # alphanumeric data"
   ]
  },
  {
   "cell_type": "code",
   "execution_count": 18,
   "metadata": {},
   "outputs": [
    {
     "name": "stdout",
     "output_type": "stream",
     "text": [
      "\n"
     ]
    }
   ],
   "source": [
    "# bracket ky pass mouse hover kary tu waha jo docstring hai \n",
    "# woh function ka signature kehlata hai\n",
    "print()"
   ]
  },
  {
   "cell_type": "code",
   "execution_count": 21,
   "metadata": {},
   "outputs": [
    {
     "name": "stdout",
     "output_type": "stream",
     "text": [
      "pakistan python piaic\n"
     ]
    }
   ],
   "source": [
    "# seperator ki waja sy ek value dosri value sy separate hai\n",
    "# default separator is space\n",
    "print(\"pakistan\", \"python\", \"piaic\")"
   ]
  },
  {
   "cell_type": "code",
   "execution_count": 19,
   "metadata": {},
   "outputs": [
    {
     "name": "stdout",
     "output_type": "stream",
     "text": [
      "pakistan === python === piaic\n"
     ]
    }
   ],
   "source": [
    "print(\"pakistan\", \"python\", \"piaic\", sep=\" === \")"
   ]
  },
  {
   "cell_type": "code",
   "execution_count": 23,
   "metadata": {},
   "outputs": [
    {
     "name": "stdout",
     "output_type": "stream",
     "text": [
      "hello world 1\n",
      "hello world 2\n",
      "hello world 3\n"
     ]
    }
   ],
   "source": [
    "# end default value is new line\n",
    "# \\n -- Escape character\n",
    "\n",
    "print(\"hello world 1\")\n",
    "print(\"hello world 2\")\n",
    "print(\"hello world 3\")"
   ]
  },
  {
   "cell_type": "code",
   "execution_count": 30,
   "metadata": {},
   "outputs": [
    {
     "name": "stdout",
     "output_type": "stream",
     "text": [
      "hello world1 -- hello world2 -- hello world3\n"
     ]
    }
   ],
   "source": [
    "print(\"hello world1\", end=\" -- \")\n",
    "print(\"hello world2\", end=\" -- \")\n",
    "print(\"hello world3\")"
   ]
  },
  {
   "cell_type": "code",
   "execution_count": 31,
   "metadata": {},
   "outputs": [
    {
     "name": "stdout",
     "output_type": "stream",
     "text": [
      "hello world1\thello world2\thello world3\n"
     ]
    }
   ],
   "source": [
    "print(\"hello world1\", end=\"\\t\")\n",
    "print(\"hello world2\", end=\"\\t\")\n",
    "print(\"hello world3\")"
   ]
  },
  {
   "cell_type": "markdown",
   "metadata": {},
   "source": [
    "### Escape Charachters"
   ]
  },
  {
   "cell_type": "code",
   "execution_count": 4,
   "metadata": {},
   "outputs": [
    {
     "name": "stdout",
     "output_type": "stream",
     "text": [
      "It's alright\n"
     ]
    }
   ],
   "source": [
    "# \\' -- (single quote) \n",
    "print('It\\'s alright')"
   ]
  },
  {
   "cell_type": "code",
   "execution_count": 6,
   "metadata": {},
   "outputs": [
    {
     "name": "stdout",
     "output_type": "stream",
     "text": [
      "This will insert one \\ (backslash)\n"
     ]
    }
   ],
   "source": [
    "# \\\\ -- (backslash)\n",
    "print(\"This will insert one \\\\ (backslash)\")"
   ]
  },
  {
   "cell_type": "code",
   "execution_count": 8,
   "metadata": {},
   "outputs": [
    {
     "name": "stdout",
     "output_type": "stream",
     "text": [
      "Hello \n",
      "World\n"
     ]
    }
   ],
   "source": [
    "# \\n -- (newline)\n",
    "print(\"Hello \\nWorld\")"
   ]
  },
  {
   "cell_type": "code",
   "execution_count": 14,
   "metadata": {},
   "outputs": [
    {
     "name": "stdout",
     "output_type": "stream",
     "text": [
      "Hello \r",
      "World\n"
     ]
    }
   ],
   "source": [
    "# \\r -- (carriage return) 616\n",
    "# Carriage return means to return to the beginning of the current line without advancing downward\n",
    "print(\"Hello \\rWorld\")"
   ]
  },
  {
   "cell_type": "code",
   "execution_count": 15,
   "metadata": {},
   "outputs": [
    {
     "name": "stdout",
     "output_type": "stream",
     "text": [
      "Hello \t World\n"
     ]
    }
   ],
   "source": [
    "# \\t -- (tab)\n",
    "print(\"Hello \\t World\")"
   ]
  },
  {
   "cell_type": "code",
   "execution_count": 17,
   "metadata": {},
   "outputs": [
    {
     "name": "stdout",
     "output_type": "stream",
     "text": [
      "Hello \bWorld\n"
     ]
    }
   ],
   "source": [
    "# \\b -- (backspace) This example erases one character (backspace):\n",
    "print(\"Hello \\bWorld\")"
   ]
  },
  {
   "cell_type": "code",
   "execution_count": 19,
   "metadata": {},
   "outputs": [
    {
     "name": "stdout",
     "output_type": "stream",
     "text": [
      "Hello \n",
      "ewline World\n"
     ]
    }
   ],
   "source": [
    "print(\"Hello \\newline World\")"
   ]
  },
  {
   "cell_type": "code",
   "execution_count": 20,
   "metadata": {},
   "outputs": [
    {
     "name": "stdout",
     "output_type": "stream",
     "text": [
      "It\"s alright\n"
     ]
    }
   ],
   "source": [
    "# \\\" -- (Double quote)\n",
    "\n",
    "print(\"It\\\"s alright\")"
   ]
  },
  {
   "cell_type": "markdown",
   "metadata": {},
   "source": [
    "### Chapter 2: Variables for Strings"
   ]
  },
  {
   "cell_type": "code",
   "execution_count": 2,
   "metadata": {},
   "outputs": [],
   "source": [
    "# A variable is something that holds a vale that may change\n",
    "\n",
    "# In simple terms, a variable is just box that you can put stuff in\n",
    "\n",
    "# you can use variables to store all kinds of stuff, but for now we are\n",
    "# just going to look at storing strings in variables \n",
    "\n",
    "# (aik aisa placeholder jisky andar hum koi value store karwa saky)\n",
    "# (or jo value hum ny store karwai hai woh bad main change bhi ho saky)"
   ]
  },
  {
   "cell_type": "code",
   "execution_count": 15,
   "metadata": {},
   "outputs": [],
   "source": [
    "# --- \"String\" (charachter of sequence)\n",
    "# --- 10 (int number)\n",
    "# --- 10.5 (floating pint number)"
   ]
  },
  {
   "cell_type": "code",
   "execution_count": 9,
   "metadata": {},
   "outputs": [
    {
     "name": "stdout",
     "output_type": "stream",
     "text": [
      "arsalan\n"
     ]
    }
   ],
   "source": [
    "name = \"arsalan\"\n",
    "\n",
    "# name is variable name(identifier)\n",
    "# = assignment operator\n",
    "# \"arsalan\" value (string value)\n",
    "\n",
    "print(name)"
   ]
  },
  {
   "cell_type": "code",
   "execution_count": 29,
   "metadata": {},
   "outputs": [
    {
     "name": "stdout",
     "output_type": "stream",
     "text": [
      "abc\n"
     ]
    }
   ],
   "source": [
    "name = \"abc\"\n",
    "\n",
    "# (nayee value assign karengy tu purani value override hojayegi)\n",
    "\n",
    "print(name)"
   ]
  },
  {
   "cell_type": "code",
   "execution_count": 64,
   "metadata": {},
   "outputs": [],
   "source": [
    "# variable rules:\n",
    "\n",
    "# variables are never enclosed in quotes\n",
    "# it is not a keyword that has special meaning like -- print\n",
    "# variables cant't have spaces in them\n",
    "# variable name can't start with a number\n",
    "\n",
    "# by convention python uses snake case variable naming\n",
    "# like what_is_your_name = \"arsalan\""
   ]
  },
  {
   "cell_type": "code",
   "execution_count": 14,
   "metadata": {},
   "outputs": [
    {
     "name": "stdout",
     "output_type": "stream",
     "text": [
      "manzoor\n"
     ]
    }
   ],
   "source": [
    "last_name = \"manzoor\"\n",
    "print(last_name)"
   ]
  },
  {
   "cell_type": "code",
   "execution_count": 30,
   "metadata": {},
   "outputs": [
    {
     "name": "stdout",
     "output_type": "stream",
     "text": [
      "karachi\n",
      "<class 'str'>\n"
     ]
    }
   ],
   "source": [
    "city = \"karachi\"\n",
    "print(city)\n",
    "print(type(city))"
   ]
  },
  {
   "cell_type": "markdown",
   "metadata": {},
   "source": [
    "### Chapter 3: Variable for numbers"
   ]
  },
  {
   "cell_type": "code",
   "execution_count": 16,
   "metadata": {},
   "outputs": [],
   "source": [
    "# A string isn't the only thing you can assign to a variable. you can also assign a number"
   ]
  },
  {
   "cell_type": "code",
   "execution_count": 17,
   "metadata": {},
   "outputs": [],
   "source": [
    "a = 10"
   ]
  },
  {
   "cell_type": "code",
   "execution_count": 18,
   "metadata": {},
   "outputs": [
    {
     "name": "stdout",
     "output_type": "stream",
     "text": [
      "10\n"
     ]
    }
   ],
   "source": [
    "print(a)"
   ]
  },
  {
   "cell_type": "code",
   "execution_count": 25,
   "metadata": {},
   "outputs": [
    {
     "name": "stdout",
     "output_type": "stream",
     "text": [
      "10.6\n"
     ]
    }
   ],
   "source": [
    "a = 10.6\n",
    "print(a)"
   ]
  },
  {
   "cell_type": "code",
   "execution_count": 27,
   "metadata": {},
   "outputs": [
    {
     "name": "stdout",
     "output_type": "stream",
     "text": [
      "<class 'float'>\n"
     ]
    }
   ],
   "source": [
    "# int a = 12\n",
    "#(python main jab value ati hai toh woh apny sath apni type lykar ati hai)\n",
    "# datatype ka masla python main nhi ata\n",
    "# jab bhi hum value dalengy woh value apni type khud hi variable ko bata dygi\n",
    "print(type(a))"
   ]
  },
  {
   "cell_type": "code",
   "execution_count": 28,
   "metadata": {},
   "outputs": [
    {
     "data": {
      "text/plain": [
       "int"
      ]
     },
     "execution_count": 28,
     "metadata": {},
     "output_type": "execute_result"
    }
   ],
   "source": [
    "a = 5\n",
    "type(a)"
   ]
  },
  {
   "cell_type": "code",
   "execution_count": 31,
   "metadata": {},
   "outputs": [
    {
     "name": "stdout",
     "output_type": "stream",
     "text": [
      "175\n"
     ]
    }
   ],
   "source": [
    "# a number is not enclosed in quotes unlike string\n",
    "# if you enclose a number in quotation marks it's a string\n",
    "\n",
    "weight = 150\n",
    "print(weight + 25)"
   ]
  },
  {
   "cell_type": "code",
   "execution_count": 33,
   "metadata": {},
   "outputs": [
    {
     "name": "stdout",
     "output_type": "stream",
     "text": [
      "30\n"
     ]
    }
   ],
   "source": [
    "num1 = 23\n",
    "num2 = num1 + 7\n",
    "\n",
    "print(num2)"
   ]
  },
  {
   "cell_type": "code",
   "execution_count": 35,
   "metadata": {},
   "outputs": [
    {
     "name": "stdout",
     "output_type": "stream",
     "text": [
      "12\n"
     ]
    }
   ],
   "source": [
    "# python can also do calculation\n",
    "num_1 = 2\n",
    "num_2 = 10\n",
    "total = num_1 + num_2\n",
    "print(total)"
   ]
  },
  {
   "cell_type": "code",
   "execution_count": 36,
   "metadata": {},
   "outputs": [
    {
     "name": "stdout",
     "output_type": "stream",
     "text": [
      "100\n"
     ]
    }
   ],
   "source": [
    "# a variable can be used in calculating its own new value\n",
    "num = 90\n",
    "num = num + 10\n",
    "print(num)"
   ]
  },
  {
   "cell_type": "code",
   "execution_count": 39,
   "metadata": {},
   "outputs": [],
   "source": [
    "# if you enclose a number in quotaion mark\n",
    "num = \"23\"\n",
    "# new_num = num + 7\n",
    "\n",
    "# it won't work, because python can't sum a string and a number"
   ]
  },
  {
   "cell_type": "markdown",
   "metadata": {},
   "source": [
    "### Chapter 4: Math Expressions"
   ]
  },
  {
   "cell_type": "code",
   "execution_count": 41,
   "metadata": {},
   "outputs": [],
   "source": [
    "# Familiar operators are:\n",
    "# addition +\n",
    "# subtraction -\n",
    "# multiplication *\n",
    "# division /"
   ]
  },
  {
   "cell_type": "code",
   "execution_count": 45,
   "metadata": {},
   "outputs": [
    {
     "name": "stdout",
     "output_type": "stream",
     "text": [
      "68\n",
      "5\n",
      "25\n",
      "0.3333333333333333\n"
     ]
    }
   ],
   "source": [
    "print(23+45)\n",
    "print(10-5)\n",
    "print(5*5)\n",
    "print(5/15)"
   ]
  },
  {
   "cell_type": "code",
   "execution_count": 43,
   "metadata": {},
   "outputs": [
    {
     "name": "stdout",
     "output_type": "stream",
     "text": [
      "57\n"
     ]
    }
   ],
   "source": [
    "a = 23\n",
    "b = 34\n",
    "c = a+b\n",
    "print(c)"
   ]
  },
  {
   "cell_type": "code",
   "execution_count": 47,
   "metadata": {},
   "outputs": [
    {
     "name": "stdout",
     "output_type": "stream",
     "text": [
      "-89.5\n"
     ]
    }
   ],
   "source": [
    "# kisi bhi expression main agar ek bhi value float main hogi tu result float type main ayega\n",
    "value_1 = 100\n",
    "value_2 = 10.5\n",
    "total = value_2 - value_1\n",
    "print(total)"
   ]
  },
  {
   "cell_type": "code",
   "execution_count": 52,
   "metadata": {},
   "outputs": [
    {
     "name": "stdout",
     "output_type": "stream",
     "text": [
      "200\n"
     ]
    }
   ],
   "source": [
    "value_1 = 100\n",
    "value_2 = 100\n",
    "sum = value_1 + value_2\n",
    "print(sum)"
   ]
  },
  {
   "cell_type": "code",
   "execution_count": 53,
   "metadata": {},
   "outputs": [
    {
     "name": "stdout",
     "output_type": "stream",
     "text": [
      "10000\n"
     ]
    }
   ],
   "source": [
    "value_1 = 100\n",
    "value_2 = 100\n",
    "mult = value_1 * value_2\n",
    "print(mult)"
   ]
  },
  {
   "cell_type": "code",
   "execution_count": 61,
   "metadata": {},
   "outputs": [
    {
     "name": "stdout",
     "output_type": "stream",
     "text": [
      "0.5\n"
     ]
    }
   ],
   "source": [
    "# do integer value divide ho rahi hain tu sum floating point main araha hai\n",
    "# iski waja yeh hai k pyhton by default floating point division kehlati hai\n",
    "\n",
    "value_1 = 100\n",
    "value_2 = 200\n",
    "div = value_1 / value_2\n",
    "print(div)"
   ]
  },
  {
   "cell_type": "code",
   "execution_count": 60,
   "metadata": {},
   "outputs": [
    {
     "name": "stdout",
     "output_type": "stream",
     "text": [
      "0\n"
     ]
    }
   ],
   "source": [
    "# agar integer main answer chahiyeh tu ek aur division ka operator use \n",
    "# karengy woh //\n",
    "\n",
    "value_1 = 100\n",
    "value_2 = 200\n",
    "div = value_1 // value_2  # integer division\n",
    "# 0.5 # -- it cut down the decimal part\n",
    "\n",
    "print(div)\n"
   ]
  },
  {
   "cell_type": "markdown",
   "metadata": {},
   "source": [
    "### Chapter 5: Variables Names Legal and Illegal"
   ]
  },
  {
   "cell_type": "code",
   "execution_count": 65,
   "metadata": {},
   "outputs": [],
   "source": [
    "# I already learned four rules about naming a variable\n",
    "\n",
    "# 1. You can't enclose it in quotation marks.\n",
    "# 2. You can't have any space in it\n",
    "# 3. It can't be a number or begin with a number\n",
    "# 4. It can't be any of python's reseved words also known as keywords\n",
    "# the special words act as programming instructions, like print"
   ]
  },
  {
   "cell_type": "code",
   "execution_count": 66,
   "metadata": {},
   "outputs": [],
   "source": [
    "# Here are the rest of rules for naming variables:\n",
    "\n",
    "# 1. A varable name can contain only lowercase letters,uppercase letters\n",
    "# numbers not starting, and underscores\n",
    "\n",
    "# 2. Capital letters are fine but be careful variable names are case sensitive\n",
    "# A rose with a lowercase r is not a Rose with an uppercase\n",
    "\n",
    "# 3. Python's governing body recommends breaking up multi-word variables\n",
    "# with underscores. It'll make them more readable\n",
    "# Examples:\n",
    "\n",
    "# user_response\n",
    "# user_response_time\n",
    "# user_response_time_limit"
   ]
  },
  {
   "cell_type": "markdown",
   "metadata": {},
   "source": [
    "### Chapter 6: Math Expression Unfamiliar operators"
   ]
  },
  {
   "cell_type": "code",
   "execution_count": 68,
   "metadata": {},
   "outputs": [],
   "source": [
    "# % modulo operator -- it divides one number by another, but doesn't\n",
    "# give you the result of the division. It gives you the reminder after\n",
    "# the first number is divided by the second number."
   ]
  },
  {
   "cell_type": "code",
   "execution_count": 69,
   "metadata": {},
   "outputs": [
    {
     "name": "stdout",
     "output_type": "stream",
     "text": [
      "1\n"
     ]
    }
   ],
   "source": [
    "whats_left_over = 10 % 3\n",
    "print(whats_left_over)"
   ]
  },
  {
   "cell_type": "code",
   "execution_count": 70,
   "metadata": {},
   "outputs": [],
   "source": [
    "# if one number divides evenly into another, the modulo statement assigns\n",
    "# 0 to the variable"
   ]
  },
  {
   "cell_type": "code",
   "execution_count": 71,
   "metadata": {},
   "outputs": [
    {
     "name": "stdout",
     "output_type": "stream",
     "text": [
      "0\n"
     ]
    }
   ],
   "source": [
    "whats_left_over = 9 % 3\n",
    "print(whats_left_over)"
   ]
  },
  {
   "cell_type": "code",
   "execution_count": 74,
   "metadata": {},
   "outputs": [
    {
     "name": "stdout",
     "output_type": "stream",
     "text": [
      "10\n"
     ]
    }
   ],
   "source": [
    "# Here is second operator\n",
    "# suppose you want to increase the of variable by 1 you could write\n",
    "\n",
    "num = 10\n",
    "print(num)"
   ]
  },
  {
   "cell_type": "code",
   "execution_count": 73,
   "metadata": {},
   "outputs": [
    {
     "name": "stdout",
     "output_type": "stream",
     "text": [
      "11\n"
     ]
    }
   ],
   "source": [
    "num = num + 1\n",
    "print(num)"
   ]
  },
  {
   "cell_type": "code",
   "execution_count": 75,
   "metadata": {},
   "outputs": [
    {
     "name": "stdout",
     "output_type": "stream",
     "text": [
      "11\n"
     ]
    }
   ],
   "source": [
    "# this is shorthand way of doing the same thing\n",
    "num += 1\n",
    "print(num)"
   ]
  },
  {
   "cell_type": "code",
   "execution_count": 76,
   "metadata": {},
   "outputs": [
    {
     "name": "stdout",
     "output_type": "stream",
     "text": [
      "10\n"
     ]
    }
   ],
   "source": [
    "num = 10\n",
    "print(num)"
   ]
  },
  {
   "cell_type": "code",
   "execution_count": 77,
   "metadata": {},
   "outputs": [
    {
     "name": "stdout",
     "output_type": "stream",
     "text": [
      "20\n"
     ]
    }
   ],
   "source": [
    "num += 10\n",
    "print(num)"
   ]
  },
  {
   "cell_type": "code",
   "execution_count": 78,
   "metadata": {},
   "outputs": [
    {
     "name": "stdout",
     "output_type": "stream",
     "text": [
      "10\n"
     ]
    }
   ],
   "source": [
    "# you can use the same kind of shorthand for other operators, too.\n",
    "# In the following code num is winds up of value 10.\n",
    "\n",
    "num = 12\n",
    "num -= 2\n",
    "print(num)"
   ]
  },
  {
   "cell_type": "code",
   "execution_count": 79,
   "metadata": {},
   "outputs": [
    {
     "name": "stdout",
     "output_type": "stream",
     "text": [
      "36\n"
     ]
    }
   ],
   "source": [
    "# In the following code num is winds up with a value of 36\n",
    "num = 12\n",
    "num *= 3\n",
    "print(num)"
   ]
  },
  {
   "cell_type": "code",
   "execution_count": 80,
   "metadata": {},
   "outputs": [
    {
     "name": "stdout",
     "output_type": "stream",
     "text": [
      "15\n"
     ]
    }
   ],
   "source": [
    "# Don't forget that you can always use a variable instead of number.\n",
    "# In the following code num wids up with a value of 15\n",
    "num = 12\n",
    "amount_to_increment = 3\n",
    "num += amount_to_increment\n",
    "print(num)"
   ]
  },
  {
   "cell_type": "markdown",
   "metadata": {},
   "source": [
    "### Operators"
   ]
  },
  {
   "cell_type": "code",
   "execution_count": null,
   "metadata": {},
   "outputs": [],
   "source": [
    "# Total Operators are:\n",
    "\n",
    "+, - , * /, %, // ,** # Mathematics\n",
    "\n",
    "=, += ,-= ,*=, /=, %= # Assign operator\n",
    "\n",
    "==, >, <, >=, <=, != # Logical operator\n",
    "\n",
    "and, or # Combine logic checking"
   ]
  },
  {
   "cell_type": "code",
   "execution_count": 12,
   "metadata": {},
   "outputs": [],
   "source": [
    "# Precedence Rule:\n",
    "\n",
    "# Parenthese ------------- Highest\n",
    "\n",
    "# Exponent --------------- Right to Left\n",
    "\n",
    "# *,/,//,% --------------- Left to Right\n",
    "\n",
    "# +, -  ------------------ Left to Right"
   ]
  },
  {
   "cell_type": "markdown",
   "metadata": {},
   "source": [
    "### Chapter 7: Math Expressions Eliminationg ambiguity"
   ]
  },
  {
   "cell_type": "code",
   "execution_count": 81,
   "metadata": {},
   "outputs": [],
   "source": [
    "# Comples arithmeric operation can pose a problem, one that student\n",
    "# face in high school algebra. Look at this example"
   ]
  },
  {
   "cell_type": "code",
   "execution_count": 82,
   "metadata": {},
   "outputs": [
    {
     "name": "stdout",
     "output_type": "stream",
     "text": [
      "13\n"
     ]
    }
   ],
   "source": [
    "total_cost = 1+3*4\n",
    "print(total_cost)"
   ]
  },
  {
   "cell_type": "code",
   "execution_count": 83,
   "metadata": {},
   "outputs": [],
   "source": [
    "# In python, as in algebra, the ambiguity is cleard by precedense rules."
   ]
  },
  {
   "cell_type": "code",
   "execution_count": 99,
   "metadata": {},
   "outputs": [
    {
     "data": {
      "text/plain": [
       "17.6"
      ]
     },
     "execution_count": 99,
     "metadata": {},
     "output_type": "execute_result"
    }
   ],
   "source": [
    "2 + 6 * 8 / 5 + (2*3)"
   ]
  },
  {
   "cell_type": "markdown",
   "metadata": {},
   "source": [
    "Pedmas\n",
    "2 + 6 * 8 / 5 + (2 * 3)\n",
    "2 + 6 * 8 / 5 + 6\n",
    "2 + 48 / 5 + 6\n",
    "2 + 9.5 + 6\n",
    "2 + 15.6\n",
    "17.6"
   ]
  },
  {
   "cell_type": "code",
   "execution_count": 86,
   "metadata": {},
   "outputs": [],
   "source": [
    "# Pedmas \n",
    "\n",
    "# parenthesis ()\n",
    "# exponent **\n",
    "# multiplication *\n",
    "# division /\n",
    "# addition +\n",
    "# subtraction -"
   ]
  },
  {
   "cell_type": "code",
   "execution_count": 87,
   "metadata": {},
   "outputs": [],
   "source": [
    "# You can finess the issue by using parenthesis to eliminate ambiguity.\n",
    "# parentheses override all the other precedense rules.They force\n",
    "# python to complete operations enclosed by parentheses before completing\n",
    "# any other operations"
   ]
  },
  {
   "cell_type": "code",
   "execution_count": 88,
   "metadata": {},
   "outputs": [],
   "source": [
    "# In this statement parentheses tell python to first multiply 3 by 4\n",
    "# then add 1. the result: 13"
   ]
  },
  {
   "cell_type": "code",
   "execution_count": 89,
   "metadata": {},
   "outputs": [
    {
     "name": "stdout",
     "output_type": "stream",
     "text": [
      "13\n"
     ]
    }
   ],
   "source": [
    "total_cost = 1 + (3*4)\n",
    "print(total_cost)"
   ]
  },
  {
   "cell_type": "code",
   "execution_count": 90,
   "metadata": {},
   "outputs": [],
   "source": [
    "# If i move parentheses, the arithmetic is done in a different order.\n",
    "# In this next statement, the placement of the parenthes tells python\n",
    "# to first add 1 and 3, then multiply 4. the result: 16\n"
   ]
  },
  {
   "cell_type": "code",
   "execution_count": 91,
   "metadata": {},
   "outputs": [
    {
     "name": "stdout",
     "output_type": "stream",
     "text": [
      "16\n"
     ]
    }
   ],
   "source": [
    "total_cost = (1+3) * 4\n",
    "print(total_cost)"
   ]
  },
  {
   "cell_type": "code",
   "execution_count": 95,
   "metadata": {},
   "outputs": [
    {
     "name": "stdout",
     "output_type": "stream",
     "text": [
      "34\n"
     ]
    }
   ],
   "source": [
    "# another example\n",
    "result_of_computation = (2*4) * 4 + 2\n",
    "print(result_of_computation)"
   ]
  },
  {
   "cell_type": "code",
   "execution_count": 97,
   "metadata": {},
   "outputs": [
    {
     "name": "stdout",
     "output_type": "stream",
     "text": [
      "34\n"
     ]
    }
   ],
   "source": [
    "result_of_computation=((2*4) * 4) + 2\n",
    "print(result_of_computation)"
   ]
  },
  {
   "cell_type": "code",
   "execution_count": 98,
   "metadata": {},
   "outputs": [
    {
     "name": "stdout",
     "output_type": "stream",
     "text": [
      "16\n"
     ]
    }
   ],
   "source": [
    "result_of_computation = (2*4) + (4*2)\n",
    "print(result_of_computation)"
   ]
  },
  {
   "cell_type": "markdown",
   "metadata": {},
   "source": [
    "### Chapter: 8 Concatenating text strings"
   ]
  },
  {
   "cell_type": "code",
   "execution_count": 106,
   "metadata": {},
   "outputs": [],
   "source": [
    "# in string + is not addition but it is concateneation"
   ]
  },
  {
   "cell_type": "code",
   "execution_count": 104,
   "metadata": {},
   "outputs": [
    {
     "name": "stdout",
     "output_type": "stream",
     "text": [
      "arsalan manzoor\n"
     ]
    }
   ],
   "source": [
    "# Suppose you wanted to break the greeting into two parts, and\n",
    "# assign each part a separate variable, like this:\n",
    "\n",
    "first_name = \"arsalan\"\n",
    "last_name = \"manzoor\"\n",
    "\n",
    "# you tell python to combine the two strings this way:\n",
    "# It's callled concatenation, all it takes is a plus sign\n",
    "\n",
    "full_name = first_name + \" \" + last_name\n",
    "print(full_name)"
   ]
  },
  {
   "cell_type": "code",
   "execution_count": 105,
   "metadata": {},
   "outputs": [
    {
     "name": "stdout",
     "output_type": "stream",
     "text": [
      "arsalan manzoor\n"
     ]
    }
   ],
   "source": [
    "first_name = \"arsalan\"\n",
    "separators = \" \"\n",
    "last_name = \"manzoor\"\n",
    "full_name = first_name + separators + last_name\n",
    "print(full_name)"
   ]
  },
  {
   "cell_type": "code",
   "execution_count": 108,
   "metadata": {},
   "outputs": [
    {
     "name": "stdout",
     "output_type": "stream",
     "text": [
      "arsalan manzoor\n"
     ]
    }
   ],
   "source": [
    "print(first_name + separators + last_name)"
   ]
  },
  {
   "cell_type": "code",
   "execution_count": 109,
   "metadata": {},
   "outputs": [
    {
     "name": "stdout",
     "output_type": "stream",
     "text": [
      "Hello arsalan\n"
     ]
    }
   ],
   "source": [
    "print(\"Hello \"+ first_name)"
   ]
  },
  {
   "cell_type": "code",
   "execution_count": 111,
   "metadata": {},
   "outputs": [
    {
     "name": "stdout",
     "output_type": "stream",
     "text": [
      "The sum of 2 plus 2 is :  4\n"
     ]
    }
   ],
   "source": [
    "# you can use the plus sign to sum numbers, and you can use it to\n",
    "# concatenate strings but you can't use the plus sign to combine \n",
    "# strings and numbers\n",
    "\n",
    "print(\"The sum of 2 plus 2 is : \" +\" 4\")"
   ]
  },
  {
   "cell_type": "markdown",
   "metadata": {},
   "source": [
    "### Chapter: 9 if statements"
   ]
  },
  {
   "cell_type": "code",
   "execution_count": 2,
   "metadata": {},
   "outputs": [
    {
     "name": "stdout",
     "output_type": "stream",
     "text": [
      "a is less than b\n",
      "Hello a\n",
      "Hello b\n",
      "Hello python!\n"
     ]
    }
   ],
   "source": [
    "a = 100\n",
    "b = 200\n",
    "\n",
    "if a < b:\n",
    "    print(\"a is less than b\")\n",
    "    print(\"Hello a\")\n",
    "    print(\"Hello b\")\n",
    "print(\"Hello python!\")"
   ]
  },
  {
   "cell_type": "code",
   "execution_count": 3,
   "metadata": {},
   "outputs": [
    {
     "name": "stdout",
     "output_type": "stream",
     "text": [
      "Pakistan\n"
     ]
    }
   ],
   "source": [
    "if b < a: # return false\n",
    "    print(\"b is less than a\") # this block will not be execute\n",
    "print(\"Pakistan\")"
   ]
  },
  {
   "cell_type": "code",
   "execution_count": 4,
   "metadata": {},
   "outputs": [
    {
     "name": "stdout",
     "output_type": "stream",
     "text": [
      "Every thing makes sense\n"
     ]
    }
   ],
   "source": [
    "if 2 + 2== 4:\n",
    "    print(\"Every thing makes sense\")"
   ]
  },
  {
   "cell_type": "markdown",
   "metadata": {},
   "source": [
    "### chapter 12: comparison operators"
   ]
  },
  {
   "cell_type": "code",
   "execution_count": 12,
   "metadata": {},
   "outputs": [],
   "source": [
    "# '==' comparison operator  "
   ]
  },
  {
   "cell_type": "code",
   "execution_count": 13,
   "metadata": {},
   "outputs": [
    {
     "name": "stdout",
     "output_type": "stream",
     "text": [
      "ok\n"
     ]
    }
   ],
   "source": [
    "first_name = \"arsalan\"\n",
    "sep = \" \"\n",
    "last_name = \"manzoor\"\n",
    "\n",
    "if first_name == \"arsalan\":\n",
    "    print(\"ok\")\n"
   ]
  },
  {
   "cell_type": "code",
   "execution_count": 14,
   "metadata": {},
   "outputs": [
    {
     "name": "stdout",
     "output_type": "stream",
     "text": [
      "yes!\n"
     ]
    }
   ],
   "source": [
    "if first_name + \" \" + last_name == \"arsalan manzoor\":\n",
    "    print(\"yes!\")"
   ]
  },
  {
   "cell_type": "code",
   "execution_count": 15,
   "metadata": {},
   "outputs": [
    {
     "name": "stdout",
     "output_type": "stream",
     "text": [
      "yehhh\n"
     ]
    }
   ],
   "source": [
    "if first_name + \" \" + \"manzoor\" == \"arsalan manzoor\":\n",
    "    print(\"yehhh\")"
   ]
  },
  {
   "cell_type": "code",
   "execution_count": 16,
   "metadata": {},
   "outputs": [],
   "source": [
    "# When you're comparing strings, the equality operators is case-sensitive\n",
    "# 'Rose' does not equal \"rose\""
   ]
  },
  {
   "cell_type": "code",
   "execution_count": 17,
   "metadata": {},
   "outputs": [
    {
     "name": "stdout",
     "output_type": "stream",
     "text": [
      "ok\n"
     ]
    }
   ],
   "source": [
    "# Another comparison operator is != not equal opposite of ==\n",
    "\n",
    "number = 10\n",
    "if number != 2:\n",
    "    print(\"ok\")"
   ]
  },
  {
   "cell_type": "code",
   "execution_count": 21,
   "metadata": {},
   "outputs": [],
   "source": [
    "# Here are 4 more comparison operators, usually used to compare numbers\n",
    "\n",
    "# > greater than, < less than\n",
    "# >= greater than or equal to , <= less than or equal to"
   ]
  },
  {
   "cell_type": "code",
   "execution_count": 22,
   "metadata": {},
   "outputs": [
    {
     "data": {
      "text/plain": [
       "True"
      ]
     },
     "execution_count": 22,
     "metadata": {},
     "output_type": "execute_result"
    }
   ],
   "source": [
    "1>0"
   ]
  },
  {
   "cell_type": "code",
   "execution_count": 23,
   "metadata": {},
   "outputs": [
    {
     "data": {
      "text/plain": [
       "True"
      ]
     },
     "execution_count": 23,
     "metadata": {},
     "output_type": "execute_result"
    }
   ],
   "source": [
    "0<1"
   ]
  },
  {
   "cell_type": "code",
   "execution_count": 24,
   "metadata": {},
   "outputs": [
    {
     "data": {
      "text/plain": [
       "True"
      ]
     },
     "execution_count": 24,
     "metadata": {},
     "output_type": "execute_result"
    }
   ],
   "source": [
    "1>=0"
   ]
  },
  {
   "cell_type": "code",
   "execution_count": 25,
   "metadata": {},
   "outputs": [
    {
     "data": {
      "text/plain": [
       "True"
      ]
     },
     "execution_count": 25,
     "metadata": {},
     "output_type": "execute_result"
    }
   ],
   "source": [
    "1>=1"
   ]
  },
  {
   "cell_type": "code",
   "execution_count": 26,
   "metadata": {},
   "outputs": [
    {
     "data": {
      "text/plain": [
       "True"
      ]
     },
     "execution_count": 26,
     "metadata": {},
     "output_type": "execute_result"
    }
   ],
   "source": [
    "0<=1"
   ]
  },
  {
   "cell_type": "code",
   "execution_count": 27,
   "metadata": {},
   "outputs": [
    {
     "data": {
      "text/plain": [
       "True"
      ]
     },
     "execution_count": 27,
     "metadata": {},
     "output_type": "execute_result"
    }
   ],
   "source": [
    "1<=1"
   ]
  },
  {
   "cell_type": "markdown",
   "metadata": {},
   "source": [
    "### chapter: 11 else and elif statements"
   ]
  },
  {
   "cell_type": "code",
   "execution_count": 30,
   "metadata": {},
   "outputs": [
    {
     "name": "stdout",
     "output_type": "stream",
     "text": [
      "False\n"
     ]
    }
   ],
   "source": [
    "# The if statement coded so far have been all-or-nothing, If the condition\n",
    "# tested true, something happend, if the condition tested false nothing\n",
    "# happend\n",
    "\n",
    "a = 100\n",
    "b = 200\n",
    "\n",
    "# if the condition is fail than else statement execute\n",
    "if a>b:\n",
    "    print(True)\n",
    "else:\n",
    "    print(False)"
   ]
  },
  {
   "cell_type": "code",
   "execution_count": 31,
   "metadata": {},
   "outputs": [
    {
     "name": "stdout",
     "output_type": "stream",
     "text": [
      "A+\n"
     ]
    }
   ],
   "source": [
    "marks = 70\n",
    "\n",
    "# if the 1st condition is fail then check elif block if elif block fail\n",
    "# then else block execute\n",
    "if marks >=70:\n",
    "    print(\"A+\")\n",
    "elif marks <=60:\n",
    "    print(\"B\")\n",
    "else:\n",
    "    print(\"C\")"
   ]
  },
  {
   "cell_type": "markdown",
   "metadata": {},
   "source": [
    "### chapter 12: Testing sets of conditions"
   ]
  },
  {
   "cell_type": "code",
   "execution_count": 34,
   "metadata": {},
   "outputs": [
    {
     "name": "stdout",
     "output_type": "stream",
     "text": [
      "you are eligible\n"
     ]
    }
   ],
   "source": [
    "# using the if statement we have learned to test for a condition.\n",
    "# if the condition is met, one or more statements execute but \n",
    "# suppose not one but two conditions have to be met in order \n",
    "# for a test succeed\n",
    "\n",
    "\n",
    "# and ka matlab hai dono conditions ka true hona lazmi hai\n",
    "age = 61\n",
    "res = \"pakistan\"\n",
    "\n",
    "if age > 60 and res == \"pakistan\":\n",
    "    print(\"you are eligible\")"
   ]
  },
  {
   "cell_type": "code",
   "execution_count": 35,
   "metadata": {},
   "outputs": [
    {
     "name": "stdout",
     "output_type": "stream",
     "text": [
      "you are eligible\n"
     ]
    }
   ],
   "source": [
    "# or ka matlab hai koi bhi ek condition true ho\n",
    "age = 55\n",
    "res = \"pakistan\"\n",
    "\n",
    "if age > 60 or res == \"pakistan\":\n",
    "    print(\"you are eligible\")\n"
   ]
  },
  {
   "cell_type": "code",
   "execution_count": 36,
   "metadata": {},
   "outputs": [
    {
     "name": "stdout",
     "output_type": "stream",
     "text": [
      "you are eligible\n"
     ]
    }
   ],
   "source": [
    "if age > 60 or age <60 and res == \"pakistan\":\n",
    "    print(\"you are eligible\")"
   ]
  },
  {
   "cell_type": "code",
   "execution_count": 37,
   "metadata": {},
   "outputs": [
    {
     "name": "stdout",
     "output_type": "stream",
     "text": [
      "you are eligible\n"
     ]
    }
   ],
   "source": [
    "if (age > 60 or age <60) and res==\"pakistan\":\n",
    "    print(\"you are eligible\")"
   ]
  },
  {
   "cell_type": "code",
   "execution_count": 38,
   "metadata": {},
   "outputs": [],
   "source": [
    "if age > 65 or (age<21 and res==\"pakistan\"):\n",
    "    print(\"you are eligible\")"
   ]
  },
  {
   "cell_type": "markdown",
   "metadata": {},
   "source": [
    "### chapter 13 Nested if statement"
   ]
  },
  {
   "cell_type": "code",
   "execution_count": 46,
   "metadata": {},
   "outputs": [
    {
     "name": "stdout",
     "output_type": "stream",
     "text": [
      "Grade A+\n",
      "Reward 5000.\n"
     ]
    }
   ],
   "source": [
    "score = 93\n",
    "\n",
    "if score >=90:\n",
    "    print(\"Grade A+\")\n",
    "    if score > 95:\n",
    "        print(\"Reward 10000.\")\n",
    "    elif score >= 80 or score < 90:\n",
    "        print(\"Reward 5000.\")\n",
    "    elif score >= 70 or score <80:\n",
    "        print(\"Reward 3000.\")\n",
    "    else:\n",
    "        print(\"Reward 1000.\")\n",
    "else:\n",
    "    print(\"You are pass\")"
   ]
  },
  {
   "cell_type": "markdown",
   "metadata": {},
   "source": [
    "#### chapter 14: comments"
   ]
  },
  {
   "cell_type": "code",
   "execution_count": 47,
   "metadata": {},
   "outputs": [],
   "source": [
    "# Comments are lines of text in you code that python ignores\n",
    "# Comments are for the human, not the machine.\n",
    "\n",
    "# to write the comment # "
   ]
  },
  {
   "cell_type": "code",
   "execution_count": 48,
   "metadata": {},
   "outputs": [],
   "source": [
    "# This is a comment\n",
    "# This is another comment\n",
    "# Pyhton ignores these comments\n",
    "\n"
   ]
  },
  {
   "cell_type": "code",
   "execution_count": 49,
   "metadata": {},
   "outputs": [
    {
     "name": "stdout",
     "output_type": "stream",
     "text": [
      "Hello, world!\n"
     ]
    }
   ],
   "source": [
    "print(\"Hello, world!\") # Greet the world"
   ]
  },
  {
   "cell_type": "code",
   "execution_count": 50,
   "metadata": {},
   "outputs": [],
   "source": [
    "# you can enclose all the comment lines in three single quotation marks"
   ]
  },
  {
   "cell_type": "code",
   "execution_count": 51,
   "metadata": {},
   "outputs": [
    {
     "data": {
      "text/plain": [
       "'\\nThis is a comment\\nThis is another comment\\nPython ignores these comments\\n'"
      ]
     },
     "execution_count": 51,
     "metadata": {},
     "output_type": "execute_result"
    }
   ],
   "source": [
    "'''\n",
    "This is a comment\n",
    "This is another comment\n",
    "Python ignores these comments\n",
    "'''"
   ]
  },
  {
   "cell_type": "markdown",
   "metadata": {},
   "source": [
    "#### Chapter 15 to 19 : Lists"
   ]
  },
  {
   "cell_type": "code",
   "execution_count": 11,
   "metadata": {},
   "outputs": [],
   "source": [
    "# agar ek sy zyada values kisi variable main save karni hai tu hum list use karty hain\n",
    "# a list is data structurein python that is mutable(yani changeable), \n",
    "# ordered sequence of elements\n",
    "\n",
    "# each element or value that is inside a list is called an item\n",
    "\n",
    "# bunch of values ko ek single variable main save karna\n",
    "\n",
    "# list ky andar maujood har value ka index hota hai 1st value ka index\n",
    "# no 0 hota hai by default\n",
    "\n",
    "# list ky andar sari data type mix hokar asakti hain\n",
    "\n",
    "# index starts from 0"
   ]
  },
  {
   "cell_type": "code",
   "execution_count": 7,
   "metadata": {},
   "outputs": [],
   "source": [
    "alist = [\"arsalan\", \"ali\", \"bilal\"]\n",
    "# index    0          1       2    "
   ]
  },
  {
   "cell_type": "code",
   "execution_count": 8,
   "metadata": {},
   "outputs": [
    {
     "data": {
      "text/plain": [
       "['arsalan', 'ali', 'bilal']"
      ]
     },
     "execution_count": 8,
     "metadata": {},
     "output_type": "execute_result"
    }
   ],
   "source": [
    "alist"
   ]
  },
  {
   "cell_type": "code",
   "execution_count": 34,
   "metadata": {},
   "outputs": [],
   "source": [
    "# without list\n",
    "city0 = \"khi\"\n",
    "city1 = \"multan\"\n",
    "city2 = \"lahore\"\n",
    "city3 =\"quetta\"\n",
    "\n",
    "# with list\n",
    "cities = [\"khi\", \"multan\", \"lahore\", \"quetta\"]"
   ]
  },
  {
   "cell_type": "code",
   "execution_count": 10,
   "metadata": {},
   "outputs": [],
   "source": [
    "# how to access the members"
   ]
  },
  {
   "cell_type": "code",
   "execution_count": 11,
   "metadata": {},
   "outputs": [
    {
     "data": {
      "text/plain": [
       "'ali'"
      ]
     },
     "execution_count": 11,
     "metadata": {},
     "output_type": "execute_result"
    }
   ],
   "source": [
    "alist[1]"
   ]
  },
  {
   "cell_type": "code",
   "execution_count": 12,
   "metadata": {},
   "outputs": [
    {
     "data": {
      "text/plain": [
       "'quetta'"
      ]
     },
     "execution_count": 12,
     "metadata": {},
     "output_type": "execute_result"
    }
   ],
   "source": [
    "cities[3]"
   ]
  },
  {
   "cell_type": "markdown",
   "metadata": {},
   "source": [
    "#### Chapter 16: Adding and changing elements"
   ]
  },
  {
   "cell_type": "code",
   "execution_count": 13,
   "metadata": {},
   "outputs": [],
   "source": [
    "fruits = []"
   ]
  },
  {
   "cell_type": "code",
   "execution_count": 14,
   "metadata": {},
   "outputs": [
    {
     "data": {
      "text/plain": [
       "0"
      ]
     },
     "execution_count": 14,
     "metadata": {},
     "output_type": "execute_result"
    }
   ],
   "source": [
    "len(fruits)"
   ]
  },
  {
   "cell_type": "code",
   "execution_count": 15,
   "metadata": {},
   "outputs": [
    {
     "data": {
      "text/plain": [
       "4"
      ]
     },
     "execution_count": 15,
     "metadata": {},
     "output_type": "execute_result"
    }
   ],
   "source": [
    "len(cities)"
   ]
  },
  {
   "cell_type": "code",
   "execution_count": 16,
   "metadata": {},
   "outputs": [],
   "source": [
    "# Adding a memebr to the list (append and insert)"
   ]
  },
  {
   "cell_type": "code",
   "execution_count": 17,
   "metadata": {},
   "outputs": [],
   "source": [
    "fruits.append(\"apple\")"
   ]
  },
  {
   "cell_type": "code",
   "execution_count": 18,
   "metadata": {},
   "outputs": [
    {
     "data": {
      "text/plain": [
       "['apple']"
      ]
     },
     "execution_count": 18,
     "metadata": {},
     "output_type": "execute_result"
    }
   ],
   "source": [
    "fruits"
   ]
  },
  {
   "cell_type": "code",
   "execution_count": 19,
   "metadata": {},
   "outputs": [],
   "source": [
    "# append hamesha value ko list ky end main add karwata hai"
   ]
  },
  {
   "cell_type": "code",
   "execution_count": 20,
   "metadata": {},
   "outputs": [],
   "source": [
    "fruits.append(\"orange\")"
   ]
  },
  {
   "cell_type": "code",
   "execution_count": 21,
   "metadata": {},
   "outputs": [
    {
     "data": {
      "text/plain": [
       "['apple', 'orange']"
      ]
     },
     "execution_count": 21,
     "metadata": {},
     "output_type": "execute_result"
    }
   ],
   "source": [
    "fruits"
   ]
  },
  {
   "cell_type": "code",
   "execution_count": 22,
   "metadata": {},
   "outputs": [],
   "source": [
    "# insert method (do cheezy mangata hai ki index par append karna or kya append karna hai)"
   ]
  },
  {
   "cell_type": "code",
   "execution_count": 23,
   "metadata": {},
   "outputs": [
    {
     "data": {
      "text/plain": [
       "['apple', 'mango', 'orange']"
      ]
     },
     "execution_count": 23,
     "metadata": {},
     "output_type": "execute_result"
    }
   ],
   "source": [
    "fruits.insert(1, \"mango\")\n",
    "fruits"
   ]
  },
  {
   "cell_type": "code",
   "execution_count": 24,
   "metadata": {},
   "outputs": [
    {
     "data": {
      "text/plain": [
       "['banana', 'apple', 'mango', 'orange']"
      ]
     },
     "execution_count": 24,
     "metadata": {},
     "output_type": "execute_result"
    }
   ],
   "source": [
    "fruits.insert(0, \"banana\")\n",
    "fruits"
   ]
  },
  {
   "cell_type": "code",
   "execution_count": 28,
   "metadata": {},
   "outputs": [
    {
     "data": {
      "text/plain": [
       "['banana', 'apple', 'mango', 'orange', 'apple', 'cherry', 'blueberry']"
      ]
     },
     "execution_count": 28,
     "metadata": {},
     "output_type": "execute_result"
    }
   ],
   "source": [
    "# extend method (yed bhi list ky andar values ko append karta hai dekhty hain)\n",
    "# extend ky andar asiy value pass karni hai jo iterable ho \n",
    "# matlab jo bar bar utha saky recieve kar saky yani ek sy zyada value ho\n",
    "fruits.extend([\"apple\", \"cherry\", \"blueberry\"])\n",
    "fruits"
   ]
  },
  {
   "cell_type": "code",
   "execution_count": null,
   "metadata": {},
   "outputs": [],
   "source": [
    "# another alternative way to append elements to a list"
   ]
  },
  {
   "cell_type": "code",
   "execution_count": null,
   "metadata": {},
   "outputs": [],
   "source": [
    "cities = cities + [\"isl\", \"peshawar\"]\n",
    "cities"
   ]
  },
  {
   "cell_type": "code",
   "execution_count": 29,
   "metadata": {},
   "outputs": [
    {
     "data": {
      "text/plain": [
       "2"
      ]
     },
     "execution_count": 29,
     "metadata": {},
     "output_type": "execute_result"
    }
   ],
   "source": [
    "# count method (count kar k batyega kansi value list main kitni bar exist karta hai)\n",
    "fruits.count(\"apple\")"
   ]
  },
  {
   "cell_type": "code",
   "execution_count": 30,
   "metadata": {},
   "outputs": [
    {
     "data": {
      "text/plain": [
       "5"
      ]
     },
     "execution_count": 30,
     "metadata": {},
     "output_type": "execute_result"
    }
   ],
   "source": [
    "# index method (kisi value ka agar index maloom karna ho k yeh value kis index py maujood hai list ky andar)\n",
    "# searching/finding a value in list\n",
    "fruits.index(\"cherry\")"
   ]
  },
  {
   "cell_type": "code",
   "execution_count": 38,
   "metadata": {},
   "outputs": [
    {
     "data": {
      "text/plain": [
       "False"
      ]
     },
     "execution_count": 38,
     "metadata": {},
     "output_type": "execute_result"
    }
   ],
   "source": [
    "# another searching formula (this return true or false)\n",
    "\"cherry\" in fruits"
   ]
  },
  {
   "cell_type": "code",
   "execution_count": 32,
   "metadata": {},
   "outputs": [
    {
     "data": {
      "text/plain": [
       "[]"
      ]
     },
     "execution_count": 32,
     "metadata": {},
     "output_type": "execute_result"
    }
   ],
   "source": [
    "# clear method (remove all items permanently)\n",
    "fruits.clear()\n",
    "fruits"
   ]
  },
  {
   "cell_type": "code",
   "execution_count": 41,
   "metadata": {},
   "outputs": [],
   "source": [
    "fruits = [\"apple\", \"cherry\", \"blueberry\"]"
   ]
  },
  {
   "cell_type": "code",
   "execution_count": 42,
   "metadata": {},
   "outputs": [
    {
     "data": {
      "text/plain": [
       "['apple', 'cherry', 'blueberry']"
      ]
     },
     "execution_count": 42,
     "metadata": {},
     "output_type": "execute_result"
    }
   ],
   "source": [
    "# copy method (copy ka function list ki copy bana dyta hai)\n",
    "\n",
    "fruits2 = fruits.copy() # by value copy\n",
    "fruits2"
   ]
  },
  {
   "cell_type": "code",
   "execution_count": 43,
   "metadata": {},
   "outputs": [
    {
     "data": {
      "text/plain": [
       "['apple', 'cherry', 'blueberry']"
      ]
     },
     "execution_count": 43,
     "metadata": {},
     "output_type": "execute_result"
    }
   ],
   "source": [
    "fruits3 = fruits # by reference\n",
    "fruits3"
   ]
  },
  {
   "cell_type": "code",
   "execution_count": 44,
   "metadata": {},
   "outputs": [
    {
     "data": {
      "text/plain": [
       "['apple', 'cherry', 'blueberry', 'newfruit']"
      ]
     },
     "execution_count": 44,
     "metadata": {},
     "output_type": "execute_result"
    }
   ],
   "source": [
    "fruits.append(\"newfruit\")\n",
    "fruits3"
   ]
  },
  {
   "cell_type": "code",
   "execution_count": 45,
   "metadata": {},
   "outputs": [
    {
     "data": {
      "text/plain": [
       "['apple', 'cherry', 'blueberry']"
      ]
     },
     "execution_count": 45,
     "metadata": {},
     "output_type": "execute_result"
    }
   ],
   "source": [
    "fruits2"
   ]
  },
  {
   "cell_type": "code",
   "execution_count": 52,
   "metadata": {},
   "outputs": [],
   "source": [
    "# removing an item from a list (del -- statement, remove ---> function)\n",
    "# del (del value by index number)\n",
    "# remove (remove by value) "
   ]
  },
  {
   "cell_type": "code",
   "execution_count": 51,
   "metadata": {},
   "outputs": [
    {
     "data": {
      "text/plain": [
       "['apple', 'blueberry']"
      ]
     },
     "execution_count": 51,
     "metadata": {},
     "output_type": "execute_result"
    }
   ],
   "source": [
    "del fruits2[1]\n",
    "fruits2"
   ]
  },
  {
   "cell_type": "code",
   "execution_count": 54,
   "metadata": {},
   "outputs": [
    {
     "data": {
      "text/plain": [
       "['apple']"
      ]
     },
     "execution_count": 54,
     "metadata": {},
     "output_type": "execute_result"
    }
   ],
   "source": [
    "fruits2.remove(\"blueberry\")\n",
    "fruits2"
   ]
  },
  {
   "cell_type": "code",
   "execution_count": 62,
   "metadata": {},
   "outputs": [],
   "source": [
    "# pop method (list main sy item ko hata ny ky liyeh use hota hai)\n",
    "# by index remove hota hai\n",
    "# is main difference yeh hai k yeh hum chah rahy hai k jo value \n",
    "# delete ho rahi hai woh hamary pass kaheen store hojay \n",
    "# by default last main sy value delete karta hai\n",
    "# lekin hum apni marzi ky index sy bhi value delete karwa sakty hain"
   ]
  },
  {
   "cell_type": "code",
   "execution_count": 56,
   "metadata": {},
   "outputs": [
    {
     "data": {
      "text/plain": [
       "['khi', 'multan', 'lahore', 'quetta', 'isl', 'peshawar']"
      ]
     },
     "execution_count": 56,
     "metadata": {},
     "output_type": "execute_result"
    }
   ],
   "source": [
    "cities"
   ]
  },
  {
   "cell_type": "code",
   "execution_count": 57,
   "metadata": {},
   "outputs": [
    {
     "data": {
      "text/plain": [
       "'peshawar'"
      ]
     },
     "execution_count": 57,
     "metadata": {},
     "output_type": "execute_result"
    }
   ],
   "source": [
    "poppedCity=cities.pop()\n",
    "poppedCity"
   ]
  },
  {
   "cell_type": "code",
   "execution_count": 60,
   "metadata": {},
   "outputs": [
    {
     "name": "stdout",
     "output_type": "stream",
     "text": [
      "This city is popped from cities list: peshawar\n",
      "The remaining cities are ['khi', 'multan', 'lahore', 'quetta', 'isl']\n"
     ]
    }
   ],
   "source": [
    "print(f\"This city is popped from cities list: {poppedCity}\")\n",
    "print(f\"The remaining cities are {cities}\")"
   ]
  },
  {
   "cell_type": "code",
   "execution_count": 69,
   "metadata": {},
   "outputs": [],
   "source": [
    "cities = [\"khi\", \"multan\", \"lahore\", \"quetta\"]"
   ]
  },
  {
   "cell_type": "code",
   "execution_count": 67,
   "metadata": {},
   "outputs": [
    {
     "data": {
      "text/plain": [
       "'lahore'"
      ]
     },
     "execution_count": 67,
     "metadata": {},
     "output_type": "execute_result"
    }
   ],
   "source": [
    "poppedCity = cities.pop(2)\n",
    "poppedCity"
   ]
  },
  {
   "cell_type": "code",
   "execution_count": 77,
   "metadata": {},
   "outputs": [],
   "source": [
    "# sort (sort the cities alphabetically and permanently changed the positon of list)\n",
    "# by default ascending order main sorting karta\n",
    "# agar descending order main sorting karni hai toh reverse ko True karna hoga"
   ]
  },
  {
   "cell_type": "code",
   "execution_count": 78,
   "metadata": {},
   "outputs": [],
   "source": [
    "cities.sort()"
   ]
  },
  {
   "cell_type": "code",
   "execution_count": 79,
   "metadata": {},
   "outputs": [
    {
     "data": {
      "text/plain": [
       "['khi', 'lahore', 'multan', 'quetta']"
      ]
     },
     "execution_count": 79,
     "metadata": {},
     "output_type": "execute_result"
    }
   ],
   "source": [
    "cities"
   ]
  },
  {
   "cell_type": "code",
   "execution_count": 80,
   "metadata": {},
   "outputs": [],
   "source": [
    "cities.sort(reverse=True)"
   ]
  },
  {
   "cell_type": "code",
   "execution_count": 81,
   "metadata": {},
   "outputs": [
    {
     "data": {
      "text/plain": [
       "['quetta', 'multan', 'lahore', 'khi']"
      ]
     },
     "execution_count": 81,
     "metadata": {},
     "output_type": "execute_result"
    }
   ],
   "source": [
    "cities"
   ]
  },
  {
   "cell_type": "code",
   "execution_count": 82,
   "metadata": {},
   "outputs": [],
   "source": [
    "# reverse (jis order main hongy unku reverse kar dy ga)"
   ]
  },
  {
   "cell_type": "code",
   "execution_count": 83,
   "metadata": {},
   "outputs": [],
   "source": [
    "cities.reverse()"
   ]
  },
  {
   "cell_type": "code",
   "execution_count": 84,
   "metadata": {},
   "outputs": [
    {
     "data": {
      "text/plain": [
       "['khi', 'lahore', 'multan', 'quetta']"
      ]
     },
     "execution_count": 84,
     "metadata": {},
     "output_type": "execute_result"
    }
   ],
   "source": [
    "cities"
   ]
  },
  {
   "cell_type": "markdown",
   "metadata": {},
   "source": [
    "#### Slicing "
   ]
  },
  {
   "cell_type": "code",
   "execution_count": 92,
   "metadata": {},
   "outputs": [],
   "source": [
    "# ek waqt main ek sy ziyada value agar list main sy nikalni hoon tu hum slicing use karty hain\n",
    "# agar kisi list ky darmiyan main sy koi value chahiyeh ho tu hum slice use karty hain"
   ]
  },
  {
   "cell_type": "code",
   "execution_count": 1,
   "metadata": {},
   "outputs": [],
   "source": [
    "# python provides a very handy feature if you want to take a partial\n",
    "# piece of list.Note that slicing operation copies elements from the\n",
    "# original list hence this operation returns a new list which is subset\n",
    "# of the original list"
   ]
  },
  {
   "cell_type": "code",
   "execution_count": 85,
   "metadata": {},
   "outputs": [],
   "source": [
    "# list ky double index hoty hain postive or negative\n",
    "#index        -5    -4          -3       -2          -1        \n",
    "students = [\"Ali\", \"Faisal\", \"Saleem\", \"Hamza\", \"Kashif\"]\n",
    "\n",
    "#index        0      1          2         3         4"
   ]
  },
  {
   "cell_type": "code",
   "execution_count": 87,
   "metadata": {},
   "outputs": [
    {
     "name": "stdout",
     "output_type": "stream",
     "text": [
      "Ali\n",
      "Ali\n"
     ]
    }
   ],
   "source": [
    "print(students[0])\n",
    "print(students[-5])"
   ]
  },
  {
   "cell_type": "code",
   "execution_count": 88,
   "metadata": {},
   "outputs": [],
   "source": [
    "# students[start:end+1]"
   ]
  },
  {
   "cell_type": "code",
   "execution_count": 89,
   "metadata": {},
   "outputs": [
    {
     "data": {
      "text/plain": [
       "['Faisal']"
      ]
     },
     "execution_count": 89,
     "metadata": {},
     "output_type": "execute_result"
    }
   ],
   "source": [
    "students[1:2]"
   ]
  },
  {
   "cell_type": "code",
   "execution_count": 90,
   "metadata": {},
   "outputs": [
    {
     "data": {
      "text/plain": [
       "['Faisal', 'Saleem']"
      ]
     },
     "execution_count": 90,
     "metadata": {},
     "output_type": "execute_result"
    }
   ],
   "source": [
    "students[1:3]"
   ]
  },
  {
   "cell_type": "code",
   "execution_count": 94,
   "metadata": {},
   "outputs": [
    {
     "data": {
      "text/plain": [
       "['Faisal', 'Saleem']"
      ]
     },
     "execution_count": 94,
     "metadata": {},
     "output_type": "execute_result"
    }
   ],
   "source": [
    "students[-4:-2]"
   ]
  },
  {
   "cell_type": "code",
   "execution_count": 99,
   "metadata": {},
   "outputs": [
    {
     "data": {
      "text/plain": [
       "['Ali', 'Faisal', 'Saleem', 'Hamza', 'Kashif']"
      ]
     },
     "execution_count": 99,
     "metadata": {},
     "output_type": "execute_result"
    }
   ],
   "source": [
    "students[:]"
   ]
  },
  {
   "cell_type": "code",
   "execution_count": 97,
   "metadata": {},
   "outputs": [
    {
     "data": {
      "text/plain": [
       "['Hamza', 'Kashif']"
      ]
     },
     "execution_count": 97,
     "metadata": {},
     "output_type": "execute_result"
    }
   ],
   "source": [
    "students[3:]"
   ]
  },
  {
   "cell_type": "code",
   "execution_count": 98,
   "metadata": {},
   "outputs": [
    {
     "data": {
      "text/plain": [
       "['Ali', 'Faisal', 'Saleem']"
      ]
     },
     "execution_count": 98,
     "metadata": {},
     "output_type": "execute_result"
    }
   ],
   "source": [
    "students[:3]"
   ]
  },
  {
   "cell_type": "code",
   "execution_count": 100,
   "metadata": {},
   "outputs": [
    {
     "data": {
      "text/plain": [
       "['Saleem', 'Hamza']"
      ]
     },
     "execution_count": 100,
     "metadata": {},
     "output_type": "execute_result"
    }
   ],
   "source": [
    "students[2:-1]"
   ]
  },
  {
   "cell_type": "code",
   "execution_count": 101,
   "metadata": {},
   "outputs": [
    {
     "data": {
      "text/plain": [
       "[]"
      ]
     },
     "execution_count": 101,
     "metadata": {},
     "output_type": "execute_result"
    }
   ],
   "source": [
    "students[2:-5] # yeh nhi chaly ga kun ki hum list main left to right jayengy"
   ]
  },
  {
   "cell_type": "code",
   "execution_count": 104,
   "metadata": {},
   "outputs": [],
   "source": [
    "# step parameter"
   ]
  },
  {
   "cell_type": "code",
   "execution_count": 105,
   "metadata": {},
   "outputs": [],
   "source": [
    "nums = [1,2,3,4,5,6,7,8,9,10,11,12,13,14,15,16,17,18,19,20]"
   ]
  },
  {
   "cell_type": "code",
   "execution_count": 107,
   "metadata": {},
   "outputs": [
    {
     "data": {
      "text/plain": [
       "[1, 2, 3, 4, 5, 6, 7, 8, 9, 10, 11, 12, 13, 14, 15, 16]"
      ]
     },
     "execution_count": 107,
     "metadata": {},
     "output_type": "execute_result"
    }
   ],
   "source": [
    "\n",
    "nums[0:16:1] # [start:end:step]"
   ]
  },
  {
   "cell_type": "code",
   "execution_count": 108,
   "metadata": {},
   "outputs": [
    {
     "data": {
      "text/plain": [
       "[1, 3, 5, 7, 9, 11, 13, 15]"
      ]
     },
     "execution_count": 108,
     "metadata": {},
     "output_type": "execute_result"
    }
   ],
   "source": [
    "nums[0:16:2]"
   ]
  },
  {
   "cell_type": "code",
   "execution_count": 109,
   "metadata": {},
   "outputs": [
    {
     "data": {
      "text/plain": [
       "[1, 3, 5, 7, 9, 11, 13, 15, 17, 19]"
      ]
     },
     "execution_count": 109,
     "metadata": {},
     "output_type": "execute_result"
    }
   ],
   "source": [
    "nums[::2]"
   ]
  },
  {
   "cell_type": "markdown",
   "metadata": {},
   "source": [
    "#### Chapter 20:  Tuples"
   ]
  },
  {
   "cell_type": "code",
   "execution_count": 125,
   "metadata": {},
   "outputs": [],
   "source": [
    "# Tuples are just like python list except that they are immutable.\n",
    "# You can't add , delete and change elements after the creation of tuple\n",
    "\n",
    "# aisa data jo koi change na kar sakty tu woh hum tuple ki form main rakhty hain"
   ]
  },
  {
   "cell_type": "code",
   "execution_count": 111,
   "metadata": {},
   "outputs": [],
   "source": [
    "atuple = (\"arsalan\", 100, \"manzoor\")\n"
   ]
  },
  {
   "cell_type": "code",
   "execution_count": 112,
   "metadata": {},
   "outputs": [
    {
     "data": {
      "text/plain": [
       "3"
      ]
     },
     "execution_count": 112,
     "metadata": {},
     "output_type": "execute_result"
    }
   ],
   "source": [
    "len(atuple)"
   ]
  },
  {
   "cell_type": "code",
   "execution_count": 121,
   "metadata": {},
   "outputs": [],
   "source": [
    "# multiple value assign kardien or bracket na lagye tu woh tuple ki form main store hoga\n",
    "a = 12, 45,12"
   ]
  },
  {
   "cell_type": "code",
   "execution_count": 122,
   "metadata": {},
   "outputs": [
    {
     "data": {
      "text/plain": [
       "(12, 45, 12)"
      ]
     },
     "execution_count": 122,
     "metadata": {},
     "output_type": "execute_result"
    }
   ],
   "source": [
    "a"
   ]
  },
  {
   "cell_type": "code",
   "execution_count": 123,
   "metadata": {},
   "outputs": [
    {
     "data": {
      "text/plain": [
       "2"
      ]
     },
     "execution_count": 123,
     "metadata": {},
     "output_type": "execute_result"
    }
   ],
   "source": [
    "a.count(12)"
   ]
  },
  {
   "cell_type": "code",
   "execution_count": 124,
   "metadata": {},
   "outputs": [
    {
     "data": {
      "text/plain": [
       "1"
      ]
     },
     "execution_count": 124,
     "metadata": {},
     "output_type": "execute_result"
    }
   ],
   "source": [
    "a.index(45)"
   ]
  },
  {
   "cell_type": "markdown",
   "metadata": {},
   "source": [
    "#### Chapter 21: for loops"
   ]
  },
  {
   "cell_type": "code",
   "execution_count": 3,
   "metadata": {},
   "outputs": [],
   "source": [
    "# koi aisa task jo hum multiple type karna chahty hain usky liyeh hum for loop use karty hain koi repetitive task\n",
    "\n",
    "# ek task bar bar perform karna ho toh hum loop use karty hain\n",
    "\n",
    "# python provides 'for' loop to iterate over a sequence (e.g list, tuple, \n",
    "# dictionary). "
   ]
  },
  {
   "cell_type": "code",
   "execution_count": 4,
   "metadata": {},
   "outputs": [
    {
     "name": "stdout",
     "output_type": "stream",
     "text": [
      "arsalan\n",
      "arsalan\n",
      "arsalan\n",
      "arsalan\n",
      "arsalan\n"
     ]
    }
   ],
   "source": [
    "print(\"arsalan\")\n",
    "print(\"arsalan\")\n",
    "print(\"arsalan\")\n",
    "print(\"arsalan\")\n",
    "print(\"arsalan\")\n"
   ]
  },
  {
   "cell_type": "code",
   "execution_count": 6,
   "metadata": {},
   "outputs": [
    {
     "name": "stdout",
     "output_type": "stream",
     "text": [
      "0 arsalan\n",
      "1 arsalan\n",
      "2 arsalan\n",
      "3 arsalan\n",
      "4 arsalan\n"
     ]
    }
   ],
   "source": [
    "for a in range(5): # 5 will not be included 0,1,2,3,4\n",
    "    print(a,\"arsalan\")"
   ]
  },
  {
   "cell_type": "code",
   "execution_count": 11,
   "metadata": {},
   "outputs": [
    {
     "name": "stdout",
     "output_type": "stream",
     "text": [
      "1\n",
      "2\n",
      "3\n",
      "4\n",
      "5\n",
      "6\n",
      "7\n",
      "8\n",
      "9\n"
     ]
    }
   ],
   "source": [
    "for number in range(1,10): # start, end\n",
    "    print(number)"
   ]
  },
  {
   "cell_type": "code",
   "execution_count": 13,
   "metadata": {},
   "outputs": [
    {
     "name": "stdout",
     "output_type": "stream",
     "text": [
      "1\n",
      "3\n",
      "5\n",
      "7\n",
      "9\n"
     ]
    }
   ],
   "source": [
    "for number in range(1,10,2): # start,end,step\n",
    "    print(number)"
   ]
  },
  {
   "cell_type": "code",
   "execution_count": 21,
   "metadata": {},
   "outputs": [
    {
     "name": "stdout",
     "output_type": "stream",
     "text": [
      "10\n",
      "9\n",
      "8\n",
      "7\n",
      "6\n",
      "5\n",
      "4\n",
      "3\n",
      "2\n",
      "1\n"
     ]
    }
   ],
   "source": [
    "for number in range(10,0,-1):\n",
    "    print(number)"
   ]
  },
  {
   "cell_type": "code",
   "execution_count": 23,
   "metadata": {},
   "outputs": [
    {
     "name": "stdout",
     "output_type": "stream",
     "text": [
      "The city under consideration is khi\n",
      "The city under consideration is multan\n",
      "The city under consideration is quetta\n"
     ]
    }
   ],
   "source": [
    "cities = ['khi', 'multan', 'quetta']\n",
    "\n",
    "for city in cities:\n",
    "    print(f\"The city under consideration is {city}\")"
   ]
  },
  {
   "cell_type": "code",
   "execution_count": 24,
   "metadata": {},
   "outputs": [
    {
     "name": "stdout",
     "output_type": "stream",
     "text": [
      "11\n",
      "22\n",
      "33\n",
      "44\n",
      "55\n"
     ]
    }
   ],
   "source": [
    "for num in [11,22,33,44,55]:\n",
    "    print(num)"
   ]
  },
  {
   "cell_type": "code",
   "execution_count": 29,
   "metadata": {},
   "outputs": [
    {
     "name": "stdout",
     "output_type": "stream",
     "text": [
      "P\n",
      "a\n",
      "k\n",
      "i\n",
      "s\n",
      "t\n",
      "a\n",
      "n\n"
     ]
    }
   ],
   "source": [
    "country = \"Pakistan\"\n",
    "\n",
    "for character in country:\n",
    "    print(character)"
   ]
  },
  {
   "cell_type": "code",
   "execution_count": 30,
   "metadata": {},
   "outputs": [
    {
     "name": "stdout",
     "output_type": "stream",
     "text": [
      "Pakistan\n",
      "America\n"
     ]
    }
   ],
   "source": [
    "country = \"Pakistan\", \"America\" # yeh banega tuple\n",
    "\n",
    "for character in country:\n",
    "    print(character)"
   ]
  },
  {
   "cell_type": "markdown",
   "metadata": {},
   "source": [
    "##### for loop break and continue"
   ]
  },
  {
   "cell_type": "code",
   "execution_count": null,
   "metadata": {},
   "outputs": [],
   "source": [
    "# break (if certain condition is met then break the loop)\n",
    "\n",
    "# continue (if certain condition is met then skip and continue loop)"
   ]
  },
  {
   "cell_type": "code",
   "execution_count": 36,
   "metadata": {},
   "outputs": [
    {
     "name": "stdout",
     "output_type": "stream",
     "text": [
      "5\n",
      "7\n",
      "11\n"
     ]
    }
   ],
   "source": [
    "for number in [5,7,11,90]:\n",
    "    if number % 2==0:\n",
    "        break\n",
    "    print(number)\n",
    "        "
   ]
  },
  {
   "cell_type": "code",
   "execution_count": 38,
   "metadata": {},
   "outputs": [
    {
     "name": "stdout",
     "output_type": "stream",
     "text": [
      "0\n",
      "1\n",
      "2\n",
      "3\n",
      "5\n",
      "6\n",
      "8\n",
      "9\n"
     ]
    }
   ],
   "source": [
    "for number in range(10):\n",
    "    if number == 7 or number == 4:\n",
    "        continue\n",
    "    print(number)"
   ]
  },
  {
   "cell_type": "markdown",
   "metadata": {},
   "source": [
    "#### chapter 22: for loops nested"
   ]
  },
  {
   "cell_type": "code",
   "execution_count": 1,
   "metadata": {},
   "outputs": [
    {
     "name": "stdout",
     "output_type": "stream",
     "text": [
      "Inner loop begins\n",
      "0 C\n",
      "0 h\n",
      "0 i\n",
      "0 n\n",
      "0 a\n",
      "Inner loop begins\n",
      "1 C\n",
      "1 h\n",
      "1 i\n",
      "1 n\n",
      "1 a\n",
      "Inner loop begins\n",
      "2 C\n",
      "2 h\n",
      "2 i\n",
      "2 n\n",
      "2 a\n",
      "Inner loop begins\n",
      "3 C\n",
      "3 h\n",
      "3 i\n",
      "3 n\n",
      "3 a\n",
      "Inner loop begins\n",
      "4 C\n",
      "4 h\n",
      "4 i\n",
      "4 n\n",
      "4 a\n"
     ]
    }
   ],
   "source": [
    "for a in range(5):\n",
    "    print(\"Inner loop begins\")\n",
    "    for char in \"China\":\n",
    "        print(a, char)"
   ]
  },
  {
   "cell_type": "code",
   "execution_count": 2,
   "metadata": {},
   "outputs": [
    {
     "name": "stdout",
     "output_type": "stream",
     "text": [
      "Enter table number: 2\n",
      "2 * 1 = 2\n",
      "2 * 2 = 4\n",
      "2 * 3 = 6\n",
      "2 * 4 = 8\n",
      "2 * 5 = 10\n",
      "2 * 6 = 12\n",
      "2 * 7 = 14\n",
      "2 * 8 = 16\n",
      "2 * 9 = 18\n",
      "2 * 10 = 20\n"
     ]
    }
   ],
   "source": [
    "tableNumber = int(input(\"Enter table number: \"))\n",
    "for a in range(1, 11):\n",
    "    print(f\"{tableNumber} * {a} = {tableNumber*a}\")"
   ]
  },
  {
   "cell_type": "code",
   "execution_count": 9,
   "metadata": {},
   "outputs": [
    {
     "name": "stdout",
     "output_type": "stream",
     "text": [
      "enter the range of table: 3\n",
      "2 * 1 = 2\n",
      "2 * 2 = 4\n",
      "2 * 3 = 6\n",
      "2 * 4 = 8\n",
      "2 * 5 = 10\n",
      "2 * 6 = 12\n",
      "2 * 7 = 14\n",
      "2 * 8 = 16\n",
      "2 * 9 = 18\n",
      "2 * 10 = 20\n",
      "3 * 1 = 3\n",
      "3 * 2 = 6\n",
      "3 * 3 = 9\n",
      "3 * 4 = 12\n",
      "3 * 5 = 15\n",
      "3 * 6 = 18\n",
      "3 * 7 = 21\n",
      "3 * 8 = 24\n",
      "3 * 9 = 27\n",
      "3 * 10 = 30\n"
     ]
    }
   ],
   "source": [
    "tables = int(input(\"enter the range of table: \"))\n",
    "\n",
    "for table in range(2,tables+1):\n",
    "    for num in range(1,11):\n",
    "        print(f\"{table} * {num} = {table*num}\")\n",
    "        \n",
    "    "
   ]
  },
  {
   "cell_type": "code",
   "execution_count": 15,
   "metadata": {},
   "outputs": [
    {
     "name": "stdout",
     "output_type": "stream",
     "text": [
      "['BlueRay Zzz', 'BlueRay Burp', 'BlueRay Dogbone', 'BlueRay Droop', 'Upchuck Zzz', 'Upchuck Burp', 'Upchuck Dogbone', 'Upchuck Droop', 'Lojack Zzz', 'Lojack Burp', 'Lojack Dogbone', 'Lojack Droop', 'Gizo Zzz', 'Gizo Burp', 'Gizo Dogbone', 'Gizo Droop', 'Do-Rag Zzz', 'Do-Rag Burp', 'Do-Rag Dogbone', 'Do-Rag Droop']\n"
     ]
    }
   ],
   "source": [
    "first_names = [\"BlueRay\", \"Upchuck\", \"Lojack\", \"Gizo\", \"Do-Rag\"]\n",
    "last_names = [\"Zzz\", \"Burp\", \"Dogbone\", \"Droop\"]\n",
    "\n",
    "full_names = []\n",
    "\n",
    "for a_first_name in first_names:\n",
    "    for a_last_name in last_names:\n",
    "        full_names.append(a_first_name + \" \" + a_last_name)\n",
    "    \n",
    "print(full_names)"
   ]
  },
  {
   "cell_type": "code",
   "execution_count": 16,
   "metadata": {},
   "outputs": [
    {
     "name": "stdout",
     "output_type": "stream",
     "text": [
      "BlueRay Zzz\n",
      "BlueRay Burp\n",
      "BlueRay Dogbone\n",
      "BlueRay Droop\n",
      "Upchuck Zzz\n",
      "Upchuck Burp\n",
      "Upchuck Dogbone\n",
      "Upchuck Droop\n",
      "Lojack Zzz\n",
      "Lojack Burp\n",
      "Lojack Dogbone\n",
      "Lojack Droop\n",
      "Gizo Zzz\n",
      "Gizo Burp\n",
      "Gizo Dogbone\n",
      "Gizo Droop\n",
      "Do-Rag Zzz\n",
      "Do-Rag Burp\n",
      "Do-Rag Dogbone\n",
      "Do-Rag Droop\n"
     ]
    }
   ],
   "source": [
    "for names in full_names:\n",
    "    print(names)"
   ]
  },
  {
   "cell_type": "markdown",
   "metadata": {},
   "source": [
    "#### chapter: 23 getting information from the user and converting strings and numbers"
   ]
  },
  {
   "cell_type": "code",
   "execution_count": 18,
   "metadata": {},
   "outputs": [],
   "source": [
    "# input from keyboard\n",
    "\n",
    "# for this purpose python provides the function input()\n",
    "# input has an optional parameter, which is the prompt string"
   ]
  },
  {
   "cell_type": "code",
   "execution_count": 19,
   "metadata": {},
   "outputs": [
    {
     "name": "stdout",
     "output_type": "stream",
     "text": [
      "Enter your name: arsalan\n",
      "Hello, arsalan\n",
      "<class 'str'>\n"
     ]
    }
   ],
   "source": [
    "name = input(\"Enter your name: \")\n",
    "print(f\"Hello, {name}\")\n",
    "print(type(name))"
   ]
  },
  {
   "cell_type": "code",
   "execution_count": 20,
   "metadata": {},
   "outputs": [
    {
     "name": "stdout",
     "output_type": "stream",
     "text": [
      "Enter number: 3\n",
      "3\n",
      "<class 'str'>\n"
     ]
    }
   ],
   "source": [
    "number = input(\"Enter number: \")\n",
    "print(number)\n",
    "print(type(number))"
   ]
  },
  {
   "cell_type": "code",
   "execution_count": 21,
   "metadata": {},
   "outputs": [
    {
     "name": "stdout",
     "output_type": "stream",
     "text": [
      "Enter number3\n",
      "3\n",
      "<class 'int'>\n"
     ]
    }
   ],
   "source": [
    "number = int(input(\"Enter number\"))\n",
    "print(number)\n",
    "print(type(number))"
   ]
  },
  {
   "cell_type": "code",
   "execution_count": 22,
   "metadata": {},
   "outputs": [
    {
     "name": "stdout",
     "output_type": "stream",
     "text": [
      "Enter number: 3\n",
      "3.0\n",
      "<class 'float'>\n"
     ]
    }
   ],
   "source": [
    "float_number = float(input(\"Enter number: \"))\n",
    "print(float_number)\n",
    "print(type(float_number))"
   ]
  },
  {
   "cell_type": "markdown",
   "metadata": {},
   "source": [
    "#### chapter: 24 changing case"
   ]
  },
  {
   "cell_type": "code",
   "execution_count": 27,
   "metadata": {},
   "outputs": [],
   "source": [
    "# Python provides builtin functions for scenarios a user wants to change\n",
    "# the case of string data"
   ]
  },
  {
   "cell_type": "code",
   "execution_count": 26,
   "metadata": {},
   "outputs": [
    {
     "name": "stdout",
     "output_type": "stream",
     "text": [
      "Enter your city: MULTAN\n",
      "It's one of the cleanest city.\n"
     ]
    }
   ],
   "source": [
    "city_to_check = input(\"Enter your city: \")\n",
    "city_to_check = city_to_check.lower()\n",
    "\n",
    "cleanest_cities = ['karachi', 'lahore', 'islamabd', 'multan']\n",
    "\n",
    "for a_clean_city in cleanest_cities:\n",
    "    if city_to_check == a_clean_city:\n",
    "        print(\"It's one of the cleanest city.\")"
   ]
  },
  {
   "cell_type": "code",
   "execution_count": 30,
   "metadata": {},
   "outputs": [
    {
     "name": "stdout",
     "output_type": "stream",
     "text": [
      "<class 'str'>\n",
      "i am a string\n",
      "I AM A STRING\n",
      "I Am A String\n"
     ]
    }
   ],
   "source": [
    "str_data = 'i AM a STRING'\n",
    "\n",
    "print(type(str_data))\n",
    "\n",
    "print(str_data.lower()) # will output sentence in Lower case\n",
    "print(str_data.upper()) # will output sentence in Upper case\n",
    "print(str_data.title()) # will output sentence in Capitalize"
   ]
  },
  {
   "cell_type": "markdown",
   "metadata": {},
   "source": [
    "### Chapter 25 - 28: Dictionaries"
   ]
  },
  {
   "cell_type": "code",
   "execution_count": 1,
   "metadata": {},
   "outputs": [],
   "source": [
    "# Python provides a data structure for such cases.Dictionary simply words is a data\n",
    "# structure which stores the key value pairs"
   ]
  },
  {
   "cell_type": "code",
   "execution_count": 2,
   "metadata": {},
   "outputs": [],
   "source": [
    "# my_Dict = {key: value, key: value, key: value}"
   ]
  },
  {
   "cell_type": "code",
   "execution_count": 3,
   "metadata": {},
   "outputs": [],
   "source": [
    "my_Dict = {\"name\": \"Arsalan\", \"age\": 24, \"gender\": \"Male\"}"
   ]
  },
  {
   "cell_type": "code",
   "execution_count": 4,
   "metadata": {},
   "outputs": [
    {
     "data": {
      "text/plain": [
       "3"
      ]
     },
     "execution_count": 4,
     "metadata": {},
     "output_type": "execute_result"
    }
   ],
   "source": [
    "len(my_Dict)"
   ]
  },
  {
   "cell_type": "code",
   "execution_count": 5,
   "metadata": {},
   "outputs": [
    {
     "data": {
      "text/plain": [
       "'Arsalan'"
      ]
     },
     "execution_count": 5,
     "metadata": {},
     "output_type": "execute_result"
    }
   ],
   "source": [
    "my_Dict[\"name\"]"
   ]
  },
  {
   "cell_type": "code",
   "execution_count": 6,
   "metadata": {},
   "outputs": [
    {
     "data": {
      "text/plain": [
       "24"
      ]
     },
     "execution_count": 6,
     "metadata": {},
     "output_type": "execute_result"
    }
   ],
   "source": [
    "my_Dict[\"age\"]"
   ]
  },
  {
   "cell_type": "markdown",
   "metadata": {},
   "source": [
    "### Chapter 29 Dictionaries: Adding items"
   ]
  },
  {
   "cell_type": "code",
   "execution_count": 7,
   "metadata": {},
   "outputs": [],
   "source": [
    "my_Dict[\"email\"] = \"arsalan@gmail.com\""
   ]
  },
  {
   "cell_type": "code",
   "execution_count": 8,
   "metadata": {},
   "outputs": [
    {
     "data": {
      "text/plain": [
       "{'name': 'Arsalan', 'age': 24, 'gender': 'Male', 'email': 'arsalan@gmail.com'}"
      ]
     },
     "execution_count": 8,
     "metadata": {},
     "output_type": "execute_result"
    }
   ],
   "source": [
    "my_Dict"
   ]
  },
  {
   "cell_type": "code",
   "execution_count": 9,
   "metadata": {},
   "outputs": [],
   "source": [
    "new_Dict = {1: 'Arsalan', 2: 'Noman'}"
   ]
  },
  {
   "cell_type": "code",
   "execution_count": 10,
   "metadata": {},
   "outputs": [
    {
     "data": {
      "text/plain": [
       "'Noman'"
      ]
     },
     "execution_count": 10,
     "metadata": {},
     "output_type": "execute_result"
    }
   ],
   "source": [
    "new_Dict[2]"
   ]
  },
  {
   "cell_type": "markdown",
   "metadata": {},
   "source": [
    "### Chapter 30 Dictionaries : Removing and Changing items"
   ]
  },
  {
   "cell_type": "code",
   "execution_count": 11,
   "metadata": {},
   "outputs": [],
   "source": [
    "del new_Dict[1]"
   ]
  },
  {
   "cell_type": "code",
   "execution_count": 12,
   "metadata": {},
   "outputs": [
    {
     "data": {
      "text/plain": [
       "{2: 'Noman'}"
      ]
     },
     "execution_count": 12,
     "metadata": {},
     "output_type": "execute_result"
    }
   ],
   "source": [
    "new_Dict"
   ]
  },
  {
   "cell_type": "code",
   "execution_count": 13,
   "metadata": {},
   "outputs": [],
   "source": [
    "# Updating a key value"
   ]
  },
  {
   "cell_type": "code",
   "execution_count": 14,
   "metadata": {},
   "outputs": [
    {
     "data": {
      "text/plain": [
       "{'name': 'Arsalan', 'age': 24, 'gender': 'Male', 'email': 'arsalan@gmail.com'}"
      ]
     },
     "execution_count": 14,
     "metadata": {},
     "output_type": "execute_result"
    }
   ],
   "source": [
    "my_Dict"
   ]
  },
  {
   "cell_type": "code",
   "execution_count": 15,
   "metadata": {},
   "outputs": [],
   "source": [
    "my_Dict[\"email\"] = \"arsalan19@gmail.com\""
   ]
  },
  {
   "cell_type": "code",
   "execution_count": 16,
   "metadata": {},
   "outputs": [
    {
     "data": {
      "text/plain": [
       "{'name': 'Arsalan',\n",
       " 'age': 24,\n",
       " 'gender': 'Male',\n",
       " 'email': 'arsalan19@gmail.com'}"
      ]
     },
     "execution_count": 16,
     "metadata": {},
     "output_type": "execute_result"
    }
   ],
   "source": [
    "my_Dict"
   ]
  },
  {
   "cell_type": "code",
   "execution_count": 17,
   "metadata": {},
   "outputs": [],
   "source": [
    "# agar ek dict main same key ho toh dosri wali key pehli key ko override kardygi"
   ]
  },
  {
   "cell_type": "code",
   "execution_count": 18,
   "metadata": {},
   "outputs": [],
   "source": [
    "aDic = {1: 100, 2:200, 3:300, 4:400, 1:1000}"
   ]
  },
  {
   "cell_type": "code",
   "execution_count": 19,
   "metadata": {},
   "outputs": [
    {
     "data": {
      "text/plain": [
       "{1: 1000, 2: 200, 3: 300, 4: 400}"
      ]
     },
     "execution_count": 19,
     "metadata": {},
     "output_type": "execute_result"
    }
   ],
   "source": [
    "aDic"
   ]
  },
  {
   "cell_type": "markdown",
   "metadata": {},
   "source": [
    "### 31 - 33 Dictionaries: Looping through Dictionaries"
   ]
  },
  {
   "cell_type": "code",
   "execution_count": 7,
   "metadata": {},
   "outputs": [],
   "source": [
    "# Python provides 3 methods over dictionary object to iterate over dictionary values, keys\n",
    "# and key value pair"
   ]
  },
  {
   "cell_type": "code",
   "execution_count": 3,
   "metadata": {},
   "outputs": [],
   "source": [
    "student = {'Name': 'Arsalan', 'Class': 'AI', 'Program': 'PIAIC'}"
   ]
  },
  {
   "cell_type": "code",
   "execution_count": 5,
   "metadata": {},
   "outputs": [
    {
     "name": "stdout",
     "output_type": "stream",
     "text": [
      "Arsalan\n",
      "AI\n",
      "PIAIC\n"
     ]
    }
   ],
   "source": [
    "# Looping thorugh values\n",
    "\n",
    "for value in student.values():\n",
    "    print(value)"
   ]
  },
  {
   "cell_type": "code",
   "execution_count": 6,
   "metadata": {},
   "outputs": [
    {
     "name": "stdout",
     "output_type": "stream",
     "text": [
      "Name\n",
      "Class\n",
      "Program\n"
     ]
    }
   ],
   "source": [
    "# Looping through keys\n",
    "\n",
    "for key in student.keys():\n",
    "    print(key)"
   ]
  },
  {
   "cell_type": "code",
   "execution_count": 23,
   "metadata": {},
   "outputs": [
    {
     "name": "stdout",
     "output_type": "stream",
     "text": [
      "Name Arsalan\n",
      "Class AI\n",
      "Program PIAIC\n"
     ]
    }
   ],
   "source": [
    "for key, value in student.items():\n",
    "    print(f\"{key} {value}\")"
   ]
  },
  {
   "cell_type": "markdown",
   "metadata": {},
   "source": [
    "### 34 : Creating a list of dictionaries"
   ]
  },
  {
   "cell_type": "code",
   "execution_count": 24,
   "metadata": {},
   "outputs": [],
   "source": [
    "customer_29876 = {\n",
    "    \"first name\": \"abid\",\n",
    "    \"last name\": \"ali\",\n",
    "    \"address\": \"buffer zone\"\n",
    "}"
   ]
  },
  {
   "cell_type": "code",
   "execution_count": 25,
   "metadata": {},
   "outputs": [],
   "source": [
    "customer_ids = [101, 102, 103]"
   ]
  },
  {
   "cell_type": "code",
   "execution_count": 38,
   "metadata": {},
   "outputs": [],
   "source": [
    "customers = [{\n",
    "    \"customer id\" : 0,\n",
    "    \"first name\": \"ahmed\",\n",
    "    \"last name\": \"ali\",\n",
    "    \"address\": \"nagan chowrangi\",\n",
    "},\n",
    "{\n",
    "    \"customer id\": 1,\n",
    "    \"first name\": \"kamran\",\n",
    "    \"last name\": \"khan\",\n",
    "    \"address\": \"laloo khait\",\n",
    "    },\n",
    "{\n",
    "    \"customer id\": 2,\n",
    "    \"first name\": \"bilal\",\n",
    "    \"last name\": \"akhtar\",\n",
    "    \"address\": \"fb area\",\n",
    "    }]"
   ]
  },
  {
   "cell_type": "markdown",
   "metadata": {},
   "source": [
    "### 35 How to pick information out of a list of dicionaries"
   ]
  },
  {
   "cell_type": "code",
   "execution_count": 39,
   "metadata": {},
   "outputs": [
    {
     "name": "stdout",
     "output_type": "stream",
     "text": [
      "ahmed\n"
     ]
    }
   ],
   "source": [
    "print(customers[0][\"first name\"])"
   ]
  },
  {
   "cell_type": "code",
   "execution_count": 40,
   "metadata": {},
   "outputs": [
    {
     "name": "stdout",
     "output_type": "stream",
     "text": [
      "kamran\n"
     ]
    }
   ],
   "source": [
    "print(customers[1][\"first name\"])"
   ]
  },
  {
   "cell_type": "markdown",
   "metadata": {},
   "source": [
    "### 36 How to append a new dictionary to a list of dictionaries"
   ]
  },
  {
   "cell_type": "code",
   "execution_count": 41,
   "metadata": {},
   "outputs": [
    {
     "name": "stdout",
     "output_type": "stream",
     "text": [
      "3\n"
     ]
    }
   ],
   "source": [
    "new_customer_id = len(customers)\n",
    "print(new_customer_id)"
   ]
  },
  {
   "cell_type": "code",
   "execution_count": 42,
   "metadata": {},
   "outputs": [],
   "source": [
    "new_first_name = \"shahid\"\n",
    "new_last_name = \"afridi\"\n",
    "new_address = \"ayesha manzil\""
   ]
  },
  {
   "cell_type": "code",
   "execution_count": 43,
   "metadata": {},
   "outputs": [],
   "source": [
    "new_dictionary = {\n",
    "    \"customer id\": new_customer_id,\n",
    "    \"first name\": new_first_name,\n",
    "    \"last name\": new_last_name,\n",
    "    \"address\": new_address,\n",
    "    \n",
    "}\n",
    "\n",
    "customers.append(new_dictionary)"
   ]
  },
  {
   "cell_type": "code",
   "execution_count": 44,
   "metadata": {},
   "outputs": [
    {
     "data": {
      "text/plain": [
       "[{'customer id': 0,\n",
       "  'first name': 'ahmed',\n",
       "  'last name': 'ali',\n",
       "  'address': 'nagan chowrangi'},\n",
       " {'customer id': 1,\n",
       "  'first name': 'kamran',\n",
       "  'last name': 'khan',\n",
       "  'address': 'laloo khait'},\n",
       " {'customer id': 2,\n",
       "  'first name': 'bilal',\n",
       "  'last name': 'akhtar',\n",
       "  'address': 'fb area'},\n",
       " {'customer id': 3,\n",
       "  'first name': 'shahid',\n",
       "  'last name': 'afridi',\n",
       "  'address': 'ayesha manzil'}]"
      ]
     },
     "execution_count": 44,
     "metadata": {},
     "output_type": "execute_result"
    }
   ],
   "source": [
    "customers"
   ]
  },
  {
   "cell_type": "markdown",
   "metadata": {},
   "source": [
    "### 37 - 38 Creating a dictionary that contains lists"
   ]
  },
  {
   "cell_type": "code",
   "execution_count": 4,
   "metadata": {},
   "outputs": [],
   "source": [
    "employee = {'Name': 'Shams', 'ChildrenNames': ['Taha', 'Abdul Rehman']}"
   ]
  },
  {
   "cell_type": "code",
   "execution_count": 5,
   "metadata": {},
   "outputs": [
    {
     "data": {
      "text/plain": [
       "{'Name': 'Shams', 'ChildrenNames': ['Taha', 'Abdul Rehman']}"
      ]
     },
     "execution_count": 5,
     "metadata": {},
     "output_type": "execute_result"
    }
   ],
   "source": [
    "employee"
   ]
  },
  {
   "cell_type": "code",
   "execution_count": 6,
   "metadata": {},
   "outputs": [
    {
     "name": "stdout",
     "output_type": "stream",
     "text": [
      "Taha\n"
     ]
    }
   ],
   "source": [
    "print(employee['ChildrenNames'][0])"
   ]
  },
  {
   "cell_type": "code",
   "execution_count": 7,
   "metadata": {},
   "outputs": [
    {
     "name": "stdout",
     "output_type": "stream",
     "text": [
      "Abdul Rehman\n"
     ]
    }
   ],
   "source": [
    "print(employee['ChildrenNames'][1])"
   ]
  },
  {
   "cell_type": "markdown",
   "metadata": {},
   "source": [
    "### 39 - 40 Creating a dictionary that contains a dictionary"
   ]
  },
  {
   "cell_type": "code",
   "execution_count": 8,
   "metadata": {},
   "outputs": [],
   "source": [
    "customers = {\n",
    "   0: {\n",
    "  'first name': 'ahmed',\n",
    "  'last name': 'ali',\n",
    "  'address': 'nagan chowrangi'},\n",
    " 1: {\n",
    "  'first name': 'kamran',\n",
    "  'last name': 'khan',\n",
    "  'address': 'laloo khait'},\n",
    " 2: {\n",
    "  'first name': 'bilal',\n",
    "  'last name': 'akhtar',\n",
    "  'address': 'fb area'},\n",
    " 3: {\n",
    "  'first name': 'shahid',\n",
    "  'last name': 'afridi',\n",
    "  'address': 'ayesha manzil'}\n",
    "}"
   ]
  },
  {
   "cell_type": "code",
   "execution_count": 9,
   "metadata": {},
   "outputs": [
    {
     "name": "stdout",
     "output_type": "stream",
     "text": [
      "{0: {'first name': 'ahmed', 'last name': 'ali', 'address': 'nagan chowrangi'}, 1: {'first name': 'kamran', 'last name': 'khan', 'address': 'laloo khait'}, 2: {'first name': 'bilal', 'last name': 'akhtar', 'address': 'fb area'}, 3: {'first name': 'shahid', 'last name': 'afridi', 'address': 'ayesha manzil'}}\n"
     ]
    }
   ],
   "source": [
    "print(customers)"
   ]
  },
  {
   "cell_type": "code",
   "execution_count": 10,
   "metadata": {},
   "outputs": [
    {
     "name": "stdout",
     "output_type": "stream",
     "text": [
      "{'first name': 'bilal', 'last name': 'akhtar', 'address': 'fb area'}\n"
     ]
    }
   ],
   "source": [
    "print(customers[2])"
   ]
  },
  {
   "cell_type": "code",
   "execution_count": 11,
   "metadata": {},
   "outputs": [
    {
     "name": "stdout",
     "output_type": "stream",
     "text": [
      "bilal\n"
     ]
    }
   ],
   "source": [
    "print(customers[2][\"first name\"])"
   ]
  },
  {
   "cell_type": "code",
   "execution_count": 12,
   "metadata": {},
   "outputs": [
    {
     "name": "stdout",
     "output_type": "stream",
     "text": [
      "{'first name': 'kamran', 'last name': 'khan', 'address': 'laloo khait'}\n"
     ]
    }
   ],
   "source": [
    "print(customers[1])"
   ]
  },
  {
   "cell_type": "code",
   "execution_count": 13,
   "metadata": {},
   "outputs": [
    {
     "name": "stdout",
     "output_type": "stream",
     "text": [
      "laloo khait\n"
     ]
    }
   ],
   "source": [
    "print(customers[1][\"address\"])"
   ]
  },
  {
   "cell_type": "markdown",
   "metadata": {},
   "source": [
    "### Chapter 41 : Functions"
   ]
  },
  {
   "cell_type": "code",
   "execution_count": 6,
   "metadata": {},
   "outputs": [],
   "source": [
    "# A 'function' is a block of code that robotically does the same thing again and again, \n",
    "# whenever you invoke its name. It saves you repetitive coding and makes your code easier\n",
    "# to understand.\n",
    "\n",
    "# fucntions are a way to achieve the modularity and reusability in code. Before moving \n",
    "# forward we must need to know what are these:\n",
    "\n",
    "# Modularity: Modular programming is the process of subdividing a computer program into\n",
    "# seperate sub-programs. A module can often be used in a variety of application and functions\n",
    "# with other components of system.\n",
    "\n",
    "# Reusability: Using of already developed code according to out requirement without \n",
    "# writing from the scratch"
   ]
  },
  {
   "cell_type": "code",
   "execution_count": 7,
   "metadata": {},
   "outputs": [],
   "source": [
    "# In python we define a function with a keyword 'def' and then fucntion name after the\n",
    "# name of function we supply pair of parentheses and a colon sign e.g."
   ]
  },
  {
   "cell_type": "code",
   "execution_count": 8,
   "metadata": {},
   "outputs": [
    {
     "name": "stdout",
     "output_type": "stream",
     "text": [
      "A line before function\n",
      "A line after function\n"
     ]
    }
   ],
   "source": [
    "print(\"A line before function\")\n",
    "\n",
    "def add_numbers():\n",
    "    first_number = 2\n",
    "    second_number = 3\n",
    "    total = first_number + second_number\n",
    "    print(total)\n",
    "\n",
    "print(\"A line after function\")"
   ]
  },
  {
   "cell_type": "code",
   "execution_count": 2,
   "metadata": {},
   "outputs": [],
   "source": [
    "# function doesn't anythng until it's called."
   ]
  },
  {
   "cell_type": "code",
   "execution_count": 5,
   "metadata": {},
   "outputs": [
    {
     "name": "stdout",
     "output_type": "stream",
     "text": [
      "5\n"
     ]
    }
   ],
   "source": [
    "add_numbers()"
   ]
  },
  {
   "cell_type": "markdown",
   "metadata": {},
   "source": [
    "### Chapter 42 : Passing them information"
   ]
  },
  {
   "cell_type": "code",
   "execution_count": 9,
   "metadata": {},
   "outputs": [],
   "source": [
    "# A generic function does not define any data it processes inside it hard-coded instead it\n",
    "# accepts the data when it is called and processes that data e.g"
   ]
  },
  {
   "cell_type": "code",
   "execution_count": 13,
   "metadata": {},
   "outputs": [],
   "source": [
    "                # parameter1, parameter2\n",
    "def add_numbers(first_number, second_number):\n",
    "    print(first_number + second_number)"
   ]
  },
  {
   "cell_type": "code",
   "execution_count": 12,
   "metadata": {},
   "outputs": [
    {
     "name": "stdout",
     "output_type": "stream",
     "text": [
      "8\n"
     ]
    }
   ],
   "source": [
    "# Now to call the fucntion we need to pass two arguments and they are matched according to\n",
    "# their position in the function call, e.g here value 3 will be assigned in first_number \n",
    "# while value 5 will be assigned to second_number variable\n",
    "\n",
    "add_numbers(3,5)"
   ]
  },
  {
   "cell_type": "code",
   "execution_count": 14,
   "metadata": {},
   "outputs": [
    {
     "name": "stdout",
     "output_type": "stream",
     "text": [
      "12\n"
     ]
    }
   ],
   "source": [
    "add_numbers(2,10)"
   ]
  },
  {
   "cell_type": "markdown",
   "metadata": {},
   "source": [
    "### Chapter 43 : Passing information to them a different way"
   ]
  },
  {
   "cell_type": "code",
   "execution_count": 16,
   "metadata": {},
   "outputs": [],
   "source": [
    "# There is another way to call same function that we pass the arguments with the name of\n",
    "# variable, this way position does not matter but the value is assigned to matching name\n",
    "# variable in function parameters e.g.\n",
    "\n",
    "# you don't have to match arguments to parameters by order. You can code 'keyword arguments'\n",
    "# Then the order doesn't matter"
   ]
  },
  {
   "cell_type": "code",
   "execution_count": 19,
   "metadata": {},
   "outputs": [],
   "source": [
    "def fullName(first, middle, last):\n",
    "    print(first + \" \"+ middle + \" \" +last)"
   ]
  },
  {
   "cell_type": "code",
   "execution_count": 21,
   "metadata": {},
   "outputs": [
    {
     "name": "stdout",
     "output_type": "stream",
     "text": [
      "muhammad arsalan manzoor\n"
     ]
    }
   ],
   "source": [
    "fullName(\"muhammad\", \"arsalan\", \"manzoor\") # this is positional argument(sequence matters)"
   ]
  },
  {
   "cell_type": "code",
   "execution_count": 22,
   "metadata": {},
   "outputs": [],
   "source": [
    "# Key-Word argument\n"
   ]
  },
  {
   "cell_type": "code",
   "execution_count": 24,
   "metadata": {},
   "outputs": [
    {
     "name": "stdout",
     "output_type": "stream",
     "text": [
      "muhammad arsalan manzoor\n"
     ]
    }
   ],
   "source": [
    "fullName(middle=\"arsalan\", last=\"manzoor\", first=\"muhammad\")"
   ]
  },
  {
   "cell_type": "code",
   "execution_count": 25,
   "metadata": {},
   "outputs": [],
   "source": [
    "# keyword argument hamesha last main ayega"
   ]
  },
  {
   "cell_type": "code",
   "execution_count": 26,
   "metadata": {},
   "outputs": [
    {
     "name": "stdout",
     "output_type": "stream",
     "text": [
      "muhammad arsalan manzoor\n"
     ]
    }
   ],
   "source": [
    "fullName(\"muhammad\", \"arsalan\", last=\"manzoor\")"
   ]
  },
  {
   "cell_type": "markdown",
   "metadata": {},
   "source": [
    "### Chapter 44 : Assigning a default value to a parameter"
   ]
  },
  {
   "cell_type": "code",
   "execution_count": 27,
   "metadata": {},
   "outputs": [],
   "source": [
    "# There are times when some parameter value are optional but still you need a default value\n",
    "# in case if someone does not provide the value to avoid any non deterministic behaviors"
   ]
  },
  {
   "cell_type": "code",
   "execution_count": 37,
   "metadata": {},
   "outputs": [],
   "source": [
    "# Default Parameters\n",
    "# agar koi aisa case ho jaismy user value na dena chahta ho tu us case main hum default\n",
    "# parameters use karty hain\n",
    "\n",
    "# Note: default parameter hamesha last main ayega "
   ]
  },
  {
   "cell_type": "code",
   "execution_count": 38,
   "metadata": {},
   "outputs": [],
   "source": [
    "def fullName(first, last, middle=\"\"):\n",
    "    print(first + \" \"+ middle + \" \" +last)"
   ]
  },
  {
   "cell_type": "code",
   "execution_count": 39,
   "metadata": {},
   "outputs": [
    {
     "name": "stdout",
     "output_type": "stream",
     "text": [
      "arsalan  manzoor\n"
     ]
    }
   ],
   "source": [
    "fullName(\"arsalan\",\"manzoor\")"
   ]
  },
  {
   "cell_type": "code",
   "execution_count": 43,
   "metadata": {},
   "outputs": [
    {
     "name": "stdout",
     "output_type": "stream",
     "text": [
      "muhammad arsalan manzoor\n"
     ]
    }
   ],
   "source": [
    "fullName(\"muhammad\", \"manzoor\",\"arsalan\")"
   ]
  },
  {
   "cell_type": "markdown",
   "metadata": {},
   "source": [
    "### Chapter 45 : Mixing positional and keyword arguments"
   ]
  },
  {
   "cell_type": "code",
   "execution_count": 45,
   "metadata": {},
   "outputs": [],
   "source": [
    "# You can mix positonal arguments and keyword arguments for example, you code"
   ]
  },
  {
   "cell_type": "code",
   "execution_count": 46,
   "metadata": {},
   "outputs": [],
   "source": [
    "def give_greeting(greeting, first_name):\n",
    "    print(greeting + \", \"+first_name)"
   ]
  },
  {
   "cell_type": "code",
   "execution_count": 48,
   "metadata": {},
   "outputs": [
    {
     "name": "stdout",
     "output_type": "stream",
     "text": [
      "Hello there, arsalan\n"
     ]
    }
   ],
   "source": [
    "# The first argument is positional because there's no keyword. The second argument is a \n",
    "# keyword argument because it pairs the keyword first_name with the value\n",
    "\n",
    "# Note: Postional arguments hamesha pehly ayega \n",
    "give_greeting(\"Hello there\", first_name=\"arsalan\")"
   ]
  },
  {
   "cell_type": "code",
   "execution_count": 51,
   "metadata": {},
   "outputs": [],
   "source": [
    "def give_greeting(greeting, first_name, nickname=\"the wonder boy\"):\n",
    "    print(greeting + \", \"+ first_name + \" \" + nickname)"
   ]
  },
  {
   "cell_type": "code",
   "execution_count": 58,
   "metadata": {},
   "outputs": [
    {
     "name": "stdout",
     "output_type": "stream",
     "text": [
      "Hello there, arsalan the wonder boy\n"
     ]
    }
   ],
   "source": [
    "give_greeting(\"Hello there\", first_name=\"arsalan\")"
   ]
  },
  {
   "cell_type": "code",
   "execution_count": 59,
   "metadata": {},
   "outputs": [],
   "source": [
    "# Note: Positonal arguments or parameters hamesha pehly ayengy\n",
    "# keyword parameters without defaults always come second\n",
    "# and keyword parameters with default always come last"
   ]
  },
  {
   "cell_type": "code",
   "execution_count": 60,
   "metadata": {},
   "outputs": [],
   "source": [
    "# List and dictionaries , as well as strings and numbers, can be arguments passed to a \n",
    "# function. Here's our customers dictionary, a dictionary that contains a dictionary"
   ]
  },
  {
   "cell_type": "code",
   "execution_count": 64,
   "metadata": {},
   "outputs": [],
   "source": [
    "customers = {\n",
    "   0: {\n",
    "  'first name': 'ahmed',\n",
    "  'last name': 'ali',\n",
    "  'address': 'nagan chowrangi'},\n",
    " 1: {\n",
    "  'first name': 'kamran',\n",
    "  'last name': 'khan',\n",
    "  'address': 'laloo khait'},\n",
    " 2: {\n",
    "  'first name': 'bilal',\n",
    "  'last name': 'akhtar',\n",
    "  'address': 'fb area'},\n",
    " 3: {\n",
    "  'first name': 'shahid',\n",
    "  'last name': 'afridi',\n",
    "  'address': 'ayesha manzil'}\n",
    "}"
   ]
  },
  {
   "cell_type": "code",
   "execution_count": 62,
   "metadata": {},
   "outputs": [],
   "source": [
    "# Let's say we want to find the last name of customer 2.\n",
    "# This is the function call:"
   ]
  },
  {
   "cell_type": "code",
   "execution_count": 63,
   "metadata": {},
   "outputs": [],
   "source": [
    "def find_something(dict, inner_dict, target):\n",
    "    print(dict[inner_dict][target])"
   ]
  },
  {
   "cell_type": "code",
   "execution_count": 65,
   "metadata": {},
   "outputs": [
    {
     "name": "stdout",
     "output_type": "stream",
     "text": [
      "fb area\n"
     ]
    }
   ],
   "source": [
    "find_something(customers,2,\"address\" )"
   ]
  },
  {
   "cell_type": "markdown",
   "metadata": {},
   "source": [
    "### Chapter 46 : Dealing with an unknown number of arguments"
   ]
  },
  {
   "cell_type": "code",
   "execution_count": 82,
   "metadata": {},
   "outputs": [],
   "source": [
    "# In some cases we can not actually guess how many arguments user would pass when calling\n",
    "# function so we need a parameter that can take all values provided by the user.\n",
    "\n",
    "\n",
    "# matalb: hamary pass ek first_number hai ek second number hai isky illawa user agar number\n",
    "# dyna chay tu woh dey sakta usky liyeh hum ek optional paramaeter banaty hai or usky\n",
    "# hamain nahi pata user kitny number of arguments bhejy ga  tu do jo arguments hain \n",
    "# woh positional hokar apny parameter sy mil jayengy lekin do ky ilawa 3, 4 ,5 jini values\n",
    "# user supply karega call karty waqt woh sary optional parameter main chaly jaengy\n",
    "\n",
    "# sath * or ** use karty hain\n",
    "# * means tuple main data show hoga\n",
    "# ** means dictionary main data show hoga\n",
    "\n",
    "# arbitrary bhu hamesha last main ayega"
   ]
  },
  {
   "cell_type": "code",
   "execution_count": 83,
   "metadata": {},
   "outputs": [],
   "source": [
    "def pizzaOrder(size, flavour, *toppings): # deals with arbitrary argument\n",
    "    print(f\"your order for pizza of size {size}, and flavour {flavour} and toppings {toppings} is ready\")\n",
    "\n",
    "# Here we see parameter with (*), this parameter deal with arbitrary number"
   ]
  },
  {
   "cell_type": "code",
   "execution_count": 77,
   "metadata": {},
   "outputs": [
    {
     "name": "stdout",
     "output_type": "stream",
     "text": [
      "your order for pizza of size 12, and flavour chicken tikka and toppings ('olives', 'fruits', 'abc', 'xyz') is ready\n"
     ]
    }
   ],
   "source": [
    "pizzaOrder(12, \"chicken tikka\", \"olives\",\"fruits\",\"abc\",\"xyz\")"
   ]
  },
  {
   "cell_type": "code",
   "execution_count": 79,
   "metadata": {},
   "outputs": [],
   "source": [
    "# another example"
   ]
  },
  {
   "cell_type": "code",
   "execution_count": 80,
   "metadata": {},
   "outputs": [],
   "source": [
    "def display_result(winner, score, **other_info):\n",
    "    print(\"The winner was \"+winner)\n",
    "    print(\"The score was \"+str(score))\n",
    "    for key, value in other_info.items():\n",
    "        print(key + \": \"+value)"
   ]
  },
  {
   "cell_type": "code",
   "execution_count": 81,
   "metadata": {},
   "outputs": [
    {
     "name": "stdout",
     "output_type": "stream",
     "text": [
      "The winner was ali\n",
      "The score was 2\n",
      "overtime: yes\n",
      "injuries: none\n"
     ]
    }
   ],
   "source": [
    "display_result(winner=\"ali\", score=2, overtime=\"yes\", injuries=\"none\")"
   ]
  },
  {
   "cell_type": "markdown",
   "metadata": {},
   "source": [
    "### Chapter 47 : Passing information back from them"
   ]
  },
  {
   "cell_type": "code",
   "execution_count": 85,
   "metadata": {},
   "outputs": [],
   "source": [
    "# functions not only perform a given task when they are called. But a function may also\n",
    "# return some value to user. The returned value can be assigned , reused and modified then.\n"
   ]
  },
  {
   "cell_type": "code",
   "execution_count": 94,
   "metadata": {},
   "outputs": [],
   "source": [
    "def add(num_1, num_2):\n",
    "    ans = num_1 + num_2\n",
    "    \n",
    "    return ans"
   ]
  },
  {
   "cell_type": "code",
   "execution_count": 95,
   "metadata": {},
   "outputs": [
    {
     "name": "stdout",
     "output_type": "stream",
     "text": [
      "3\n"
     ]
    }
   ],
   "source": [
    "return_value = add(1,2)\n",
    "print(return_value)"
   ]
  },
  {
   "cell_type": "code",
   "execution_count": 98,
   "metadata": {},
   "outputs": [],
   "source": [
    "def add(num_1, num_2):\n",
    "    return num_1 + num_2"
   ]
  },
  {
   "cell_type": "code",
   "execution_count": 99,
   "metadata": {},
   "outputs": [
    {
     "name": "stdout",
     "output_type": "stream",
     "text": [
      "12\n"
     ]
    }
   ],
   "source": [
    "return_value = add(2,10)\n",
    "print(return_value)"
   ]
  },
  {
   "cell_type": "code",
   "execution_count": 100,
   "metadata": {},
   "outputs": [
    {
     "name": "stdout",
     "output_type": "stream",
     "text": [
      "15\n"
     ]
    }
   ],
   "source": [
    "print(add(12,3))"
   ]
  },
  {
   "cell_type": "code",
   "execution_count": 103,
   "metadata": {},
   "outputs": [],
   "source": [
    "# ek sy ziyada value return karwa sakty hain or woh tuple ki sourat main return hoga\n",
    "def add(num_1, num_2):\n",
    "    return num_1 + num_2, \"Hello python\""
   ]
  },
  {
   "cell_type": "code",
   "execution_count": 102,
   "metadata": {},
   "outputs": [
    {
     "name": "stdout",
     "output_type": "stream",
     "text": [
      "(14, 'Hello python')\n"
     ]
    }
   ],
   "source": [
    "print(add(12,2))"
   ]
  },
  {
   "cell_type": "code",
   "execution_count": 106,
   "metadata": {},
   "outputs": [],
   "source": [
    "# return ky baad agar koi statement execute karwaty hain tu woh execute nahi hoga\n",
    "# return must be the last line of the execution of the funtion\n",
    "def add(num_1, num_2):\n",
    "    return num_1 + num_2, \"Hello python\"\n",
    "    print(\"after return\")"
   ]
  },
  {
   "cell_type": "code",
   "execution_count": 105,
   "metadata": {},
   "outputs": [
    {
     "name": "stdout",
     "output_type": "stream",
     "text": [
      "(5, 'Hello python')\n"
     ]
    }
   ],
   "source": [
    "print(add(1,4))"
   ]
  },
  {
   "cell_type": "markdown",
   "metadata": {},
   "source": [
    "### Chapter 48 : Using function as variables (which is what they really are)"
   ]
  },
  {
   "cell_type": "code",
   "execution_count": 107,
   "metadata": {},
   "outputs": [],
   "source": [
    "# functions can be used as variables. This is one by using the function call in our expressions"
   ]
  },
  {
   "cell_type": "code",
   "execution_count": 109,
   "metadata": {},
   "outputs": [
    {
     "name": "stdout",
     "output_type": "stream",
     "text": [
      "4\n"
     ]
    }
   ],
   "source": [
    "def add_numbers(num_1, num_2):\n",
    "    return num_1 + num_2\n",
    "\n",
    "\n",
    "def subtract_numbers(num_1, num_2):\n",
    "    return num_1 - num_2\n",
    "\n",
    "result = add_numbers(2,3) + subtract_numbers(2,3)\n",
    "print(result)"
   ]
  },
  {
   "cell_type": "markdown",
   "metadata": {},
   "source": [
    "### Chapter 49 : Local vs Global Variables"
   ]
  },
  {
   "cell_type": "code",
   "execution_count": 110,
   "metadata": {},
   "outputs": [],
   "source": [
    "# Local variables are the variable defined inside the functions. There scope is only inside\n",
    "# the function. They are not accessible outside the funcion\n",
    "\n",
    "# Global variable are the variables defined outside the function and can be accessed and \n",
    "# modified in and outside the function"
   ]
  },
  {
   "cell_type": "code",
   "execution_count": 113,
   "metadata": {},
   "outputs": [],
   "source": [
    "def beHappy():\n",
    "    name = \"mr.A\"    # local variable\n",
    "    print(f\"{name} is very happy today.\")"
   ]
  },
  {
   "cell_type": "code",
   "execution_count": 114,
   "metadata": {},
   "outputs": [
    {
     "name": "stdout",
     "output_type": "stream",
     "text": [
      "mr.A is very happy today.\n"
     ]
    }
   ],
   "source": [
    "beHappy()"
   ]
  },
  {
   "cell_type": "code",
   "execution_count": null,
   "metadata": {},
   "outputs": [],
   "source": [
    "print(name) # -- Error "
   ]
  },
  {
   "cell_type": "code",
   "execution_count": 118,
   "metadata": {},
   "outputs": [],
   "source": [
    "another_Name = \"mr.B\" # --- Global Variable\n",
    "\n",
    "def sad():\n",
    "    print(f\"{another_Name} is very sad today.\")"
   ]
  },
  {
   "cell_type": "code",
   "execution_count": 116,
   "metadata": {},
   "outputs": [
    {
     "name": "stdout",
     "output_type": "stream",
     "text": [
      "mr.B is very sad today.\n"
     ]
    }
   ],
   "source": [
    "sad()"
   ]
  },
  {
   "cell_type": "code",
   "execution_count": 117,
   "metadata": {},
   "outputs": [
    {
     "name": "stdout",
     "output_type": "stream",
     "text": [
      "mr.B\n"
     ]
    }
   ],
   "source": [
    "print(another_Name)"
   ]
  },
  {
   "cell_type": "markdown",
   "metadata": {},
   "source": [
    "### Chapter 50 : Functions within functions"
   ]
  },
  {
   "cell_type": "code",
   "execution_count": 124,
   "metadata": {},
   "outputs": [],
   "source": [
    "# Within a function, you can call other functions.\n",
    "# Right now we have leaned how to call function. We can call a function inside another \n",
    "# function providing the requied signature of the function."
   ]
  },
  {
   "cell_type": "code",
   "execution_count": 129,
   "metadata": {},
   "outputs": [],
   "source": [
    "def commissionCalc(sales):\n",
    "    if sales > 100:\n",
    "        return sales * 100\n",
    "    elif sales > 50:\n",
    "        return sales * 50\n",
    "    elif sales > 20: \n",
    "        return sales * 20\n",
    "    else:\n",
    "        return 0\n",
    "\n",
    "def salary_calculator(basic, sales):\n",
    "    gross_salary = basic + commissionCalc(sales)\n",
    "    print(f\"your gross salary is {gross_salary}\")"
   ]
  },
  {
   "cell_type": "code",
   "execution_count": 130,
   "metadata": {},
   "outputs": [
    {
     "name": "stdout",
     "output_type": "stream",
     "text": [
      "your gross salary is 8000\n"
     ]
    }
   ],
   "source": [
    "salary_calculator(5000, 60)"
   ]
  },
  {
   "cell_type": "code",
   "execution_count": 131,
   "metadata": {},
   "outputs": [],
   "source": [
    "# another example"
   ]
  },
  {
   "cell_type": "code",
   "execution_count": 132,
   "metadata": {},
   "outputs": [],
   "source": [
    "def say_something():\n",
    "    what_to_say = \"Hi\"\n",
    "    now_say_it(what_to_say)\n",
    "\n",
    "def now_say_it(content):\n",
    "    print(content)\n",
    "    "
   ]
  },
  {
   "cell_type": "code",
   "execution_count": 133,
   "metadata": {},
   "outputs": [
    {
     "name": "stdout",
     "output_type": "stream",
     "text": [
      "Hi\n"
     ]
    }
   ],
   "source": [
    "say_something()"
   ]
  },
  {
   "cell_type": "markdown",
   "metadata": {},
   "source": [
    "### Chapter 51 : While loops"
   ]
  },
  {
   "cell_type": "code",
   "execution_count": 134,
   "metadata": {},
   "outputs": [],
   "source": [
    "# They work similar to for loops. But differ in the sense that it allows user to terminate \n",
    "# loop by seeting flags.\n",
    "\n",
    "# for loop vs while loop\n",
    "# for loop main hamain pata hota hai ky loop kaha tak chaly ga \n",
    "# jab k while loop main humy yeh nhi pata ky loop kaha tak chalay ga hum loop ka control \n",
    "# user ky hath main dy dyty hain\n"
   ]
  },
  {
   "cell_type": "code",
   "execution_count": 136,
   "metadata": {},
   "outputs": [
    {
     "name": "stdout",
     "output_type": "stream",
     "text": [
      "0 This is while loop printing\n",
      "1 This is while loop printing\n",
      "2 This is while loop printing\n",
      "3 This is while loop printing\n",
      "4 This is while loop printing\n",
      "5 This is while loop printing\n",
      "6 This is while loop printing\n",
      "7 This is while loop printing\n",
      "8 This is while loop printing\n",
      "9 This is while loop printing\n"
     ]
    }
   ],
   "source": [
    "a = 0\n",
    "while a < 10:\n",
    "    print(a,\"This is while loop printing\")\n",
    "    a += 1"
   ]
  },
  {
   "cell_type": "code",
   "execution_count": 138,
   "metadata": {},
   "outputs": [
    {
     "name": "stdout",
     "output_type": "stream",
     "text": [
      "0 This is for loop printing\n",
      "1 This is for loop printing\n",
      "2 This is for loop printing\n",
      "3 This is for loop printing\n",
      "4 This is for loop printing\n",
      "5 This is for loop printing\n",
      "6 This is for loop printing\n",
      "7 This is for loop printing\n",
      "8 This is for loop printing\n",
      "9 This is for loop printing\n"
     ]
    }
   ],
   "source": [
    "for number in range(10):\n",
    "    print(number,\"This is for loop printing\")"
   ]
  },
  {
   "cell_type": "code",
   "execution_count": 139,
   "metadata": {},
   "outputs": [
    {
     "name": "stdout",
     "output_type": "stream",
     "text": [
      "Enter your favourite foods: biryani\n",
      "Enter your favourite foods: chicken tikaa\n",
      "Enter your favourite foods: \n",
      "Enter your favourite foods: \n",
      "Enter your favourite foods: \n",
      "Enter your favourite foods: \n",
      "Enter your favourite foods: \n",
      "Enter your favourite foods: \n",
      "Enter your favourite foods: \n",
      "Enter your favourite foods: \n"
     ]
    }
   ],
   "source": [
    "a = 0\n",
    "while a < 10:\n",
    "    user_input = input(\"Enter your favourite foods: \")\n",
    "    a += 1"
   ]
  },
  {
   "cell_type": "code",
   "execution_count": 141,
   "metadata": {},
   "outputs": [
    {
     "name": "stdout",
     "output_type": "stream",
     "text": [
      "Enter your favourite foods: biryani\n",
      "Enter your favourite foods: chicken tikka\n",
      "Enter your favourite foods: q\n"
     ]
    },
    {
     "data": {
      "text/plain": [
       "['biryani', 'chicken tikka']"
      ]
     },
     "execution_count": 141,
     "metadata": {},
     "output_type": "execute_result"
    }
   ],
   "source": [
    "user_input = \"\"\n",
    "fav_foods = []\n",
    "\n",
    "while user_input != \"q\":\n",
    "    user_input = input(\"Enter your favourite foods: \")\n",
    "    \n",
    "    if user_input == \"q\":\n",
    "        break\n",
    "    else:\n",
    "        fav_foods.append(user_input)\n",
    "        \n",
    "fav_foods"
   ]
  },
  {
   "cell_type": "code",
   "execution_count": 142,
   "metadata": {},
   "outputs": [
    {
     "name": "stdout",
     "output_type": "stream",
     "text": [
      "Enter a city , or q to quit: lahore\n",
      "lahore is the cleanest city\n",
      "Enter a city , or q to quit: is\n",
      "Enter a city , or q to quit: q\n"
     ]
    }
   ],
   "source": [
    "cleanest_cities = [\"karachi\", \"lahore\", \"islamabad\", \"quetta\"]\n",
    "user_input = \"\"\n",
    "\n",
    "while user_input != \"q\":\n",
    "    user_input = input(\"Enter a city , or q to quit: \")\n",
    "       if user_input != \"q\":\n",
    "        for a_clean_city in cleanest_cities:\n",
    "            if user_input == a_clean_city:\n",
    "                print(f\"{a_clean_city} is the cleanest city\")\n",
    "                break"
   ]
  },
  {
   "cell_type": "markdown",
   "metadata": {},
   "source": [
    "### Chapter 52 : While loops Setting a flag"
   ]
  },
  {
   "cell_type": "code",
   "execution_count": 143,
   "metadata": {},
   "outputs": [
    {
     "name": "stdout",
     "output_type": "stream",
     "text": [
      "Enter a city , or q to quit: karachi\n",
      "karachi is the cleanest city\n",
      "Enter a city , or q to quit: q\n"
     ]
    }
   ],
   "source": [
    "flag = True\n",
    "\n",
    "while flag == True:\n",
    "    user_input = input(\"Enter a city , or q to quit: \")\n",
    "    \n",
    "    if user_input != \"q\":\n",
    "        for a_clean_city in cleanest_cities:\n",
    "            if user_input == a_clean_city:\n",
    "                print(f\"{a_clean_city} is the cleanest city\")\n",
    "                break\n",
    "    else:\n",
    "        flag = False"
   ]
  },
  {
   "cell_type": "code",
   "execution_count": 144,
   "metadata": {},
   "outputs": [],
   "source": [
    "# another example"
   ]
  },
  {
   "cell_type": "code",
   "execution_count": 145,
   "metadata": {},
   "outputs": [
    {
     "name": "stdout",
     "output_type": "stream",
     "text": [
      "Enter your favourite foods: chicken tikka\n",
      "Enter your favourite foods: biryani\n",
      "Enter your favourite foods: daal\n",
      "Enter your favourite foods: q\n"
     ]
    },
    {
     "data": {
      "text/plain": [
       "['chicken tikka', 'biryani', 'daal']"
      ]
     },
     "execution_count": 145,
     "metadata": {},
     "output_type": "execute_result"
    }
   ],
   "source": [
    "flag = True\n",
    "fav_foods = []\n",
    "\n",
    "while flag:\n",
    "    user_input = input(\"Enter your favourite foods: \")\n",
    "    \n",
    "    if user_input == \"q\":\n",
    "        flag = False\n",
    "    else:\n",
    "        fav_foods.append(user_input)\n",
    "        \n",
    "fav_foods"
   ]
  },
  {
   "cell_type": "markdown",
   "metadata": {},
   "source": [
    "### Chapter : 53 - 61 Classes"
   ]
  },
  {
   "cell_type": "code",
   "execution_count": 8,
   "metadata": {},
   "outputs": [],
   "source": [
    "# Python is an \"object-oriented programming language\". This means that\n",
    "# almost all the code is implemented using a special construct called \n",
    "# classes.\n",
    "\n",
    "\n",
    "# Programmers use classes to keep related things together. This is done\n",
    "# using the keyword \"class\", which is a grouping of "
   ]
  },
  {
   "cell_type": "code",
   "execution_count": 24,
   "metadata": {},
   "outputs": [],
   "source": [
    "# What is a class?\n",
    "\n",
    "# A Class is a model\n",
    "\n",
    "# A Class is a blueprint(map) of anything\n",
    "\n",
    "# A Class is template\n",
    "\n",
    "# A Class may also br defined as something that can be followed to\n",
    "# create objecs and instances\n"
   ]
  },
  {
   "cell_type": "code",
   "execution_count": 25,
   "metadata": {},
   "outputs": [],
   "source": [
    "# Objects are instances of classes"
   ]
  },
  {
   "cell_type": "code",
   "execution_count": 26,
   "metadata": {},
   "outputs": [],
   "source": [
    "# Writing a Class\n",
    "\n",
    "# Python use a keyword \"class\" to define a class\n",
    "\n",
    "# Class Car():\n",
    "    # body of class Car"
   ]
  },
  {
   "cell_type": "code",
   "execution_count": 27,
   "metadata": {},
   "outputs": [],
   "source": [
    "# What actually class hold?\n",
    "\n",
    "# A class may hold attributes(variables)\n",
    "\n",
    "# A class may hold behaviours(functions)\n",
    "\n",
    "# Example:\n",
    "\n",
    "# A car's color, model, and seating capacity are attributes of car\n",
    "\n",
    "# A car run, stop , speed_up, speed_down are behaviours of car"
   ]
  },
  {
   "cell_type": "code",
   "execution_count": 29,
   "metadata": {},
   "outputs": [],
   "source": [
    "# Classes: Creating instance\n",
    "\n",
    "# Almost everything in python is an object, with its properties and\n",
    "# methods.\n",
    "\n",
    "# Objects are made following its class means if an objects belongs\n",
    "# to a class it must have been following the requirements set by\n",
    "# the class\n",
    "\n",
    "\n",
    "# Example:\n",
    "\n",
    "# class Car():\n",
    "    # define a class body\n",
    "        # attributes and behaviours\n",
    "        \n",
    "\n",
    "# creating objects/instance of Car class\n",
    "\n",
    "# car1 = Car()\n",
    "# car2 = Car()\n"
   ]
  },
  {
   "cell_type": "code",
   "execution_count": 30,
   "metadata": {},
   "outputs": [],
   "source": [
    "# A complete example on class and objects"
   ]
  },
  {
   "cell_type": "code",
   "execution_count": 62,
   "metadata": {},
   "outputs": [],
   "source": [
    "# define a class\n",
    "\n",
    "class Car():\n",
    "    # attributes >>> are variables in programming\n",
    "    def __init__(self, make, model, year):\n",
    "        self.make = make\n",
    "        self.model = model\n",
    "        self.year = year\n",
    "        self.battery = \"200amp\"  # default attribute\n",
    "        \n",
    "    # behaviours >>> are functions in programming\n",
    "    def descriptionCar(self):\n",
    "        print(f\"The make of car is {self.make}\")\n",
    "        print(f\"The model of car is {self.model}\")\n",
    "        print(f\"The year of car is {self.year}\")\n",
    "    \n",
    "    def move(self):\n",
    "        print(f\"{self.make} is moving with speed.\")\n",
    "    \n",
    "    def applyingBreak(self):\n",
    "        print(f\"{self.model} has applied the break.\")\n",
    "        \n",
    "    def describeBattery(self):\n",
    "        print(f\"The battery of car is {self.battery}\")\n",
    "    def setBatterySize(self, newSize):\n",
    "        self.battery = newSize\n",
    "    def getBatterySize(self):\n",
    "        print(f\"The size of your car's battery is {self.battery}\")"
   ]
  },
  {
   "cell_type": "code",
   "execution_count": 63,
   "metadata": {},
   "outputs": [],
   "source": [
    "# Creating object/instance of class\n",
    "\n",
    "car1 = Car(\"Honda\", \"Civic\", 2019)"
   ]
  },
  {
   "cell_type": "code",
   "execution_count": 64,
   "metadata": {},
   "outputs": [],
   "source": [
    "car2 = Car(\"Suzuki\", \"Cultus\", 2015)"
   ]
  },
  {
   "cell_type": "code",
   "execution_count": 65,
   "metadata": {},
   "outputs": [
    {
     "data": {
      "text/plain": [
       "'Honda'"
      ]
     },
     "execution_count": 65,
     "metadata": {},
     "output_type": "execute_result"
    }
   ],
   "source": [
    "car1.make"
   ]
  },
  {
   "cell_type": "code",
   "execution_count": 66,
   "metadata": {},
   "outputs": [
    {
     "name": "stdout",
     "output_type": "stream",
     "text": [
      "Civic has applied the break.\n"
     ]
    }
   ],
   "source": [
    "car1.applyingBreak()"
   ]
  },
  {
   "cell_type": "code",
   "execution_count": 67,
   "metadata": {},
   "outputs": [
    {
     "data": {
      "text/plain": [
       "'Suzuki'"
      ]
     },
     "execution_count": 67,
     "metadata": {},
     "output_type": "execute_result"
    }
   ],
   "source": [
    "car2.make"
   ]
  },
  {
   "cell_type": "code",
   "execution_count": 68,
   "metadata": {},
   "outputs": [
    {
     "name": "stdout",
     "output_type": "stream",
     "text": [
      "The make of car is Suzuki\n",
      "The model of car is Cultus\n",
      "The year of car is 2015\n"
     ]
    }
   ],
   "source": [
    "car2.descriptionCar()"
   ]
  },
  {
   "cell_type": "code",
   "execution_count": 69,
   "metadata": {},
   "outputs": [],
   "source": [
    "# Changing an attributes value"
   ]
  },
  {
   "cell_type": "code",
   "execution_count": 70,
   "metadata": {},
   "outputs": [
    {
     "data": {
      "text/plain": [
       "'Honda'"
      ]
     },
     "execution_count": 70,
     "metadata": {},
     "output_type": "execute_result"
    }
   ],
   "source": [
    "car1.make"
   ]
  },
  {
   "cell_type": "code",
   "execution_count": 71,
   "metadata": {},
   "outputs": [],
   "source": [
    "car1.make = \"Yamaha\""
   ]
  },
  {
   "cell_type": "code",
   "execution_count": 72,
   "metadata": {},
   "outputs": [
    {
     "data": {
      "text/plain": [
       "'Yamaha'"
      ]
     },
     "execution_count": 72,
     "metadata": {},
     "output_type": "execute_result"
    }
   ],
   "source": [
    "car1.make"
   ]
  },
  {
   "cell_type": "code",
   "execution_count": 73,
   "metadata": {},
   "outputs": [
    {
     "data": {
      "text/plain": [
       "'200amp'"
      ]
     },
     "execution_count": 73,
     "metadata": {},
     "output_type": "execute_result"
    }
   ],
   "source": [
    "car1.battery"
   ]
  },
  {
   "cell_type": "code",
   "execution_count": 74,
   "metadata": {},
   "outputs": [
    {
     "data": {
      "text/plain": [
       "'200amp'"
      ]
     },
     "execution_count": 74,
     "metadata": {},
     "output_type": "execute_result"
    }
   ],
   "source": [
    "car2.battery"
   ]
  },
  {
   "cell_type": "code",
   "execution_count": 75,
   "metadata": {},
   "outputs": [],
   "source": [
    "car1.battery = \"300amp\""
   ]
  },
  {
   "cell_type": "code",
   "execution_count": 59,
   "metadata": {},
   "outputs": [
    {
     "data": {
      "text/plain": [
       "'300amp'"
      ]
     },
     "execution_count": 59,
     "metadata": {},
     "output_type": "execute_result"
    }
   ],
   "source": [
    "car1.battery"
   ]
  },
  {
   "cell_type": "code",
   "execution_count": 60,
   "metadata": {},
   "outputs": [
    {
     "data": {
      "text/plain": [
       "'200amp'"
      ]
     },
     "execution_count": 60,
     "metadata": {},
     "output_type": "execute_result"
    }
   ],
   "source": [
    "car2.battery"
   ]
  },
  {
   "cell_type": "code",
   "execution_count": 76,
   "metadata": {},
   "outputs": [
    {
     "name": "stdout",
     "output_type": "stream",
     "text": [
      "The size of your car's battery is 300amp\n"
     ]
    }
   ],
   "source": [
    "car1.getBatterySize()"
   ]
  },
  {
   "cell_type": "code",
   "execution_count": 77,
   "metadata": {},
   "outputs": [],
   "source": [
    "car1.setBatterySize(\"400amp\")"
   ]
  },
  {
   "cell_type": "code",
   "execution_count": 78,
   "metadata": {},
   "outputs": [
    {
     "name": "stdout",
     "output_type": "stream",
     "text": [
      "The size of your car's battery is 400amp\n"
     ]
    }
   ],
   "source": [
    "car1.getBatterySize()"
   ]
  },
  {
   "cell_type": "markdown",
   "metadata": {},
   "source": [
    "#### Pillar of OOP"
   ]
  },
  {
   "cell_type": "code",
   "execution_count": 11,
   "metadata": {},
   "outputs": [],
   "source": [
    "# Four Pillars of OOP:\n",
    "\n",
    "# 1. Inhertance (Viraasat) Parent to child transfer\n",
    "# \t(Apki ankh ap ky dada sy milti hain Apki awaz apky abba sy milti hai toh yeh cheez inherit hui \n",
    "# \t Apky Parent sy. Pardada sy Dada main Dada sy walid main phir app main.\n",
    "# \t Inheritance top to bottom - Parent sy child main)"
   ]
  },
  {
   "cell_type": "code",
   "execution_count": 2,
   "metadata": {},
   "outputs": [],
   "source": [
    "# Inheritance (Parent to child transfer)\n",
    "class Car():\n",
    "    def __init__(self, name, model, color):\n",
    "        self.name = name\n",
    "        self.model = model\n",
    "        self.color = color\n",
    "        \n",
    "    \n",
    "    def average(self, kilo):\n",
    "        print(f\"{kilo} kilometers per liter\")\n",
    "        \n",
    "    def tank(self):\n",
    "        print(\"yes\")\n",
    "        \n",
    "class Electric_car(Car):\n",
    "    def __init__(slef, name, model, color):\n",
    "        super().__init__(name, model, color)\n",
    "        \n",
    "    def tank(self):\n",
    "        print(\"No\")\n",
    "    def get_description(self):\n",
    "        print(f\"The car name is {self.name}\")\n",
    "        print(f\"The car model is {self.model}\")\n",
    "        \n",
    "car1 = Car('audi', 'A3', 'black')"
   ]
  },
  {
   "cell_type": "code",
   "execution_count": 3,
   "metadata": {},
   "outputs": [
    {
     "data": {
      "text/plain": [
       "'audi'"
      ]
     },
     "execution_count": 3,
     "metadata": {},
     "output_type": "execute_result"
    }
   ],
   "source": [
    "car1.name"
   ]
  },
  {
   "cell_type": "code",
   "execution_count": 5,
   "metadata": {},
   "outputs": [
    {
     "name": "stdout",
     "output_type": "stream",
     "text": [
      "14 kilometers per liter\n"
     ]
    }
   ],
   "source": [
    "car1.average(14)"
   ]
  },
  {
   "cell_type": "code",
   "execution_count": 6,
   "metadata": {},
   "outputs": [
    {
     "name": "stdout",
     "output_type": "stream",
     "text": [
      "yes\n"
     ]
    }
   ],
   "source": [
    "car1.tank()"
   ]
  },
  {
   "cell_type": "code",
   "execution_count": 7,
   "metadata": {},
   "outputs": [],
   "source": [
    "new_car = Electric_car(\"audi\", \"a8\", \"brown\")"
   ]
  },
  {
   "cell_type": "code",
   "execution_count": 8,
   "metadata": {},
   "outputs": [
    {
     "data": {
      "text/plain": [
       "'audi'"
      ]
     },
     "execution_count": 8,
     "metadata": {},
     "output_type": "execute_result"
    }
   ],
   "source": [
    "new_car.name"
   ]
  },
  {
   "cell_type": "code",
   "execution_count": 9,
   "metadata": {},
   "outputs": [
    {
     "data": {
      "text/plain": [
       "'a8'"
      ]
     },
     "execution_count": 9,
     "metadata": {},
     "output_type": "execute_result"
    }
   ],
   "source": [
    "new_car.model"
   ]
  },
  {
   "cell_type": "code",
   "execution_count": 10,
   "metadata": {},
   "outputs": [
    {
     "name": "stdout",
     "output_type": "stream",
     "text": [
      "The car name is audi\n",
      "The car model is a8\n"
     ]
    }
   ],
   "source": [
    "new_car.get_description()"
   ]
  },
  {
   "cell_type": "code",
   "execution_count": 12,
   "metadata": {},
   "outputs": [],
   "source": [
    "# 2. Encapsulation (Private, Public, Protected)\n",
    "# \t(Encapsulation hamary methods or attributes ko ek sath encapsulate kardeta hai. or encapsulation hum\n",
    "# \t security purpose ky liyeh bhi istimaal karty hain taky outside the world usko koi istimaal na kar saky\n",
    "# \t  sirf class ky andar use ho sakty hai lekin class ky bahar use nhi ho sakta. ismy teen cheezy hai\n",
    "# \t   public, private, or protected.)\n",
    "# \t(Apni class ky kuch methods ya attribute ko private kardena yani koi bhi banda us class ko access nahi kar sakta)"
   ]
  },
  {
   "cell_type": "code",
   "execution_count": 24,
   "metadata": {},
   "outputs": [],
   "source": [
    "# enapsulation (yeh humain security deti hai ky koi bhi isko directly change ya override na kar pay)\n",
    "\n",
    "class NewCar():\n",
    "    def __init__(self):\n",
    "        self.__maxAverage = 30\n",
    "        \n",
    "    def average(self):\n",
    "        print(f\"{self.__maxAverage} kilometers per Liter.\")\n",
    "    \n",
    "    def updateAverage(self, newAverage):\n",
    "        self.__maxAverage = newAverage\n",
    "        \n",
    "obj = NewCar()\n",
    "        "
   ]
  },
  {
   "cell_type": "code",
   "execution_count": 18,
   "metadata": {},
   "outputs": [
    {
     "name": "stdout",
     "output_type": "stream",
     "text": [
      "30 kilometers per Liter.\n"
     ]
    }
   ],
   "source": [
    "obj.average()"
   ]
  },
  {
   "cell_type": "code",
   "execution_count": 23,
   "metadata": {},
   "outputs": [],
   "source": [
    "obj.__maxAverage = 60 # this will not override previous value"
   ]
  },
  {
   "cell_type": "code",
   "execution_count": 21,
   "metadata": {},
   "outputs": [
    {
     "name": "stdout",
     "output_type": "stream",
     "text": [
      "30 kilometers per Liter.\n"
     ]
    }
   ],
   "source": [
    "obj.average()"
   ]
  },
  {
   "cell_type": "code",
   "execution_count": 25,
   "metadata": {},
   "outputs": [],
   "source": [
    "obj.updateAverage(60)"
   ]
  },
  {
   "cell_type": "code",
   "execution_count": 26,
   "metadata": {},
   "outputs": [
    {
     "name": "stdout",
     "output_type": "stream",
     "text": [
      "60 kilometers per Liter.\n"
     ]
    }
   ],
   "source": [
    "obj.average()"
   ]
  },
  {
   "cell_type": "code",
   "execution_count": 27,
   "metadata": {},
   "outputs": [],
   "source": [
    "# 4. Polymorphisim (Ek sy ziyada) (Poly means many morphisms mean form)\n",
    "# \t(Aisa koi bhi Operator aisa koi bhi method jo aik sy ziyada kaam perform kary tu usy hum kahty hain\n",
    "# \tpolymorphism)\n",
    "# \t(Example ' + ' Ka Operator Agar main String ky sath lagata hoon toh Concatenation Agar main \n",
    "# \t Integer ky sath lagata hoon Addition Agar do List ky darmiyan + ka operator lagyen toh  woh\n",
    "# \t do list ko apas main extend kar dy ta hai)"
   ]
  },
  {
   "cell_type": "code",
   "execution_count": 60,
   "metadata": {},
   "outputs": [],
   "source": [
    "# polymorphism\n",
    "\n",
    "class Pakistan():\n",
    "    def detail(self):\n",
    "        print(\"The capital of pakistan is islamabad.\")\n",
    "    \n",
    "class USA():\n",
    "    def detail(self):\n",
    "        print(\"The capital of usa is washington.\")\n",
    "        \n",
    "def descriptionCountry(country):\n",
    "    country.detail()\n",
    "    "
   ]
  },
  {
   "cell_type": "code",
   "execution_count": 61,
   "metadata": {},
   "outputs": [],
   "source": [
    "pak = Pakistan()\n",
    "usa = USA()"
   ]
  },
  {
   "cell_type": "code",
   "execution_count": 63,
   "metadata": {},
   "outputs": [
    {
     "name": "stdout",
     "output_type": "stream",
     "text": [
      "The capital of pakistan is islamabad.\n",
      "The capital of usa is washington.\n"
     ]
    }
   ],
   "source": [
    "descriptionCountry(pak)\n",
    "descriptionCountry(usa)"
   ]
  },
  {
   "cell_type": "code",
   "execution_count": 65,
   "metadata": {},
   "outputs": [
    {
     "name": "stdout",
     "output_type": "stream",
     "text": [
      "4\n"
     ]
    }
   ],
   "source": [
    "# Method overloading\n",
    "class OverLoadingDemo():\n",
    "    def sum(self,a,b):\n",
    "        print(a+b)\n",
    "    def sum(self,a,b,c):\n",
    "        print(a+b+c)\n",
    "        \n",
    "obj3 = OverLoadingDemo()\n",
    "\n",
    "obj3.sum(1,2,1)"
   ]
  },
  {
   "cell_type": "code",
   "execution_count": 66,
   "metadata": {},
   "outputs": [],
   "source": [
    "# 3. Abstraction (Uncompute)\n",
    "# \t\t(Abstraction means hiding the complexity and only showing the essential features\n",
    "# \t\t So in a way, Abstraction means hiding the real implementation and we as a user\n",
    "#   \t\t knowing only how to use it.)\n",
    "\n",
    "# \t\t(Aisi koi bhi class jiska directly instance ya object na ban sakty toh woh kelati hain abstraction)\n",
    "# \t\t(Abstract class k methods or attributes ko access karny ky liyeh child class banaty hain toh\n",
    "# \t\t Inheritance ky baad isko access kar sakty hain)"
   ]
  },
  {
   "cell_type": "markdown",
   "metadata": {},
   "source": [
    "## Chapter 62 - 65 : Data Files"
   ]
  },
  {
   "cell_type": "code",
   "execution_count": 1,
   "metadata": {},
   "outputs": [],
   "source": [
    "# In all the coding so far in the book, none of the data has been preserved. We created variables, lists,\n",
    "# dictionaries and class instances that contained information, but as soons as the computer was turned of,\n",
    "# all of its disappeared.\n",
    "\n",
    "# we know how to save a word processing document or spreadsheet but how do we saved data processed by python?"
   ]
  },
  {
   "cell_type": "code",
   "execution_count": 29,
   "metadata": {},
   "outputs": [],
   "source": [
    "# we can write text file by using a python fucntion:\n",
    "\n",
    "# with open(\"file_name\", \"mode\")\n",
    "\n",
    "# with tell the python to close the file after we write it.\n",
    "# there are three modes:\n",
    "\n",
    "# 1.read\n",
    "# 2.write\n",
    "# 3.append"
   ]
  },
  {
   "cell_type": "code",
   "execution_count": 30,
   "metadata": {},
   "outputs": [],
   "source": [
    "# Note:\n",
    "\n",
    "# if file does not exist, \"w\" mode will create and write in it.\n",
    "\n",
    "# if file does not exist, \"r\" mode will throw file not found error.\n",
    "\n",
    "# \"w\" mode if we write in same file all previous work will be overwrite. but append allow to write further\n",
    "\n",
    "# The read-file mode is the default for the open statement, so if you're opening a file to read data, you can,\n",
    "# if you like, skip the \"r\" and just write..."
   ]
  },
  {
   "cell_type": "code",
   "execution_count": 8,
   "metadata": {},
   "outputs": [],
   "source": [
    "# r+, w+ modes\n",
    "\n",
    "# r+ mode allow read and write both in files  -- (agar file maujood nhi hui tu error ayega file not found r or r+ dono main)\n",
    "\n",
    "# w+ mode allows read and write both in files -- (ismy agar file maujood nhi hui tu khud hi create kar dega)"
   ]
  },
  {
   "cell_type": "code",
   "execution_count": 9,
   "metadata": {},
   "outputs": [
    {
     "name": "stdout",
     "output_type": "stream",
     "text": [
      "this is a test file. We will read the file from python code.\n"
     ]
    }
   ],
   "source": [
    "with open(\"testingDataFile.txt\", \"r\") as file:\n",
    "    content = file.read()\n",
    "    \n",
    "print(content)"
   ]
  },
  {
   "cell_type": "code",
   "execution_count": 11,
   "metadata": {},
   "outputs": [],
   "source": [
    "with open(\"testingDataFile.txt\", \"w\") as file:\n",
    "    file.write(\"Hello Data file.\")"
   ]
  },
  {
   "cell_type": "code",
   "execution_count": 13,
   "metadata": {},
   "outputs": [],
   "source": [
    "with open(\"testingDataFile.txt\", \"w\") as file:\n",
    "    file.write(\"This is testing\")"
   ]
  },
  {
   "cell_type": "code",
   "execution_count": 14,
   "metadata": {},
   "outputs": [
    {
     "name": "stdout",
     "output_type": "stream",
     "text": [
      "This is testing\n"
     ]
    }
   ],
   "source": [
    "with open(\"testingDataFile.txt\", \"r\") as file:\n",
    "    content = file.read()\n",
    "    \n",
    "print(content)"
   ]
  },
  {
   "cell_type": "code",
   "execution_count": 17,
   "metadata": {},
   "outputs": [
    {
     "ename": "FileNotFoundError",
     "evalue": "[Errno 2] No such file or directory: 'noExistingFile.txtr'",
     "output_type": "error",
     "traceback": [
      "\u001b[0;31m---------------------------------------------------------------------------\u001b[0m",
      "\u001b[0;31mFileNotFoundError\u001b[0m                         Traceback (most recent call last)",
      "\u001b[0;32m<ipython-input-17-726ec92773f3>\u001b[0m in \u001b[0;36m<module>\u001b[0;34m\u001b[0m\n\u001b[0;32m----> 1\u001b[0;31m \u001b[0;32mwith\u001b[0m \u001b[0mopen\u001b[0m\u001b[0;34m(\u001b[0m\u001b[0;34m\"noExistingFile.txt\"\u001b[0m \u001b[0;34m\"r\"\u001b[0m\u001b[0;34m)\u001b[0m \u001b[0;32mas\u001b[0m \u001b[0mfile\u001b[0m\u001b[0;34m:\u001b[0m\u001b[0;34m\u001b[0m\u001b[0;34m\u001b[0m\u001b[0m\n\u001b[0m\u001b[1;32m      2\u001b[0m     \u001b[0mfile\u001b[0m\u001b[0;34m.\u001b[0m\u001b[0mread\u001b[0m\u001b[0;34m(\u001b[0m\u001b[0;34m)\u001b[0m\u001b[0;34m\u001b[0m\u001b[0;34m\u001b[0m\u001b[0m\n\u001b[1;32m      3\u001b[0m \u001b[0;34m\u001b[0m\u001b[0m\n",
      "\u001b[0;31mFileNotFoundError\u001b[0m: [Errno 2] No such file or directory: 'noExistingFile.txtr'"
     ]
    }
   ],
   "source": [
    "# if file does not exis r model will through error file not found.\n",
    "with open(\"noExistingFile.txt\" \"r\") as file:\n",
    "    file.read()\n",
    "    "
   ]
  },
  {
   "cell_type": "code",
   "execution_count": 23,
   "metadata": {},
   "outputs": [],
   "source": [
    "# if file does not exist w mode will create and writing it.\n",
    "with open(\"ExistingFile.txt\", \"w\") as file:\n",
    "    file.write(\"This file doesnt exist\")"
   ]
  },
  {
   "cell_type": "code",
   "execution_count": 24,
   "metadata": {},
   "outputs": [],
   "source": [
    "with open(\"ExistingFile.txt\", \"a\") as file:\n",
    "    file.write(\"\\nTHis text is written in append mode.\")"
   ]
  },
  {
   "cell_type": "markdown",
   "metadata": {},
   "source": [
    "### r+ and w+ mode\n",
    "\n",
    "#### Both are same (lekin r+ main agar file maujood nhi hui tu FileNotFound ka error ayega jab w+ main aisa nhi hai woh file create kar dega agar file maujood nhi hui tu baki dono ka kaam same hain)"
   ]
  },
  {
   "cell_type": "code",
   "execution_count": 27,
   "metadata": {},
   "outputs": [
    {
     "name": "stdout",
     "output_type": "stream",
     "text": [
      "this file does not exist\n"
     ]
    }
   ],
   "source": [
    "with open(\"myNewFile.txt\", \"w+\") as file:\n",
    "    file.write(\"this file does not exist\")\n",
    "    file.seek(0) # 0 index par jayega or wahan sy wapas read karna start karega\n",
    "    print(file.read())"
   ]
  },
  {
   "cell_type": "code",
   "execution_count": 28,
   "metadata": {},
   "outputs": [
    {
     "name": "stdout",
     "output_type": "stream",
     "text": [
      "this file does not existthis file does not existthis file does not exist\n"
     ]
    }
   ],
   "source": [
    "with open(\"myNewFile.txt\", \"r+\") as file:\n",
    "    file.write(\"this file does not exist\")\n",
    "    file.write(\"this file does not exist\")\n",
    "    file.write(\"this file does not exist\")\n",
    "    file.seek(0)\n",
    "    print(file.read())"
   ]
  },
  {
   "cell_type": "markdown",
   "metadata": {},
   "source": [
    "### Chapter 66 : Modules"
   ]
  },
  {
   "cell_type": "code",
   "execution_count": 32,
   "metadata": {},
   "outputs": [],
   "source": [
    "# In the chapter dealing with functions, we learned how to define a function and how to call it.\n",
    "# The function definitions were in the same python file as the function calls. That is, they were\n",
    "# in your main python programs\n",
    "\n",
    "# An alternative is to store some or all functions in seperate python files. these are called modules.\n",
    "\n",
    "# Like any python file, a module has a filename extension of .py for example calculation.py\n",
    "# you can store function classes, and more in a module. Most commonly, modules are used to store functions.\n",
    "\n",
    "# what's good about modules:\n",
    "# 1. Write a function once, call it from any python programs.\n",
    "# 2. Keep your main programs shorter and simpler to read\n",
    "# 3. Use code written by other people by importing their modules"
   ]
  },
  {
   "cell_type": "code",
   "execution_count": null,
   "metadata": {},
   "outputs": [],
   "source": [
    "# %load maths.py\n",
    "# def add(num_1, num_2):\n",
    "#     return num_1 + num_2\n",
    "\n",
    "\n",
    "# def sub(num_1, num_2):\n",
    "#     return num_1 - num_2\n",
    "\n",
    "\n",
    "# def mul(num_1, num_2):\n",
    "#     return num_1 * num_2"
   ]
  },
  {
   "cell_type": "code",
   "execution_count": 34,
   "metadata": {},
   "outputs": [],
   "source": [
    "import maths as m"
   ]
  },
  {
   "cell_type": "code",
   "execution_count": 35,
   "metadata": {},
   "outputs": [
    {
     "data": {
      "text/plain": [
       "6"
      ]
     },
     "execution_count": 35,
     "metadata": {},
     "output_type": "execute_result"
    }
   ],
   "source": [
    "m.add(2,4)"
   ]
  },
  {
   "cell_type": "code",
   "execution_count": 36,
   "metadata": {},
   "outputs": [
    {
     "data": {
      "text/plain": [
       "-2"
      ]
     },
     "execution_count": 36,
     "metadata": {},
     "output_type": "execute_result"
    }
   ],
   "source": [
    "m.sub(2,4)"
   ]
  },
  {
   "cell_type": "code",
   "execution_count": 37,
   "metadata": {},
   "outputs": [
    {
     "data": {
      "text/plain": [
       "4"
      ]
     },
     "execution_count": 37,
     "metadata": {},
     "output_type": "execute_result"
    }
   ],
   "source": [
    "m.mul(2,2)"
   ]
  },
  {
   "cell_type": "markdown",
   "metadata": {},
   "source": [
    "### Chapter 67 - 73 : CSV Files"
   ]
  },
  {
   "cell_type": "code",
   "execution_count": 1,
   "metadata": {},
   "outputs": [],
   "source": [
    "# CSV files are text-only files that are simplified versions of a spreadsheet or database. \"CSV\" stands for\n",
    "# \"Comma-Sepearated Values\""
   ]
  },
  {
   "cell_type": "code",
   "execution_count": 29,
   "metadata": {},
   "outputs": [],
   "source": [
    "# THe contents of the CSV file returned by the csv.reader function aren't useable yet. you have to loop\n",
    "# through the data stored in csv.reader() line by line, adding each lne to a list\n",
    "\n",
    "# newline=\"\" is a technical requirement. at this point, there's no\n",
    "# need to understand it just remember it to include it."
   ]
  },
  {
   "cell_type": "code",
   "execution_count": 3,
   "metadata": {},
   "outputs": [],
   "source": [
    "import csv"
   ]
  },
  {
   "cell_type": "code",
   "execution_count": 6,
   "metadata": {},
   "outputs": [],
   "source": [
    "# Reading Data from csv file"
   ]
  },
  {
   "cell_type": "code",
   "execution_count": 5,
   "metadata": {},
   "outputs": [
    {
     "name": "stdout",
     "output_type": "stream",
     "text": [
      "['Year', 'Event', 'Winner']\n",
      "['1995', 'Best-kept lawn', ' None']\n",
      "['1999', 'Gobstones', 'Welch National']\n",
      "['2006', 'World Cup', ' Burkina Faso']\n"
     ]
    }
   ],
   "source": [
    "with open(\"competition.csv\") as file:\n",
    "    contents = csv.reader(file)\n",
    "    for content in contents:\n",
    "        print(content)"
   ]
  },
  {
   "cell_type": "code",
   "execution_count": 7,
   "metadata": {},
   "outputs": [],
   "source": [
    "# Writing Data from csv file"
   ]
  },
  {
   "cell_type": "code",
   "execution_count": 13,
   "metadata": {},
   "outputs": [],
   "source": [
    "with open(\"xyz.csv\",\"w\", newline=\"\") as file:\n",
    "    fileWriter = csv.writer(file)\n",
    "    fileWriter.writerow([\"Year\", \"Event\", \"Winner\"])\n",
    "    fileWriter.writerow([\"2019\", \"Cricker-World cup\", \"ENG\"])"
   ]
  },
  {
   "cell_type": "code",
   "execution_count": 14,
   "metadata": {},
   "outputs": [],
   "source": [
    "# Appending data from csv file"
   ]
  },
  {
   "cell_type": "code",
   "execution_count": 15,
   "metadata": {},
   "outputs": [],
   "source": [
    "with open(\"xyz.csv\", \"a\", newline=\"\") as file:\n",
    "    fileWriter = csv.writer(file)\n",
    "    fileWriter.writerow([\"2019\", \"CW19\", \"ENG\"])"
   ]
  },
  {
   "cell_type": "code",
   "execution_count": 17,
   "metadata": {},
   "outputs": [],
   "source": [
    "# Book Examples"
   ]
  },
  {
   "cell_type": "code",
   "execution_count": 22,
   "metadata": {},
   "outputs": [
    {
     "name": "stdout",
     "output_type": "stream",
     "text": [
      "['Year', 'Event', 'Winner', '1995', 'Best-kept lawn', ' None', '1999', 'Gobstones', 'Welch National', '2006', 'World Cup', ' Burkina Faso']\n"
     ]
    }
   ],
   "source": [
    "with open(\"competition.csv\") as f:\n",
    "    contents_of_f = csv.reader(f)\n",
    "    potter_competitions = []\n",
    "    for each_line in contents_of_f:\n",
    "        potter_competitions += each_line\n",
    "print(potter_competitions)"
   ]
  },
  {
   "cell_type": "code",
   "execution_count": 24,
   "metadata": {},
   "outputs": [
    {
     "name": "stdout",
     "output_type": "stream",
     "text": [
      "Best-kept lawn\n"
     ]
    }
   ],
   "source": [
    "# Suppose a user wants to enter the name of a competition to \n",
    "# find out the winner. We can use the list to do that.\n",
    "\n",
    "# We'll need a python method that's new to you.\n",
    "\n",
    "# you've learned how to find an element in a list by specifying\n",
    "# its index number for example, in the list named 'potter_competition'\n",
    "# if you write..\n",
    "\n",
    "print(potter_competitions[4])"
   ]
  },
  {
   "cell_type": "code",
   "execution_count": 25,
   "metadata": {},
   "outputs": [
    {
     "name": "stdout",
     "output_type": "stream",
     "text": [
      "4\n"
     ]
    }
   ],
   "source": [
    "# There's also amethod for finding the index number of an element\n",
    "# if you write..\n",
    "\n",
    "index_number_of_target = potter_competitions.index(\"Best-kept lawn\")\n",
    "print(index_number_of_target)"
   ]
  },
  {
   "cell_type": "code",
   "execution_count": 26,
   "metadata": {},
   "outputs": [],
   "source": [
    "# Let's say the user wants to know the winnder of the Best-kept lawn\n",
    "# competition\n",
    "\n",
    "# Then, knowing the winner of that competition is the next element\n",
    "# in the list, we can look it up by specifying an index number\n",
    "# that's one more than the index number of the competition -- 5\n",
    "\n",
    "# The element with an index number of 5 is None.\n",
    "# Line 1 gets the user's input and stores it in the variable named target:\n"
   ]
  },
  {
   "cell_type": "code",
   "execution_count": 28,
   "metadata": {},
   "outputs": [
    {
     "name": "stdout",
     "output_type": "stream",
     "text": [
      "Enter the name of competiton: Best-kept lawn\n",
      "The winner was  None\n"
     ]
    }
   ],
   "source": [
    "target = input(\"Enter the name of competiton: \")\n",
    "index_number_of_target = potter_competitions.index(target)\n",
    "index_number_of_winner = index_number_of_target + 1\n",
    "the_winner = potter_competitions[index_number_of_winner]\n",
    "print(\"The winner was \"+ the_winner)\n",
    "\n",
    "# if the user has entered \"Best-kept lawn\", the code finds that\n",
    "# its index number is 4, looks up the element whose index number\n",
    "# is 5 and displays...\n",
    "\n",
    "# The winner was None"
   ]
  },
  {
   "cell_type": "markdown",
   "metadata": {},
   "source": [
    "### Chapter 74 - 75 : writing python list and dict in JSON      (javascript object notation) format"
   ]
  },
  {
   "cell_type": "code",
   "execution_count": 38,
   "metadata": {},
   "outputs": [],
   "source": [
    "# writing list data to json files"
   ]
  },
  {
   "cell_type": "code",
   "execution_count": 32,
   "metadata": {},
   "outputs": [],
   "source": [
    "import json\n",
    "\n",
    "with open(\"jsonFile.json\", \"w\") as file:\n",
    "    json.dump([11,22,33,44,55], file)\n",
    "    "
   ]
  },
  {
   "cell_type": "code",
   "execution_count": 34,
   "metadata": {},
   "outputs": [
    {
     "name": "stdout",
     "output_type": "stream",
     "text": [
      "[11, 22, 33, 44, 55]\n"
     ]
    }
   ],
   "source": [
    "with open(\"jsonFile.json\", \"r\") as file:\n",
    "    content = json.load(file)\n",
    "print(content)"
   ]
  },
  {
   "cell_type": "code",
   "execution_count": 37,
   "metadata": {},
   "outputs": [],
   "source": [
    "with open(\"jsonFile.json\", \"a\") as file:\n",
    "    json.dump([66,77], file)"
   ]
  },
  {
   "cell_type": "code",
   "execution_count": 39,
   "metadata": {},
   "outputs": [],
   "source": [
    "# writing dictionary data in json files"
   ]
  },
  {
   "cell_type": "code",
   "execution_count": 43,
   "metadata": {},
   "outputs": [],
   "source": [
    "customer_29786 = {\n",
    "    \"first name\": \"amir\",\n",
    "    \"last name\": \"khan\",\n",
    "    \"address\": \"fb area\"\n",
    "}\n",
    "\n",
    "with open(\"jsonDict.json\", \"w\") as f:\n",
    "    json.dump(customer_29786, f)"
   ]
  },
  {
   "cell_type": "code",
   "execution_count": 45,
   "metadata": {},
   "outputs": [
    {
     "name": "stdout",
     "output_type": "stream",
     "text": [
      "{'first name': 'amir', 'last name': 'khan', 'address': 'fb area'}\n"
     ]
    }
   ],
   "source": [
    "with open(\"jsonDict.json\", \"r\") as f:\n",
    "    content = json.load(f)\n",
    "\n",
    "print(content)"
   ]
  },
  {
   "cell_type": "markdown",
   "metadata": {},
   "source": [
    "### Chapter 76 - 77: Exceptions"
   ]
  },
  {
   "cell_type": "code",
   "execution_count": 46,
   "metadata": {},
   "outputs": [],
   "source": [
    "# Exceptions are runtime errors.\n",
    "\n",
    "# Compile time error are syntax error."
   ]
  },
  {
   "cell_type": "code",
   "execution_count": 47,
   "metadata": {},
   "outputs": [],
   "source": [
    "# Python uses special objects called exceptons to manage errors that\n",
    "# araise during a program's exection.\n",
    "\n",
    "# Whenever an error occurs that makes python unsure what to do next, \n",
    "# it creates an exception object"
   ]
  },
  {
   "cell_type": "code",
   "execution_count": 48,
   "metadata": {},
   "outputs": [],
   "source": [
    "# Exceptions are handled with try - except blocks.\n",
    "\n",
    "# A try - except block ask python to do something, but it also\n",
    "# yells python what to do if an exception is raised \n",
    "\n",
    "# When you use try-except blocks, your programs will continue \n",
    "# running even if things start to go wrong"
   ]
  },
  {
   "cell_type": "code",
   "execution_count": 50,
   "metadata": {},
   "outputs": [
    {
     "name": "stdout",
     "output_type": "stream",
     "text": [
      "enter first number: 1\n",
      "enter second number: a\n",
      "Exception handled>> invalid literal for int() with base 10: 'a'\n"
     ]
    }
   ],
   "source": [
    "try:\n",
    "    num_1 = int(input(\"enter first number: \"))\n",
    "    num_2 = int(input(\"enter second number: \"))\n",
    "    \n",
    "    ans = num_1/num_2\n",
    "except Exception as e:\n",
    "    print(f\"Exception handled>> {(e)}\")\n",
    "else: # if no exception is generated else block will execute\n",
    "    print(ans)"
   ]
  },
  {
   "cell_type": "code",
   "execution_count": 51,
   "metadata": {},
   "outputs": [],
   "source": [
    "# finally --- (har soorat run hoga) it will always run"
   ]
  },
  {
   "cell_type": "code",
   "execution_count": 53,
   "metadata": {},
   "outputs": [
    {
     "name": "stdout",
     "output_type": "stream",
     "text": [
      "enter first number: 2\n",
      "enter second number: t\n",
      "Exception handled>> invalid literal for int() with base 10: 't'\n",
      "finally will always run\n"
     ]
    }
   ],
   "source": [
    "try:\n",
    "    num_1 = int(input(\"enter first number: \"))\n",
    "    num_2 = int(input(\"enter second number: \"))\n",
    "    \n",
    "    ans = num_1/num_2\n",
    "except Exception as e:\n",
    "    print(f\"Exception handled>> {(e)}\")\n",
    "else: # if no exception is generated else block will execute\n",
    "    print(ans)\n",
    "finally:\n",
    "\n",
    "    print(\"finally will always run\")"
   ]
  },
  {
   "cell_type": "code",
   "execution_count": 61,
   "metadata": {},
   "outputs": [],
   "source": [
    "# Book example"
   ]
  },
  {
   "cell_type": "code",
   "execution_count": 63,
   "metadata": {},
   "outputs": [
    {
     "name": "stdout",
     "output_type": "stream",
     "text": [
      "What a text file to open: b\n",
      "Sorry, b file not found.\n"
     ]
    }
   ],
   "source": [
    "try:\n",
    "    filename = input(\"What a text file to open: \")\n",
    "    with open(filename) as f:\n",
    "        print(f.read())\n",
    "except FileNotFoundError:\n",
    "    print(\"Sorry, \" + filename + \" file not found.\")"
   ]
  },
  {
   "cell_type": "code",
   "execution_count": 65,
   "metadata": {},
   "outputs": [
    {
     "name": "stdout",
     "output_type": "stream",
     "text": [
      "What text file to open: myNewFile.txt\n",
      "\n",
      "\n",
      "this file does not existthis file does not existthis file does not exist\n"
     ]
    }
   ],
   "source": [
    "while True:\n",
    "    try:\n",
    "        filename = input(\"What text file to open: \")\n",
    "        with open(filename) as f:\n",
    "            print(\"\\n\")\n",
    "            print(f.read())\n",
    "            break\n",
    "    except:\n",
    "        print(\"Sorry, \" + filename + \" file not found.\")"
   ]
  },
  {
   "cell_type": "markdown",
   "metadata": {},
   "source": [
    "### Extra topic"
   ]
  },
  {
   "cell_type": "markdown",
   "metadata": {},
   "source": [
    "### lambda function"
   ]
  },
  {
   "cell_type": "code",
   "execution_count": 1,
   "metadata": {},
   "outputs": [],
   "source": [
    "# Lambda Function: \n",
    "# Rule:\n",
    "# 1)One Line function\n",
    "# 2)Anonymous function (bina naam ka function)\n",
    "# 3)Never use before and after (na issy pehly kaheen istimaal hoa na isky baak kaheen istimaal hoga)\n",
    "\n",
    "# syntax:\n",
    "# lambda para1,para2,para3: body\n",
    "\n",
    "# for example:\n",
    "# abc = lamda x1,x2,x3: x1+x2+x3"
   ]
  },
  {
   "cell_type": "code",
   "execution_count": 2,
   "metadata": {},
   "outputs": [],
   "source": [
    "abc = lambda p1,p2,p3 : p1+p2+p3"
   ]
  },
  {
   "cell_type": "code",
   "execution_count": 3,
   "metadata": {},
   "outputs": [
    {
     "data": {
      "text/plain": [
       "6"
      ]
     },
     "execution_count": 3,
     "metadata": {},
     "output_type": "execute_result"
    }
   ],
   "source": [
    "abc(2,2,2)"
   ]
  },
  {
   "cell_type": "code",
   "execution_count": 4,
   "metadata": {},
   "outputs": [],
   "source": [
    "# sorted dictionary based on values"
   ]
  },
  {
   "cell_type": "code",
   "execution_count": 11,
   "metadata": {},
   "outputs": [],
   "source": [
    "d1 = {  \"C\": 30,\n",
    "        \"A\": 20, \n",
    "        \"B\": 15,\n",
    "        }\n",
    "# 0 means dictionary key\n",
    "# 1 means dictionary value"
   ]
  },
  {
   "cell_type": "code",
   "execution_count": 12,
   "metadata": {},
   "outputs": [
    {
     "data": {
      "text/plain": [
       "{'B': 15, 'A': 20, 'C': 30}"
      ]
     },
     "execution_count": 12,
     "metadata": {},
     "output_type": "execute_result"
    }
   ],
   "source": [
    "{k:v for k,v in sorted(d1.items(), key=lambda x:x[1])}"
   ]
  },
  {
   "cell_type": "code",
   "execution_count": 13,
   "metadata": {},
   "outputs": [
    {
     "data": {
      "text/plain": [
       "[('A', 20), ('B', 15), ('C', 30)]"
      ]
     },
     "execution_count": 13,
     "metadata": {},
     "output_type": "execute_result"
    }
   ],
   "source": [
    "# list comprehension\n",
    "\n",
    "# -- normal loop\n",
    "\n",
    "# for value in list:\n",
    "   # loopBody\n",
    "    \n",
    "# --- list comprehension\n",
    "\n",
    "# [loopBody for value in list]\n",
    "\n",
    "#{dictBody for key,value in dict.items()}\n",
    "\n",
    "# by default dictionary sorted on the bases of key\n",
    "\n",
    "sorted(d1.items())"
   ]
  },
  {
   "cell_type": "code",
   "execution_count": 15,
   "metadata": {},
   "outputs": [
    {
     "data": {
      "text/plain": [
       "[('B', 15), ('A', 20), ('C', 30)]"
      ]
     },
     "execution_count": 15,
     "metadata": {},
     "output_type": "execute_result"
    }
   ],
   "source": [
    "sorted(d1.items(), key=lambda x:x[1]) #x:x[1] ka matlab hai ky har tuple ki jo dosri value hai usky base par sorting karo"
   ]
  },
  {
   "cell_type": "markdown",
   "metadata": {},
   "source": [
    "### List comprehensive"
   ]
  },
  {
   "cell_type": "code",
   "execution_count": 17,
   "metadata": {},
   "outputs": [],
   "source": [
    "# kisi bhi cheez ko ek line main likhna\n",
    "# comprehensice style\n",
    "\n",
    "# if condition:\n",
    "    # condition true this block execute\n",
    "# else:\n",
    "    # condition false this block execute"
   ]
  },
  {
   "cell_type": "code",
   "execution_count": 21,
   "metadata": {},
   "outputs": [],
   "source": [
    "# true execution block if condition else false execution block"
   ]
  },
  {
   "cell_type": "code",
   "execution_count": 22,
   "metadata": {},
   "outputs": [
    {
     "name": "stdout",
     "output_type": "stream",
     "text": [
      "True\n"
     ]
    }
   ],
   "source": [
    "if True:\n",
    "    print(\"True\")\n",
    "else:\n",
    "    print(\"False\")"
   ]
  },
  {
   "cell_type": "code",
   "execution_count": 23,
   "metadata": {},
   "outputs": [
    {
     "name": "stdout",
     "output_type": "stream",
     "text": [
      "True\n"
     ]
    }
   ],
   "source": [
    "print(\"True\") if True else print(\"False\")"
   ]
  },
  {
   "cell_type": "code",
   "execution_count": 28,
   "metadata": {},
   "outputs": [
    {
     "name": "stdout",
     "output_type": "stream",
     "text": [
      "3\n",
      "5\n",
      "6\n",
      "7\n",
      "8\n"
     ]
    }
   ],
   "source": [
    "# noraml\n",
    "lis = [1,3,4,5,6]\n",
    "\n",
    "for i in lis:\n",
    "    print(i+2)"
   ]
  },
  {
   "cell_type": "code",
   "execution_count": 33,
   "metadata": {},
   "outputs": [
    {
     "data": {
      "text/plain": [
       "[3, 5, 6, 7, 8]"
      ]
     },
     "execution_count": 33,
     "metadata": {},
     "output_type": "execute_result"
    }
   ],
   "source": [
    "# list comprehensive\n",
    "lis = [1,3,4,5,6]\n",
    "new_list = [i+2 for i in lis]\n",
    "new_list"
   ]
  },
  {
   "cell_type": "markdown",
   "metadata": {},
   "source": [
    "### Recursive Function"
   ]
  },
  {
   "cell_type": "code",
   "execution_count": 34,
   "metadata": {},
   "outputs": [],
   "source": [
    "# recursion -- reflection  (infinit function apny app ko call karta jayega jab tak app usko block na kardien)\n",
    "# 1) repeataion\n",
    "# 2) kisi point py akar ap ko rokna prega"
   ]
  },
  {
   "cell_type": "code",
   "execution_count": 35,
   "metadata": {},
   "outputs": [],
   "source": [
    "#!5\n",
    "#1*2*3*4*5\n"
   ]
  },
  {
   "cell_type": "code",
   "execution_count": 36,
   "metadata": {},
   "outputs": [
    {
     "data": {
      "text/plain": [
       "120"
      ]
     },
     "execution_count": 36,
     "metadata": {},
     "output_type": "execute_result"
    }
   ],
   "source": [
    "def abc(x):\n",
    "    a = 1\n",
    "    for i in range(1,x+1):\n",
    "        a = a*i\n",
    "    return a\n",
    "\n",
    "abc(5)"
   ]
  },
  {
   "cell_type": "code",
   "execution_count": 40,
   "metadata": {},
   "outputs": [
    {
     "data": {
      "text/plain": [
       "16"
      ]
     },
     "execution_count": 40,
     "metadata": {},
     "output_type": "execute_result"
    }
   ],
   "source": [
    "# using recursion\n",
    "\n",
    "def abc(x):\n",
    "    if x==0:\n",
    "        return 1\n",
    "    return abc(x-1)+x\n",
    "\n",
    "abc(5)\n",
    "\n",
    "# abc(5)\n",
    "# abc(4)\n",
    "# abc(3)\n",
    "# abc(2)\n",
    "# abc(1)\n",
    "# abc(1)\n",
    "# ans: 16"
   ]
  },
  {
   "cell_type": "code",
   "execution_count": null,
   "metadata": {},
   "outputs": [],
   "source": []
  }
 ],
 "metadata": {
  "kernelspec": {
   "display_name": "Python 3",
   "language": "python",
   "name": "python3"
  },
  "language_info": {
   "codemirror_mode": {
    "name": "ipython",
    "version": 3
   },
   "file_extension": ".py",
   "mimetype": "text/x-python",
   "name": "python",
   "nbconvert_exporter": "python",
   "pygments_lexer": "ipython3",
   "version": "3.7.6"
  }
 },
 "nbformat": 4,
 "nbformat_minor": 4
}
