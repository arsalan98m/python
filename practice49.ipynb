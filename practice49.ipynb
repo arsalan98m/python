{
 "cells": [
  {
   "cell_type": "code",
   "execution_count": 4,
   "metadata": {},
   "outputs": [
    {
     "name": "stdout",
     "output_type": "stream",
     "text": [
      "123\n",
      "456\n",
      "789\n"
     ]
    }
   ],
   "source": [
    "with open ('untitled1.txt') as practiceFile:\n",
    "    contents = practiceFile.read()\n",
    "    print(contents.rstrip())"
   ]
  },
  {
   "cell_type": "code",
   "execution_count": 5,
   "metadata": {},
   "outputs": [
    {
     "name": "stdout",
     "output_type": "stream",
     "text": [
      "arsalan\n",
      "manzoor\n",
      "ali\n",
      "kamran\n",
      "bilal\n"
     ]
    }
   ],
   "source": [
    "with open('filereadwrite/untitled2.txt') as practiceFile:\n",
    "    contents = practiceFile.read()\n",
    "    print(contents.rstrip())"
   ]
  },
  {
   "cell_type": "code",
   "execution_count": 8,
   "metadata": {},
   "outputs": [
    {
     "name": "stdout",
     "output_type": "stream",
     "text": [
      "arsalan\n",
      "manzoor\n",
      "ali\n",
      "kamran\n",
      "bilal\n"
     ]
    }
   ],
   "source": [
    "filePath = 'filereadwrite/untitled2.txt'\n",
    "\n",
    "with open(filePath) as practice_File:\n",
    "    contents = practice_File.read()\n",
    "    print(contents)"
   ]
  },
  {
   "cell_type": "code",
   "execution_count": 21,
   "metadata": {},
   "outputs": [
    {
     "name": "stdout",
     "output_type": "stream",
     "text": [
      "123\n",
      "456\n",
      "789\n"
     ]
    }
   ],
   "source": [
    "filePath = 'untitled1.txt'\n",
    "with open(filePath) as practice_File:\n",
    "    contents = practice_File.readlines()\n",
    "\n",
    "for elem in contents:\n",
    "    print(elem.strip())"
   ]
  },
  {
   "cell_type": "code",
   "execution_count": 22,
   "metadata": {},
   "outputs": [
    {
     "name": "stdout",
     "output_type": "stream",
     "text": [
      "123456789"
     ]
    }
   ],
   "source": [
    "filePath = 'untitled1.txt'\n",
    "with open(filePath) as practice_File:\n",
    "    contents = practice_File.readlines()\n",
    "\n",
    "for elem in contents:\n",
    "    print(elem.strip(),end=\"\")"
   ]
  },
  {
   "cell_type": "code",
   "execution_count": 27,
   "metadata": {},
   "outputs": [
    {
     "name": "stdout",
     "output_type": "stream",
     "text": [
      "123456789\n"
     ]
    }
   ],
   "source": [
    "filePath = 'untitled1.txt'\n",
    "with open(filePath) as practice_File:\n",
    "    contents = practice_File.readlines()\n",
    "\n",
    "online = \"\"\n",
    "\n",
    "for elem in contents:\n",
    "    online += elem.strip()\n",
    "    \n",
    "print(online)"
   ]
  },
  {
   "cell_type": "code",
   "execution_count": 29,
   "metadata": {},
   "outputs": [
    {
     "data": {
      "text/plain": [
       "'123456789'"
      ]
     },
     "execution_count": 29,
     "metadata": {},
     "output_type": "execute_result"
    }
   ],
   "source": [
    "online"
   ]
  },
  {
   "cell_type": "code",
   "execution_count": 32,
   "metadata": {},
   "outputs": [
    {
     "name": "stdout",
     "output_type": "stream",
     "text": [
      "123456 still continue...\n",
      "9\n"
     ]
    }
   ],
   "source": [
    "print(online[:6]+\" \"+\"still continue...\")\n",
    "print(len(online))"
   ]
  },
  {
   "cell_type": "code",
   "execution_count": 36,
   "metadata": {},
   "outputs": [
    {
     "name": "stdout",
     "output_type": "stream",
     "text": [
      "highlight on book:\n",
      "d\n"
     ]
    }
   ],
   "source": [
    "filepath = \"c:/Users/developer/Desktop/deep learning.txt\"\n",
    "with open(filepath) as filePractice:\n",
    "    contents = filePractice.read()\n",
    "    print(contents[0:20])"
   ]
  },
  {
   "cell_type": "code",
   "execution_count": 43,
   "metadata": {},
   "outputs": [],
   "source": [
    "filepath = \"untitled.txt\"\n",
    "\n",
    "with open(filepath, 'w') as practiceFile:\n",
    "    practiceFile.write(\"000\\n\")\n",
    "    practiceFile.write(\"111\")"
   ]
  },
  {
   "cell_type": "code",
   "execution_count": 44,
   "metadata": {},
   "outputs": [],
   "source": [
    "\n",
    "filepath = \"untitled.txt\"\n",
    "\n",
    "with open(filepath, 'a') as practiceFile:\n",
    "    practiceFile.write(\"\\n222\")\n",
    "    "
   ]
  },
  {
   "cell_type": "code",
   "execution_count": 48,
   "metadata": {},
   "outputs": [
    {
     "name": "stdout",
     "output_type": "stream",
     "text": [
      "File Not Found Try again !!!\n"
     ]
    }
   ],
   "source": [
    "try:\n",
    "    with open('untitled8.txt') as practiceFile:\n",
    "        contents = practiceFile.read()\n",
    "except FileNotFoundError:\n",
    "    print(\"File Not Found Try again !!!\")\n",
    "else:\n",
    "    print(contents)"
   ]
  },
  {
   "cell_type": "code",
   "execution_count": 52,
   "metadata": {},
   "outputs": [
    {
     "name": "stdout",
     "output_type": "stream",
     "text": [
      "['Year', 'Event', 'Winner']\n",
      "['1995', 'Best-Kept Lawn', 'None']\n",
      "['1999', 'Gobstones', 'Welch National']\n",
      "['2006', 'WordCup', 'Burkina Faso']\n"
     ]
    }
   ],
   "source": [
    "import csv\n",
    "with open(\"data1.csv\") as practiceFile:\n",
    "    contents = csv.reader(practiceFile)\n",
    "    for elem in contents:\n",
    "        print(elem)"
   ]
  },
  {
   "cell_type": "code",
   "execution_count": 55,
   "metadata": {},
   "outputs": [],
   "source": [
    "import math\n"
   ]
  },
  {
   "cell_type": "code",
   "execution_count": 56,
   "metadata": {},
   "outputs": [],
   "source": [
    "ma = math.pi"
   ]
  },
  {
   "cell_type": "code",
   "execution_count": 57,
   "metadata": {},
   "outputs": [
    {
     "data": {
      "text/plain": [
       "3.141592653589793"
      ]
     },
     "execution_count": 57,
     "metadata": {},
     "output_type": "execute_result"
    }
   ],
   "source": [
    "ma"
   ]
  },
  {
   "cell_type": "code",
   "execution_count": 66,
   "metadata": {},
   "outputs": [
    {
     "name": "stdout",
     "output_type": "stream",
     "text": [
      "1\n",
      "2\n",
      "3\n"
     ]
    }
   ],
   "source": [
    "print(math.floor(1.9))\n",
    "print(math.ceil(1.1))\n",
    "\n",
    "print(round(2.6))"
   ]
  },
  {
   "cell_type": "code",
   "execution_count": 68,
   "metadata": {},
   "outputs": [
    {
     "name": "stdout",
     "output_type": "stream",
     "text": [
      "3.141592653589793\n"
     ]
    }
   ],
   "source": [
    "from math import pi\n",
    "\n",
    "print(pi)"
   ]
  },
  {
   "cell_type": "code",
   "execution_count": 72,
   "metadata": {},
   "outputs": [
    {
     "name": "stdout",
     "output_type": "stream",
     "text": [
      "1\n"
     ]
    }
   ],
   "source": [
    "from math import *\n",
    "print(floor(1.9))"
   ]
  },
  {
   "cell_type": "code",
   "execution_count": 73,
   "metadata": {},
   "outputs": [
    {
     "name": "stdout",
     "output_type": "stream",
     "text": [
      "[12, 2]\n"
     ]
    }
   ],
   "source": [
    "a = [12]\n",
    "b = [2]\n",
    "c = a+b\n",
    "print(c)"
   ]
  },
  {
   "cell_type": "code",
   "execution_count": null,
   "metadata": {},
   "outputs": [],
   "source": []
  }
 ],
 "metadata": {
  "kernelspec": {
   "display_name": "Python 3",
   "language": "python",
   "name": "python3"
  },
  "language_info": {
   "codemirror_mode": {
    "name": "ipython",
    "version": 3
   },
   "file_extension": ".py",
   "mimetype": "text/x-python",
   "name": "python",
   "nbconvert_exporter": "python",
   "pygments_lexer": "ipython3",
   "version": "3.7.3"
  }
 },
 "nbformat": 4,
 "nbformat_minor": 2
}
