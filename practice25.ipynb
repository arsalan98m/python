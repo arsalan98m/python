{
 "cells": [
  {
   "cell_type": "code",
   "execution_count": 7,
   "metadata": {},
   "outputs": [],
   "source": [
    "praise = \"you are doing great\""
   ]
  },
  {
   "cell_type": "code",
   "execution_count": 9,
   "metadata": {},
   "outputs": [],
   "source": [
    "praise = praise.upper()"
   ]
  },
  {
   "cell_type": "code",
   "execution_count": 10,
   "metadata": {},
   "outputs": [],
   "source": [
    "number_of_character = len(praise)"
   ]
  },
  {
   "cell_type": "code",
   "execution_count": 11,
   "metadata": {},
   "outputs": [],
   "source": [
    "result = praise + \"!\" * number_of_character"
   ]
  },
  {
   "cell_type": "code",
   "execution_count": 12,
   "metadata": {},
   "outputs": [
    {
     "name": "stdout",
     "output_type": "stream",
     "text": [
      "YOU ARE DOING GREAT!!!!!!!!!!!!!!!!!!!\n"
     ]
    }
   ],
   "source": [
    "print(result)"
   ]
  },
  {
   "cell_type": "code",
   "execution_count": 16,
   "metadata": {},
   "outputs": [],
   "source": [
    "advice = \"Don't forget to ask for help\""
   ]
  },
  {
   "cell_type": "code",
   "execution_count": 18,
   "metadata": {},
   "outputs": [
    {
     "name": "stdout",
     "output_type": "stream",
     "text": [
      "DON'T FORGET TO ASK FOR HELP!!!!!!!!!!!!!!!!!!!!!!!!!!!!\n"
     ]
    }
   ],
   "source": [
    "advice = advice.upper()\n",
    "number_of_characters = len(advice)\n",
    "result = advice + \"!\" * number_of_characters\n",
    "print(result)"
   ]
  },
  {
   "cell_type": "code",
   "execution_count": 19,
   "metadata": {},
   "outputs": [
    {
     "name": "stdout",
     "output_type": "stream",
     "text": [
      "DON'T REPEAT YOUR SELF.KEEP THINGS DRY!!!!!!!!!!!!!!!!!!!!!!!!!!!!!!!!!!!!!!\n"
     ]
    }
   ],
   "source": [
    "advice2 = \"Don't Repeat your self.Keep things DRY\"\n",
    "advice2 = advice2.upper()\n",
    "number_of_characters = len(advice2)\n",
    "result = advice2 + \"!\" * number_of_characters\n",
    "print(result)"
   ]
  },
  {
   "cell_type": "code",
   "execution_count": 20,
   "metadata": {},
   "outputs": [],
   "source": [
    "def yell(text):\n",
    "    text = text.upper()\n",
    "    number_of_character = len(text)\n",
    "    result = text + \"!\" * (number_of_character // 2)\n",
    "    print(result)\n",
    "        "
   ]
  },
  {
   "cell_type": "code",
   "execution_count": 21,
   "metadata": {},
   "outputs": [
    {
     "name": "stdout",
     "output_type": "stream",
     "text": [
      "YO ARE DOING GREAT!!!!!!!!!\n"
     ]
    }
   ],
   "source": [
    "yell(\"yo are doing great\")\n",
    "yell(\"Don't forget to ask for help\")\n",
    "yell(\"Don't Repeat yourself \")"
   ]
  },
  {
   "cell_type": "code",
   "execution_count": 28,
   "metadata": {},
   "outputs": [],
   "source": [
    "import math\n",
    "\n",
    "def split_check(total,number_of_people):\n",
    "    return math.ceil(total / number_of_people)\n",
    "\n",
    "\n"
   ]
  },
  {
   "cell_type": "code",
   "execution_count": 29,
   "metadata": {},
   "outputs": [
    {
     "name": "stdout",
     "output_type": "stream",
     "text": [
      "What is the total? 100\n",
      "How many people? 4\n",
      "Each person owes $25\n"
     ]
    }
   ],
   "source": [
    "total_due = float(input(\"What is the total? \"))\n",
    "number_of_people = int(input(\"How many people? \"))\n",
    "amount_due = split_check(total_due,number_of_people)\n",
    "print(\"Each person owes ${}\".format(amount_due))"
   ]
  },
  {
   "cell_type": "code",
   "execution_count": 31,
   "metadata": {},
   "outputs": [
    {
     "name": "stdout",
     "output_type": "stream",
     "text": [
      "What is the total? 12\n",
      "How many people? too many\n",
      "Oh no!!! That's not valid value try again.\n"
     ]
    }
   ],
   "source": [
    "import math\n",
    "\n",
    "def split_check(total,number_of_people):\n",
    "    return math.ceil(total / number_of_people)\n",
    "\n",
    "\n",
    "try:\n",
    "    total_due = float(input(\"What is the total? \"))\n",
    "    number_of_people = int(input(\"How many people? \"))\n",
    "except ValueError:\n",
    "    print(\"Oh no!!! That's not valid value try again.\")\n",
    "else:\n",
    "    amount_due = split_check(total_due,number_of_people)\n",
    "    print(\"Each person owes ${}\".format(amount_due))"
   ]
  },
  {
   "cell_type": "code",
   "execution_count": 34,
   "metadata": {},
   "outputs": [
    {
     "name": "stdout",
     "output_type": "stream",
     "text": [
      "A\n",
      "B\n",
      "E\n",
      "F\n"
     ]
    }
   ],
   "source": [
    "print(\"A\")\n",
    "try:\n",
    "    result = 5 + 5\n",
    "    print(\"B\")\n",
    "except ValueError:\n",
    "    print(\"C\")\n",
    "except TypeError:\n",
    "    print(\"D\")\n",
    "else:\n",
    "    print(\"E\")\n",
    "print(\"F\")"
   ]
  },
  {
   "cell_type": "code",
   "execution_count": 35,
   "metadata": {},
   "outputs": [
    {
     "name": "stdout",
     "output_type": "stream",
     "text": [
      "A\n",
      "D\n",
      "F\n"
     ]
    }
   ],
   "source": [
    "print(\"A\")\n",
    "try:\n",
    "    result = \"test\" + 5\n",
    "    print(\"B\")\n",
    "except ValueError:\n",
    "    print(\"C\")\n",
    "except TypeError:\n",
    "    print(\"D\")\n",
    "else:\n",
    "    print(\"E\")\n",
    "print(\"F\")"
   ]
  },
  {
   "cell_type": "code",
   "execution_count": 1,
   "metadata": {},
   "outputs": [
    {
     "name": "stdout",
     "output_type": "stream",
     "text": [
      "5\n"
     ]
    }
   ],
   "source": [
    "first_number = 2\n",
    "second_number =3\n",
    "total = first_number + second_number\n",
    "print(total)"
   ]
  },
  {
   "cell_type": "code",
   "execution_count": 5,
   "metadata": {},
   "outputs": [],
   "source": [
    "def add_numbers():\n",
    "    first_number = 2\n",
    "    second_number = 3\n",
    "    \n",
    "    total = first_number + second_number\n",
    "    print(total)"
   ]
  },
  {
   "cell_type": "code",
   "execution_count": 6,
   "metadata": {},
   "outputs": [
    {
     "name": "stdout",
     "output_type": "stream",
     "text": [
      "5\n"
     ]
    }
   ],
   "source": [
    "add_numbers()"
   ]
  },
  {
   "cell_type": "code",
   "execution_count": 8,
   "metadata": {},
   "outputs": [],
   "source": [
    "                # Parameter\n",
    "def add_number(first_number, second_number):\n",
    "    total = first_number + second_number\n",
    "    print(total)\n",
    "    \n",
    "# add_numbers(arguments)"
   ]
  },
  {
   "cell_type": "code",
   "execution_count": 9,
   "metadata": {},
   "outputs": [],
   "source": [
    "def greet_user(greeting):\n",
    "    print(greeting)"
   ]
  },
  {
   "cell_type": "code",
   "execution_count": 10,
   "metadata": {},
   "outputs": [
    {
     "name": "stdout",
     "output_type": "stream",
     "text": [
      "Hello there.\n"
     ]
    }
   ],
   "source": [
    "greeting = \"Hello there.\"\n",
    "greet_user(greeting)"
   ]
  },
  {
   "cell_type": "code",
   "execution_count": 11,
   "metadata": {},
   "outputs": [
    {
     "name": "stdout",
     "output_type": "stream",
     "text": [
      "Hello, there.\n"
     ]
    }
   ],
   "source": [
    "whatever = \"Hello, there.\"\n",
    "greet_user(whatever)"
   ]
  },
  {
   "cell_type": "code",
   "execution_count": 12,
   "metadata": {},
   "outputs": [
    {
     "ename": "NameError",
     "evalue": "name 'greetUser' is not defined",
     "output_type": "error",
     "traceback": [
      "\u001b[1;31m---------------------------------------------------------------------------\u001b[0m",
      "\u001b[1;31mNameError\u001b[0m                                 Traceback (most recent call last)",
      "\u001b[1;32m<ipython-input-12-156e07912746>\u001b[0m in \u001b[0;36m<module>\u001b[1;34m\u001b[0m\n\u001b[1;32m----> 1\u001b[1;33m \u001b[0mgreetUser\u001b[0m\u001b[1;33m(\u001b[0m\u001b[0mwhatever\u001b[0m\u001b[1;33m)\u001b[0m\u001b[1;33m\u001b[0m\u001b[1;33m\u001b[0m\u001b[0m\n\u001b[0m",
      "\u001b[1;31mNameError\u001b[0m: name 'greetUser' is not defined"
     ]
    }
   ],
   "source": [
    "greetUser(whatever)"
   ]
  },
  {
   "cell_type": "code",
   "execution_count": 15,
   "metadata": {},
   "outputs": [],
   "source": [
    "def says_names_of_couple(husband_name, wife_name):\n",
    "    print(\"The name of the couple are \"+husband_name+\" and \"+wife_name)"
   ]
  },
  {
   "cell_type": "code",
   "execution_count": 16,
   "metadata": {},
   "outputs": [
    {
     "name": "stdout",
     "output_type": "stream",
     "text": [
      "The name of the couple are Bill and Zelda\n"
     ]
    }
   ],
   "source": [
    "says_names_of_couple(husband_name = \"Bill\", wife_name = \"Zelda\")"
   ]
  },
  {
   "cell_type": "code",
   "execution_count": 17,
   "metadata": {},
   "outputs": [],
   "source": [
    "def says_names_of_couple(wife_name, husband_name):\n",
    "    print(\"The name of the couple are \"+husband_name+\" and \"+wife_name)"
   ]
  },
  {
   "cell_type": "code",
   "execution_count": 20,
   "metadata": {},
   "outputs": [
    {
     "name": "stdout",
     "output_type": "stream",
     "text": [
      "The name of the couple are Bill and Zel\n"
     ]
    }
   ],
   "source": [
    "says_names_of_couple(husband_name = \"Bill\", wife_name=\"Zel\")"
   ]
  },
  {
   "cell_type": "code",
   "execution_count": 22,
   "metadata": {},
   "outputs": [],
   "source": [
    "def calc_tax(sales_total, tax_rate):\n",
    "    print(sales_total*tax_rate)"
   ]
  },
  {
   "cell_type": "code",
   "execution_count": 23,
   "metadata": {},
   "outputs": [
    {
     "name": "stdout",
     "output_type": "stream",
     "text": [
      "5.0685\n"
     ]
    }
   ],
   "source": [
    "calc_tax(sales_total = 101.37, tax_rate=.05)"
   ]
  },
  {
   "cell_type": "code",
   "execution_count": 24,
   "metadata": {},
   "outputs": [],
   "source": [
    "def calc_tax(sales_total , tax_rate=.04):\n",
    "    print(sales_total * tax_rate)"
   ]
  },
  {
   "cell_type": "code",
   "execution_count": 25,
   "metadata": {},
   "outputs": [
    {
     "name": "stdout",
     "output_type": "stream",
     "text": [
      "4.0548\n"
     ]
    }
   ],
   "source": [
    "calc_tax(sales_total = 101.37)"
   ]
  },
  {
   "cell_type": "code",
   "execution_count": 26,
   "metadata": {},
   "outputs": [
    {
     "name": "stdout",
     "output_type": "stream",
     "text": [
      "5.0685\n"
     ]
    }
   ],
   "source": [
    "calc_tax(sales_total = 101.37, tax_rate=.05)"
   ]
  },
  {
   "cell_type": "code",
   "execution_count": 27,
   "metadata": {},
   "outputs": [],
   "source": [
    "def give_greeting(greeting, first_name):\n",
    "    print(greeting + \", \"+ first_name)"
   ]
  },
  {
   "cell_type": "code",
   "execution_count": 29,
   "metadata": {},
   "outputs": [
    {
     "name": "stdout",
     "output_type": "stream",
     "text": [
      "Hello there, A1\n"
     ]
    }
   ],
   "source": [
    "give_greeting(\"Hello there\", first_name= \"A1\")"
   ]
  },
  {
   "cell_type": "code",
   "execution_count": 30,
   "metadata": {},
   "outputs": [
    {
     "ename": "SyntaxError",
     "evalue": "positional argument follows keyword argument (<ipython-input-30-a83be614ed59>, line 1)",
     "output_type": "error",
     "traceback": [
      "\u001b[1;36m  File \u001b[1;32m\"<ipython-input-30-a83be614ed59>\"\u001b[1;36m, line \u001b[1;32m1\u001b[0m\n\u001b[1;33m    give_greeting(first_name=\"A1\", \"Hello Pasha\")\u001b[0m\n\u001b[1;37m                                  ^\u001b[0m\n\u001b[1;31mSyntaxError\u001b[0m\u001b[1;31m:\u001b[0m positional argument follows keyword argument\n"
     ]
    }
   ],
   "source": [
    "give_greeting(first_name=\"A1\", \"Hello Pasha\")"
   ]
  },
  {
   "cell_type": "code",
   "execution_count": 39,
   "metadata": {},
   "outputs": [],
   "source": [
    "def give_greeting(greeting, first_name,flattering_nickname= \" the wonder boy\"):\n",
    "    print(greeting+ \", \"+first_name + flattering_nickname)"
   ]
  },
  {
   "cell_type": "code",
   "execution_count": 40,
   "metadata": {},
   "outputs": [
    {
     "name": "stdout",
     "output_type": "stream",
     "text": [
      "Hello there, A1 the wonder boy\n"
     ]
    }
   ],
   "source": [
    "give_greeting(\"Hello there\",first_name=\"A1\")"
   ]
  },
  {
   "cell_type": "code",
   "execution_count": 41,
   "metadata": {},
   "outputs": [],
   "source": [
    "customers = {\n",
    "    0: {\n",
    "        \"fist name\": \"ahad\",\n",
    "        \"last name\": \"imran\",\n",
    "        \"address\": \"nazimabad\",\n",
    "    },\n",
    "    1: {\n",
    "        \"first name\": \"owais\",\n",
    "        \"last name\": \"khan\",\n",
    "        \"address\": \"kbr\",\n",
    "    },\n",
    "    2: {\n",
    "        \"first name\": \"rizwan\",\n",
    "        \"last name\": \"akhtar\", \n",
    "        \"address\": \"north karachi\",\n",
    "    },\n",
    "}"
   ]
  },
  {
   "cell_type": "code",
   "execution_count": 48,
   "metadata": {},
   "outputs": [],
   "source": [
    "def find_something(dic, inner_dict, target):\n",
    "    print(dic, inner_dict, target)\n",
    "    "
   ]
  },
  {
   "cell_type": "code",
   "execution_count": 49,
   "metadata": {},
   "outputs": [
    {
     "name": "stdout",
     "output_type": "stream",
     "text": [
      "{0: {'fist name': 'ahad', 'last name': 'imran', 'address': 'nazimabad'}, 1: {'first name': 'owais', 'last name': 'khan', 'address': 'kbr'}, 2: {'first name': 'rizwan', 'last name': 'akhtar', 'address': 'north karachi'}} 2 last_name\n"
     ]
    }
   ],
   "source": [
    "find_something(customers,2,\"last_name\")"
   ]
  },
  {
   "cell_type": "code",
   "execution_count": null,
   "metadata": {},
   "outputs": [],
   "source": []
  }
 ],
 "metadata": {
  "kernelspec": {
   "display_name": "Python 3",
   "language": "python",
   "name": "python3"
  },
  "language_info": {
   "codemirror_mode": {
    "name": "ipython",
    "version": 3
   },
   "file_extension": ".py",
   "mimetype": "text/x-python",
   "name": "python",
   "nbconvert_exporter": "python",
   "pygments_lexer": "ipython3",
   "version": "3.7.3"
  }
 },
 "nbformat": 4,
 "nbformat_minor": 2
}
