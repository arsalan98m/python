{
 "cells": [
  {
   "cell_type": "code",
   "execution_count": 5,
   "metadata": {},
   "outputs": [],
   "source": [
    "class Dog():\n",
    "    def __init__(self, name, age):\n",
    "        self.name = name\n",
    "        self.age = age\n",
    "    \n",
    "    \n",
    "    def sit(self):\n",
    "        print(self.name.title() + \" is now siiting.\")\n",
    "        \n",
    "    def roll_over(self):\n",
    "        print(self.name.title() + \" rolled over!\")"
   ]
  },
  {
   "cell_type": "code",
   "execution_count": 19,
   "metadata": {},
   "outputs": [
    {
     "name": "stdout",
     "output_type": "stream",
     "text": [
      "My dog's name is Willie.\n",
      "My dog is 6 years old.\n",
      "Willie is now siiting.\n",
      "Willie rolled over!\n",
      "\n",
      "My dog's name is Lucy.\n",
      "My dog is 3 years old.\n",
      "Lucy is now siiting.\n"
     ]
    }
   ],
   "source": [
    "my_dog = Dog('willie',6)\n",
    "print(\"My dog's name is \"+my_dog.name.title()+\".\")\n",
    "print(\"My dog is \"+str(my_dog.age)+\" years old.\")\n",
    "my_dog.sit()\n",
    "my_dog.roll_over()\n",
    "\n",
    "\n",
    "your_dog = Dog('lucy',3)\n",
    "print(\"\\nMy dog's name is \"+your_dog.name.title()+\".\")\n",
    "print(\"My dog is \"+str(your_dog.age)+\" years old.\")\n",
    "your_dog.sit()"
   ]
  },
  {
   "cell_type": "code",
   "execution_count": 39,
   "metadata": {},
   "outputs": [],
   "source": [
    "class Restaurant():\n",
    "    def __init__(self, restaurant_name, cuisine_type):\n",
    "        self.restaurant_name = restaurant_name\n",
    "        self.cuisine_type = cuisine_type\n",
    "    \n",
    "    def describe_restaurant(self):\n",
    "        print(f\"{self.restaurant_name.title()} serves wonderful {self.cuisine_type.title()}\")\n",
    "        \n",
    "    def open_restaurant(self):\n",
    "        print(f\"The {self.restaurant_name} is open. Come on in!\")"
   ]
  },
  {
   "cell_type": "code",
   "execution_count": 40,
   "metadata": {},
   "outputs": [
    {
     "name": "stdout",
     "output_type": "stream",
     "text": [
      "mean queen\n",
      "pizza\n"
     ]
    }
   ],
   "source": [
    "my_restaurant = Restaurant(\"mean queen\",\"pizza\")\n",
    "print(my_restaurant.restaurant_name)\n",
    "print(my_restaurant.cuisine_type)"
   ]
  },
  {
   "cell_type": "code",
   "execution_count": 41,
   "metadata": {},
   "outputs": [
    {
     "name": "stdout",
     "output_type": "stream",
     "text": [
      "Mean Queen serves wonderful Pizza\n",
      "The mean queen is open. Come on in!\n"
     ]
    }
   ],
   "source": [
    "my_restaurant.describe_restaurant()\n",
    "my_restaurant.open_restaurant()\n"
   ]
  },
  {
   "cell_type": "code",
   "execution_count": 42,
   "metadata": {},
   "outputs": [
    {
     "name": "stdout",
     "output_type": "stream",
     "text": [
      "Mazeedar Foods serves wonderful Zinger Burger\n",
      "Aa Foods serves wonderful Nihari\n",
      "Karachi Haleem serves wonderful Biryani\n"
     ]
    }
   ],
   "source": [
    "restaurant_1 = Restaurant(\"mazeedar foods\",\"zinger burger\")\n",
    "restaurant_2 = Restaurant(\"aa foods\",\"nihari\")\n",
    "restaurant_3 = Restaurant(\"karachi haleem\",\"biryani\")\n",
    "\n",
    "restaurant_1.describe_restaurant()\n",
    "restaurant_2.describe_restaurant()\n",
    "restaurant_3.describe_restaurant()"
   ]
  },
  {
   "cell_type": "code",
   "execution_count": 59,
   "metadata": {},
   "outputs": [],
   "source": [
    "class Users():\n",
    "    def __init__(self, first_name, last_name, username, email, location):\n",
    "        self.first_name = first_name\n",
    "        self.last_name = last_name\n",
    "        self.username = username\n",
    "        self.email = email\n",
    "        self.location = location\n",
    "    \n",
    "    def describe_user(self):\n",
    "        print(\"\\n\"+self.first_name.title() +\" \"+self.last_name.title())\n",
    "        print(\"   Username: \"+self.username)\n",
    "        print(\"   Email: \"+self.email)\n",
    "        print(\"   Location: \"+self.location.title())\n",
    "        \n",
    "    def greet_user(self):\n",
    "        print(\"\\nWelcome back, \"+self.username+\"!\")"
   ]
  },
  {
   "cell_type": "code",
   "execution_count": 62,
   "metadata": {},
   "outputs": [],
   "source": [
    "user_1 = Users(\"arsalan\",\"manoor\",\"arsalan_98m\",\"arsalan@gmail.com\",\"karachi\")\n",
    "user_2 = Users(\"khalid\",\"hussain\",\"khalid_h\",\"kahlid12@gmail.com\",\"lahore\")"
   ]
  },
  {
   "cell_type": "code",
   "execution_count": 64,
   "metadata": {},
   "outputs": [
    {
     "name": "stdout",
     "output_type": "stream",
     "text": [
      "\n",
      "Arsalan Manoor\n",
      "   Username: arsalan_98m\n",
      "   Email: arsalan@gmail.com\n",
      "   Location: Karachi\n",
      "\n",
      "Welcome back, arsalan_98m!\n",
      "\n",
      "Khalid Hussain\n",
      "   Username: khalid_h\n",
      "   Email: kahlid12@gmail.com\n",
      "   Location: Lahore\n",
      "\n",
      "Welcome back, khalid_h!\n"
     ]
    }
   ],
   "source": [
    "user_1.describe_user()\n",
    "user_1.greet_user()\n",
    "\n",
    "user_2.describe_user()\n",
    "user_2.greet_user()"
   ]
  },
  {
   "cell_type": "code",
   "execution_count": 88,
   "metadata": {},
   "outputs": [
    {
     "name": "stdout",
     "output_type": "stream",
     "text": [
      "2016 Audi A4\n",
      "This car has 40 miles on it.\n",
      "2013 Subaru Outback\n",
      "This car has 23500 miles on it.\n",
      "This car has 23600 miles on it.\n"
     ]
    }
   ],
   "source": [
    "class Car():\n",
    "    def __init__(self, make, model, year):\n",
    "        self.make = make\n",
    "        self.model = model\n",
    "        self.year = year\n",
    "        self.odometer_reading = 0\n",
    "        \n",
    "    def get_descriptive_name(self):\n",
    "        long_name = str(self.year) + ' '+self.make+' '+self.model\n",
    "        return long_name.title()\n",
    "    def read_odometer(self):\n",
    "        print(\"This car has \"+str(self.odometer_reading) + \" miles on it.\")\n",
    "    \n",
    "    def update_odometer(self, mileage):\n",
    "        if mileage >= self.odometer_reading:\n",
    "            self.odometer_reading = mileage\n",
    "        else:\n",
    "            print(\"You can't roll back an odometer!\")\n",
    "    \n",
    "    def increment_odometer(self, miles):\n",
    "        self.odometer_reading += miles\n",
    "            \n",
    "my_new_car = Car('audi','a4',2016)\n",
    "print(my_new_car.get_descriptive_name())\n",
    "\n",
    "#my_new_car.odometer_reading = 23\n",
    "#my_new_car.read_odometer()\n",
    "\n",
    "my_new_car.update_odometer(40)\n",
    "my_new_car.read_odometer()\n",
    "\n",
    "my_used_car = Car('subaru','outback',2013)\n",
    "print(my_used_car.get_descriptive_name())\n",
    "\n",
    "my_used_car.update_odometer(23500)\n",
    "my_used_car.read_odometer()\n",
    "\n",
    "my_used_car.increment_odometer(100)\n",
    "my_used_car.read_odometer()"
   ]
  },
  {
   "cell_type": "code",
   "execution_count": 89,
   "metadata": {},
   "outputs": [
    {
     "name": "stdout",
     "output_type": "stream",
     "text": [
      "You can't roll back an odometer!\n",
      "This car has 40 miles on it.\n"
     ]
    }
   ],
   "source": [
    "my_new_car.update_odometer(10)\n",
    "my_new_car.read_odometer()"
   ]
  },
  {
   "cell_type": "code",
   "execution_count": 109,
   "metadata": {},
   "outputs": [],
   "source": [
    "class Restaurant():\n",
    "    def __init__(self, restaurant_name, cuisine_type):\n",
    "        self.restaurant_name = restaurant_name\n",
    "        self.cuisine_type = cuisine_type\n",
    "        self.number_served = 0\n",
    "    \n",
    "    def describe_restaurant(self):\n",
    "        print(f\"{self.restaurant_name.title()} serves wonderful {self.cuisine_type.title()}\")\n",
    "        \n",
    "    def open_restaurant(self):\n",
    "        print(f\"The {self.restaurant_name} is open. Come on in!\")\n",
    "    def show_number_served(self):\n",
    "        print(\"Number served: \"+str(self.number_served))\n",
    "\n",
    "    def set_number_served(self, new_number_served):\n",
    "        self.number_served = new_number_served\n",
    "    \n",
    "    def increment_served(self,increment):\n",
    "        self.number_served += increment"
   ]
  },
  {
   "cell_type": "code",
   "execution_count": 110,
   "metadata": {},
   "outputs": [
    {
     "name": "stdout",
     "output_type": "stream",
     "text": [
      "Mazeedar Foods serves wonderful Zinger Burger\n",
      "Number served: 0\n",
      "Number served: 430\n",
      "Number served: 460\n"
     ]
    }
   ],
   "source": [
    "restaurant_1 = Restaurant(\"mazeedar foods\",\"zinger burger\")\n",
    "\n",
    "\n",
    "restaurant_1.describe_restaurant()\n",
    "\n",
    "\n",
    "restaurant_1.show_number_served()\n",
    "\n",
    "restaurant_1.set_number_served(430)\n",
    "restaurant_1.show_number_served()\n",
    "\n",
    "restaurant_1.increment_served(30)\n",
    "restaurant_1.show_number_served()"
   ]
  },
  {
   "cell_type": "code",
   "execution_count": 111,
   "metadata": {},
   "outputs": [],
   "source": [
    "class Users():\n",
    "    def __init__(self, first_name, last_name, username, email, location):\n",
    "        self.first_name = first_name\n",
    "        self.last_name = last_name\n",
    "        self.username = username\n",
    "        self.email = email\n",
    "        self.location = location\n",
    "        self.login_attempts = 0\n",
    "    \n",
    "    def describe_user(self):\n",
    "        print(\"\\n\"+self.first_name.title() +\" \"+self.last_name.title())\n",
    "        print(\"   Username: \"+self.username)\n",
    "        print(\"   Email: \"+self.email)\n",
    "        print(\"   Location: \"+self.location.title())\n",
    "        \n",
    "    def greet_user(self):\n",
    "        print(\"\\nWelcome back, \"+self.username+\"!\")\n",
    "        \n",
    "    def increment_login_attempts(self):\n",
    "        self.login_attempts += 1\n",
    "    \n",
    "    def reset_login_attempts(self):\n",
    "        self.login_attempts = 0"
   ]
  },
  {
   "cell_type": "code",
   "execution_count": 112,
   "metadata": {},
   "outputs": [
    {
     "name": "stdout",
     "output_type": "stream",
     "text": [
      "\n",
      "Arsalan Manoor\n",
      "   Username: arsalan_98m\n",
      "   Email: arsalan@gmail.com\n",
      "   Location: Karachi\n",
      "\n",
      "Welcome back, arsalan_98m!\n"
     ]
    }
   ],
   "source": [
    "user_1 = Users(\"arsalan\",\"manoor\",\"arsalan_98m\",\"arsalan@gmail.com\",\"karachi\")\n",
    "\n",
    "user_1.describe_user()\n",
    "user_1.greet_user()"
   ]
  },
  {
   "cell_type": "code",
   "execution_count": 125,
   "metadata": {},
   "outputs": [
    {
     "name": "stdout",
     "output_type": "stream",
     "text": [
      "\n",
      "Making 3 login attempts...\n",
      "   Login attempts: 3\n"
     ]
    }
   ],
   "source": [
    "print(\"\\nMaking 3 login attempts...\")\n",
    "user_1.increment_login_attempts()\n",
    "user_1.increment_login_attempts()\n",
    "user_1.increment_login_attempts()\n",
    "\n",
    "print(\"   Login attempts: \"+str(user_1.login_attempts))"
   ]
  },
  {
   "cell_type": "code",
   "execution_count": 123,
   "metadata": {},
   "outputs": [
    {
     "name": "stdout",
     "output_type": "stream",
     "text": [
      "Resetting login attempts...\n",
      "  Login attempts: 0\n"
     ]
    }
   ],
   "source": [
    "print(\"Resetting login attempts...\")\n",
    "user_1.reset_login_attempts()\n",
    "print(\"  Login attempts: \"+str(user_1.login_attempts))"
   ]
  },
  {
   "cell_type": "code",
   "execution_count": 126,
   "metadata": {},
   "outputs": [],
   "source": [
    "# ******** Inheritance ******* #"
   ]
  },
  {
   "cell_type": "code",
   "execution_count": 240,
   "metadata": {},
   "outputs": [
    {
     "name": "stdout",
     "output_type": "stream",
     "text": [
      "This car has a 85-kWh battery.\n",
      "This car can go approximately 270 miles on a full charge.\n"
     ]
    }
   ],
   "source": [
    "class Car():\n",
    "    def __init__(self, make, model, year):\n",
    "        self.make = make\n",
    "        self.model = model\n",
    "        self.year = year\n",
    "        self.odometer_reading = 0\n",
    "        \n",
    "    def get_descriptive_name(self):\n",
    "        long_name = str(self.year) + ' '+self.make+' '+self.model\n",
    "        return long_name.title()\n",
    "    def read_odometer(self):\n",
    "        print(\"This car has \"+str(self.odometer_reading) + \" miles on it.\")\n",
    "    \n",
    "    def update_odometer(self, mileage):\n",
    "        if mileage >= self.odometer_reading:\n",
    "            self.odometer_reading = mileage\n",
    "        else:\n",
    "            print(\"You can't roll back an odometer!\")\n",
    "    \n",
    "    def increment_odometer(self, miles):\n",
    "        self.odometer_reading += miles\n",
    "\n",
    "\n",
    "class Battery():\n",
    "    def __init__(self, battery_size = 70):\n",
    "        self.battery_size = battery_size\n",
    "   \n",
    "    def describe_battery(self):\n",
    "        print(\"This car has a \"+str(self.battery_size)+\"-kWh battery.\")\n",
    "    \n",
    "    def get_range(self):\n",
    "        if self.battery_size == 70:\n",
    "            range = 240\n",
    "        elif self.battery_size == 85:\n",
    "            range = 270\n",
    "        message = \"This car can go approximately \"+str(range)\n",
    "        message += \" miles on a full charge.\"\n",
    "        print(message)\n",
    "\n",
    "class ElectricCar(Car):\n",
    "    def __init__(self, make, model, year):\n",
    "        \n",
    "        \"\"\"Initialize attributes of the parent class\"\"\"\n",
    "        super().__init__(make,model,year)\n",
    "        self.battery = Battery()\n",
    "        \n",
    "    \n",
    "\n",
    "my_tesla = ElectricCar('tesla','model s',2016)\n",
    "#print(my_tesla.get_descriptive_name())\n",
    "#my_tesla.describe_battery()\n",
    "my_tesla.battery.battery_size =85\n",
    "my_tesla.battery.describe_battery()\n",
    "my_tesla.battery.get_range()"
   ]
  },
  {
   "cell_type": "code",
   "execution_count": 168,
   "metadata": {},
   "outputs": [],
   "source": [
    "class Restaurant():\n",
    "    def __init__(self, restaurant_name, cuisine_type):\n",
    "        self.restaurant_name = restaurant_name\n",
    "        self.cuisine_type = cuisine_type\n",
    "        self.number_served = 0\n",
    "    \n",
    "    def describe_restaurant(self):\n",
    "        print(f\"{self.restaurant_name.title()} serves wonderful {self.cuisine_type.title()}\")\n",
    "        \n",
    "    def open_restaurant(self):\n",
    "        print(f\"The {self.restaurant_name} is open. Come on in!\")\n",
    "    def show_number_served(self):\n",
    "        print(\"Number served: \"+str(self.number_served))\n",
    "\n",
    "    def set_number_served(self, new_number_served):\n",
    "        self.number_served = new_number_served\n",
    "    \n",
    "    def increment_served(self,increment):\n",
    "        self.number_served += increment\n",
    "\n",
    "            \n",
    "class IceCreamStand(Restaurant):\n",
    "    def __init__(self,restaurant_name, cuisine_type='ice_cream'):\n",
    "        super().__init__(restaurant_name,cuisine_type)\n",
    "        self.flavors = []\n",
    "    \n",
    "    def show_flavors(self):\n",
    "        print(\"\\nWe have the following flavors available:\")\n",
    "        for i in self.flavors:\n",
    "            print(\" - \"+i.title())"
   ]
  },
  {
   "cell_type": "code",
   "execution_count": 174,
   "metadata": {},
   "outputs": [
    {
     "name": "stdout",
     "output_type": "stream",
     "text": [
      "The Big One serves wonderful Ice_Cream\n",
      "\n",
      "We have the following flavors available:\n",
      " - Vanilla\n",
      " - Chocolate\n"
     ]
    }
   ],
   "source": [
    "big_one = IceCreamStand('The Big One')\n",
    "big_one.flavors = ['vanilla','chocolate']\n",
    "\n",
    "big_one.describe_restaurant()\n",
    "big_one.show_flavors()"
   ]
  },
  {
   "cell_type": "code",
   "execution_count": 212,
   "metadata": {},
   "outputs": [],
   "source": [
    "class Users():\n",
    "    def __init__(self, first_name, last_name, username, email, location):\n",
    "        self.first_name = first_name\n",
    "        self.last_name = last_name\n",
    "        self.username = username\n",
    "        self.email = email\n",
    "        self.location = location\n",
    "        self.login_attempts = 0\n",
    "    \n",
    "    def describe_user(self):\n",
    "        print(\"\\n\"+self.first_name.title() +\" \"+self.last_name.title())\n",
    "        print(\"   Username: \"+self.username)\n",
    "        print(\"   Email: \"+self.email)\n",
    "        print(\"   Location: \"+self.location.title())\n",
    "        \n",
    "    def greet_user(self):\n",
    "        print(\"\\nWelcome back, \"+self.username+\"!\")\n",
    "        \n",
    "    def increment_login_attempts(self):\n",
    "        self.login_attempts += 1\n",
    "    \n",
    "    def reset_login_attempts(self):\n",
    "        self.login_attempts = 0\n",
    "\n",
    "\n",
    "class Privileges():\n",
    "    def __init__(self,privileges=[]):\n",
    "        self.privileges = privileges\n",
    "        \n",
    "    def show_privileges(self):\n",
    "        print(\"\\nPriviliges:\")\n",
    "        if self.privileges:\n",
    "            for i in self.privileges:\n",
    "                print(\" - \"+i.title())\n",
    "        else:\n",
    "            print(\"- This user has no privileges\")\n",
    "            \n",
    "class Admin(Users):\n",
    "    def __init__(self,first_name, last_name, username, email, location):\n",
    "        super().__init__(first_name, last_name, username, email, location)\n",
    "        self.privileges = Privileges()\n",
    "        \n",
    "   "
   ]
  },
  {
   "cell_type": "code",
   "execution_count": 218,
   "metadata": {},
   "outputs": [
    {
     "name": "stdout",
     "output_type": "stream",
     "text": [
      "\n",
      "Arsalan Manoor\n",
      "   Username: arsalan_98m\n",
      "   Email: arsalan@gmail.com\n",
      "   Location: Karachi\n",
      "\n",
      "Priviliges:\n",
      "- This user has no privileges\n",
      "Adding Privilileges...\n",
      "\n",
      "Priviliges:\n",
      " - Can Reset Password\n",
      " - Can Delete Post\n"
     ]
    }
   ],
   "source": [
    "user_1 = Admin(\"arsalan\",\"manoor\",\"arsalan_98m\",\"arsalan@gmail.com\",\"karachi\")\n",
    "\n",
    "user_1.describe_user()\n",
    "user_1.privileges.show_privileges()\n",
    "\n",
    "print(\"Adding Privilileges...\")\n",
    "user_1.privileges.privileges = [\"can reset password\",\"can delete post\"]\n",
    "user_1.privileges.show_privileges()\n"
   ]
  },
  {
   "cell_type": "code",
   "execution_count": 246,
   "metadata": {},
   "outputs": [
    {
     "name": "stdout",
     "output_type": "stream",
     "text": [
      "Make an electric car and check the battery.\n",
      "This car has a 70-kWh battery.\n",
      "\n",
      "Upgrade the battery and check it again.\n",
      "Updated the battery to 85-kWh.\n",
      "This car has a 85-kWh battery.\n",
      "\n",
      "Again Updating the battery and check it again.\n",
      "The battery is already upgraded.\n",
      "This car has a 85-kWh battery.\n"
     ]
    }
   ],
   "source": [
    "class Car():\n",
    "    def __init__(self, make, model, year):\n",
    "        self.make = make\n",
    "        self.model = model\n",
    "        self.year = year\n",
    "        self.odometer_reading = 0\n",
    "        \n",
    "    def get_descriptive_name(self):\n",
    "        long_name = str(self.year) + ' '+self.make+' '+self.model\n",
    "        return long_name.title()\n",
    "    def read_odometer(self):\n",
    "        print(\"This car has \"+str(self.odometer_reading) + \" miles on it.\")\n",
    "    \n",
    "    def update_odometer(self, mileage):\n",
    "        if mileage >= self.odometer_reading:\n",
    "            self.odometer_reading = mileage\n",
    "        else:\n",
    "            print(\"You can't roll back an odometer!\")\n",
    "    \n",
    "    def increment_odometer(self, miles):\n",
    "        self.odometer_reading += miles\n",
    "\n",
    "\n",
    "class Battery():\n",
    "    def __init__(self, battery_size = 70):\n",
    "        self.battery_size = battery_size\n",
    "   \n",
    "    def describe_battery(self):\n",
    "        print(\"This car has a \"+str(self.battery_size)+\"-kWh battery.\")\n",
    "    \n",
    "    def get_range(self):\n",
    "        if self.battery_size == 70:\n",
    "            range = 240\n",
    "        elif self.battery_size == 85:\n",
    "            range = 270\n",
    "        message = \"This car can go approximately \"+str(range)\n",
    "        message += \" miles on a full charge.\"\n",
    "        print(message)\n",
    "    \n",
    "    def upgrade_battery(self):\n",
    "        if self.battery_size == 70:\n",
    "            self.battery_size = 85\n",
    "            print(\"Updated the battery to 85-kWh.\")\n",
    "        else:\n",
    "            print(\"The battery is already upgraded.\")\n",
    "    \n",
    "class ElectricCar(Car):\n",
    "    def __init__(self, make, model, year):\n",
    "        \n",
    "        \"\"\"Initialize attributes of the parent class\"\"\"\n",
    "        super().__init__(make,model,year)\n",
    "        self.battery = Battery()\n",
    "        \n",
    "    \n",
    "print(\"Make an electric car and check the battery.\")\n",
    "my_tesla = ElectricCar('tesla','model s',2016)\n",
    "my_tesla.battery.describe_battery()\n",
    "\n",
    "print(\"\\nUpgrade the battery and check it again.\")\n",
    "my_tesla.battery.upgrade_battery()\n",
    "my_tesla.battery.describe_battery()\n",
    "\n",
    "\n",
    "print(\"\\nAgain Updating the battery and check it again.\")\n",
    "my_tesla.battery.upgrade_battery()\n",
    "my_tesla.battery.describe_battery()"
   ]
  },
  {
   "cell_type": "code",
   "execution_count": 1,
   "metadata": {},
   "outputs": [],
   "source": [
    "from collections import OrderedDict"
   ]
  },
  {
   "cell_type": "code",
   "execution_count": 2,
   "metadata": {},
   "outputs": [],
   "source": [
    "favorite_languages = OrderedDict()"
   ]
  },
  {
   "cell_type": "code",
   "execution_count": 3,
   "metadata": {},
   "outputs": [
    {
     "name": "stdout",
     "output_type": "stream",
     "text": [
      "Jen 's favorite language is Python.\n",
      "Sarah 's favorite language is C.\n",
      "Edward 's favorite language is Ruby.\n",
      "Phil 's favorite language is Python.\n"
     ]
    }
   ],
   "source": [
    "favorite_languages['jen'] = 'python'\n",
    "favorite_languages['sarah'] = 'c'\n",
    "favorite_languages['edward'] = 'ruby'\n",
    "favorite_languages['phil'] = 'python'\n",
    "\n",
    "for name, language in favorite_languages.items():\n",
    "    print(name.title()+ \" 's favorite language is \"+language.title()+\".\")"
   ]
  },
  {
   "cell_type": "code",
   "execution_count": null,
   "metadata": {},
   "outputs": [],
   "source": []
  }
 ],
 "metadata": {
  "kernelspec": {
   "display_name": "Python 3",
   "language": "python",
   "name": "python3"
  },
  "language_info": {
   "codemirror_mode": {
    "name": "ipython",
    "version": 3
   },
   "file_extension": ".py",
   "mimetype": "text/x-python",
   "name": "python",
   "nbconvert_exporter": "python",
   "pygments_lexer": "ipython3",
   "version": "3.7.3"
  }
 },
 "nbformat": 4,
 "nbformat_minor": 2
}
