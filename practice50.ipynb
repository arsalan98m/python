{
 "cells": [
  {
   "cell_type": "code",
   "execution_count": 1,
   "metadata": {},
   "outputs": [],
   "source": [
    "place = \"world\""
   ]
  },
  {
   "cell_type": "code",
   "execution_count": 2,
   "metadata": {},
   "outputs": [
    {
     "name": "stdout",
     "output_type": "stream",
     "text": [
      "Hello world\n"
     ]
    }
   ],
   "source": [
    "print(\"Hello world\")"
   ]
  },
  {
   "cell_type": "code",
   "execution_count": 3,
   "metadata": {},
   "outputs": [
    {
     "name": "stdout",
     "output_type": "stream",
     "text": [
      "Hello world!\n"
     ]
    }
   ],
   "source": [
    "print(\"Hello \"+place+\"!\")"
   ]
  },
  {
   "cell_type": "code",
   "execution_count": 6,
   "metadata": {},
   "outputs": [
    {
     "name": "stdout",
     "output_type": "stream",
     "text": [
      "Hello world!\n"
     ]
    }
   ],
   "source": [
    "print(\"Hello \",place,\"!\",sep=\"\")"
   ]
  },
  {
   "cell_type": "code",
   "execution_count": 7,
   "metadata": {},
   "outputs": [
    {
     "name": "stdout",
     "output_type": "stream",
     "text": [
      "Hello world!\n"
     ]
    }
   ],
   "source": [
    "print(\"Hello {}!\".format(place))"
   ]
  },
  {
   "cell_type": "code",
   "execution_count": 9,
   "metadata": {},
   "outputs": [
    {
     "name": "stdout",
     "output_type": "stream",
     "text": [
      "Hello world!\n"
     ]
    }
   ],
   "source": [
    "print(f\"Hello {place}!\")"
   ]
  },
  {
   "cell_type": "code",
   "execution_count": 12,
   "metadata": {},
   "outputs": [
    {
     "name": "stdout",
     "output_type": "stream",
     "text": [
      "Hello World!\n"
     ]
    }
   ],
   "source": [
    "print(\"!dlroW olleH\"[::-1])"
   ]
  },
  {
   "cell_type": "code",
   "execution_count": 17,
   "metadata": {},
   "outputs": [
    {
     "name": "stdout",
     "output_type": "stream",
     "text": [
      "Hello World!\n"
     ]
    }
   ],
   "source": [
    "print(\"Hello \"+\"Kevin!\".replace(\"Kevin\",\"World\"))"
   ]
  },
  {
   "cell_type": "code",
   "execution_count": 20,
   "metadata": {},
   "outputs": [
    {
     "name": "stdout",
     "output_type": "stream",
     "text": [
      "Hello World\n"
     ]
    }
   ],
   "source": [
    "print(\"Hello \"+\"Kevin\".translate(str.maketrans(\"Kevin\",\"World\")))"
   ]
  },
  {
   "cell_type": "code",
   "execution_count": 23,
   "metadata": {},
   "outputs": [
    {
     "name": "stdout",
     "output_type": "stream",
     "text": [
      "H,e,l,l,o, ,w,o,r,l,d\n"
     ]
    }
   ],
   "source": [
    "print(','.join('Hello world'))"
   ]
  },
  {
   "cell_type": "code",
   "execution_count": 24,
   "metadata": {},
   "outputs": [
    {
     "name": "stdout",
     "output_type": "stream",
     "text": [
      "Hello\n"
     ]
    }
   ],
   "source": [
    "print(''.join([\"H\",\"e\",\"l\",\"l\",\"o\"]))"
   ]
  },
  {
   "cell_type": "code",
   "execution_count": 31,
   "metadata": {},
   "outputs": [
    {
     "name": "stdout",
     "output_type": "stream",
     "text": [
      "### Example 01 ###\n",
      "Hello world\n",
      "Hello world\n",
      "Hello world\n",
      "\n",
      "\n",
      "\n",
      "List Comprehension\n",
      "Hello world\n",
      "Hello world\n",
      "Hello world\n"
     ]
    },
    {
     "data": {
      "text/plain": [
       "[None, None, None]"
      ]
     },
     "execution_count": 31,
     "metadata": {},
     "output_type": "execute_result"
    }
   ],
   "source": [
    "########################################################\n",
    "print(\"### Example 01 ###\") \n",
    "# print \"hello world\" 3 times without iterator\n",
    "########################################################\n",
    "\n",
    "# For Loop\n",
    "\n",
    "for _ in range(3):\n",
    "    print(\"Hello world\")\n",
    "    \n",
    "\n",
    "\n",
    "# List Comprehension\n",
    "print(\"\\n\\n\\nList Comprehension\")\n",
    "[print(\"Hello world\") for _ in range(3)]"
   ]
  },
  {
   "cell_type": "code",
   "execution_count": 33,
   "metadata": {},
   "outputs": [
    {
     "name": "stdout",
     "output_type": "stream",
     "text": [
      "### Example 02 ###\n",
      "Hello world 0\n",
      "Hello world 1\n",
      "Hello world 2\n",
      "\n",
      "\n",
      "\n",
      "List Comprehension\n",
      "Hello world 0\n",
      "Hello world 1\n",
      "Hello world 2\n"
     ]
    },
    {
     "data": {
      "text/plain": [
       "[None, None, None]"
      ]
     },
     "execution_count": 33,
     "metadata": {},
     "output_type": "execute_result"
    }
   ],
   "source": [
    "########################################################\n",
    "print(\"### Example 02 ###\") \n",
    "# print \"hello world\" 3 times\n",
    "########################################################\n",
    "\n",
    "# for loop\n",
    "for i in range(3):\n",
    "    print(\"Hello world\",i)\n",
    "\n",
    "\n",
    "# List Comprehension\n",
    "print(\"\\n\\n\\nList Comprehension\")\n",
    "[print(\"Hello world\",i) for i in range(3)]"
   ]
  },
  {
   "cell_type": "code",
   "execution_count": 39,
   "metadata": {},
   "outputs": [
    {
     "name": "stdout",
     "output_type": "stream",
     "text": [
      "### Example 03 ###\n",
      "H\n",
      "e\n",
      "l\n",
      "l\n",
      "o\n",
      "\n",
      "\n",
      "\n",
      "List Comprehension\n",
      "H\n",
      "e\n",
      "l\n",
      "l\n",
      "o\n"
     ]
    },
    {
     "data": {
      "text/plain": [
       "[None, None, None, None, None]"
      ]
     },
     "execution_count": 39,
     "metadata": {},
     "output_type": "execute_result"
    }
   ],
   "source": [
    "########################################################\n",
    "print(\"### Example 03 ###\") \n",
    "# print all characters from string\n",
    "########################################################\n",
    "\n",
    "# for loop:\n",
    "\n",
    "for char in \"Hello\":\n",
    "    print(char)\n",
    "    \n",
    "\n",
    "# List Comprehension\n",
    "print(\"\\n\\n\\nList Comprehension\")\n",
    "[print(char) for char in \"Hello\"]\n"
   ]
  },
  {
   "cell_type": "code",
   "execution_count": 42,
   "metadata": {},
   "outputs": [
    {
     "name": "stdout",
     "output_type": "stream",
     "text": [
      "### Example 04 ###\n",
      "Hello\n",
      "world\n",
      "!\n",
      "\n",
      "\n",
      "\n",
      "List Comprehension\n",
      "Hello\n",
      "world\n",
      "!\n"
     ]
    },
    {
     "data": {
      "text/plain": [
       "[None, None, None]"
      ]
     },
     "execution_count": 42,
     "metadata": {},
     "output_type": "execute_result"
    }
   ],
   "source": [
    "########################################################\n",
    "print(\"### Example 04 ###\") \n",
    "# print all elements from list\n",
    "########################################################\n",
    "\n",
    "# for loop\n",
    "for word in [\"Hello\",\"world\",\"!\"]:\n",
    "    print(word)\n",
    "    \n",
    "\n",
    "# List Comprehension\n",
    "print(\"\\n\\n\\nList Comprehension\")\n",
    "[print(word) for word in [\"Hello\",\"world\",\"!\"]]"
   ]
  },
  {
   "cell_type": "code",
   "execution_count": 49,
   "metadata": {},
   "outputs": [
    {
     "name": "stdout",
     "output_type": "stream",
     "text": [
      "### Example 04 ###\n",
      "55\n",
      "\n",
      "\n",
      "\n",
      "List Comprehension\n"
     ]
    },
    {
     "data": {
      "text/plain": [
       "[55]"
      ]
     },
     "execution_count": 49,
     "metadata": {},
     "output_type": "execute_result"
    }
   ],
   "source": [
    "########################################################\n",
    "print(\"### Example 04 ###\") \n",
    "# print sum of integer array\n",
    "########################################################\n",
    "\n",
    "# for loop\n",
    "total = 0\n",
    "numbers = [1, 2,3,4,5,6,7,8,9,10]\n",
    "\n",
    "for number in numbers:\n",
    "    total += number\n",
    "print(total)\n",
    "\n",
    "\n",
    "# List Comprehension\n",
    "print(\"\\n\\n\\nList Comprehension\")\n",
    "[sum([number for number in numbers])]"
   ]
  },
  {
   "cell_type": "code",
   "execution_count": 51,
   "metadata": {},
   "outputs": [
    {
     "name": "stdout",
     "output_type": "stream",
     "text": [
      "### Example 04 ###\n",
      "30\n",
      "\n",
      "\n",
      "\n",
      "List Comprehension\n"
     ]
    },
    {
     "data": {
      "text/plain": [
       "[30]"
      ]
     },
     "execution_count": 51,
     "metadata": {},
     "output_type": "execute_result"
    }
   ],
   "source": [
    "########################################################\n",
    "print(\"### Example 04 ###\") \n",
    "# print sum of even integer only\n",
    "########################################################\n",
    "\n",
    "# for loop\n",
    "total = 0\n",
    "numbers = [1, 2,3,4,5,6,7,8,9,10]\n",
    "\n",
    "for number in numbers:\n",
    "    if number % 2 == 0:\n",
    "        total += number\n",
    "print(total)\n",
    "\n",
    "\n",
    "# List Comprehension\n",
    "print(\"\\n\\n\\nList Comprehension\")\n",
    "[sum([number for number in numbers if number % 2 == 0])]"
   ]
  },
  {
   "cell_type": "code",
   "execution_count": null,
   "metadata": {},
   "outputs": [],
   "source": []
  }
 ],
 "metadata": {
  "kernelspec": {
   "display_name": "Python 3",
   "language": "python",
   "name": "python3"
  },
  "language_info": {
   "codemirror_mode": {
    "name": "ipython",
    "version": 3
   },
   "file_extension": ".py",
   "mimetype": "text/x-python",
   "name": "python",
   "nbconvert_exporter": "python",
   "pygments_lexer": "ipython3",
   "version": "3.7.3"
  }
 },
 "nbformat": 4,
 "nbformat_minor": 2
}
