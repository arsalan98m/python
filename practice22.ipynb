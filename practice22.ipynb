{
 "cells": [
  {
   "cell_type": "code",
   "execution_count": 1,
   "metadata": {},
   "outputs": [],
   "source": [
    "customer_ids = [101, 102, 103]"
   ]
  },
  {
   "cell_type": "code",
   "execution_count": 2,
   "metadata": {},
   "outputs": [],
   "source": [
    "customers = [\n",
    "     {\n",
    "         \"customer id\": customer_ids[0],\n",
    "         \"first name\": \"imran\",\n",
    "         \"last name\": \"khan\",\n",
    "         \"address\" : \"bani gala\",\n",
    "     },\n",
    "    {\n",
    "        \"customer id\": customer_ids[1],\n",
    "        \"first name\": \"danish\",\n",
    "        \"last name\": \"farooq\",\n",
    "        \"address\": \"lalo khait\"\n",
    "    },\n",
    "    {\n",
    "        \"customer id\": customer_ids[2],\n",
    "        \"first name\": \"owais\",\n",
    "        \"last name\": \"siddiqui\",\n",
    "        \"address\" : \"piyala hotel\"\n",
    "    }\n",
    "]"
   ]
  },
  {
   "cell_type": "code",
   "execution_count": 7,
   "metadata": {},
   "outputs": [
    {
     "data": {
      "text/plain": [
       "'lalo khait'"
      ]
     },
     "execution_count": 7,
     "metadata": {},
     "output_type": "execute_result"
    }
   ],
   "source": [
    "dictionary_to_look_in = customers[1]\n",
    "customer_address = dictionary_to_look_in[\"address\"]\n",
    "customer_address"
   ]
  },
  {
   "cell_type": "code",
   "execution_count": 12,
   "metadata": {},
   "outputs": [
    {
     "data": {
      "text/plain": [
       "{'customer id': 102,\n",
       " 'first name': 'danish',\n",
       " 'last name': 'farooq',\n",
       " 'address': 'lalo khait'}"
      ]
     },
     "execution_count": 12,
     "metadata": {},
     "output_type": "execute_result"
    }
   ],
   "source": [
    "customers[1]"
   ]
  },
  {
   "cell_type": "code",
   "execution_count": 13,
   "metadata": {},
   "outputs": [],
   "source": [
    "new_customer_id = len(customers)"
   ]
  },
  {
   "cell_type": "code",
   "execution_count": 15,
   "metadata": {},
   "outputs": [],
   "source": [
    "new_first_name = \"adil\"\n",
    "new_last_name = \"kareem\"\n",
    "new_address = \"fb area\"\n",
    "\n",
    "new_dictionary = {\n",
    " 'customer id': new_customer_id,\n",
    " 'first name': new_first_name,\n",
    " 'last name': new_last_name,\n",
    " 'address': new_address\n",
    "}"
   ]
  },
  {
   "cell_type": "code",
   "execution_count": 16,
   "metadata": {},
   "outputs": [],
   "source": [
    "customers.append(new_dictionary)"
   ]
  },
  {
   "cell_type": "code",
   "execution_count": 17,
   "metadata": {},
   "outputs": [
    {
     "data": {
      "text/plain": [
       "[{'customer id': 101,\n",
       "  'first name': 'imran',\n",
       "  'last name': 'khan',\n",
       "  'address': 'bani gala'},\n",
       " {'customer id': 102,\n",
       "  'first name': 'danish',\n",
       "  'last name': 'farooq',\n",
       "  'address': 'lalo khait'},\n",
       " {'customer id': 103,\n",
       "  'first name': 'owais',\n",
       "  'last name': 'siddiqui',\n",
       "  'address': 'piyala hotel'},\n",
       " {'customer id': 3,\n",
       "  'first name': 'adil',\n",
       "  'last name': 'kareem',\n",
       "  'address': 'fb area'}]"
      ]
     },
     "execution_count": 17,
     "metadata": {},
     "output_type": "execute_result"
    }
   ],
   "source": [
    "customers"
   ]
  },
  {
   "cell_type": "code",
   "execution_count": 18,
   "metadata": {},
   "outputs": [],
   "source": [
    "new_customer_id = len(customer_ids)\n",
    "new_first_name = \"jawaid\"\n",
    "new_last_name = \"akhtar\"\n",
    "new_address = \"fb area\""
   ]
  },
  {
   "cell_type": "code",
   "execution_count": 19,
   "metadata": {},
   "outputs": [
    {
     "data": {
      "text/plain": [
       "[{'customer id': 101,\n",
       "  'first name': 'imran',\n",
       "  'last name': 'khan',\n",
       "  'address': 'bani gala'},\n",
       " {'customer id': 102,\n",
       "  'first name': 'danish',\n",
       "  'last name': 'farooq',\n",
       "  'address': 'lalo khait'},\n",
       " {'customer id': 103,\n",
       "  'first name': 'owais',\n",
       "  'last name': 'siddiqui',\n",
       "  'address': 'piyala hotel'},\n",
       " {'customer id': 3,\n",
       "  'first name': 'adil',\n",
       "  'last name': 'kareem',\n",
       "  'address': 'fb area'},\n",
       " {'customer id': 3,\n",
       "  'first name': 'adil',\n",
       "  'last name': 'kareem',\n",
       "  'address': 'fb area'}]"
      ]
     },
     "execution_count": 19,
     "metadata": {},
     "output_type": "execute_result"
    }
   ],
   "source": [
    "customers.append(new_dictionary)\n",
    "customers"
   ]
  },
  {
   "cell_type": "code",
   "execution_count": 20,
   "metadata": {},
   "outputs": [],
   "source": [
    "customer_29876 = {\n",
    " 'first name': \"khurram\",\n",
    " 'last name': \"khan\",\n",
    " 'address': \"fb area\",\n",
    " 'discounts': [\"standard\", \"volume\", \"loyalty\"],\n",
    "}\n"
   ]
  },
  {
   "cell_type": "code",
   "execution_count": 21,
   "metadata": {},
   "outputs": [
    {
     "data": {
      "text/plain": [
       "0.15"
      ]
     },
     "execution_count": 21,
     "metadata": {},
     "output_type": "execute_result"
    }
   ],
   "source": [
    "if  \"brother-in-law\" in customer_29876[\"discounts\"]:\n",
    "    discount_amount = .30\n",
    "elif \"loyalty\" in customer_29876[\"discounts\"]:\n",
    "    discount_amount = .15\n",
    "elif \"volume\" in customer_29876[\"discounts\"]:\n",
    "    discount_amount = .10\n",
    "elif \"standard\" in customer_29876[\"discounts\"]:\n",
    "    discount_amount = .05\n",
    "discount_amount"
   ]
  },
  {
   "cell_type": "code",
   "execution_count": 24,
   "metadata": {},
   "outputs": [],
   "source": [
    "customers = {\n",
    "     \"customer_1\": {\n",
    "         \n",
    "         \"first name\": \"imran\",\n",
    "         \"last name\": \"khan\",\n",
    "         \"address\" : \"bani gala\",\n",
    "     },\n",
    "    \"customer_2\":{\n",
    "        \"first name\": \"danish\",\n",
    "        \"last name\": \"farooq\",\n",
    "        \"address\": \"lalo khait\"\n",
    "    },\n",
    "    \"customer_3\":{\n",
    "        \"first name\": \"owais\",\n",
    "        \"last name\": \"siddiqui\",\n",
    "        \"address\" : \"piyala hotel\"\n",
    "    }\n",
    "}"
   ]
  },
  {
   "cell_type": "code",
   "execution_count": 25,
   "metadata": {},
   "outputs": [
    {
     "data": {
      "text/plain": [
       "{'customer_1': {'first name': 'imran',\n",
       "  'last name': 'khan',\n",
       "  'address': 'bani gala'},\n",
       " 'customer_2': {'first name': 'danish',\n",
       "  'last name': 'farooq',\n",
       "  'address': 'lalo khait'},\n",
       " 'customer_3': {'first name': 'owais',\n",
       "  'last name': 'siddiqui',\n",
       "  'address': 'piyala hotel'}}"
      ]
     },
     "execution_count": 25,
     "metadata": {},
     "output_type": "execute_result"
    }
   ],
   "source": [
    "customers"
   ]
  },
  {
   "cell_type": "code",
   "execution_count": 26,
   "metadata": {},
   "outputs": [
    {
     "data": {
      "text/plain": [
       "{'first name': 'danish', 'last name': 'farooq', 'address': 'lalo khait'}"
      ]
     },
     "execution_count": 26,
     "metadata": {},
     "output_type": "execute_result"
    }
   ],
   "source": [
    "customers[\"customer_2\"]"
   ]
  },
  {
   "cell_type": "code",
   "execution_count": 27,
   "metadata": {},
   "outputs": [
    {
     "data": {
      "text/plain": [
       "'bani gala'"
      ]
     },
     "execution_count": 27,
     "metadata": {},
     "output_type": "execute_result"
    }
   ],
   "source": [
    "customers[\"customer_1\"][\"address\"]"
   ]
  },
  {
   "cell_type": "code",
   "execution_count": 28,
   "metadata": {},
   "outputs": [],
   "source": [
    "my_dic = {\"name\": \"Arsalan\", \"age\": 23, \"Gender\": \"Male\",}"
   ]
  },
  {
   "cell_type": "code",
   "execution_count": 29,
   "metadata": {},
   "outputs": [
    {
     "data": {
      "text/plain": [
       "3"
      ]
     },
     "execution_count": 29,
     "metadata": {},
     "output_type": "execute_result"
    }
   ],
   "source": [
    "len(my_dic)"
   ]
  },
  {
   "cell_type": "code",
   "execution_count": 31,
   "metadata": {},
   "outputs": [],
   "source": [
    "my_dic[\"email\"] = \"abc@gmail.com\""
   ]
  },
  {
   "cell_type": "code",
   "execution_count": 32,
   "metadata": {},
   "outputs": [
    {
     "data": {
      "text/plain": [
       "{'name': 'Arsalan', 'age': 23, 'Gender': 'Male', 'email': 'abc@gmail.com'}"
      ]
     },
     "execution_count": 32,
     "metadata": {},
     "output_type": "execute_result"
    }
   ],
   "source": [
    "my_dic"
   ]
  },
  {
   "cell_type": "code",
   "execution_count": 33,
   "metadata": {},
   "outputs": [],
   "source": [
    "new_dic = {1: \"IMRAN\", 2: \"HASHIM\"}"
   ]
  },
  {
   "cell_type": "code",
   "execution_count": 34,
   "metadata": {},
   "outputs": [
    {
     "data": {
      "text/plain": [
       "'HASHIM'"
      ]
     },
     "execution_count": 34,
     "metadata": {},
     "output_type": "execute_result"
    }
   ],
   "source": [
    "new_dic[2]"
   ]
  },
  {
   "cell_type": "code",
   "execution_count": 35,
   "metadata": {},
   "outputs": [],
   "source": [
    "del new_dic[1]"
   ]
  },
  {
   "cell_type": "code",
   "execution_count": 36,
   "metadata": {},
   "outputs": [
    {
     "data": {
      "text/plain": [
       "{2: 'HASHIM'}"
      ]
     },
     "execution_count": 36,
     "metadata": {},
     "output_type": "execute_result"
    }
   ],
   "source": [
    "new_dic"
   ]
  },
  {
   "cell_type": "code",
   "execution_count": 37,
   "metadata": {},
   "outputs": [],
   "source": [
    "my_dic[\"email\"] = \"arsalan@gmail.com\""
   ]
  },
  {
   "cell_type": "code",
   "execution_count": 38,
   "metadata": {},
   "outputs": [
    {
     "data": {
      "text/plain": [
       "{'name': 'Arsalan', 'age': 23, 'Gender': 'Male', 'email': 'arsalan@gmail.com'}"
      ]
     },
     "execution_count": 38,
     "metadata": {},
     "output_type": "execute_result"
    }
   ],
   "source": [
    "my_dic"
   ]
  },
  {
   "cell_type": "code",
   "execution_count": 39,
   "metadata": {},
   "outputs": [],
   "source": [
    "aDic = {1:100, 2:200, 3:300, 4: 400, 1:1000}"
   ]
  },
  {
   "cell_type": "code",
   "execution_count": 40,
   "metadata": {},
   "outputs": [
    {
     "data": {
      "text/plain": [
       "{1: 1000, 2: 200, 3: 300, 4: 400}"
      ]
     },
     "execution_count": 40,
     "metadata": {},
     "output_type": "execute_result"
    }
   ],
   "source": [
    "aDic"
   ]
  },
  {
   "cell_type": "code",
   "execution_count": 41,
   "metadata": {},
   "outputs": [
    {
     "data": {
      "text/plain": [
       "True"
      ]
     },
     "execution_count": 41,
     "metadata": {},
     "output_type": "execute_result"
    }
   ],
   "source": [
    "1 in aDic"
   ]
  },
  {
   "cell_type": "code",
   "execution_count": 42,
   "metadata": {},
   "outputs": [
    {
     "data": {
      "text/plain": [
       "False"
      ]
     },
     "execution_count": 42,
     "metadata": {},
     "output_type": "execute_result"
    }
   ],
   "source": [
    "100 in aDic"
   ]
  },
  {
   "cell_type": "code",
   "execution_count": 43,
   "metadata": {},
   "outputs": [
    {
     "data": {
      "text/plain": [
       "True"
      ]
     },
     "execution_count": 43,
     "metadata": {},
     "output_type": "execute_result"
    }
   ],
   "source": [
    "\"age\" in my_dic"
   ]
  },
  {
   "cell_type": "code",
   "execution_count": 45,
   "metadata": {},
   "outputs": [],
   "source": [
    "student = {'Name': 'Arsalan', 'Class': 'AI', 'Program': 'PIAIC', 'Age': 42}"
   ]
  },
  {
   "cell_type": "code",
   "execution_count": 47,
   "metadata": {},
   "outputs": [
    {
     "name": "stdout",
     "output_type": "stream",
     "text": [
      "Name\n",
      "Class\n",
      "Program\n",
      "Age\n"
     ]
    }
   ],
   "source": [
    "for value in student.keys():\n",
    "    print(value)"
   ]
  },
  {
   "cell_type": "code",
   "execution_count": 49,
   "metadata": {},
   "outputs": [
    {
     "name": "stdout",
     "output_type": "stream",
     "text": [
      "Arsalan\n",
      "AI\n",
      "PIAIC\n",
      "42\n"
     ]
    }
   ],
   "source": [
    "for value in student.values():\n",
    "    print(value)"
   ]
  },
  {
   "cell_type": "code",
   "execution_count": 66,
   "metadata": {},
   "outputs": [
    {
     "name": "stdout",
     "output_type": "stream",
     "text": [
      "Name: Arsalan\n",
      "Class: AI\n",
      "Program: PIAIC\n",
      "Age: 42\n"
     ]
    }
   ],
   "source": [
    "for key, value in student.items():\n",
    "    print(f\"{key}: {value}\")"
   ]
  },
  {
   "cell_type": "code",
   "execution_count": 67,
   "metadata": {},
   "outputs": [],
   "source": [
    "students =[]"
   ]
  },
  {
   "cell_type": "code",
   "execution_count": 68,
   "metadata": {},
   "outputs": [],
   "source": [
    "students.append({'Name': 'Ali', 'Class':'AI', 'Campues': 'PIAIC Campus 1'})"
   ]
  },
  {
   "cell_type": "code",
   "execution_count": 69,
   "metadata": {},
   "outputs": [],
   "source": [
    "students.append({'Name': 'Noman', 'Class':'AI', 'Campues': 'PIAIC Campus 2'})"
   ]
  },
  {
   "cell_type": "code",
   "execution_count": 70,
   "metadata": {},
   "outputs": [
    {
     "data": {
      "text/plain": [
       "[{'Name': 'Ali', 'Class': 'AI', 'Campues': 'PIAIC Campus 1'},\n",
       " {'Name': 'Noman', 'Class': 'AI', 'Campues': 'PIAIC Campus 2'}]"
      ]
     },
     "execution_count": 70,
     "metadata": {},
     "output_type": "execute_result"
    }
   ],
   "source": [
    "students"
   ]
  },
  {
   "cell_type": "code",
   "execution_count": 71,
   "metadata": {},
   "outputs": [
    {
     "name": "stdout",
     "output_type": "stream",
     "text": [
      "{'Name': 'Ali', 'Class': 'AI', 'Campues': 'PIAIC Campus 1'}\n",
      "{'Name': 'Noman', 'Class': 'AI', 'Campues': 'PIAIC Campus 2'}\n"
     ]
    }
   ],
   "source": [
    "for student in students:\n",
    "    print(student)"
   ]
  },
  {
   "cell_type": "code",
   "execution_count": 75,
   "metadata": {},
   "outputs": [
    {
     "name": "stdout",
     "output_type": "stream",
     "text": [
      "Name : Ali\n",
      "Class : AI\n",
      "Campues : PIAIC Campus 1\n",
      "\n",
      "Name : Noman\n",
      "Class : AI\n",
      "Campues : PIAIC Campus 2\n",
      "\n"
     ]
    }
   ],
   "source": [
    "for student in students:\n",
    "    for a,b in student.items():\n",
    "        print(a,\":\",b)\n",
    "    print(\"\")\n",
    "    "
   ]
  },
  {
   "cell_type": "code",
   "execution_count": 76,
   "metadata": {},
   "outputs": [],
   "source": [
    "employee = {'Name': 'Shams', \n",
    "            'Children': {'Humaira':{'Age': 10, 'Class': '6th Standard'},\n",
    "                         'Abdul Rehman': {'Age': 8, 'Class': '4th Standard'}}}"
   ]
  },
  {
   "cell_type": "code",
   "execution_count": 78,
   "metadata": {},
   "outputs": [
    {
     "name": "stdout",
     "output_type": "stream",
     "text": [
      "{'Age': 10, 'Class': '6th Standard'}\n"
     ]
    }
   ],
   "source": [
    "print(employee['Children']['Humaira'])"
   ]
  },
  {
   "cell_type": "code",
   "execution_count": 80,
   "metadata": {},
   "outputs": [
    {
     "name": "stdout",
     "output_type": "stream",
     "text": [
      "8\n"
     ]
    }
   ],
   "source": [
    "print(employee['Children']['Abdul Rehman']['Age'])"
   ]
  },
  {
   "cell_type": "code",
   "execution_count": null,
   "metadata": {},
   "outputs": [],
   "source": []
  }
 ],
 "metadata": {
  "kernelspec": {
   "display_name": "Python 3",
   "language": "python",
   "name": "python3"
  },
  "language_info": {
   "codemirror_mode": {
    "name": "ipython",
    "version": 3
   },
   "file_extension": ".py",
   "mimetype": "text/x-python",
   "name": "python",
   "nbconvert_exporter": "python",
   "pygments_lexer": "ipython3",
   "version": "3.7.3"
  }
 },
 "nbformat": 4,
 "nbformat_minor": 2
}
