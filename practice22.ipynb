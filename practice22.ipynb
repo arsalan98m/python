{
 "cells": [
  {
   "cell_type": "code",
   "execution_count": 1,
   "metadata": {},
   "outputs": [],
   "source": [
    "customer_ids = [101, 102, 103]"
   ]
  },
  {
   "cell_type": "code",
   "execution_count": 2,
   "metadata": {},
   "outputs": [],
   "source": [
    "customers = [\n",
    "     {\n",
    "         \"customer id\": customer_ids[0],\n",
    "         \"first name\": \"imran\",\n",
    "         \"last name\": \"khan\",\n",
    "         \"address\" : \"bani gala\",\n",
    "     },\n",
    "    {\n",
    "        \"customer id\": customer_ids[1],\n",
    "        \"first name\": \"danish\",\n",
    "        \"last name\": \"farooq\",\n",
    "        \"address\": \"lalo khait\"\n",
    "    },\n",
    "    {\n",
    "        \"customer id\": customer_ids[2],\n",
    "        \"first name\": \"owais\",\n",
    "        \"last name\": \"siddiqui\",\n",
    "        \"address\" : \"piyala hotel\"\n",
    "    }\n",
    "]"
   ]
  },
  {
   "cell_type": "code",
   "execution_count": 3,
   "metadata": {},
   "outputs": [
    {
     "data": {
      "text/plain": [
       "'lalo khait'"
      ]
     },
     "execution_count": 3,
     "metadata": {},
     "output_type": "execute_result"
    }
   ],
   "source": [
    "dictionary_to_look_in = customers[1]\n",
    "customer_address = dictionary_to_look_in[\"address\"]\n",
    "customer_address"
   ]
  },
  {
   "cell_type": "code",
   "execution_count": 4,
   "metadata": {},
   "outputs": [
    {
     "data": {
      "text/plain": [
       "{'customer id': 102,\n",
       " 'first name': 'danish',\n",
       " 'last name': 'farooq',\n",
       " 'address': 'lalo khait'}"
      ]
     },
     "execution_count": 4,
     "metadata": {},
     "output_type": "execute_result"
    }
   ],
   "source": [
    "customers[1]"
   ]
  },
  {
   "cell_type": "code",
   "execution_count": 5,
   "metadata": {},
   "outputs": [],
   "source": [
    "new_customer_id = len(customers)"
   ]
  },
  {
   "cell_type": "code",
   "execution_count": 6,
   "metadata": {},
   "outputs": [],
   "source": [
    "new_first_name = \"adil\"\n",
    "new_last_name = \"kareem\"\n",
    "new_address = \"fb area\"\n",
    "\n",
    "new_dictionary = {\n",
    " 'customer id': new_customer_id,\n",
    " 'first name': new_first_name,\n",
    " 'last name': new_last_name,\n",
    " 'address': new_address\n",
    "}"
   ]
  },
  {
   "cell_type": "code",
   "execution_count": 7,
   "metadata": {},
   "outputs": [],
   "source": [
    "customers.append(new_dictionary)"
   ]
  },
  {
   "cell_type": "code",
   "execution_count": 8,
   "metadata": {},
   "outputs": [
    {
     "data": {
      "text/plain": [
       "[{'customer id': 101,\n",
       "  'first name': 'imran',\n",
       "  'last name': 'khan',\n",
       "  'address': 'bani gala'},\n",
       " {'customer id': 102,\n",
       "  'first name': 'danish',\n",
       "  'last name': 'farooq',\n",
       "  'address': 'lalo khait'},\n",
       " {'customer id': 103,\n",
       "  'first name': 'owais',\n",
       "  'last name': 'siddiqui',\n",
       "  'address': 'piyala hotel'},\n",
       " {'customer id': 3,\n",
       "  'first name': 'adil',\n",
       "  'last name': 'kareem',\n",
       "  'address': 'fb area'}]"
      ]
     },
     "execution_count": 8,
     "metadata": {},
     "output_type": "execute_result"
    }
   ],
   "source": [
    "customers"
   ]
  },
  {
   "cell_type": "code",
   "execution_count": 9,
   "metadata": {},
   "outputs": [],
   "source": [
    "new_customer_id = len(customer_ids)\n",
    "new_first_name = \"jawaid\"\n",
    "new_last_name = \"akhtar\"\n",
    "new_address = \"fb area\""
   ]
  },
  {
   "cell_type": "code",
   "execution_count": 10,
   "metadata": {},
   "outputs": [
    {
     "data": {
      "text/plain": [
       "[{'customer id': 101,\n",
       "  'first name': 'imran',\n",
       "  'last name': 'khan',\n",
       "  'address': 'bani gala'},\n",
       " {'customer id': 102,\n",
       "  'first name': 'danish',\n",
       "  'last name': 'farooq',\n",
       "  'address': 'lalo khait'},\n",
       " {'customer id': 103,\n",
       "  'first name': 'owais',\n",
       "  'last name': 'siddiqui',\n",
       "  'address': 'piyala hotel'},\n",
       " {'customer id': 3,\n",
       "  'first name': 'adil',\n",
       "  'last name': 'kareem',\n",
       "  'address': 'fb area'},\n",
       " {'customer id': 3,\n",
       "  'first name': 'adil',\n",
       "  'last name': 'kareem',\n",
       "  'address': 'fb area'}]"
      ]
     },
     "execution_count": 10,
     "metadata": {},
     "output_type": "execute_result"
    }
   ],
   "source": [
    "customers.append(new_dictionary)\n",
    "customers"
   ]
  },
  {
   "cell_type": "code",
   "execution_count": 11,
   "metadata": {},
   "outputs": [],
   "source": [
    "customer_29876 = {\n",
    " 'first name': \"khurram\",\n",
    " 'last name': \"khan\",\n",
    " 'address': \"fb area\",\n",
    " 'discounts': [\"standard\", \"volume\", \"loyalty\"],\n",
    "}\n"
   ]
  },
  {
   "cell_type": "code",
   "execution_count": 12,
   "metadata": {},
   "outputs": [
    {
     "data": {
      "text/plain": [
       "0.15"
      ]
     },
     "execution_count": 12,
     "metadata": {},
     "output_type": "execute_result"
    }
   ],
   "source": [
    "if  \"brother-in-law\" in customer_29876[\"discounts\"]:\n",
    "    discount_amount = .30\n",
    "elif \"loyalty\" in customer_29876[\"discounts\"]:\n",
    "    discount_amount = .15\n",
    "elif \"volume\" in customer_29876[\"discounts\"]:\n",
    "    discount_amount = .10\n",
    "elif \"standard\" in customer_29876[\"discounts\"]:\n",
    "    discount_amount = .05\n",
    "discount_amount"
   ]
  },
  {
   "cell_type": "code",
   "execution_count": 13,
   "metadata": {},
   "outputs": [],
   "source": [
    "customers = {\n",
    "     \"customer_1\": {\n",
    "         \n",
    "         \"first name\": \"imran\",\n",
    "         \"last name\": \"khan\",\n",
    "         \"address\" : \"bani gala\",\n",
    "     },\n",
    "    \"customer_2\":{\n",
    "        \"first name\": \"danish\",\n",
    "        \"last name\": \"farooq\",\n",
    "        \"address\": \"lalo khait\"\n",
    "    },\n",
    "    \"customer_3\":{\n",
    "        \"first name\": \"owais\",\n",
    "        \"last name\": \"siddiqui\",\n",
    "        \"address\" : \"piyala hotel\"\n",
    "    }\n",
    "}"
   ]
  },
  {
   "cell_type": "code",
   "execution_count": 14,
   "metadata": {},
   "outputs": [
    {
     "data": {
      "text/plain": [
       "{'customer_1': {'first name': 'imran',\n",
       "  'last name': 'khan',\n",
       "  'address': 'bani gala'},\n",
       " 'customer_2': {'first name': 'danish',\n",
       "  'last name': 'farooq',\n",
       "  'address': 'lalo khait'},\n",
       " 'customer_3': {'first name': 'owais',\n",
       "  'last name': 'siddiqui',\n",
       "  'address': 'piyala hotel'}}"
      ]
     },
     "execution_count": 14,
     "metadata": {},
     "output_type": "execute_result"
    }
   ],
   "source": [
    "customers"
   ]
  },
  {
   "cell_type": "code",
   "execution_count": 15,
   "metadata": {},
   "outputs": [
    {
     "data": {
      "text/plain": [
       "{'first name': 'danish', 'last name': 'farooq', 'address': 'lalo khait'}"
      ]
     },
     "execution_count": 15,
     "metadata": {},
     "output_type": "execute_result"
    }
   ],
   "source": [
    "customers[\"customer_2\"]"
   ]
  },
  {
   "cell_type": "code",
   "execution_count": 16,
   "metadata": {},
   "outputs": [
    {
     "data": {
      "text/plain": [
       "'bani gala'"
      ]
     },
     "execution_count": 16,
     "metadata": {},
     "output_type": "execute_result"
    }
   ],
   "source": [
    "customers[\"customer_1\"][\"address\"]"
   ]
  },
  {
   "cell_type": "code",
   "execution_count": 17,
   "metadata": {},
   "outputs": [],
   "source": [
    "my_dic = {\"name\": \"Arsalan\", \"age\": 23, \"Gender\": \"Male\",}"
   ]
  },
  {
   "cell_type": "code",
   "execution_count": 18,
   "metadata": {},
   "outputs": [
    {
     "data": {
      "text/plain": [
       "3"
      ]
     },
     "execution_count": 18,
     "metadata": {},
     "output_type": "execute_result"
    }
   ],
   "source": [
    "len(my_dic)"
   ]
  },
  {
   "cell_type": "code",
   "execution_count": 19,
   "metadata": {},
   "outputs": [],
   "source": [
    "my_dic[\"email\"] = \"abc@gmail.com\""
   ]
  },
  {
   "cell_type": "code",
   "execution_count": 20,
   "metadata": {},
   "outputs": [
    {
     "data": {
      "text/plain": [
       "{'name': 'Arsalan', 'age': 23, 'Gender': 'Male', 'email': 'abc@gmail.com'}"
      ]
     },
     "execution_count": 20,
     "metadata": {},
     "output_type": "execute_result"
    }
   ],
   "source": [
    "my_dic"
   ]
  },
  {
   "cell_type": "code",
   "execution_count": 21,
   "metadata": {},
   "outputs": [],
   "source": [
    "new_dic = {1: \"IMRAN\", 2: \"HASHIM\"}"
   ]
  },
  {
   "cell_type": "code",
   "execution_count": 22,
   "metadata": {},
   "outputs": [
    {
     "data": {
      "text/plain": [
       "'HASHIM'"
      ]
     },
     "execution_count": 22,
     "metadata": {},
     "output_type": "execute_result"
    }
   ],
   "source": [
    "new_dic[2]"
   ]
  },
  {
   "cell_type": "code",
   "execution_count": 23,
   "metadata": {},
   "outputs": [],
   "source": [
    "del new_dic[1]"
   ]
  },
  {
   "cell_type": "code",
   "execution_count": 24,
   "metadata": {},
   "outputs": [
    {
     "data": {
      "text/plain": [
       "{2: 'HASHIM'}"
      ]
     },
     "execution_count": 24,
     "metadata": {},
     "output_type": "execute_result"
    }
   ],
   "source": [
    "new_dic"
   ]
  },
  {
   "cell_type": "code",
   "execution_count": 25,
   "metadata": {},
   "outputs": [],
   "source": [
    "my_dic[\"email\"] = \"arsalan@gmail.com\""
   ]
  },
  {
   "cell_type": "code",
   "execution_count": 26,
   "metadata": {},
   "outputs": [
    {
     "data": {
      "text/plain": [
       "{'name': 'Arsalan', 'age': 23, 'Gender': 'Male', 'email': 'arsalan@gmail.com'}"
      ]
     },
     "execution_count": 26,
     "metadata": {},
     "output_type": "execute_result"
    }
   ],
   "source": [
    "my_dic"
   ]
  },
  {
   "cell_type": "code",
   "execution_count": 27,
   "metadata": {},
   "outputs": [],
   "source": [
    "aDic = {1:100, 2:200, 3:300, 4: 400, 1:1000}"
   ]
  },
  {
   "cell_type": "code",
   "execution_count": 28,
   "metadata": {},
   "outputs": [
    {
     "data": {
      "text/plain": [
       "{1: 1000, 2: 200, 3: 300, 4: 400}"
      ]
     },
     "execution_count": 28,
     "metadata": {},
     "output_type": "execute_result"
    }
   ],
   "source": [
    "aDic"
   ]
  },
  {
   "cell_type": "code",
   "execution_count": 29,
   "metadata": {},
   "outputs": [
    {
     "data": {
      "text/plain": [
       "True"
      ]
     },
     "execution_count": 29,
     "metadata": {},
     "output_type": "execute_result"
    }
   ],
   "source": [
    "1 in aDic"
   ]
  },
  {
   "cell_type": "code",
   "execution_count": 30,
   "metadata": {},
   "outputs": [
    {
     "data": {
      "text/plain": [
       "False"
      ]
     },
     "execution_count": 30,
     "metadata": {},
     "output_type": "execute_result"
    }
   ],
   "source": [
    "100 in aDic"
   ]
  },
  {
   "cell_type": "code",
   "execution_count": 31,
   "metadata": {},
   "outputs": [
    {
     "data": {
      "text/plain": [
       "True"
      ]
     },
     "execution_count": 31,
     "metadata": {},
     "output_type": "execute_result"
    }
   ],
   "source": [
    "\"age\" in my_dic"
   ]
  },
  {
   "cell_type": "code",
   "execution_count": 32,
   "metadata": {},
   "outputs": [],
   "source": [
    "student = {'Name': 'Arsalan', 'Class': 'AI', 'Program': 'PIAIC', 'Age': 42}"
   ]
  },
  {
   "cell_type": "code",
   "execution_count": 33,
   "metadata": {},
   "outputs": [
    {
     "name": "stdout",
     "output_type": "stream",
     "text": [
      "Name\n",
      "Class\n",
      "Program\n",
      "Age\n"
     ]
    }
   ],
   "source": [
    "for value in student.keys():\n",
    "    print(value)"
   ]
  },
  {
   "cell_type": "code",
   "execution_count": 34,
   "metadata": {},
   "outputs": [
    {
     "name": "stdout",
     "output_type": "stream",
     "text": [
      "Arsalan\n",
      "AI\n",
      "PIAIC\n",
      "42\n"
     ]
    }
   ],
   "source": [
    "for value in student.values():\n",
    "    print(value)"
   ]
  },
  {
   "cell_type": "code",
   "execution_count": 35,
   "metadata": {},
   "outputs": [
    {
     "name": "stdout",
     "output_type": "stream",
     "text": [
      "Name: Arsalan\n",
      "Class: AI\n",
      "Program: PIAIC\n",
      "Age: 42\n"
     ]
    }
   ],
   "source": [
    "for key, value in student.items():\n",
    "    print(f\"{key}: {value}\")"
   ]
  },
  {
   "cell_type": "code",
   "execution_count": 36,
   "metadata": {},
   "outputs": [],
   "source": [
    "students =[]"
   ]
  },
  {
   "cell_type": "code",
   "execution_count": 37,
   "metadata": {},
   "outputs": [],
   "source": [
    "students.append({'Name': 'Ali', 'Class':'AI', 'Campues': 'PIAIC Campus 1'})"
   ]
  },
  {
   "cell_type": "code",
   "execution_count": 38,
   "metadata": {},
   "outputs": [],
   "source": [
    "students.append({'Name': 'Noman', 'Class':'AI', 'Campues': 'PIAIC Campus 2'})"
   ]
  },
  {
   "cell_type": "code",
   "execution_count": 39,
   "metadata": {},
   "outputs": [
    {
     "data": {
      "text/plain": [
       "[{'Name': 'Ali', 'Class': 'AI', 'Campues': 'PIAIC Campus 1'},\n",
       " {'Name': 'Noman', 'Class': 'AI', 'Campues': 'PIAIC Campus 2'}]"
      ]
     },
     "execution_count": 39,
     "metadata": {},
     "output_type": "execute_result"
    }
   ],
   "source": [
    "students"
   ]
  },
  {
   "cell_type": "code",
   "execution_count": 40,
   "metadata": {},
   "outputs": [
    {
     "name": "stdout",
     "output_type": "stream",
     "text": [
      "{'Name': 'Ali', 'Class': 'AI', 'Campues': 'PIAIC Campus 1'}\n",
      "{'Name': 'Noman', 'Class': 'AI', 'Campues': 'PIAIC Campus 2'}\n"
     ]
    }
   ],
   "source": [
    "for student in students:\n",
    "    print(student)"
   ]
  },
  {
   "cell_type": "code",
   "execution_count": 41,
   "metadata": {},
   "outputs": [
    {
     "name": "stdout",
     "output_type": "stream",
     "text": [
      "Name : Ali\n",
      "Class : AI\n",
      "Campues : PIAIC Campus 1\n",
      "\n",
      "Name : Noman\n",
      "Class : AI\n",
      "Campues : PIAIC Campus 2\n",
      "\n"
     ]
    }
   ],
   "source": [
    "for student in students:\n",
    "    for a,b in student.items():\n",
    "        print(a,\":\",b)\n",
    "    print(\"\")\n",
    "    "
   ]
  },
  {
   "cell_type": "code",
   "execution_count": 42,
   "metadata": {},
   "outputs": [],
   "source": [
    "employee = {'Name': 'Shams', \n",
    "            'Children': {'Humaira':{'Age': 10, 'Class': '6th Standard'},\n",
    "                         'Abdul Rehman': {'Age': 8, 'Class': '4th Standard'}}}"
   ]
  },
  {
   "cell_type": "code",
   "execution_count": 43,
   "metadata": {},
   "outputs": [
    {
     "name": "stdout",
     "output_type": "stream",
     "text": [
      "{'Age': 10, 'Class': '6th Standard'}\n"
     ]
    }
   ],
   "source": [
    "print(employee['Children']['Humaira'])"
   ]
  },
  {
   "cell_type": "code",
   "execution_count": 44,
   "metadata": {},
   "outputs": [
    {
     "name": "stdout",
     "output_type": "stream",
     "text": [
      "8\n"
     ]
    }
   ],
   "source": [
    "print(employee['Children']['Abdul Rehman']['Age'])"
   ]
  },
  {
   "cell_type": "code",
   "execution_count": 45,
   "metadata": {},
   "outputs": [
    {
     "name": "stdout",
     "output_type": "stream",
     "text": [
      "green\n",
      "5\n"
     ]
    }
   ],
   "source": [
    "alien_0 = {\n",
    "    \"color\": \"green\",\n",
    "    \"points\": 5,\n",
    "}\n",
    "\n",
    "print(alien_0[\"color\"])\n",
    "print(alien_0[\"points\"])"
   ]
  },
  {
   "cell_type": "code",
   "execution_count": 46,
   "metadata": {},
   "outputs": [
    {
     "name": "stdout",
     "output_type": "stream",
     "text": [
      "you just earnes 5 points!\n"
     ]
    }
   ],
   "source": [
    "new_points = alien_0['points']\n",
    "print(\"you just earnes \"+str(new_points)+\" points!\")"
   ]
  },
  {
   "cell_type": "code",
   "execution_count": 47,
   "metadata": {},
   "outputs": [
    {
     "name": "stdout",
     "output_type": "stream",
     "text": [
      "{'color': 'green', 'points': 5, 'x_position': 0, 'y_position': 25}\n"
     ]
    }
   ],
   "source": [
    "alien_0['x_position'] = 0\n",
    "alien_0['y_position'] = 25\n",
    "print(alien_0)"
   ]
  },
  {
   "cell_type": "code",
   "execution_count": 48,
   "metadata": {},
   "outputs": [],
   "source": [
    "alien_0 = {}"
   ]
  },
  {
   "cell_type": "code",
   "execution_count": 49,
   "metadata": {},
   "outputs": [
    {
     "data": {
      "text/plain": [
       "{}"
      ]
     },
     "execution_count": 49,
     "metadata": {},
     "output_type": "execute_result"
    }
   ],
   "source": [
    "alien_0"
   ]
  },
  {
   "cell_type": "code",
   "execution_count": 50,
   "metadata": {},
   "outputs": [
    {
     "name": "stdout",
     "output_type": "stream",
     "text": [
      "{'color': 'green', 'points': 4}\n"
     ]
    }
   ],
   "source": [
    "alien_0['color'] = 'green'\n",
    "alien_0['points'] = 4\n",
    "print(alien_0)"
   ]
  },
  {
   "cell_type": "code",
   "execution_count": 51,
   "metadata": {},
   "outputs": [
    {
     "name": "stdout",
     "output_type": "stream",
     "text": [
      "The alien is green.\n",
      "The alien is now yellow.\n"
     ]
    }
   ],
   "source": [
    "alien_0 = {\"color\": \"green\"}\n",
    "print(\"The alien is \"+alien_0['color']+\".\")\n",
    "\n",
    "alien_0['color'] = 'yellow'\n",
    "print(\"The alien is now \"+alien_0['color']+\".\")"
   ]
  },
  {
   "cell_type": "code",
   "execution_count": 52,
   "metadata": {},
   "outputs": [
    {
     "name": "stdout",
     "output_type": "stream",
     "text": [
      "Original Position: 0\n",
      "New Position: 2\n"
     ]
    }
   ],
   "source": [
    "alien_0 = {\"x_position\": 0, \"y_position\": 25, \"speed\": \"medium\",}\n",
    "print(\"Original Position: \"+str(alien_0['x_position']))\n",
    "#alien_0['speed'] = 'fast'\n",
    "\n",
    "if alien_0['speed'] == \"slow\":\n",
    "    x_increment = 1\n",
    "elif alien_0['speed'] == \"medium\":\n",
    "    x_increment = 2\n",
    "else:\n",
    "    x_increment = 3\n",
    "\n",
    "\n",
    "alien_0[\"x_position\"] = alien_0[\"x_position\"] + x_increment \n",
    "print(\"New Position: \"+str(alien_0[\"x_position\"]))"
   ]
  },
  {
   "cell_type": "code",
   "execution_count": 53,
   "metadata": {},
   "outputs": [
    {
     "name": "stdout",
     "output_type": "stream",
     "text": [
      "{'color': 'green', 'points': 5}\n",
      "{'points': 5}\n"
     ]
    }
   ],
   "source": [
    "alien_0 = {'color': 'green', 'points': 5}\n",
    "print(alien_0)\n",
    "\n",
    "del alien_0['color']\n",
    "print(alien_0)"
   ]
  },
  {
   "cell_type": "code",
   "execution_count": 54,
   "metadata": {},
   "outputs": [
    {
     "data": {
      "text/plain": [
       "{'points': 5}"
      ]
     },
     "execution_count": 54,
     "metadata": {},
     "output_type": "execute_result"
    }
   ],
   "source": [
    "alien_0"
   ]
  },
  {
   "cell_type": "code",
   "execution_count": 55,
   "metadata": {},
   "outputs": [],
   "source": [
    "favorite_languages = {\n",
    "    \"tahir\": \"python\",\n",
    "    \"junaid\": \"c\",\n",
    "    \"amir\": \"ruby\",\n",
    "    \"adnan\": \"python\",\n",
    "}"
   ]
  },
  {
   "cell_type": "code",
   "execution_count": 56,
   "metadata": {},
   "outputs": [
    {
     "name": "stdout",
     "output_type": "stream",
     "text": [
      "Junaid's favorite language is C.\n"
     ]
    }
   ],
   "source": [
    "print(\"Junaid's favorite language is \"+\n",
    "      favorite_languages['junaid'].title()+\n",
    "     \".\")"
   ]
  },
  {
   "cell_type": "code",
   "execution_count": 57,
   "metadata": {},
   "outputs": [
    {
     "name": "stdout",
     "output_type": "stream",
     "text": [
      "imran\n",
      "khalid\n",
      "22\n",
      "quetta\n"
     ]
    }
   ],
   "source": [
    "person = {\n",
    "    \"first_name\": \"imran\",\n",
    "    \"last_name\": \"khalid\",\n",
    "    \"age\": 22,\n",
    "    \"city\": \"quetta\",\n",
    "}\n",
    "\n",
    "print(person[\"first_name\"])\n",
    "print(person[\"last_name\"])\n",
    "print(person[\"age\"])\n",
    "print(person[\"city\"])"
   ]
  },
  {
   "cell_type": "code",
   "execution_count": 58,
   "metadata": {},
   "outputs": [
    {
     "name": "stdout",
     "output_type": "stream",
     "text": [
      "\n",
      "Owais's favorite number is 2\n",
      "\n",
      "Saad's favorite number is 1\n"
     ]
    }
   ],
   "source": [
    "favorite_numbers = {\n",
    "    \"owais\": 2,\n",
    "    \"imran\": 12,\n",
    "    \"usman\": 10,\n",
    "    \"saad\": 1,\n",
    "    \"fahad\": 55,\n",
    "}\n",
    "\n",
    "num = favorite_numbers[\"owais\"]\n",
    "print(\"\\n\"+\"Owais's favorite number is \"+str(num))\n",
    "\n",
    "\n",
    "num = favorite_numbers[\"saad\"]\n",
    "print(\"\\n\"+\"Saad's favorite number is \"+str(num))"
   ]
  },
  {
   "cell_type": "code",
   "execution_count": 59,
   "metadata": {},
   "outputs": [
    {
     "name": "stdout",
     "output_type": "stream",
     "text": [
      "\n",
      "String: Series Of Characters.\n",
      "\n",
      "List: Bunch Of Value In Single Variable.\n",
      "\n",
      "Print: function for displaying values\n",
      "\n",
      "Float: numbers with decimal point.\n",
      "\n",
      "Bool: boolean value True or False\n"
     ]
    }
   ],
   "source": [
    "glossary= {\n",
    "    \"String\": \"series of characters.\",\n",
    "    \"list\": \"bunch of value in single variable.\",\n",
    "    \"print\": \"function for displaying values\",\n",
    "    \"float\": \"numbers with decimal point.\",\n",
    "    \"bool\" : \"boolean value True or False\",\n",
    "}\n",
    "\n",
    "meaning = glossary[\"String\"]\n",
    "print(\"\\n\"+\"String: \"+meaning.title())\n",
    "\n",
    "meaning = glossary[\"list\"]\n",
    "print(\"\\nList: \"+meaning.title())\n",
    "\n",
    "word = 'print'\n",
    "print(\"\\n\"+word.title()+\": \"+glossary[word])\n",
    "\n",
    "word = \"float\"\n",
    "print(\"\\n\"+word.title()+\": \"+glossary[word])\n",
    "\n",
    "word = \"bool\"\n",
    "print(\"\\n\"+word.title()+\": \"+glossary[word])"
   ]
  },
  {
   "cell_type": "code",
   "execution_count": 60,
   "metadata": {},
   "outputs": [
    {
     "name": "stdout",
     "output_type": "stream",
     "text": [
      "\n",
      "Key: username\n",
      "Value: john baba\n",
      "\n",
      "Key: first\n",
      "Value: jamaal\n",
      "\n",
      "Key: last\n",
      "Value: khan\n"
     ]
    }
   ],
   "source": [
    "user_0 = {\n",
    "    \"username\": \"john baba\",\n",
    "    \"first\": \"jamaal\",\n",
    "    \"last\": \"khan\",\n",
    "}\n",
    "\n",
    "for key,value in user_0.items():\n",
    "    print(\"\\nKey: \"+key)\n",
    "    print(\"Value: \"+value)"
   ]
  },
  {
   "cell_type": "code",
   "execution_count": 61,
   "metadata": {},
   "outputs": [
    {
     "data": {
      "text/plain": [
       "{'tahir': 'python', 'junaid': 'c', 'amir': 'ruby', 'adnan': 'python'}"
      ]
     },
     "execution_count": 61,
     "metadata": {},
     "output_type": "execute_result"
    }
   ],
   "source": [
    "favorite_languages"
   ]
  },
  {
   "cell_type": "code",
   "execution_count": 62,
   "metadata": {},
   "outputs": [
    {
     "name": "stdout",
     "output_type": "stream",
     "text": [
      "Tahir's favorite language is Python\n",
      "Junaid's favorite language is C\n",
      "Amir's favorite language is Ruby\n",
      "Adnan's favorite language is Python\n"
     ]
    }
   ],
   "source": [
    "for name, language in favorite_languages.items():\n",
    "    print(name.title()+\"'s favorite language is \"+\n",
    "         language.title())"
   ]
  },
  {
   "cell_type": "code",
   "execution_count": 63,
   "metadata": {},
   "outputs": [
    {
     "name": "stdout",
     "output_type": "stream",
     "text": [
      "Tahir\n",
      "Junaid\n",
      "Amir\n",
      "Adnan\n"
     ]
    }
   ],
   "source": [
    "for name in favorite_languages.keys():\n",
    "    print(name.title())"
   ]
  },
  {
   "cell_type": "code",
   "execution_count": 64,
   "metadata": {},
   "outputs": [
    {
     "name": "stdout",
     "output_type": "stream",
     "text": [
      "Tahir\n",
      "Junaid\n",
      "Amir\n",
      "Adnan\n",
      "Hi Adnan, I see your favorite language is Python!\n"
     ]
    }
   ],
   "source": [
    "friends = ['adnan', 'farhan']\n",
    "\n",
    "for name in favorite_languages.keys():\n",
    "    print(name.title())\n",
    "    \n",
    "    if name in friends:\n",
    "        print(\"Hi \"+name.title()+\n",
    "             \", I see your favorite language is \"+\n",
    "             favorite_languages[name].title()+\"!\")"
   ]
  },
  {
   "cell_type": "code",
   "execution_count": 65,
   "metadata": {},
   "outputs": [
    {
     "name": "stdout",
     "output_type": "stream",
     "text": [
      "Ahad, please take our poll!\n"
     ]
    }
   ],
   "source": [
    "if 'taha' not in favorite_languages.keys():\n",
    "    print(\"Ahad, please take our poll!\")"
   ]
  },
  {
   "cell_type": "code",
   "execution_count": 66,
   "metadata": {},
   "outputs": [
    {
     "name": "stdout",
     "output_type": "stream",
     "text": [
      "Adnan, thank you for taking the poll.\n",
      "Amir, thank you for taking the poll.\n",
      "Junaid, thank you for taking the poll.\n",
      "Tahir, thank you for taking the poll.\n"
     ]
    }
   ],
   "source": [
    "for name in sorted(favorite_languages.keys()):\n",
    "    print(name.title()+\", thank you for taking the poll.\")"
   ]
  },
  {
   "cell_type": "code",
   "execution_count": 67,
   "metadata": {},
   "outputs": [
    {
     "name": "stdout",
     "output_type": "stream",
     "text": [
      "The following langugaes have been mentioned:\n",
      "Python\n",
      "C\n",
      "Ruby\n",
      "Python\n"
     ]
    }
   ],
   "source": [
    "print(\"The following langugaes have been mentioned:\")\n",
    "for language in favorite_languages.values():\n",
    "    print(language.title())"
   ]
  },
  {
   "cell_type": "code",
   "execution_count": 68,
   "metadata": {},
   "outputs": [
    {
     "name": "stdout",
     "output_type": "stream",
     "text": [
      "Ruby\n",
      "Python\n",
      "C\n"
     ]
    }
   ],
   "source": [
    "for language in set(favorite_languages.values()):\n",
    "    print(language.title())"
   ]
  },
  {
   "cell_type": "code",
   "execution_count": 69,
   "metadata": {},
   "outputs": [
    {
     "name": "stdout",
     "output_type": "stream",
     "text": [
      "\n",
      "String: Series Of Characters.\n",
      "\n",
      "List: Bunch Of Value In Single Variable.\n",
      "\n",
      "Print: Function For Displaying Values\n",
      "\n",
      "Float: Numbers With Decimal Point.\n",
      "\n",
      "Bool: Boolean Value True Or False\n"
     ]
    }
   ],
   "source": [
    "glossary= {\n",
    "    \"String\": \"series of characters.\",\n",
    "    \"list\": \"bunch of value in single variable.\",\n",
    "    \"print\": \"function for displaying values\",\n",
    "    \"float\": \"numbers with decimal point.\",\n",
    "    \"bool\" : \"boolean value True or False\",\n",
    "}\n",
    "\n",
    "for name, meaning in glossary.items():\n",
    "   \n",
    "    print(\"\\n\"+name.title()+\": \"+glossary[name].title())\n"
   ]
  },
  {
   "cell_type": "code",
   "execution_count": 70,
   "metadata": {},
   "outputs": [
    {
     "name": "stdout",
     "output_type": "stream",
     "text": [
      "The Indus flows through Pakistan\n",
      "The Nile flows through Egypt\n",
      "The Hunza flows through Gilgit\n",
      "The Creek flows through Dubai\n",
      "\n",
      "The following rivers are included in this data set:\n",
      "- Indus\n",
      "- Nile\n",
      "- Hunza\n",
      "- Creek\n",
      "\n",
      "The following countries are included in this data set:\n",
      "- Pakistan\n",
      "- Egypt\n",
      "- Gilgit\n",
      "- Dubai\n"
     ]
    }
   ],
   "source": [
    "rivers = {\n",
    "    \"indus\": \"pakistan\",\n",
    "    \"nile\": \"egypt\",\n",
    "    \"hunza\": \"gilgit\",\n",
    "    \"creek\": \"dubai\",\n",
    "}\n",
    "\n",
    "for river, country in rivers.items():\n",
    "    print(\"The \"+river.title()+\" flows through \"+country.title())\n",
    "\n",
    "print(\"\\nThe following rivers are included in this data set:\")\n",
    "for river in rivers.keys():\n",
    "    print(\"- \"+river.title())\n",
    "\n",
    "print(\"\\nThe following countries are included in this data set:\")\n",
    "for country in rivers.values():\n",
    "    print(\"- \"+country.title())\n",
    "    "
   ]
  },
  {
   "cell_type": "code",
   "execution_count": 71,
   "metadata": {},
   "outputs": [],
   "source": [
    "favorite_languages = {\n",
    "    \"tahir\": \"python\",\n",
    "    \"junaid\": \"c\",\n",
    "    \"amir\": \"ruby\",\n",
    "    \"adnan\": \"python\",\n",
    "}\n",
    "\n",
    "people_li = [\"junaid\", \"ahad\", \"iqbal\", \"amir\"]"
   ]
  },
  {
   "cell_type": "code",
   "execution_count": 72,
   "metadata": {},
   "outputs": [
    {
     "name": "stdout",
     "output_type": "stream",
     "text": [
      "Tahir's favorite langugae is Python\n",
      "Junaid's favorite langugae is C\n",
      "Amir's favorite langugae is Ruby\n",
      "Adnan's favorite langugae is Python\n",
      "\n",
      "\n",
      "\n",
      "Thank you for taking the poll, Junaid\n",
      "Ahad, what's your favorite programming language?\n",
      "Iqbal, what's your favorite programming language?\n",
      "Thank you for taking the poll, Amir\n"
     ]
    }
   ],
   "source": [
    "for name, language in favorite_languages.items():\n",
    "    print(name.title()+\"'s favorite langugae is \"+language.title())\n",
    "\n",
    "print(\"\\n\\n\")\n",
    "for name in people_li:\n",
    "    if name in favorite_languages.keys():\n",
    "        print(\"Thank you for taking the poll, \"+name.title())\n",
    "    else:\n",
    "        print(name.title()+\", what's your favorite programming language?\")"
   ]
  },
  {
   "cell_type": "code",
   "execution_count": 73,
   "metadata": {},
   "outputs": [
    {
     "name": "stdout",
     "output_type": "stream",
     "text": [
      "color: green\n",
      "points: 5\n",
      "color: yellow\n",
      "points: 10\n",
      "color: red\n",
      "points: 15\n"
     ]
    }
   ],
   "source": [
    "alien_0 = {'color': 'green', 'points': 5}\n",
    "alien_1 = {'color': 'yellow', 'points': 10}\n",
    "alien_2 = {'color': 'red', 'points': 15}\n",
    "\n",
    "aliens = [alien_0, alien_1, alien_2]\n",
    "\n",
    "for alien in aliens:\n",
    "    for color,point in alien.items():\n",
    "        print(color +\": \"+str(point))"
   ]
  },
  {
   "cell_type": "code",
   "execution_count": 74,
   "metadata": {},
   "outputs": [],
   "source": [
    "aliens = []"
   ]
  },
  {
   "cell_type": "code",
   "execution_count": 75,
   "metadata": {},
   "outputs": [],
   "source": [
    "for alien_number in range(30):\n",
    "    new_alien = {'color': 'green', 'points': 5, 'speed': 'slow'}\n",
    "    aliens.append(new_alien)"
   ]
  },
  {
   "cell_type": "code",
   "execution_count": 76,
   "metadata": {},
   "outputs": [
    {
     "name": "stdout",
     "output_type": "stream",
     "text": [
      "{'color': 'green', 'points': 5, 'speed': 'slow'}\n",
      "{'color': 'green', 'points': 5, 'speed': 'slow'}\n",
      "{'color': 'green', 'points': 5, 'speed': 'slow'}\n",
      "{'color': 'green', 'points': 5, 'speed': 'slow'}\n",
      "{'color': 'green', 'points': 5, 'speed': 'slow'}\n",
      "...\n"
     ]
    }
   ],
   "source": [
    "for alien in aliens[:5]:\n",
    "    print(alien)\n",
    "print(\"...\")"
   ]
  },
  {
   "cell_type": "code",
   "execution_count": 77,
   "metadata": {},
   "outputs": [
    {
     "name": "stdout",
     "output_type": "stream",
     "text": [
      "Total numbers of aliens: 30\n"
     ]
    }
   ],
   "source": [
    "print(\"Total numbers of aliens: \"+str(len(aliens)))"
   ]
  },
  {
   "cell_type": "code",
   "execution_count": 78,
   "metadata": {},
   "outputs": [],
   "source": [
    "for alien in aliens[0:3]:\n",
    "    if alien['color'] == 'green':\n",
    "        alien['color'] = 'yellow'\n",
    "        alien['speed'] = 'medium'\n",
    "        alien['points'] = 10\n",
    "        "
   ]
  },
  {
   "cell_type": "code",
   "execution_count": 79,
   "metadata": {},
   "outputs": [
    {
     "data": {
      "text/plain": [
       "[{'color': 'yellow', 'points': 10, 'speed': 'medium'},\n",
       " {'color': 'yellow', 'points': 10, 'speed': 'medium'},\n",
       " {'color': 'yellow', 'points': 10, 'speed': 'medium'}]"
      ]
     },
     "execution_count": 79,
     "metadata": {},
     "output_type": "execute_result"
    }
   ],
   "source": [
    "aliens[0:3]"
   ]
  },
  {
   "cell_type": "code",
   "execution_count": 80,
   "metadata": {},
   "outputs": [
    {
     "name": "stdout",
     "output_type": "stream",
     "text": [
      "You ordered a thick -crust pizza with following toppings:\n",
      "\tmushroom\n",
      "\textra cheese\n"
     ]
    }
   ],
   "source": [
    "pizza = {\n",
    "    'crust': 'thick',\n",
    "    'toppings': ['mushroom', 'extra cheese'],\n",
    "}\n",
    "\n",
    "print(\"You ordered a \"+pizza['crust']+\" -crust pizza \"+\n",
    "     \"with following toppings:\")\n",
    "\n",
    "for topping in pizza['toppings']:\n",
    "    print(\"\\t\"+topping)"
   ]
  },
  {
   "cell_type": "code",
   "execution_count": 81,
   "metadata": {},
   "outputs": [
    {
     "name": "stdout",
     "output_type": "stream",
     "text": [
      "\n",
      "Tahir's favorite langugaes are:\n",
      "\tPython\n",
      "\tGo\n",
      "\tC#\n",
      "\n",
      "Junaid's favorite language is C#\n",
      "\n",
      "Amir's favorite langugaes are:\n",
      "\tRuby\n",
      "\tHtml\n",
      "\n",
      "Adnan's favorite language is Html\n"
     ]
    }
   ],
   "source": [
    "favorite_languages = {\n",
    "    \"tahir\": [\"python\", \"go\", \"c#\"],\n",
    "    \"junaid\": [\"c\"],\n",
    "    \"amir\": [\"ruby\", \"html\"],\n",
    "    \"adnan\": [\"python\"],\n",
    "}\n",
    "\n",
    "\n",
    "for name,languages in favorite_languages.items():\n",
    "    length = len(languages)\n",
    "    if length > 1:   \n",
    "        print(\"\\n\"+name.title()+\"'s favorite langugaes are:\")\n",
    "        for language in languages:\n",
    "            print(\"\\t\"+language.title())\n",
    "    else:\n",
    "        print(\"\\n\"+name.title()+\"'s favorite language is \"+language.title())"
   ]
  },
  {
   "cell_type": "code",
   "execution_count": 82,
   "metadata": {},
   "outputs": [
    {
     "name": "stdout",
     "output_type": "stream",
     "text": [
      "\n",
      "Username: amir\n",
      "\tFull name: Amir Pinger\n",
      "\tLocation: London\n",
      "\n",
      "Username: zeehan\n",
      "\tFull name: Zeeshan Hanif\n",
      "\tLocation: Lahore\n",
      "\n",
      "Username: taha\n",
      "\tFull name: Taha Jameel\n",
      "\tLocation: Karachi\n"
     ]
    }
   ],
   "source": [
    "users = {\n",
    "    \"amir\": {\n",
    "        \"first\": \"amir\",\n",
    "        \"last\": \"pinger\",\n",
    "        \"location\": \"london\",\n",
    "    },\n",
    "    \n",
    "    \"zeehan\": {\n",
    "        \"first\": \"zeeshan\",\n",
    "        \"last\": \"hanif\",\n",
    "        \"location\": \"lahore\",\n",
    "    },\n",
    "    \n",
    "    \"taha\": {\n",
    "        \"first\": \"taha\",\n",
    "        \"last\": \"jameel\",\n",
    "        \"location\": \"karachi\",\n",
    "    },\n",
    "    \n",
    "}\n",
    "\n",
    "for username, user_info in users.items():\n",
    "    print(\"\\nUsername: \"+username)\n",
    "    full_name = user_info['first']+\" \"+user_info['last']\n",
    "    location = user_info['location']\n",
    "    \n",
    "    print(\"\\tFull name: \"+full_name.title())\n",
    "    print(\"\\tLocation: \"+location.title())"
   ]
  },
  {
   "cell_type": "code",
   "execution_count": 83,
   "metadata": {},
   "outputs": [],
   "source": [
    "peoples = []\n",
    "\n",
    "person = {\n",
    "    \"first_name\": \"imran\",\n",
    "    \"last_name\": \"khalid\",\n",
    "    \"age\": 22,\n",
    "    \"city\": \"quetta\",\n",
    "}\n",
    "\n",
    "peoples.append(person)\n",
    "\n",
    "person = {\n",
    "    \"first_name\": \"taha\",\n",
    "    \"last_name\": \"hussnain\",\n",
    "    \"age\": 30,\n",
    "    \"city\": \"karachi\",\n",
    "}\n",
    "\n",
    "peoples.append(person)\n",
    "\n",
    "person = {\n",
    "    \"first_name\": \"rizwan\",\n",
    "    \"last_name\": \"akhtar\",\n",
    "    \"age\": 19,\n",
    "    \"city\": \"lahore\",\n",
    "}\n",
    "\n",
    "peoples.append(person)\n",
    "\n",
    "\n"
   ]
  },
  {
   "cell_type": "code",
   "execution_count": 84,
   "metadata": {},
   "outputs": [
    {
     "name": "stdout",
     "output_type": "stream",
     "text": [
      "Imran Khalid, of Quetta is 22 years old.\n",
      "Taha Hussnain, of Karachi is 30 years old.\n",
      "Rizwan Akhtar, of Lahore is 19 years old.\n"
     ]
    }
   ],
   "source": [
    "for people in peoples:\n",
    "    name = people['first_name']+ \" \"+people[\"last_name\"]\n",
    "    age = str(people['age'])\n",
    "    city = people['city']\n",
    "    print(name.title()+\", of \"+city.title()+\" is \"+age+\" years old.\" )"
   ]
  },
  {
   "cell_type": "code",
   "execution_count": 95,
   "metadata": {},
   "outputs": [],
   "source": [
    "pets = []\n",
    "pet = {\n",
    "    \"name\": \"john\",\n",
    "    \"owner name\": \"guido\",\n",
    "    \"weight\": 43,\n",
    "    \"animal type\": \"python\",\n",
    "    \"eats\": \"bugs\",\n",
    "}\n",
    "\n",
    "pets.append(pet)\n",
    "\n",
    "pet = {\n",
    "    \"name\": \"bablu\",\n",
    "    \"owner name\": \"gulfam\",\n",
    "    \"weight\": 2,\n",
    "    \"animal type\": \"chicken\",\n",
    "    \"eats\": \"seeds\"\n",
    "}\n",
    "\n",
    "pets.append(pet)"
   ]
  },
  {
   "cell_type": "code",
   "execution_count": 96,
   "metadata": {},
   "outputs": [
    {
     "data": {
      "text/plain": [
       "[{'name': 'john',\n",
       "  'owner name': 'guido',\n",
       "  'weight': 43,\n",
       "  'animal type': 'python',\n",
       "  'eats': 'bugs'},\n",
       " {'name': 'bablu',\n",
       "  'owner name': 'gulfam',\n",
       "  'weight': 2,\n",
       "  'animal type': 'chicken',\n",
       "  'eats': 'seeds'}]"
      ]
     },
     "execution_count": 96,
     "metadata": {},
     "output_type": "execute_result"
    }
   ],
   "source": [
    "pets"
   ]
  },
  {
   "cell_type": "code",
   "execution_count": 110,
   "metadata": {},
   "outputs": [
    {
     "name": "stdout",
     "output_type": "stream",
     "text": [
      "\n",
      "Here's what I know about John:\n",
      "\tname :  john\n",
      "\towner name :  guido\n",
      "\tweight :  43\n",
      "\tanimal type :  python\n",
      "\teats :  bugs\n",
      "\n",
      "Here's what I know about Bablu:\n",
      "\tname :  bablu\n",
      "\towner name :  gulfam\n",
      "\tweight :  2\n",
      "\tanimal type :  chicken\n",
      "\teats :  seeds\n"
     ]
    }
   ],
   "source": [
    "for pet in pets:\n",
    "    print(\"\\n\"+\"Here's what I know about \"+pet['name'].title()+\":\")\n",
    "    for key,value in pet.items():  \n",
    "        print(\"\\t\"+key,\": \",value)"
   ]
  },
  {
   "cell_type": "code",
   "execution_count": 112,
   "metadata": {},
   "outputs": [
    {
     "name": "stdout",
     "output_type": "stream",
     "text": [
      "\n",
      "Ahad likes the following places:\n",
      "- Quetta\n",
      "- Thatta\n",
      "- Lahore\n",
      "\n",
      "Jamaal likes the following places:\n",
      "- Hyderabad\n",
      "- Larkana\n",
      "\n",
      "Imran likes the following places:\n",
      "- Multan\n",
      "- Peshawar\n",
      "- Gilgit\n"
     ]
    }
   ],
   "source": [
    "favorite_places = {\n",
    "    \"ahad\": [\"quetta\",\"thatta\",\"lahore\"],\n",
    "    \"jamaal\": [\"hyderabad\", \"larkana\"],\n",
    "    \"imran\": [\"multan\", \"peshawar\",\"gilgit\"]\n",
    "}\n",
    "\n",
    "for name, places in favorite_places.items():\n",
    "    print(\"\\n\"+name.title()+\" likes the following places:\")\n",
    "    for places_info in places:\n",
    "        print(\"- \"+places_info.title())"
   ]
  },
  {
   "cell_type": "code",
   "execution_count": 118,
   "metadata": {},
   "outputs": [
    {
     "name": "stdout",
     "output_type": "stream",
     "text": [
      "\n",
      "Taha like the following numbers:\n",
      " 12\n",
      " 22\n",
      " 3\n",
      "\n",
      "Owais like the following numbers:\n",
      " 90\n",
      " 2\n",
      " 4\n",
      "\n",
      "Umair like the following numbers:\n",
      " 55\n",
      " 6\n",
      " 7\n"
     ]
    }
   ],
   "source": [
    "favorite_numbers = {\n",
    "    \"taha\": [12,22,3],\n",
    "    \"owais\": [90,2,4],\n",
    "    \"umair\": [55,6,7],\n",
    "}\n",
    "\n",
    "for name, numbers in favorite_numbers.items():\n",
    "    print(\"\\n\"+name.title()+\" like the following numbers:\")\n",
    "    for number in numbers:\n",
    "        print(\" \"+str(number))"
   ]
  },
  {
   "cell_type": "code",
   "execution_count": 135,
   "metadata": {},
   "outputs": [
    {
     "name": "stdout",
     "output_type": "stream",
     "text": [
      "\n",
      "Karachi is in Pakistan\n",
      " It has a populatin of about 2 crore\n",
      " The hill park are nearby\n",
      "\n",
      "Santiago is in Chile\n",
      " It has a populatin of about 6158080\n",
      " The andes are nearby\n"
     ]
    }
   ],
   "source": [
    "cities = {\n",
    "    \"karachi\": {\n",
    "        \"country\": \"pakistan\",\n",
    "        \"population\": \"2 crore\",\n",
    "        \"nearby mountains\": \"hill park\",\n",
    "    },\n",
    "    \"santiago\": {\n",
    "        \"country\": \"chile\",\n",
    "        \"population\": 6158080,\n",
    "        \"nearby mountains\": \"andes\",\n",
    "    }\n",
    "}\n",
    "\n",
    "for city_name, city_info in cities.items():\n",
    "    country = city_info[\"country\"]\n",
    "    population = city_info[\"population\"]\n",
    "    mountains = city_info[\"nearby mountains\"]\n",
    "    \n",
    "    print(\"\\n\"+city_name.title()+\" is in \"+country.title())\n",
    "    print(\" \"+\"It has a populatin of about \"+str(population))\n",
    "    print(\" \"+\"The \"+mountains+\" are nearby\" )\n",
    "    \n",
    "    "
   ]
  },
  {
   "cell_type": "code",
   "execution_count": null,
   "metadata": {},
   "outputs": [],
   "source": []
  }
 ],
 "metadata": {
  "kernelspec": {
   "display_name": "Python 3",
   "language": "python",
   "name": "python3"
  },
  "language_info": {
   "codemirror_mode": {
    "name": "ipython",
    "version": 3
   },
   "file_extension": ".py",
   "mimetype": "text/x-python",
   "name": "python",
   "nbconvert_exporter": "python",
   "pygments_lexer": "ipython3",
   "version": "3.7.3"
  }
 },
 "nbformat": 4,
 "nbformat_minor": 2
}
