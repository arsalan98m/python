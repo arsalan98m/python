{
 "cells": [
  {
   "cell_type": "code",
   "execution_count": 1,
   "metadata": {},
   "outputs": [
    {
     "name": "stdout",
     "output_type": "stream",
     "text": [
      "Dave     **** 100,000\n",
      "Steve    **** 90,000\n",
      "Army     **** 79,500\n"
     ]
    }
   ],
   "source": [
    "score_dit = {'Dave': 100000, 'Steve': 90000, 'Army':79500}\n",
    "\n",
    "for person, score in score_dit.items():\n",
    "    print(\"{0:8} **** {1:,}\".format(person,score))"
   ]
  },
  {
   "cell_type": "code",
   "execution_count": 2,
   "metadata": {},
   "outputs": [
    {
     "name": "stdout",
     "output_type": "stream",
     "text": [
      "Python\n"
     ]
    }
   ],
   "source": [
    "myStringA = 'I like Pie'\n",
    "myStringB = 'Kids like toys'\n",
    "myStringC = \"It is hot in the sun\"\n",
    "\n",
    "text = myStringA[7]+myStringB[-2]+myStringB[-4]+myStringC[6]+myStringB[11]+myStringC[-1]\n",
    "print(text)"
   ]
  },
  {
   "cell_type": "code",
   "execution_count": 9,
   "metadata": {},
   "outputs": [
    {
     "name": "stdout",
     "output_type": "stream",
     "text": [
      "slowly.The cow cow\n"
     ]
    }
   ],
   "source": [
    "words = \"The cow has spots and walk slowly.\"\n",
    "my_sentence = words[-7:]\n",
    "my_sentence = words[-7:] + words[:8]\n",
    "my_sentence = my_sentence + words[4:7]\n",
    "print(my_sentence)"
   ]
  },
  {
   "cell_type": "code",
   "execution_count": 10,
   "metadata": {},
   "outputs": [
    {
     "name": "stdout",
     "output_type": "stream",
     "text": [
      "False\n"
     ]
    }
   ],
   "source": [
    "def findIt(item, items):\n",
    "    if item in items:\n",
    "        return True\n",
    "    else:\n",
    "        return False\n",
    "\n",
    "print(findIt(3,[2,4,5,6]))"
   ]
  },
  {
   "cell_type": "code",
   "execution_count": 13,
   "metadata": {},
   "outputs": [
    {
     "name": "stdout",
     "output_type": "stream",
     "text": [
      "7\n"
     ]
    }
   ],
   "source": [
    "w_list = ['dog','bear']\n",
    "x = 0\n",
    "\n",
    "for word in w_list:\n",
    "    for i in range(len(word)):\n",
    "        x = x + 1\n",
    "        if x >6:\n",
    "            break\n",
    "print(x)"
   ]
  },
  {
   "cell_type": "code",
   "execution_count": 14,
   "metadata": {},
   "outputs": [
    {
     "name": "stdout",
     "output_type": "stream",
     "text": [
      "C:\\Users\\developer\\Anaconda3\\python.exe\n"
     ]
    }
   ],
   "source": [
    "import sys\n",
    "print(sys.executable)"
   ]
  },
  {
   "cell_type": "code",
   "execution_count": null,
   "metadata": {},
   "outputs": [],
   "source": []
  }
 ],
 "metadata": {
  "kernelspec": {
   "display_name": "Python 3",
   "language": "python",
   "name": "python3"
  },
  "language_info": {
   "codemirror_mode": {
    "name": "ipython",
    "version": 3
   },
   "file_extension": ".py",
   "mimetype": "text/x-python",
   "name": "python",
   "nbconvert_exporter": "python",
   "pygments_lexer": "ipython3",
   "version": "3.7.3"
  }
 },
 "nbformat": 4,
 "nbformat_minor": 2
}
