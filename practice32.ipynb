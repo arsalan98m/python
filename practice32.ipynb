{
 "cells": [
  {
   "cell_type": "code",
   "execution_count": 12,
   "metadata": {},
   "outputs": [],
   "source": [
    "def pizzaOrder(size, flavour, *toppings):\n",
    "    print(\"your order for pizza of size\"+ str(size) +\", and flavour\"+ flavour+\" and toppings\"+str(toppings)+\" is ready\")\n"
   ]
  },
  {
   "cell_type": "code",
   "execution_count": 13,
   "metadata": {},
   "outputs": [
    {
     "name": "stdout",
     "output_type": "stream",
     "text": [
      "your order for pizza of size12, and flavourChickenTikka and toppings('olives', 'fruits') is ready\n"
     ]
    }
   ],
   "source": [
    "pizzaOrder(12, \"ChickenTikka\",\"olives\",\"fruits\")"
   ]
  },
  {
   "cell_type": "code",
   "execution_count": 28,
   "metadata": {},
   "outputs": [],
   "source": [
    "def add(val1, val2):\n",
    "    ans = val1 + val2\n",
    "    return ans , \"Hello function\"\n",
    "    print(\"after return\") # not execute "
   ]
  },
  {
   "cell_type": "code",
   "execution_count": 29,
   "metadata": {},
   "outputs": [
    {
     "name": "stdout",
     "output_type": "stream",
     "text": [
      "(5, 'Hello function')\n"
     ]
    }
   ],
   "source": [
    "result = add(2,3)\n",
    "print(result)"
   ]
  },
  {
   "cell_type": "code",
   "execution_count": 32,
   "metadata": {},
   "outputs": [
    {
     "name": "stdout",
     "output_type": "stream",
     "text": [
      "6\n"
     ]
    }
   ],
   "source": [
    "def add(a, b):\n",
    "    return a + b\n",
    "\n",
    "def sub(b, a):\n",
    "    \n",
    "    return a - b\n",
    "\n",
    "result = add(2, 3) + sub(2, 3)\n",
    "print(result)"
   ]
  },
  {
   "cell_type": "code",
   "execution_count": 33,
   "metadata": {},
   "outputs": [],
   "source": [
    "def beHappy():\n",
    "    name = \"mr.A\"\n",
    "    print(name+ \" is very happy today\")"
   ]
  },
  {
   "cell_type": "code",
   "execution_count": 35,
   "metadata": {},
   "outputs": [
    {
     "name": "stdout",
     "output_type": "stream",
     "text": [
      "mr.A is very happy today\n"
     ]
    },
    {
     "ename": "NameError",
     "evalue": "name 'name' is not defined",
     "output_type": "error",
     "traceback": [
      "\u001b[1;31m---------------------------------------------------------------------------\u001b[0m",
      "\u001b[1;31mNameError\u001b[0m                                 Traceback (most recent call last)",
      "\u001b[1;32m<ipython-input-35-408dec59e6a5>\u001b[0m in \u001b[0;36m<module>\u001b[1;34m\u001b[0m\n\u001b[0;32m      1\u001b[0m \u001b[0mbeHappy\u001b[0m\u001b[1;33m(\u001b[0m\u001b[1;33m)\u001b[0m\u001b[1;33m\u001b[0m\u001b[1;33m\u001b[0m\u001b[0m\n\u001b[1;32m----> 2\u001b[1;33m \u001b[0mprint\u001b[0m\u001b[1;33m(\u001b[0m\u001b[0mname\u001b[0m\u001b[1;33m)\u001b[0m\u001b[1;33m\u001b[0m\u001b[1;33m\u001b[0m\u001b[0m\n\u001b[0m",
      "\u001b[1;31mNameError\u001b[0m: name 'name' is not defined"
     ]
    }
   ],
   "source": [
    "beHappy()\n",
    "print(name)"
   ]
  },
  {
   "cell_type": "code",
   "execution_count": 36,
   "metadata": {},
   "outputs": [],
   "source": [
    "another_Name = \"Mr. B\"\n",
    "\n",
    "def sad():\n",
    "    print(another_Name + \" is very sad today\")"
   ]
  },
  {
   "cell_type": "code",
   "execution_count": 38,
   "metadata": {},
   "outputs": [
    {
     "name": "stdout",
     "output_type": "stream",
     "text": [
      "Mr. B is very sad today\n",
      "Mr. B\n"
     ]
    }
   ],
   "source": [
    "sad()\n",
    "print(another_Name)"
   ]
  },
  {
   "cell_type": "code",
   "execution_count": 41,
   "metadata": {},
   "outputs": [],
   "source": [
    "def comissionCalc(sales):\n",
    "    if sales > 100:\n",
    "        return sales * 100\n",
    "    elif sales > 50:\n",
    "        return sales * 50\n",
    "    elif sales > 20:\n",
    "        return sales * 20\n",
    "    else:\n",
    "        return 0\n",
    "    \n",
    "def salaryCalc(basic, sales):\n",
    "    grossSalary = basic + comissionCalc(sales)\n",
    "    print(f\"your gross salary is {grossSalary}\")\n",
    "    "
   ]
  },
  {
   "cell_type": "code",
   "execution_count": 43,
   "metadata": {},
   "outputs": [
    {
     "name": "stdout",
     "output_type": "stream",
     "text": [
      "your gross salary is 65000\n"
     ]
    }
   ],
   "source": [
    "salaryCalc(50000, 150)"
   ]
  },
  {
   "cell_type": "code",
   "execution_count": 44,
   "metadata": {},
   "outputs": [],
   "source": [
    "def addnum():\n",
    "    firstnum = \"3\"\n",
    "    secondnum = \"3\"\n",
    "    result = firstnum + secondnum\n",
    "    print(result)"
   ]
  },
  {
   "cell_type": "code",
   "execution_count": 45,
   "metadata": {},
   "outputs": [
    {
     "name": "stdout",
     "output_type": "stream",
     "text": [
      "33\n"
     ]
    }
   ],
   "source": [
    "addnum()"
   ]
  },
  {
   "cell_type": "code",
   "execution_count": 48,
   "metadata": {},
   "outputs": [],
   "source": [
    "def addnum(firstnum, secondnum):\n",
    "    result = firstnum + secondnum\n",
    "    print(result)"
   ]
  },
  {
   "cell_type": "code",
   "execution_count": 49,
   "metadata": {},
   "outputs": [
    {
     "name": "stdout",
     "output_type": "stream",
     "text": [
      "6\n"
     ]
    }
   ],
   "source": [
    "addnum(3,3)"
   ]
  },
  {
   "cell_type": "code",
   "execution_count": 50,
   "metadata": {},
   "outputs": [
    {
     "name": "stdout",
     "output_type": "stream",
     "text": [
      "5\n"
     ]
    }
   ],
   "source": [
    "def addnum(firstnum, secondnum):\n",
    "    result = firstnum + secondnum\n",
    "    print(result)\n",
    "\n",
    "firstnum = 2\n",
    "secondnum = 3\n",
    "\n",
    "addnum(firstnum, secondnum)"
   ]
  },
  {
   "cell_type": "code",
   "execution_count": 51,
   "metadata": {},
   "outputs": [
    {
     "name": "stdout",
     "output_type": "stream",
     "text": [
      "5\n"
     ]
    }
   ],
   "source": [
    "def addnum(num1, num2):\n",
    "    result = num1 + num2\n",
    "    print(result)\n",
    "    \n",
    "firstnum = 2\n",
    "secondnum = 3\n",
    "\n",
    "addnum(firstnum, secondnum)"
   ]
  },
  {
   "cell_type": "code",
   "execution_count": 54,
   "metadata": {},
   "outputs": [
    {
     "name": "stdout",
     "output_type": "stream",
     "text": [
      "20\n"
     ]
    }
   ],
   "source": [
    "def addnum(num1, num2):\n",
    "    result = num1 + num2\n",
    "    print(result)\n",
    "\n",
    "addnum(num1=10,num2=10)"
   ]
  },
  {
   "cell_type": "code",
   "execution_count": 56,
   "metadata": {},
   "outputs": [
    {
     "name": "stdout",
     "output_type": "stream",
     "text": [
      "-4\n"
     ]
    }
   ],
   "source": [
    "firstnum = 8\n",
    "secondnum = 4\n",
    "\n",
    "def addnum(secondnum, firstnum):\n",
    "    result = firstnum - secondnum\n",
    "    print(result)\n",
    "    \n",
    "addnum(firstnum, secondnum)"
   ]
  },
  {
   "cell_type": "code",
   "execution_count": 65,
   "metadata": {},
   "outputs": [
    {
     "name": "stdout",
     "output_type": "stream",
     "text": [
      "4\n"
     ]
    }
   ],
   "source": [
    "firstnum = 8\n",
    "secondnum = 4\n",
    "\n",
    "def addnum(eight, four):\n",
    "    result = eight - four\n",
    "    print(result)\n",
    "    \n",
    "addnum(firstnum, secondnum)"
   ]
  },
  {
   "cell_type": "code",
   "execution_count": 9,
   "metadata": {},
   "outputs": [
    {
     "name": "stdout",
     "output_type": "stream",
     "text": [
      "30\n"
     ]
    }
   ],
   "source": [
    "firstnum = 10\n",
    "\n",
    "def def_arg(ten , twenty = 20):\n",
    "    result = ten + twenty\n",
    "    print(result)\n",
    "def_arg(firstnum)"
   ]
  },
  {
   "cell_type": "code",
   "execution_count": 12,
   "metadata": {},
   "outputs": [
    {
     "name": "stdout",
     "output_type": "stream",
     "text": [
      "SMIT Python Programming in 3 Months\n"
     ]
    }
   ],
   "source": [
    "inst = \"SMIT\"\n",
    "def coursedetail(inst, dur, lang=\"Python Programming\"):\n",
    "    print(inst + \" \"+ lang + \" in \"+ dur)\n",
    "    \n",
    "coursedetail(inst,dur=\"3 Months\")"
   ]
  },
  {
   "cell_type": "code",
   "execution_count": 29,
   "metadata": {},
   "outputs": [
    {
     "name": "stdout",
     "output_type": "stream",
     "text": [
      "my name is arsalan manzoor('arsalan@gmail.com', '12345566', 'karachi')\n",
      "arsalan@gmail.com 12345566 karachi\n"
     ]
    }
   ],
   "source": [
    "def func(name, fname, *params):\n",
    "    print(\"my name is \"+name+ \" \"+ fname + str(params))\n",
    "    print(*params)\n",
    "func(\"arsalan\", \"manzoor\",\"arsalan@gmail.com\",\"12345566\",\"karachi\")"
   ]
  },
  {
   "cell_type": "code",
   "execution_count": 38,
   "metadata": {},
   "outputs": [
    {
     "name": "stdout",
     "output_type": "stream",
     "text": [
      "my name is arsalan manzoor\n",
      "arsalan email is arsalan@gmail.com\n",
      "arsalan phone is 12345566\n",
      "arsalan city is karachi\n"
     ]
    }
   ],
   "source": [
    "def func(name, fname, **params):\n",
    "    print(\"my name is \"+name+ \" \"+ fname)\n",
    "    \n",
    "    for key,value in params.items():\n",
    "        print(f\"{name} {key} is {value}\")\n",
    "func(\"arsalan\", \"manzoor\",email=\"arsalan@gmail.com\",phone=\"12345566\",city=\"karachi\")"
   ]
  },
  {
   "cell_type": "code",
   "execution_count": 40,
   "metadata": {},
   "outputs": [
    {
     "name": "stdout",
     "output_type": "stream",
     "text": [
      "my name is arsalan manzoor\n",
      "arsalan email is arsalan@gmail.com\n",
      "arsalan phone is 12345566\n",
      "arsalan city is karachi\n"
     ]
    }
   ],
   "source": [
    "def func(name, fname, **params):\n",
    "    print(\"my name is \"+name+ \" \"+ fname)\n",
    "    \n",
    "    for key,value in params.items():\n",
    "        print(f\"{name} {key} is {value}\")\n",
    "func(name=\"arsalan\", fname=\"manzoor\",email=\"arsalan@gmail.com\",phone=\"12345566\",city=\"karachi\")"
   ]
  },
  {
   "cell_type": "code",
   "execution_count": 36,
   "metadata": {},
   "outputs": [
    {
     "ename": "NameError",
     "evalue": "name 'result' is not defined",
     "output_type": "error",
     "traceback": [
      "\u001b[1;31m---------------------------------------------------------------------------\u001b[0m",
      "\u001b[1;31mNameError\u001b[0m                                 Traceback (most recent call last)",
      "\u001b[1;32m<ipython-input-36-bc1b98002892>\u001b[0m in \u001b[0;36m<module>\u001b[1;34m\u001b[0m\n\u001b[0;32m      6\u001b[0m \u001b[0mrfunc\u001b[0m\u001b[1;33m(\u001b[0m\u001b[1;33m)\u001b[0m\u001b[1;33m\u001b[0m\u001b[1;33m\u001b[0m\u001b[0m\n\u001b[0;32m      7\u001b[0m \u001b[1;33m\u001b[0m\u001b[0m\n\u001b[1;32m----> 8\u001b[1;33m \u001b[0mprint\u001b[0m\u001b[1;33m(\u001b[0m\u001b[0mresult\u001b[0m\u001b[1;33m)\u001b[0m\u001b[1;33m\u001b[0m\u001b[1;33m\u001b[0m\u001b[0m\n\u001b[0m",
      "\u001b[1;31mNameError\u001b[0m: name 'result' is not defined"
     ]
    }
   ],
   "source": [
    "def rfunc():\n",
    "    num1=1\n",
    "    num2=2\n",
    "    result=num1+num2\n",
    "\n",
    "rfunc()\n",
    "\n",
    "print(result)"
   ]
  },
  {
   "cell_type": "code",
   "execution_count": 42,
   "metadata": {},
   "outputs": [
    {
     "name": "stdout",
     "output_type": "stream",
     "text": [
      "3\n"
     ]
    }
   ],
   "source": [
    "def rfunc():\n",
    "    num1=1\n",
    "    num2=2\n",
    "    result=num1+num2\n",
    "    return result\n",
    "\n",
    "return_var = rfunc()\n",
    "\n",
    "print(return_var)"
   ]
  },
  {
   "cell_type": "code",
   "execution_count": 43,
   "metadata": {},
   "outputs": [
    {
     "name": "stdout",
     "output_type": "stream",
     "text": [
      "None\n"
     ]
    }
   ],
   "source": [
    "def rfunc():\n",
    "    num1=1\n",
    "    num2=2\n",
    "    result=num1+num2\n",
    "    #return result\n",
    "\n",
    "return_var = rfunc()\n",
    "\n",
    "print(return_var)"
   ]
  },
  {
   "cell_type": "code",
   "execution_count": 48,
   "metadata": {},
   "outputs": [
    {
     "name": "stdout",
     "output_type": "stream",
     "text": [
      "4\n",
      "5\n",
      "9\n"
     ]
    }
   ],
   "source": [
    "def rfunc1():\n",
    "    num1 = 1\n",
    "    num2 = 3\n",
    "    result1 = num1+ num2\n",
    "    return result1\n",
    "\n",
    "return_var1= rfunc1()\n",
    "print(return_var1)\n",
    "\n",
    "def rfunc2():\n",
    "    num3 = 2\n",
    "    num4 = 3\n",
    "    result2 = num3+num4\n",
    "    return result2\n",
    "\n",
    "return_var2 = rfunc2()\n",
    "print(return_var2)\n",
    "\n",
    "final_result = return_var1 + return_var2\n",
    "print(final_result)"
   ]
  },
  {
   "cell_type": "code",
   "execution_count": 50,
   "metadata": {},
   "outputs": [
    {
     "name": "stdout",
     "output_type": "stream",
     "text": [
      "What is your name: arsalan\n",
      "Arsalan is enrolled in SMIT Python Programming 3 Months\n"
     ]
    }
   ],
   "source": [
    "def courseinfo():\n",
    "    inst = \"SMIT\"\n",
    "    lang = \"Python Programming\"\n",
    "    duration = \"3 Months\"\n",
    "    \n",
    "    return (inst + \" \" + lang +\" \"+ duration) #SMIT Python Programming 3 months\n",
    "\n",
    "def userinfo():\n",
    "    name= input(\"What is your name: \")\n",
    "    name = name.title()\n",
    "    result = name +\" is enrolled in \" +courseinfo()\n",
    "    return result\n",
    "\n",
    "wholeinfo = userinfo()\n",
    "print(wholeinfo)"
   ]
  },
  {
   "cell_type": "code",
   "execution_count": 52,
   "metadata": {},
   "outputs": [
    {
     "name": "stdout",
     "output_type": "stream",
     "text": [
      "Arsalan Manzoor\n"
     ]
    }
   ],
   "source": [
    "def name():\n",
    "    name = \"Arsalan\"\n",
    "    return name\n",
    "\n",
    "firstname = name()\n",
    "full_name= firstname+\" \"+\"Manzoor\"\n",
    "print(full_name)"
   ]
  },
  {
   "cell_type": "code",
   "execution_count": 53,
   "metadata": {},
   "outputs": [
    {
     "name": "stdout",
     "output_type": "stream",
     "text": [
      "Enter the name of a city: a\n"
     ]
    }
   ],
   "source": [
    "cleanest_cities = [\"karachi\", \"lahore\", \"islamabad\", \"multan\", \"peshawar\"]\n",
    "city_to_check = input(\"Enter the name of a city: \")"
   ]
  },
  {
   "cell_type": "code",
   "execution_count": 56,
   "metadata": {},
   "outputs": [
    {
     "name": "stdout",
     "output_type": "stream",
     "text": [
      "Enter a city, or q to quit:Karachi\n",
      "Enter a city, or q to quit:india\n",
      "Enter a city, or q to quit:Lahore\n",
      "Enter a city, or q to quit:lahore\n",
      "Its one of the cleanest cities\n",
      "Enter a city, or q to quit:karachi\n",
      "Its one of the cleanest cities\n",
      "Enter a city, or q to quit:q\n"
     ]
    }
   ],
   "source": [
    "user_input = \"\"\n",
    "\n",
    "while user_input != \"q\":\n",
    "    user_input=input(\"Enter a city, or q to quit:\")\n",
    "    \n",
    "    if user_input !=\"q\":\n",
    "        for a_clean_city in cleanest_cities:\n",
    "            if user_input == a_clean_city:\n",
    "                print(\"Its one of the cleanest cities\")\n",
    "                break"
   ]
  },
  {
   "cell_type": "code",
   "execution_count": 57,
   "metadata": {},
   "outputs": [
    {
     "name": "stdout",
     "output_type": "stream",
     "text": [
      "Enter a city, or q to quit:lahore\n",
      "It's one of the cleanest city\n",
      "Enter a city, or q to quit:islamabad\n",
      "It's one of the cleanest city\n",
      "Enter a city, or q to quit:q\n"
     ]
    }
   ],
   "source": [
    "keep_looking = True\n",
    "\n",
    "while keep_looking == True:\n",
    "    user_input= input(\"Enter a city, or q to quit:\")\n",
    "    \n",
    "    if user_input != \"q\":\n",
    "        for a_clean_city in cleanest_cities:\n",
    "            if user_input == a_clean_city:\n",
    "                print(\"It's one of the cleanest city\")\n",
    "    else:\n",
    "        keep_looking= False"
   ]
  },
  {
   "cell_type": "code",
   "execution_count": 58,
   "metadata": {},
   "outputs": [
    {
     "data": {
      "text/plain": [
       "False"
      ]
     },
     "execution_count": 58,
     "metadata": {},
     "output_type": "execute_result"
    }
   ],
   "source": [
    "keep_looking"
   ]
  },
  {
   "cell_type": "code",
   "execution_count": 61,
   "metadata": {},
   "outputs": [
    {
     "name": "stdout",
     "output_type": "stream",
     "text": [
      "0 This is while loop printing\n",
      "1 This is while loop printing\n",
      "2 This is while loop printing\n",
      "3 This is while loop printing\n",
      "4 This is while loop printing\n",
      "5 This is while loop printing\n",
      "6 This is while loop printing\n",
      "7 This is while loop printing\n",
      "8 This is while loop printing\n",
      "9 This is while loop printing\n",
      "10 This is while loop printing\n"
     ]
    }
   ],
   "source": [
    "a = 0\n",
    "while a<=10:\n",
    "    print(a,\"This is while loop printing\")\n",
    "    a+=1"
   ]
  },
  {
   "cell_type": "code",
   "execution_count": 63,
   "metadata": {},
   "outputs": [
    {
     "name": "stdout",
     "output_type": "stream",
     "text": [
      "0 This is for loop printing\n",
      "1 This is for loop printing\n",
      "2 This is for loop printing\n",
      "3 This is for loop printing\n",
      "4 This is for loop printing\n",
      "5 This is for loop printing\n",
      "6 This is for loop printing\n",
      "7 This is for loop printing\n",
      "8 This is for loop printing\n",
      "9 This is for loop printing\n",
      "10 This is for loop printing\n"
     ]
    }
   ],
   "source": [
    "for num in range(11):\n",
    "    print(num, \"This is for loop printing\")"
   ]
  },
  {
   "cell_type": "code",
   "execution_count": 65,
   "metadata": {},
   "outputs": [
    {
     "name": "stdout",
     "output_type": "stream",
     "text": [
      "Enter your favourite foodsbiryani\n",
      "Enter your favourite foodskarahi\n",
      "Enter your favourite foodsnihari\n",
      "Enter your favourite foodsq\n",
      "['biryani', 'karahi', 'nihari']\n"
     ]
    }
   ],
   "source": [
    "flag = True\n",
    "fav_foods = []\n",
    "while flag == True:\n",
    "    user_input = input(\"Enter your favourite foods\")\n",
    "    \n",
    "    if user_input == \"q\":\n",
    "        flag = False\n",
    "    else:\n",
    "        fav_foods.append(user_input)\n",
    "    \n",
    "print(fav_foods)"
   ]
  },
  {
   "cell_type": "code",
   "execution_count": 68,
   "metadata": {},
   "outputs": [
    {
     "name": "stdout",
     "output_type": "stream",
     "text": [
      "['Farina', 'Madi', 'Annie', 'Max', 'Vlad', 'Punya', 'Muhammad']\n"
     ]
    }
   ],
   "source": [
    "list_of_names = [\"Farina\", \"Madi\", \"Annie\", \"Max\", \"Vlad\", \"Punya\", \"Muhammad\"]\n",
    "second_list_of_names = []\n",
    "counter = 0\n",
    "  \n",
    "while counter < len(list_of_names):\n",
    "    second_list_of_names.append(list_of_names[counter])\n",
    "    counter+=1\n",
    "  \n",
    "\n",
    "print(second_list_of_names)"
   ]
  },
  {
   "cell_type": "code",
   "execution_count": 72,
   "metadata": {},
   "outputs": [
    {
     "data": {
      "text/plain": [
       "['Farina', 'Madi', 'Annie', 'Max', 'Vlad', 'Punya', 'Muhammad']"
      ]
     },
     "execution_count": 72,
     "metadata": {},
     "output_type": "execute_result"
    }
   ],
   "source": [
    "second_list_of_names"
   ]
  },
  {
   "cell_type": "code",
   "execution_count": 80,
   "metadata": {},
   "outputs": [
    {
     "data": {
      "text/plain": [
       "2.3"
      ]
     },
     "execution_count": 80,
     "metadata": {},
     "output_type": "execute_result"
    }
   ],
   "source": [
    "round()"
   ]
  },
  {
   "cell_type": "code",
   "execution_count": null,
   "metadata": {},
   "outputs": [],
   "source": []
  }
 ],
 "metadata": {
  "kernelspec": {
   "display_name": "Python 3",
   "language": "python",
   "name": "python3"
  },
  "language_info": {
   "codemirror_mode": {
    "name": "ipython",
    "version": 3
   },
   "file_extension": ".py",
   "mimetype": "text/x-python",
   "name": "python",
   "nbconvert_exporter": "python",
   "pygments_lexer": "ipython3",
   "version": "3.7.3"
  }
 },
 "nbformat": 4,
 "nbformat_minor": 2
}
