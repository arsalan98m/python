{
 "cells": [
  {
   "cell_type": "code",
   "execution_count": 1,
   "metadata": {},
   "outputs": [
    {
     "name": "stdout",
     "output_type": "stream",
     "text": [
      "3.1415926535\n",
      "  8979323846\n",
      "  2643383279\n",
      "  \n"
     ]
    }
   ],
   "source": [
    "with open('pi_digits.txt') as file_obj:\n",
    "    contents = file_obj.read()\n",
    "    print(contents)"
   ]
  },
  {
   "cell_type": "code",
   "execution_count": 2,
   "metadata": {},
   "outputs": [
    {
     "name": "stdout",
     "output_type": "stream",
     "text": [
      "3.1415926535\n",
      "  8979323846\n",
      "  2643383279\n"
     ]
    }
   ],
   "source": [
    "# removing empty spaces\n",
    "with open('pi_digits.txt') as file_obj:\n",
    "    contents = file_obj.read()\n",
    "    print(contents.rstrip())"
   ]
  },
  {
   "cell_type": "code",
   "execution_count": 9,
   "metadata": {},
   "outputs": [
    {
     "name": "stdout",
     "output_type": "stream",
     "text": [
      "3.1415926535\n",
      "  8979323846\n",
      "  2643383279\n"
     ]
    }
   ],
   "source": [
    "filename= 'pi_digits.txt'\n",
    "with open(filename) as file_obj:\n",
    "    for line in file_obj:\n",
    "        print(line.rstrip())"
   ]
  },
  {
   "cell_type": "code",
   "execution_count": 13,
   "metadata": {},
   "outputs": [
    {
     "name": "stdout",
     "output_type": "stream",
     "text": [
      "3.1415926535\n",
      "  8979323846\n",
      "  2643383279\n"
     ]
    }
   ],
   "source": [
    "filename= 'pi_digits.txt'\n",
    "with open(filename) as file_obj:\n",
    "    lines = file_obj.readlines()\n",
    "    \n",
    "#print(lines)\n",
    "for line in lines:\n",
    "    print(line.rstrip())"
   ]
  },
  {
   "cell_type": "code",
   "execution_count": 32,
   "metadata": {},
   "outputs": [
    {
     "name": "stdout",
     "output_type": "stream",
     "text": [
      "3.141592653589793238462643383279\n",
      "32\n"
     ]
    }
   ],
   "source": [
    "filename= 'pi_digits.txt'\n",
    "with open(filename) as file_obj:\n",
    "    lines = file_obj.readlines()\n",
    "    \n",
    "pi_string = \"\"\n",
    "for line in lines:\n",
    "    #pi_string += line.rstrip()\n",
    "    pi_string += line.strip()\n",
    "\n",
    "print(pi_string)\n",
    "print(len(pi_string))"
   ]
  },
  {
   "cell_type": "code",
   "execution_count": 34,
   "metadata": {},
   "outputs": [
    {
     "name": "stdout",
     "output_type": "stream",
     "text": [
      "3.1415926535897932384626433832793.141592653589793238\n",
      "896\n"
     ]
    }
   ],
   "source": [
    "filename = 'pi_million_digits.txt'\n",
    "\n",
    "with open(filename) as file_obj:\n",
    "    lines = file_obj.readlines()\n",
    "\n",
    "pi_string = ''\n",
    "\n",
    "for line in lines:\n",
    "    pi_string += line.strip()\n",
    "    \n",
    "print(pi_string[:52])\n",
    "print(len(pi_string))"
   ]
  },
  {
   "cell_type": "code",
   "execution_count": 43,
   "metadata": {},
   "outputs": [
    {
     "name": "stdout",
     "output_type": "stream",
     "text": [
      "Enter your birthday in form mmddyy: 161198\n",
      "Your birthday does not appear in the first million digits of pi.\n"
     ]
    }
   ],
   "source": [
    "filename = 'pi_million_digits.txt'\n",
    "\n",
    "with open(filename) as file_obj:\n",
    "    lines = file_obj.readlines()\n",
    "\n",
    "pi_string = ''\n",
    "\n",
    "for line in lines:\n",
    "    pi_string += line.strip()\n",
    "    \n",
    "birthday = input(\"Enter your birthday in form mmddyy: \")\n",
    "if birthday in pi_string:\n",
    "    print(\"Your birthday appears in the first million digits of pi!\")\n",
    "else:\n",
    "     print(\"Your birthday does not appear in the first million digits of pi.\")"
   ]
  },
  {
   "cell_type": "code",
   "execution_count": 59,
   "metadata": {},
   "outputs": [
    {
     "name": "stdout",
     "output_type": "stream",
     "text": [
      "--- Reading in the entire file:\n",
      "learned python lists\n",
      "learned python dictionaries\n",
      "learned python classes\n"
     ]
    }
   ],
   "source": [
    "with open('learning_python.txt') as file_obj:\n",
    "    content = file_obj.read()\n",
    "    print(\"--- Reading in the entire file:\")\n",
    "    print(content.rstrip())"
   ]
  },
  {
   "cell_type": "code",
   "execution_count": 62,
   "metadata": {},
   "outputs": [
    {
     "name": "stdout",
     "output_type": "stream",
     "text": [
      "--- Storing the lines in a list ---\n",
      "learned python lists\n",
      "learned python dictionaries\n",
      "learned python classes\n"
     ]
    }
   ],
   "source": [
    "with open('learning_python.txt') as file_obj:\n",
    "    lines = file_obj.readlines()\n",
    "print(\"--- Storing the lines in a list ---\")\n",
    "for line in lines:\n",
    "    print(line.rstrip())"
   ]
  },
  {
   "cell_type": "code",
   "execution_count": 63,
   "metadata": {},
   "outputs": [
    {
     "name": "stdout",
     "output_type": "stream",
     "text": [
      "--- Looping over the lines ---\n",
      "learned python lists\n",
      "learned python dictionaries\n",
      "learned python classes\n"
     ]
    }
   ],
   "source": [
    "print(\"--- Looping over the lines ---\")\n",
    "with open('learning_python.txt') as file_obj:\n",
    "    for line in lines:\n",
    "        print(line.rstrip())"
   ]
  },
  {
   "cell_type": "code",
   "execution_count": 67,
   "metadata": {},
   "outputs": [
    {
     "name": "stdout",
     "output_type": "stream",
     "text": [
      "learned C lists\n",
      "learned C dictionaries\n",
      "learned C classes\n"
     ]
    }
   ],
   "source": [
    "with open('learning_python.txt') as file_obj:\n",
    "    lines = file_obj.readlines()\n",
    "\n",
    "for line in lines:\n",
    "    line = line.rstrip()\n",
    "    print(line.replace('python','C'))"
   ]
  },
  {
   "cell_type": "code",
   "execution_count": 74,
   "metadata": {},
   "outputs": [],
   "source": [
    "filename = \"programming.txt\"\n",
    "with open(filename, 'w') as file_obj:\n",
    "    file_obj.write(\"I love programming.\")"
   ]
  },
  {
   "cell_type": "code",
   "execution_count": 75,
   "metadata": {},
   "outputs": [],
   "source": [
    "filename = \"programming.txt\"\n",
    "with open(filename, 'w') as file_obj:\n",
    "    file_obj.write(\"I love programming.\")\n",
    "    file_obj.write(\"I love creating new things.\")"
   ]
  },
  {
   "cell_type": "code",
   "execution_count": 76,
   "metadata": {},
   "outputs": [],
   "source": [
    "filename = \"programming.txt\"\n",
    "with open(filename, 'w') as file_obj:\n",
    "    file_obj.write(\"I love programming.\\n\")\n",
    "    file_obj.write(\"I love creating new things.\\n\")"
   ]
  },
  {
   "cell_type": "code",
   "execution_count": 77,
   "metadata": {},
   "outputs": [],
   "source": [
    "filename = \"programming.txt\"\n",
    "with open(filename, \"a\") as file_obj:\n",
    "    file_obj.write(\"\\ni love also finding meaning in large datasets.\")\n",
    "    file_obj.write(\"\\ni love creating apps that can run in browser.\")"
   ]
  },
  {
   "cell_type": "code",
   "execution_count": 4,
   "metadata": {},
   "outputs": [
    {
     "name": "stdout",
     "output_type": "stream",
     "text": [
      "Enter 'quit' when you finished:\n",
      "\n",
      "Enter your name:  arsalan\n",
      "Hello arsalan you were added in guest list\n",
      "\n",
      "Enter your name:  imran\n",
      "Hello imran you were added in guest list\n",
      "\n",
      "Enter your name:  quit\n"
     ]
    }
   ],
   "source": [
    "print(\"Enter 'quit' when you finished:\")\n",
    "while True:\n",
    "    name = input(\"\\nEnter your name:  \")\n",
    "    if name == 'quit':\n",
    "        break\n",
    "    else:   \n",
    "        with open(\"guest.txt\", \"a\") as file_obj:\n",
    "            file_obj.write(name)\n",
    "            file_obj.write('\\n')\n",
    "        print(\"Hello \"+str(name)+\" you were added in guest list\")"
   ]
  },
  {
   "cell_type": "code",
   "execution_count": 7,
   "metadata": {},
   "outputs": [
    {
     "name": "stdout",
     "output_type": "stream",
     "text": [
      "\n",
      "Why do you like programming? its fun\n",
      "Would you like to let someone else respond? (y/n) its amazing\n",
      "\n",
      "Why do you like programming? its amazing\n",
      "Would you like to let someone else respond? (y/n) y\n",
      "\n",
      "Why do you like programming? happy coding\n",
      "Would you like to let someone else respond? (y/n) n\n"
     ]
    }
   ],
   "source": [
    "responses = []\n",
    "while True:\n",
    "    response = input(\"\\nWhy do you like programming? \")\n",
    "    responses.append(response)\n",
    "    \n",
    "    continue_poll = input(\"Would you like to let someone else respond? (y/n) \")\n",
    "    \n",
    "    if continue_poll.lower() == 'n':\n",
    "        break\n",
    "    \n",
    "with open(\"programming_reason.txt\", \"a\") as file_obj:\n",
    "    for response in responses:\n",
    "        file_obj.write(response)\n",
    "        file_obj.write(\"\\n\")"
   ]
  },
  {
   "cell_type": "code",
   "execution_count": null,
   "metadata": {},
   "outputs": [],
   "source": []
  }
 ],
 "metadata": {
  "kernelspec": {
   "display_name": "Python 3",
   "language": "python",
   "name": "python3"
  },
  "language_info": {
   "codemirror_mode": {
    "name": "ipython",
    "version": 3
   },
   "file_extension": ".py",
   "mimetype": "text/x-python",
   "name": "python",
   "nbconvert_exporter": "python",
   "pygments_lexer": "ipython3",
   "version": "3.7.3"
  }
 },
 "nbformat": 4,
 "nbformat_minor": 2
}
