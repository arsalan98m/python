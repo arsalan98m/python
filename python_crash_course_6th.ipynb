{
 "cells": [
  {
   "cell_type": "code",
   "execution_count": 1,
   "metadata": {},
   "outputs": [
    {
     "name": "stdout",
     "output_type": "stream",
     "text": [
      "3.1415926535\n",
      "  8979323846\n",
      "  2643383279\n",
      "  \n"
     ]
    }
   ],
   "source": [
    "with open('pi_digits.txt') as file_obj:\n",
    "    contents = file_obj.read()\n",
    "    print(contents)"
   ]
  },
  {
   "cell_type": "code",
   "execution_count": 2,
   "metadata": {},
   "outputs": [
    {
     "name": "stdout",
     "output_type": "stream",
     "text": [
      "3.1415926535\n",
      "  8979323846\n",
      "  2643383279\n"
     ]
    }
   ],
   "source": [
    "# removing empty spaces\n",
    "with open('pi_digits.txt') as file_obj:\n",
    "    contents = file_obj.read()\n",
    "    print(contents.rstrip())"
   ]
  },
  {
   "cell_type": "code",
   "execution_count": 9,
   "metadata": {},
   "outputs": [
    {
     "name": "stdout",
     "output_type": "stream",
     "text": [
      "3.1415926535\n",
      "  8979323846\n",
      "  2643383279\n"
     ]
    }
   ],
   "source": [
    "filename= 'pi_digits.txt'\n",
    "with open(filename) as file_obj:\n",
    "    for line in file_obj:\n",
    "        print(line.rstrip())"
   ]
  },
  {
   "cell_type": "code",
   "execution_count": 13,
   "metadata": {},
   "outputs": [
    {
     "name": "stdout",
     "output_type": "stream",
     "text": [
      "3.1415926535\n",
      "  8979323846\n",
      "  2643383279\n"
     ]
    }
   ],
   "source": [
    "filename= 'pi_digits.txt'\n",
    "with open(filename) as file_obj:\n",
    "    lines = file_obj.readlines()\n",
    "    \n",
    "#print(lines)\n",
    "for line in lines:\n",
    "    print(line.rstrip())"
   ]
  },
  {
   "cell_type": "code",
   "execution_count": 32,
   "metadata": {},
   "outputs": [
    {
     "name": "stdout",
     "output_type": "stream",
     "text": [
      "3.141592653589793238462643383279\n",
      "32\n"
     ]
    }
   ],
   "source": [
    "filename= 'pi_digits.txt'\n",
    "with open(filename) as file_obj:\n",
    "    lines = file_obj.readlines()\n",
    "    \n",
    "pi_string = \"\"\n",
    "for line in lines:\n",
    "    #pi_string += line.rstrip()\n",
    "    pi_string += line.strip()\n",
    "\n",
    "print(pi_string)\n",
    "print(len(pi_string))"
   ]
  },
  {
   "cell_type": "code",
   "execution_count": 34,
   "metadata": {},
   "outputs": [
    {
     "name": "stdout",
     "output_type": "stream",
     "text": [
      "3.1415926535897932384626433832793.141592653589793238\n",
      "896\n"
     ]
    }
   ],
   "source": [
    "filename = 'pi_million_digits.txt'\n",
    "\n",
    "with open(filename) as file_obj:\n",
    "    lines = file_obj.readlines()\n",
    "\n",
    "pi_string = ''\n",
    "\n",
    "for line in lines:\n",
    "    pi_string += line.strip()\n",
    "    \n",
    "print(pi_string[:52])\n",
    "print(len(pi_string))"
   ]
  },
  {
   "cell_type": "code",
   "execution_count": 43,
   "metadata": {},
   "outputs": [
    {
     "name": "stdout",
     "output_type": "stream",
     "text": [
      "Enter your birthday in form mmddyy: 161198\n",
      "Your birthday does not appear in the first million digits of pi.\n"
     ]
    }
   ],
   "source": [
    "filename = 'pi_million_digits.txt'\n",
    "\n",
    "with open(filename) as file_obj:\n",
    "    lines = file_obj.readlines()\n",
    "\n",
    "pi_string = ''\n",
    "\n",
    "for line in lines:\n",
    "    pi_string += line.strip()\n",
    "    \n",
    "birthday = input(\"Enter your birthday in form mmddyy: \")\n",
    "if birthday in pi_string:\n",
    "    print(\"Your birthday appears in the first million digits of pi!\")\n",
    "else:\n",
    "     print(\"Your birthday does not appear in the first million digits of pi.\")"
   ]
  },
  {
   "cell_type": "code",
   "execution_count": 59,
   "metadata": {},
   "outputs": [
    {
     "name": "stdout",
     "output_type": "stream",
     "text": [
      "--- Reading in the entire file:\n",
      "learned python lists\n",
      "learned python dictionaries\n",
      "learned python classes\n"
     ]
    }
   ],
   "source": [
    "with open('learning_python.txt') as file_obj:\n",
    "    content = file_obj.read()\n",
    "    print(\"--- Reading in the entire file:\")\n",
    "    print(content.rstrip())"
   ]
  },
  {
   "cell_type": "code",
   "execution_count": 62,
   "metadata": {},
   "outputs": [
    {
     "name": "stdout",
     "output_type": "stream",
     "text": [
      "--- Storing the lines in a list ---\n",
      "learned python lists\n",
      "learned python dictionaries\n",
      "learned python classes\n"
     ]
    }
   ],
   "source": [
    "with open('learning_python.txt') as file_obj:\n",
    "    lines = file_obj.readlines()\n",
    "print(\"--- Storing the lines in a list ---\")\n",
    "for line in lines:\n",
    "    print(line.rstrip())"
   ]
  },
  {
   "cell_type": "code",
   "execution_count": 63,
   "metadata": {},
   "outputs": [
    {
     "name": "stdout",
     "output_type": "stream",
     "text": [
      "--- Looping over the lines ---\n",
      "learned python lists\n",
      "learned python dictionaries\n",
      "learned python classes\n"
     ]
    }
   ],
   "source": [
    "print(\"--- Looping over the lines ---\")\n",
    "with open('learning_python.txt') as file_obj:\n",
    "    for line in lines:\n",
    "        print(line.rstrip())"
   ]
  },
  {
   "cell_type": "code",
   "execution_count": 67,
   "metadata": {},
   "outputs": [
    {
     "name": "stdout",
     "output_type": "stream",
     "text": [
      "learned C lists\n",
      "learned C dictionaries\n",
      "learned C classes\n"
     ]
    }
   ],
   "source": [
    "with open('learning_python.txt') as file_obj:\n",
    "    lines = file_obj.readlines()\n",
    "\n",
    "for line in lines:\n",
    "    line = line.rstrip()\n",
    "    print(line.replace('python','C'))"
   ]
  },
  {
   "cell_type": "code",
   "execution_count": 74,
   "metadata": {},
   "outputs": [],
   "source": [
    "filename = \"programming.txt\"\n",
    "with open(filename, 'w') as file_obj:\n",
    "    file_obj.write(\"I love programming.\")"
   ]
  },
  {
   "cell_type": "code",
   "execution_count": 75,
   "metadata": {},
   "outputs": [],
   "source": [
    "filename = \"programming.txt\"\n",
    "with open(filename, 'w') as file_obj:\n",
    "    file_obj.write(\"I love programming.\")\n",
    "    file_obj.write(\"I love creating new things.\")"
   ]
  },
  {
   "cell_type": "code",
   "execution_count": 76,
   "metadata": {},
   "outputs": [],
   "source": [
    "filename = \"programming.txt\"\n",
    "with open(filename, 'w') as file_obj:\n",
    "    file_obj.write(\"I love programming.\\n\")\n",
    "    file_obj.write(\"I love creating new things.\\n\")"
   ]
  },
  {
   "cell_type": "code",
   "execution_count": 77,
   "metadata": {},
   "outputs": [],
   "source": [
    "filename = \"programming.txt\"\n",
    "with open(filename, \"a\") as file_obj:\n",
    "    file_obj.write(\"\\ni love also finding meaning in large datasets.\")\n",
    "    file_obj.write(\"\\ni love creating apps that can run in browser.\")"
   ]
  },
  {
   "cell_type": "code",
   "execution_count": 4,
   "metadata": {},
   "outputs": [
    {
     "name": "stdout",
     "output_type": "stream",
     "text": [
      "Enter 'quit' when you finished:\n",
      "\n",
      "Enter your name:  arsalan\n",
      "Hello arsalan you were added in guest list\n",
      "\n",
      "Enter your name:  imran\n",
      "Hello imran you were added in guest list\n",
      "\n",
      "Enter your name:  quit\n"
     ]
    }
   ],
   "source": [
    "print(\"Enter 'quit' when you finished:\")\n",
    "while True:\n",
    "    name = input(\"\\nEnter your name:  \")\n",
    "    if name == 'quit':\n",
    "        break\n",
    "    else:   \n",
    "        with open(\"guest.txt\", \"a\") as file_obj:\n",
    "            file_obj.write(name)\n",
    "            file_obj.write('\\n')\n",
    "        print(\"Hello \"+str(name)+\" you were added in guest list\")"
   ]
  },
  {
   "cell_type": "code",
   "execution_count": 7,
   "metadata": {},
   "outputs": [
    {
     "name": "stdout",
     "output_type": "stream",
     "text": [
      "\n",
      "Why do you like programming? its fun\n",
      "Would you like to let someone else respond? (y/n) its amazing\n",
      "\n",
      "Why do you like programming? its amazing\n",
      "Would you like to let someone else respond? (y/n) y\n",
      "\n",
      "Why do you like programming? happy coding\n",
      "Would you like to let someone else respond? (y/n) n\n"
     ]
    }
   ],
   "source": [
    "responses = []\n",
    "while True:\n",
    "    response = input(\"\\nWhy do you like programming? \")\n",
    "    responses.append(response)\n",
    "    \n",
    "    continue_poll = input(\"Would you like to let someone else respond? (y/n) \")\n",
    "    \n",
    "    if continue_poll.lower() == 'n':\n",
    "        break\n",
    "    \n",
    "with open(\"programming_reason.txt\", \"a\") as file_obj:\n",
    "    for response in responses:\n",
    "        file_obj.write(response)\n",
    "        file_obj.write(\"\\n\")"
   ]
  },
  {
   "cell_type": "code",
   "execution_count": 1,
   "metadata": {},
   "outputs": [
    {
     "ename": "ZeroDivisionError",
     "evalue": "division by zero",
     "output_type": "error",
     "traceback": [
      "\u001b[1;31m---------------------------------------------------------------------------\u001b[0m",
      "\u001b[1;31mZeroDivisionError\u001b[0m                         Traceback (most recent call last)",
      "\u001b[1;32m<ipython-input-1-fad870a50e27>\u001b[0m in \u001b[0;36m<module>\u001b[1;34m\u001b[0m\n\u001b[1;32m----> 1\u001b[1;33m \u001b[0mprint\u001b[0m\u001b[1;33m(\u001b[0m\u001b[1;36m5\u001b[0m\u001b[1;33m/\u001b[0m\u001b[1;36m0\u001b[0m\u001b[1;33m)\u001b[0m\u001b[1;33m\u001b[0m\u001b[1;33m\u001b[0m\u001b[0m\n\u001b[0m",
      "\u001b[1;31mZeroDivisionError\u001b[0m: division by zero"
     ]
    }
   ],
   "source": [
    "print(5/0)"
   ]
  },
  {
   "cell_type": "code",
   "execution_count": 6,
   "metadata": {},
   "outputs": [
    {
     "name": "stdout",
     "output_type": "stream",
     "text": [
      "You can't divide by zero!\n"
     ]
    }
   ],
   "source": [
    "try:\n",
    "    print(5/0)\n",
    "except ZeroDivisionError:\n",
    "    print(\"You can't divide by zero!\")"
   ]
  },
  {
   "cell_type": "code",
   "execution_count": 11,
   "metadata": {},
   "outputs": [
    {
     "name": "stdout",
     "output_type": "stream",
     "text": [
      "Give me two numbers , and I'll divide them.\n",
      "Enter 'q' to quit.\n",
      "\n",
      "Enter first number: 5\n",
      "Enter Second number: 0\n",
      "You can't divide by zero.\n",
      "\n",
      "Enter first number: 2\n",
      "Enter Second number: 0\n",
      "You can't divide by zero.\n",
      "\n",
      "Enter first number: 1\n",
      "Enter Second number: 2\n",
      "0.5\n",
      "\n",
      "Enter first number: 10\n",
      "Enter Second number: 5\n",
      "2.0\n",
      "\n",
      "Enter first number: q\n"
     ]
    }
   ],
   "source": [
    "print(\"Give me two numbers , and I'll divide them.\")\n",
    "print(\"Enter 'q' to quit.\")\n",
    "\n",
    "while True:\n",
    "    first_number = input(\"\\nEnter first number: \")\n",
    "    \n",
    "    if first_number == 'q':\n",
    "        break\n",
    "    \n",
    "    second_number = input(\"Enter Second number: \")\n",
    "    \n",
    "    if second_number == 'q':\n",
    "        break\n",
    "    try:\n",
    "        answer = int(first_number) / int(second_number)\n",
    "    except ZeroDivisionError:\n",
    "        print(\"You can't divide by zero.\")\n",
    "    else:\n",
    "        print(answer)"
   ]
  },
  {
   "cell_type": "code",
   "execution_count": 13,
   "metadata": {},
   "outputs": [
    {
     "name": "stdout",
     "output_type": "stream",
     "text": [
      "Sorry, the file alice.txt does not exist.\n"
     ]
    }
   ],
   "source": [
    "filename = 'alice.txt'\n",
    "\n",
    "try:\n",
    "    with open(filename) as f_obj:\n",
    "        contents = f_obj.read()\n",
    "except FileNotFoundError:\n",
    "    print(\"Sorry, the file\",filename,\"does not exist.\")"
   ]
  },
  {
   "cell_type": "code",
   "execution_count": 14,
   "metadata": {},
   "outputs": [
    {
     "data": {
      "text/plain": [
       "['Alice', 'in', 'Wonderland']"
      ]
     },
     "execution_count": 14,
     "metadata": {},
     "output_type": "execute_result"
    }
   ],
   "source": [
    "title = \"Alice in Wonderland\"\n",
    "title.split()"
   ]
  },
  {
   "cell_type": "code",
   "execution_count": 16,
   "metadata": {},
   "outputs": [
    {
     "name": "stdout",
     "output_type": "stream",
     "text": [
      "The file alice.txt has about 6 words\n"
     ]
    }
   ],
   "source": [
    "filename = 'alice.txt'\n",
    "\n",
    "try:\n",
    "    with open(filename) as f_obj:\n",
    "        contents = f_obj.read()\n",
    "except FileNotFoundError:\n",
    "    print(\"Sorry, the file\",filename,\"does not exist.\")\n",
    "else:\n",
    "    # count the approximate number of words in the file\n",
    "    words = contents.split()\n",
    "    num_words = len(words)\n",
    "    print(\"The file\",filename,\"has about\",str(num_words),\"words\")"
   ]
  },
  {
   "cell_type": "code",
   "execution_count": 17,
   "metadata": {},
   "outputs": [
    {
     "ename": "NameError",
     "evalue": "name 'count_words' is not defined",
     "output_type": "error",
     "traceback": [
      "\u001b[1;31m---------------------------------------------------------------------------\u001b[0m",
      "\u001b[1;31mNameError\u001b[0m                                 Traceback (most recent call last)",
      "\u001b[1;32m<ipython-input-17-6f7bbd082da8>\u001b[0m in \u001b[0;36m<module>\u001b[1;34m\u001b[0m\n\u001b[0;32m      1\u001b[0m \u001b[0mfilename\u001b[0m\u001b[1;33m=\u001b[0m\u001b[1;34m'alice.txt'\u001b[0m\u001b[1;33m\u001b[0m\u001b[1;33m\u001b[0m\u001b[0m\n\u001b[1;32m----> 2\u001b[1;33m \u001b[0mcount_words\u001b[0m\u001b[1;33m(\u001b[0m\u001b[0mfilename\u001b[0m\u001b[1;33m)\u001b[0m\u001b[1;33m\u001b[0m\u001b[1;33m\u001b[0m\u001b[0m\n\u001b[0m",
      "\u001b[1;31mNameError\u001b[0m: name 'count_words' is not defined"
     ]
    }
   ],
   "source": [
    "filename='alice.txt'\n",
    "count_words(filename)"
   ]
  },
  {
   "cell_type": "code",
   "execution_count": 36,
   "metadata": {},
   "outputs": [
    {
     "name": "stdout",
     "output_type": "stream",
     "text": [
      "The file alice.txt has about 6 words\n",
      "Sorry, the file ab.txt does not exist.\n",
      "The file testing.txt has about 15 words\n",
      "Sorry, the file zy.txt does not exist.\n"
     ]
    }
   ],
   "source": [
    "def count_words(filename):\n",
    "    try:\n",
    "        with open(filename) as file_obj:\n",
    "            contents = file_obj.read()\n",
    "    except FileNotFoundError:\n",
    "        print(\"Sorry, the file\",filename,\"does not exist.\")\n",
    "    else:\n",
    "        # count the approximate number of words in the file\n",
    "        words = contents.split()\n",
    "        num_words = len(words)\n",
    "        print(\"The file\",filename,\"has about\",str(num_words),\"words\")\n",
    "\n",
    "filenames = ['alice.txt','ab.txt','testing.txt','zy.txt']\n",
    "for filename in filenames:\n",
    "    count_words(filename)"
   ]
  },
  {
   "cell_type": "code",
   "execution_count": 8,
   "metadata": {},
   "outputs": [
    {
     "name": "stdout",
     "output_type": "stream",
     "text": [
      "Press 'q' to Exit.\n",
      "\n",
      "Enter first number: s\n",
      "You entered invalid input\n",
      "\n",
      "Enter first number: d\n",
      "You entered invalid input\n",
      "\n",
      "Enter first number: 1\n",
      "Enter second number: d\n",
      "You entered invalid input\n",
      "\n",
      "Enter first number: q\n"
     ]
    }
   ],
   "source": [
    "print(\"Press 'q' to Exit.\")\n",
    "while True:\n",
    "    \n",
    "    try:\n",
    "        num_1 = input(\"\\nEnter first number: \")\n",
    "    \n",
    "        if num_1 == 'q':\n",
    "            break\n",
    "        num_1 = int(num_1)\n",
    "        \n",
    "        num_2 = input(\"Enter second number: \")\n",
    "        if num_2 == 'q':\n",
    "            break\n",
    "        num_2 = int(num_2)\n",
    "                   \n",
    "    except ValueError:\n",
    "        print(\"You entered invalid input\")\n",
    "    else:\n",
    "        result = num_1 + num_2 \n",
    "        print(\"Total sum of\",num_1,\"and\",num_2,\"is\",result)\n",
    "    "
   ]
  },
  {
   "cell_type": "code",
   "execution_count": 15,
   "metadata": {},
   "outputs": [
    {
     "name": "stdout",
     "output_type": "stream",
     "text": [
      "\n",
      "Reading file: cats.txt\n",
      "Kitty\n",
      "Callie\n",
      "Nala\n",
      "\n",
      "\n",
      "Reading file: dogs.txt\n",
      "Bailey\n",
      "Cooper\n",
      "Daisy\n"
     ]
    }
   ],
   "source": [
    "filenames = ['cats.txt','dogs.txt']\n",
    "\n",
    "for filename in filenames:\n",
    "    print(\"\\nReading file:\",filename)\n",
    "    try:\n",
    "        with open(filename) as file_obj:\n",
    "            content = file_obj.read()\n",
    "            \n",
    "    except FileNotFoundError:\n",
    "        print(\"Sorry\",filename,\"Not found try again\")\n",
    "    else:\n",
    "        print(content)"
   ]
  },
  {
   "cell_type": "code",
   "execution_count": 14,
   "metadata": {},
   "outputs": [
    {
     "name": "stdout",
     "output_type": "stream",
     "text": [
      "\n",
      "Reading file: cats.txt\n",
      "Kitty\n",
      "Callie\n",
      "Nala\n",
      "\n"
     ]
    }
   ],
   "source": [
    "filenames = ['cats.txt','dogs1.txt']\n",
    "\n",
    "for filename in filenames:\n",
    "    \n",
    "    try:\n",
    "        with open(filename) as file_obj:\n",
    "            content = file_obj.read()\n",
    "            \n",
    "    except FileNotFoundError:\n",
    "        pass\n",
    "    else:\n",
    "        print(\"\\nReading file:\",filename)\n",
    "        print(content)"
   ]
  },
  {
   "cell_type": "code",
   "execution_count": 16,
   "metadata": {},
   "outputs": [
    {
     "data": {
      "text/plain": [
       "2"
      ]
     },
     "execution_count": 16,
     "metadata": {},
     "output_type": "execute_result"
    }
   ],
   "source": [
    "line = \"Row, row, row your boat\"\n",
    "line.count('row')"
   ]
  },
  {
   "cell_type": "code",
   "execution_count": 17,
   "metadata": {},
   "outputs": [
    {
     "data": {
      "text/plain": [
       "3"
      ]
     },
     "execution_count": 17,
     "metadata": {},
     "output_type": "execute_result"
    }
   ],
   "source": [
    "line.lower().count('row')"
   ]
  },
  {
   "cell_type": "code",
   "execution_count": 18,
   "metadata": {},
   "outputs": [],
   "source": [
    "import json\n",
    "\n",
    "numbers = [2, 3, 5, 7, 11, 13]\n",
    "\n",
    "filename = 'numbers.json'\n",
    "with open(filename, 'w') as f_obj:\n",
    "    json.dump(numbers,f_obj)"
   ]
  },
  {
   "cell_type": "code",
   "execution_count": 19,
   "metadata": {},
   "outputs": [
    {
     "name": "stdout",
     "output_type": "stream",
     "text": [
      "[2, 3, 5, 7, 11, 13]\n"
     ]
    }
   ],
   "source": [
    "import json\n",
    "\n",
    "filename = 'numbers.json'\n",
    "with open(filename) as f_obj:\n",
    "    numbers = json.load(f_obj)\n",
    "print(numbers)"
   ]
  },
  {
   "cell_type": "code",
   "execution_count": 20,
   "metadata": {},
   "outputs": [
    {
     "name": "stdout",
     "output_type": "stream",
     "text": [
      "What is your name: arsalan\n",
      "We'll remember you when you come back,  arsalan !\n"
     ]
    }
   ],
   "source": [
    "import json\n",
    "username = input(\"What is your name: \")\n",
    "filename = 'username.json'\n",
    "\n",
    "with open(filename, 'w') as f_obj:\n",
    "    json.dump(username, f_obj)\n",
    "    print(\"We'll remember you when you come back, \",username,\"!\")"
   ]
  },
  {
   "cell_type": "code",
   "execution_count": 23,
   "metadata": {},
   "outputs": [
    {
     "name": "stdout",
     "output_type": "stream",
     "text": [
      "Welcome back, arsalan!\n"
     ]
    }
   ],
   "source": [
    "import json\n",
    "filename = 'username.json'\n",
    "with open(filename) as f_obj:\n",
    "    usernmae = json.load(f_obj)\n",
    "    print(\"Welcome back, \"+username+\"!\")"
   ]
  },
  {
   "cell_type": "code",
   "execution_count": 24,
   "metadata": {},
   "outputs": [
    {
     "name": "stdout",
     "output_type": "stream",
     "text": [
      "Welcome back, arsalan!\n"
     ]
    }
   ],
   "source": [
    "import json\n",
    "\n",
    "filename = 'username.json'\n",
    "\n",
    "try:\n",
    "    with open(filename) as f_obj:\n",
    "        username = json.load(f_obj)\n",
    "except FileNotFoundError:\n",
    "    username = input(\"What is your name? \")\n",
    "    with open(filename, 'w') as f_obj:\n",
    "        json.dump(username, f_obj)\n",
    "        print(\"We'll remember you when you come back, \"+username+\"!\")\n",
    "else:\n",
    "    print(\"Welcome back, \"+username+\"!\")"
   ]
  },
  {
   "cell_type": "code",
   "execution_count": 27,
   "metadata": {},
   "outputs": [],
   "source": [
    "\"\"\" Greet the user by name \"\"\"\n",
    "import json\n",
    "def greet_user():\n",
    "    filename = 'username.json'\n",
    "\n",
    "    try:\n",
    "        with open(filename) as f_obj:\n",
    "            username = json.load(f_obj)\n",
    "    except FileNotFoundError:\n",
    "        username = input(\"What is your name? \")\n",
    "        with open(filename, 'w') as f_obj:\n",
    "            json.dump(username, f_obj)\n",
    "            print(\"We'll remember you when you come back, \"+username+\"!\")\n",
    "    else:\n",
    "        print(\"Welcome back, \"+username+\"!\")"
   ]
  },
  {
   "cell_type": "code",
   "execution_count": 28,
   "metadata": {},
   "outputs": [
    {
     "name": "stdout",
     "output_type": "stream",
     "text": [
      "Welcome back, arsalan!\n"
     ]
    }
   ],
   "source": [
    "greet_user()"
   ]
  },
  {
   "cell_type": "code",
   "execution_count": 32,
   "metadata": {},
   "outputs": [],
   "source": [
    "\"\"\" Get stored username if available \"\"\"\n",
    "\n",
    "def get_stored_username():\n",
    "    filename = 'username.json'\n",
    "    try:\n",
    "        with open(filename) as f_obj:\n",
    "            username = json.load(f_obj)\n",
    "    except FileNotFoundError:\n",
    "        return None\n",
    "    else:\n",
    "        return username\n",
    "    \n",
    "def get_new_username():\n",
    "     username = input(\"What is your name? \")\n",
    "     with open(filename, 'w') as f_obj:\n",
    "        json.dump(username, f_obj)\n",
    "            \n",
    "            \n",
    "def greet_user():\n",
    "    username = get_stored_username()\n",
    "    if username:\n",
    "        print(\"Welcome back, \"+username+\"!\")\n",
    "    else:\n",
    "       username = get_new_username()\n",
    "       print(\"We'll remember you when you come back, \"+username+\"!\")\n",
    "   "
   ]
  },
  {
   "cell_type": "code",
   "execution_count": 33,
   "metadata": {},
   "outputs": [
    {
     "name": "stdout",
     "output_type": "stream",
     "text": [
      "Welcome back, arsalan!\n"
     ]
    }
   ],
   "source": [
    "greet_user()"
   ]
  },
  {
   "cell_type": "code",
   "execution_count": 2,
   "metadata": {},
   "outputs": [
    {
     "name": "stdout",
     "output_type": "stream",
     "text": [
      "Enter your favorite number: 9\n"
     ]
    }
   ],
   "source": [
    "import json\n",
    "\n",
    "filename = \"favorite_number.json\"\n",
    "\n",
    "fav_number = input(\"Enter your favorite number: \")\n",
    "\n",
    "with open(filename, \"w\") as file_obj:\n",
    "    json.dump(fav_number, file_obj)\n",
    "    "
   ]
  },
  {
   "cell_type": "code",
   "execution_count": 8,
   "metadata": {},
   "outputs": [
    {
     "name": "stdout",
     "output_type": "stream",
     "text": [
      "I know your favorite number! It's 8.\n"
     ]
    }
   ],
   "source": [
    "import json \n",
    "\n",
    "filename =\"favorite_number1.json\"\n",
    "\n",
    "\n",
    "try:\n",
    "    with open (filename) as file_obj:\n",
    "        fav_no = json.load(file_obj)\n",
    "except FileNotFoundError:\n",
    "    fav_number = input(\"Enter your favorite number: \")\n",
    "    with open(filename, \"w\") as file_obj:\n",
    "            json.dump(fav_number, file_obj)\n",
    "            print(\"Thanks, I'll remeber that.\")\n",
    "else:\n",
    "    print(\"I know your favorite number! It's \"+fav_no+\".\")"
   ]
  },
  {
   "cell_type": "code",
   "execution_count": 32,
   "metadata": {},
   "outputs": [],
   "source": [
    "\"\"\" Get stored username if available \"\"\"\n",
    "\n",
    "def get_stored_username():\n",
    "    filename = 'username.json'\n",
    "    try:\n",
    "        with open(filename) as f_obj:\n",
    "            username = json.load(f_obj)\n",
    "    except FileNotFoundError:\n",
    "        return None\n",
    "    else:\n",
    "        return username\n",
    "    \n",
    "def get_new_username():\n",
    "    username = input(\"What is your name? \")\n",
    "    filename = \"username.json\"\n",
    "    with open(filename, 'w') as f_obj:\n",
    "        json.dump(username, f_obj)\n",
    "    return username        \n",
    "            \n",
    "def greet_user():\n",
    "    username = get_stored_username()\n",
    "    if username:\n",
    "        correct = input(\"Are you \"+username+\"? (y/n)\")\n",
    "    \n",
    "        if correct == 'y':\n",
    "            print(\"Welcome back, \"+username+\"!\")\n",
    "        else:\n",
    "            username = get_new_username()\n",
    "            print(\"We'll remember you when you come back, \"+username+\"!\")\n",
    "    else:\n",
    "        username = get_new_username()\n",
    "        print(\"We'll remember you when you come back, \"+username+\"!\")"
   ]
  },
  {
   "cell_type": "code",
   "execution_count": 34,
   "metadata": {},
   "outputs": [
    {
     "name": "stdout",
     "output_type": "stream",
     "text": [
      "Are you a? (y/n)n\n",
      "What is your name? Imran\n",
      "We'll remember you when you come back, Imran!\n"
     ]
    }
   ],
   "source": [
    "greet_user()"
   ]
  },
  {
   "cell_type": "code",
   "execution_count": 35,
   "metadata": {},
   "outputs": [
    {
     "name": "stdout",
     "output_type": "stream",
     "text": [
      "Are you Imran? (y/n)y\n",
      "Welcome back, Imran!\n"
     ]
    }
   ],
   "source": [
    "greet_user()"
   ]
  },
  {
   "cell_type": "code",
   "execution_count": null,
   "metadata": {},
   "outputs": [],
   "source": []
  }
 ],
 "metadata": {
  "kernelspec": {
   "display_name": "Python 3",
   "language": "python",
   "name": "python3"
  },
  "language_info": {
   "codemirror_mode": {
    "name": "ipython",
    "version": 3
   },
   "file_extension": ".py",
   "mimetype": "text/x-python",
   "name": "python",
   "nbconvert_exporter": "python",
   "pygments_lexer": "ipython3",
   "version": "3.7.3"
  }
 },
 "nbformat": 4,
 "nbformat_minor": 2
}
