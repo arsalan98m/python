{
 "cells": [
  {
   "cell_type": "code",
   "execution_count": 1,
   "metadata": {},
   "outputs": [
    {
     "name": "stdout",
     "output_type": "stream",
     "text": [
      "7\n"
     ]
    }
   ],
   "source": [
    "# functions\n",
    "\n",
    "name = \"arsalan\"\n",
    "print(len(name))"
   ]
  },
  {
   "cell_type": "code",
   "execution_count": 2,
   "metadata": {},
   "outputs": [
    {
     "name": "stdout",
     "output_type": "stream",
     "text": [
      "9\n"
     ]
    }
   ],
   "source": [
    "def add_two(a, b):\n",
    "    return a + b\n",
    "\n",
    "total = add_two(5,4)\n",
    "print(total)"
   ]
  },
  {
   "cell_type": "code",
   "execution_count": 3,
   "metadata": {},
   "outputs": [
    {
     "name": "stdout",
     "output_type": "stream",
     "text": [
      "Enter your first number: 10\n",
      "Enter your second number: 3\n",
      "13\n"
     ]
    }
   ],
   "source": [
    "def add_two(num1, num2):\n",
    "    return num1+num2\n",
    "\n",
    "\n",
    "a = int(input(\"Enter your first number: \"))\n",
    "b = int(input(\"Enter your second number: \"))\n",
    "total = add_two(a,b)\n",
    "print(total)"
   ]
  },
  {
   "cell_type": "code",
   "execution_count": 3,
   "metadata": {},
   "outputs": [
    {
     "name": "stdout",
     "output_type": "stream",
     "text": [
      "Enter your first num: 9\n",
      "Enter your second num: 1\n",
      "9 is greater\n"
     ]
    }
   ],
   "source": [
    "def greater(num1, num2):\n",
    "    if num1 > num2:\n",
    "        return num1\n",
    "    else:\n",
    "        return num2\n",
    "\n",
    "first = int(input(\"Enter your first num: \"))\n",
    "second = int(input(\"Enter your second num: \"))\n",
    "\n",
    "bigger = greater(first, second)\n",
    "print(f\"{bigger} is greater\")"
   ]
  },
  {
   "cell_type": "code",
   "execution_count": 8,
   "metadata": {},
   "outputs": [
    {
     "name": "stdout",
     "output_type": "stream",
     "text": [
      "Enter your first num: 10\n",
      "Enter your second num: 0\n",
      "Enter your thirdsecond num: 2\n",
      "10 is greater\n"
     ]
    }
   ],
   "source": [
    "def greater(num1, num2, num3):\n",
    "    if num1 > num2 and num1 > num3:\n",
    "        return num1\n",
    "    elif num2 > num1 and num2 > num3:\n",
    "        return num2\n",
    "    else: \n",
    "        return num3\n",
    "\n",
    "first = int(input(\"Enter your first num: \"))\n",
    "second = int(input(\"Enter your second num: \"))\n",
    "third =  int(input(\"Enter your thirdsecond num: \"))\n",
    "\n",
    "bigger = greater(first, second,third)\n",
    "print(f\"{bigger} is greater\")"
   ]
  },
  {
   "cell_type": "code",
   "execution_count": 6,
   "metadata": {},
   "outputs": [
    {
     "name": "stdout",
     "output_type": "stream",
     "text": [
      "[1, 2, 3, 4]\n",
      "['apple', 'orange', 'banana', 'cherry', 6, 7, 8, 9]\n",
      "[0, 1, 0, 1, 0, 1, 0, 1]\n"
     ]
    }
   ],
   "source": [
    "fruit = ['apple', 'orange', 'banana', 'cherry']\n",
    "print([1,2] + [3,4])\n",
    "print(fruit+[6,7,8,9])\n",
    "print([0,1]*+4)"
   ]
  },
  {
   "cell_type": "code",
   "execution_count": 8,
   "metadata": {},
   "outputs": [
    {
     "name": "stdout",
     "output_type": "stream",
     "text": [
      "['apple', 'orange', 'banana', 'cherry', 1, 'apple', 'orange', 'banana', 'cherry', 1, 'apple', 'orange', 'banana', 'cherry', 1, 'apple', 'orange', 'banana', 'cherry', 1]\n"
     ]
    }
   ],
   "source": [
    "print((fruit+[1]) * 4)"
   ]
  },
  {
   "cell_type": "code",
   "execution_count": 9,
   "metadata": {},
   "outputs": [
    {
     "name": "stdout",
     "output_type": "stream",
     "text": [
      "5\n",
      "2\n"
     ]
    }
   ],
   "source": [
    "a = \"I have had an apple on my desk before!\"\n",
    "print(a.count(\"e\"))\n",
    "print(a.count(\"ha\"))"
   ]
  },
  {
   "cell_type": "code",
   "execution_count": 13,
   "metadata": {},
   "outputs": [
    {
     "name": "stdout",
     "output_type": "stream",
     "text": [
      "2\n"
     ]
    }
   ],
   "source": [
    "z = ['atomes',4,'neutrons',6, 'proton',4,'electron',4,'electron','atoms']\n",
    "#print(z.count(\"4\"))\n",
    "#print(z.count(4))\n",
    "#print(z.count(\"a\"))\n",
    "print(z.count(\"electron\"))"
   ]
  },
  {
   "cell_type": "code",
   "execution_count": 18,
   "metadata": {},
   "outputs": [
    {
     "name": "stdout",
     "output_type": "stream",
     "text": [
      "14\n",
      "9\n",
      "0\n",
      "3\n"
     ]
    },
    {
     "ename": "ValueError",
     "evalue": "43 is not in list",
     "output_type": "error",
     "traceback": [
      "\u001b[1;31m---------------------------------------------------------------------------\u001b[0m",
      "\u001b[1;31mValueError\u001b[0m                                Traceback (most recent call last)",
      "\u001b[1;32m<ipython-input-18-8d642540ace8>\u001b[0m in \u001b[0;36m<module>\u001b[1;34m\u001b[0m\n\u001b[0;32m      6\u001b[0m \u001b[0mprint\u001b[0m\u001b[1;33m(\u001b[0m\u001b[0mbio\u001b[0m\u001b[1;33m.\u001b[0m\u001b[0mindex\u001b[0m\u001b[1;33m(\u001b[0m\u001b[1;34m\"Metatarsal\"\u001b[0m\u001b[1;33m)\u001b[0m\u001b[1;33m)\u001b[0m\u001b[1;33m\u001b[0m\u001b[1;33m\u001b[0m\u001b[0m\n\u001b[0;32m      7\u001b[0m \u001b[0mprint\u001b[0m\u001b[1;33m(\u001b[0m\u001b[0mbio\u001b[0m\u001b[1;33m.\u001b[0m\u001b[0mindex\u001b[0m\u001b[1;33m(\u001b[0m\u001b[1;33m[\u001b[0m\u001b[1;33m]\u001b[0m\u001b[1;33m)\u001b[0m\u001b[1;33m)\u001b[0m\u001b[1;33m\u001b[0m\u001b[1;33m\u001b[0m\u001b[0m\n\u001b[1;32m----> 8\u001b[1;33m \u001b[0mprint\u001b[0m\u001b[1;33m(\u001b[0m\u001b[0mbio\u001b[0m\u001b[1;33m.\u001b[0m\u001b[0mindex\u001b[0m\u001b[1;33m(\u001b[0m\u001b[1;36m43\u001b[0m\u001b[1;33m)\u001b[0m\u001b[1;33m)\u001b[0m\u001b[1;33m\u001b[0m\u001b[1;33m\u001b[0m\u001b[0m\n\u001b[0m",
      "\u001b[1;31mValueError\u001b[0m: 43 is not in list"
     ]
    }
   ],
   "source": [
    "music = \"Pull out your music and dancing can begin\"\n",
    "bio = [\"Metatarsal\", \"Metatarsal\", \"Fibula\",[],\"Tiba\",\"Tiba\",\"Four\"]\n",
    "\n",
    "print(music.index(\"m\"))\n",
    "print(music.index(\"your\"))\n",
    "print(bio.index(\"Metatarsal\"))\n",
    "print(bio.index([]))\n",
    "print(bio.index(43))"
   ]
  },
  {
   "cell_type": "code",
   "execution_count": 19,
   "metadata": {},
   "outputs": [
    {
     "name": "stdout",
     "output_type": "stream",
     "text": [
      "['The', 'rain', 'in', 'spain']\n"
     ]
    }
   ],
   "source": [
    "song = \"The rain in spain\"\n",
    "wds = song.split()\n",
    "print(wds)"
   ]
  },
  {
   "cell_type": "code",
   "execution_count": 20,
   "metadata": {},
   "outputs": [
    {
     "name": "stdout",
     "output_type": "stream",
     "text": [
      "['l', 'ad', 'r and b', 'st']\n"
     ]
    }
   ],
   "source": [
    "a = \"leader and best\"\n",
    "b = a.split(\"e\")\n",
    "print(b)"
   ]
  },
  {
   "cell_type": "code",
   "execution_count": 21,
   "metadata": {},
   "outputs": [
    {
     "name": "stdout",
     "output_type": "stream",
     "text": [
      "['The r', 'n in sp', 'n']\n"
     ]
    }
   ],
   "source": [
    "song = \"The rain in spain\"\n",
    "wds = song.split(\"ai\")\n",
    "print(wds)"
   ]
  },
  {
   "cell_type": "code",
   "execution_count": 22,
   "metadata": {},
   "outputs": [
    {
     "name": "stdout",
     "output_type": "stream",
     "text": [
      "red;blue;green\n"
     ]
    }
   ],
   "source": [
    "wds = [\"red\",\"blue\",\"green\"]\n",
    "glue = \";\"\n",
    "s = glue.join(wds)\n",
    "print(s)"
   ]
  },
  {
   "cell_type": "code",
   "execution_count": 23,
   "metadata": {},
   "outputs": [
    {
     "name": "stdout",
     "output_type": "stream",
     "text": [
      "redbluegreen\n"
     ]
    }
   ],
   "source": [
    "print(\"\".join(wds))"
   ]
  },
  {
   "cell_type": "code",
   "execution_count": 25,
   "metadata": {},
   "outputs": [
    {
     "name": "stdout",
     "output_type": "stream",
     "text": [
      "hello world\n"
     ]
    }
   ],
   "source": [
    "wds = \"hello world\"\n",
    "glue = \"/\"\n",
    "s = glue.join(wds)\n",
    "print(wds)"
   ]
  },
  {
   "cell_type": "code",
   "execution_count": 28,
   "metadata": {},
   "outputs": [
    {
     "name": "stdout",
     "output_type": "stream",
     "text": [
      "<class 'str'>\n",
      "<class 'list'>\n"
     ]
    }
   ],
   "source": [
    "wds = [\"red\",\"green\",\"blue\"]\n",
    "glue = \";\"\n",
    "s = glue.join(wds)\n",
    "print(type(s))\n",
    "print(type(wds))"
   ]
  },
  {
   "cell_type": "code",
   "execution_count": 32,
   "metadata": {},
   "outputs": [
    {
     "data": {
      "text/plain": [
       "'a *   * b *   * c'"
      ]
     },
     "execution_count": 32,
     "metadata": {},
     "output_type": "execute_result"
    }
   ],
   "source": [
    "\" * \".join(\"a b c\")"
   ]
  },
  {
   "cell_type": "code",
   "execution_count": 58,
   "metadata": {},
   "outputs": [
    {
     "name": "stdout",
     "output_type": "stream",
     "text": [
      "['7']\n",
      "<class 'list'>\n"
     ]
    }
   ],
   "source": [
    "l = ['w','7',0,9]\n",
    "m = l[1:2]\n",
    "print(m)\n",
    "print(type(m))"
   ]
  },
  {
   "cell_type": "code",
   "execution_count": 59,
   "metadata": {},
   "outputs": [
    {
     "name": "stdout",
     "output_type": "stream",
     "text": [
      "7\n",
      "<class 'str'>\n"
     ]
    }
   ],
   "source": [
    "l = ['w','7',0,9]\n",
    "m = l[1]\n",
    "print(m)\n",
    "print(type(m))"
   ]
  },
  {
   "cell_type": "code",
   "execution_count": 73,
   "metadata": {},
   "outputs": [
    {
     "name": "stdout",
     "output_type": "stream",
     "text": [
      "You are doing a great job, keep it up!\n"
     ]
    }
   ],
   "source": [
    "by = \"You are\"\n",
    "az = \"doing a great \"\n",
    "io = \"job\"\n",
    "qy = \"keep it up!\"\n",
    "message = by + \" \"+az+io+\", \"+qy\n",
    "print(message)"
   ]
  },
  {
   "cell_type": "code",
   "execution_count": 74,
   "metadata": {},
   "outputs": [
    {
     "name": "stdout",
     "output_type": "stream",
     "text": [
      "Hi arsalan pleae come and try nihari\n",
      "Hi usman pleae come and try nihari\n",
      "Hi bilal pleae come and try nihari\n",
      "Hi tahir pleae come and try nihari\n"
     ]
    }
   ],
   "source": [
    "for name in [\"arsalan\",\"usman\",\"bilal\",\"tahir\"]:\n",
    "    print(\"Hi\",name, \"pleae come and try nihari\")"
   ]
  },
  {
   "cell_type": "code",
   "execution_count": 75,
   "metadata": {},
   "outputs": [
    {
     "name": "stdout",
     "output_type": "stream",
     "text": [
      "range(5):\n",
      "0\n",
      "1\n",
      "2\n",
      "3\n",
      "4\n"
     ]
    }
   ],
   "source": [
    "nums = [1,2,3,4,5,6,7,8,9,10]\n",
    "\n",
    "print(\"range(5):\")\n",
    "for i in range(5):\n",
    "    print(i)"
   ]
  },
  {
   "cell_type": "code",
   "execution_count": 76,
   "metadata": {},
   "outputs": [
    {
     "name": "stdout",
     "output_type": "stream",
     "text": [
      "range(0,5)\n",
      "0\n",
      "1\n",
      "2\n",
      "3\n",
      "4\n"
     ]
    }
   ],
   "source": [
    "print(\"range(0,5)\")\n",
    "for i in range(0,5):\n",
    "    print(i)"
   ]
  },
  {
   "cell_type": "code",
   "execution_count": 77,
   "metadata": {},
   "outputs": [
    {
     "name": "stdout",
     "output_type": "stream",
     "text": [
      "[0, 1, 2, 3, 4]\n"
     ]
    }
   ],
   "source": [
    "print(list(range(5)))"
   ]
  },
  {
   "cell_type": "code",
   "execution_count": 78,
   "metadata": {},
   "outputs": [
    {
     "name": "stdout",
     "output_type": "stream",
     "text": [
      "range(0, 5)\n"
     ]
    }
   ],
   "source": [
    "print(range(5))"
   ]
  },
  {
   "cell_type": "code",
   "execution_count": 80,
   "metadata": {},
   "outputs": [
    {
     "name": "stdout",
     "output_type": "stream",
     "text": [
      "range(1, 11)\n",
      "<class 'range'>\n"
     ]
    }
   ],
   "source": [
    "nums = range(1,11)\n",
    "print(nums)\n",
    "print(type(nums))"
   ]
  },
  {
   "cell_type": "code",
   "execution_count": 81,
   "metadata": {},
   "outputs": [],
   "source": [
    "nums = [1, 2, 3, 4, 5, 6, 7, 8, 9, 10]\n",
    "\n",
    "for w in nums:\n",
    "    accum = 0\n",
    "    accum = accum+w"
   ]
  },
  {
   "cell_type": "code",
   "execution_count": 82,
   "metadata": {},
   "outputs": [
    {
     "data": {
      "text/plain": [
       "10"
      ]
     },
     "execution_count": 82,
     "metadata": {},
     "output_type": "execute_result"
    }
   ],
   "source": [
    "accum"
   ]
  },
  {
   "cell_type": "code",
   "execution_count": null,
   "metadata": {},
   "outputs": [],
   "source": []
  }
 ],
 "metadata": {
  "kernelspec": {
   "display_name": "Python 3",
   "language": "python",
   "name": "python3"
  },
  "language_info": {
   "codemirror_mode": {
    "name": "ipython",
    "version": 3
   },
   "file_extension": ".py",
   "mimetype": "text/x-python",
   "name": "python",
   "nbconvert_exporter": "python",
   "pygments_lexer": "ipython3",
   "version": "3.7.3"
  }
 },
 "nbformat": 4,
 "nbformat_minor": 2
}
