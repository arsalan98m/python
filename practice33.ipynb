{
 "cells": [
  {
   "cell_type": "code",
   "execution_count": 1,
   "metadata": {},
   "outputs": [
    {
     "name": "stdout",
     "output_type": "stream",
     "text": [
      "7\n"
     ]
    }
   ],
   "source": [
    "# functions\n",
    "\n",
    "name = \"arsalan\"\n",
    "print(len(name))"
   ]
  },
  {
   "cell_type": "code",
   "execution_count": 2,
   "metadata": {},
   "outputs": [
    {
     "name": "stdout",
     "output_type": "stream",
     "text": [
      "9\n"
     ]
    }
   ],
   "source": [
    "def add_two(a, b):\n",
    "    return a + b\n",
    "\n",
    "total = add_two(5,4)\n",
    "print(total)"
   ]
  },
  {
   "cell_type": "code",
   "execution_count": 3,
   "metadata": {},
   "outputs": [
    {
     "name": "stdout",
     "output_type": "stream",
     "text": [
      "Enter your first number: 10\n",
      "Enter your second number: 3\n",
      "13\n"
     ]
    }
   ],
   "source": [
    "def add_two(num1, num2):\n",
    "    return num1+num2\n",
    "\n",
    "\n",
    "a = int(input(\"Enter your first number: \"))\n",
    "b = int(input(\"Enter your second number: \"))\n",
    "total = add_two(a,b)\n",
    "print(total)"
   ]
  },
  {
   "cell_type": "code",
   "execution_count": 3,
   "metadata": {},
   "outputs": [
    {
     "name": "stdout",
     "output_type": "stream",
     "text": [
      "Enter your first num: 9\n",
      "Enter your second num: 1\n",
      "9 is greater\n"
     ]
    }
   ],
   "source": [
    "def greater(num1, num2):\n",
    "    if num1 > num2:\n",
    "        return num1\n",
    "    else:\n",
    "        return num2\n",
    "\n",
    "first = int(input(\"Enter your first num: \"))\n",
    "second = int(input(\"Enter your second num: \"))\n",
    "\n",
    "bigger = greater(first, second)\n",
    "print(f\"{bigger} is greater\")"
   ]
  },
  {
   "cell_type": "code",
   "execution_count": 8,
   "metadata": {},
   "outputs": [
    {
     "name": "stdout",
     "output_type": "stream",
     "text": [
      "Enter your first num: 10\n",
      "Enter your second num: 0\n",
      "Enter your thirdsecond num: 2\n",
      "10 is greater\n"
     ]
    }
   ],
   "source": [
    "def greater(num1, num2, num3):\n",
    "    if num1 > num2 and num1 > num3:\n",
    "        return num1\n",
    "    elif num2 > num1 and num2 > num3:\n",
    "        return num2\n",
    "    else: \n",
    "        return num3\n",
    "\n",
    "first = int(input(\"Enter your first num: \"))\n",
    "second = int(input(\"Enter your second num: \"))\n",
    "third =  int(input(\"Enter your thirdsecond num: \"))\n",
    "\n",
    "bigger = greater(first, second,third)\n",
    "print(f\"{bigger} is greater\")"
   ]
  },
  {
   "cell_type": "code",
   "execution_count": null,
   "metadata": {},
   "outputs": [],
   "source": []
  }
 ],
 "metadata": {
  "kernelspec": {
   "display_name": "Python 3",
   "language": "python",
   "name": "python3"
  },
  "language_info": {
   "codemirror_mode": {
    "name": "ipython",
    "version": 3
   },
   "file_extension": ".py",
   "mimetype": "text/x-python",
   "name": "python",
   "nbconvert_exporter": "python",
   "pygments_lexer": "ipython3",
   "version": "3.7.3"
  }
 },
 "nbformat": 4,
 "nbformat_minor": 2
}
