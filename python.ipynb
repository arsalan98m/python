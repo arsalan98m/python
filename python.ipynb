{
 "cells": [
  {
   "cell_type": "markdown",
   "metadata": {},
   "source": [
    "## Print"
   ]
  },
  {
   "cell_type": "code",
   "execution_count": 1,
   "metadata": {},
   "outputs": [
    {
     "name": "stdout",
     "output_type": "stream",
     "text": [
      "hello\n"
     ]
    }
   ],
   "source": [
    "print(\"hello\")"
   ]
  },
  {
   "cell_type": "code",
   "execution_count": 2,
   "metadata": {},
   "outputs": [
    {
     "name": "stdout",
     "output_type": "stream",
     "text": [
      "hello\n"
     ]
    }
   ],
   "source": [
    "print('hello')"
   ]
  },
  {
   "cell_type": "code",
   "execution_count": 3,
   "metadata": {},
   "outputs": [
    {
     "name": "stdout",
     "output_type": "stream",
     "text": [
      "hello 'world' world\n"
     ]
    }
   ],
   "source": [
    "print(\"hello 'world' world\")"
   ]
  },
  {
   "cell_type": "code",
   "execution_count": 4,
   "metadata": {},
   "outputs": [
    {
     "name": "stdout",
     "output_type": "stream",
     "text": [
      "hello \"world\" world\n"
     ]
    }
   ],
   "source": [
    "print('hello \"world\" world')"
   ]
  },
  {
   "cell_type": "code",
   "execution_count": 7,
   "metadata": {},
   "outputs": [
    {
     "name": "stdout",
     "output_type": "stream",
     "text": [
      "I'm arsalan\n"
     ]
    }
   ],
   "source": [
    "print(\"I'm arsalan\")"
   ]
  },
  {
   "cell_type": "code",
   "execution_count": 9,
   "metadata": {},
   "outputs": [],
   "source": [
    "# print(\"Hello \"world\" world\") # this is error"
   ]
  },
  {
   "cell_type": "code",
   "execution_count": 10,
   "metadata": {},
   "outputs": [],
   "source": [
    "# print('Hello 'world' world') # this is error"
   ]
  },
  {
   "cell_type": "code",
   "execution_count": 82,
   "metadata": {},
   "outputs": [
    {
     "name": "stdout",
     "output_type": "stream",
     "text": [
      "Python\n"
     ]
    }
   ],
   "source": [
    "print(\"Py\"    +     \"thon\")"
   ]
  },
  {
   "cell_type": "code",
   "execution_count": 83,
   "metadata": {},
   "outputs": [
    {
     "data": {
      "text/plain": [
       "'Python'"
      ]
     },
     "execution_count": 83,
     "metadata": {},
     "output_type": "execute_result"
    }
   ],
   "source": [
    "\"Py\"    \"thon\""
   ]
  },
  {
   "cell_type": "code",
   "execution_count": 84,
   "metadata": {},
   "outputs": [
    {
     "name": "stdout",
     "output_type": "stream",
     "text": [
      "\n",
      "Usage: thingy [OPTIONS]\n",
      "    -h                 Dispaly this usage message\n",
      "    -H hostname        Hostname to connect to\n",
      "\n"
     ]
    }
   ],
   "source": [
    "print(\"\"\"\n",
    "Usage: thingy [OPTIONS]\n",
    "    -h                 Dispaly this usage message\n",
    "    -H hostname        Hostname to connect to\n",
    "\"\"\")"
   ]
  },
  {
   "cell_type": "markdown",
   "metadata": {},
   "source": [
    "### Escape Sequence"
   ]
  },
  {
   "cell_type": "code",
   "execution_count": 6,
   "metadata": {},
   "outputs": [
    {
     "name": "stdout",
     "output_type": "stream",
     "text": [
      "Hello \"world\" world\n"
     ]
    }
   ],
   "source": [
    "print(\"Hello \\\"world\\\" world\")"
   ]
  },
  {
   "cell_type": "code",
   "execution_count": 11,
   "metadata": {},
   "outputs": [
    {
     "name": "stdout",
     "output_type": "stream",
     "text": [
      "Hello 'world' world\n"
     ]
    }
   ],
   "source": [
    "print('Hello \\'world\\' world')"
   ]
  },
  {
   "cell_type": "code",
   "execution_count": 12,
   "metadata": {},
   "outputs": [
    {
     "name": "stdout",
     "output_type": "stream",
     "text": [
      "I'm arsalan\n"
     ]
    }
   ],
   "source": [
    "print('I\\'m arsalan')"
   ]
  },
  {
   "cell_type": "code",
   "execution_count": 14,
   "metadata": {},
   "outputs": [
    {
     "name": "stdout",
     "output_type": "stream",
     "text": [
      "line A\n",
      "line B\n"
     ]
    }
   ],
   "source": [
    "print(\"line A\\nline B\")"
   ]
  },
  {
   "cell_type": "code",
   "execution_count": 15,
   "metadata": {},
   "outputs": [
    {
     "name": "stdout",
     "output_type": "stream",
     "text": [
      "line A\n",
      "line B\n",
      "line C\n"
     ]
    }
   ],
   "source": [
    "print(\"line A\\nline B\\nline C\")"
   ]
  },
  {
   "cell_type": "code",
   "execution_count": 16,
   "metadata": {},
   "outputs": [
    {
     "name": "stdout",
     "output_type": "stream",
     "text": [
      "name\tarsalan\n"
     ]
    }
   ],
   "source": [
    "print(\"name\\tarsalan\")"
   ]
  },
  {
   "cell_type": "code",
   "execution_count": 26,
   "metadata": {},
   "outputs": [],
   "source": [
    "#print(\"this is  backslash\\\")\n",
    "# python ka interpreter confuse ky end of line main kya karna hai\n",
    "# iska hal yeh hai k hamesha // backslash use karna"
   ]
  },
  {
   "cell_type": "code",
   "execution_count": 27,
   "metadata": {},
   "outputs": [
    {
     "name": "stdout",
     "output_type": "stream",
     "text": [
      "this is backslash\\\n"
     ]
    }
   ],
   "source": [
    "print(\"this is backslash\\\\\")"
   ]
  },
  {
   "cell_type": "code",
   "execution_count": 28,
   "metadata": {},
   "outputs": [
    {
     "name": "stdout",
     "output_type": "stream",
     "text": [
      "this is double backslash\\\\\n"
     ]
    }
   ],
   "source": [
    "print(\"this is double backslash\\\\\\\\\")"
   ]
  },
  {
   "cell_type": "code",
   "execution_count": 29,
   "metadata": {},
   "outputs": [
    {
     "name": "stdout",
     "output_type": "stream",
     "text": [
      "hell\blo\n"
     ]
    }
   ],
   "source": [
    "print(\"hell\\blo\")"
   ]
  },
  {
   "cell_type": "code",
   "execution_count": 30,
   "metadata": {},
   "outputs": [],
   "source": [
    "# this is comment"
   ]
  },
  {
   "cell_type": "code",
   "execution_count": 31,
   "metadata": {},
   "outputs": [
    {
     "data": {
      "text/plain": [
       "'\\nthis is multi line\\ncomment\\n'"
      ]
     },
     "execution_count": 31,
     "metadata": {},
     "output_type": "execute_result"
    }
   ],
   "source": [
    "'''\n",
    "this is multi line\n",
    "comment\n",
    "'''"
   ]
  },
  {
   "cell_type": "code",
   "execution_count": 33,
   "metadata": {},
   "outputs": [
    {
     "data": {
      "text/plain": [
       "'\\nthis is multi line\\ncomment\\n'"
      ]
     },
     "execution_count": 33,
     "metadata": {},
     "output_type": "execute_result"
    }
   ],
   "source": [
    "\"\"\"\n",
    "this is multi line\n",
    "comment\n",
    "\"\"\""
   ]
  },
  {
   "cell_type": "code",
   "execution_count": 36,
   "metadata": {},
   "outputs": [
    {
     "name": "stdout",
     "output_type": "stream",
     "text": [
      "Line A \\n Line B\n"
     ]
    }
   ],
   "source": [
    "# output : Line A \\n Line B\n",
    "\n",
    "print(\"Line A \\\\n Line B\")"
   ]
  },
  {
   "cell_type": "code",
   "execution_count": 37,
   "metadata": {},
   "outputs": [
    {
     "name": "stdout",
     "output_type": "stream",
     "text": [
      "Line B \\t\n"
     ]
    }
   ],
   "source": [
    "print(\"Line B \\\\t\")"
   ]
  },
  {
   "cell_type": "code",
   "execution_count": 38,
   "metadata": {},
   "outputs": [
    {
     "name": "stdout",
     "output_type": "stream",
     "text": [
      "this is double backslash \\\\\n"
     ]
    }
   ],
   "source": [
    "print(\"this is double backslash \\\\\\\\\")"
   ]
  },
  {
   "cell_type": "code",
   "execution_count": 39,
   "metadata": {},
   "outputs": [
    {
     "name": "stdout",
     "output_type": "stream",
     "text": [
      "this is 4 backslah \\\\\\\\\n"
     ]
    }
   ],
   "source": [
    "print(\"this is 4 backslah \\\\\\\\\\\\\\\\\")"
   ]
  },
  {
   "cell_type": "code",
   "execution_count": 50,
   "metadata": {},
   "outputs": [
    {
     "name": "stdout",
     "output_type": "stream",
     "text": [
      "\\\" \\'\n"
     ]
    }
   ],
   "source": [
    "# output: \\\" \\'\n",
    "print(\"\\\\\\\" \\\\'\")"
   ]
  },
  {
   "cell_type": "code",
   "execution_count": 51,
   "metadata": {},
   "outputs": [
    {
     "data": {
      "text/plain": [
       "512"
      ]
     },
     "execution_count": 51,
     "metadata": {},
     "output_type": "execute_result"
    }
   ],
   "source": [
    "2**3**2**1"
   ]
  },
  {
   "cell_type": "markdown",
   "metadata": {},
   "source": [
    "#### Exercise # 1\n",
    "- *************** Print these following lines***********\n",
    "- this is \\\\\\ double backslash\n",
    "- this is /\\\\/\\\\/\\\\/\\\\ mountain\n",
    "- he is    awesome (use escape sequence instead of manual spaces)\n",
    "- \\\" \\n \\' (print this is an output)"
   ]
  },
  {
   "cell_type": "code",
   "execution_count": 20,
   "metadata": {},
   "outputs": [
    {
     "name": "stdout",
     "output_type": "stream",
     "text": [
      "this is \\\\ double slash\n",
      "this is /\\/\\/\\/\\ mountain\n",
      "he is \tawesome\n",
      "\\\" \\n \\t \\' \n"
     ]
    }
   ],
   "source": [
    "print(\"this is \\\\\\\\ double slash\")\n",
    "print(\"this is /\\/\\/\\/\\ mountain\")\n",
    "print(\"he is \\tawesome\")\n",
    "print(\"\\\\\\\" \\\\n \\\\t \\\\\\' \")"
   ]
  },
  {
   "cell_type": "code",
   "execution_count": 21,
   "metadata": {},
   "outputs": [
    {
     "name": "stdout",
     "output_type": "stream",
     "text": [
      "line A \\n line B\n"
     ]
    }
   ],
   "source": [
    "# Raw strings - r means ignore escape sequence and treat normal text\n",
    "print(r\"line A \\n line B\")"
   ]
  },
  {
   "cell_type": "code",
   "execution_count": 22,
   "metadata": {},
   "outputs": [
    {
     "name": "stdout",
     "output_type": "stream",
     "text": [
      "\\\" \\' \\n \\t \n"
     ]
    }
   ],
   "source": [
    "print(r\"\\\" \\' \\n \\t \")"
   ]
  },
  {
   "cell_type": "code",
   "execution_count": 29,
   "metadata": {},
   "outputs": [
    {
     "name": "stdout",
     "output_type": "stream",
     "text": [
      "😂\n",
      "😕\n"
     ]
    }
   ],
   "source": [
    "# emoji\n",
    "print(\"\\U0001F602\")\n",
    "print(\"\\U0001F615\")"
   ]
  },
  {
   "cell_type": "markdown",
   "metadata": {},
   "source": [
    "### Python as a Calculator"
   ]
  },
  {
   "cell_type": "code",
   "execution_count": 46,
   "metadata": {},
   "outputs": [
    {
     "name": "stdout",
     "output_type": "stream",
     "text": [
      "5\n",
      "14\n",
      "0.5\n",
      "0\n",
      "8\n",
      "1.4142135623730951\n",
      "1.4142\n",
      "20.0\n",
      "1\n",
      "10\n",
      "0.5\n",
      "0.5\n",
      "512\n"
     ]
    }
   ],
   "source": [
    "print(2+3)\n",
    "print(2+3*4)\n",
    "print(2/4)    # floating point division\n",
    "print(2//4)   # integer divison\n",
    "print(2**3)   # exponent\n",
    "print(2**0.5) # squareroot (kun ki underroot kya hota 1/2 or 1/2 = 0.5)\n",
    "print(round(2**0.5, 4))\n",
    "print(2**3/2*6-4*(3-4/2))\n",
    "print(3%2)\n",
    "# PEDMAS (Parentheses,Exponent,Division,Multi,Add,Sub)\n",
    "print((2+3) * 2)\n",
    "\n",
    "# +,- left to right associativity\n",
    "# * , /, // , % left to right associativity\n",
    "print((2+3)*5/2%6)\n",
    "# 5 * 5 / 2 % 6\n",
    "# 25 / 2 % 6\n",
    "# 12.5 % 6\n",
    "# 0.5\n",
    "\n",
    "\n",
    "print(12.5%6)\n",
    "\n",
    "print(2**3**2) # right to left associativity\n",
    "# 2 ** 9\n",
    "# 512"
   ]
  },
  {
   "cell_type": "markdown",
   "metadata": {},
   "source": [
    "## Variables"
   ]
  },
  {
   "cell_type": "code",
   "execution_count": 49,
   "metadata": {},
   "outputs": [
    {
     "name": "stdout",
     "output_type": "stream",
     "text": [
      "2\n",
      "4\n"
     ]
    }
   ],
   "source": [
    "number1 = 2\n",
    "print(number1)\n",
    "\n",
    "number1 = 4\n",
    "print(number1)"
   ]
  },
  {
   "cell_type": "code",
   "execution_count": 52,
   "metadata": {},
   "outputs": [
    {
     "name": "stdout",
     "output_type": "stream",
     "text": [
      "arsalan\n",
      "123\n"
     ]
    }
   ],
   "source": [
    "name = \"arsalan\"\n",
    "print(name)\n",
    "\n",
    "name = 123\n",
    "print(name)"
   ]
  },
  {
   "cell_type": "code",
   "execution_count": 53,
   "metadata": {},
   "outputs": [],
   "source": [
    "# variable naming rule\n",
    "# Rule # 1: variable don't start with number like '1number = 4'\n",
    "# Rule # 2: don't space in variable name\n",
    "# Rule # 3: dont't use special symbols like $, %, #"
   ]
  },
  {
   "cell_type": "code",
   "execution_count": 56,
   "metadata": {},
   "outputs": [],
   "source": [
    "#1name = \"arslala\" # error\n",
    "name1 = \"arsalan\" # ok\n",
    "\n",
    "#name$ = \"arsalan\" # error\n",
    "#$name = \"arslan\" # error\n",
    "\n",
    "_name = \"arsalan\" # ok\n",
    "names_1 = \"arslan\" # ok"
   ]
  },
  {
   "cell_type": "code",
   "execution_count": 54,
   "metadata": {},
   "outputs": [],
   "source": [
    "# naming convention for variables\n",
    "# seperate varible name in _ underscore this is called snake case\n",
    "# like user_one_name\n",
    "# OR\n",
    "# Camel case\n",
    "# userOneName"
   ]
  },
  {
   "cell_type": "markdown",
   "metadata": {},
   "source": [
    "### Strings\n",
    "- Collection of characters inside single quotes and double quotes"
   ]
  },
  {
   "cell_type": "code",
   "execution_count": 1,
   "metadata": {},
   "outputs": [
    {
     "name": "stdout",
     "output_type": "stream",
     "text": [
      "arslan\n",
      "manzoor\n"
     ]
    }
   ],
   "source": [
    "first_name = \"arslan\"\n",
    "last_name = \"manzoor\"\n",
    "print(first_name)\n",
    "print(last_name)"
   ]
  },
  {
   "cell_type": "code",
   "execution_count": 6,
   "metadata": {},
   "outputs": [
    {
     "name": "stdout",
     "output_type": "stream",
     "text": [
      "arslan manzoor\n",
      "arslan manzoor3\n",
      "arslan manzoor3\n",
      "arslan manzoorarslan manzoorarslan manzoor\n"
     ]
    }
   ],
   "source": [
    "first_name = \"arslan\"\n",
    "last_name = \"manzoor\"\n",
    "full_name = first_name+\" \"+last_name\n",
    "print(full_name)\n",
    "\n",
    "# print(full_name+3) # error\n",
    "print(full_name + \"3\") # ok\n",
    "print(full_name + str(3)) # ok\n",
    "print(full_name * 3)"
   ]
  },
  {
   "cell_type": "code",
   "execution_count": 86,
   "metadata": {},
   "outputs": [
    {
     "data": {
      "text/plain": [
       "'unununium'"
      ]
     },
     "execution_count": 86,
     "metadata": {},
     "output_type": "execute_result"
    }
   ],
   "source": [
    "3 * \"un\" + \"ium\""
   ]
  },
  {
   "cell_type": "code",
   "execution_count": 88,
   "metadata": {},
   "outputs": [
    {
     "data": {
      "text/plain": [
       "'Put several strings within parentheses to have them joined together.'"
      ]
     },
     "execution_count": 88,
     "metadata": {},
     "output_type": "execute_result"
    }
   ],
   "source": [
    "text = ('Put several strings within parentheses ' \n",
    "       'to have them joined together.')\n",
    "text"
   ]
  },
  {
   "cell_type": "markdown",
   "metadata": {},
   "source": [
    "### User Input"
   ]
  },
  {
   "cell_type": "code",
   "execution_count": 13,
   "metadata": {},
   "outputs": [
    {
     "name": "stdout",
     "output_type": "stream",
     "text": [
      "Enter your name: arsalan\n",
      "\n",
      "Hello arsalan\n"
     ]
    }
   ],
   "source": [
    "# input() function\n",
    "# input() function return string\n",
    "name = input(\"Enter your name: \")\n",
    "print(\"\\nHello \" + name)"
   ]
  },
  {
   "cell_type": "code",
   "execution_count": 14,
   "metadata": {},
   "outputs": [
    {
     "name": "stdout",
     "output_type": "stream",
     "text": [
      "What is your age? 12\n",
      "your age is 12\n"
     ]
    }
   ],
   "source": [
    "age = input(\"What is your age? \")\n",
    "print(\"your age is \" + age)"
   ]
  },
  {
   "cell_type": "code",
   "execution_count": 16,
   "metadata": {},
   "outputs": [
    {
     "name": "stdout",
     "output_type": "stream",
     "text": [
      "Enter number one: 12\n",
      "Enter number: two: 12\n",
      "total number is 1212\n"
     ]
    }
   ],
   "source": [
    "number_one = input(\"Enter number one: \")\n",
    "number_two = input(\"Enter number: two: \")\n",
    "total = number_one + number_two\n",
    "print(\"total number is \" + total)"
   ]
  },
  {
   "cell_type": "code",
   "execution_count": 20,
   "metadata": {},
   "outputs": [
    {
     "name": "stdout",
     "output_type": "stream",
     "text": [
      "Enter number one: 12\n",
      "Enter number: two: 12\n",
      "total number is 24\n"
     ]
    }
   ],
   "source": [
    "number_one = input(\"Enter number one: \")\n",
    "number_two = input(\"Enter number: two: \")\n",
    "total = int(number_one) + int(number_two)\n",
    "print(\"total number is \" + str(total))\n",
    "\n",
    "# str\n",
    "# 4 ---> \"4\"\n",
    "\n",
    "# int\n",
    "# \"4\" ---> 4"
   ]
  },
  {
   "cell_type": "markdown",
   "metadata": {},
   "source": [
    "### More about variables"
   ]
  },
  {
   "cell_type": "code",
   "execution_count": 22,
   "metadata": {},
   "outputs": [
    {
     "name": "stdout",
     "output_type": "stream",
     "text": [
      "arsalan\n",
      "23\n",
      "Hello arsalan your age is 23\n"
     ]
    }
   ],
   "source": [
    "# name = \"arsalan\"\n",
    "# age = 23 \n",
    "# both are same\n",
    "\n",
    "name, age = \"arsalan\", 23\n",
    "print(name)\n",
    "print(age)\n",
    "\n",
    "print(\"Hello \"+name + \" your age is \"+str(age))"
   ]
  },
  {
   "cell_type": "code",
   "execution_count": 23,
   "metadata": {},
   "outputs": [
    {
     "name": "stdout",
     "output_type": "stream",
     "text": [
      "1\n",
      "1\n",
      "1\n",
      "3\n"
     ]
    }
   ],
   "source": [
    "x = y = z = 1\n",
    "print(x)\n",
    "print(y)\n",
    "print(z)\n",
    "print(x+y+z)"
   ]
  },
  {
   "cell_type": "markdown",
   "metadata": {},
   "source": [
    "### Two Inputs"
   ]
  },
  {
   "cell_type": "code",
   "execution_count": 24,
   "metadata": {},
   "outputs": [
    {
     "name": "stdout",
     "output_type": "stream",
     "text": [
      "Enter your name: arsalan\n",
      "Enter your age: 12\n"
     ]
    }
   ],
   "source": [
    "name = input(\"Enter your name: \")\n",
    "age = input(\"Enter your age: \")"
   ]
  },
  {
   "cell_type": "code",
   "execution_count": 25,
   "metadata": {},
   "outputs": [
    {
     "name": "stdout",
     "output_type": "stream",
     "text": [
      "Enter your name and age: arsalan 23\n",
      "arsalan\n",
      "23\n"
     ]
    }
   ],
   "source": [
    "# by default split use space\n",
    "name, age = input(\"Enter your name and age: \").split()\n",
    "print(name)\n",
    "print(age)"
   ]
  },
  {
   "cell_type": "code",
   "execution_count": 26,
   "metadata": {},
   "outputs": [
    {
     "name": "stdout",
     "output_type": "stream",
     "text": [
      "Enter your name and age: arsalan,23\n",
      "arsalan\n",
      "23\n"
     ]
    }
   ],
   "source": [
    "name, age = input(\"Enter your name and age: \").split(\",\")\n",
    "print(name)\n",
    "print(age)"
   ]
  },
  {
   "cell_type": "markdown",
   "metadata": {},
   "source": [
    "### String Formatting"
   ]
  },
  {
   "cell_type": "code",
   "execution_count": 31,
   "metadata": {},
   "outputs": [
    {
     "name": "stdout",
     "output_type": "stream",
     "text": [
      "hello arsalan your age is 23\n",
      "hello arsalan your age is 25\n",
      "hello arsalan your age is 25\n"
     ]
    }
   ],
   "source": [
    "name = \"arsalan\"\n",
    "age = 23\n",
    "print(\"hello \"+name + \" your age is \"+str(age)) # Ugly Syntax\n",
    "\n",
    "# string formatting python 3\n",
    "print(\"hello {} your age is {}\".format(name,age+2))\n",
    "\n",
    "\n",
    "# string formatting python 3.6\n",
    "print(f\"hello {name} your age is {age+2}\") # clean code"
   ]
  },
  {
   "cell_type": "markdown",
   "metadata": {},
   "source": [
    "#### Exercise # 1\n",
    "- Ask user to input 3 numbers and you have to print average of the numbers using string formatting.\n",
    "- Bonus:- Try to take all three seperated inputs in one line."
   ]
  },
  {
   "cell_type": "code",
   "execution_count": 54,
   "metadata": {},
   "outputs": [
    {
     "name": "stdout",
     "output_type": "stream",
     "text": [
      "Enter 1st number: 1\n",
      "Enter 2nd number: 2\n",
      "Enter 3rd number: 2\n",
      "average of three numbers 1.6666666666666667\n"
     ]
    }
   ],
   "source": [
    "num_1 = input(\"Enter 1st number: \")\n",
    "num_2 = input(\"Enter 2nd number: \")\n",
    "num_3 = input(\"Enter 3rd number: \")\n",
    "\n",
    "print(f\"average of three numbers {(int(num_1)+int(num_2)+int(num_3))/3}\")"
   ]
  },
  {
   "cell_type": "code",
   "execution_count": 56,
   "metadata": {},
   "outputs": [
    {
     "name": "stdout",
     "output_type": "stream",
     "text": [
      "Enter 1st,2nd,3rd Number: 2,2,1\n",
      "Your average is 1.6666666666666667\n"
     ]
    }
   ],
   "source": [
    "num_1,num_2,num_3 = input(\"Enter 1st,2nd,3rd Number: \").split(\",\")\n",
    "\n",
    "print(f\"Your average is {(int(num_1) + int(num_2) + int(num_3))/3}\")"
   ]
  },
  {
   "cell_type": "markdown",
   "metadata": {},
   "source": [
    "### String Indexing"
   ]
  },
  {
   "cell_type": "code",
   "execution_count": 62,
   "metadata": {},
   "outputs": [
    {
     "name": "stdout",
     "output_type": "stream",
     "text": [
      "t\n",
      "p\n",
      "o\n"
     ]
    }
   ],
   "source": [
    "language = \"python\"\n",
    "\n",
    "# positions (index number)\n",
    "# starting position\n",
    "\n",
    "# p = 0\n",
    "# y = 1\n",
    "# t = 2\n",
    "# h = 3\n",
    "# o = 4\n",
    "# n = 5\n",
    "\n",
    "print(language[2])\n",
    "print(language[0])\n",
    "print(language[4])"
   ]
  },
  {
   "cell_type": "code",
   "execution_count": 63,
   "metadata": {},
   "outputs": [
    {
     "name": "stdout",
     "output_type": "stream",
     "text": [
      "n\n",
      "o\n",
      "h\n"
     ]
    }
   ],
   "source": [
    "language = \"python\"\n",
    "\n",
    "# positions (index number)\n",
    "# ending position\n",
    "\n",
    "# p = 0 ----> -6\n",
    "# y = 1 ----> -5\n",
    "# t = 2 ----> -4\n",
    "# h = 3 ----> -3\n",
    "# o = 4 ----> -2\n",
    "# n = 5 --- > -1\n",
    "\n",
    "print(language[-1])\n",
    "print(language[-2])\n",
    "print(language[-3])"
   ]
  },
  {
   "cell_type": "markdown",
   "metadata": {},
   "source": [
    "### Slicing"
   ]
  },
  {
   "cell_type": "code",
   "execution_count": 93,
   "metadata": {},
   "outputs": [
    {
     "name": "stdout",
     "output_type": "stream",
     "text": [
      "pyth\n",
      "yt\n",
      "py\n",
      "y\n",
      "ho\n",
      "python\n",
      "python\n",
      "pytho\n",
      "on\n",
      "\n"
     ]
    }
   ],
   "source": [
    "# ek sy ziyada character print karwana hai to use karengy slicing\n",
    "lang = \"python\"\n",
    "\n",
    "# syntax ---> [start argument: stop argument - 1 : step]\n",
    "# synatx ---> [1 : 4 - 1]\n",
    "\n",
    "print(lang[0:4])\n",
    "print(lang[1:3])\n",
    "print(lang[0:2])\n",
    "print(lang[1:2])\n",
    "print(lang[-3:-1])\n",
    "print(lang[:])\n",
    "print(lang[0:])\n",
    "print(lang[:-1])\n",
    "print(lang[4:42])\n",
    "print(lang[42:])"
   ]
  },
  {
   "cell_type": "code",
   "execution_count": 91,
   "metadata": {},
   "outputs": [
    {
     "data": {
      "text/plain": [
       "'Jython'"
      ]
     },
     "execution_count": 91,
     "metadata": {},
     "output_type": "execute_result"
    }
   ],
   "source": [
    "'J' + lang[1:]"
   ]
  },
  {
   "cell_type": "code",
   "execution_count": 109,
   "metadata": {},
   "outputs": [
    {
     "name": "stdout",
     "output_type": "stream",
     "text": [
      "arsal\n",
      "arsal\n",
      "asl\n",
      "asln\n",
      "aan\n",
      "aan\n",
      "alasra\n",
      "nalasra\n",
      "nalasra\n"
     ]
    }
   ],
   "source": [
    "# step argument\n",
    "print(\"arsalan\"[0:5])\n",
    "print(\"arsalan\"[0:5:1])\n",
    "print(\"arsalan\"[0:5:2])\n",
    "print(\"arsalan\"[0::2])\n",
    "print(\"arsalan\"[0::3])\n",
    "print(\"arsalan\"[::3])\n",
    "print(\"arsalan\"[5::-1])\n",
    "print(\"arsalan\"[::-1]) # same\n",
    "print(\"arsalan\"[-1::-1]) # same"
   ]
  },
  {
   "cell_type": "markdown",
   "metadata": {},
   "source": [
    "### Exercise # 2\n",
    "- Ask user name and print back user name in reverse order.\n",
    "- Note:- try to make your program in 2 lines using string formatting."
   ]
  },
  {
   "cell_type": "code",
   "execution_count": 116,
   "metadata": {},
   "outputs": [
    {
     "name": "stdout",
     "output_type": "stream",
     "text": [
      "Enter your name: man\n",
      "\n",
      "reverse order: nam\n"
     ]
    }
   ],
   "source": [
    "user_name = input(\"Enter your name: \")\n",
    "print(f\"\\nreverse order: {user_name[::-1]}\")"
   ]
  },
  {
   "cell_type": "code",
   "execution_count": 117,
   "metadata": {},
   "outputs": [
    {
     "name": "stdout",
     "output_type": "stream",
     "text": [
      "Enter your name: hello\n",
      "\n",
      "reverse order: olleh\n"
     ]
    }
   ],
   "source": [
    "user_name = input(\"Enter your name: \")\n",
    "reverse_name = user_name[::-1]\n",
    "print(f\"\\nreverse order: {reverse_name}\")"
   ]
  },
  {
   "cell_type": "markdown",
   "metadata": {},
   "source": [
    "## String Methods"
   ]
  },
  {
   "cell_type": "code",
   "execution_count": 3,
   "metadata": {},
   "outputs": [],
   "source": [
    "name = \"Arsalan MAnZOOR\""
   ]
  },
  {
   "cell_type": "code",
   "execution_count": 4,
   "metadata": {},
   "outputs": [
    {
     "name": "stdout",
     "output_type": "stream",
     "text": [
      "15\n"
     ]
    }
   ],
   "source": [
    "# 1. len() function\n",
    "print(len(name))"
   ]
  },
  {
   "cell_type": "code",
   "execution_count": 5,
   "metadata": {},
   "outputs": [
    {
     "name": "stdout",
     "output_type": "stream",
     "text": [
      "arsalan manzoor\n"
     ]
    }
   ],
   "source": [
    "# 2. lower() method\n",
    "print(name.lower())"
   ]
  },
  {
   "cell_type": "code",
   "execution_count": 6,
   "metadata": {},
   "outputs": [
    {
     "name": "stdout",
     "output_type": "stream",
     "text": [
      "ARSALAN MANZOOR\n"
     ]
    }
   ],
   "source": [
    "# 3. upper() method\n",
    "print(name.upper())"
   ]
  },
  {
   "cell_type": "code",
   "execution_count": 7,
   "metadata": {},
   "outputs": [
    {
     "name": "stdout",
     "output_type": "stream",
     "text": [
      "Arsalan Manzoor\n"
     ]
    }
   ],
   "source": [
    "# 4. title() method\n",
    "print(name.title())"
   ]
  },
  {
   "cell_type": "code",
   "execution_count": 10,
   "metadata": {},
   "outputs": [
    {
     "name": "stdout",
     "output_type": "stream",
     "text": [
      "2\n"
     ]
    }
   ],
   "source": [
    "# 5. count() method\n",
    "print(name.count(\"a\"))"
   ]
  },
  {
   "cell_type": "markdown",
   "metadata": {},
   "source": [
    "### Exercise 3\n",
    "- Take two comma seperated inputs from user\n",
    "- 1) user name, example - 'Arsalan'\n",
    "- 2) a single character, 'H'\n",
    "\n",
    "\n",
    "\n",
    "- output - print 2 lines\n",
    "- 1). user's name length\n",
    "- 2). count the character that user inputed (bonus: case insensitive count)"
   ]
  },
  {
   "cell_type": "code",
   "execution_count": 40,
   "metadata": {},
   "outputs": [
    {
     "name": "stdout",
     "output_type": "stream",
     "text": [
      "Enter name, character count: arsalan, a\n",
      "arsalan's  Length is : 7\n",
      " a is  0 times.\n"
     ]
    }
   ],
   "source": [
    "name, count_char = input(\"Enter name, character count: \").split(\",\")\n",
    "\n",
    "print(f\"{name.lower()}'s  Length is : {len(name)}\")\n",
    "\n",
    "print(f\"{count_char} is  {name.lower().count(count_char.lower())} times.\")\n"
   ]
  },
  {
   "cell_type": "markdown",
   "metadata": {},
   "source": [
    "#### Solve problem with spaces using strip method"
   ]
  },
  {
   "cell_type": "code",
   "execution_count": 26,
   "metadata": {},
   "outputs": [],
   "source": [
    "name = \"     Arsalan     \"\n",
    "dots = \"..................\""
   ]
  },
  {
   "cell_type": "code",
   "execution_count": 30,
   "metadata": {},
   "outputs": [
    {
     "name": "stdout",
     "output_type": "stream",
     "text": [
      "     Arsalan     ..................\n"
     ]
    }
   ],
   "source": [
    "# lstrip() method (for removing left  side spaces)\n",
    "print(name + dots)"
   ]
  },
  {
   "cell_type": "code",
   "execution_count": 31,
   "metadata": {},
   "outputs": [
    {
     "name": "stdout",
     "output_type": "stream",
     "text": [
      "Arsalan     ..................\n"
     ]
    }
   ],
   "source": [
    "print(name.lstrip() + dots)"
   ]
  },
  {
   "cell_type": "code",
   "execution_count": 34,
   "metadata": {},
   "outputs": [
    {
     "name": "stdout",
     "output_type": "stream",
     "text": [
      "     Arsalan..................\n"
     ]
    }
   ],
   "source": [
    "# rstrip() method (for removing reight side spaces)\n",
    "print(name.rstrip()+dots)"
   ]
  },
  {
   "cell_type": "code",
   "execution_count": 36,
   "metadata": {},
   "outputs": [
    {
     "name": "stdout",
     "output_type": "stream",
     "text": [
      "Arsalan..................\n"
     ]
    }
   ],
   "source": [
    "# strip() method (remove both spaces)\n",
    "print(name.strip() + dots)"
   ]
  },
  {
   "cell_type": "code",
   "execution_count": 37,
   "metadata": {},
   "outputs": [
    {
     "name": "stdout",
     "output_type": "stream",
     "text": [
      "     Arsa    lan     \n"
     ]
    }
   ],
   "source": [
    "name = \"     Arsa    lan     \"\n",
    "print(name)"
   ]
  },
  {
   "cell_type": "code",
   "execution_count": 39,
   "metadata": {},
   "outputs": [
    {
     "name": "stdout",
     "output_type": "stream",
     "text": [
      "Arsalan..................\n"
     ]
    }
   ],
   "source": [
    "print(name.replace(\" \",\"\")+dots)"
   ]
  },
  {
   "cell_type": "markdown",
   "metadata": {},
   "source": [
    "### Exercise 3 updated spaces solution\n"
   ]
  },
  {
   "cell_type": "code",
   "execution_count": 46,
   "metadata": {},
   "outputs": [],
   "source": [
    "# \"  Arsalan  \" -----> \"Arsalan\" -----> \"arsalan\"\n",
    "# \" A \" -------> \"A\" ---- > \"a\""
   ]
  },
  {
   "cell_type": "code",
   "execution_count": 53,
   "metadata": {},
   "outputs": [
    {
     "name": "stdout",
     "output_type": "stream",
     "text": [
      "Enter name, character count:         arsalan, a\n",
      "        arsalan's  Length is : 7\n",
      " a is  3 times.\n"
     ]
    }
   ],
   "source": [
    "name, count_char = input(\"Enter name, character count: \").split(\",\")\n",
    "\n",
    "\n",
    "\n",
    "print(f\"{name.lower()}'s  Length is : {len(name.strip())}\")\n",
    "\n",
    "print(f\"{count_char} is  {name.strip().lower().count(count_char.strip().lower())} times.\")\n"
   ]
  },
  {
   "cell_type": "markdown",
   "metadata": {},
   "source": [
    "### Find and replace method"
   ]
  },
  {
   "cell_type": "code",
   "execution_count": 1,
   "metadata": {},
   "outputs": [],
   "source": [
    "# replace() method\n",
    "# find() method"
   ]
  },
  {
   "cell_type": "code",
   "execution_count": 3,
   "metadata": {},
   "outputs": [
    {
     "name": "stdout",
     "output_type": "stream",
     "text": [
      "she was beautiful and she is good dancer\n"
     ]
    }
   ],
   "source": [
    "# no means pehly waly is ko was main change kardo\n",
    "\n",
    "string = \"she is beautiful and she is good dancer\"\n",
    "print(string.replace(\"is\",\"was\",1))"
   ]
  },
  {
   "cell_type": "code",
   "execution_count": 7,
   "metadata": {},
   "outputs": [
    {
     "data": {
      "text/plain": [
       "7"
      ]
     },
     "execution_count": 7,
     "metadata": {},
     "output_type": "execute_result"
    }
   ],
   "source": [
    "# yahan number ka matlab hai ky first position sy start karna \n",
    "# shrow karo\n",
    "string = \"is she is beautiful and she is good dancer\"\n",
    "\n",
    "string.find(\"is\",1)"
   ]
  },
  {
   "cell_type": "code",
   "execution_count": 11,
   "metadata": {},
   "outputs": [
    {
     "name": "stdout",
     "output_type": "stream",
     "text": [
      "25\n"
     ]
    }
   ],
   "source": [
    "string = \"she is beautiful and she is good dancer\"\n",
    "\n",
    "is_position1 = string.find(\"is\") # return number\n",
    "\n",
    "print(string.find(\"is\",is_position1+1))"
   ]
  },
  {
   "cell_type": "code",
   "execution_count": 15,
   "metadata": {},
   "outputs": [
    {
     "data": {
      "text/plain": [
       "'**arsalan**'"
      ]
     },
     "execution_count": 15,
     "metadata": {},
     "output_type": "execute_result"
    }
   ],
   "source": [
    "# center method\n",
    "name = \"arsalan\"\n",
    "\n",
    "# **arsalan** 7 + 2\n",
    "# 7 string ki length hai or 2 star ky liyeh\n",
    "\n",
    "name.center(11,\"*\")"
   ]
  },
  {
   "cell_type": "code",
   "execution_count": 16,
   "metadata": {},
   "outputs": [
    {
     "name": "stdout",
     "output_type": "stream",
     "text": [
      "Enter your name: bilal khan\n",
      "****bilal khan****\n"
     ]
    }
   ],
   "source": [
    "name = input(\"Enter your name: \")\n",
    "print(name.center(len(name) + 8 , \"*\"))"
   ]
  },
  {
   "cell_type": "code",
   "execution_count": 2,
   "metadata": {},
   "outputs": [],
   "source": [
    "# strings are immutable\n",
    "# ek dafa string bana li tu usko change nahi kar sakty"
   ]
  },
  {
   "cell_type": "code",
   "execution_count": 3,
   "metadata": {},
   "outputs": [
    {
     "name": "stdout",
     "output_type": "stream",
     "text": [
      "t\n"
     ]
    }
   ],
   "source": [
    "string = \"string\"\n",
    "print(string[1])"
   ]
  },
  {
   "cell_type": "code",
   "execution_count": 5,
   "metadata": {},
   "outputs": [
    {
     "ename": "TypeError",
     "evalue": "'str' object does not support item assignment",
     "output_type": "error",
     "traceback": [
      "\u001b[0;31m---------------------------------------------------------------------------\u001b[0m",
      "\u001b[0;31mTypeError\u001b[0m                                 Traceback (most recent call last)",
      "\u001b[0;32m<ipython-input-5-f7a227e4b099>\u001b[0m in \u001b[0;36m<module>\u001b[0;34m\u001b[0m\n\u001b[0;32m----> 1\u001b[0;31m \u001b[0mstring\u001b[0m\u001b[0;34m[\u001b[0m\u001b[0;36m1\u001b[0m\u001b[0;34m]\u001b[0m \u001b[0;34m=\u001b[0m \u001b[0;34m'T'\u001b[0m \u001b[0;31m# Error\u001b[0m\u001b[0;34m\u001b[0m\u001b[0;34m\u001b[0m\u001b[0m\n\u001b[0m",
      "\u001b[0;31mTypeError\u001b[0m: 'str' object does not support item assignment"
     ]
    }
   ],
   "source": [
    "string[1] = 'T' # Error"
   ]
  },
  {
   "cell_type": "code",
   "execution_count": 10,
   "metadata": {},
   "outputs": [
    {
     "name": "stdout",
     "output_type": "stream",
     "text": [
      "sTring\n",
      "string\n"
     ]
    }
   ],
   "source": [
    "print(string.replace(\"t\",\"T\"))\n",
    "print(string)"
   ]
  },
  {
   "cell_type": "code",
   "execution_count": 11,
   "metadata": {},
   "outputs": [],
   "source": [
    "# Assignment operator"
   ]
  },
  {
   "cell_type": "code",
   "execution_count": 12,
   "metadata": {},
   "outputs": [
    {
     "name": "stdout",
     "output_type": "stream",
     "text": [
      "arsalan\n"
     ]
    }
   ],
   "source": [
    "name = \"arsa\"\n",
    "\n",
    "name = name + \"lan\"\n",
    "\n",
    "print(name)"
   ]
  },
  {
   "cell_type": "code",
   "execution_count": 13,
   "metadata": {},
   "outputs": [
    {
     "name": "stdout",
     "output_type": "stream",
     "text": [
      "21\n"
     ]
    }
   ],
   "source": [
    "age = 23\n",
    "age -= 2\n",
    "print(age)"
   ]
  },
  {
   "cell_type": "markdown",
   "metadata": {},
   "source": [
    "### If Statement"
   ]
  },
  {
   "cell_type": "code",
   "execution_count": 1,
   "metadata": {},
   "outputs": [],
   "source": [
    "# syntax\n",
    "# if condition:\n",
    "      # code # if condition is true\n",
    "      # code\n",
    "        "
   ]
  },
  {
   "cell_type": "code",
   "execution_count": 3,
   "metadata": {},
   "outputs": [
    {
     "name": "stdout",
     "output_type": "stream",
     "text": [
      "enter your age: 14\n",
      "line a\n",
      "you are above 14.\n"
     ]
    }
   ],
   "source": [
    "age = input(\"enter your age: \")\n",
    "age = int(age)\n",
    "\n",
    "if age >= 14:\n",
    "    print(\"line a\")\n",
    "    print(\"you are above 14.\")"
   ]
  },
  {
   "cell_type": "code",
   "execution_count": 4,
   "metadata": {},
   "outputs": [],
   "source": [
    "# pass statement"
   ]
  },
  {
   "cell_type": "code",
   "execution_count": 5,
   "metadata": {},
   "outputs": [
    {
     "ename": "SyntaxError",
     "evalue": "unexpected EOF while parsing (<ipython-input-5-bdf7972c6774>, line 2)",
     "output_type": "error",
     "traceback": [
      "\u001b[0;36m  File \u001b[0;32m\"<ipython-input-5-bdf7972c6774>\"\u001b[0;36m, line \u001b[0;32m2\u001b[0m\n\u001b[0;31m    if x > 18:\u001b[0m\n\u001b[0m              ^\u001b[0m\n\u001b[0;31mSyntaxError\u001b[0m\u001b[0;31m:\u001b[0m unexpected EOF while parsing\n"
     ]
    }
   ],
   "source": [
    "x = 18\n",
    "if x > 18:"
   ]
  },
  {
   "cell_type": "code",
   "execution_count": 6,
   "metadata": {},
   "outputs": [],
   "source": [
    "# agar ap ko block main kuch bhi nahi likhna tu usky liyeh pass\n",
    "# statement use karengy"
   ]
  },
  {
   "cell_type": "code",
   "execution_count": 7,
   "metadata": {},
   "outputs": [],
   "source": [
    "x = 18\n",
    "if x > 18:\n",
    "    pass"
   ]
  },
  {
   "cell_type": "code",
   "execution_count": 8,
   "metadata": {},
   "outputs": [],
   "source": [
    "# else statement"
   ]
  },
  {
   "cell_type": "code",
   "execution_count": 10,
   "metadata": {},
   "outputs": [
    {
     "name": "stdout",
     "output_type": "stream",
     "text": [
      "enter your age: 14\n",
      "line a\n",
      "you are above 14.\n"
     ]
    }
   ],
   "source": [
    "age = input(\"enter your age: \")\n",
    "age = int(age)\n",
    "\n",
    "if age >= 14:\n",
    "    print(\"line a\")\n",
    "    print(\"you are above 14.\")\n",
    "else:\n",
    "    print(\"sorry, you can't play.\")"
   ]
  },
  {
   "cell_type": "markdown",
   "metadata": {},
   "source": [
    "### Exercise: 1"
   ]
  },
  {
   "cell_type": "code",
   "execution_count": 11,
   "metadata": {},
   "outputs": [],
   "source": [
    "# Exercise, Number Guessing game\n",
    "# Make a variable, like winning_number and assign any number to it.\n",
    "# Ask user to guess a number.\n",
    "# if user guessed correctly then print \"YOU WIN!!!!\"\n",
    "\n",
    "# if user didn't guessed correctly :\n",
    "      # if user guessed lower than actual number then print \"too low\"\n",
    "      # if user guessed higher than actual number then print \"too high\"\n",
    "\n",
    "# google \"how to generate random number\""
   ]
  },
  {
   "cell_type": "code",
   "execution_count": 14,
   "metadata": {},
   "outputs": [
    {
     "name": "stdout",
     "output_type": "stream",
     "text": [
      "Enter a number: 10\n",
      "YOU WIN !!!!\n"
     ]
    }
   ],
   "source": [
    "winning_number = 10\n",
    "guess_number = int(input(\"Enter a number: \"))\n",
    "\n",
    "if guess_number == winning_number:\n",
    "    print(\"YOU WIN !!!!\")\n",
    "else:\n",
    "    if guess_number < winning_number:\n",
    "        print(\"Too low\")\n",
    "    else:\n",
    "        print(\"Too high\")"
   ]
  },
  {
   "cell_type": "code",
   "execution_count": 15,
   "metadata": {},
   "outputs": [],
   "source": [
    "# and , or \n",
    "# check two conditions at same time"
   ]
  },
  {
   "cell_type": "code",
   "execution_count": 18,
   "metadata": {},
   "outputs": [
    {
     "name": "stdout",
     "output_type": "stream",
     "text": [
      "Condition false\n"
     ]
    }
   ],
   "source": [
    "# and operator main dono conditions ka true hona zaroori hai\n",
    "name = \"abc\"\n",
    "age = 20\n",
    "\n",
    "if name == 'abc' and age == 19:\n",
    "    print(\"Condition true\")\n",
    "else:\n",
    "    print(\"Condition false\")"
   ]
  },
  {
   "cell_type": "code",
   "execution_count": 19,
   "metadata": {},
   "outputs": [
    {
     "name": "stdout",
     "output_type": "stream",
     "text": [
      "Condition true\n"
     ]
    }
   ],
   "source": [
    "# or operator main ek bhi condition true hogi tu true return hoga\n",
    "\n",
    "name = \"abc\"\n",
    "age = 20\n",
    "\n",
    "if name == 'abc' or age == 19:\n",
    "    print(\"Condition true\")\n",
    "else:\n",
    "    print(\"Condition false\")"
   ]
  },
  {
   "cell_type": "markdown",
   "metadata": {},
   "source": [
    "### Exercise 2"
   ]
  },
  {
   "cell_type": "code",
   "execution_count": 1,
   "metadata": {},
   "outputs": [],
   "source": [
    "# Exercise - WATACH COCO\n",
    "\n",
    "# Ask user's name and age\n",
    "\n",
    "# If user's name start with ('a' or 'A') and age is above 10 then\n",
    "\n",
    "# print 'you can watch coco movie'\n",
    "\n",
    "# else print 'sorry, you cannot watch coco'"
   ]
  },
  {
   "cell_type": "code",
   "execution_count": 9,
   "metadata": {},
   "outputs": [
    {
     "name": "stdout",
     "output_type": "stream",
     "text": [
      "Enter your name: ahad\n",
      "Enter your age: 9\n",
      "sorry, you cannot watch coco.\n"
     ]
    }
   ],
   "source": [
    "name = input(\"Enter your name: \")\n",
    "age = int(input(\"Enter your age: \"))\n",
    "if (name[0] == 'a' or name[0] == 'A') and age >= 10:\n",
    "    print('You can watch coco movie')\n",
    "else:\n",
    "    print('sorry, you cannot watch coco.')\n",
    "    "
   ]
  },
  {
   "cell_type": "code",
   "execution_count": 1,
   "metadata": {},
   "outputs": [],
   "source": [
    "# If-elif-else statement"
   ]
  },
  {
   "cell_type": "code",
   "execution_count": 32,
   "metadata": {},
   "outputs": [
    {
     "name": "stdout",
     "output_type": "stream",
     "text": [
      "Enter age:50\n",
      "Ticket price:  250.\n"
     ]
    }
   ],
   "source": [
    "# show ticket pricing\n",
    "\n",
    "# 1 to 3 (free)\n",
    "\n",
    "# 4 to 10 (150)\n",
    "\n",
    "# 11 to 60 (250)\n",
    "\n",
    "# above 60 (200)\n",
    "\n",
    "\n",
    "age = input(\"Enter age:\")\n",
    "age= int(age)\n",
    "\n",
    "if (age > 0) and (age<= 3):\n",
    "    print(\"Your ticket is free\")\n",
    "elif (age > 3) and (age <=10):\n",
    "    print(\"Ticket Price: 150.\")\n",
    "elif (age > 10) and (age <=60):\n",
    "    print(\"Ticket price:  250.\")\n",
    "else:\n",
    "    print(\"Ticket price: 200\")"
   ]
  },
  {
   "cell_type": "code",
   "execution_count": 33,
   "metadata": {},
   "outputs": [],
   "source": [
    "# in keyword"
   ]
  },
  {
   "cell_type": "code",
   "execution_count": 37,
   "metadata": {},
   "outputs": [
    {
     "name": "stdout",
     "output_type": "stream",
     "text": [
      "not present\n"
     ]
    }
   ],
   "source": [
    "name = \"arsalan\"\n",
    "\n",
    "# in keyword\n",
    "\n",
    "# if with in \n",
    "\n",
    "if \"p\" in name:\n",
    "    print(\"present\")\n",
    "else:\n",
    "    print(\"not present\")"
   ]
  },
  {
   "cell_type": "code",
   "execution_count": 38,
   "metadata": {},
   "outputs": [],
   "source": [
    "# check empty or not "
   ]
  },
  {
   "cell_type": "code",
   "execution_count": 41,
   "metadata": {},
   "outputs": [
    {
     "name": "stdout",
     "output_type": "stream",
     "text": [
      "string is not empty\n"
     ]
    }
   ],
   "source": [
    "# important\n",
    "# \"kya yeh string empty hai ya nahi hai\"\n",
    "name = \"12\"\n",
    "\n",
    "if name: # true if string is not empty\n",
    "    print(\"string is not empty\")\n",
    "else:\n",
    "    print(\"string is empty\")"
   ]
  },
  {
   "cell_type": "markdown",
   "metadata": {},
   "source": [
    "# loop"
   ]
  },
  {
   "cell_type": "code",
   "execution_count": 5,
   "metadata": {},
   "outputs": [
    {
     "name": "stdout",
     "output_type": "stream",
     "text": [
      "1 : hello world\n",
      "2 : hello world\n",
      "3 : hello world\n",
      "4 : hello world\n",
      "5 : hello world\n",
      "6 : hello world\n",
      "7 : hello world\n",
      "8 : hello world\n",
      "9 : hello world\n",
      "10 : hello world\n"
     ]
    }
   ],
   "source": [
    "# loops\n",
    "# while loop, for loop\n",
    "\n",
    "# print(\"hello world\") # 10 times\n",
    "\n",
    "i = 1\n",
    "while i <= 10:\n",
    "    print(i,\": hello world\")\n",
    "    i = i + 1"
   ]
  },
  {
   "cell_type": "code",
   "execution_count": 6,
   "metadata": {},
   "outputs": [
    {
     "name": "stdout",
     "output_type": "stream",
     "text": [
      "55\n"
     ]
    }
   ],
   "source": [
    "# sum 1 to 10 (for any number)\n",
    "\n",
    "i = 1\n",
    "\n",
    "total = 0\n",
    "while i <=10:\n",
    "    \n",
    "    total = total + i # total = 0 + 1 + 2+ 3 + 4 .. and so on\n",
    "    i = i +1\n",
    "print(total)"
   ]
  },
  {
   "cell_type": "markdown",
   "metadata": {},
   "source": [
    "## Exercise : 3\n"
   ]
  },
  {
   "cell_type": "code",
   "execution_count": 7,
   "metadata": {},
   "outputs": [],
   "source": [
    "# sum of n natural numbers \n",
    "# ask a user for natural number(n)\n",
    "# print(total from 1 to n)"
   ]
  },
  {
   "cell_type": "code",
   "execution_count": 10,
   "metadata": {},
   "outputs": [
    {
     "name": "stdout",
     "output_type": "stream",
     "text": [
      "Enter number: 20\n",
      "210\n"
     ]
    }
   ],
   "source": [
    "i = 1\n",
    "n = int(input(\"Enter number: \"))\n",
    "total = 0\n",
    "\n",
    "while i <= n:\n",
    "    total = total + i\n",
    "    i = i + 1\n",
    "print(total)"
   ]
  },
  {
   "cell_type": "markdown",
   "metadata": {},
   "source": [
    "## Exercise : 4"
   ]
  },
  {
   "cell_type": "code",
   "execution_count": 11,
   "metadata": {},
   "outputs": [],
   "source": [
    "# ask user to input a number containing more than one digit\n",
    "# example - 1256\n",
    "# calculate 1 + 2 + 5 + 6 and print it\n"
   ]
  },
  {
   "cell_type": "code",
   "execution_count": 3,
   "metadata": {},
   "outputs": [
    {
     "name": "stdout",
     "output_type": "stream",
     "text": [
      "Enter number: 123456\n",
      "21\n"
     ]
    }
   ],
   "source": [
    "n = input(\"Enter number: \")\n",
    "total = 0\n",
    "i = 0\n",
    "while i < len(n):\n",
    "    number = n[i]\n",
    "    total = total + int(number)\n",
    "    i = i + 1\n",
    "    \n",
    "    \n",
    "print(total)"
   ]
  },
  {
   "cell_type": "markdown",
   "metadata": {},
   "source": [
    "## Exercise : 5"
   ]
  },
  {
   "cell_type": "code",
   "execution_count": 4,
   "metadata": {},
   "outputs": [],
   "source": [
    "# ask a user for name\n",
    "# Example - Arsalan Manzoor\n",
    "# print( count of each words)\n",
    "# output:\n",
    "    # A: 1\n",
    "    # r: 1\n",
    "    # s: 1\n",
    "    # a: 2\n",
    "    # l: 1\n",
    "    # n: 1"
   ]
  },
  {
   "cell_type": "code",
   "execution_count": 20,
   "metadata": {},
   "outputs": [
    {
     "name": "stdout",
     "output_type": "stream",
     "text": [
      "Enter name: arsalan\n",
      "a: 3\n",
      "r: 1\n",
      "s: 1\n",
      "l: 1\n",
      "n: 1\n"
     ]
    }
   ],
   "source": [
    "name = input(\"Enter name: \")\n",
    "\n",
    "i = 0\n",
    "temp = \"\"\n",
    "while i < len(name):\n",
    "    if name[i] not in temp:\n",
    "        temp = temp + name[i]\n",
    "        print(f\"{name[i]}: {name.count(name[i])}\")\n",
    "        \n",
    "    i = i + 1\n",
    "    "
   ]
  },
  {
   "cell_type": "code",
   "execution_count": 1,
   "metadata": {},
   "outputs": [],
   "source": [
    "# infinite loop"
   ]
  },
  {
   "cell_type": "code",
   "execution_count": 23,
   "metadata": {},
   "outputs": [],
   "source": [
    "# i = 0\n",
    "\n",
    "# while i <= 10:\n",
    "   # print(\"hello world\")"
   ]
  },
  {
   "cell_type": "code",
   "execution_count": 4,
   "metadata": {},
   "outputs": [],
   "source": [
    "# for loop with range function"
   ]
  },
  {
   "cell_type": "code",
   "execution_count": 8,
   "metadata": {},
   "outputs": [
    {
     "name": "stdout",
     "output_type": "stream",
     "text": [
      "0 : hello world\n",
      "1 : hello world\n",
      "2 : hello world\n",
      "3 : hello world\n",
      "4 : hello world\n",
      "5 : hello world\n",
      "6 : hello world\n",
      "7 : hello world\n",
      "8 : hello world\n",
      "9 : hello world\n"
     ]
    }
   ],
   "source": [
    "for i in range(10): # 0 to 9\n",
    "    print(i,\": hello world\")"
   ]
  },
  {
   "cell_type": "code",
   "execution_count": 10,
   "metadata": {},
   "outputs": [
    {
     "name": "stdout",
     "output_type": "stream",
     "text": [
      "55\n"
     ]
    }
   ],
   "source": [
    "# sum from 1 to 10\n",
    "total = 0\n",
    "\n",
    "for i in range(1,11):\n",
    "    total = total + i\n",
    "print(total)"
   ]
  },
  {
   "cell_type": "code",
   "execution_count": 16,
   "metadata": {},
   "outputs": [
    {
     "name": "stdout",
     "output_type": "stream",
     "text": [
      "enter number: 12\n",
      "78\n"
     ]
    }
   ],
   "source": [
    "# sum with user input 1+2+3.....n\n",
    "n = int(input(\"enter number: \"))\n",
    "\n",
    "total = 0\n",
    "\n",
    "for i in range(1, n+1):\n",
    "    total = total + i\n",
    "print(total)\n",
    "    "
   ]
  },
  {
   "cell_type": "code",
   "execution_count": 12,
   "metadata": {},
   "outputs": [],
   "source": [
    "# practice for loop\n",
    "# ask user a number like 1256\n",
    "# calculate sum of digits ---> 1 + 2 +5 + 6 "
   ]
  },
  {
   "cell_type": "code",
   "execution_count": 15,
   "metadata": {},
   "outputs": [
    {
     "name": "stdout",
     "output_type": "stream",
     "text": [
      "Enter number: 1256\n",
      "14\n"
     ]
    }
   ],
   "source": [
    "n = input(\"Enter number: \")\n",
    "\n",
    "total = 0\n",
    "\n",
    "for i in range(0, len(n)):\n",
    "    total = total + int(n[i])\n",
    "print(total)"
   ]
  },
  {
   "cell_type": "code",
   "execution_count": 24,
   "metadata": {},
   "outputs": [
    {
     "name": "stdout",
     "output_type": "stream",
     "text": [
      "Enter name: Arsalan\n",
      "A: 1\n",
      "r: 1\n",
      "s: 1\n",
      "a: 2\n",
      "l: 1\n",
      "n: 1\n"
     ]
    }
   ],
   "source": [
    "# practice for loop\n",
    "# ask user name and count each character\n",
    "# \"arsalan manzoor\"\n",
    "\n",
    "name = input(\"Enter name: \")\n",
    "\n",
    "temp_var = \"\"\n",
    "\n",
    "for i in range(0, len(name)):\n",
    "    if name[i] not in temp_var:\n",
    "        print(f\"{name[i]}: {name.count(name[i])}\")\n",
    "        temp_var = temp_var + name[i]"
   ]
  },
  {
   "cell_type": "code",
   "execution_count": 25,
   "metadata": {},
   "outputs": [],
   "source": [
    "# break and continue keyword"
   ]
  },
  {
   "cell_type": "code",
   "execution_count": 26,
   "metadata": {},
   "outputs": [
    {
     "name": "stdout",
     "output_type": "stream",
     "text": [
      "1\n",
      "2\n",
      "3\n",
      "4\n"
     ]
    }
   ],
   "source": [
    "# 1 to 10 print\n",
    "\n",
    "for i in range(1, 11):\n",
    "    if i == 5:\n",
    "        break\n",
    "    print(i)"
   ]
  },
  {
   "cell_type": "code",
   "execution_count": 27,
   "metadata": {},
   "outputs": [
    {
     "name": "stdout",
     "output_type": "stream",
     "text": [
      "1\n",
      "2\n",
      "3\n",
      "4\n",
      "6\n",
      "7\n",
      "8\n",
      "9\n",
      "10\n"
     ]
    }
   ],
   "source": [
    "for i in range(1,11):\n",
    "    if i == 5:\n",
    "        continue\n",
    "    print(i)"
   ]
  },
  {
   "cell_type": "markdown",
   "metadata": {},
   "source": [
    "## Exercise : 6 "
   ]
  },
  {
   "cell_type": "code",
   "execution_count": 28,
   "metadata": {},
   "outputs": [],
   "source": [
    "# Modify Number Guessing game"
   ]
  },
  {
   "cell_type": "code",
   "execution_count": 44,
   "metadata": {},
   "outputs": [
    {
     "name": "stdout",
     "output_type": "stream",
     "text": [
      "Guess a number between 0 to 10: 8\n",
      "Too low\n",
      "Guess again: 2\n",
      "Too low\n",
      "Guess again: 3\n",
      "Too low\n",
      "Guess again: 4\n",
      "Too low\n",
      "Guess again: 6\n",
      "Too low\n",
      "Guess again: 9\n",
      "Too low\n",
      "Guess again: 10\n",
      "You win, and you guessed this number 7 in times\n"
     ]
    }
   ],
   "source": [
    "import random\n",
    "\n",
    "secret_number = random.randint(1,10)\n",
    "counter = 1\n",
    "game_over = False\n",
    "\n",
    "guess_number = int(input(\"Guess a number between 0 to 10: \"))\n",
    "   \n",
    "while not game_over:\n",
    "    if guess_number == secret_number:\n",
    "        print(f\"You win, and you guessed this number {counter} in times\")\n",
    "        game_over = True\n",
    "    else:\n",
    "        if guess_number < secret_number:\n",
    "            print(\"Too low\")\n",
    "        else:\n",
    "            print(\"Too High\")\n",
    "        counter +=1\n",
    "        guess_number = int(input(\"Guess again: \"))"
   ]
  },
  {
   "cell_type": "code",
   "execution_count": 45,
   "metadata": {},
   "outputs": [],
   "source": [
    "# Step argument"
   ]
  },
  {
   "cell_type": "code",
   "execution_count": 54,
   "metadata": {},
   "outputs": [
    {
     "name": "stdout",
     "output_type": "stream",
     "text": [
      "1\n",
      "3\n",
      "5\n",
      "7\n",
      "9\n"
     ]
    }
   ],
   "source": [
    "for i in range(1,11,2):\n",
    "    print(i)"
   ]
  },
  {
   "cell_type": "code",
   "execution_count": 57,
   "metadata": {},
   "outputs": [
    {
     "name": "stdout",
     "output_type": "stream",
     "text": [
      "10\n",
      "9\n",
      "8\n",
      "7\n",
      "6\n",
      "5\n",
      "4\n",
      "3\n",
      "2\n",
      "1\n"
     ]
    }
   ],
   "source": [
    "for i in range(10,0,-1):\n",
    "    print(i)"
   ]
  },
  {
   "cell_type": "code",
   "execution_count": 1,
   "metadata": {},
   "outputs": [],
   "source": [
    "# for loop and string"
   ]
  },
  {
   "cell_type": "code",
   "execution_count": 6,
   "metadata": {},
   "outputs": [
    {
     "name": "stdout",
     "output_type": "stream",
     "text": [
      "a\n",
      "r\n",
      "s\n",
      "a\n",
      "l\n",
      "a\n",
      "n\n"
     ]
    }
   ],
   "source": [
    "# name = \"arsalan\"\n",
    "# for i in range(len(name)):\n",
    "#     print(name[i])\n",
    "\n",
    "name = \"arsalan\"\n",
    "\n",
    "for i in name:\n",
    "    print(i)"
   ]
  },
  {
   "cell_type": "code",
   "execution_count": 8,
   "metadata": {},
   "outputs": [
    {
     "name": "stdout",
     "output_type": "stream",
     "text": [
      "Enter number12\n",
      "3\n"
     ]
    }
   ],
   "source": [
    "# 1235 ---> 1+ 2+5+6\n",
    "\n",
    "n = input(\"Enter number\")\n",
    "total = 0\n",
    "\n",
    "for i in n:\n",
    "    total += int(i)\n",
    "print(total)"
   ]
  },
  {
   "cell_type": "markdown",
   "metadata": {},
   "source": [
    "## Summary"
   ]
  },
  {
   "cell_type": "code",
   "execution_count": 11,
   "metadata": {},
   "outputs": [
    {
     "name": "stdout",
     "output_type": "stream",
     "text": [
      "you are arsalan\n"
     ]
    }
   ],
   "source": [
    "# if statment\n",
    "\n",
    "name = \"arsalan\"\n",
    "\n",
    "if name == \"arsalan\" or name == \"Arsalan\":\n",
    "    print(\"you are arsalan\")\n",
    "elif name == \"faizan\":\n",
    "    print(\"you are faizan\")\n",
    "else:\n",
    "    print(\"you are not arsalan\")"
   ]
  },
  {
   "cell_type": "code",
   "execution_count": 13,
   "metadata": {},
   "outputs": [
    {
     "name": "stdout",
     "output_type": "stream",
     "text": [
      "1 hello world\n",
      "2 hello world\n",
      "3 hello world\n",
      "4 hello world\n",
      "5 hello world\n",
      "6 hello world\n",
      "7 hello world\n",
      "8 hello world\n",
      "9 hello world\n",
      "10 hello world\n"
     ]
    }
   ],
   "source": [
    "# while\n",
    "i = 1\n",
    "\n",
    "while i <= 10:\n",
    "    print(i,\"hello world\")\n",
    "    i = i + 1"
   ]
  },
  {
   "cell_type": "code",
   "execution_count": 14,
   "metadata": {},
   "outputs": [
    {
     "name": "stdout",
     "output_type": "stream",
     "text": [
      "1 hello world\n",
      "2 hello world\n",
      "3 hello world\n",
      "4 hello world\n",
      "5 hello world\n",
      "6 hello world\n",
      "7 hello world\n",
      "8 hello world\n",
      "9 hello world\n",
      "10 hello world\n"
     ]
    }
   ],
   "source": [
    "# for loop\n",
    "\n",
    "for i in range(1,11):\n",
    "    print(i,\"hello world\")"
   ]
  },
  {
   "cell_type": "code",
   "execution_count": 15,
   "metadata": {},
   "outputs": [
    {
     "name": "stdout",
     "output_type": "stream",
     "text": [
      "1 hello world\n",
      "3 hello world\n",
      "5 hello world\n",
      "7 hello world\n",
      "9 hello world\n"
     ]
    }
   ],
   "source": [
    "# for loop with step argument\n",
    "\n",
    "for i in range(1,11,2):\n",
    "    print(i, \"hello world\")"
   ]
  },
  {
   "cell_type": "code",
   "execution_count": 16,
   "metadata": {},
   "outputs": [
    {
     "name": "stdout",
     "output_type": "stream",
     "text": [
      "1\n",
      "2\n",
      "3\n",
      "4\n"
     ]
    }
   ],
   "source": [
    "# break statement\n",
    "\n",
    "for i in range(1,11):\n",
    "    if i == 5:\n",
    "        break\n",
    "    print(i)"
   ]
  },
  {
   "cell_type": "code",
   "execution_count": 17,
   "metadata": {},
   "outputs": [
    {
     "name": "stdout",
     "output_type": "stream",
     "text": [
      "1\n",
      "2\n",
      "3\n",
      "4\n",
      "6\n",
      "7\n",
      "8\n",
      "9\n",
      "10\n"
     ]
    }
   ],
   "source": [
    "# continue statement\n",
    "for i in range(1,11):\n",
    "    if i == 5:\n",
    "        continue\n",
    "    print(i)"
   ]
  },
  {
   "cell_type": "code",
   "execution_count": 18,
   "metadata": {},
   "outputs": [
    {
     "name": "stdout",
     "output_type": "stream",
     "text": [
      "a\n",
      "r\n",
      "s\n",
      "a\n",
      "l\n",
      "a\n",
      "n\n"
     ]
    }
   ],
   "source": [
    "# for loop with string\n",
    "for i in \"arsalan\":\n",
    "    print(i)"
   ]
  },
  {
   "cell_type": "markdown",
   "metadata": {},
   "source": [
    "# Functions"
   ]
  },
  {
   "cell_type": "code",
   "execution_count": 24,
   "metadata": {},
   "outputs": [
    {
     "name": "stdout",
     "output_type": "stream",
     "text": [
      "7\n"
     ]
    }
   ],
   "source": [
    "# functions\n",
    "# ek hi code ko bar bar use kary hain\n",
    "\n",
    "name = \"arsalan\"\n",
    "print(len(name))"
   ]
  },
  {
   "cell_type": "code",
   "execution_count": 1,
   "metadata": {},
   "outputs": [],
   "source": [
    "def add_two(a, b):\n",
    "    return a + b"
   ]
  },
  {
   "cell_type": "code",
   "execution_count": 2,
   "metadata": {},
   "outputs": [
    {
     "name": "stdout",
     "output_type": "stream",
     "text": [
      "3\n"
     ]
    }
   ],
   "source": [
    "total = add_two(1,2)\n",
    "print(total)"
   ]
  },
  {
   "cell_type": "code",
   "execution_count": 3,
   "metadata": {},
   "outputs": [
    {
     "name": "stdout",
     "output_type": "stream",
     "text": [
      "Enter first number: 10\n",
      "Enter second number: 30\n",
      "40\n"
     ]
    }
   ],
   "source": [
    "a = int(input(\"Enter first number: \"))\n",
    "b = int(input(\"Enter second number: \"))\n",
    "total = add_two(a, b)\n",
    "print(total)"
   ]
  },
  {
   "cell_type": "code",
   "execution_count": 4,
   "metadata": {},
   "outputs": [
    {
     "name": "stdout",
     "output_type": "stream",
     "text": [
      "type first name: arsalan \n",
      "type last name:manzoor\n",
      "arsalan manzoor\n"
     ]
    }
   ],
   "source": [
    "first_name = input(\"type first name: \")\n",
    "last_name = input(\"type last name:\")\n",
    "print(add_two(first_name,last_name))"
   ]
  },
  {
   "cell_type": "code",
   "execution_count": 5,
   "metadata": {},
   "outputs": [],
   "source": [
    "# print vs return"
   ]
  },
  {
   "cell_type": "code",
   "execution_count": 6,
   "metadata": {},
   "outputs": [],
   "source": [
    "def add_three(a, b, c):\n",
    "    return a + b + c"
   ]
  },
  {
   "cell_type": "code",
   "execution_count": 8,
   "metadata": {},
   "outputs": [
    {
     "name": "stdout",
     "output_type": "stream",
     "text": [
      "15\n"
     ]
    }
   ],
   "source": [
    "return_val = add_three(5,5,5)\n",
    "print(return_val)"
   ]
  },
  {
   "cell_type": "code",
   "execution_count": 10,
   "metadata": {},
   "outputs": [],
   "source": [
    "# functions practice"
   ]
  },
  {
   "cell_type": "code",
   "execution_count": 11,
   "metadata": {},
   "outputs": [],
   "source": [
    "def last_char(name):\n",
    "    return name[-1]"
   ]
  },
  {
   "cell_type": "code",
   "execution_count": 12,
   "metadata": {},
   "outputs": [
    {
     "data": {
      "text/plain": [
       "'n'"
      ]
     },
     "execution_count": 12,
     "metadata": {},
     "output_type": "execute_result"
    }
   ],
   "source": [
    "last_char(\"arsalan\")"
   ]
  },
  {
   "cell_type": "code",
   "execution_count": 13,
   "metadata": {},
   "outputs": [
    {
     "ename": "TypeError",
     "evalue": "'int' object is not subscriptable",
     "output_type": "error",
     "traceback": [
      "\u001b[0;31m---------------------------------------------------------------------------\u001b[0m",
      "\u001b[0;31mTypeError\u001b[0m                                 Traceback (most recent call last)",
      "\u001b[0;32m<ipython-input-13-f92ec31f8bd6>\u001b[0m in \u001b[0;36m<module>\u001b[0;34m\u001b[0m\n\u001b[0;32m----> 1\u001b[0;31m \u001b[0mlast_char\u001b[0m\u001b[0;34m(\u001b[0m\u001b[0;36m9\u001b[0m\u001b[0;34m)\u001b[0m \u001b[0;31m# error\u001b[0m\u001b[0;34m\u001b[0m\u001b[0;34m\u001b[0m\u001b[0m\n\u001b[0m",
      "\u001b[0;32m<ipython-input-11-f639e31e84dd>\u001b[0m in \u001b[0;36mlast_char\u001b[0;34m(name)\u001b[0m\n\u001b[1;32m      1\u001b[0m \u001b[0;32mdef\u001b[0m \u001b[0mlast_char\u001b[0m\u001b[0;34m(\u001b[0m\u001b[0mname\u001b[0m\u001b[0;34m)\u001b[0m\u001b[0;34m:\u001b[0m\u001b[0;34m\u001b[0m\u001b[0;34m\u001b[0m\u001b[0m\n\u001b[0;32m----> 2\u001b[0;31m     \u001b[0;32mreturn\u001b[0m \u001b[0mname\u001b[0m\u001b[0;34m[\u001b[0m\u001b[0;34m-\u001b[0m\u001b[0;36m1\u001b[0m\u001b[0;34m]\u001b[0m\u001b[0;34m\u001b[0m\u001b[0;34m\u001b[0m\u001b[0m\n\u001b[0m",
      "\u001b[0;31mTypeError\u001b[0m: 'int' object is not subscriptable"
     ]
    }
   ],
   "source": [
    "last_char(9) # error"
   ]
  },
  {
   "cell_type": "code",
   "execution_count": 15,
   "metadata": {},
   "outputs": [],
   "source": [
    "def odd_even(num):\n",
    "    if num % 2 == 0:\n",
    "        return \"even\"\n",
    "    else:\n",
    "        return \"odd\"\n",
    "        "
   ]
  },
  {
   "cell_type": "code",
   "execution_count": 20,
   "metadata": {},
   "outputs": [
    {
     "name": "stdout",
     "output_type": "stream",
     "text": [
      "odd\n"
     ]
    }
   ],
   "source": [
    "print(odd_even(9))"
   ]
  },
  {
   "cell_type": "code",
   "execution_count": 21,
   "metadata": {},
   "outputs": [],
   "source": [
    "# both are same\n",
    "def odd_even(num):\n",
    "    if num%2==0:\n",
    "        return \"even\"\n",
    "    return \"odd\""
   ]
  },
  {
   "cell_type": "code",
   "execution_count": 22,
   "metadata": {},
   "outputs": [
    {
     "name": "stdout",
     "output_type": "stream",
     "text": [
      "even\n"
     ]
    }
   ],
   "source": [
    "print(odd_even(10))"
   ]
  },
  {
   "cell_type": "code",
   "execution_count": 26,
   "metadata": {},
   "outputs": [],
   "source": [
    "def is_even(num):\n",
    "    if num % 2==0:\n",
    "        return True\n",
    "    else:\n",
    "        return False"
   ]
  },
  {
   "cell_type": "code",
   "execution_count": 28,
   "metadata": {},
   "outputs": [
    {
     "data": {
      "text/plain": [
       "False"
      ]
     },
     "execution_count": 28,
     "metadata": {},
     "output_type": "execute_result"
    }
   ],
   "source": [
    "is_even(1)"
   ]
  },
  {
   "cell_type": "code",
   "execution_count": 1,
   "metadata": {},
   "outputs": [],
   "source": [
    "def is_even(num):\n",
    "    return num % 2 == 0"
   ]
  },
  {
   "cell_type": "code",
   "execution_count": 3,
   "metadata": {},
   "outputs": [
    {
     "name": "stdout",
     "output_type": "stream",
     "text": [
      "False\n"
     ]
    }
   ],
   "source": [
    "print(is_even(1))"
   ]
  },
  {
   "cell_type": "markdown",
   "metadata": {},
   "source": [
    "### Exercise : 1"
   ]
  },
  {
   "cell_type": "code",
   "execution_count": 6,
   "metadata": {},
   "outputs": [],
   "source": [
    "# define function that take two numbers and find greatest number."
   ]
  },
  {
   "cell_type": "code",
   "execution_count": 1,
   "metadata": {},
   "outputs": [],
   "source": [
    "def is_greatest(num1, num2):\n",
    "    if num1>num2:\n",
    "        return f\"{num1}\"\n",
    "    else:\n",
    "        return f\"{num2}\""
   ]
  },
  {
   "cell_type": "code",
   "execution_count": 2,
   "metadata": {},
   "outputs": [
    {
     "data": {
      "text/plain": [
       "'11'"
      ]
     },
     "execution_count": 2,
     "metadata": {},
     "output_type": "execute_result"
    }
   ],
   "source": [
    "is_greatest(2,11)"
   ]
  },
  {
   "cell_type": "code",
   "execution_count": 3,
   "metadata": {},
   "outputs": [
    {
     "data": {
      "text/plain": [
       "'21'"
      ]
     },
     "execution_count": 3,
     "metadata": {},
     "output_type": "execute_result"
    }
   ],
   "source": [
    "is_greatest(21,2)"
   ]
  },
  {
   "cell_type": "code",
   "execution_count": 1,
   "metadata": {},
   "outputs": [],
   "source": [
    "def greatest(a,b,c):\n",
    "    if (a > b) and (a > c):\n",
    "        return f\"{a}\"\n",
    "    elif (b > a) and (b > c):\n",
    "        return f\"{b}\"\n",
    "    else:\n",
    "        return f\"{c}\""
   ]
  },
  {
   "cell_type": "code",
   "execution_count": 5,
   "metadata": {},
   "outputs": [
    {
     "data": {
      "text/plain": [
       "'10'"
      ]
     },
     "execution_count": 5,
     "metadata": {},
     "output_type": "execute_result"
    }
   ],
   "source": [
    "greatest(10,6,2)"
   ]
  },
  {
   "cell_type": "markdown",
   "metadata": {},
   "source": [
    "### Exercise : 2"
   ]
  },
  {
   "cell_type": "code",
   "execution_count": 7,
   "metadata": {},
   "outputs": [],
   "source": [
    "# Define is_palindrome function that take one word in string as\n",
    "# input and return True if it is palindrome else return false\n",
    "\n",
    "# palindrome - word that reads same backwards as forwards\n",
    "\n",
    "# example \n",
    "\n",
    "# is_palindrome(\"madam\") ------> True\n",
    "# is_palindrome(\"naman\") ------> True\n",
    "# is_palindrome(\"horse\") ------> False\n",
    "\n",
    "# logic (algorithm)\n",
    "# step 1  -> reverse the string\n",
    "# step 2  -> compare reverse string with original string\n"
   ]
  },
  {
   "cell_type": "code",
   "execution_count": 11,
   "metadata": {},
   "outputs": [],
   "source": [
    "def is_palindrome(s):\n",
    "    reverse_string = s[::-1]\n",
    "    \n",
    "    if s == reverse_string:\n",
    "        return True\n",
    "    else:\n",
    "        return False"
   ]
  },
  {
   "cell_type": "code",
   "execution_count": 12,
   "metadata": {},
   "outputs": [
    {
     "data": {
      "text/plain": [
       "True"
      ]
     },
     "execution_count": 12,
     "metadata": {},
     "output_type": "execute_result"
    }
   ],
   "source": [
    "is_palindrome(\"madam\")"
   ]
  },
  {
   "cell_type": "code",
   "execution_count": 13,
   "metadata": {},
   "outputs": [
    {
     "data": {
      "text/plain": [
       "True"
      ]
     },
     "execution_count": 13,
     "metadata": {},
     "output_type": "execute_result"
    }
   ],
   "source": [
    "is_palindrome(\"naman\")"
   ]
  },
  {
   "cell_type": "code",
   "execution_count": 14,
   "metadata": {},
   "outputs": [
    {
     "data": {
      "text/plain": [
       "False"
      ]
     },
     "execution_count": 14,
     "metadata": {},
     "output_type": "execute_result"
    }
   ],
   "source": [
    "is_palindrome(\"horse\")"
   ]
  },
  {
   "cell_type": "code",
   "execution_count": 15,
   "metadata": {},
   "outputs": [],
   "source": [
    "# short method\n",
    "def is_palindrome(s):\n",
    "    return s == s[::-1]"
   ]
  },
  {
   "cell_type": "code",
   "execution_count": 16,
   "metadata": {},
   "outputs": [
    {
     "data": {
      "text/plain": [
       "True"
      ]
     },
     "execution_count": 16,
     "metadata": {},
     "output_type": "execute_result"
    }
   ],
   "source": [
    "is_palindrome(\"naman\")"
   ]
  },
  {
   "cell_type": "code",
   "execution_count": 17,
   "metadata": {},
   "outputs": [
    {
     "data": {
      "text/plain": [
       "False"
      ]
     },
     "execution_count": 17,
     "metadata": {},
     "output_type": "execute_result"
    }
   ],
   "source": [
    "is_palindrome(\"horse\")"
   ]
  },
  {
   "cell_type": "markdown",
   "metadata": {},
   "source": [
    "### Fibonacci series program"
   ]
  },
  {
   "cell_type": "code",
   "execution_count": 11,
   "metadata": {},
   "outputs": [],
   "source": [
    "# fibonacci series\n",
    "# 0 1 1 2 3 5 8 13 21 34\n",
    "\n",
    "# 1 ---- > 0\n",
    "# 2 -----> 0 1\n",
    "# 3------> 0 1 1 "
   ]
  },
  {
   "cell_type": "code",
   "execution_count": 13,
   "metadata": {},
   "outputs": [],
   "source": [
    "def fibonacci_seq(n):\n",
    "    a = 0 # first_number \n",
    "    b = 1 # second_number\n",
    "    \n",
    "    if n == 1:\n",
    "        print(a)\n",
    "    elif n == 2:\n",
    "        print(a, b)\n",
    "    else:\n",
    "        print(a, b, end=\" \")\n",
    "        for i in range(n-2):\n",
    "            c = a + b # c = 1\n",
    "            \n",
    "            a = b  # a = 1\n",
    "            \n",
    "            b = c # b = 1\n",
    "            print(b, end=\" \")"
   ]
  },
  {
   "cell_type": "code",
   "execution_count": 18,
   "metadata": {},
   "outputs": [
    {
     "name": "stdout",
     "output_type": "stream",
     "text": [
      "0 1 1 2 3 5 "
     ]
    }
   ],
   "source": [
    "fibonacci_seq(6)"
   ]
  },
  {
   "cell_type": "code",
   "execution_count": 19,
   "metadata": {},
   "outputs": [],
   "source": [
    "# default parameters"
   ]
  },
  {
   "cell_type": "code",
   "execution_count": 23,
   "metadata": {},
   "outputs": [],
   "source": [
    "def user_info(first_name, last_name, age=23):\n",
    "    print(f\"your first name is {first_name}\")\n",
    "    print(f\"your last name is {last_name}\")\n",
    "    print(f\"your age is {age}\")"
   ]
  },
  {
   "cell_type": "code",
   "execution_count": 25,
   "metadata": {},
   "outputs": [
    {
     "name": "stdout",
     "output_type": "stream",
     "text": [
      "your first name is arsalan\n",
      "your last name is manzoor\n",
      "your age is 24\n"
     ]
    }
   ],
   "source": [
    "user_info(\"arsalan\", \"manzoor\",24)"
   ]
  },
  {
   "cell_type": "code",
   "execution_count": 26,
   "metadata": {},
   "outputs": [],
   "source": [
    "# Scope"
   ]
  },
  {
   "cell_type": "code",
   "execution_count": 13,
   "metadata": {},
   "outputs": [
    {
     "name": "stdout",
     "output_type": "stream",
     "text": [
      "5\n",
      "5\n",
      "7\n",
      "7\n"
     ]
    }
   ],
   "source": [
    "x = 5 # global variable\n",
    "\n",
    "def func():\n",
    "    global x\n",
    "    x = 7 # local variable\n",
    "    return x\n",
    "\n",
    "def func2():\n",
    "    print(x)\n",
    "    \n",
    "    \n",
    "print(x)\n",
    "func2()\n",
    "print(func())\n",
    "print(x)"
   ]
  },
  {
   "cell_type": "markdown",
   "metadata": {},
   "source": [
    "# List"
   ]
  },
  {
   "cell_type": "code",
   "execution_count": 1,
   "metadata": {},
   "outputs": [],
   "source": [
    "# data structures\n",
    "# list \n",
    "# ordered collection of items\n",
    "\n",
    "# you can store anything in lists int, float, string"
   ]
  },
  {
   "cell_type": "code",
   "execution_count": 2,
   "metadata": {},
   "outputs": [
    {
     "name": "stdout",
     "output_type": "stream",
     "text": [
      "[1, 2, 3, 4]\n"
     ]
    }
   ],
   "source": [
    "numbers = [1, 2, 3, 4]\n",
    "print(numbers)"
   ]
  },
  {
   "cell_type": "code",
   "execution_count": 3,
   "metadata": {},
   "outputs": [
    {
     "name": "stdout",
     "output_type": "stream",
     "text": [
      "['word1', 'word2', 'word3']\n"
     ]
    }
   ],
   "source": [
    "words = [\"word1\", \"word2\", \"word3\"]\n",
    "print(words)"
   ]
  },
  {
   "cell_type": "code",
   "execution_count": 5,
   "metadata": {},
   "outputs": [
    {
     "name": "stdout",
     "output_type": "stream",
     "text": [
      "[1, 2, 3, 4, 'five', 'six', 2.3, None]\n"
     ]
    }
   ],
   "source": [
    "mixed = [1, 2, 3, 4, \"five\", \"six\", 2.3, None]\n",
    "print(mixed)"
   ]
  },
  {
   "cell_type": "code",
   "execution_count": 6,
   "metadata": {},
   "outputs": [
    {
     "name": "stdout",
     "output_type": "stream",
     "text": [
      "2\n"
     ]
    }
   ],
   "source": [
    "print(mixed[1])"
   ]
  },
  {
   "cell_type": "code",
   "execution_count": 7,
   "metadata": {},
   "outputs": [
    {
     "name": "stdout",
     "output_type": "stream",
     "text": [
      "[1, 2]\n"
     ]
    }
   ],
   "source": [
    "print(mixed[:2])"
   ]
  },
  {
   "cell_type": "code",
   "execution_count": 8,
   "metadata": {},
   "outputs": [
    {
     "name": "stdout",
     "output_type": "stream",
     "text": [
      "None\n"
     ]
    }
   ],
   "source": [
    "print(mixed[-1])"
   ]
  },
  {
   "cell_type": "code",
   "execution_count": 9,
   "metadata": {},
   "outputs": [],
   "source": [
    "mixed[1] = 'two'"
   ]
  },
  {
   "cell_type": "code",
   "execution_count": 10,
   "metadata": {},
   "outputs": [
    {
     "name": "stdout",
     "output_type": "stream",
     "text": [
      "[1, 'two', 3, 4, 'five', 'six', 2.3, None]\n"
     ]
    }
   ],
   "source": [
    "print(mixed)"
   ]
  },
  {
   "cell_type": "code",
   "execution_count": 11,
   "metadata": {},
   "outputs": [
    {
     "name": "stdout",
     "output_type": "stream",
     "text": [
      "[1, 't', 'w', 'o']\n"
     ]
    }
   ],
   "source": [
    "mixed[1:] = 'two'\n",
    "print(mixed)"
   ]
  },
  {
   "cell_type": "code",
   "execution_count": 12,
   "metadata": {},
   "outputs": [],
   "source": [
    "mixed[1:] = ['three', 'four']"
   ]
  },
  {
   "cell_type": "code",
   "execution_count": 13,
   "metadata": {},
   "outputs": [
    {
     "name": "stdout",
     "output_type": "stream",
     "text": [
      "[1, 'three', 'four']\n"
     ]
    }
   ],
   "source": [
    "print(mixed)"
   ]
  },
  {
   "cell_type": "code",
   "execution_count": 17,
   "metadata": {},
   "outputs": [
    {
     "name": "stdout",
     "output_type": "stream",
     "text": [
      "['grapes', 'apple']\n"
     ]
    }
   ],
   "source": [
    "# how to add items to out list\n",
    "# most common thing that you can do with your list and most important\n",
    "# append method add item to the end of list\n",
    "fruits = ['grapes', 'apple']\n",
    "print(fruits)"
   ]
  },
  {
   "cell_type": "code",
   "execution_count": 15,
   "metadata": {},
   "outputs": [
    {
     "name": "stdout",
     "output_type": "stream",
     "text": [
      "['grapes', 'apple', 'mango']\n"
     ]
    }
   ],
   "source": [
    "fruits.append('mango')\n",
    "print(fruits)"
   ]
  },
  {
   "cell_type": "code",
   "execution_count": 19,
   "metadata": {},
   "outputs": [
    {
     "name": "stdout",
     "output_type": "stream",
     "text": [
      "[]\n"
     ]
    }
   ],
   "source": [
    "fruits = []\n",
    "print(fruits)"
   ]
  },
  {
   "cell_type": "code",
   "execution_count": 20,
   "metadata": {},
   "outputs": [
    {
     "name": "stdout",
     "output_type": "stream",
     "text": [
      "['mango', 'grapes']\n"
     ]
    }
   ],
   "source": [
    "fruits.append('mango')\n",
    "fruits.append('grapes')\n",
    "print(fruits)"
   ]
  },
  {
   "cell_type": "code",
   "execution_count": 21,
   "metadata": {},
   "outputs": [],
   "source": [
    "# some more methods to add data in out list\n",
    "# insert method\n",
    "# how to join(concatenate) two list\n",
    "# extend method\n",
    "# difference between append and extend"
   ]
  },
  {
   "cell_type": "code",
   "execution_count": 23,
   "metadata": {},
   "outputs": [
    {
     "name": "stdout",
     "output_type": "stream",
     "text": [
      "['mango', 'orange']\n"
     ]
    }
   ],
   "source": [
    "fruits1 = ['mango', 'orange']\n",
    "print(fruits1)"
   ]
  },
  {
   "cell_type": "code",
   "execution_count": 24,
   "metadata": {},
   "outputs": [
    {
     "name": "stdout",
     "output_type": "stream",
     "text": [
      "['mango', 'grapes', 'orange']\n"
     ]
    }
   ],
   "source": [
    "fruits1.insert(1, 'grapes')\n",
    "print(fruits1)"
   ]
  },
  {
   "cell_type": "code",
   "execution_count": 26,
   "metadata": {},
   "outputs": [
    {
     "name": "stdout",
     "output_type": "stream",
     "text": [
      "['grapes', 'apple']\n"
     ]
    }
   ],
   "source": [
    "fruits2 = ['grapes', 'apple']\n",
    "print(fruits2)"
   ]
  },
  {
   "cell_type": "code",
   "execution_count": 27,
   "metadata": {},
   "outputs": [
    {
     "name": "stdout",
     "output_type": "stream",
     "text": [
      "['mango', 'grapes', 'orange', 'grapes', 'apple']\n"
     ]
    }
   ],
   "source": [
    "fruits = fruits1 + fruits2\n",
    "print(fruits)"
   ]
  },
  {
   "cell_type": "code",
   "execution_count": 29,
   "metadata": {},
   "outputs": [
    {
     "name": "stdout",
     "output_type": "stream",
     "text": [
      "['mango', 'grapes', 'orange']\n",
      "['grapes', 'apple']\n"
     ]
    }
   ],
   "source": [
    "print(fruits1)\n",
    "print(fruits2)"
   ]
  },
  {
   "cell_type": "code",
   "execution_count": 30,
   "metadata": {},
   "outputs": [
    {
     "name": "stdout",
     "output_type": "stream",
     "text": [
      "['mango', 'grapes', 'orange', 'grapes', 'apple']\n"
     ]
    }
   ],
   "source": [
    "fruits1.extend(fruits2)\n",
    "print(fruits1)"
   ]
  },
  {
   "cell_type": "code",
   "execution_count": 31,
   "metadata": {},
   "outputs": [
    {
     "name": "stdout",
     "output_type": "stream",
     "text": [
      "['mango', 'grapes', 'orange', 'grapes', 'apple', ['grapes', 'apple']]\n"
     ]
    }
   ],
   "source": [
    "fruits1.append(fruits2)\n",
    "print(fruits1)"
   ]
  },
  {
   "cell_type": "code",
   "execution_count": 33,
   "metadata": {},
   "outputs": [],
   "source": [
    "# Delete data from list\n",
    "# common methods to delete data from list"
   ]
  },
  {
   "cell_type": "code",
   "execution_count": 34,
   "metadata": {},
   "outputs": [
    {
     "name": "stdout",
     "output_type": "stream",
     "text": [
      "['orange', 'apple', 'pear', 'banana', 'kiwi']\n"
     ]
    }
   ],
   "source": [
    "fruits = ['orange', 'apple', 'pear', 'banana', 'kiwi']\n",
    "print(fruits)"
   ]
  },
  {
   "cell_type": "code",
   "execution_count": 35,
   "metadata": {},
   "outputs": [
    {
     "name": "stdout",
     "output_type": "stream",
     "text": [
      "['orange', 'apple', 'pear', 'banana']\n"
     ]
    }
   ],
   "source": [
    "# pop method\n",
    "fruits.pop()\n",
    "print(fruits)"
   ]
  },
  {
   "cell_type": "code",
   "execution_count": 36,
   "metadata": {},
   "outputs": [
    {
     "name": "stdout",
     "output_type": "stream",
     "text": [
      "['orange', 'pear', 'banana']\n"
     ]
    }
   ],
   "source": [
    "fruits.pop(1)\n",
    "print(fruits)"
   ]
  },
  {
   "cell_type": "code",
   "execution_count": 37,
   "metadata": {},
   "outputs": [],
   "source": [
    "# del"
   ]
  },
  {
   "cell_type": "code",
   "execution_count": 38,
   "metadata": {},
   "outputs": [
    {
     "data": {
      "text/plain": [
       "['orange', 'pear', 'banana']"
      ]
     },
     "execution_count": 38,
     "metadata": {},
     "output_type": "execute_result"
    }
   ],
   "source": [
    "fruits"
   ]
  },
  {
   "cell_type": "code",
   "execution_count": 39,
   "metadata": {},
   "outputs": [
    {
     "name": "stdout",
     "output_type": "stream",
     "text": [
      "['orange', 'banana']\n"
     ]
    }
   ],
   "source": [
    "del fruits[1]\n",
    "print(fruits)"
   ]
  },
  {
   "cell_type": "code",
   "execution_count": 40,
   "metadata": {},
   "outputs": [],
   "source": [
    "# remove method"
   ]
  },
  {
   "cell_type": "code",
   "execution_count": 41,
   "metadata": {},
   "outputs": [
    {
     "name": "stdout",
     "output_type": "stream",
     "text": [
      "['orange']\n"
     ]
    }
   ],
   "source": [
    "fruits.remove(\"banana\")\n",
    "print(fruits)"
   ]
  },
  {
   "cell_type": "code",
   "execution_count": 1,
   "metadata": {},
   "outputs": [
    {
     "name": "stdout",
     "output_type": "stream",
     "text": [
      "['orange', 'apple', 'pear', 'banana', 'apple', 'kiwi']\n"
     ]
    }
   ],
   "source": [
    "fruits = ['orange', 'apple', 'pear', 'banana', 'apple', 'kiwi']\n",
    "print(fruits)"
   ]
  },
  {
   "cell_type": "code",
   "execution_count": 2,
   "metadata": {},
   "outputs": [
    {
     "name": "stdout",
     "output_type": "stream",
     "text": [
      "['orange', 'pear', 'banana', 'apple', 'kiwi']\n"
     ]
    }
   ],
   "source": [
    "fruits.remove('apple')\n",
    "print(fruits)"
   ]
  },
  {
   "cell_type": "code",
   "execution_count": 3,
   "metadata": {},
   "outputs": [],
   "source": [
    "fruits = ['orange', 'apple', 'pear', 'banana', 'kiwi']"
   ]
  },
  {
   "cell_type": "code",
   "execution_count": 5,
   "metadata": {},
   "outputs": [
    {
     "name": "stdout",
     "output_type": "stream",
     "text": [
      "apple is present\n"
     ]
    }
   ],
   "source": [
    "if 'apple' in fruits:\n",
    "    print('apple is present')\n",
    "else:\n",
    "    print('not present')"
   ]
  },
  {
   "cell_type": "code",
   "execution_count": 1,
   "metadata": {},
   "outputs": [],
   "source": [
    "# some more methods"
   ]
  },
  {
   "cell_type": "code",
   "execution_count": 2,
   "metadata": {},
   "outputs": [],
   "source": [
    "# count\n",
    "# sort method\n",
    "# sorted fucntion\n",
    "# reverse\n",
    "# clear\n",
    "# copy"
   ]
  },
  {
   "cell_type": "code",
   "execution_count": 3,
   "metadata": {},
   "outputs": [],
   "source": [
    "fruits = ['orange', 'apple', 'pear', 'banana', 'kiwi','apple','banana']"
   ]
  },
  {
   "cell_type": "code",
   "execution_count": 5,
   "metadata": {},
   "outputs": [
    {
     "name": "stdout",
     "output_type": "stream",
     "text": [
      "2\n"
     ]
    }
   ],
   "source": [
    "print(fruits.count('apple'))"
   ]
  },
  {
   "cell_type": "code",
   "execution_count": 6,
   "metadata": {},
   "outputs": [
    {
     "name": "stdout",
     "output_type": "stream",
     "text": [
      "['apple', 'apple', 'banana', 'banana', 'kiwi', 'orange', 'pear']\n"
     ]
    }
   ],
   "source": [
    "fruits.sort()\n",
    "print(fruits)"
   ]
  },
  {
   "cell_type": "code",
   "execution_count": 10,
   "metadata": {},
   "outputs": [
    {
     "name": "stdout",
     "output_type": "stream",
     "text": [
      "[3, 4, 5, 1, 9, 10]\n"
     ]
    }
   ],
   "source": [
    "numbers = [3,4,5,1,9,10]\n",
    "print(numbers)\n",
    "numbers.sort()"
   ]
  },
  {
   "cell_type": "code",
   "execution_count": 9,
   "metadata": {},
   "outputs": [
    {
     "name": "stdout",
     "output_type": "stream",
     "text": [
      "[1, 3, 4, 5, 9, 10]\n"
     ]
    }
   ],
   "source": [
    "print(numbers)"
   ]
  },
  {
   "cell_type": "code",
   "execution_count": 12,
   "metadata": {},
   "outputs": [
    {
     "name": "stdout",
     "output_type": "stream",
     "text": [
      "[1, 3, 4, 5, 9, 10]\n"
     ]
    }
   ],
   "source": [
    "# sorted function will not effect on original list\n",
    "print(sorted(numbers))"
   ]
  },
  {
   "cell_type": "code",
   "execution_count": 13,
   "metadata": {},
   "outputs": [],
   "source": [
    "numbers.clear()"
   ]
  },
  {
   "cell_type": "code",
   "execution_count": 14,
   "metadata": {},
   "outputs": [
    {
     "name": "stdout",
     "output_type": "stream",
     "text": [
      "[]\n"
     ]
    }
   ],
   "source": [
    "print(numbers)"
   ]
  },
  {
   "cell_type": "code",
   "execution_count": 15,
   "metadata": {},
   "outputs": [
    {
     "name": "stdout",
     "output_type": "stream",
     "text": [
      "['apple', 'apple', 'banana', 'banana', 'kiwi', 'orange', 'pear']\n"
     ]
    }
   ],
   "source": [
    "fruits_copy = fruits.copy()\n",
    "print(fruits_copy)"
   ]
  },
  {
   "cell_type": "code",
   "execution_count": 24,
   "metadata": {},
   "outputs": [],
   "source": [
    "# compare lists\n",
    "# ==  (check values are same) \n",
    "# is(pointing both are same memory location)"
   ]
  },
  {
   "cell_type": "code",
   "execution_count": 17,
   "metadata": {},
   "outputs": [],
   "source": [
    "fruits1 = ['apple', 'orange', 'banana']\n",
    "fruits2 = ['banana', 'kiwi', 'apple']"
   ]
  },
  {
   "cell_type": "code",
   "execution_count": 18,
   "metadata": {},
   "outputs": [
    {
     "name": "stdout",
     "output_type": "stream",
     "text": [
      "False\n"
     ]
    }
   ],
   "source": [
    "print(fruits1 == fruits2)"
   ]
  },
  {
   "cell_type": "code",
   "execution_count": 19,
   "metadata": {},
   "outputs": [],
   "source": [
    "fruits1 = ['apple', 'orange', 'banana']\n",
    "fruits3 = ['apple', 'orange', 'banana']"
   ]
  },
  {
   "cell_type": "code",
   "execution_count": 21,
   "metadata": {},
   "outputs": [
    {
     "name": "stdout",
     "output_type": "stream",
     "text": [
      "True\n"
     ]
    }
   ],
   "source": [
    "print(fruits1 == fruits3) # values are same"
   ]
  },
  {
   "cell_type": "code",
   "execution_count": 22,
   "metadata": {},
   "outputs": [
    {
     "name": "stdout",
     "output_type": "stream",
     "text": [
      "False\n"
     ]
    }
   ],
   "source": [
    "print(fruits1 is fruits3)"
   ]
  },
  {
   "cell_type": "code",
   "execution_count": 23,
   "metadata": {},
   "outputs": [
    {
     "name": "stdout",
     "output_type": "stream",
     "text": [
      "140477649247304\n",
      "140477649247432\n"
     ]
    }
   ],
   "source": [
    "print(id(fruits1))\n",
    "print(id(fruits3))"
   ]
  },
  {
   "cell_type": "code",
   "execution_count": 25,
   "metadata": {},
   "outputs": [],
   "source": [
    "# split method\n",
    "# convert string to list\n",
    "\n",
    "# join method\n",
    "# conver list to string"
   ]
  },
  {
   "cell_type": "code",
   "execution_count": 27,
   "metadata": {},
   "outputs": [],
   "source": [
    "user_info = 'arsalan 24'.split()"
   ]
  },
  {
   "cell_type": "code",
   "execution_count": 28,
   "metadata": {},
   "outputs": [
    {
     "data": {
      "text/plain": [
       "['arsalan', '24']"
      ]
     },
     "execution_count": 28,
     "metadata": {},
     "output_type": "execute_result"
    }
   ],
   "source": [
    "user_info"
   ]
  },
  {
   "cell_type": "code",
   "execution_count": 29,
   "metadata": {},
   "outputs": [
    {
     "name": "stdout",
     "output_type": "stream",
     "text": [
      "['arsalan', '24']\n"
     ]
    }
   ],
   "source": [
    "user_info = 'arsalan,24'.split(',')\n",
    "print(user_info)"
   ]
  },
  {
   "cell_type": "code",
   "execution_count": 30,
   "metadata": {},
   "outputs": [
    {
     "name": "stdout",
     "output_type": "stream",
     "text": [
      "arsalan\n",
      "24\n"
     ]
    }
   ],
   "source": [
    "name, age = 'arsalan,24'.split(',')\n",
    "print(name)\n",
    "print(age)"
   ]
  },
  {
   "cell_type": "code",
   "execution_count": 31,
   "metadata": {},
   "outputs": [],
   "source": [
    "# join method \n",
    "# list main string waly items ky sath use karengy\n",
    "user_info = ['arsalan', '24']"
   ]
  },
  {
   "cell_type": "code",
   "execution_count": 34,
   "metadata": {},
   "outputs": [
    {
     "name": "stdout",
     "output_type": "stream",
     "text": [
      "arsalan:24\n"
     ]
    }
   ],
   "source": [
    "print(':'.join(user_info))"
   ]
  },
  {
   "cell_type": "markdown",
   "metadata": {},
   "source": [
    "#### List vs Array"
   ]
  },
  {
   "cell_type": "code",
   "execution_count": 35,
   "metadata": {},
   "outputs": [],
   "source": [
    "# array data are hetrogeneous (ek hi tarah ka data store kar sakty hain)\n",
    "# list data are homogeneous (koi bhi data store kar sakty hain)"
   ]
  },
  {
   "cell_type": "code",
   "execution_count": 36,
   "metadata": {},
   "outputs": [],
   "source": [
    "# list - store any data / flexible"
   ]
  },
  {
   "cell_type": "markdown",
   "metadata": {},
   "source": [
    "#### List vs String"
   ]
  },
  {
   "cell_type": "code",
   "execution_count": 37,
   "metadata": {},
   "outputs": [],
   "source": [
    "# Strings are immutable\n",
    "# Lists are mutable"
   ]
  },
  {
   "cell_type": "code",
   "execution_count": 40,
   "metadata": {},
   "outputs": [],
   "source": [
    "s = \"string\""
   ]
  },
  {
   "cell_type": "code",
   "execution_count": 41,
   "metadata": {},
   "outputs": [
    {
     "data": {
      "text/plain": [
       "'String'"
      ]
     },
     "execution_count": 41,
     "metadata": {},
     "output_type": "execute_result"
    }
   ],
   "source": [
    "s.title()"
   ]
  },
  {
   "cell_type": "code",
   "execution_count": 42,
   "metadata": {},
   "outputs": [
    {
     "data": {
      "text/plain": [
       "'string'"
      ]
     },
     "execution_count": 42,
     "metadata": {},
     "output_type": "execute_result"
    }
   ],
   "source": [
    "s"
   ]
  },
  {
   "cell_type": "code",
   "execution_count": 39,
   "metadata": {},
   "outputs": [],
   "source": [
    "l = ['word1','word2','word3']"
   ]
  },
  {
   "cell_type": "code",
   "execution_count": 43,
   "metadata": {},
   "outputs": [
    {
     "data": {
      "text/plain": [
       "'word3'"
      ]
     },
     "execution_count": 43,
     "metadata": {},
     "output_type": "execute_result"
    }
   ],
   "source": [
    "l.pop()"
   ]
  },
  {
   "cell_type": "code",
   "execution_count": 44,
   "metadata": {},
   "outputs": [
    {
     "data": {
      "text/plain": [
       "['word1', 'word2']"
      ]
     },
     "execution_count": 44,
     "metadata": {},
     "output_type": "execute_result"
    }
   ],
   "source": [
    "l"
   ]
  },
  {
   "cell_type": "code",
   "execution_count": 45,
   "metadata": {},
   "outputs": [],
   "source": [
    "l.append('word4')"
   ]
  },
  {
   "cell_type": "code",
   "execution_count": 47,
   "metadata": {},
   "outputs": [
    {
     "data": {
      "text/plain": [
       "['word1', 'word2', 'word4']"
      ]
     },
     "execution_count": 47,
     "metadata": {},
     "output_type": "execute_result"
    }
   ],
   "source": [
    "l"
   ]
  },
  {
   "cell_type": "markdown",
   "metadata": {},
   "source": [
    "### Exercise : 1"
   ]
  },
  {
   "cell_type": "code",
   "execution_count": 1,
   "metadata": {},
   "outputs": [],
   "source": [
    "# define a function which will take list containing numbers as input\n",
    "# and return list containing square of every elements\n",
    "\n",
    "# example \n",
    "# numbers = [1, 2, 3, 4]\n",
    "# square_list(numbers) ----> return -----> [1, 2, 9, 16]"
   ]
  },
  {
   "cell_type": "code",
   "execution_count": 4,
   "metadata": {},
   "outputs": [
    {
     "name": "stdout",
     "output_type": "stream",
     "text": [
      "[1, 4, 9, 16]\n"
     ]
    }
   ],
   "source": [
    "def squares(numbers):\n",
    "    new_numbers = []\n",
    "    for number in numbers:\n",
    "        new_numbers.append(number*number)\n",
    "    return new_numbers\n",
    "\n",
    "return_numbers = squares([1, 2, 3, 4])\n",
    "print(return_numbers)"
   ]
  },
  {
   "cell_type": "markdown",
   "metadata": {},
   "source": [
    "### Exercise: 2"
   ]
  },
  {
   "cell_type": "code",
   "execution_count": 5,
   "metadata": {},
   "outputs": [],
   "source": [
    "# define a function which will take list as a argument and this \n",
    "# function will return a reversed list\n",
    "\n",
    "# examples\n",
    "# [1,2,3,4] ---> [4,3,2,1]\n",
    "# ['word1', 'word2']--->['word2', 'word1']\n",
    "\n",
    "# Note you simply do this with reverse method or [::-1]\n",
    "\n",
    "# but try to do this with the help of append and pop method"
   ]
  },
  {
   "cell_type": "code",
   "execution_count": 12,
   "metadata": {},
   "outputs": [
    {
     "name": "stdout",
     "output_type": "stream",
     "text": [
      "[4, 3, 2, 1]\n",
      "['word2', 'word1']\n"
     ]
    }
   ],
   "source": [
    "def reverse(li):\n",
    "    reverse_list = []\n",
    "    \n",
    "    for iteration in range(len(li)):\n",
    "        reverse_list.append(li.pop())\n",
    "    return reverse_list\n",
    "\n",
    "value_1 = reverse([1,2,3,4])\n",
    "print(value_1)\n",
    "\n",
    "value_2 = reverse(['word1', 'word2'])\n",
    "print(value_2)"
   ]
  },
  {
   "cell_type": "markdown",
   "metadata": {},
   "source": [
    "### Exercise: 3"
   ]
  },
  {
   "cell_type": "code",
   "execution_count": 14,
   "metadata": {},
   "outputs": [],
   "source": [
    "# define a function that take list of words as argument and \n",
    "# return list with reverse of every element in that list\n",
    "\n",
    "# example \n",
    "# ['abc', 'tuv', 'xyz'] ---> ['cba', 'vut', 'zyx']"
   ]
  },
  {
   "cell_type": "code",
   "execution_count": 19,
   "metadata": {},
   "outputs": [
    {
     "name": "stdout",
     "output_type": "stream",
     "text": [
      "['cba', 'vut', 'zyx']\n"
     ]
    }
   ],
   "source": [
    "def reverse_words(l):\n",
    "    new_list = []\n",
    "    for words in l:\n",
    "        new_list.append(words[::-1])\n",
    "    return new_list\n",
    "\n",
    "return_words = reverse_words(['abc', 'tuv', 'xyz'])\n",
    "\n",
    "print(return_words)"
   ]
  },
  {
   "cell_type": "markdown",
   "metadata": {},
   "source": [
    "### Exercise: 4"
   ]
  },
  {
   "cell_type": "code",
   "execution_count": 20,
   "metadata": {},
   "outputs": [],
   "source": [
    "# filter odd even\n",
    "# define a function\n",
    "# input\n",
    "# list ---> [1, 2, 3, 4, 5, 6]\n",
    "# output ----> [[1,3,5,7], [2,4,6]]"
   ]
  },
  {
   "cell_type": "code",
   "execution_count": 30,
   "metadata": {},
   "outputs": [
    {
     "name": "stdout",
     "output_type": "stream",
     "text": [
      "[[1, 3, 5, 7], [2, 4, 6]]\n"
     ]
    }
   ],
   "source": [
    "def filter_odd_even(l):\n",
    "    odd_nums = []\n",
    "    even_nums = []\n",
    "    \n",
    "    \n",
    "    for number in l:\n",
    "        if number % 2 == 0:\n",
    "            even_nums.append(number)\n",
    "        else:\n",
    "            odd_nums.append(number)\n",
    "    odd_even = [odd_nums,even_nums]\n",
    "    return odd_even\n",
    "\n",
    "print(filter_odd_even([1,2,3,4,5,6,7]))"
   ]
  },
  {
   "cell_type": "markdown",
   "metadata": {},
   "source": [
    "### Exercise: 5"
   ]
  },
  {
   "cell_type": "code",
   "execution_count": 31,
   "metadata": {},
   "outputs": [],
   "source": [
    "# common elements finder function\n",
    "# define a function which take 2 lists as input and return a list\n",
    "# which contains common elements of both lists\n",
    "\n",
    "# example \n",
    "# input ---> [1, 2, 5, 8], [1, 2, 7, 6]\n",
    "# output --->[1, 2]\n"
   ]
  },
  {
   "cell_type": "code",
   "execution_count": 1,
   "metadata": {},
   "outputs": [],
   "source": [
    "def common_functions(list_1, list_2):\n",
    "    common_list = []\n",
    "    for i in list_1:\n",
    "        if i in list_2:\n",
    "            common_list.append(i)\n",
    "    return common_list"
   ]
  },
  {
   "cell_type": "code",
   "execution_count": 2,
   "metadata": {},
   "outputs": [
    {
     "data": {
      "text/plain": [
       "[1, 2]"
      ]
     },
     "execution_count": 2,
     "metadata": {},
     "output_type": "execute_result"
    }
   ],
   "source": [
    "common_functions([1,2,5,8],[1,2,7,6])"
   ]
  },
  {
   "cell_type": "code",
   "execution_count": 3,
   "metadata": {},
   "outputs": [],
   "source": [
    "# min and max function"
   ]
  },
  {
   "cell_type": "code",
   "execution_count": 9,
   "metadata": {},
   "outputs": [
    {
     "name": "stdout",
     "output_type": "stream",
     "text": [
      "2\n",
      "60\n"
     ]
    }
   ],
   "source": [
    "numbers = [6,60,2]\n",
    "print(min(numbers))\n",
    "print(max(numbers))"
   ]
  },
  {
   "cell_type": "markdown",
   "metadata": {},
   "source": [
    "### Exercise: 6"
   ]
  },
  {
   "cell_type": "code",
   "execution_count": 1,
   "metadata": {},
   "outputs": [],
   "source": [
    "# last exercise\n",
    "# function which take list and return how many lists in lists\n",
    "# example\n",
    "# [1, 2, 4, [1, 2]]\n",
    "# 1\n",
    "\n",
    "# [1, 2, 4, [1, 2], [3,3]]\n",
    "# 2\n",
    "\n",
    "# hint use:\n",
    "# type() function\n"
   ]
  },
  {
   "cell_type": "code",
   "execution_count": 10,
   "metadata": {},
   "outputs": [],
   "source": [
    "def how_many_lists(l):\n",
    "    number_of_lists = 0\n",
    "    for element in l:\n",
    "        if type(element) == list:\n",
    "            number_of_lists += 1\n",
    "    return number_of_lists"
   ]
  },
  {
   "cell_type": "code",
   "execution_count": 16,
   "metadata": {},
   "outputs": [
    {
     "name": "stdout",
     "output_type": "stream",
     "text": [
      "2\n"
     ]
    }
   ],
   "source": [
    "print(how_many_lists([1,2,3, [1,2], [3,4]]))"
   ]
  },
  {
   "cell_type": "markdown",
   "metadata": {},
   "source": [
    "# Tuples"
   ]
  },
  {
   "cell_type": "code",
   "execution_count": 1,
   "metadata": {},
   "outputs": [
    {
     "name": "stdout",
     "output_type": "stream",
     "text": [
      "('one', 'two')\n"
     ]
    }
   ],
   "source": [
    "# tules data structure\n",
    "# tuple can store any data type\n",
    "# most important tuples are immutale, once tuple is created you can't update\n",
    "\n",
    "example = ('one', 'two', 'three')\n",
    "# no append, no insert, no pop, no remove\n",
    "\n",
    "# tuple methods:\n",
    "# count, index\n",
    "\n",
    "print(example[:2])"
   ]
  },
  {
   "cell_type": "code",
   "execution_count": 3,
   "metadata": {},
   "outputs": [],
   "source": [
    "# ERROR\n",
    "\n",
    "# example[0] = 1"
   ]
  },
  {
   "cell_type": "code",
   "execution_count": 4,
   "metadata": {},
   "outputs": [],
   "source": [
    "# looping in tuples\n",
    "# tuple with one element\n",
    "# tuple without parenthesis\n",
    "# tuple unpacking\n",
    "# list inside tuple\n",
    "# some functions that you can use with tuples\n",
    "\n",
    "mixed = (1, 2, 3, 4.0)"
   ]
  },
  {
   "cell_type": "code",
   "execution_count": 5,
   "metadata": {},
   "outputs": [
    {
     "name": "stdout",
     "output_type": "stream",
     "text": [
      "1\n",
      "2\n",
      "3\n",
      "4.0\n"
     ]
    }
   ],
   "source": [
    "# for loop and tuple\n",
    "for i in mixed:\n",
    "    print(i)"
   ]
  },
  {
   "cell_type": "code",
   "execution_count": 7,
   "metadata": {},
   "outputs": [
    {
     "name": "stdout",
     "output_type": "stream",
     "text": [
      "1\n",
      "2\n",
      "3\n",
      "4.0\n"
     ]
    }
   ],
   "source": [
    "# while loop and tuple\n",
    "i = 0\n",
    "while i< len(mixed):\n",
    "    print(mixed[i])\n",
    "    i = i +1"
   ]
  },
  {
   "cell_type": "code",
   "execution_count": 15,
   "metadata": {},
   "outputs": [
    {
     "name": "stdout",
     "output_type": "stream",
     "text": [
      "<class 'int'>\n",
      "<class 'str'>\n"
     ]
    }
   ],
   "source": [
    "# tuple with one element\n",
    "nums = (1)\n",
    "print(type(nums))\n",
    "\n",
    "words = ('word1')\n",
    "print(type(words))"
   ]
  },
  {
   "cell_type": "code",
   "execution_count": 12,
   "metadata": {},
   "outputs": [],
   "source": [
    "# agar app ko single element ka tuple banan hai toh end main \n",
    "# element ky baad , lagana zaroori hai is sy python ko yeh\n",
    "# pata chalega ky yeh tuple hai nhi toh python isy jo bhi \n",
    "# element hoga data type ki tarah treat karega"
   ]
  },
  {
   "cell_type": "code",
   "execution_count": 13,
   "metadata": {},
   "outputs": [
    {
     "name": "stdout",
     "output_type": "stream",
     "text": [
      "<class 'tuple'>\n"
     ]
    }
   ],
   "source": [
    "nums = (1,)\n",
    "print(type(nums))"
   ]
  },
  {
   "cell_type": "code",
   "execution_count": 16,
   "metadata": {},
   "outputs": [
    {
     "name": "stdout",
     "output_type": "stream",
     "text": [
      "<class 'tuple'>\n"
     ]
    }
   ],
   "source": [
    "words = ('word1',)\n",
    "print(type(words))"
   ]
  },
  {
   "cell_type": "code",
   "execution_count": 17,
   "metadata": {},
   "outputs": [
    {
     "name": "stdout",
     "output_type": "stream",
     "text": [
      "<class 'tuple'>\n"
     ]
    }
   ],
   "source": [
    "# tuple without parenthesis\n",
    "guitars = 'yamaha', 'baton rouge', 'taylor'\n",
    "print(type(guitars))"
   ]
  },
  {
   "cell_type": "code",
   "execution_count": 18,
   "metadata": {},
   "outputs": [
    {
     "name": "stdout",
     "output_type": "stream",
     "text": [
      "Maneli Jamal\n",
      "Eddie Van Der Meer\n"
     ]
    }
   ],
   "source": [
    "# tuple unpacking\n",
    "guitarists = ('Maneli Jamal', 'Eddie Van Der Meer', 'Andrew Foy')\n",
    "guitarist1, guitarist2, guitarist3 = guitarists\n",
    "print(guitarist1)\n",
    "print(guitarist2)"
   ]
  },
  {
   "cell_type": "code",
   "execution_count": 19,
   "metadata": {},
   "outputs": [
    {
     "name": "stdout",
     "output_type": "stream",
     "text": [
      "('southern magnolia', ['Tokyo Ghoul Theme'])\n"
     ]
    }
   ],
   "source": [
    "# list inside tuples\n",
    "favorites = ('southern magnolia', ['Tokyo Ghoul Theme', 'landscape'])\n",
    "favorites[1].pop()\n",
    "print(favorites)"
   ]
  },
  {
   "cell_type": "code",
   "execution_count": 20,
   "metadata": {},
   "outputs": [],
   "source": [
    "favorites[1].append('we made it')"
   ]
  },
  {
   "cell_type": "code",
   "execution_count": 21,
   "metadata": {},
   "outputs": [
    {
     "data": {
      "text/plain": [
       "('southern magnolia', ['Tokyo Ghoul Theme', 'we made it'])"
      ]
     },
     "execution_count": 21,
     "metadata": {},
     "output_type": "execute_result"
    }
   ],
   "source": [
    "favorites"
   ]
  },
  {
   "cell_type": "code",
   "execution_count": 22,
   "metadata": {},
   "outputs": [],
   "source": [
    "# function returning two values"
   ]
  },
  {
   "cell_type": "code",
   "execution_count": 23,
   "metadata": {},
   "outputs": [],
   "source": [
    "def func(int1, int2):\n",
    "    add = int1 + int2\n",
    "    multiply = int1 * int2\n",
    "    return add, multiply\n"
   ]
  },
  {
   "cell_type": "code",
   "execution_count": 24,
   "metadata": {},
   "outputs": [
    {
     "name": "stdout",
     "output_type": "stream",
     "text": [
      "(3, 2)\n"
     ]
    }
   ],
   "source": [
    "print(func(1,2))"
   ]
  },
  {
   "cell_type": "code",
   "execution_count": 26,
   "metadata": {},
   "outputs": [
    {
     "name": "stdout",
     "output_type": "stream",
     "text": [
      "3\n",
      "2\n"
     ]
    }
   ],
   "source": [
    "add, multiply = func(1,2)\n",
    "print(add)\n",
    "print(multiply)"
   ]
  },
  {
   "cell_type": "code",
   "execution_count": 1,
   "metadata": {},
   "outputs": [
    {
     "name": "stdout",
     "output_type": "stream",
     "text": [
      "(1, 2, 3, 4, 5, 6, 7, 8, 9, 10)\n"
     ]
    }
   ],
   "source": [
    "# some more about tuples, list, str\n",
    "\n",
    "nums = tuple(range(1,11))\n",
    "print(nums)"
   ]
  },
  {
   "cell_type": "code",
   "execution_count": 2,
   "metadata": {},
   "outputs": [
    {
     "name": "stdout",
     "output_type": "stream",
     "text": [
      "[1, 2, 3, 4, 5, 6, 7, 8, 9, 10]\n"
     ]
    }
   ],
   "source": [
    "nums = list((1,2,3,4,5,6,7,8,9,10))\n",
    "print(nums)"
   ]
  },
  {
   "cell_type": "code",
   "execution_count": 5,
   "metadata": {},
   "outputs": [
    {
     "name": "stdout",
     "output_type": "stream",
     "text": [
      "(1, 2, 3, 4, 5, 6, 7, 8, 9, 10)\n",
      "<class 'str'>\n"
     ]
    }
   ],
   "source": [
    "nums = str((1,2,3,4,5,6,7,8,9,10))\n",
    "# output = \"(1,2,3,4,5,6,7,8,9,10)\"\n",
    "print(nums)\n",
    "print(type(nums))"
   ]
  },
  {
   "cell_type": "code",
   "execution_count": 7,
   "metadata": {},
   "outputs": [
    {
     "name": "stdout",
     "output_type": "stream",
     "text": [
      "[1, 2, 3, 4, 5, 6, 7, 8, 9, 10]\n",
      "<class 'str'>\n"
     ]
    }
   ],
   "source": [
    "num_list = str([1,2,3,4,5,6,7,8,9,10])\n",
    "print(num_list)\n",
    "print(type(num_list))"
   ]
  },
  {
   "cell_type": "code",
   "execution_count": null,
   "metadata": {},
   "outputs": [],
   "source": []
  }
 ],
 "metadata": {
  "kernelspec": {
   "display_name": "Python 3",
   "language": "python",
   "name": "python3"
  },
  "language_info": {
   "codemirror_mode": {
    "name": "ipython",
    "version": 3
   },
   "file_extension": ".py",
   "mimetype": "text/x-python",
   "name": "python",
   "nbconvert_exporter": "python",
   "pygments_lexer": "ipython3",
   "version": "3.7.3"
  }
 },
 "nbformat": 4,
 "nbformat_minor": 2
}
