{
 "cells": [
  {
   "cell_type": "markdown",
   "metadata": {},
   "source": [
    "## Print"
   ]
  },
  {
   "cell_type": "code",
   "execution_count": 1,
   "metadata": {},
   "outputs": [
    {
     "name": "stdout",
     "output_type": "stream",
     "text": [
      "hello\n"
     ]
    }
   ],
   "source": [
    "print(\"hello\")"
   ]
  },
  {
   "cell_type": "code",
   "execution_count": 2,
   "metadata": {},
   "outputs": [
    {
     "name": "stdout",
     "output_type": "stream",
     "text": [
      "hello\n"
     ]
    }
   ],
   "source": [
    "print('hello')"
   ]
  },
  {
   "cell_type": "code",
   "execution_count": 3,
   "metadata": {},
   "outputs": [
    {
     "name": "stdout",
     "output_type": "stream",
     "text": [
      "hello 'world' world\n"
     ]
    }
   ],
   "source": [
    "print(\"hello 'world' world\")"
   ]
  },
  {
   "cell_type": "code",
   "execution_count": 4,
   "metadata": {},
   "outputs": [
    {
     "name": "stdout",
     "output_type": "stream",
     "text": [
      "hello \"world\" world\n"
     ]
    }
   ],
   "source": [
    "print('hello \"world\" world')"
   ]
  },
  {
   "cell_type": "code",
   "execution_count": 7,
   "metadata": {},
   "outputs": [
    {
     "name": "stdout",
     "output_type": "stream",
     "text": [
      "I'm arsalan\n"
     ]
    }
   ],
   "source": [
    "print(\"I'm arsalan\")"
   ]
  },
  {
   "cell_type": "code",
   "execution_count": 9,
   "metadata": {},
   "outputs": [],
   "source": [
    "# print(\"Hello \"world\" world\") # this is error"
   ]
  },
  {
   "cell_type": "code",
   "execution_count": 10,
   "metadata": {},
   "outputs": [],
   "source": [
    "# print('Hello 'world' world') # this is error"
   ]
  },
  {
   "cell_type": "code",
   "execution_count": 82,
   "metadata": {},
   "outputs": [
    {
     "name": "stdout",
     "output_type": "stream",
     "text": [
      "Python\n"
     ]
    }
   ],
   "source": [
    "print(\"Py\"    +     \"thon\")"
   ]
  },
  {
   "cell_type": "code",
   "execution_count": 83,
   "metadata": {},
   "outputs": [
    {
     "data": {
      "text/plain": [
       "'Python'"
      ]
     },
     "execution_count": 83,
     "metadata": {},
     "output_type": "execute_result"
    }
   ],
   "source": [
    "\"Py\"    \"thon\""
   ]
  },
  {
   "cell_type": "code",
   "execution_count": 84,
   "metadata": {},
   "outputs": [
    {
     "name": "stdout",
     "output_type": "stream",
     "text": [
      "\n",
      "Usage: thingy [OPTIONS]\n",
      "    -h                 Dispaly this usage message\n",
      "    -H hostname        Hostname to connect to\n",
      "\n"
     ]
    }
   ],
   "source": [
    "print(\"\"\"\n",
    "Usage: thingy [OPTIONS]\n",
    "    -h                 Dispaly this usage message\n",
    "    -H hostname        Hostname to connect to\n",
    "\"\"\")"
   ]
  },
  {
   "cell_type": "markdown",
   "metadata": {},
   "source": [
    "### Escape Sequence"
   ]
  },
  {
   "cell_type": "code",
   "execution_count": 6,
   "metadata": {},
   "outputs": [
    {
     "name": "stdout",
     "output_type": "stream",
     "text": [
      "Hello \"world\" world\n"
     ]
    }
   ],
   "source": [
    "print(\"Hello \\\"world\\\" world\")"
   ]
  },
  {
   "cell_type": "code",
   "execution_count": 11,
   "metadata": {},
   "outputs": [
    {
     "name": "stdout",
     "output_type": "stream",
     "text": [
      "Hello 'world' world\n"
     ]
    }
   ],
   "source": [
    "print('Hello \\'world\\' world')"
   ]
  },
  {
   "cell_type": "code",
   "execution_count": 12,
   "metadata": {},
   "outputs": [
    {
     "name": "stdout",
     "output_type": "stream",
     "text": [
      "I'm arsalan\n"
     ]
    }
   ],
   "source": [
    "print('I\\'m arsalan')"
   ]
  },
  {
   "cell_type": "code",
   "execution_count": 14,
   "metadata": {},
   "outputs": [
    {
     "name": "stdout",
     "output_type": "stream",
     "text": [
      "line A\n",
      "line B\n"
     ]
    }
   ],
   "source": [
    "print(\"line A\\nline B\")"
   ]
  },
  {
   "cell_type": "code",
   "execution_count": 15,
   "metadata": {},
   "outputs": [
    {
     "name": "stdout",
     "output_type": "stream",
     "text": [
      "line A\n",
      "line B\n",
      "line C\n"
     ]
    }
   ],
   "source": [
    "print(\"line A\\nline B\\nline C\")"
   ]
  },
  {
   "cell_type": "code",
   "execution_count": 16,
   "metadata": {},
   "outputs": [
    {
     "name": "stdout",
     "output_type": "stream",
     "text": [
      "name\tarsalan\n"
     ]
    }
   ],
   "source": [
    "print(\"name\\tarsalan\")"
   ]
  },
  {
   "cell_type": "code",
   "execution_count": 26,
   "metadata": {},
   "outputs": [],
   "source": [
    "#print(\"this is  backslash\\\")\n",
    "# python ka interpreter confuse ky end of line main kya karna hai\n",
    "# iska hal yeh hai k hamesha // backslash use karna"
   ]
  },
  {
   "cell_type": "code",
   "execution_count": 27,
   "metadata": {},
   "outputs": [
    {
     "name": "stdout",
     "output_type": "stream",
     "text": [
      "this is backslash\\\n"
     ]
    }
   ],
   "source": [
    "print(\"this is backslash\\\\\")"
   ]
  },
  {
   "cell_type": "code",
   "execution_count": 28,
   "metadata": {},
   "outputs": [
    {
     "name": "stdout",
     "output_type": "stream",
     "text": [
      "this is double backslash\\\\\n"
     ]
    }
   ],
   "source": [
    "print(\"this is double backslash\\\\\\\\\")"
   ]
  },
  {
   "cell_type": "code",
   "execution_count": 29,
   "metadata": {},
   "outputs": [
    {
     "name": "stdout",
     "output_type": "stream",
     "text": [
      "hell\blo\n"
     ]
    }
   ],
   "source": [
    "print(\"hell\\blo\")"
   ]
  },
  {
   "cell_type": "code",
   "execution_count": 30,
   "metadata": {},
   "outputs": [],
   "source": [
    "# this is comment"
   ]
  },
  {
   "cell_type": "code",
   "execution_count": 31,
   "metadata": {},
   "outputs": [
    {
     "data": {
      "text/plain": [
       "'\\nthis is multi line\\ncomment\\n'"
      ]
     },
     "execution_count": 31,
     "metadata": {},
     "output_type": "execute_result"
    }
   ],
   "source": [
    "'''\n",
    "this is multi line\n",
    "comment\n",
    "'''"
   ]
  },
  {
   "cell_type": "code",
   "execution_count": 33,
   "metadata": {},
   "outputs": [
    {
     "data": {
      "text/plain": [
       "'\\nthis is multi line\\ncomment\\n'"
      ]
     },
     "execution_count": 33,
     "metadata": {},
     "output_type": "execute_result"
    }
   ],
   "source": [
    "\"\"\"\n",
    "this is multi line\n",
    "comment\n",
    "\"\"\""
   ]
  },
  {
   "cell_type": "code",
   "execution_count": 36,
   "metadata": {},
   "outputs": [
    {
     "name": "stdout",
     "output_type": "stream",
     "text": [
      "Line A \\n Line B\n"
     ]
    }
   ],
   "source": [
    "# output : Line A \\n Line B\n",
    "\n",
    "print(\"Line A \\\\n Line B\")"
   ]
  },
  {
   "cell_type": "code",
   "execution_count": 37,
   "metadata": {},
   "outputs": [
    {
     "name": "stdout",
     "output_type": "stream",
     "text": [
      "Line B \\t\n"
     ]
    }
   ],
   "source": [
    "print(\"Line B \\\\t\")"
   ]
  },
  {
   "cell_type": "code",
   "execution_count": 38,
   "metadata": {},
   "outputs": [
    {
     "name": "stdout",
     "output_type": "stream",
     "text": [
      "this is double backslash \\\\\n"
     ]
    }
   ],
   "source": [
    "print(\"this is double backslash \\\\\\\\\")"
   ]
  },
  {
   "cell_type": "code",
   "execution_count": 39,
   "metadata": {},
   "outputs": [
    {
     "name": "stdout",
     "output_type": "stream",
     "text": [
      "this is 4 backslah \\\\\\\\\n"
     ]
    }
   ],
   "source": [
    "print(\"this is 4 backslah \\\\\\\\\\\\\\\\\")"
   ]
  },
  {
   "cell_type": "code",
   "execution_count": 50,
   "metadata": {},
   "outputs": [
    {
     "name": "stdout",
     "output_type": "stream",
     "text": [
      "\\\" \\'\n"
     ]
    }
   ],
   "source": [
    "# output: \\\" \\'\n",
    "print(\"\\\\\\\" \\\\'\")"
   ]
  },
  {
   "cell_type": "code",
   "execution_count": 51,
   "metadata": {},
   "outputs": [
    {
     "data": {
      "text/plain": [
       "512"
      ]
     },
     "execution_count": 51,
     "metadata": {},
     "output_type": "execute_result"
    }
   ],
   "source": [
    "2**3**2**1"
   ]
  },
  {
   "cell_type": "markdown",
   "metadata": {},
   "source": [
    "#### Exercise # 1\n",
    "- *************** Print these following lines***********\n",
    "- this is \\\\\\ double backslash\n",
    "- this is /\\\\/\\\\/\\\\/\\\\ mountain\n",
    "- he is    awesome (use escape sequence instead of manual spaces)\n",
    "- \\\" \\n \\' (print this is an output)"
   ]
  },
  {
   "cell_type": "code",
   "execution_count": 20,
   "metadata": {},
   "outputs": [
    {
     "name": "stdout",
     "output_type": "stream",
     "text": [
      "this is \\\\ double slash\n",
      "this is /\\/\\/\\/\\ mountain\n",
      "he is \tawesome\n",
      "\\\" \\n \\t \\' \n"
     ]
    }
   ],
   "source": [
    "print(\"this is \\\\\\\\ double slash\")\n",
    "print(\"this is /\\/\\/\\/\\ mountain\")\n",
    "print(\"he is \\tawesome\")\n",
    "print(\"\\\\\\\" \\\\n \\\\t \\\\\\' \")"
   ]
  },
  {
   "cell_type": "code",
   "execution_count": 21,
   "metadata": {},
   "outputs": [
    {
     "name": "stdout",
     "output_type": "stream",
     "text": [
      "line A \\n line B\n"
     ]
    }
   ],
   "source": [
    "# Raw strings - r means ignore escape sequence and treat normal text\n",
    "print(r\"line A \\n line B\")"
   ]
  },
  {
   "cell_type": "code",
   "execution_count": 22,
   "metadata": {},
   "outputs": [
    {
     "name": "stdout",
     "output_type": "stream",
     "text": [
      "\\\" \\' \\n \\t \n"
     ]
    }
   ],
   "source": [
    "print(r\"\\\" \\' \\n \\t \")"
   ]
  },
  {
   "cell_type": "code",
   "execution_count": 29,
   "metadata": {},
   "outputs": [
    {
     "name": "stdout",
     "output_type": "stream",
     "text": [
      "😂\n",
      "😕\n"
     ]
    }
   ],
   "source": [
    "# emoji\n",
    "print(\"\\U0001F602\")\n",
    "print(\"\\U0001F615\")"
   ]
  },
  {
   "cell_type": "markdown",
   "metadata": {},
   "source": [
    "### Python as a Calculator"
   ]
  },
  {
   "cell_type": "code",
   "execution_count": 46,
   "metadata": {},
   "outputs": [
    {
     "name": "stdout",
     "output_type": "stream",
     "text": [
      "5\n",
      "14\n",
      "0.5\n",
      "0\n",
      "8\n",
      "1.4142135623730951\n",
      "1.4142\n",
      "20.0\n",
      "1\n",
      "10\n",
      "0.5\n",
      "0.5\n",
      "512\n"
     ]
    }
   ],
   "source": [
    "print(2+3)\n",
    "print(2+3*4)\n",
    "print(2/4)    # floating point division\n",
    "print(2//4)   # integer divison\n",
    "print(2**3)   # exponent\n",
    "print(2**0.5) # squareroot (kun ki underroot kya hota 1/2 or 1/2 = 0.5)\n",
    "print(round(2**0.5, 4))\n",
    "print(2**3/2*6-4*(3-4/2))\n",
    "print(3%2)\n",
    "# PEDMAS (Parentheses,Exponent,Division,Multi,Add,Sub)\n",
    "print((2+3) * 2)\n",
    "\n",
    "# +,- left to right associativity\n",
    "# * , /, // , % left to right associativity\n",
    "print((2+3)*5/2%6)\n",
    "# 5 * 5 / 2 % 6\n",
    "# 25 / 2 % 6\n",
    "# 12.5 % 6\n",
    "# 0.5\n",
    "\n",
    "\n",
    "print(12.5%6)\n",
    "\n",
    "print(2**3**2) # right to left associativity\n",
    "# 2 ** 9\n",
    "# 512"
   ]
  },
  {
   "cell_type": "markdown",
   "metadata": {},
   "source": [
    "## Variables"
   ]
  },
  {
   "cell_type": "code",
   "execution_count": 49,
   "metadata": {},
   "outputs": [
    {
     "name": "stdout",
     "output_type": "stream",
     "text": [
      "2\n",
      "4\n"
     ]
    }
   ],
   "source": [
    "number1 = 2\n",
    "print(number1)\n",
    "\n",
    "number1 = 4\n",
    "print(number1)"
   ]
  },
  {
   "cell_type": "code",
   "execution_count": 52,
   "metadata": {},
   "outputs": [
    {
     "name": "stdout",
     "output_type": "stream",
     "text": [
      "arsalan\n",
      "123\n"
     ]
    }
   ],
   "source": [
    "name = \"arsalan\"\n",
    "print(name)\n",
    "\n",
    "name = 123\n",
    "print(name)"
   ]
  },
  {
   "cell_type": "code",
   "execution_count": 53,
   "metadata": {},
   "outputs": [],
   "source": [
    "# variable naming rule\n",
    "# Rule # 1: variable don't start with number like '1number = 4'\n",
    "# Rule # 2: don't space in variable name\n",
    "# Rule # 3: dont't use special symbols like $, %, #"
   ]
  },
  {
   "cell_type": "code",
   "execution_count": 56,
   "metadata": {},
   "outputs": [],
   "source": [
    "#1name = \"arslala\" # error\n",
    "name1 = \"arsalan\" # ok\n",
    "\n",
    "#name$ = \"arsalan\" # error\n",
    "#$name = \"arslan\" # error\n",
    "\n",
    "_name = \"arsalan\" # ok\n",
    "names_1 = \"arslan\" # ok"
   ]
  },
  {
   "cell_type": "code",
   "execution_count": 54,
   "metadata": {},
   "outputs": [],
   "source": [
    "# naming convention for variables\n",
    "# seperate varible name in _ underscore this is called snake case\n",
    "# like user_one_name\n",
    "# OR\n",
    "# Camel case\n",
    "# userOneName"
   ]
  },
  {
   "cell_type": "markdown",
   "metadata": {},
   "source": [
    "### Strings\n",
    "- Collection of characters inside single quotes and double quotes"
   ]
  },
  {
   "cell_type": "code",
   "execution_count": 1,
   "metadata": {},
   "outputs": [
    {
     "name": "stdout",
     "output_type": "stream",
     "text": [
      "arslan\n",
      "manzoor\n"
     ]
    }
   ],
   "source": [
    "first_name = \"arslan\"\n",
    "last_name = \"manzoor\"\n",
    "print(first_name)\n",
    "print(last_name)"
   ]
  },
  {
   "cell_type": "code",
   "execution_count": 6,
   "metadata": {},
   "outputs": [
    {
     "name": "stdout",
     "output_type": "stream",
     "text": [
      "arslan manzoor\n",
      "arslan manzoor3\n",
      "arslan manzoor3\n",
      "arslan manzoorarslan manzoorarslan manzoor\n"
     ]
    }
   ],
   "source": [
    "first_name = \"arslan\"\n",
    "last_name = \"manzoor\"\n",
    "full_name = first_name+\" \"+last_name\n",
    "print(full_name)\n",
    "\n",
    "# print(full_name+3) # error\n",
    "print(full_name + \"3\") # ok\n",
    "print(full_name + str(3)) # ok\n",
    "print(full_name * 3)"
   ]
  },
  {
   "cell_type": "code",
   "execution_count": 86,
   "metadata": {},
   "outputs": [
    {
     "data": {
      "text/plain": [
       "'unununium'"
      ]
     },
     "execution_count": 86,
     "metadata": {},
     "output_type": "execute_result"
    }
   ],
   "source": [
    "3 * \"un\" + \"ium\""
   ]
  },
  {
   "cell_type": "code",
   "execution_count": 88,
   "metadata": {},
   "outputs": [
    {
     "data": {
      "text/plain": [
       "'Put several strings within parentheses to have them joined together.'"
      ]
     },
     "execution_count": 88,
     "metadata": {},
     "output_type": "execute_result"
    }
   ],
   "source": [
    "text = ('Put several strings within parentheses ' \n",
    "       'to have them joined together.')\n",
    "text"
   ]
  },
  {
   "cell_type": "markdown",
   "metadata": {},
   "source": [
    "### User Input"
   ]
  },
  {
   "cell_type": "code",
   "execution_count": 13,
   "metadata": {},
   "outputs": [
    {
     "name": "stdout",
     "output_type": "stream",
     "text": [
      "Enter your name: arsalan\n",
      "\n",
      "Hello arsalan\n"
     ]
    }
   ],
   "source": [
    "# input() function\n",
    "# input() function return string\n",
    "name = input(\"Enter your name: \")\n",
    "print(\"\\nHello \" + name)"
   ]
  },
  {
   "cell_type": "code",
   "execution_count": 14,
   "metadata": {},
   "outputs": [
    {
     "name": "stdout",
     "output_type": "stream",
     "text": [
      "What is your age? 12\n",
      "your age is 12\n"
     ]
    }
   ],
   "source": [
    "age = input(\"What is your age? \")\n",
    "print(\"your age is \" + age)"
   ]
  },
  {
   "cell_type": "code",
   "execution_count": 16,
   "metadata": {},
   "outputs": [
    {
     "name": "stdout",
     "output_type": "stream",
     "text": [
      "Enter number one: 12\n",
      "Enter number: two: 12\n",
      "total number is 1212\n"
     ]
    }
   ],
   "source": [
    "number_one = input(\"Enter number one: \")\n",
    "number_two = input(\"Enter number: two: \")\n",
    "total = number_one + number_two\n",
    "print(\"total number is \" + total)"
   ]
  },
  {
   "cell_type": "code",
   "execution_count": 20,
   "metadata": {},
   "outputs": [
    {
     "name": "stdout",
     "output_type": "stream",
     "text": [
      "Enter number one: 12\n",
      "Enter number: two: 12\n",
      "total number is 24\n"
     ]
    }
   ],
   "source": [
    "number_one = input(\"Enter number one: \")\n",
    "number_two = input(\"Enter number: two: \")\n",
    "total = int(number_one) + int(number_two)\n",
    "print(\"total number is \" + str(total))\n",
    "\n",
    "# str\n",
    "# 4 ---> \"4\"\n",
    "\n",
    "# int\n",
    "# \"4\" ---> 4"
   ]
  },
  {
   "cell_type": "markdown",
   "metadata": {},
   "source": [
    "### More about variables"
   ]
  },
  {
   "cell_type": "code",
   "execution_count": 22,
   "metadata": {},
   "outputs": [
    {
     "name": "stdout",
     "output_type": "stream",
     "text": [
      "arsalan\n",
      "23\n",
      "Hello arsalan your age is 23\n"
     ]
    }
   ],
   "source": [
    "# name = \"arsalan\"\n",
    "# age = 23 \n",
    "# both are same\n",
    "\n",
    "name, age = \"arsalan\", 23\n",
    "print(name)\n",
    "print(age)\n",
    "\n",
    "print(\"Hello \"+name + \" your age is \"+str(age))"
   ]
  },
  {
   "cell_type": "code",
   "execution_count": 23,
   "metadata": {},
   "outputs": [
    {
     "name": "stdout",
     "output_type": "stream",
     "text": [
      "1\n",
      "1\n",
      "1\n",
      "3\n"
     ]
    }
   ],
   "source": [
    "x = y = z = 1\n",
    "print(x)\n",
    "print(y)\n",
    "print(z)\n",
    "print(x+y+z)"
   ]
  },
  {
   "cell_type": "markdown",
   "metadata": {},
   "source": [
    "### Two Inputs"
   ]
  },
  {
   "cell_type": "code",
   "execution_count": 24,
   "metadata": {},
   "outputs": [
    {
     "name": "stdout",
     "output_type": "stream",
     "text": [
      "Enter your name: arsalan\n",
      "Enter your age: 12\n"
     ]
    }
   ],
   "source": [
    "name = input(\"Enter your name: \")\n",
    "age = input(\"Enter your age: \")"
   ]
  },
  {
   "cell_type": "code",
   "execution_count": 25,
   "metadata": {},
   "outputs": [
    {
     "name": "stdout",
     "output_type": "stream",
     "text": [
      "Enter your name and age: arsalan 23\n",
      "arsalan\n",
      "23\n"
     ]
    }
   ],
   "source": [
    "# by default split use space\n",
    "name, age = input(\"Enter your name and age: \").split()\n",
    "print(name)\n",
    "print(age)"
   ]
  },
  {
   "cell_type": "code",
   "execution_count": 26,
   "metadata": {},
   "outputs": [
    {
     "name": "stdout",
     "output_type": "stream",
     "text": [
      "Enter your name and age: arsalan,23\n",
      "arsalan\n",
      "23\n"
     ]
    }
   ],
   "source": [
    "name, age = input(\"Enter your name and age: \").split(\",\")\n",
    "print(name)\n",
    "print(age)"
   ]
  },
  {
   "cell_type": "markdown",
   "metadata": {},
   "source": [
    "### String Formatting"
   ]
  },
  {
   "cell_type": "code",
   "execution_count": 31,
   "metadata": {},
   "outputs": [
    {
     "name": "stdout",
     "output_type": "stream",
     "text": [
      "hello arsalan your age is 23\n",
      "hello arsalan your age is 25\n",
      "hello arsalan your age is 25\n"
     ]
    }
   ],
   "source": [
    "name = \"arsalan\"\n",
    "age = 23\n",
    "print(\"hello \"+name + \" your age is \"+str(age)) # Ugly Syntax\n",
    "\n",
    "# string formatting python 3\n",
    "print(\"hello {} your age is {}\".format(name,age+2))\n",
    "\n",
    "\n",
    "# string formatting python 3.6\n",
    "print(f\"hello {name} your age is {age+2}\") # clean code"
   ]
  },
  {
   "cell_type": "markdown",
   "metadata": {},
   "source": [
    "#### Exercise # 1\n",
    "- Ask user to input 3 numbers and you have to print average of the numbers using string formatting.\n",
    "- Bonus:- Try to take all three seperated inputs in one line."
   ]
  },
  {
   "cell_type": "code",
   "execution_count": 54,
   "metadata": {},
   "outputs": [
    {
     "name": "stdout",
     "output_type": "stream",
     "text": [
      "Enter 1st number: 1\n",
      "Enter 2nd number: 2\n",
      "Enter 3rd number: 2\n",
      "average of three numbers 1.6666666666666667\n"
     ]
    }
   ],
   "source": [
    "num_1 = input(\"Enter 1st number: \")\n",
    "num_2 = input(\"Enter 2nd number: \")\n",
    "num_3 = input(\"Enter 3rd number: \")\n",
    "\n",
    "print(f\"average of three numbers {(int(num_1)+int(num_2)+int(num_3))/3}\")"
   ]
  },
  {
   "cell_type": "code",
   "execution_count": 56,
   "metadata": {},
   "outputs": [
    {
     "name": "stdout",
     "output_type": "stream",
     "text": [
      "Enter 1st,2nd,3rd Number: 2,2,1\n",
      "Your average is 1.6666666666666667\n"
     ]
    }
   ],
   "source": [
    "num_1,num_2,num_3 = input(\"Enter 1st,2nd,3rd Number: \").split(\",\")\n",
    "\n",
    "print(f\"Your average is {(int(num_1) + int(num_2) + int(num_3))/3}\")"
   ]
  },
  {
   "cell_type": "markdown",
   "metadata": {},
   "source": [
    "### String Indexing"
   ]
  },
  {
   "cell_type": "code",
   "execution_count": 62,
   "metadata": {},
   "outputs": [
    {
     "name": "stdout",
     "output_type": "stream",
     "text": [
      "t\n",
      "p\n",
      "o\n"
     ]
    }
   ],
   "source": [
    "language = \"python\"\n",
    "\n",
    "# positions (index number)\n",
    "# starting position\n",
    "\n",
    "# p = 0\n",
    "# y = 1\n",
    "# t = 2\n",
    "# h = 3\n",
    "# o = 4\n",
    "# n = 5\n",
    "\n",
    "print(language[2])\n",
    "print(language[0])\n",
    "print(language[4])"
   ]
  },
  {
   "cell_type": "code",
   "execution_count": 63,
   "metadata": {},
   "outputs": [
    {
     "name": "stdout",
     "output_type": "stream",
     "text": [
      "n\n",
      "o\n",
      "h\n"
     ]
    }
   ],
   "source": [
    "language = \"python\"\n",
    "\n",
    "# positions (index number)\n",
    "# ending position\n",
    "\n",
    "# p = 0 ----> -6\n",
    "# y = 1 ----> -5\n",
    "# t = 2 ----> -4\n",
    "# h = 3 ----> -3\n",
    "# o = 4 ----> -2\n",
    "# n = 5 --- > -1\n",
    "\n",
    "print(language[-1])\n",
    "print(language[-2])\n",
    "print(language[-3])"
   ]
  },
  {
   "cell_type": "markdown",
   "metadata": {},
   "source": [
    "### Slicing"
   ]
  },
  {
   "cell_type": "code",
   "execution_count": 93,
   "metadata": {},
   "outputs": [
    {
     "name": "stdout",
     "output_type": "stream",
     "text": [
      "pyth\n",
      "yt\n",
      "py\n",
      "y\n",
      "ho\n",
      "python\n",
      "python\n",
      "pytho\n",
      "on\n",
      "\n"
     ]
    }
   ],
   "source": [
    "# ek sy ziyada character print karwana hai to use karengy slicing\n",
    "lang = \"python\"\n",
    "\n",
    "# syntax ---> [start argument: stop argument - 1 : step]\n",
    "# synatx ---> [1 : 4 - 1]\n",
    "\n",
    "print(lang[0:4])\n",
    "print(lang[1:3])\n",
    "print(lang[0:2])\n",
    "print(lang[1:2])\n",
    "print(lang[-3:-1])\n",
    "print(lang[:])\n",
    "print(lang[0:])\n",
    "print(lang[:-1])\n",
    "print(lang[4:42])\n",
    "print(lang[42:])"
   ]
  },
  {
   "cell_type": "code",
   "execution_count": 91,
   "metadata": {},
   "outputs": [
    {
     "data": {
      "text/plain": [
       "'Jython'"
      ]
     },
     "execution_count": 91,
     "metadata": {},
     "output_type": "execute_result"
    }
   ],
   "source": [
    "'J' + lang[1:]"
   ]
  },
  {
   "cell_type": "code",
   "execution_count": 109,
   "metadata": {},
   "outputs": [
    {
     "name": "stdout",
     "output_type": "stream",
     "text": [
      "arsal\n",
      "arsal\n",
      "asl\n",
      "asln\n",
      "aan\n",
      "aan\n",
      "alasra\n",
      "nalasra\n",
      "nalasra\n"
     ]
    }
   ],
   "source": [
    "# step argument\n",
    "print(\"arsalan\"[0:5])\n",
    "print(\"arsalan\"[0:5:1])\n",
    "print(\"arsalan\"[0:5:2])\n",
    "print(\"arsalan\"[0::2])\n",
    "print(\"arsalan\"[0::3])\n",
    "print(\"arsalan\"[::3])\n",
    "print(\"arsalan\"[5::-1])\n",
    "print(\"arsalan\"[::-1]) # same\n",
    "print(\"arsalan\"[-1::-1]) # same"
   ]
  },
  {
   "cell_type": "markdown",
   "metadata": {},
   "source": [
    "### Exercise # 2\n",
    "- Ask user name and print back user name in reverse order.\n",
    "- Note:- try to make your program in 2 lines using string formatting."
   ]
  },
  {
   "cell_type": "code",
   "execution_count": 116,
   "metadata": {},
   "outputs": [
    {
     "name": "stdout",
     "output_type": "stream",
     "text": [
      "Enter your name: man\n",
      "\n",
      "reverse order: nam\n"
     ]
    }
   ],
   "source": [
    "user_name = input(\"Enter your name: \")\n",
    "print(f\"\\nreverse order: {user_name[::-1]}\")"
   ]
  },
  {
   "cell_type": "code",
   "execution_count": 117,
   "metadata": {},
   "outputs": [
    {
     "name": "stdout",
     "output_type": "stream",
     "text": [
      "Enter your name: hello\n",
      "\n",
      "reverse order: olleh\n"
     ]
    }
   ],
   "source": [
    "user_name = input(\"Enter your name: \")\n",
    "reverse_name = user_name[::-1]\n",
    "print(f\"\\nreverse order: {reverse_name}\")"
   ]
  },
  {
   "cell_type": "code",
   "execution_count": null,
   "metadata": {},
   "outputs": [],
   "source": []
  }
 ],
 "metadata": {
  "kernelspec": {
   "display_name": "Python 3",
   "language": "python",
   "name": "python3"
  },
  "language_info": {
   "codemirror_mode": {
    "name": "ipython",
    "version": 3
   },
   "file_extension": ".py",
   "mimetype": "text/x-python",
   "name": "python",
   "nbconvert_exporter": "python",
   "pygments_lexer": "ipython3",
   "version": "3.7.3"
  }
 },
 "nbformat": 4,
 "nbformat_minor": 2
}
