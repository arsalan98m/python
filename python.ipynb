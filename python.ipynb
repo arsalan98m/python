{
 "cells": [
  {
   "cell_type": "markdown",
   "metadata": {},
   "source": [
    "## Print"
   ]
  },
  {
   "cell_type": "code",
   "execution_count": 1,
   "metadata": {},
   "outputs": [
    {
     "name": "stdout",
     "output_type": "stream",
     "text": [
      "hello\n"
     ]
    }
   ],
   "source": [
    "print(\"hello\")"
   ]
  },
  {
   "cell_type": "code",
   "execution_count": 2,
   "metadata": {},
   "outputs": [
    {
     "name": "stdout",
     "output_type": "stream",
     "text": [
      "hello\n"
     ]
    }
   ],
   "source": [
    "print('hello')"
   ]
  },
  {
   "cell_type": "code",
   "execution_count": 3,
   "metadata": {},
   "outputs": [
    {
     "name": "stdout",
     "output_type": "stream",
     "text": [
      "hello 'world' world\n"
     ]
    }
   ],
   "source": [
    "print(\"hello 'world' world\")"
   ]
  },
  {
   "cell_type": "code",
   "execution_count": 4,
   "metadata": {},
   "outputs": [
    {
     "name": "stdout",
     "output_type": "stream",
     "text": [
      "hello \"world\" world\n"
     ]
    }
   ],
   "source": [
    "print('hello \"world\" world')"
   ]
  },
  {
   "cell_type": "code",
   "execution_count": 7,
   "metadata": {},
   "outputs": [
    {
     "name": "stdout",
     "output_type": "stream",
     "text": [
      "I'm arsalan\n"
     ]
    }
   ],
   "source": [
    "print(\"I'm arsalan\")"
   ]
  },
  {
   "cell_type": "code",
   "execution_count": 9,
   "metadata": {},
   "outputs": [],
   "source": [
    "# print(\"Hello \"world\" world\") # this is error"
   ]
  },
  {
   "cell_type": "code",
   "execution_count": 10,
   "metadata": {},
   "outputs": [],
   "source": [
    "# print('Hello 'world' world') # this is error"
   ]
  },
  {
   "cell_type": "markdown",
   "metadata": {},
   "source": [
    "### Escape Sequence"
   ]
  },
  {
   "cell_type": "code",
   "execution_count": 6,
   "metadata": {},
   "outputs": [
    {
     "name": "stdout",
     "output_type": "stream",
     "text": [
      "Hello \"world\" world\n"
     ]
    }
   ],
   "source": [
    "print(\"Hello \\\"world\\\" world\")"
   ]
  },
  {
   "cell_type": "code",
   "execution_count": 11,
   "metadata": {},
   "outputs": [
    {
     "name": "stdout",
     "output_type": "stream",
     "text": [
      "Hello 'world' world\n"
     ]
    }
   ],
   "source": [
    "print('Hello \\'world\\' world')"
   ]
  },
  {
   "cell_type": "code",
   "execution_count": 12,
   "metadata": {},
   "outputs": [
    {
     "name": "stdout",
     "output_type": "stream",
     "text": [
      "I'm arsalan\n"
     ]
    }
   ],
   "source": [
    "print('I\\'m arsalan')"
   ]
  },
  {
   "cell_type": "code",
   "execution_count": 14,
   "metadata": {},
   "outputs": [
    {
     "name": "stdout",
     "output_type": "stream",
     "text": [
      "line A\n",
      "line B\n"
     ]
    }
   ],
   "source": [
    "print(\"line A\\nline B\")"
   ]
  },
  {
   "cell_type": "code",
   "execution_count": 15,
   "metadata": {},
   "outputs": [
    {
     "name": "stdout",
     "output_type": "stream",
     "text": [
      "line A\n",
      "line B\n",
      "line C\n"
     ]
    }
   ],
   "source": [
    "print(\"line A\\nline B\\nline C\")"
   ]
  },
  {
   "cell_type": "code",
   "execution_count": 16,
   "metadata": {},
   "outputs": [
    {
     "name": "stdout",
     "output_type": "stream",
     "text": [
      "name\tarsalan\n"
     ]
    }
   ],
   "source": [
    "print(\"name\\tarsalan\")"
   ]
  },
  {
   "cell_type": "code",
   "execution_count": 26,
   "metadata": {},
   "outputs": [],
   "source": [
    "#print(\"this is  backslash\\\")\n",
    "# python ka interpreter confuse ky end of line main kya karna hai\n",
    "# iska hal yeh hai k hamesha // backslash use karna"
   ]
  },
  {
   "cell_type": "code",
   "execution_count": 27,
   "metadata": {},
   "outputs": [
    {
     "name": "stdout",
     "output_type": "stream",
     "text": [
      "this is backslash\\\n"
     ]
    }
   ],
   "source": [
    "print(\"this is backslash\\\\\")"
   ]
  },
  {
   "cell_type": "code",
   "execution_count": 28,
   "metadata": {},
   "outputs": [
    {
     "name": "stdout",
     "output_type": "stream",
     "text": [
      "this is double backslash\\\\\n"
     ]
    }
   ],
   "source": [
    "print(\"this is double backslash\\\\\\\\\")"
   ]
  },
  {
   "cell_type": "code",
   "execution_count": 29,
   "metadata": {},
   "outputs": [
    {
     "name": "stdout",
     "output_type": "stream",
     "text": [
      "hell\blo\n"
     ]
    }
   ],
   "source": [
    "print(\"hell\\blo\")"
   ]
  },
  {
   "cell_type": "code",
   "execution_count": 30,
   "metadata": {},
   "outputs": [],
   "source": [
    "# this is comment"
   ]
  },
  {
   "cell_type": "code",
   "execution_count": 31,
   "metadata": {},
   "outputs": [
    {
     "data": {
      "text/plain": [
       "'\\nthis is multi line\\ncomment\\n'"
      ]
     },
     "execution_count": 31,
     "metadata": {},
     "output_type": "execute_result"
    }
   ],
   "source": [
    "'''\n",
    "this is multi line\n",
    "comment\n",
    "'''"
   ]
  },
  {
   "cell_type": "code",
   "execution_count": 33,
   "metadata": {},
   "outputs": [
    {
     "data": {
      "text/plain": [
       "'\\nthis is multi line\\ncomment\\n'"
      ]
     },
     "execution_count": 33,
     "metadata": {},
     "output_type": "execute_result"
    }
   ],
   "source": [
    "\"\"\"\n",
    "this is multi line\n",
    "comment\n",
    "\"\"\""
   ]
  },
  {
   "cell_type": "code",
   "execution_count": 36,
   "metadata": {},
   "outputs": [
    {
     "name": "stdout",
     "output_type": "stream",
     "text": [
      "Line A \\n Line B\n"
     ]
    }
   ],
   "source": [
    "# output : Line A \\n Line B\n",
    "\n",
    "print(\"Line A \\\\n Line B\")"
   ]
  },
  {
   "cell_type": "code",
   "execution_count": 37,
   "metadata": {},
   "outputs": [
    {
     "name": "stdout",
     "output_type": "stream",
     "text": [
      "Line B \\t\n"
     ]
    }
   ],
   "source": [
    "print(\"Line B \\\\t\")"
   ]
  },
  {
   "cell_type": "code",
   "execution_count": 38,
   "metadata": {},
   "outputs": [
    {
     "name": "stdout",
     "output_type": "stream",
     "text": [
      "this is double backslash \\\\\n"
     ]
    }
   ],
   "source": [
    "print(\"this is double backslash \\\\\\\\\")"
   ]
  },
  {
   "cell_type": "code",
   "execution_count": 39,
   "metadata": {},
   "outputs": [
    {
     "name": "stdout",
     "output_type": "stream",
     "text": [
      "this is 4 backslah \\\\\\\\\n"
     ]
    }
   ],
   "source": [
    "print(\"this is 4 backslah \\\\\\\\\\\\\\\\\")"
   ]
  },
  {
   "cell_type": "code",
   "execution_count": 50,
   "metadata": {},
   "outputs": [
    {
     "name": "stdout",
     "output_type": "stream",
     "text": [
      "\\\" \\'\n"
     ]
    }
   ],
   "source": [
    "# output: \\\" \\'\n",
    "print(\"\\\\\\\" \\\\'\")"
   ]
  },
  {
   "cell_type": "code",
   "execution_count": 51,
   "metadata": {},
   "outputs": [
    {
     "data": {
      "text/plain": [
       "512"
      ]
     },
     "execution_count": 51,
     "metadata": {},
     "output_type": "execute_result"
    }
   ],
   "source": [
    "2**3**2**1"
   ]
  },
  {
   "cell_type": "markdown",
   "metadata": {},
   "source": [
    "#### Exercise # 1\n",
    "- *************** Print these following lines***********\n",
    "- this is \\\\\\ double backslash\n",
    "- this is /\\\\/\\\\/\\\\/\\\\ mountain\n",
    "- he is    awesome (use escape sequence instead of manual spaces)\n",
    "- \\\" \\n \\' (print this is an output)"
   ]
  },
  {
   "cell_type": "code",
   "execution_count": 20,
   "metadata": {},
   "outputs": [
    {
     "name": "stdout",
     "output_type": "stream",
     "text": [
      "this is \\\\ double slash\n",
      "this is /\\/\\/\\/\\ mountain\n",
      "he is \tawesome\n",
      "\\\" \\n \\t \\' \n"
     ]
    }
   ],
   "source": [
    "print(\"this is \\\\\\\\ double slash\")\n",
    "print(\"this is /\\/\\/\\/\\ mountain\")\n",
    "print(\"he is \\tawesome\")\n",
    "print(\"\\\\\\\" \\\\n \\\\t \\\\\\' \")"
   ]
  },
  {
   "cell_type": "code",
   "execution_count": 21,
   "metadata": {},
   "outputs": [
    {
     "name": "stdout",
     "output_type": "stream",
     "text": [
      "line A \\n line B\n"
     ]
    }
   ],
   "source": [
    "# Raw strings - r means ignore escape sequence and treat normal text\n",
    "print(r\"line A \\n line B\")"
   ]
  },
  {
   "cell_type": "code",
   "execution_count": 22,
   "metadata": {},
   "outputs": [
    {
     "name": "stdout",
     "output_type": "stream",
     "text": [
      "\\\" \\' \\n \\t \n"
     ]
    }
   ],
   "source": [
    "print(r\"\\\" \\' \\n \\t \")"
   ]
  },
  {
   "cell_type": "code",
   "execution_count": 29,
   "metadata": {},
   "outputs": [
    {
     "name": "stdout",
     "output_type": "stream",
     "text": [
      "😂\n",
      "😕\n"
     ]
    }
   ],
   "source": [
    "# emoji\n",
    "print(\"\\U0001F602\")\n",
    "print(\"\\U0001F615\")"
   ]
  },
  {
   "cell_type": "markdown",
   "metadata": {},
   "source": [
    "### Python as a Calculator"
   ]
  },
  {
   "cell_type": "code",
   "execution_count": 46,
   "metadata": {},
   "outputs": [
    {
     "name": "stdout",
     "output_type": "stream",
     "text": [
      "5\n",
      "14\n",
      "0.5\n",
      "0\n",
      "8\n",
      "1.4142135623730951\n",
      "1.4142\n",
      "20.0\n",
      "1\n",
      "10\n",
      "0.5\n",
      "0.5\n",
      "512\n"
     ]
    }
   ],
   "source": [
    "print(2+3)\n",
    "print(2+3*4)\n",
    "print(2/4)    # floating point division\n",
    "print(2//4)   # integer divison\n",
    "print(2**3)   # exponent\n",
    "print(2**0.5) # squareroot (kun ki underroot kya hota 1/2 or 1/2 = 0.5)\n",
    "print(round(2**0.5, 4))\n",
    "print(2**3/2*6-4*(3-4/2))\n",
    "print(3%2)\n",
    "# PEDMAS (Parentheses,Exponent,Division,Multi,Add,Sub)\n",
    "print((2+3) * 2)\n",
    "\n",
    "# +,- left to right associativity\n",
    "# * , /, // , % left to right associativity\n",
    "print((2+3)*5/2%6)\n",
    "# 5 * 5 / 2 % 6\n",
    "# 25 / 2 % 6\n",
    "# 12.5 % 6\n",
    "# 0.5\n",
    "\n",
    "\n",
    "print(12.5%6)\n",
    "\n",
    "print(2**3**2) # right to left associativity\n",
    "# 2 ** 9\n",
    "# 512"
   ]
  },
  {
   "cell_type": "markdown",
   "metadata": {},
   "source": [
    "## Variables"
   ]
  },
  {
   "cell_type": "code",
   "execution_count": 49,
   "metadata": {},
   "outputs": [
    {
     "name": "stdout",
     "output_type": "stream",
     "text": [
      "2\n",
      "4\n"
     ]
    }
   ],
   "source": [
    "number1 = 2\n",
    "print(number1)\n",
    "\n",
    "number1 = 4\n",
    "print(number1)"
   ]
  },
  {
   "cell_type": "code",
   "execution_count": 52,
   "metadata": {},
   "outputs": [
    {
     "name": "stdout",
     "output_type": "stream",
     "text": [
      "arsalan\n",
      "123\n"
     ]
    }
   ],
   "source": [
    "name = \"arsalan\"\n",
    "print(name)\n",
    "\n",
    "name = 123\n",
    "print(name)"
   ]
  },
  {
   "cell_type": "code",
   "execution_count": 53,
   "metadata": {},
   "outputs": [],
   "source": [
    "# variable naming rule\n",
    "# Rule # 1: variable don't start with number like '1number = 4'\n",
    "# Rule # 2: don't space in variable name\n",
    "# Rule # 3: dont't use special symbols like $, %, #"
   ]
  },
  {
   "cell_type": "code",
   "execution_count": 56,
   "metadata": {},
   "outputs": [],
   "source": [
    "#1name = \"arslala\" # error\n",
    "name1 = \"arsalan\" # ok\n",
    "\n",
    "#name$ = \"arsalan\" # error\n",
    "#$name = \"arslan\" # error\n",
    "\n",
    "_name = \"arsalan\" # ok\n",
    "names_1 = \"arslan\" # ok"
   ]
  },
  {
   "cell_type": "code",
   "execution_count": 54,
   "metadata": {},
   "outputs": [],
   "source": [
    "# naming convention for variables\n",
    "# seperate varible name in _ underscore this is called snake case\n",
    "# like user_one_name\n",
    "# OR\n",
    "# Camel case\n",
    "# userOneName"
   ]
  },
  {
   "cell_type": "code",
   "execution_count": null,
   "metadata": {},
   "outputs": [],
   "source": []
  }
 ],
 "metadata": {
  "kernelspec": {
   "display_name": "Python 3",
   "language": "python",
   "name": "python3"
  },
  "language_info": {
   "codemirror_mode": {
    "name": "ipython",
    "version": 3
   },
   "file_extension": ".py",
   "mimetype": "text/x-python",
   "name": "python",
   "nbconvert_exporter": "python",
   "pygments_lexer": "ipython3",
   "version": "3.7.3"
  }
 },
 "nbformat": 4,
 "nbformat_minor": 2
}
